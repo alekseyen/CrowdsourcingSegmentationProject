{
 "cells": [
  {
   "cell_type": "code",
   "execution_count": 1,
   "id": "ec775138",
   "metadata": {},
   "outputs": [],
   "source": [
    "%load_ext autoreload"
   ]
  },
  {
   "cell_type": "code",
   "execution_count": 2,
   "id": "ee527d59",
   "metadata": {},
   "outputs": [],
   "source": [
    "%autoreload 2"
   ]
  },
  {
   "cell_type": "code",
   "execution_count": null,
   "id": "1045b884",
   "metadata": {},
   "outputs": [],
   "source": [
    "import pytorch_lightning as pl"
   ]
  },
  {
   "cell_type": "code",
   "execution_count": null,
   "id": "735284dd",
   "metadata": {},
   "outputs": [],
   "source": [
    "import pandas as pd\n",
    "import ipyplot\n",
    "import torch\n",
    "import pytorch_lightning as pl\n",
    "from sklearn.metrics import f1_score\n",
    "%matplotlib inline"
   ]
  },
  {
   "cell_type": "code",
   "execution_count": null,
   "id": "5a54929f",
   "metadata": {},
   "outputs": [],
   "source": [
    "from src.model import ImageClassifier\n",
    "from src.utils import ImagesDataset, evaluate_model\n",
    "from src.transforms import transform\n",
    "from src import params"
   ]
  },
  {
   "cell_type": "markdown",
   "id": "76444aad",
   "metadata": {},
   "source": [
    "# Load dataset"
   ]
  },
  {
   "cell_type": "code",
   "execution_count": null,
   "id": "c22e12f5",
   "metadata": {},
   "outputs": [],
   "source": [
    "train_df = pd.read_csv('train_labelled.csv')\n",
    "train_df.head()"
   ]
  },
  {
   "cell_type": "code",
   "execution_count": null,
   "id": "7cb5d4d4",
   "metadata": {},
   "outputs": [],
   "source": [
    "train_image_paths = train_df.img_path.values\n",
    "train_labels = train_df.label.values"
   ]
  },
  {
   "cell_type": "code",
   "execution_count": null,
   "id": "39de2ab6",
   "metadata": {},
   "outputs": [],
   "source": [
    "len(train_image_paths)"
   ]
  },
  {
   "cell_type": "code",
   "execution_count": null,
   "id": "ec4a5495",
   "metadata": {},
   "outputs": [],
   "source": [
    "ipyplot.plot_class_tabs(train_image_paths, train_labels)"
   ]
  },
  {
   "cell_type": "markdown",
   "id": "c2019cc3",
   "metadata": {},
   "source": [
    "# Prepare model"
   ]
  },
  {
   "cell_type": "code",
   "execution_count": null,
   "id": "69d432db",
   "metadata": {},
   "outputs": [],
   "source": [
    "train_dataset = ImagesDataset(train_image_paths, train_labels, transform=transform)"
   ]
  },
  {
   "cell_type": "code",
   "execution_count": null,
   "id": "cc64dab6",
   "metadata": {},
   "outputs": [],
   "source": [
    "train_loader = torch.utils.data.DataLoader(train_dataset, \n",
    "                                           batch_size=params.BATCH_SIZE,\n",
    "                                           num_workers=16,\n",
    "                                           shuffle=False)"
   ]
  },
  {
   "cell_type": "code",
   "execution_count": 12,
   "id": "47c35ffa",
   "metadata": {},
   "outputs": [],
   "source": [
    "# Run macos_cert_fix.py if you are getting ssl errors\n",
    "model = ImageClassifier(learning_rate=params.LEARNING_RATE)"
   ]
  },
  {
   "cell_type": "code",
   "execution_count": 13,
   "id": "3b805b49",
   "metadata": {},
   "outputs": [
    {
     "name": "stderr",
     "output_type": "stream",
     "text": [
      "GPU available: False, used: False\n",
      "TPU available: False, using: 0 TPU cores\n",
      "IPU available: False, using: 0 IPUs\n",
      "/Library/Frameworks/Python.framework/Versions/3.9/lib/python3.9/site-packages/pytorch_lightning/trainer/configuration_validator.py:101: UserWarning: you defined a validation_step but have no val_dataloader. Skipping val loop\n",
      "  rank_zero_warn(f\"you defined a {step_name} but have no {loader_name}. Skipping {stage} loop\")\n",
      "\n",
      "  | Name  | Type         | Params\n",
      "---------------------------------------\n",
      "0 | trunk | EfficientNet | 2.2 M \n",
      "---------------------------------------\n",
      "2.2 M     Trainable params\n",
      "0         Non-trainable params\n",
      "2.2 M     Total params\n",
      "8.906     Total estimated model params size (MB)\n"
     ]
    },
    {
     "name": "stdout",
     "output_type": "stream",
     "text": [
      "                                           "
     ]
    },
    {
     "name": "stderr",
     "output_type": "stream",
     "text": [
      "/Library/Frameworks/Python.framework/Versions/3.9/lib/python3.9/site-packages/pytorch_lightning/trainer/data_loading.py:322: UserWarning: The number of training samples (16) is smaller than the logging interval Trainer(log_every_n_steps=50). Set a lower value for log_every_n_steps if you want to see logs for the training epoch.\n",
      "  rank_zero_warn(\n"
     ]
    },
    {
     "name": "stdout",
     "output_type": "stream",
     "text": [
      "Epoch 0:   0%|          | 0/16 [00:00<00:00, 394.13it/s]  "
     ]
    },
    {
     "name": "stderr",
     "output_type": "stream",
     "text": [
      "/Library/Frameworks/Python.framework/Versions/3.9/lib/python3.9/site-packages/pytorch_lightning/trainer/trainer.py:1046: UserWarning: Detected KeyboardInterrupt, attempting graceful shutdown...\n",
      "  rank_zero_warn(\"Detected KeyboardInterrupt, attempting graceful shutdown...\")\n"
     ]
    }
   ],
   "source": [
    "trainer = pl.Trainer(\n",
    "    max_epochs=params.MAX_EPOCHS,\n",
    "    log_every_n_steps=-1, # Change to enable tensorboard logging\n",
    "    #gpus=-1, # Uncomment to use GPU training\n",
    ")\n",
    "trainer.fit(model, train_loader)"
   ]
  },
  {
   "cell_type": "markdown",
   "id": "d1fd1ce8",
   "metadata": {},
   "source": [
    "# Compute training set accuracy"
   ]
  },
  {
   "cell_type": "code",
   "execution_count": 14,
   "id": "cb227c4b",
   "metadata": {},
   "outputs": [
    {
     "name": "stderr",
     "output_type": "stream",
     "text": [
      "100%|██████████| 32/32 [00:32<00:00,  1.02s/it]\n"
     ]
    }
   ],
   "source": [
    "labels, predictions = evaluate_model(model, train_dataset)"
   ]
  },
  {
   "cell_type": "code",
   "execution_count": 15,
   "id": "c923902f",
   "metadata": {},
   "outputs": [
    {
     "data": {
      "text/plain": [
       "0.14939309056956118"
      ]
     },
     "execution_count": 15,
     "metadata": {},
     "output_type": "execute_result"
    }
   ],
   "source": [
    "f1_score(labels, predictions, labels=1, average='binary')"
   ]
  },
  {
   "cell_type": "markdown",
   "id": "82aadc63",
   "metadata": {},
   "source": [
    "# Save model"
   ]
  },
  {
   "cell_type": "code",
   "execution_count": 16,
   "id": "ee5a33bc",
   "metadata": {},
   "outputs": [],
   "source": [
    "trainer.save_checkpoint(\"model.ckpt\")"
   ]
  },
  {
   "cell_type": "code",
   "execution_count": null,
   "id": "3af98217",
   "metadata": {},
   "outputs": [],
   "source": []
  }
 ],
 "metadata": {
  "interpreter": {
   "hash": "aee8b7b246df8f9039afb4144a1f6fd8d2ca17a180786b69acc140d282b71a49"
  },
  "kernelspec": {
   "display_name": "Python 3 (ipykernel)",
   "language": "python",
   "name": "python3"
  },
  "language_info": {
   "codemirror_mode": {
    "name": "ipython",
    "version": 3
   },
   "file_extension": ".py",
   "mimetype": "text/x-python",
   "name": "python",
   "nbconvert_exporter": "python",
   "pygments_lexer": "ipython3",
   "version": "3.9.7"
  }
 },
 "nbformat": 4,
 "nbformat_minor": 5
}
