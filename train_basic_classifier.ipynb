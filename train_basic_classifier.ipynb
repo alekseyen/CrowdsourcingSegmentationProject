{
  "cells": [
    {
      "cell_type": "markdown",
      "source": [
        "# Разметка\n",
        "Для разметки автомобильных номеров в проекте толоки мы использовали 3 класса:\n",
        "- yes - гражданский российский номер современного образца\n",
        "- no - номер транспортного средства, который не соотвествует yes\n",
        "- other - не является фотографией номера транспортного средства\n",
        "\n",
        "В инструкции мы расписали все крайние случаи, которые нашли в размеченном датасете. Например, у тракторных номеров может не быть надписи RUS и флага, а российские номера с черным фоном не являются гражданскими.  Так как мы ориентировались на русскоязычных толокеров, то инструкция была соответственно на русском. \n",
        "\n",
        "Для начала мы решили разметить 2000 картинок, чтобы обучить на них бейзалйн и, применив к остальным 6500, выбрать 3700 картинок с наименьшим confidence, чтобы дообучить модель. \n",
        "\n",
        "В обоих пулах мы использовали обучение толокеров, где собрали 10 вопросов, покрывающих большинство возможных вариантов, и одинаковый контроль качества. \n",
        "\n",
        "Контроль качества в нашем проекте включает:\n",
        "- Допуск толокеров, которые ответили правильно как минимум на 6 из 10 вопросов обучения.\n",
        "- Бан тех, кто 5 раз подярд сдал задание быстрее, чем за 7 секунд.\n",
        "- Допуск по скиллу классификации номеров, который мы сами вычисляем как процент правильных ответов на последних 10 контрольных заданяих (но не менее 4-ех). На каждой странице с заданием случайно вмешивается одно контрольное задание."
      ],
      "metadata": {
        "id": "YV3YQ45Qm7dP"
      },
      "id": "YV3YQ45Qm7dP"
    },
    {
      "cell_type": "markdown",
      "source": [
        "# Обучение\n",
        "В качестве модели классификации мы выбрали MobileNetV2, предобученный на ImageNet.\n",
        "\n",
        "Бейслайн обучался на 2000 размеченных изображениях в конфигурации \n",
        "- 10 эпох\n",
        "- AdamW\n",
        "- lr=1e-4\n",
        "- batch_size=64\n",
        "- ресайз к размеру (3, 100, 100)\n",
        "- нормализация на среднее (0.5, 0.5, 0.5) и дисперсию (0.5, 0.5, 0.5)\n",
        "\n",
        "Он достиг `f1-score = 0.88` на трейне. Наиболее неуверенные 3700 кейсов были отправлены на разметку.\n",
        "\n",
        "В произвольном порядке были перебраны некоторые параметры выше. Лучшая модель обучалась на 5900 размеченных изображениях в конфигурации\n",
        "- 16 эпох\n",
        "- Adam\n",
        "- lr=1e-3\n",
        "- batch_size=64\n",
        "- паддинг & кроп к размеру (3, 224, 224)\n",
        "- вес 6 на таргет класс российских номеров\n",
        "- нормализация на среднее и дисперсию ImageNet\n",
        "- FP16\n",
        "\n",
        "Лучшая модель достигла `f1-score = 1` на трейне и `f1-score = 0.99` на публичном тесте"
      ],
      "metadata": {
        "id": "B0Q8dwl0tALs"
      },
      "id": "B0Q8dwl0tALs"
    },
    {
      "cell_type": "code",
      "execution_count": null,
      "metadata": {
        "id": "ee527d59"
      },
      "outputs": [],
      "source": [
        "%load_ext autoreload\n",
        "%autoreload 2"
      ],
      "id": "ee527d59"
    },
    {
      "cell_type": "code",
      "execution_count": 43,
      "metadata": {
        "colab": {
          "base_uri": "https://localhost:8080/"
        },
        "id": "88208149-0bec-4d84-b956-c7f761c9141c",
        "outputId": "c5508068-4aa9-440a-b5dd-a96f1bbdbe56"
      },
      "outputs": [
        {
          "output_type": "stream",
          "name": "stdout",
          "text": [
            "Cloning into 'TolokaCvProject'...\n",
            "remote: Enumerating objects: 89, done.\u001b[K\n",
            "remote: Counting objects: 100% (89/89), done.\u001b[K\n",
            "remote: Compressing objects: 100% (52/52), done.\u001b[K\n",
            "remote: Total 89 (delta 42), reused 82 (delta 35), pack-reused 0\u001b[K\n",
            "Unpacking objects: 100% (89/89), done.\n"
          ]
        }
      ],
      "source": [
        "!wget https://tlk.s3.yandex.net/course/shad_cv_project_22/dataset_students.zip\n",
        "!unzip dataset_students.zip\n",
        "!pip install -q pytorch-lightning wandb\n",
        "!pip install ipyplot\n",
        "!pip install timm\n",
        "!git clone https://github.com/alekseyen/TolokaCvProject.git\n",
        "!mv TolokaCvProject/* ."
      ],
      "id": "88208149-0bec-4d84-b956-c7f761c9141c"
    },
    {
      "cell_type": "code",
      "execution_count": null,
      "metadata": {
        "id": "735284dd"
      },
      "outputs": [],
      "source": [
        "import pandas as pd\n",
        "import ipyplot\n",
        "import torch\n",
        "import pytorch_lightning as pl\n",
        "from sklearn.metrics import f1_score\n",
        "%matplotlib inline"
      ],
      "id": "735284dd"
    },
    {
      "cell_type": "code",
      "execution_count": 45,
      "metadata": {
        "id": "5a54929f"
      },
      "outputs": [],
      "source": [
        "from src.model import ImageClassifier\n",
        "from src.utils import ImagesDataset, evaluate_model\n",
        "from src.transforms import transform\n",
        "from src import params"
      ],
      "id": "5a54929f"
    },
    {
      "cell_type": "code",
      "execution_count": null,
      "metadata": {
        "colab": {
          "base_uri": "https://localhost:8080/"
        },
        "id": "99a949e6-a9ad-4795-b3db-c4216b91136a",
        "outputId": "667b7b0d-f9cf-44d4-b72a-7050ee3ef53d"
      },
      "outputs": [
        {
          "output_type": "stream",
          "name": "stdout",
          "text": [
            "Wed Oct 12 14:51:35 2022       \n",
            "+-----------------------------------------------------------------------------+\n",
            "| NVIDIA-SMI 460.32.03    Driver Version: 460.32.03    CUDA Version: 11.2     |\n",
            "|-------------------------------+----------------------+----------------------+\n",
            "| GPU  Name        Persistence-M| Bus-Id        Disp.A | Volatile Uncorr. ECC |\n",
            "| Fan  Temp  Perf  Pwr:Usage/Cap|         Memory-Usage | GPU-Util  Compute M. |\n",
            "|                               |                      |               MIG M. |\n",
            "|===============================+======================+======================|\n",
            "|   0  Tesla T4            Off  | 00000000:00:04.0 Off |                    0 |\n",
            "| N/A   39C    P8     9W /  70W |      0MiB / 15109MiB |      0%      Default |\n",
            "|                               |                      |                  N/A |\n",
            "+-------------------------------+----------------------+----------------------+\n",
            "                                                                               \n",
            "+-----------------------------------------------------------------------------+\n",
            "| Processes:                                                                  |\n",
            "|  GPU   GI   CI        PID   Type   Process name                  GPU Memory |\n",
            "|        ID   ID                                                   Usage      |\n",
            "|=============================================================================|\n",
            "|  No running processes found                                                 |\n",
            "+-----------------------------------------------------------------------------+\n"
          ]
        }
      ],
      "source": [
        "!nvidia-smi"
      ],
      "id": "99a949e6-a9ad-4795-b3db-c4216b91136a"
    },
    {
      "cell_type": "markdown",
      "metadata": {
        "id": "76444aad"
      },
      "source": [
        "# Load dataset"
      ],
      "id": "76444aad"
    },
    {
      "cell_type": "code",
      "execution_count": 46,
      "metadata": {
        "colab": {
          "base_uri": "https://localhost:8080/",
          "height": 206
        },
        "id": "624d1b29-6e76-462a-89be-8b52244c9257",
        "outputId": "6b901882-2bc9-4424-a9a3-364c4f8df793"
      },
      "outputs": [
        {
          "output_type": "execute_result",
          "data": {
            "text/plain": [
              "                                         INPUT:image OUTPUT:result  \\\n",
              "0  dataset_students/classification/train_labelled...            no   \n",
              "1  dataset_students/classification/train_labelled...         other   \n",
              "2  dataset_students/classification/train_labelled...            no   \n",
              "3  dataset_students/classification/train_labelled...            no   \n",
              "4  dataset_students/classification/train_labelled...            no   \n",
              "\n",
              "  CONFIDENCE:result  \n",
              "0           100.00%  \n",
              "1           100.00%  \n",
              "2           100.00%  \n",
              "3           100.00%  \n",
              "4           100.00%  "
            ],
            "text/html": [
              "\n",
              "  <div id=\"df-b7eaed23-3487-42b3-96ff-d25e29b83666\">\n",
              "    <div class=\"colab-df-container\">\n",
              "      <div>\n",
              "<style scoped>\n",
              "    .dataframe tbody tr th:only-of-type {\n",
              "        vertical-align: middle;\n",
              "    }\n",
              "\n",
              "    .dataframe tbody tr th {\n",
              "        vertical-align: top;\n",
              "    }\n",
              "\n",
              "    .dataframe thead th {\n",
              "        text-align: right;\n",
              "    }\n",
              "</style>\n",
              "<table border=\"1\" class=\"dataframe\">\n",
              "  <thead>\n",
              "    <tr style=\"text-align: right;\">\n",
              "      <th></th>\n",
              "      <th>INPUT:image</th>\n",
              "      <th>OUTPUT:result</th>\n",
              "      <th>CONFIDENCE:result</th>\n",
              "    </tr>\n",
              "  </thead>\n",
              "  <tbody>\n",
              "    <tr>\n",
              "      <th>0</th>\n",
              "      <td>dataset_students/classification/train_labelled...</td>\n",
              "      <td>no</td>\n",
              "      <td>100.00%</td>\n",
              "    </tr>\n",
              "    <tr>\n",
              "      <th>1</th>\n",
              "      <td>dataset_students/classification/train_labelled...</td>\n",
              "      <td>other</td>\n",
              "      <td>100.00%</td>\n",
              "    </tr>\n",
              "    <tr>\n",
              "      <th>2</th>\n",
              "      <td>dataset_students/classification/train_labelled...</td>\n",
              "      <td>no</td>\n",
              "      <td>100.00%</td>\n",
              "    </tr>\n",
              "    <tr>\n",
              "      <th>3</th>\n",
              "      <td>dataset_students/classification/train_labelled...</td>\n",
              "      <td>no</td>\n",
              "      <td>100.00%</td>\n",
              "    </tr>\n",
              "    <tr>\n",
              "      <th>4</th>\n",
              "      <td>dataset_students/classification/train_labelled...</td>\n",
              "      <td>no</td>\n",
              "      <td>100.00%</td>\n",
              "    </tr>\n",
              "  </tbody>\n",
              "</table>\n",
              "</div>\n",
              "      <button class=\"colab-df-convert\" onclick=\"convertToInteractive('df-b7eaed23-3487-42b3-96ff-d25e29b83666')\"\n",
              "              title=\"Convert this dataframe to an interactive table.\"\n",
              "              style=\"display:none;\">\n",
              "        \n",
              "  <svg xmlns=\"http://www.w3.org/2000/svg\" height=\"24px\"viewBox=\"0 0 24 24\"\n",
              "       width=\"24px\">\n",
              "    <path d=\"M0 0h24v24H0V0z\" fill=\"none\"/>\n",
              "    <path d=\"M18.56 5.44l.94 2.06.94-2.06 2.06-.94-2.06-.94-.94-2.06-.94 2.06-2.06.94zm-11 1L8.5 8.5l.94-2.06 2.06-.94-2.06-.94L8.5 2.5l-.94 2.06-2.06.94zm10 10l.94 2.06.94-2.06 2.06-.94-2.06-.94-.94-2.06-.94 2.06-2.06.94z\"/><path d=\"M17.41 7.96l-1.37-1.37c-.4-.4-.92-.59-1.43-.59-.52 0-1.04.2-1.43.59L10.3 9.45l-7.72 7.72c-.78.78-.78 2.05 0 2.83L4 21.41c.39.39.9.59 1.41.59.51 0 1.02-.2 1.41-.59l7.78-7.78 2.81-2.81c.8-.78.8-2.07 0-2.86zM5.41 20L4 18.59l7.72-7.72 1.47 1.35L5.41 20z\"/>\n",
              "  </svg>\n",
              "      </button>\n",
              "      \n",
              "  <style>\n",
              "    .colab-df-container {\n",
              "      display:flex;\n",
              "      flex-wrap:wrap;\n",
              "      gap: 12px;\n",
              "    }\n",
              "\n",
              "    .colab-df-convert {\n",
              "      background-color: #E8F0FE;\n",
              "      border: none;\n",
              "      border-radius: 50%;\n",
              "      cursor: pointer;\n",
              "      display: none;\n",
              "      fill: #1967D2;\n",
              "      height: 32px;\n",
              "      padding: 0 0 0 0;\n",
              "      width: 32px;\n",
              "    }\n",
              "\n",
              "    .colab-df-convert:hover {\n",
              "      background-color: #E2EBFA;\n",
              "      box-shadow: 0px 1px 2px rgba(60, 64, 67, 0.3), 0px 1px 3px 1px rgba(60, 64, 67, 0.15);\n",
              "      fill: #174EA6;\n",
              "    }\n",
              "\n",
              "    [theme=dark] .colab-df-convert {\n",
              "      background-color: #3B4455;\n",
              "      fill: #D2E3FC;\n",
              "    }\n",
              "\n",
              "    [theme=dark] .colab-df-convert:hover {\n",
              "      background-color: #434B5C;\n",
              "      box-shadow: 0px 1px 3px 1px rgba(0, 0, 0, 0.15);\n",
              "      filter: drop-shadow(0px 1px 2px rgba(0, 0, 0, 0.3));\n",
              "      fill: #FFFFFF;\n",
              "    }\n",
              "  </style>\n",
              "\n",
              "      <script>\n",
              "        const buttonEl =\n",
              "          document.querySelector('#df-b7eaed23-3487-42b3-96ff-d25e29b83666 button.colab-df-convert');\n",
              "        buttonEl.style.display =\n",
              "          google.colab.kernel.accessAllowed ? 'block' : 'none';\n",
              "\n",
              "        async function convertToInteractive(key) {\n",
              "          const element = document.querySelector('#df-b7eaed23-3487-42b3-96ff-d25e29b83666');\n",
              "          const dataTable =\n",
              "            await google.colab.kernel.invokeFunction('convertToInteractive',\n",
              "                                                     [key], {});\n",
              "          if (!dataTable) return;\n",
              "\n",
              "          const docLinkHtml = 'Like what you see? Visit the ' +\n",
              "            '<a target=\"_blank\" href=https://colab.research.google.com/notebooks/data_table.ipynb>data table notebook</a>'\n",
              "            + ' to learn more about interactive tables.';\n",
              "          element.innerHTML = '';\n",
              "          dataTable['output_type'] = 'display_data';\n",
              "          await google.colab.output.renderOutput(dataTable, element);\n",
              "          const docLink = document.createElement('div');\n",
              "          docLink.innerHTML = docLinkHtml;\n",
              "          element.appendChild(docLink);\n",
              "        }\n",
              "      </script>\n",
              "    </div>\n",
              "  </div>\n",
              "  "
            ]
          },
          "metadata": {},
          "execution_count": 46
        }
      ],
      "source": [
        "annotated0_df = pd.read_csv('train_labelled.tsv', sep='\\t', index_col=None)\n",
        "annotated0_df['OUTPUT:result'] = annotated0_df['GOLDEN:result']\n",
        "annotated0_df = annotated0_df.drop('GOLDEN:result', axis=1)\n",
        "annotated1_df = pd.read_csv('aggregated_results_by_ds__pool_35739415__2022_10_05.tsv', sep='\\t', index_col=None)\n",
        "annotated2_df = pd.read_csv('aggregated_results_by_ds__pool_35803045__2022_10_09.tsv', sep='\\t', index_col=None)\n",
        "\n",
        "train_df = pd.concat([annotated0_df, annotated1_df, annotated2_df]).drop('Unnamed: 3', axis=1)\n",
        "train_df['INPUT:image'] = 'dataset_students/classification/train_' + train_df['INPUT:image']\n",
        "train_df = train_df.fillna('100.00%').drop_duplicates()\n",
        "train_df.head()"
      ],
      "id": "624d1b29-6e76-462a-89be-8b52244c9257"
    },
    {
      "cell_type": "code",
      "execution_count": 47,
      "metadata": {
        "colab": {
          "base_uri": "https://localhost:8080/",
          "height": 282
        },
        "id": "13cbc682-d738-48eb-9a33-10bda268a347",
        "outputId": "831e8f62-784a-40b2-b728-69f2213d5e25"
      },
      "outputs": [
        {
          "output_type": "execute_result",
          "data": {
            "text/plain": [
              "<matplotlib.axes._subplots.AxesSubplot at 0x7fe90ed80f50>"
            ]
          },
          "metadata": {},
          "execution_count": 47
        },
        {
          "output_type": "display_data",
          "data": {
            "text/plain": [
              "<Figure size 432x288 with 1 Axes>"
            ],
            "image/png": "[encoded data removed]"
          },
          "metadata": {
            "needs_background": "light"
          }
        }
      ],
      "source": [
        "train_df['OUTPUT:result'].hist()"
      ],
      "id": "13cbc682-d738-48eb-9a33-10bda268a347"
    },
    {
      "cell_type": "code",
      "execution_count": 48,
      "metadata": {
        "id": "fcd10def-fb50-4442-9be9-56409169ed22"
      },
      "outputs": [],
      "source": [
        "train_df['OUTPUT:result'] = train_df['OUTPUT:result'].map(dict(yes=1, no=0, other=2, error=2)).astype(int)"
      ],
      "id": "fcd10def-fb50-4442-9be9-56409169ed22"
    },
    {
      "cell_type": "code",
      "execution_count": 49,
      "metadata": {
        "colab": {
          "base_uri": "https://localhost:8080/",
          "height": 282
        },
        "id": "0e4bea83-b2e4-425f-b3f0-39cba6277bed",
        "outputId": "9e20cc73-f916-487c-ffaf-687a12cd71c1"
      },
      "outputs": [
        {
          "output_type": "execute_result",
          "data": {
            "text/plain": [
              "<matplotlib.axes._subplots.AxesSubplot at 0x7fe90116e490>"
            ]
          },
          "metadata": {},
          "execution_count": 49
        },
        {
          "output_type": "display_data",
          "data": {
            "text/plain": [
              "<Figure size 432x288 with 1 Axes>"
            ],
            "image/png": "[encoded data removed]"
          },
          "metadata": {
            "needs_background": "light"
          }
        }
      ],
      "source": [
        "train_df['OUTPUT:result'].hist()"
      ],
      "id": "0e4bea83-b2e4-425f-b3f0-39cba6277bed"
    },
    {
      "cell_type": "code",
      "execution_count": 50,
      "metadata": {
        "id": "11bc9b90-e9f8-47fa-83a4-99be104e3ec7"
      },
      "outputs": [],
      "source": [
        "train_image_paths = train_df['INPUT:image'].values\n",
        "train_labels = train_df['OUTPUT:result'].values"
      ],
      "id": "11bc9b90-e9f8-47fa-83a4-99be104e3ec7"
    },
    {
      "cell_type": "code",
      "execution_count": 51,
      "metadata": {
        "colab": {
          "base_uri": "https://localhost:8080/"
        },
        "id": "39de2ab6",
        "outputId": "d34d908c-4dee-49dc-82bd-9429bc3cb094"
      },
      "outputs": [
        {
          "output_type": "stream",
          "name": "stdout",
          "text": [
            "5900 train images\n"
          ]
        }
      ],
      "source": [
        "print(f'{len(train_image_paths)} train images')"
      ],
      "id": "39de2ab6"
    },
    {
      "cell_type": "code",
      "execution_count": null,
      "metadata": {
        "id": "ec4a5495"
      },
      "outputs": [],
      "source": [
        "ipyplot.plot_class_tabs(train_image_paths, train_labels, max_imgs_per_tab = 10)"
      ],
      "id": "ec4a5495"
    },
    {
      "cell_type": "markdown",
      "metadata": {
        "id": "c2019cc3"
      },
      "source": [
        "# Prepare model"
      ],
      "id": "c2019cc3"
    },
    {
      "cell_type": "code",
      "source": [
        "!pip install imops"
      ],
      "metadata": {
        "colab": {
          "base_uri": "https://localhost:8080/"
        },
        "id": "fIJEXZPCZesA",
        "outputId": "2eb31695-e552-4275-c82f-0a5c07d4ee56"
      },
      "id": "fIJEXZPCZesA",
      "execution_count": 53,
      "outputs": [
        {
          "output_type": "stream",
          "name": "stdout",
          "text": [
            "Looking in indexes: https://pypi.org/simple, https://us-python.pkg.dev/colab-wheels/public/simple/\n",
            "Requirement already satisfied: imops in /usr/local/lib/python3.7/dist-packages (0.5.0.post1)\n",
            "Requirement already satisfied: numpy<2.0.0,>=1.7 in /usr/local/lib/python3.7/dist-packages (from imops) (1.21.6)\n",
            "Requirement already satisfied: scipy<2.0.0,>=1.0 in /usr/local/lib/python3.7/dist-packages (from imops) (1.7.3)\n",
            "Requirement already satisfied: Cython in /usr/local/lib/python3.7/dist-packages (from imops) (0.29.32)\n"
          ]
        }
      ]
    },
    {
      "cell_type": "code",
      "execution_count": 54,
      "metadata": {
        "id": "69d432db"
      },
      "outputs": [],
      "source": [
        "train_dataset = ImagesDataset(train_image_paths, train_labels, transform=transform)"
      ],
      "id": "69d432db"
    },
    {
      "cell_type": "markdown",
      "source": [
        "## To preserve original image scales we padded & cropped all images to (3, 224, 224)"
      ],
      "metadata": {
        "id": "_fYXfNvSkBIJ"
      },
      "id": "_fYXfNvSkBIJ"
    },
    {
      "cell_type": "code",
      "source": [
        "from imops import pad_to_shape, crop_to_shape\n",
        "import numpy as np\n",
        "\n",
        "def collate_batch(batch, dtype):\n",
        "  label_list, images_list, shapes_list = [], [], []\n",
        "\n",
        "  for (img, label, _) in batch:\n",
        "    label_list.append(label)\n",
        "    images_list.append(img)\n",
        "    shapes_list.append(torch.tensor(img.shape))\n",
        "   \n",
        "  label_list = torch.tensor(label_list, dtype=torch.int64)\n",
        "  max_shape = torch.stack(shapes_list).amax(axis=0)\n",
        "\n",
        "  final_images = []\n",
        "  for img in images_list:\n",
        "    final_images.append(torch.tensor(crop_to_shape(pad_to_shape(img, np.maximum(max_shape.numpy(), (3, 224, 224))), (224, 224), axis=(-1, -2))))\n",
        "  \n",
        "  return torch.stack(final_images).to(dtype), label_list, None\n"
      ],
      "metadata": {
        "id": "Nb4iZbqq8kLs"
      },
      "id": "Nb4iZbqq8kLs",
      "execution_count": 55,
      "outputs": []
    },
    {
      "cell_type": "code",
      "execution_count": 56,
      "metadata": {
        "id": "cc64dab6"
      },
      "outputs": [],
      "source": [
        "from functools import partial\n",
        "train_loader = torch.utils.data.DataLoader(train_dataset, \n",
        "                                           collate_fn=partial(collate_batch, dtype=torch.float16),\n",
        "                                           batch_size=params.BATCH_SIZE,\n",
        "                                           num_workers=2,\n",
        "                                           shuffle=False)"
      ],
      "id": "cc64dab6"
    },
    {
      "cell_type": "markdown",
      "source": [
        "## To adress class imbalance we applied weight = 6 to the target class (russian car numbers)"
      ],
      "metadata": {
        "id": "ICpae2xSkkEp"
      },
      "id": "ICpae2xSkkEp"
    },
    {
      "cell_type": "code",
      "execution_count": 57,
      "metadata": {
        "id": "47c35ffa"
      },
      "outputs": [],
      "source": [
        "# Run macos_cert_fix.py if you are getting ssl errors\n",
        "import torch\n",
        "model = ImageClassifier(learning_rate=params.LEARNING_RATE, class_weight=torch.tensor([1.0, 6.0, 1.0], device='cuda'))"
      ],
      "id": "47c35ffa"
    },
    {
      "cell_type": "code",
      "execution_count": 58,
      "metadata": {
        "colab": {
          "base_uri": "https://localhost:8080/",
          "height": 433,
          "referenced_widgets": [
            "2b56b8e7bcf64342a3e267e3d88cad46",
            "45a4ab0f46ad4da8a8714c7e18e0f630",
            "4239993c3f764aa784cfda3f1deeaf00",
            "7ea297f039d8407487683cfdc3f385dc",
            "b4467387f0bd457d84a4e49852538589",
            "9ebef100e4234009a1a5b3ae12fc232a",
            "1131233731494e5da733fa57af186c6d",
            "a39125371d464a1885ea22a2d25b3d0c",
            "264444326c534ec8bae16a971c8065bf",
            "c7eaa37e171440678e754e87bbaf6274",
            "5ed5819b75d041b0bf4a4e7752cda7cc"
          ]
        },
        "id": "3b805b49",
        "outputId": "a63ae37a-8526-4ef5-8e33-d115bd26e54b"
      },
      "outputs": [
        {
          "output_type": "stream",
          "name": "stderr",
          "text": [
            "INFO:pytorch_lightning.utilities.seed:Global seed set to 1337\n",
            "/usr/local/lib/python3.7/dist-packages/pytorch_lightning/trainer/connectors/accelerator_connector.py:448: LightningDeprecationWarning: Setting `Trainer(gpus=1)` is deprecated in v1.7 and will be removed in v2.0. Please use `Trainer(accelerator='gpu', devices=1)` instead.\n",
            "  f\"Setting `Trainer(gpus={gpus!r})` is deprecated in v1.7 and will be removed\"\n",
            "INFO:pytorch_lightning.utilities.rank_zero:Using 16bit native Automatic Mixed Precision (AMP)\n",
            "INFO:pytorch_lightning.utilities.rank_zero:GPU available: True (cuda), used: True\n",
            "INFO:pytorch_lightning.utilities.rank_zero:TPU available: False, using: 0 TPU cores\n",
            "INFO:pytorch_lightning.utilities.rank_zero:IPU available: False, using: 0 IPUs\n",
            "INFO:pytorch_lightning.utilities.rank_zero:HPU available: False, using: 0 HPUs\n",
            "/usr/local/lib/python3.7/dist-packages/pytorch_lightning/trainer/configuration_validator.py:109: PossibleUserWarning: You defined a `validation_step` but have no `val_dataloader`. Skipping val loop.\n",
            "  category=PossibleUserWarning,\n",
            "INFO:pytorch_lightning.accelerators.cuda:LOCAL_RANK: 0 - CUDA_VISIBLE_DEVICES: [0]\n",
            "INFO:pytorch_lightning.callbacks.model_summary:\n",
            "  | Name  | Type         | Params\n",
            "---------------------------------------\n",
            "0 | trunk | EfficientNet | 2.2 M \n",
            "---------------------------------------\n",
            "2.2 M     Trainable params\n",
            "0         Non-trainable params\n",
            "2.2 M     Total params\n",
            "4.455     Total estimated model params size (MB)\n"
          ]
        },
        {
          "output_type": "display_data",
          "data": {
            "text/plain": [
              "Training: 0it [00:00, ?it/s]"
            ],
            "application/vnd.jupyter.widget-view+json": {
              "version_major": 2,
              "version_minor": 0,
              "model_id": "2b56b8e7bcf64342a3e267e3d88cad46"
            }
          },
          "metadata": {}
        },
        {
          "output_type": "stream",
          "name": "stderr",
          "text": [
            "INFO:pytorch_lightning.utilities.rank_zero:`Trainer.fit` stopped: `max_epochs=16` reached.\n"
          ]
        }
      ],
      "source": [
        "from pytorch_lightning import Trainer, seed_everything\n",
        "\n",
        "seed_everything(1337, workers=True)\n",
        "\n",
        "trainer = pl.Trainer(\n",
        "    #logger=logger,\n",
        "    max_epochs=params.MAX_EPOCHS,\n",
        "    log_every_n_steps=1, # Change to enable tensorboard logging\n",
        "    gpus=1, # Uncomment to use GPU training\n",
        "    precision=16,\n",
        ")\n",
        "trainer.fit(model, train_loader)"
      ],
      "id": "3b805b49"
    },
    {
      "cell_type": "markdown",
      "metadata": {
        "id": "d1fd1ce8"
      },
      "source": [
        "# Compute training set f1-score"
      ],
      "id": "d1fd1ce8"
    },
    {
      "cell_type": "code",
      "execution_count": 59,
      "metadata": {
        "colab": {
          "base_uri": "https://localhost:8080/",
          "height": 104,
          "referenced_widgets": [
            "49f7bfb2138c4c7e97c3ef4964497e8f",
            "935bad5adf724c81b4a63ae291b1d89b",
            "9a037f95eece40559bf1f8d62257a487",
            "76e6a8165fc043c795dbeb8eb45bd04f",
            "e5e6f805f87341a7812457cd525aeb1f",
            "353ec73381e24aeca25d5666df411e95",
            "638238e0271b4210a60189835be381fe",
            "da05fda33c5d4d95a0d9eaca4104fb6d",
            "d403f877b7764e749b4543474e64d355",
            "e31373848496409a9ee6ea73ea7c5b96",
            "92576e26086f404abd06d757cf8ae487"
          ]
        },
        "id": "cb227c4b",
        "outputId": "7391db2d-aadd-4eaf-b7a4-f10e1c391ede"
      },
      "outputs": [
        {
          "output_type": "stream",
          "name": "stderr",
          "text": [
            "/usr/local/lib/python3.7/dist-packages/torch/utils/data/dataloader.py:566: UserWarning: This DataLoader will create 4 worker processes in total. Our suggested max number of worker in current system is 2, which is smaller than what this DataLoader is going to create. Please be aware that excessive worker creation might get DataLoader running slow or even freeze, lower the worker number to avoid potential slowness/freeze if necessary.\n",
            "  cpuset_checked))\n"
          ]
        },
        {
          "output_type": "display_data",
          "data": {
            "text/plain": [
              "  0%|          | 0/185 [00:00<?, ?it/s]"
            ],
            "application/vnd.jupyter.widget-view+json": {
              "version_major": 2,
              "version_minor": 0,
              "model_id": "49f7bfb2138c4c7e97c3ef4964497e8f"
            }
          },
          "metadata": {}
        }
      ],
      "source": [
        "labels, predictions = evaluate_model(model, train_dataset, collate_fn=partial(collate_batch, dtype=torch.float32))"
      ],
      "id": "cb227c4b"
    },
    {
      "cell_type": "code",
      "execution_count": 60,
      "metadata": {
        "id": "8aa869c2-3499-4663-8a20-95ecc248d2f1"
      },
      "outputs": [],
      "source": [
        "predictions = [0 if x == 2 else x for x in predictions ]\n",
        "labels = [0 if x == 2 else x for x in labels ]"
      ],
      "id": "8aa869c2-3499-4663-8a20-95ecc248d2f1"
    },
    {
      "cell_type": "code",
      "execution_count": 61,
      "metadata": {
        "id": "c923902f",
        "colab": {
          "base_uri": "https://localhost:8080/"
        },
        "outputId": "ceccac85-9732-4d6d-f3a1-2ec1add1eb48"
      },
      "outputs": [
        {
          "output_type": "execute_result",
          "data": {
            "text/plain": [
              "0.9992019154030327"
            ]
          },
          "metadata": {},
          "execution_count": 61
        }
      ],
      "source": [
        "f1_score(labels, predictions, labels=1, average='binary')"
      ],
      "id": "c923902f"
    },
    {
      "cell_type": "markdown",
      "metadata": {
        "id": "7756e4ac-938f-4795-b404-7e8ae7d6b68e"
      },
      "source": [
        "## Evaluate on val\n"
      ],
      "id": "7756e4ac-938f-4795-b404-7e8ae7d6b68e"
    },
    {
      "cell_type": "code",
      "source": [
        "!wget https://tlk.s3.yandex.net/course/shad_cv_project_22/val.zip\n",
        "!unzip val.zip"
      ],
      "metadata": {
        "id": "JoxvTJQEAEHq"
      },
      "id": "JoxvTJQEAEHq",
      "execution_count": null,
      "outputs": []
    },
    {
      "cell_type": "code",
      "execution_count": null,
      "metadata": {
        "id": "fac9bbab-860f-42e5-985f-83ac69371b6c"
      },
      "outputs": [],
      "source": [
        "import os\n",
        "\n",
        "full_image_paths = []\n",
        "\n",
        "dataset_dir = 'val'\n",
        "\n",
        "for file in os.listdir(dataset_dir):\n",
        "    if file.endswith(\".png\"):\n",
        "        full_image_paths += [os.path.join(dataset_dir, file)]\n",
        "\n",
        "\n",
        "len(full_image_paths)"
      ],
      "id": "fac9bbab-860f-42e5-985f-83ac69371b6c"
    },
    {
      "cell_type": "code",
      "execution_count": null,
      "metadata": {
        "id": "8361eadb-3a8b-4165-bdcb-dc5f1566ea09"
      },
      "outputs": [],
      "source": [
        "other_part_dataset = ImagesDataset(full_image_paths, transform=transform)\n",
        "\n",
        "labels, predictions = evaluate_model(model, other_part_dataset, collate_fn=partial(collate_batch, dtype=torch.float32))"
      ],
      "id": "8361eadb-3a8b-4165-bdcb-dc5f1566ea09"
    },
    {
      "cell_type": "code",
      "source": [
        "full_image_paths = [x.split('/')[-1] for x in full_image_paths]"
      ],
      "metadata": {
        "id": "CMzPyDMFAb_M"
      },
      "id": "CMzPyDMFAb_M",
      "execution_count": null,
      "outputs": []
    },
    {
      "cell_type": "code",
      "source": [
        "predictions = [int(x == 1) for x in predictions]"
      ],
      "metadata": {
        "id": "CGX2Bx9eAnpx"
      },
      "id": "CGX2Bx9eAnpx",
      "execution_count": null,
      "outputs": []
    },
    {
      "cell_type": "code",
      "execution_count": null,
      "metadata": {
        "id": "7c249fe2-42fd-43df-b764-9671a5ca9f78"
      },
      "outputs": [],
      "source": [
        "df = pd.DataFrame(dict(img_path=full_image_paths, label = predictions))\n",
        "\n",
        "df.head(10)"
      ],
      "id": "7c249fe2-42fd-43df-b764-9671a5ca9f78"
    },
    {
      "cell_type": "code",
      "source": [
        "df['label'].hist()"
      ],
      "metadata": {
        "id": "Ox6lVqiIA7C9"
      },
      "id": "Ox6lVqiIA7C9",
      "execution_count": null,
      "outputs": []
    },
    {
      "cell_type": "code",
      "execution_count": null,
      "metadata": {
        "id": "3120b648-216a-459a-9836-3f73b82a3eff"
      },
      "outputs": [],
      "source": [
        "df.to_csv('results.csv', index=False, sep=',')"
      ],
      "id": "3120b648-216a-459a-9836-3f73b82a3eff"
    },
    {
      "cell_type": "code",
      "source": [
        "trainer.save_checkpoint(\"model.ckpt\")"
      ],
      "metadata": {
        "id": "_Rq8FFq8Sa61"
      },
      "id": "_Rq8FFq8Sa61",
      "execution_count": null,
      "outputs": []
    },
    {
      "cell_type": "code",
      "source": [],
      "metadata": {
        "id": "zYvySHIcr8UK"
      },
      "id": "zYvySHIcr8UK",
      "execution_count": null,
      "outputs": []
    }
  ],
  "metadata": {
    "accelerator": "GPU",
    "colab": {
      "provenance": [],
      "collapsed_sections": []
    },
    "interpreter": {
      "hash": "aee8b7b246df8f9039afb4144a1f6fd8d2ca17a180786b69acc140d282b71a49"
    },
    "kernelspec": {
      "display_name": "Python 3 (ipykernel)",
      "language": "python",
      "name": "python3"
    },
    "language_info": {
      "codemirror_mode": {
        "name": "ipython",
        "version": 3
      },
      "file_extension": ".py",
      "mimetype": "text/x-python",
      "name": "python",
      "nbconvert_exporter": "python",
      "pygments_lexer": "ipython3",
      "version": "3.9.7"
    },
    "widgets": {
      "application/vnd.jupyter.widget-state+json": {
        "2b56b8e7bcf64342a3e267e3d88cad46": {
          "model_module": "@jupyter-widgets/controls",
          "model_name": "HBoxModel",
          "model_module_version": "1.5.0",
          "state": {
            "_dom_classes": [],
            "_model_module": "@jupyter-widgets/controls",
            "_model_module_version": "1.5.0",
            "_model_name": "HBoxModel",
            "_view_count": null,
            "_view_module": "@jupyter-widgets/controls",
            "_view_module_version": "1.5.0",
            "_view_name": "HBoxView",
            "box_style": "",
            "children": [
              "IPY_MODEL_45a4ab0f46ad4da8a8714c7e18e0f630",
              "IPY_MODEL_4239993c3f764aa784cfda3f1deeaf00",
              "IPY_MODEL_7ea297f039d8407487683cfdc3f385dc"
            ],
            "layout": "IPY_MODEL_b4467387f0bd457d84a4e49852538589"
          }
        },
        "45a4ab0f46ad4da8a8714c7e18e0f630": {
          "model_module": "@jupyter-widgets/controls",
          "model_name": "HTMLModel",
          "model_module_version": "1.5.0",
          "state": {
            "_dom_classes": [],
            "_model_module": "@jupyter-widgets/controls",
            "_model_module_version": "1.5.0",
            "_model_name": "HTMLModel",
            "_view_count": null,
            "_view_module": "@jupyter-widgets/controls",
            "_view_module_version": "1.5.0",
            "_view_name": "HTMLView",
            "description": "",
            "description_tooltip": null,
            "layout": "IPY_MODEL_9ebef100e4234009a1a5b3ae12fc232a",
            "placeholder": "​",
            "style": "IPY_MODEL_1131233731494e5da733fa57af186c6d",
            "value": "Epoch 15: 100%"
          }
        },
        "4239993c3f764aa784cfda3f1deeaf00": {
          "model_module": "@jupyter-widgets/controls",
          "model_name": "FloatProgressModel",
          "model_module_version": "1.5.0",
          "state": {
            "_dom_classes": [],
            "_model_module": "@jupyter-widgets/controls",
            "_model_module_version": "1.5.0",
            "_model_name": "FloatProgressModel",
            "_view_count": null,
            "_view_module": "@jupyter-widgets/controls",
            "_view_module_version": "1.5.0",
            "_view_name": "ProgressView",
            "bar_style": "success",
            "description": "",
            "description_tooltip": null,
            "layout": "IPY_MODEL_a39125371d464a1885ea22a2d25b3d0c",
            "max": 93,
            "min": 0,
            "orientation": "horizontal",
            "style": "IPY_MODEL_264444326c534ec8bae16a971c8065bf",
            "value": 93
          }
        },
        "7ea297f039d8407487683cfdc3f385dc": {
          "model_module": "@jupyter-widgets/controls",
          "model_name": "HTMLModel",
          "model_module_version": "1.5.0",
          "state": {
            "_dom_classes": [],
            "_model_module": "@jupyter-widgets/controls",
            "_model_module_version": "1.5.0",
            "_model_name": "HTMLModel",
            "_view_count": null,
            "_view_module": "@jupyter-widgets/controls",
            "_view_module_version": "1.5.0",
            "_view_name": "HTMLView",
            "description": "",
            "description_tooltip": null,
            "layout": "IPY_MODEL_c7eaa37e171440678e754e87bbaf6274",
            "placeholder": "​",
            "style": "IPY_MODEL_5ed5819b75d041b0bf4a4e7752cda7cc",
            "value": " 93/93 [00:25&lt;00:00,  3.71it/s, loss=3.05e-05, v_num=1]"
          }
        },
        "b4467387f0bd457d84a4e49852538589": {
          "model_module": "@jupyter-widgets/base",
          "model_name": "LayoutModel",
          "model_module_version": "1.2.0",
          "state": {
            "_model_module": "@jupyter-widgets/base",
            "_model_module_version": "1.2.0",
            "_model_name": "LayoutModel",
            "_view_count": null,
            "_view_module": "@jupyter-widgets/base",
            "_view_module_version": "1.2.0",
            "_view_name": "LayoutView",
            "align_content": null,
            "align_items": null,
            "align_self": null,
            "border": null,
            "bottom": null,
            "display": "inline-flex",
            "flex": null,
            "flex_flow": "row wrap",
            "grid_area": null,
            "grid_auto_columns": null,
            "grid_auto_flow": null,
            "grid_auto_rows": null,
            "grid_column": null,
            "grid_gap": null,
            "grid_row": null,
            "grid_template_areas": null,
            "grid_template_columns": null,
            "grid_template_rows": null,
            "height": null,
            "justify_content": null,
            "justify_items": null,
            "left": null,
            "margin": null,
            "max_height": null,
            "max_width": null,
            "min_height": null,
            "min_width": null,
            "object_fit": null,
            "object_position": null,
            "order": null,
            "overflow": null,
            "overflow_x": null,
            "overflow_y": null,
            "padding": null,
            "right": null,
            "top": null,
            "visibility": null,
            "width": "100%"
          }
        },
        "9ebef100e4234009a1a5b3ae12fc232a": {
          "model_module": "@jupyter-widgets/base",
          "model_name": "LayoutModel",
          "model_module_version": "1.2.0",
          "state": {
            "_model_module": "@jupyter-widgets/base",
            "_model_module_version": "1.2.0",
            "_model_name": "LayoutModel",
            "_view_count": null,
            "_view_module": "@jupyter-widgets/base",
            "_view_module_version": "1.2.0",
            "_view_name": "LayoutView",
            "align_content": null,
            "align_items": null,
            "align_self": null,
            "border": null,
            "bottom": null,
            "display": null,
            "flex": null,
            "flex_flow": null,
            "grid_area": null,
            "grid_auto_columns": null,
            "grid_auto_flow": null,
            "grid_auto_rows": null,
            "grid_column": null,
            "grid_gap": null,
            "grid_row": null,
            "grid_template_areas": null,
            "grid_template_columns": null,
            "grid_template_rows": null,
            "height": null,
            "justify_content": null,
            "justify_items": null,
            "left": null,
            "margin": null,
            "max_height": null,
            "max_width": null,
            "min_height": null,
            "min_width": null,
            "object_fit": null,
            "object_position": null,
            "order": null,
            "overflow": null,
            "overflow_x": null,
            "overflow_y": null,
            "padding": null,
            "right": null,
            "top": null,
            "visibility": null,
            "width": null
          }
        },
        "1131233731494e5da733fa57af186c6d": {
          "model_module": "@jupyter-widgets/controls",
          "model_name": "DescriptionStyleModel",
          "model_module_version": "1.5.0",
          "state": {
            "_model_module": "@jupyter-widgets/controls",
            "_model_module_version": "1.5.0",
            "_model_name": "DescriptionStyleModel",
            "_view_count": null,
            "_view_module": "@jupyter-widgets/base",
            "_view_module_version": "1.2.0",
            "_view_name": "StyleView",
            "description_width": ""
          }
        },
        "a39125371d464a1885ea22a2d25b3d0c": {
          "model_module": "@jupyter-widgets/base",
          "model_name": "LayoutModel",
          "model_module_version": "1.2.0",
          "state": {
            "_model_module": "@jupyter-widgets/base",
            "_model_module_version": "1.2.0",
            "_model_name": "LayoutModel",
            "_view_count": null,
            "_view_module": "@jupyter-widgets/base",
            "_view_module_version": "1.2.0",
            "_view_name": "LayoutView",
            "align_content": null,
            "align_items": null,
            "align_self": null,
            "border": null,
            "bottom": null,
            "display": null,
            "flex": "2",
            "flex_flow": null,
            "grid_area": null,
            "grid_auto_columns": null,
            "grid_auto_flow": null,
            "grid_auto_rows": null,
            "grid_column": null,
            "grid_gap": null,
            "grid_row": null,
            "grid_template_areas": null,
            "grid_template_columns": null,
            "grid_template_rows": null,
            "height": null,
            "justify_content": null,
            "justify_items": null,
            "left": null,
            "margin": null,
            "max_height": null,
            "max_width": null,
            "min_height": null,
            "min_width": null,
            "object_fit": null,
            "object_position": null,
            "order": null,
            "overflow": null,
            "overflow_x": null,
            "overflow_y": null,
            "padding": null,
            "right": null,
            "top": null,
            "visibility": null,
            "width": null
          }
        },
        "264444326c534ec8bae16a971c8065bf": {
          "model_module": "@jupyter-widgets/controls",
          "model_name": "ProgressStyleModel",
          "model_module_version": "1.5.0",
          "state": {
            "_model_module": "@jupyter-widgets/controls",
            "_model_module_version": "1.5.0",
            "_model_name": "ProgressStyleModel",
            "_view_count": null,
            "_view_module": "@jupyter-widgets/base",
            "_view_module_version": "1.2.0",
            "_view_name": "StyleView",
            "bar_color": null,
            "description_width": ""
          }
        },
        "c7eaa37e171440678e754e87bbaf6274": {
          "model_module": "@jupyter-widgets/base",
          "model_name": "LayoutModel",
          "model_module_version": "1.2.0",
          "state": {
            "_model_module": "@jupyter-widgets/base",
            "_model_module_version": "1.2.0",
            "_model_name": "LayoutModel",
            "_view_count": null,
            "_view_module": "@jupyter-widgets/base",
            "_view_module_version": "1.2.0",
            "_view_name": "LayoutView",
            "align_content": null,
            "align_items": null,
            "align_self": null,
            "border": null,
            "bottom": null,
            "display": null,
            "flex": null,
            "flex_flow": null,
            "grid_area": null,
            "grid_auto_columns": null,
            "grid_auto_flow": null,
            "grid_auto_rows": null,
            "grid_column": null,
            "grid_gap": null,
            "grid_row": null,
            "grid_template_areas": null,
            "grid_template_columns": null,
            "grid_template_rows": null,
            "height": null,
            "justify_content": null,
            "justify_items": null,
            "left": null,
            "margin": null,
            "max_height": null,
            "max_width": null,
            "min_height": null,
            "min_width": null,
            "object_fit": null,
            "object_position": null,
            "order": null,
            "overflow": null,
            "overflow_x": null,
            "overflow_y": null,
            "padding": null,
            "right": null,
            "top": null,
            "visibility": null,
            "width": null
          }
        },
        "5ed5819b75d041b0bf4a4e7752cda7cc": {
          "model_module": "@jupyter-widgets/controls",
          "model_name": "DescriptionStyleModel",
          "model_module_version": "1.5.0",
          "state": {
            "_model_module": "@jupyter-widgets/controls",
            "_model_module_version": "1.5.0",
            "_model_name": "DescriptionStyleModel",
            "_view_count": null,
            "_view_module": "@jupyter-widgets/base",
            "_view_module_version": "1.2.0",
            "_view_name": "StyleView",
            "description_width": ""
          }
        },
        "49f7bfb2138c4c7e97c3ef4964497e8f": {
          "model_module": "@jupyter-widgets/controls",
          "model_name": "HBoxModel",
          "model_module_version": "1.5.0",
          "state": {
            "_dom_classes": [],
            "_model_module": "@jupyter-widgets/controls",
            "_model_module_version": "1.5.0",
            "_model_name": "HBoxModel",
            "_view_count": null,
            "_view_module": "@jupyter-widgets/controls",
            "_view_module_version": "1.5.0",
            "_view_name": "HBoxView",
            "box_style": "",
            "children": [
              "IPY_MODEL_935bad5adf724c81b4a63ae291b1d89b",
              "IPY_MODEL_9a037f95eece40559bf1f8d62257a487",
              "IPY_MODEL_76e6a8165fc043c795dbeb8eb45bd04f"
            ],
            "layout": "IPY_MODEL_e5e6f805f87341a7812457cd525aeb1f"
          }
        },
        "935bad5adf724c81b4a63ae291b1d89b": {
          "model_module": "@jupyter-widgets/controls",
          "model_name": "HTMLModel",
          "model_module_version": "1.5.0",
          "state": {
            "_dom_classes": [],
            "_model_module": "@jupyter-widgets/controls",
            "_model_module_version": "1.5.0",
            "_model_name": "HTMLModel",
            "_view_count": null,
            "_view_module": "@jupyter-widgets/controls",
            "_view_module_version": "1.5.0",
            "_view_name": "HTMLView",
            "description": "",
            "description_tooltip": null,
            "layout": "IPY_MODEL_353ec73381e24aeca25d5666df411e95",
            "placeholder": "​",
            "style": "IPY_MODEL_638238e0271b4210a60189835be381fe",
            "value": "100%"
          }
        },
        "9a037f95eece40559bf1f8d62257a487": {
          "model_module": "@jupyter-widgets/controls",
          "model_name": "FloatProgressModel",
          "model_module_version": "1.5.0",
          "state": {
            "_dom_classes": [],
            "_model_module": "@jupyter-widgets/controls",
            "_model_module_version": "1.5.0",
            "_model_name": "FloatProgressModel",
            "_view_count": null,
            "_view_module": "@jupyter-widgets/controls",
            "_view_module_version": "1.5.0",
            "_view_name": "ProgressView",
            "bar_style": "success",
            "description": "",
            "description_tooltip": null,
            "layout": "IPY_MODEL_da05fda33c5d4d95a0d9eaca4104fb6d",
            "max": 185,
            "min": 0,
            "orientation": "horizontal",
            "style": "IPY_MODEL_d403f877b7764e749b4543474e64d355",
            "value": 185
          }
        },
        "76e6a8165fc043c795dbeb8eb45bd04f": {
          "model_module": "@jupyter-widgets/controls",
          "model_name": "HTMLModel",
          "model_module_version": "1.5.0",
          "state": {
            "_dom_classes": [],
            "_model_module": "@jupyter-widgets/controls",
            "_model_module_version": "1.5.0",
            "_model_name": "HTMLModel",
            "_view_count": null,
            "_view_module": "@jupyter-widgets/controls",
            "_view_module_version": "1.5.0",
            "_view_name": "HTMLView",
            "description": "",
            "description_tooltip": null,
            "layout": "IPY_MODEL_e31373848496409a9ee6ea73ea7c5b96",
            "placeholder": "​",
            "style": "IPY_MODEL_92576e26086f404abd06d757cf8ae487",
            "value": " 185/185 [03:45&lt;00:00,  1.09s/it]"
          }
        },
        "e5e6f805f87341a7812457cd525aeb1f": {
          "model_module": "@jupyter-widgets/base",
          "model_name": "LayoutModel",
          "model_module_version": "1.2.0",
          "state": {
            "_model_module": "@jupyter-widgets/base",
            "_model_module_version": "1.2.0",
            "_model_name": "LayoutModel",
            "_view_count": null,
            "_view_module": "@jupyter-widgets/base",
            "_view_module_version": "1.2.0",
            "_view_name": "LayoutView",
            "align_content": null,
            "align_items": null,
            "align_self": null,
            "border": null,
            "bottom": null,
            "display": null,
            "flex": null,
            "flex_flow": null,
            "grid_area": null,
            "grid_auto_columns": null,
            "grid_auto_flow": null,
            "grid_auto_rows": null,
            "grid_column": null,
            "grid_gap": null,
            "grid_row": null,
            "grid_template_areas": null,
            "grid_template_columns": null,
            "grid_template_rows": null,
            "height": null,
            "justify_content": null,
            "justify_items": null,
            "left": null,
            "margin": null,
            "max_height": null,
            "max_width": null,
            "min_height": null,
            "min_width": null,
            "object_fit": null,
            "object_position": null,
            "order": null,
            "overflow": null,
            "overflow_x": null,
            "overflow_y": null,
            "padding": null,
            "right": null,
            "top": null,
            "visibility": null,
            "width": null
          }
        },
        "353ec73381e24aeca25d5666df411e95": {
          "model_module": "@jupyter-widgets/base",
          "model_name": "LayoutModel",
          "model_module_version": "1.2.0",
          "state": {
            "_model_module": "@jupyter-widgets/base",
            "_model_module_version": "1.2.0",
            "_model_name": "LayoutModel",
            "_view_count": null,
            "_view_module": "@jupyter-widgets/base",
            "_view_module_version": "1.2.0",
            "_view_name": "LayoutView",
            "align_content": null,
            "align_items": null,
            "align_self": null,
            "border": null,
            "bottom": null,
            "display": null,
            "flex": null,
            "flex_flow": null,
            "grid_area": null,
            "grid_auto_columns": null,
            "grid_auto_flow": null,
            "grid_auto_rows": null,
            "grid_column": null,
            "grid_gap": null,
            "grid_row": null,
            "grid_template_areas": null,
            "grid_template_columns": null,
            "grid_template_rows": null,
            "height": null,
            "justify_content": null,
            "justify_items": null,
            "left": null,
            "margin": null,
            "max_height": null,
            "max_width": null,
            "min_height": null,
            "min_width": null,
            "object_fit": null,
            "object_position": null,
            "order": null,
            "overflow": null,
            "overflow_x": null,
            "overflow_y": null,
            "padding": null,
            "right": null,
            "top": null,
            "visibility": null,
            "width": null
          }
        },
        "638238e0271b4210a60189835be381fe": {
          "model_module": "@jupyter-widgets/controls",
          "model_name": "DescriptionStyleModel",
          "model_module_version": "1.5.0",
          "state": {
            "_model_module": "@jupyter-widgets/controls",
            "_model_module_version": "1.5.0",
            "_model_name": "DescriptionStyleModel",
            "_view_count": null,
            "_view_module": "@jupyter-widgets/base",
            "_view_module_version": "1.2.0",
            "_view_name": "StyleView",
            "description_width": ""
          }
        },
        "da05fda33c5d4d95a0d9eaca4104fb6d": {
          "model_module": "@jupyter-widgets/base",
          "model_name": "LayoutModel",
          "model_module_version": "1.2.0",
          "state": {
            "_model_module": "@jupyter-widgets/base",
            "_model_module_version": "1.2.0",
            "_model_name": "LayoutModel",
            "_view_count": null,
            "_view_module": "@jupyter-widgets/base",
            "_view_module_version": "1.2.0",
            "_view_name": "LayoutView",
            "align_content": null,
            "align_items": null,
            "align_self": null,
            "border": null,
            "bottom": null,
            "display": null,
            "flex": null,
            "flex_flow": null,
            "grid_area": null,
            "grid_auto_columns": null,
            "grid_auto_flow": null,
            "grid_auto_rows": null,
            "grid_column": null,
            "grid_gap": null,
            "grid_row": null,
            "grid_template_areas": null,
            "grid_template_columns": null,
            "grid_template_rows": null,
            "height": null,
            "justify_content": null,
            "justify_items": null,
            "left": null,
            "margin": null,
            "max_height": null,
            "max_width": null,
            "min_height": null,
            "min_width": null,
            "object_fit": null,
            "object_position": null,
            "order": null,
            "overflow": null,
            "overflow_x": null,
            "overflow_y": null,
            "padding": null,
            "right": null,
            "top": null,
            "visibility": null,
            "width": null
          }
        },
        "d403f877b7764e749b4543474e64d355": {
          "model_module": "@jupyter-widgets/controls",
          "model_name": "ProgressStyleModel",
          "model_module_version": "1.5.0",
          "state": {
            "_model_module": "@jupyter-widgets/controls",
            "_model_module_version": "1.5.0",
            "_model_name": "ProgressStyleModel",
            "_view_count": null,
            "_view_module": "@jupyter-widgets/base",
            "_view_module_version": "1.2.0",
            "_view_name": "StyleView",
            "bar_color": null,
            "description_width": ""
          }
        },
        "e31373848496409a9ee6ea73ea7c5b96": {
          "model_module": "@jupyter-widgets/base",
          "model_name": "LayoutModel",
          "model_module_version": "1.2.0",
          "state": {
            "_model_module": "@jupyter-widgets/base",
            "_model_module_version": "1.2.0",
            "_model_name": "LayoutModel",
            "_view_count": null,
            "_view_module": "@jupyter-widgets/base",
            "_view_module_version": "1.2.0",
            "_view_name": "LayoutView",
            "align_content": null,
            "align_items": null,
            "align_self": null,
            "border": null,
            "bottom": null,
            "display": null,
            "flex": null,
            "flex_flow": null,
            "grid_area": null,
            "grid_auto_columns": null,
            "grid_auto_flow": null,
            "grid_auto_rows": null,
            "grid_column": null,
            "grid_gap": null,
            "grid_row": null,
            "grid_template_areas": null,
            "grid_template_columns": null,
            "grid_template_rows": null,
            "height": null,
            "justify_content": null,
            "justify_items": null,
            "left": null,
            "margin": null,
            "max_height": null,
            "max_width": null,
            "min_height": null,
            "min_width": null,
            "object_fit": null,
            "object_position": null,
            "order": null,
            "overflow": null,
            "overflow_x": null,
            "overflow_y": null,
            "padding": null,
            "right": null,
            "top": null,
            "visibility": null,
            "width": null
          }
        },
        "92576e26086f404abd06d757cf8ae487": {
          "model_module": "@jupyter-widgets/controls",
          "model_name": "DescriptionStyleModel",
          "model_module_version": "1.5.0",
          "state": {
            "_model_module": "@jupyter-widgets/controls",
            "_model_module_version": "1.5.0",
            "_model_name": "DescriptionStyleModel",
            "_view_count": null,
            "_view_module": "@jupyter-widgets/base",
            "_view_module_version": "1.2.0",
            "_view_name": "StyleView",
            "description_width": ""
          }
        }
      }
    }
  },
  "nbformat": 4,
  "nbformat_minor": 5
}