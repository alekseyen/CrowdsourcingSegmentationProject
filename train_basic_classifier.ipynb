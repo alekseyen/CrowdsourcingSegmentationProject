{
  "cells": [
    {
      "cell_type": "code",
      "execution_count": null,
      "id": "ec775138",
      "metadata": {
        "execution": {
          "iopub.execute_input": "2022-10-08T04:53:10.907665Z",
          "iopub.status.busy": "2022-10-08T04:53:10.907469Z",
          "iopub.status.idle": "2022-10-08T04:53:10.923080Z",
          "shell.execute_reply": "2022-10-08T04:53:10.921977Z",
          "shell.execute_reply.started": "2022-10-08T04:53:10.907631Z"
        },
        "tags": [],
        "id": "ec775138"
      },
      "outputs": [],
      "source": [
        "%load_ext autoreload"
      ]
    },
    {
      "cell_type": "code",
      "execution_count": null,
      "id": "ee527d59",
      "metadata": {
        "execution": {
          "iopub.execute_input": "2022-10-08T04:53:10.924695Z",
          "iopub.status.busy": "2022-10-08T04:53:10.924540Z",
          "iopub.status.idle": "2022-10-08T04:53:10.929815Z",
          "shell.execute_reply": "2022-10-08T04:53:10.928443Z",
          "shell.execute_reply.started": "2022-10-08T04:53:10.924674Z"
        },
        "tags": [],
        "id": "ee527d59"
      },
      "outputs": [],
      "source": [
        "%autoreload 2"
      ]
    },
    {
      "cell_type": "code",
      "execution_count": null,
      "id": "88208149-0bec-4d84-b956-c7f761c9141c",
      "metadata": {
        "colab": {
          "base_uri": "https://localhost:8080/"
        },
        "id": "88208149-0bec-4d84-b956-c7f761c9141c",
        "outputId": "961b00e7-93fb-457f-9edf-651a3cdf261f"
      },
      "outputs": [
        {
          "output_type": "stream",
          "name": "stdout",
          "text": [
            "--2022-10-10 15:41:36--  https://tlk.s3.yandex.net/course/shad_cv_project_22/dataset_students.zip\n",
            "Resolving tlk.s3.yandex.net (tlk.s3.yandex.net)... 93.158.134.158, 2a02:6b8::2:158\n",
            "Connecting to tlk.s3.yandex.net (tlk.s3.yandex.net)|93.158.134.158|:443... connected.\n",
            "HTTP request sent, awaiting response... 200 OK\n",
            "Length: 420347812 (401M) [application/zip]\n",
            "Saving to: ‘dataset_students.zip.1’\n",
            "\n",
            "dataset_students.zi 100%[===================>] 400.87M  20.8MB/s    in 21s     \n",
            "\n",
            "2022-10-10 15:41:58 (19.3 MB/s) - ‘dataset_students.zip.1’ saved [420347812/420347812]\n",
            "\n",
            "Archive:  dataset_students.zip\n",
            "replace dataset_students/classification/train_labelled.csv? [y]es, [n]o, [A]ll, [N]one, [r]ename: n\n",
            "replace dataset_students/classification/train_labelled/0.png? [y]es, [n]o, [A]ll, [N]one, [r]ename: n\n",
            "replace __MACOSX/dataset_students/classification/train_labelled/._0.png? [y]es, [n]o, [A]ll, [N]one, [r]ename: n\n",
            "replace dataset_students/classification/train_labelled/1.png? [y]es, [n]o, [A]ll, [N]one, [r]ename: n\n",
            "replace __MACOSX/dataset_students/classification/train_labelled/._1.png? [y]es, [n]o, [A]ll, [N]one, [r]ename: n\n",
            "replace dataset_students/classification/train_labelled/2.png? [y]es, [n]o, [A]ll, [N]one, [r]ename: n\n",
            "replace __MACOSX/dataset_students/classification/train_labelled/._2.png? [y]es, [n]o, [A]ll, [N]one, [r]ename: n\n",
            "replace dataset_students/classification/train_labelled/3.png? [y]es, [n]o, [A]ll, [N]one, [r]ename: n\n",
            "replace __MACOSX/dataset_students/classification/train_labelled/._3.png? [y]es, [n]o, [A]ll, [N]one, [r]ename: n\n",
            "replace dataset_students/classification/train_labelled/4.png? [y]es, [n]o, [A]ll, [N]one, [r]ename: "
          ]
        }
      ],
      "source": [
        "!wget https://tlk.s3.yandex.net/course/shad_cv_project_22/dataset_students.zip\n",
        "!unzip dataset_students.zip\n"
      ]
    },
    {
      "cell_type": "code",
      "source": [
        "!pip install -q pytorch-lightning wandb\n",
        "!pip install ipyplot\n",
        "!pip install timm"
      ],
      "metadata": {
        "colab": {
          "base_uri": "https://localhost:8080/"
        },
        "id": "g5IS7FrVtOOA",
        "outputId": "d50b3c40-3744-4e90-89af-9ad05e9d26c2"
      },
      "id": "g5IS7FrVtOOA",
      "execution_count": null,
      "outputs": [
        {
          "output_type": "stream",
          "name": "stdout",
          "text": [
            "n\n",
            "Looking in indexes: https://pypi.org/simple, https://us-python.pkg.dev/colab-wheels/public/simple/\n",
            "Requirement already satisfied: ipyplot in /usr/local/lib/python3.7/dist-packages (1.1.1)\n",
            "Requirement already satisfied: shortuuid in /usr/local/lib/python3.7/dist-packages (from ipyplot) (1.0.9)\n",
            "Requirement already satisfied: IPython in /usr/local/lib/python3.7/dist-packages (from ipyplot) (7.9.0)\n",
            "Requirement already satisfied: numpy in /usr/local/lib/python3.7/dist-packages (from ipyplot) (1.21.6)\n",
            "Requirement already satisfied: pillow in /usr/local/lib/python3.7/dist-packages (from ipyplot) (7.1.2)\n",
            "Requirement already satisfied: pygments in /usr/local/lib/python3.7/dist-packages (from IPython->ipyplot) (2.6.1)\n",
            "Requirement already satisfied: prompt-toolkit<2.1.0,>=2.0.0 in /usr/local/lib/python3.7/dist-packages (from IPython->ipyplot) (2.0.10)\n",
            "Requirement already satisfied: jedi>=0.10 in /usr/local/lib/python3.7/dist-packages (from IPython->ipyplot) (0.18.1)\n",
            "Requirement already satisfied: pickleshare in /usr/local/lib/python3.7/dist-packages (from IPython->ipyplot) (0.7.5)\n",
            "Requirement already satisfied: backcall in /usr/local/lib/python3.7/dist-packages (from IPython->ipyplot) (0.2.0)\n",
            "Requirement already satisfied: traitlets>=4.2 in /usr/local/lib/python3.7/dist-packages (from IPython->ipyplot) (5.1.1)\n",
            "Requirement already satisfied: setuptools>=18.5 in /usr/local/lib/python3.7/dist-packages (from IPython->ipyplot) (57.4.0)\n",
            "Requirement already satisfied: pexpect in /usr/local/lib/python3.7/dist-packages (from IPython->ipyplot) (4.8.0)\n",
            "Requirement already satisfied: decorator in /usr/local/lib/python3.7/dist-packages (from IPython->ipyplot) (4.4.2)\n",
            "Requirement already satisfied: parso<0.9.0,>=0.8.0 in /usr/local/lib/python3.7/dist-packages (from jedi>=0.10->IPython->ipyplot) (0.8.3)\n",
            "Requirement already satisfied: wcwidth in /usr/local/lib/python3.7/dist-packages (from prompt-toolkit<2.1.0,>=2.0.0->IPython->ipyplot) (0.2.5)\n",
            "Requirement already satisfied: six>=1.9.0 in /usr/local/lib/python3.7/dist-packages (from prompt-toolkit<2.1.0,>=2.0.0->IPython->ipyplot) (1.15.0)\n",
            "Requirement already satisfied: ptyprocess>=0.5 in /usr/local/lib/python3.7/dist-packages (from pexpect->IPython->ipyplot) (0.7.0)\n",
            "Looking in indexes: https://pypi.org/simple, https://us-python.pkg.dev/colab-wheels/public/simple/\n",
            "Requirement already satisfied: timm in /usr/local/lib/python3.7/dist-packages (0.6.11)\n",
            "Requirement already satisfied: huggingface-hub in /usr/local/lib/python3.7/dist-packages (from timm) (0.10.0)\n",
            "Requirement already satisfied: pyyaml in /usr/local/lib/python3.7/dist-packages (from timm) (6.0)\n",
            "Requirement already satisfied: torch>=1.7 in /usr/local/lib/python3.7/dist-packages (from timm) (1.12.1+cu113)\n",
            "Requirement already satisfied: torchvision in /usr/local/lib/python3.7/dist-packages (from timm) (0.13.1+cu113)\n",
            "Requirement already satisfied: typing-extensions in /usr/local/lib/python3.7/dist-packages (from torch>=1.7->timm) (4.1.1)\n",
            "Requirement already satisfied: importlib-metadata in /usr/local/lib/python3.7/dist-packages (from huggingface-hub->timm) (5.0.0)\n",
            "Requirement already satisfied: tqdm in /usr/local/lib/python3.7/dist-packages (from huggingface-hub->timm) (4.64.1)\n",
            "Requirement already satisfied: packaging>=20.9 in /usr/local/lib/python3.7/dist-packages (from huggingface-hub->timm) (21.3)\n",
            "Requirement already satisfied: requests in /usr/local/lib/python3.7/dist-packages (from huggingface-hub->timm) (2.23.0)\n",
            "Requirement already satisfied: filelock in /usr/local/lib/python3.7/dist-packages (from huggingface-hub->timm) (3.8.0)\n",
            "Requirement already satisfied: pyparsing!=3.0.5,>=2.0.2 in /usr/local/lib/python3.7/dist-packages (from packaging>=20.9->huggingface-hub->timm) (3.0.9)\n",
            "Requirement already satisfied: zipp>=0.5 in /usr/local/lib/python3.7/dist-packages (from importlib-metadata->huggingface-hub->timm) (3.8.1)\n",
            "Requirement already satisfied: urllib3!=1.25.0,!=1.25.1,<1.26,>=1.21.1 in /usr/local/lib/python3.7/dist-packages (from requests->huggingface-hub->timm) (1.24.3)\n",
            "Requirement already satisfied: chardet<4,>=3.0.2 in /usr/local/lib/python3.7/dist-packages (from requests->huggingface-hub->timm) (3.0.4)\n",
            "Requirement already satisfied: certifi>=2017.4.17 in /usr/local/lib/python3.7/dist-packages (from requests->huggingface-hub->timm) (2022.9.24)\n",
            "Requirement already satisfied: idna<3,>=2.5 in /usr/local/lib/python3.7/dist-packages (from requests->huggingface-hub->timm) (2.10)\n",
            "Requirement already satisfied: numpy in /usr/local/lib/python3.7/dist-packages (from torchvision->timm) (1.21.6)\n",
            "Requirement already satisfied: pillow!=8.3.*,>=5.3.0 in /usr/local/lib/python3.7/dist-packages (from torchvision->timm) (7.1.2)\n"
          ]
        }
      ]
    },
    {
      "cell_type": "code",
      "source": [
        "!git clone https://github.com/alekseyen/TolokaCvProject.git"
      ],
      "metadata": {
        "colab": {
          "base_uri": "https://localhost:8080/"
        },
        "id": "5xGwDrJncKab",
        "outputId": "a8fafb24-f925-442c-9dd1-6753a81ddfe3"
      },
      "id": "5xGwDrJncKab",
      "execution_count": null,
      "outputs": [
        {
          "output_type": "stream",
          "name": "stdout",
          "text": [
            "Cloning into 'TolokaCvProject'...\n",
            "remote: Enumerating objects: 68, done.\u001b[K\n",
            "remote: Counting objects: 100% (68/68), done.\u001b[K\n",
            "remote: Compressing objects: 100% (38/38), done.\u001b[K\n",
            "remote: Total 68 (delta 31), reused 65 (delta 28), pack-reused 0\u001b[K\n",
            "Unpacking objects: 100% (68/68), done.\n"
          ]
        }
      ]
    },
    {
      "cell_type": "code",
      "source": [
        "!mv TolokaCvProject/* ."
      ],
      "metadata": {
        "id": "pYbELn4KcONh"
      },
      "id": "pYbELn4KcONh",
      "execution_count": null,
      "outputs": []
    },
    {
      "cell_type": "code",
      "execution_count": null,
      "id": "1045b884",
      "metadata": {
        "execution": {
          "iopub.execute_input": "2022-10-08T04:53:10.931197Z",
          "iopub.status.busy": "2022-10-08T04:53:10.930958Z",
          "iopub.status.idle": "2022-10-08T04:53:13.149462Z",
          "shell.execute_reply": "2022-10-08T04:53:13.148427Z",
          "shell.execute_reply.started": "2022-10-08T04:53:10.931171Z"
        },
        "tags": [],
        "id": "1045b884"
      },
      "outputs": [],
      "source": [
        "import pytorch_lightning as pl"
      ]
    },
    {
      "cell_type": "code",
      "execution_count": null,
      "id": "735284dd",
      "metadata": {
        "execution": {
          "iopub.execute_input": "2022-10-08T04:53:13.151327Z",
          "iopub.status.busy": "2022-10-08T04:53:13.151086Z",
          "iopub.status.idle": "2022-10-08T04:53:14.597808Z",
          "shell.execute_reply": "2022-10-08T04:53:14.597008Z",
          "shell.execute_reply.started": "2022-10-08T04:53:13.151292Z"
        },
        "tags": [],
        "colab": {
          "base_uri": "https://localhost:8080/"
        },
        "id": "735284dd",
        "outputId": "ff96cee0-af03-434e-f96d-c7297537662d"
      },
      "outputs": [
        {
          "output_type": "stream",
          "name": "stdout",
          "text": [
            "\n",
            "        WARNING! Google Colab Environment detected!\n",
            "        You might encounter issues while running in Google Colab environment.\n",
            "        If images are not displaying properly please try setting `force_b64` param to `True`.\n",
            "        \n"
          ]
        }
      ],
      "source": [
        "import pandas as pd\n",
        "import ipyplot\n",
        "import torch\n",
        "import pytorch_lightning as pl\n",
        "from sklearn.metrics import f1_score\n",
        "%matplotlib inline"
      ]
    },
    {
      "cell_type": "code",
      "execution_count": null,
      "id": "5a54929f",
      "metadata": {
        "execution": {
          "iopub.execute_input": "2022-10-08T04:53:14.599297Z",
          "iopub.status.busy": "2022-10-08T04:53:14.598986Z",
          "iopub.status.idle": "2022-10-08T04:53:14.856742Z",
          "shell.execute_reply": "2022-10-08T04:53:14.855834Z",
          "shell.execute_reply.started": "2022-10-08T04:53:14.599262Z"
        },
        "tags": [],
        "id": "5a54929f"
      },
      "outputs": [],
      "source": [
        "from src.model import ImageClassifier\n",
        "from src.utils import ImagesDataset, evaluate_model\n",
        "from src.transforms import transform\n",
        "from src import params"
      ]
    },
    {
      "cell_type": "code",
      "execution_count": null,
      "id": "99a949e6-a9ad-4795-b3db-c4216b91136a",
      "metadata": {
        "execution": {
          "iopub.execute_input": "2022-10-08T04:53:14.859195Z",
          "iopub.status.busy": "2022-10-08T04:53:14.858915Z",
          "iopub.status.idle": "2022-10-08T04:53:15.330583Z",
          "shell.execute_reply": "2022-10-08T04:53:15.329422Z",
          "shell.execute_reply.started": "2022-10-08T04:53:14.859145Z"
        },
        "tags": [],
        "colab": {
          "base_uri": "https://localhost:8080/"
        },
        "id": "99a949e6-a9ad-4795-b3db-c4216b91136a",
        "outputId": "44a30930-061b-4f88-d5fa-296fc020b297"
      },
      "outputs": [
        {
          "output_type": "stream",
          "name": "stdout",
          "text": [
            "Mon Oct 10 15:43:12 2022       \n",
            "+-----------------------------------------------------------------------------+\n",
            "| NVIDIA-SMI 460.32.03    Driver Version: 460.32.03    CUDA Version: 11.2     |\n",
            "|-------------------------------+----------------------+----------------------+\n",
            "| GPU  Name        Persistence-M| Bus-Id        Disp.A | Volatile Uncorr. ECC |\n",
            "| Fan  Temp  Perf  Pwr:Usage/Cap|         Memory-Usage | GPU-Util  Compute M. |\n",
            "|                               |                      |               MIG M. |\n",
            "|===============================+======================+======================|\n",
            "|   0  Tesla T4            Off  | 00000000:00:04.0 Off |                    0 |\n",
            "| N/A   35C    P8     9W /  70W |      0MiB / 15109MiB |      0%      Default |\n",
            "|                               |                      |                  N/A |\n",
            "+-------------------------------+----------------------+----------------------+\n",
            "                                                                               \n",
            "+-----------------------------------------------------------------------------+\n",
            "| Processes:                                                                  |\n",
            "|  GPU   GI   CI        PID   Type   Process name                  GPU Memory |\n",
            "|        ID   ID                                                   Usage      |\n",
            "|=============================================================================|\n",
            "|  No running processes found                                                 |\n",
            "+-----------------------------------------------------------------------------+\n"
          ]
        }
      ],
      "source": [
        "!nvidia-smi"
      ]
    },
    {
      "cell_type": "markdown",
      "id": "76444aad",
      "metadata": {
        "id": "76444aad"
      },
      "source": [
        "# Load dataset"
      ]
    },
    {
      "cell_type": "code",
      "execution_count": null,
      "id": "624d1b29-6e76-462a-89be-8b52244c9257",
      "metadata": {
        "execution": {
          "iopub.execute_input": "2022-10-08T04:53:15.332498Z",
          "iopub.status.busy": "2022-10-08T04:53:15.332188Z",
          "iopub.status.idle": "2022-10-08T04:53:15.399824Z",
          "shell.execute_reply": "2022-10-08T04:53:15.398630Z",
          "shell.execute_reply.started": "2022-10-08T04:53:15.332446Z"
        },
        "tags": [],
        "colab": {
          "base_uri": "https://localhost:8080/",
          "height": 206
        },
        "id": "624d1b29-6e76-462a-89be-8b52244c9257",
        "outputId": "20197669-31b6-4339-f8c7-a0671fdfadf1"
      },
      "outputs": [
        {
          "output_type": "execute_result",
          "data": {
            "text/plain": [
              "                                         INPUT:image OUTPUT:result  \\\n",
              "0  dataset_students/classification/train_labelled...            no   \n",
              "1  dataset_students/classification/train_labelled...            no   \n",
              "2  dataset_students/classification/train_labelled...            no   \n",
              "3  dataset_students/classification/train_labelled...            no   \n",
              "4  dataset_students/classification/train_labelled...            no   \n",
              "\n",
              "  CONFIDENCE:result  \n",
              "0           100.00%  \n",
              "1           100.00%  \n",
              "2           100.00%  \n",
              "3           100.00%  \n",
              "4           100.00%  "
            ],
            "text/html": [
              "\n",
              "  <div id=\"df-12fce7a1-0873-4a49-9ab9-5a2326805543\">\n",
              "    <div class=\"colab-df-container\">\n",
              "      <div>\n",
              "<style scoped>\n",
              "    .dataframe tbody tr th:only-of-type {\n",
              "        vertical-align: middle;\n",
              "    }\n",
              "\n",
              "    .dataframe tbody tr th {\n",
              "        vertical-align: top;\n",
              "    }\n",
              "\n",
              "    .dataframe thead th {\n",
              "        text-align: right;\n",
              "    }\n",
              "</style>\n",
              "<table border=\"1\" class=\"dataframe\">\n",
              "  <thead>\n",
              "    <tr style=\"text-align: right;\">\n",
              "      <th></th>\n",
              "      <th>INPUT:image</th>\n",
              "      <th>OUTPUT:result</th>\n",
              "      <th>CONFIDENCE:result</th>\n",
              "    </tr>\n",
              "  </thead>\n",
              "  <tbody>\n",
              "    <tr>\n",
              "      <th>0</th>\n",
              "      <td>dataset_students/classification/train_labelled...</td>\n",
              "      <td>no</td>\n",
              "      <td>100.00%</td>\n",
              "    </tr>\n",
              "    <tr>\n",
              "      <th>1</th>\n",
              "      <td>dataset_students/classification/train_labelled...</td>\n",
              "      <td>no</td>\n",
              "      <td>100.00%</td>\n",
              "    </tr>\n",
              "    <tr>\n",
              "      <th>2</th>\n",
              "      <td>dataset_students/classification/train_labelled...</td>\n",
              "      <td>no</td>\n",
              "      <td>100.00%</td>\n",
              "    </tr>\n",
              "    <tr>\n",
              "      <th>3</th>\n",
              "      <td>dataset_students/classification/train_labelled...</td>\n",
              "      <td>no</td>\n",
              "      <td>100.00%</td>\n",
              "    </tr>\n",
              "    <tr>\n",
              "      <th>4</th>\n",
              "      <td>dataset_students/classification/train_labelled...</td>\n",
              "      <td>no</td>\n",
              "      <td>100.00%</td>\n",
              "    </tr>\n",
              "  </tbody>\n",
              "</table>\n",
              "</div>\n",
              "      <button class=\"colab-df-convert\" onclick=\"convertToInteractive('df-12fce7a1-0873-4a49-9ab9-5a2326805543')\"\n",
              "              title=\"Convert this dataframe to an interactive table.\"\n",
              "              style=\"display:none;\">\n",
              "        \n",
              "  <svg xmlns=\"http://www.w3.org/2000/svg\" height=\"24px\"viewBox=\"0 0 24 24\"\n",
              "       width=\"24px\">\n",
              "    <path d=\"M0 0h24v24H0V0z\" fill=\"none\"/>\n",
              "    <path d=\"M18.56 5.44l.94 2.06.94-2.06 2.06-.94-2.06-.94-.94-2.06-.94 2.06-2.06.94zm-11 1L8.5 8.5l.94-2.06 2.06-.94-2.06-.94L8.5 2.5l-.94 2.06-2.06.94zm10 10l.94 2.06.94-2.06 2.06-.94-2.06-.94-.94-2.06-.94 2.06-2.06.94z\"/><path d=\"M17.41 7.96l-1.37-1.37c-.4-.4-.92-.59-1.43-.59-.52 0-1.04.2-1.43.59L10.3 9.45l-7.72 7.72c-.78.78-.78 2.05 0 2.83L4 21.41c.39.39.9.59 1.41.59.51 0 1.02-.2 1.41-.59l7.78-7.78 2.81-2.81c.8-.78.8-2.07 0-2.86zM5.41 20L4 18.59l7.72-7.72 1.47 1.35L5.41 20z\"/>\n",
              "  </svg>\n",
              "      </button>\n",
              "      \n",
              "  <style>\n",
              "    .colab-df-container {\n",
              "      display:flex;\n",
              "      flex-wrap:wrap;\n",
              "      gap: 12px;\n",
              "    }\n",
              "\n",
              "    .colab-df-convert {\n",
              "      background-color: #E8F0FE;\n",
              "      border: none;\n",
              "      border-radius: 50%;\n",
              "      cursor: pointer;\n",
              "      display: none;\n",
              "      fill: #1967D2;\n",
              "      height: 32px;\n",
              "      padding: 0 0 0 0;\n",
              "      width: 32px;\n",
              "    }\n",
              "\n",
              "    .colab-df-convert:hover {\n",
              "      background-color: #E2EBFA;\n",
              "      box-shadow: 0px 1px 2px rgba(60, 64, 67, 0.3), 0px 1px 3px 1px rgba(60, 64, 67, 0.15);\n",
              "      fill: #174EA6;\n",
              "    }\n",
              "\n",
              "    [theme=dark] .colab-df-convert {\n",
              "      background-color: #3B4455;\n",
              "      fill: #D2E3FC;\n",
              "    }\n",
              "\n",
              "    [theme=dark] .colab-df-convert:hover {\n",
              "      background-color: #434B5C;\n",
              "      box-shadow: 0px 1px 3px 1px rgba(0, 0, 0, 0.15);\n",
              "      filter: drop-shadow(0px 1px 2px rgba(0, 0, 0, 0.3));\n",
              "      fill: #FFFFFF;\n",
              "    }\n",
              "  </style>\n",
              "\n",
              "      <script>\n",
              "        const buttonEl =\n",
              "          document.querySelector('#df-12fce7a1-0873-4a49-9ab9-5a2326805543 button.colab-df-convert');\n",
              "        buttonEl.style.display =\n",
              "          google.colab.kernel.accessAllowed ? 'block' : 'none';\n",
              "\n",
              "        async function convertToInteractive(key) {\n",
              "          const element = document.querySelector('#df-12fce7a1-0873-4a49-9ab9-5a2326805543');\n",
              "          const dataTable =\n",
              "            await google.colab.kernel.invokeFunction('convertToInteractive',\n",
              "                                                     [key], {});\n",
              "          if (!dataTable) return;\n",
              "\n",
              "          const docLinkHtml = 'Like what you see? Visit the ' +\n",
              "            '<a target=\"_blank\" href=https://colab.research.google.com/notebooks/data_table.ipynb>data table notebook</a>'\n",
              "            + ' to learn more about interactive tables.';\n",
              "          element.innerHTML = '';\n",
              "          dataTable['output_type'] = 'display_data';\n",
              "          await google.colab.output.renderOutput(dataTable, element);\n",
              "          const docLink = document.createElement('div');\n",
              "          docLink.innerHTML = docLinkHtml;\n",
              "          element.appendChild(docLink);\n",
              "        }\n",
              "      </script>\n",
              "    </div>\n",
              "  </div>\n",
              "  "
            ]
          },
          "metadata": {},
          "execution_count": 9
        }
      ],
      "source": [
        "# train_df = pd.read_csv('dataset_students/classification/train_labelled.csv')\n",
        "# train_df.head()\n",
        "\n",
        "annotated0_df = pd.read_csv('train_labelled.tsv', sep='\\t', index_col=None)\n",
        "annotated0_df['OUTPUT:result'] = annotated0_df['GOLDEN:output']\n",
        "annotated0_df = annotated0_df.drop('GOLDEN:output', axis=1)\n",
        "annotated1_df = pd.read_csv('aggregated_results_by_ds__pool_35739415__2022_10_05.tsv', sep='\\t', index_col=None)\n",
        "annotated2_df = pd.read_csv('aggregated_results_by_ds__pool_35803045__2022_10_09.tsv', sep='\\t', index_col=None)\n",
        "\n",
        "train_df = pd.concat([annotated0_df, annotated1_df, annotated2_df]).drop('Unnamed: 3', axis=1)\n",
        "train_df['INPUT:image'] = 'dataset_students/classification/train_' + train_df['INPUT:image']\n",
        "train_df = train_df.fillna('100.00%').drop_duplicates()\n",
        "train_df.head()"
      ]
    },
    {
      "cell_type": "code",
      "source": [
        "len(train_df['INPUT:image']), len(set(train_df['INPUT:image'].to_list()))"
      ],
      "metadata": {
        "colab": {
          "base_uri": "https://localhost:8080/"
        },
        "id": "2Sb2mdGxxsUN",
        "outputId": "4a4e294f-a2fe-4a7e-e742-cfbf46c93440"
      },
      "id": "2Sb2mdGxxsUN",
      "execution_count": null,
      "outputs": [
        {
          "output_type": "execute_result",
          "data": {
            "text/plain": [
              "(5916, 5900)"
            ]
          },
          "metadata": {},
          "execution_count": 10
        }
      ]
    },
    {
      "cell_type": "code",
      "source": [
        "ids = train_df['INPUT:image']\n",
        "train_df = train_df.drop(train_df[ids.isin(ids[ids.duplicated()])].index)\n",
        "len(train_df['INPUT:image']), len(set(train_df['INPUT:image'].to_list()))"
      ],
      "metadata": {
        "colab": {
          "base_uri": "https://localhost:8080/"
        },
        "id": "brBu22eJd0tO",
        "outputId": "226d0ba2-c7cf-4f10-f302-a5f5c14f3425"
      },
      "id": "brBu22eJd0tO",
      "execution_count": null,
      "outputs": [
        {
          "output_type": "execute_result",
          "data": {
            "text/plain": [
              "(5857, 5857)"
            ]
          },
          "metadata": {},
          "execution_count": 11
        }
      ]
    },
    {
      "cell_type": "code",
      "execution_count": null,
      "id": "13cbc682-d738-48eb-9a33-10bda268a347",
      "metadata": {
        "execution": {
          "iopub.execute_input": "2022-10-08T04:53:15.455717Z",
          "iopub.status.busy": "2022-10-08T04:53:15.455513Z",
          "iopub.status.idle": "2022-10-08T04:53:15.741397Z",
          "shell.execute_reply": "2022-10-08T04:53:15.740473Z",
          "shell.execute_reply.started": "2022-10-08T04:53:15.455686Z"
        },
        "tags": [],
        "colab": {
          "base_uri": "https://localhost:8080/",
          "height": 282
        },
        "id": "13cbc682-d738-48eb-9a33-10bda268a347",
        "outputId": "d7e24df4-81d3-4412-95d4-fb57dbd06bdc"
      },
      "outputs": [
        {
          "output_type": "execute_result",
          "data": {
            "text/plain": [
              "<matplotlib.axes._subplots.AxesSubplot at 0x7fb85ad27190>"
            ]
          },
          "metadata": {},
          "execution_count": 12
        },
        {
          "output_type": "display_data",
          "data": {
            "text/plain": [
              "<Figure size 432x288 with 1 Axes>"
            ],
            "image/png": "[encoded data removed]"
          },
          "metadata": {
            "needs_background": "light"
          }
        }
      ],
      "source": [
        "train_df['OUTPUT:result'].hist()"
      ]
    },
    {
      "cell_type": "code",
      "execution_count": null,
      "id": "fcd10def-fb50-4442-9be9-56409169ed22",
      "metadata": {
        "execution": {
          "iopub.execute_input": "2022-10-08T04:53:15.742783Z",
          "iopub.status.busy": "2022-10-08T04:53:15.742540Z",
          "iopub.status.idle": "2022-10-08T04:53:15.784514Z",
          "shell.execute_reply": "2022-10-08T04:53:15.783345Z",
          "shell.execute_reply.started": "2022-10-08T04:53:15.742721Z"
        },
        "tags": [],
        "id": "fcd10def-fb50-4442-9be9-56409169ed22"
      },
      "outputs": [],
      "source": [
        "train_df['OUTPUT:result'] = train_df['OUTPUT:result'].map(dict(yes=1, no=0, other=2, error=2)).astype(int)"
      ]
    },
    {
      "cell_type": "code",
      "execution_count": null,
      "id": "0e4bea83-b2e4-425f-b3f0-39cba6277bed",
      "metadata": {
        "execution": {
          "iopub.execute_input": "2022-10-08T04:53:15.785958Z",
          "iopub.status.busy": "2022-10-08T04:53:15.785687Z",
          "iopub.status.idle": "2022-10-08T04:53:16.014322Z",
          "shell.execute_reply": "2022-10-08T04:53:16.013331Z",
          "shell.execute_reply.started": "2022-10-08T04:53:15.785921Z"
        },
        "tags": [],
        "colab": {
          "base_uri": "https://localhost:8080/",
          "height": 282
        },
        "id": "0e4bea83-b2e4-425f-b3f0-39cba6277bed",
        "outputId": "5d8b216d-cb9c-441b-c965-222b627e79b7"
      },
      "outputs": [
        {
          "output_type": "execute_result",
          "data": {
            "text/plain": [
              "<matplotlib.axes._subplots.AxesSubplot at 0x7fb85ac87d50>"
            ]
          },
          "metadata": {},
          "execution_count": 14
        },
        {
          "output_type": "display_data",
          "data": {
            "text/plain": [
              "<Figure size 432x288 with 1 Axes>"
            ],
            "image/png": "[encoded data removed]"
          },
          "metadata": {
            "needs_background": "light"
          }
        }
      ],
      "source": [
        "train_df['OUTPUT:result'].hist()"
      ]
    },
    {
      "cell_type": "code",
      "execution_count": null,
      "id": "11bc9b90-e9f8-47fa-83a4-99be104e3ec7",
      "metadata": {
        "execution": {
          "iopub.execute_input": "2022-10-08T20:43:40.815095Z",
          "iopub.status.busy": "2022-10-08T20:43:40.813919Z",
          "iopub.status.idle": "2022-10-08T20:43:40.918029Z",
          "shell.execute_reply": "2022-10-08T20:43:40.916590Z",
          "shell.execute_reply.started": "2022-10-08T20:43:40.815035Z"
        },
        "tags": [],
        "id": "11bc9b90-e9f8-47fa-83a4-99be104e3ec7"
      },
      "outputs": [],
      "source": [
        "# train_image_paths = train_df.img_path.values\n",
        "# train_labels = train_df.label.values\n",
        "\n",
        "\n",
        "train_image_paths = train_df['INPUT:image'].values\n",
        "train_labels = train_df['OUTPUT:result'].values"
      ]
    },
    {
      "cell_type": "code",
      "execution_count": null,
      "id": "39de2ab6",
      "metadata": {
        "execution": {
          "iopub.execute_input": "2022-10-08T04:53:16.056633Z",
          "iopub.status.busy": "2022-10-08T04:53:16.056345Z",
          "iopub.status.idle": "2022-10-08T04:53:16.091064Z",
          "shell.execute_reply": "2022-10-08T04:53:16.090052Z",
          "shell.execute_reply.started": "2022-10-08T04:53:16.056606Z"
        },
        "tags": [],
        "colab": {
          "base_uri": "https://localhost:8080/"
        },
        "id": "39de2ab6",
        "outputId": "46581562-f3a0-4716-b938-54a56e567c3d"
      },
      "outputs": [
        {
          "output_type": "execute_result",
          "data": {
            "text/plain": [
              "5857"
            ]
          },
          "metadata": {},
          "execution_count": 16
        }
      ],
      "source": [
        "len(train_image_paths)"
      ]
    },
    {
      "cell_type": "code",
      "execution_count": null,
      "id": "ec4a5495",
      "metadata": {
        "execution": {
          "iopub.execute_input": "2022-10-08T04:53:16.092373Z",
          "iopub.status.busy": "2022-10-08T04:53:16.092114Z",
          "iopub.status.idle": "2022-10-08T04:53:16.132582Z",
          "shell.execute_reply": "2022-10-08T04:53:16.131649Z",
          "shell.execute_reply.started": "2022-10-08T04:53:16.092334Z"
        },
        "tags": [],
        "id": "ec4a5495",
        "outputId": "fb497e59-38a0-4625-a012-fde35b257a06",
        "colab": {
          "resources": {
            "http://localhost:8080/dataset_students/classification/train_labelled/0.png": {
              "data": "CjwhRE9DVFlQRSBodG1sPgo8aHRtbCBsYW5nPWVuPgogIDxtZXRhIGNoYXJzZXQ9dXRmLTg+CiAgPG1ldGEgbmFtZT12aWV3cG9ydCBjb250ZW50PSJpbml0aWFsLXNjYWxlPTEsIG1pbmltdW0tc2NhbGU9MSwgd2lkdGg9ZGV2aWNlLXdpZHRoIj4KICA8dGl0bGU+RXJyb3IgNDA0IChOb3QgRm91bmQpISExPC90aXRsZT4KICA8c3R5bGU+CiAgICAqe21hcmdpbjowO3BhZGRpbmc6MH1odG1sLGNvZGV7Zm9udDoxNXB4LzIycHggYXJpYWwsc2Fucy1zZXJpZn1odG1se2JhY2tncm91bmQ6I2ZmZjtjb2xvcjojMjIyO3BhZGRpbmc6MTVweH1ib2R5e21hcmdpbjo3JSBhdXRvIDA7bWF4LXdpZHRoOjM5MHB4O21pbi1oZWlnaHQ6MTgwcHg7cGFkZGluZzozMHB4IDAgMTVweH0qID4gYm9keXtiYWNrZ3JvdW5kOnVybCgvL3d3dy5nb29nbGUuY29tL2ltYWdlcy9lcnJvcnMvcm9ib3QucG5nKSAxMDAlIDVweCBuby1yZXBlYXQ7cGFkZGluZy1yaWdodDoyMDVweH1we21hcmdpbjoxMXB4IDAgMjJweDtvdmVyZmxvdzpoaWRkZW59aW5ze2NvbG9yOiM3Nzc7dGV4dC1kZWNvcmF0aW9uOm5vbmV9YSBpbWd7Ym9yZGVyOjB9QG1lZGlhIHNjcmVlbiBhbmQgKG1heC13aWR0aDo3NzJweCl7Ym9keXtiYWNrZ3JvdW5kOm5vbmU7bWFyZ2luLXRvcDowO21heC13aWR0aDpub25lO3BhZGRpbmctcmlnaHQ6MH19I2xvZ297YmFja2dyb3VuZDp1cmwoLy93d3cuZ29vZ2xlLmNvbS9pbWFnZXMvbG9nb3MvZXJyb3JwYWdlL2Vycm9yX2xvZ28tMTUweDU0LnBuZykgbm8tcmVwZWF0O21hcmdpbi1sZWZ0Oi01cHh9QG1lZGlhIG9ubHkgc2NyZWVuIGFuZCAobWluLXJlc29sdXRpb246MTkyZHBpKXsjbG9nb3tiYWNrZ3JvdW5kOnVybCgvL3d3dy5nb29nbGUuY29tL2ltYWdlcy9sb2dvcy9lcnJvcnBhZ2UvZXJyb3JfbG9nby0xNTB4NTQtMngucG5nKSBuby1yZXBlYXQgMCUgMCUvMTAwJSAxMDAlOy1tb3otYm9yZGVyLWltYWdlOnVybCgvL3d3dy5nb29nbGUuY29tL2ltYWdlcy9sb2dvcy9lcnJvcnBhZ2UvZXJyb3JfbG9nby0xNTB4NTQtMngucG5nKSAwfX1AbWVkaWEgb25seSBzY3JlZW4gYW5kICgtd2Via2l0LW1pbi1kZXZpY2UtcGl4ZWwtcmF0aW86Mil7I2xvZ297YmFja2dyb3VuZDp1cmwoLy93d3cuZ29vZ2xlLmNvbS9pbWFnZXMvbG9nb3MvZXJyb3JwYWdlL2Vycm9yX2xvZ28tMTUweDU0LTJ4LnBuZykgbm8tcmVwZWF0Oy13ZWJraXQtYmFja2dyb3VuZC1zaXplOjEwMCUgMTAwJX19I2xvZ297ZGlzcGxheTppbmxpbmUtYmxvY2s7aGVpZ2h0OjU0cHg7d2lkdGg6MTUwcHh9CiAgPC9zdHlsZT4KICA8YSBocmVmPS8vd3d3Lmdvb2dsZS5jb20vPjxzcGFuIGlkPWxvZ28gYXJpYS1sYWJlbD1Hb29nbGU+PC9zcGFuPjwvYT4KICA8cD48Yj40MDQuPC9iPiA8aW5zPlRoYXTigJlzIGFuIGVycm9yLjwvaW5zPgogIDxwPiAgPGlucz5UaGF04oCZcyBhbGwgd2Uga25vdy48L2lucz4K",
              "ok": false,
              "headers": [
                [
                  "content-length",
                  "1449"
                ],
                [
                  "content-type",
                  "text/html; charset=utf-8"
                ]
              ],
              "status": 404,
              "status_text": ""
            },
            "http://localhost:8080/dataset_students/classification/train_labelled/11.png": {
              "data": "CjwhRE9DVFlQRSBodG1sPgo8aHRtbCBsYW5nPWVuPgogIDxtZXRhIGNoYXJzZXQ9dXRmLTg+CiAgPG1ldGEgbmFtZT12aWV3cG9ydCBjb250ZW50PSJpbml0aWFsLXNjYWxlPTEsIG1pbmltdW0tc2NhbGU9MSwgd2lkdGg9ZGV2aWNlLXdpZHRoIj4KICA8dGl0bGU+RXJyb3IgNDA0IChOb3QgRm91bmQpISExPC90aXRsZT4KICA8c3R5bGU+CiAgICAqe21hcmdpbjowO3BhZGRpbmc6MH1odG1sLGNvZGV7Zm9udDoxNXB4LzIycHggYXJpYWwsc2Fucy1zZXJpZn1odG1se2JhY2tncm91bmQ6I2ZmZjtjb2xvcjojMjIyO3BhZGRpbmc6MTVweH1ib2R5e21hcmdpbjo3JSBhdXRvIDA7bWF4LXdpZHRoOjM5MHB4O21pbi1oZWlnaHQ6MTgwcHg7cGFkZGluZzozMHB4IDAgMTVweH0qID4gYm9keXtiYWNrZ3JvdW5kOnVybCgvL3d3dy5nb29nbGUuY29tL2ltYWdlcy9lcnJvcnMvcm9ib3QucG5nKSAxMDAlIDVweCBuby1yZXBlYXQ7cGFkZGluZy1yaWdodDoyMDVweH1we21hcmdpbjoxMXB4IDAgMjJweDtvdmVyZmxvdzpoaWRkZW59aW5ze2NvbG9yOiM3Nzc7dGV4dC1kZWNvcmF0aW9uOm5vbmV9YSBpbWd7Ym9yZGVyOjB9QG1lZGlhIHNjcmVlbiBhbmQgKG1heC13aWR0aDo3NzJweCl7Ym9keXtiYWNrZ3JvdW5kOm5vbmU7bWFyZ2luLXRvcDowO21heC13aWR0aDpub25lO3BhZGRpbmctcmlnaHQ6MH19I2xvZ297YmFja2dyb3VuZDp1cmwoLy93d3cuZ29vZ2xlLmNvbS9pbWFnZXMvbG9nb3MvZXJyb3JwYWdlL2Vycm9yX2xvZ28tMTUweDU0LnBuZykgbm8tcmVwZWF0O21hcmdpbi1sZWZ0Oi01cHh9QG1lZGlhIG9ubHkgc2NyZWVuIGFuZCAobWluLXJlc29sdXRpb246MTkyZHBpKXsjbG9nb3tiYWNrZ3JvdW5kOnVybCgvL3d3dy5nb29nbGUuY29tL2ltYWdlcy9sb2dvcy9lcnJvcnBhZ2UvZXJyb3JfbG9nby0xNTB4NTQtMngucG5nKSBuby1yZXBlYXQgMCUgMCUvMTAwJSAxMDAlOy1tb3otYm9yZGVyLWltYWdlOnVybCgvL3d3dy5nb29nbGUuY29tL2ltYWdlcy9sb2dvcy9lcnJvcnBhZ2UvZXJyb3JfbG9nby0xNTB4NTQtMngucG5nKSAwfX1AbWVkaWEgb25seSBzY3JlZW4gYW5kICgtd2Via2l0LW1pbi1kZXZpY2UtcGl4ZWwtcmF0aW86Mil7I2xvZ297YmFja2dyb3VuZDp1cmwoLy93d3cuZ29vZ2xlLmNvbS9pbWFnZXMvbG9nb3MvZXJyb3JwYWdlL2Vycm9yX2xvZ28tMTUweDU0LTJ4LnBuZykgbm8tcmVwZWF0Oy13ZWJraXQtYmFja2dyb3VuZC1zaXplOjEwMCUgMTAwJX19I2xvZ297ZGlzcGxheTppbmxpbmUtYmxvY2s7aGVpZ2h0OjU0cHg7d2lkdGg6MTUwcHh9CiAgPC9zdHlsZT4KICA8YSBocmVmPS8vd3d3Lmdvb2dsZS5jb20vPjxzcGFuIGlkPWxvZ28gYXJpYS1sYWJlbD1Hb29nbGU+PC9zcGFuPjwvYT4KICA8cD48Yj40MDQuPC9iPiA8aW5zPlRoYXTigJlzIGFuIGVycm9yLjwvaW5zPgogIDxwPiAgPGlucz5UaGF04oCZcyBhbGwgd2Uga25vdy48L2lucz4K",
              "ok": false,
              "headers": [
                [
                  "content-length",
                  "1449"
                ],
                [
                  "content-type",
                  "text/html; charset=utf-8"
                ]
              ],
              "status": 404,
              "status_text": ""
            },
            "http://localhost:8080/dataset_students/classification/train_labelled/8.png": {
              "data": "CjwhRE9DVFlQRSBodG1sPgo8aHRtbCBsYW5nPWVuPgogIDxtZXRhIGNoYXJzZXQ9dXRmLTg+CiAgPG1ldGEgbmFtZT12aWV3cG9ydCBjb250ZW50PSJpbml0aWFsLXNjYWxlPTEsIG1pbmltdW0tc2NhbGU9MSwgd2lkdGg9ZGV2aWNlLXdpZHRoIj4KICA8dGl0bGU+RXJyb3IgNDA0IChOb3QgRm91bmQpISExPC90aXRsZT4KICA8c3R5bGU+CiAgICAqe21hcmdpbjowO3BhZGRpbmc6MH1odG1sLGNvZGV7Zm9udDoxNXB4LzIycHggYXJpYWwsc2Fucy1zZXJpZn1odG1se2JhY2tncm91bmQ6I2ZmZjtjb2xvcjojMjIyO3BhZGRpbmc6MTVweH1ib2R5e21hcmdpbjo3JSBhdXRvIDA7bWF4LXdpZHRoOjM5MHB4O21pbi1oZWlnaHQ6MTgwcHg7cGFkZGluZzozMHB4IDAgMTVweH0qID4gYm9keXtiYWNrZ3JvdW5kOnVybCgvL3d3dy5nb29nbGUuY29tL2ltYWdlcy9lcnJvcnMvcm9ib3QucG5nKSAxMDAlIDVweCBuby1yZXBlYXQ7cGFkZGluZy1yaWdodDoyMDVweH1we21hcmdpbjoxMXB4IDAgMjJweDtvdmVyZmxvdzpoaWRkZW59aW5ze2NvbG9yOiM3Nzc7dGV4dC1kZWNvcmF0aW9uOm5vbmV9YSBpbWd7Ym9yZGVyOjB9QG1lZGlhIHNjcmVlbiBhbmQgKG1heC13aWR0aDo3NzJweCl7Ym9keXtiYWNrZ3JvdW5kOm5vbmU7bWFyZ2luLXRvcDowO21heC13aWR0aDpub25lO3BhZGRpbmctcmlnaHQ6MH19I2xvZ297YmFja2dyb3VuZDp1cmwoLy93d3cuZ29vZ2xlLmNvbS9pbWFnZXMvbG9nb3MvZXJyb3JwYWdlL2Vycm9yX2xvZ28tMTUweDU0LnBuZykgbm8tcmVwZWF0O21hcmdpbi1sZWZ0Oi01cHh9QG1lZGlhIG9ubHkgc2NyZWVuIGFuZCAobWluLXJlc29sdXRpb246MTkyZHBpKXsjbG9nb3tiYWNrZ3JvdW5kOnVybCgvL3d3dy5nb29nbGUuY29tL2ltYWdlcy9sb2dvcy9lcnJvcnBhZ2UvZXJyb3JfbG9nby0xNTB4NTQtMngucG5nKSBuby1yZXBlYXQgMCUgMCUvMTAwJSAxMDAlOy1tb3otYm9yZGVyLWltYWdlOnVybCgvL3d3dy5nb29nbGUuY29tL2ltYWdlcy9sb2dvcy9lcnJvcnBhZ2UvZXJyb3JfbG9nby0xNTB4NTQtMngucG5nKSAwfX1AbWVkaWEgb25seSBzY3JlZW4gYW5kICgtd2Via2l0LW1pbi1kZXZpY2UtcGl4ZWwtcmF0aW86Mil7I2xvZ297YmFja2dyb3VuZDp1cmwoLy93d3cuZ29vZ2xlLmNvbS9pbWFnZXMvbG9nb3MvZXJyb3JwYWdlL2Vycm9yX2xvZ28tMTUweDU0LTJ4LnBuZykgbm8tcmVwZWF0Oy13ZWJraXQtYmFja2dyb3VuZC1zaXplOjEwMCUgMTAwJX19I2xvZ297ZGlzcGxheTppbmxpbmUtYmxvY2s7aGVpZ2h0OjU0cHg7d2lkdGg6MTUwcHh9CiAgPC9zdHlsZT4KICA8YSBocmVmPS8vd3d3Lmdvb2dsZS5jb20vPjxzcGFuIGlkPWxvZ28gYXJpYS1sYWJlbD1Hb29nbGU+PC9zcGFuPjwvYT4KICA8cD48Yj40MDQuPC9iPiA8aW5zPlRoYXTigJlzIGFuIGVycm9yLjwvaW5zPgogIDxwPiAgPGlucz5UaGF04oCZcyBhbGwgd2Uga25vdy48L2lucz4K",
              "ok": false,
              "headers": [
                [
                  "content-length",
                  "1449"
                ],
                [
                  "content-type",
                  "text/html; charset=utf-8"
                ]
              ],
              "status": 404,
              "status_text": ""
            },
            "http://localhost:8080/dataset_students/classification/train_labelled/7.png": {
              "data": "CjwhRE9DVFlQRSBodG1sPgo8aHRtbCBsYW5nPWVuPgogIDxtZXRhIGNoYXJzZXQ9dXRmLTg+CiAgPG1ldGEgbmFtZT12aWV3cG9ydCBjb250ZW50PSJpbml0aWFsLXNjYWxlPTEsIG1pbmltdW0tc2NhbGU9MSwgd2lkdGg9ZGV2aWNlLXdpZHRoIj4KICA8dGl0bGU+RXJyb3IgNDA0IChOb3QgRm91bmQpISExPC90aXRsZT4KICA8c3R5bGU+CiAgICAqe21hcmdpbjowO3BhZGRpbmc6MH1odG1sLGNvZGV7Zm9udDoxNXB4LzIycHggYXJpYWwsc2Fucy1zZXJpZn1odG1se2JhY2tncm91bmQ6I2ZmZjtjb2xvcjojMjIyO3BhZGRpbmc6MTVweH1ib2R5e21hcmdpbjo3JSBhdXRvIDA7bWF4LXdpZHRoOjM5MHB4O21pbi1oZWlnaHQ6MTgwcHg7cGFkZGluZzozMHB4IDAgMTVweH0qID4gYm9keXtiYWNrZ3JvdW5kOnVybCgvL3d3dy5nb29nbGUuY29tL2ltYWdlcy9lcnJvcnMvcm9ib3QucG5nKSAxMDAlIDVweCBuby1yZXBlYXQ7cGFkZGluZy1yaWdodDoyMDVweH1we21hcmdpbjoxMXB4IDAgMjJweDtvdmVyZmxvdzpoaWRkZW59aW5ze2NvbG9yOiM3Nzc7dGV4dC1kZWNvcmF0aW9uOm5vbmV9YSBpbWd7Ym9yZGVyOjB9QG1lZGlhIHNjcmVlbiBhbmQgKG1heC13aWR0aDo3NzJweCl7Ym9keXtiYWNrZ3JvdW5kOm5vbmU7bWFyZ2luLXRvcDowO21heC13aWR0aDpub25lO3BhZGRpbmctcmlnaHQ6MH19I2xvZ297YmFja2dyb3VuZDp1cmwoLy93d3cuZ29vZ2xlLmNvbS9pbWFnZXMvbG9nb3MvZXJyb3JwYWdlL2Vycm9yX2xvZ28tMTUweDU0LnBuZykgbm8tcmVwZWF0O21hcmdpbi1sZWZ0Oi01cHh9QG1lZGlhIG9ubHkgc2NyZWVuIGFuZCAobWluLXJlc29sdXRpb246MTkyZHBpKXsjbG9nb3tiYWNrZ3JvdW5kOnVybCgvL3d3dy5nb29nbGUuY29tL2ltYWdlcy9sb2dvcy9lcnJvcnBhZ2UvZXJyb3JfbG9nby0xNTB4NTQtMngucG5nKSBuby1yZXBlYXQgMCUgMCUvMTAwJSAxMDAlOy1tb3otYm9yZGVyLWltYWdlOnVybCgvL3d3dy5nb29nbGUuY29tL2ltYWdlcy9sb2dvcy9lcnJvcnBhZ2UvZXJyb3JfbG9nby0xNTB4NTQtMngucG5nKSAwfX1AbWVkaWEgb25seSBzY3JlZW4gYW5kICgtd2Via2l0LW1pbi1kZXZpY2UtcGl4ZWwtcmF0aW86Mil7I2xvZ297YmFja2dyb3VuZDp1cmwoLy93d3cuZ29vZ2xlLmNvbS9pbWFnZXMvbG9nb3MvZXJyb3JwYWdlL2Vycm9yX2xvZ28tMTUweDU0LTJ4LnBuZykgbm8tcmVwZWF0Oy13ZWJraXQtYmFja2dyb3VuZC1zaXplOjEwMCUgMTAwJX19I2xvZ297ZGlzcGxheTppbmxpbmUtYmxvY2s7aGVpZ2h0OjU0cHg7d2lkdGg6MTUwcHh9CiAgPC9zdHlsZT4KICA8YSBocmVmPS8vd3d3Lmdvb2dsZS5jb20vPjxzcGFuIGlkPWxvZ28gYXJpYS1sYWJlbD1Hb29nbGU+PC9zcGFuPjwvYT4KICA8cD48Yj40MDQuPC9iPiA8aW5zPlRoYXTigJlzIGFuIGVycm9yLjwvaW5zPgogIDxwPiAgPGlucz5UaGF04oCZcyBhbGwgd2Uga25vdy48L2lucz4K",
              "ok": false,
              "headers": [
                [
                  "content-length",
                  "1449"
                ],
                [
                  "content-type",
                  "text/html; charset=utf-8"
                ]
              ],
              "status": 404,
              "status_text": ""
            },
            "http://localhost:8080/dataset_students/classification/train_labelled/14.png": {
              "data": "CjwhRE9DVFlQRSBodG1sPgo8aHRtbCBsYW5nPWVuPgogIDxtZXRhIGNoYXJzZXQ9dXRmLTg+CiAgPG1ldGEgbmFtZT12aWV3cG9ydCBjb250ZW50PSJpbml0aWFsLXNjYWxlPTEsIG1pbmltdW0tc2NhbGU9MSwgd2lkdGg9ZGV2aWNlLXdpZHRoIj4KICA8dGl0bGU+RXJyb3IgNDA0IChOb3QgRm91bmQpISExPC90aXRsZT4KICA8c3R5bGU+CiAgICAqe21hcmdpbjowO3BhZGRpbmc6MH1odG1sLGNvZGV7Zm9udDoxNXB4LzIycHggYXJpYWwsc2Fucy1zZXJpZn1odG1se2JhY2tncm91bmQ6I2ZmZjtjb2xvcjojMjIyO3BhZGRpbmc6MTVweH1ib2R5e21hcmdpbjo3JSBhdXRvIDA7bWF4LXdpZHRoOjM5MHB4O21pbi1oZWlnaHQ6MTgwcHg7cGFkZGluZzozMHB4IDAgMTVweH0qID4gYm9keXtiYWNrZ3JvdW5kOnVybCgvL3d3dy5nb29nbGUuY29tL2ltYWdlcy9lcnJvcnMvcm9ib3QucG5nKSAxMDAlIDVweCBuby1yZXBlYXQ7cGFkZGluZy1yaWdodDoyMDVweH1we21hcmdpbjoxMXB4IDAgMjJweDtvdmVyZmxvdzpoaWRkZW59aW5ze2NvbG9yOiM3Nzc7dGV4dC1kZWNvcmF0aW9uOm5vbmV9YSBpbWd7Ym9yZGVyOjB9QG1lZGlhIHNjcmVlbiBhbmQgKG1heC13aWR0aDo3NzJweCl7Ym9keXtiYWNrZ3JvdW5kOm5vbmU7bWFyZ2luLXRvcDowO21heC13aWR0aDpub25lO3BhZGRpbmctcmlnaHQ6MH19I2xvZ297YmFja2dyb3VuZDp1cmwoLy93d3cuZ29vZ2xlLmNvbS9pbWFnZXMvbG9nb3MvZXJyb3JwYWdlL2Vycm9yX2xvZ28tMTUweDU0LnBuZykgbm8tcmVwZWF0O21hcmdpbi1sZWZ0Oi01cHh9QG1lZGlhIG9ubHkgc2NyZWVuIGFuZCAobWluLXJlc29sdXRpb246MTkyZHBpKXsjbG9nb3tiYWNrZ3JvdW5kOnVybCgvL3d3dy5nb29nbGUuY29tL2ltYWdlcy9sb2dvcy9lcnJvcnBhZ2UvZXJyb3JfbG9nby0xNTB4NTQtMngucG5nKSBuby1yZXBlYXQgMCUgMCUvMTAwJSAxMDAlOy1tb3otYm9yZGVyLWltYWdlOnVybCgvL3d3dy5nb29nbGUuY29tL2ltYWdlcy9sb2dvcy9lcnJvcnBhZ2UvZXJyb3JfbG9nby0xNTB4NTQtMngucG5nKSAwfX1AbWVkaWEgb25seSBzY3JlZW4gYW5kICgtd2Via2l0LW1pbi1kZXZpY2UtcGl4ZWwtcmF0aW86Mil7I2xvZ297YmFja2dyb3VuZDp1cmwoLy93d3cuZ29vZ2xlLmNvbS9pbWFnZXMvbG9nb3MvZXJyb3JwYWdlL2Vycm9yX2xvZ28tMTUweDU0LTJ4LnBuZykgbm8tcmVwZWF0Oy13ZWJraXQtYmFja2dyb3VuZC1zaXplOjEwMCUgMTAwJX19I2xvZ297ZGlzcGxheTppbmxpbmUtYmxvY2s7aGVpZ2h0OjU0cHg7d2lkdGg6MTUwcHh9CiAgPC9zdHlsZT4KICA8YSBocmVmPS8vd3d3Lmdvb2dsZS5jb20vPjxzcGFuIGlkPWxvZ28gYXJpYS1sYWJlbD1Hb29nbGU+PC9zcGFuPjwvYT4KICA8cD48Yj40MDQuPC9iPiA8aW5zPlRoYXTigJlzIGFuIGVycm9yLjwvaW5zPgogIDxwPiAgPGlucz5UaGF04oCZcyBhbGwgd2Uga25vdy48L2lucz4K",
              "ok": false,
              "headers": [
                [
                  "content-length",
                  "1449"
                ],
                [
                  "content-type",
                  "text/html; charset=utf-8"
                ]
              ],
              "status": 404,
              "status_text": ""
            },
            "http://localhost:8080/dataset_students/classification/train_labelled/5.png": {
              "data": "CjwhRE9DVFlQRSBodG1sPgo8aHRtbCBsYW5nPWVuPgogIDxtZXRhIGNoYXJzZXQ9dXRmLTg+CiAgPG1ldGEgbmFtZT12aWV3cG9ydCBjb250ZW50PSJpbml0aWFsLXNjYWxlPTEsIG1pbmltdW0tc2NhbGU9MSwgd2lkdGg9ZGV2aWNlLXdpZHRoIj4KICA8dGl0bGU+RXJyb3IgNDA0IChOb3QgRm91bmQpISExPC90aXRsZT4KICA8c3R5bGU+CiAgICAqe21hcmdpbjowO3BhZGRpbmc6MH1odG1sLGNvZGV7Zm9udDoxNXB4LzIycHggYXJpYWwsc2Fucy1zZXJpZn1odG1se2JhY2tncm91bmQ6I2ZmZjtjb2xvcjojMjIyO3BhZGRpbmc6MTVweH1ib2R5e21hcmdpbjo3JSBhdXRvIDA7bWF4LXdpZHRoOjM5MHB4O21pbi1oZWlnaHQ6MTgwcHg7cGFkZGluZzozMHB4IDAgMTVweH0qID4gYm9keXtiYWNrZ3JvdW5kOnVybCgvL3d3dy5nb29nbGUuY29tL2ltYWdlcy9lcnJvcnMvcm9ib3QucG5nKSAxMDAlIDVweCBuby1yZXBlYXQ7cGFkZGluZy1yaWdodDoyMDVweH1we21hcmdpbjoxMXB4IDAgMjJweDtvdmVyZmxvdzpoaWRkZW59aW5ze2NvbG9yOiM3Nzc7dGV4dC1kZWNvcmF0aW9uOm5vbmV9YSBpbWd7Ym9yZGVyOjB9QG1lZGlhIHNjcmVlbiBhbmQgKG1heC13aWR0aDo3NzJweCl7Ym9keXtiYWNrZ3JvdW5kOm5vbmU7bWFyZ2luLXRvcDowO21heC13aWR0aDpub25lO3BhZGRpbmctcmlnaHQ6MH19I2xvZ297YmFja2dyb3VuZDp1cmwoLy93d3cuZ29vZ2xlLmNvbS9pbWFnZXMvbG9nb3MvZXJyb3JwYWdlL2Vycm9yX2xvZ28tMTUweDU0LnBuZykgbm8tcmVwZWF0O21hcmdpbi1sZWZ0Oi01cHh9QG1lZGlhIG9ubHkgc2NyZWVuIGFuZCAobWluLXJlc29sdXRpb246MTkyZHBpKXsjbG9nb3tiYWNrZ3JvdW5kOnVybCgvL3d3dy5nb29nbGUuY29tL2ltYWdlcy9sb2dvcy9lcnJvcnBhZ2UvZXJyb3JfbG9nby0xNTB4NTQtMngucG5nKSBuby1yZXBlYXQgMCUgMCUvMTAwJSAxMDAlOy1tb3otYm9yZGVyLWltYWdlOnVybCgvL3d3dy5nb29nbGUuY29tL2ltYWdlcy9sb2dvcy9lcnJvcnBhZ2UvZXJyb3JfbG9nby0xNTB4NTQtMngucG5nKSAwfX1AbWVkaWEgb25seSBzY3JlZW4gYW5kICgtd2Via2l0LW1pbi1kZXZpY2UtcGl4ZWwtcmF0aW86Mil7I2xvZ297YmFja2dyb3VuZDp1cmwoLy93d3cuZ29vZ2xlLmNvbS9pbWFnZXMvbG9nb3MvZXJyb3JwYWdlL2Vycm9yX2xvZ28tMTUweDU0LTJ4LnBuZykgbm8tcmVwZWF0Oy13ZWJraXQtYmFja2dyb3VuZC1zaXplOjEwMCUgMTAwJX19I2xvZ297ZGlzcGxheTppbmxpbmUtYmxvY2s7aGVpZ2h0OjU0cHg7d2lkdGg6MTUwcHh9CiAgPC9zdHlsZT4KICA8YSBocmVmPS8vd3d3Lmdvb2dsZS5jb20vPjxzcGFuIGlkPWxvZ28gYXJpYS1sYWJlbD1Hb29nbGU+PC9zcGFuPjwvYT4KICA8cD48Yj40MDQuPC9iPiA8aW5zPlRoYXTigJlzIGFuIGVycm9yLjwvaW5zPgogIDxwPiAgPGlucz5UaGF04oCZcyBhbGwgd2Uga25vdy48L2lucz4K",
              "ok": false,
              "headers": [
                [
                  "content-length",
                  "1449"
                ],
                [
                  "content-type",
                  "text/html; charset=utf-8"
                ]
              ],
              "status": 404,
              "status_text": ""
            },
            "http://localhost:8080/dataset_students/classification/train_labelled/16.png": {
              "data": "CjwhRE9DVFlQRSBodG1sPgo8aHRtbCBsYW5nPWVuPgogIDxtZXRhIGNoYXJzZXQ9dXRmLTg+CiAgPG1ldGEgbmFtZT12aWV3cG9ydCBjb250ZW50PSJpbml0aWFsLXNjYWxlPTEsIG1pbmltdW0tc2NhbGU9MSwgd2lkdGg9ZGV2aWNlLXdpZHRoIj4KICA8dGl0bGU+RXJyb3IgNDA0IChOb3QgRm91bmQpISExPC90aXRsZT4KICA8c3R5bGU+CiAgICAqe21hcmdpbjowO3BhZGRpbmc6MH1odG1sLGNvZGV7Zm9udDoxNXB4LzIycHggYXJpYWwsc2Fucy1zZXJpZn1odG1se2JhY2tncm91bmQ6I2ZmZjtjb2xvcjojMjIyO3BhZGRpbmc6MTVweH1ib2R5e21hcmdpbjo3JSBhdXRvIDA7bWF4LXdpZHRoOjM5MHB4O21pbi1oZWlnaHQ6MTgwcHg7cGFkZGluZzozMHB4IDAgMTVweH0qID4gYm9keXtiYWNrZ3JvdW5kOnVybCgvL3d3dy5nb29nbGUuY29tL2ltYWdlcy9lcnJvcnMvcm9ib3QucG5nKSAxMDAlIDVweCBuby1yZXBlYXQ7cGFkZGluZy1yaWdodDoyMDVweH1we21hcmdpbjoxMXB4IDAgMjJweDtvdmVyZmxvdzpoaWRkZW59aW5ze2NvbG9yOiM3Nzc7dGV4dC1kZWNvcmF0aW9uOm5vbmV9YSBpbWd7Ym9yZGVyOjB9QG1lZGlhIHNjcmVlbiBhbmQgKG1heC13aWR0aDo3NzJweCl7Ym9keXtiYWNrZ3JvdW5kOm5vbmU7bWFyZ2luLXRvcDowO21heC13aWR0aDpub25lO3BhZGRpbmctcmlnaHQ6MH19I2xvZ297YmFja2dyb3VuZDp1cmwoLy93d3cuZ29vZ2xlLmNvbS9pbWFnZXMvbG9nb3MvZXJyb3JwYWdlL2Vycm9yX2xvZ28tMTUweDU0LnBuZykgbm8tcmVwZWF0O21hcmdpbi1sZWZ0Oi01cHh9QG1lZGlhIG9ubHkgc2NyZWVuIGFuZCAobWluLXJlc29sdXRpb246MTkyZHBpKXsjbG9nb3tiYWNrZ3JvdW5kOnVybCgvL3d3dy5nb29nbGUuY29tL2ltYWdlcy9sb2dvcy9lcnJvcnBhZ2UvZXJyb3JfbG9nby0xNTB4NTQtMngucG5nKSBuby1yZXBlYXQgMCUgMCUvMTAwJSAxMDAlOy1tb3otYm9yZGVyLWltYWdlOnVybCgvL3d3dy5nb29nbGUuY29tL2ltYWdlcy9sb2dvcy9lcnJvcnBhZ2UvZXJyb3JfbG9nby0xNTB4NTQtMngucG5nKSAwfX1AbWVkaWEgb25seSBzY3JlZW4gYW5kICgtd2Via2l0LW1pbi1kZXZpY2UtcGl4ZWwtcmF0aW86Mil7I2xvZ297YmFja2dyb3VuZDp1cmwoLy93d3cuZ29vZ2xlLmNvbS9pbWFnZXMvbG9nb3MvZXJyb3JwYWdlL2Vycm9yX2xvZ28tMTUweDU0LTJ4LnBuZykgbm8tcmVwZWF0Oy13ZWJraXQtYmFja2dyb3VuZC1zaXplOjEwMCUgMTAwJX19I2xvZ297ZGlzcGxheTppbmxpbmUtYmxvY2s7aGVpZ2h0OjU0cHg7d2lkdGg6MTUwcHh9CiAgPC9zdHlsZT4KICA8YSBocmVmPS8vd3d3Lmdvb2dsZS5jb20vPjxzcGFuIGlkPWxvZ28gYXJpYS1sYWJlbD1Hb29nbGU+PC9zcGFuPjwvYT4KICA8cD48Yj40MDQuPC9iPiA8aW5zPlRoYXTigJlzIGFuIGVycm9yLjwvaW5zPgogIDxwPiAgPGlucz5UaGF04oCZcyBhbGwgd2Uga25vdy48L2lucz4K",
              "ok": false,
              "headers": [
                [
                  "content-length",
                  "1449"
                ],
                [
                  "content-type",
                  "text/html; charset=utf-8"
                ]
              ],
              "status": 404,
              "status_text": ""
            },
            "http://localhost:8080/dataset_students/classification/train_labelled/17.png": {
              "data": "CjwhRE9DVFlQRSBodG1sPgo8aHRtbCBsYW5nPWVuPgogIDxtZXRhIGNoYXJzZXQ9dXRmLTg+CiAgPG1ldGEgbmFtZT12aWV3cG9ydCBjb250ZW50PSJpbml0aWFsLXNjYWxlPTEsIG1pbmltdW0tc2NhbGU9MSwgd2lkdGg9ZGV2aWNlLXdpZHRoIj4KICA8dGl0bGU+RXJyb3IgNDA0IChOb3QgRm91bmQpISExPC90aXRsZT4KICA8c3R5bGU+CiAgICAqe21hcmdpbjowO3BhZGRpbmc6MH1odG1sLGNvZGV7Zm9udDoxNXB4LzIycHggYXJpYWwsc2Fucy1zZXJpZn1odG1se2JhY2tncm91bmQ6I2ZmZjtjb2xvcjojMjIyO3BhZGRpbmc6MTVweH1ib2R5e21hcmdpbjo3JSBhdXRvIDA7bWF4LXdpZHRoOjM5MHB4O21pbi1oZWlnaHQ6MTgwcHg7cGFkZGluZzozMHB4IDAgMTVweH0qID4gYm9keXtiYWNrZ3JvdW5kOnVybCgvL3d3dy5nb29nbGUuY29tL2ltYWdlcy9lcnJvcnMvcm9ib3QucG5nKSAxMDAlIDVweCBuby1yZXBlYXQ7cGFkZGluZy1yaWdodDoyMDVweH1we21hcmdpbjoxMXB4IDAgMjJweDtvdmVyZmxvdzpoaWRkZW59aW5ze2NvbG9yOiM3Nzc7dGV4dC1kZWNvcmF0aW9uOm5vbmV9YSBpbWd7Ym9yZGVyOjB9QG1lZGlhIHNjcmVlbiBhbmQgKG1heC13aWR0aDo3NzJweCl7Ym9keXtiYWNrZ3JvdW5kOm5vbmU7bWFyZ2luLXRvcDowO21heC13aWR0aDpub25lO3BhZGRpbmctcmlnaHQ6MH19I2xvZ297YmFja2dyb3VuZDp1cmwoLy93d3cuZ29vZ2xlLmNvbS9pbWFnZXMvbG9nb3MvZXJyb3JwYWdlL2Vycm9yX2xvZ28tMTUweDU0LnBuZykgbm8tcmVwZWF0O21hcmdpbi1sZWZ0Oi01cHh9QG1lZGlhIG9ubHkgc2NyZWVuIGFuZCAobWluLXJlc29sdXRpb246MTkyZHBpKXsjbG9nb3tiYWNrZ3JvdW5kOnVybCgvL3d3dy5nb29nbGUuY29tL2ltYWdlcy9sb2dvcy9lcnJvcnBhZ2UvZXJyb3JfbG9nby0xNTB4NTQtMngucG5nKSBuby1yZXBlYXQgMCUgMCUvMTAwJSAxMDAlOy1tb3otYm9yZGVyLWltYWdlOnVybCgvL3d3dy5nb29nbGUuY29tL2ltYWdlcy9sb2dvcy9lcnJvcnBhZ2UvZXJyb3JfbG9nby0xNTB4NTQtMngucG5nKSAwfX1AbWVkaWEgb25seSBzY3JlZW4gYW5kICgtd2Via2l0LW1pbi1kZXZpY2UtcGl4ZWwtcmF0aW86Mil7I2xvZ297YmFja2dyb3VuZDp1cmwoLy93d3cuZ29vZ2xlLmNvbS9pbWFnZXMvbG9nb3MvZXJyb3JwYWdlL2Vycm9yX2xvZ28tMTUweDU0LTJ4LnBuZykgbm8tcmVwZWF0Oy13ZWJraXQtYmFja2dyb3VuZC1zaXplOjEwMCUgMTAwJX19I2xvZ297ZGlzcGxheTppbmxpbmUtYmxvY2s7aGVpZ2h0OjU0cHg7d2lkdGg6MTUwcHh9CiAgPC9zdHlsZT4KICA8YSBocmVmPS8vd3d3Lmdvb2dsZS5jb20vPjxzcGFuIGlkPWxvZ28gYXJpYS1sYWJlbD1Hb29nbGU+PC9zcGFuPjwvYT4KICA8cD48Yj40MDQuPC9iPiA8aW5zPlRoYXTigJlzIGFuIGVycm9yLjwvaW5zPgogIDxwPiAgPGlucz5UaGF04oCZcyBhbGwgd2Uga25vdy48L2lucz4K",
              "ok": false,
              "headers": [
                [
                  "content-length",
                  "1449"
                ],
                [
                  "content-type",
                  "text/html; charset=utf-8"
                ]
              ],
              "status": 404,
              "status_text": ""
            },
            "http://localhost:8080/dataset_students/classification/train_labelled/20.png": {
              "data": "CjwhRE9DVFlQRSBodG1sPgo8aHRtbCBsYW5nPWVuPgogIDxtZXRhIGNoYXJzZXQ9dXRmLTg+CiAgPG1ldGEgbmFtZT12aWV3cG9ydCBjb250ZW50PSJpbml0aWFsLXNjYWxlPTEsIG1pbmltdW0tc2NhbGU9MSwgd2lkdGg9ZGV2aWNlLXdpZHRoIj4KICA8dGl0bGU+RXJyb3IgNDA0IChOb3QgRm91bmQpISExPC90aXRsZT4KICA8c3R5bGU+CiAgICAqe21hcmdpbjowO3BhZGRpbmc6MH1odG1sLGNvZGV7Zm9udDoxNXB4LzIycHggYXJpYWwsc2Fucy1zZXJpZn1odG1se2JhY2tncm91bmQ6I2ZmZjtjb2xvcjojMjIyO3BhZGRpbmc6MTVweH1ib2R5e21hcmdpbjo3JSBhdXRvIDA7bWF4LXdpZHRoOjM5MHB4O21pbi1oZWlnaHQ6MTgwcHg7cGFkZGluZzozMHB4IDAgMTVweH0qID4gYm9keXtiYWNrZ3JvdW5kOnVybCgvL3d3dy5nb29nbGUuY29tL2ltYWdlcy9lcnJvcnMvcm9ib3QucG5nKSAxMDAlIDVweCBuby1yZXBlYXQ7cGFkZGluZy1yaWdodDoyMDVweH1we21hcmdpbjoxMXB4IDAgMjJweDtvdmVyZmxvdzpoaWRkZW59aW5ze2NvbG9yOiM3Nzc7dGV4dC1kZWNvcmF0aW9uOm5vbmV9YSBpbWd7Ym9yZGVyOjB9QG1lZGlhIHNjcmVlbiBhbmQgKG1heC13aWR0aDo3NzJweCl7Ym9keXtiYWNrZ3JvdW5kOm5vbmU7bWFyZ2luLXRvcDowO21heC13aWR0aDpub25lO3BhZGRpbmctcmlnaHQ6MH19I2xvZ297YmFja2dyb3VuZDp1cmwoLy93d3cuZ29vZ2xlLmNvbS9pbWFnZXMvbG9nb3MvZXJyb3JwYWdlL2Vycm9yX2xvZ28tMTUweDU0LnBuZykgbm8tcmVwZWF0O21hcmdpbi1sZWZ0Oi01cHh9QG1lZGlhIG9ubHkgc2NyZWVuIGFuZCAobWluLXJlc29sdXRpb246MTkyZHBpKXsjbG9nb3tiYWNrZ3JvdW5kOnVybCgvL3d3dy5nb29nbGUuY29tL2ltYWdlcy9sb2dvcy9lcnJvcnBhZ2UvZXJyb3JfbG9nby0xNTB4NTQtMngucG5nKSBuby1yZXBlYXQgMCUgMCUvMTAwJSAxMDAlOy1tb3otYm9yZGVyLWltYWdlOnVybCgvL3d3dy5nb29nbGUuY29tL2ltYWdlcy9sb2dvcy9lcnJvcnBhZ2UvZXJyb3JfbG9nby0xNTB4NTQtMngucG5nKSAwfX1AbWVkaWEgb25seSBzY3JlZW4gYW5kICgtd2Via2l0LW1pbi1kZXZpY2UtcGl4ZWwtcmF0aW86Mil7I2xvZ297YmFja2dyb3VuZDp1cmwoLy93d3cuZ29vZ2xlLmNvbS9pbWFnZXMvbG9nb3MvZXJyb3JwYWdlL2Vycm9yX2xvZ28tMTUweDU0LTJ4LnBuZykgbm8tcmVwZWF0Oy13ZWJraXQtYmFja2dyb3VuZC1zaXplOjEwMCUgMTAwJX19I2xvZ297ZGlzcGxheTppbmxpbmUtYmxvY2s7aGVpZ2h0OjU0cHg7d2lkdGg6MTUwcHh9CiAgPC9zdHlsZT4KICA8YSBocmVmPS8vd3d3Lmdvb2dsZS5jb20vPjxzcGFuIGlkPWxvZ28gYXJpYS1sYWJlbD1Hb29nbGU+PC9zcGFuPjwvYT4KICA8cD48Yj40MDQuPC9iPiA8aW5zPlRoYXTigJlzIGFuIGVycm9yLjwvaW5zPgogIDxwPiAgPGlucz5UaGF04oCZcyBhbGwgd2Uga25vdy48L2lucz4K",
              "ok": false,
              "headers": [
                [
                  "content-length",
                  "1449"
                ],
                [
                  "content-type",
                  "text/html; charset=utf-8"
                ]
              ],
              "status": 404,
              "status_text": ""
            },
            "http://localhost:8080/dataset_students/classification/train_labelled/34.png": {
              "data": "CjwhRE9DVFlQRSBodG1sPgo8aHRtbCBsYW5nPWVuPgogIDxtZXRhIGNoYXJzZXQ9dXRmLTg+CiAgPG1ldGEgbmFtZT12aWV3cG9ydCBjb250ZW50PSJpbml0aWFsLXNjYWxlPTEsIG1pbmltdW0tc2NhbGU9MSwgd2lkdGg9ZGV2aWNlLXdpZHRoIj4KICA8dGl0bGU+RXJyb3IgNDA0IChOb3QgRm91bmQpISExPC90aXRsZT4KICA8c3R5bGU+CiAgICAqe21hcmdpbjowO3BhZGRpbmc6MH1odG1sLGNvZGV7Zm9udDoxNXB4LzIycHggYXJpYWwsc2Fucy1zZXJpZn1odG1se2JhY2tncm91bmQ6I2ZmZjtjb2xvcjojMjIyO3BhZGRpbmc6MTVweH1ib2R5e21hcmdpbjo3JSBhdXRvIDA7bWF4LXdpZHRoOjM5MHB4O21pbi1oZWlnaHQ6MTgwcHg7cGFkZGluZzozMHB4IDAgMTVweH0qID4gYm9keXtiYWNrZ3JvdW5kOnVybCgvL3d3dy5nb29nbGUuY29tL2ltYWdlcy9lcnJvcnMvcm9ib3QucG5nKSAxMDAlIDVweCBuby1yZXBlYXQ7cGFkZGluZy1yaWdodDoyMDVweH1we21hcmdpbjoxMXB4IDAgMjJweDtvdmVyZmxvdzpoaWRkZW59aW5ze2NvbG9yOiM3Nzc7dGV4dC1kZWNvcmF0aW9uOm5vbmV9YSBpbWd7Ym9yZGVyOjB9QG1lZGlhIHNjcmVlbiBhbmQgKG1heC13aWR0aDo3NzJweCl7Ym9keXtiYWNrZ3JvdW5kOm5vbmU7bWFyZ2luLXRvcDowO21heC13aWR0aDpub25lO3BhZGRpbmctcmlnaHQ6MH19I2xvZ297YmFja2dyb3VuZDp1cmwoLy93d3cuZ29vZ2xlLmNvbS9pbWFnZXMvbG9nb3MvZXJyb3JwYWdlL2Vycm9yX2xvZ28tMTUweDU0LnBuZykgbm8tcmVwZWF0O21hcmdpbi1sZWZ0Oi01cHh9QG1lZGlhIG9ubHkgc2NyZWVuIGFuZCAobWluLXJlc29sdXRpb246MTkyZHBpKXsjbG9nb3tiYWNrZ3JvdW5kOnVybCgvL3d3dy5nb29nbGUuY29tL2ltYWdlcy9sb2dvcy9lcnJvcnBhZ2UvZXJyb3JfbG9nby0xNTB4NTQtMngucG5nKSBuby1yZXBlYXQgMCUgMCUvMTAwJSAxMDAlOy1tb3otYm9yZGVyLWltYWdlOnVybCgvL3d3dy5nb29nbGUuY29tL2ltYWdlcy9sb2dvcy9lcnJvcnBhZ2UvZXJyb3JfbG9nby0xNTB4NTQtMngucG5nKSAwfX1AbWVkaWEgb25seSBzY3JlZW4gYW5kICgtd2Via2l0LW1pbi1kZXZpY2UtcGl4ZWwtcmF0aW86Mil7I2xvZ297YmFja2dyb3VuZDp1cmwoLy93d3cuZ29vZ2xlLmNvbS9pbWFnZXMvbG9nb3MvZXJyb3JwYWdlL2Vycm9yX2xvZ28tMTUweDU0LTJ4LnBuZykgbm8tcmVwZWF0Oy13ZWJraXQtYmFja2dyb3VuZC1zaXplOjEwMCUgMTAwJX19I2xvZ297ZGlzcGxheTppbmxpbmUtYmxvY2s7aGVpZ2h0OjU0cHg7d2lkdGg6MTUwcHh9CiAgPC9zdHlsZT4KICA8YSBocmVmPS8vd3d3Lmdvb2dsZS5jb20vPjxzcGFuIGlkPWxvZ28gYXJpYS1sYWJlbD1Hb29nbGU+PC9zcGFuPjwvYT4KICA8cD48Yj40MDQuPC9iPiA8aW5zPlRoYXTigJlzIGFuIGVycm9yLjwvaW5zPgogIDxwPiAgPGlucz5UaGF04oCZcyBhbGwgd2Uga25vdy48L2lucz4K",
              "ok": false,
              "headers": [
                [
                  "content-length",
                  "1449"
                ],
                [
                  "content-type",
                  "text/html; charset=utf-8"
                ]
              ],
              "status": 404,
              "status_text": ""
            },
            "http://localhost:8080/dataset_students/classification/train_labelled/94.png": {
              "data": "CjwhRE9DVFlQRSBodG1sPgo8aHRtbCBsYW5nPWVuPgogIDxtZXRhIGNoYXJzZXQ9dXRmLTg+CiAgPG1ldGEgbmFtZT12aWV3cG9ydCBjb250ZW50PSJpbml0aWFsLXNjYWxlPTEsIG1pbmltdW0tc2NhbGU9MSwgd2lkdGg9ZGV2aWNlLXdpZHRoIj4KICA8dGl0bGU+RXJyb3IgNDA0IChOb3QgRm91bmQpISExPC90aXRsZT4KICA8c3R5bGU+CiAgICAqe21hcmdpbjowO3BhZGRpbmc6MH1odG1sLGNvZGV7Zm9udDoxNXB4LzIycHggYXJpYWwsc2Fucy1zZXJpZn1odG1se2JhY2tncm91bmQ6I2ZmZjtjb2xvcjojMjIyO3BhZGRpbmc6MTVweH1ib2R5e21hcmdpbjo3JSBhdXRvIDA7bWF4LXdpZHRoOjM5MHB4O21pbi1oZWlnaHQ6MTgwcHg7cGFkZGluZzozMHB4IDAgMTVweH0qID4gYm9keXtiYWNrZ3JvdW5kOnVybCgvL3d3dy5nb29nbGUuY29tL2ltYWdlcy9lcnJvcnMvcm9ib3QucG5nKSAxMDAlIDVweCBuby1yZXBlYXQ7cGFkZGluZy1yaWdodDoyMDVweH1we21hcmdpbjoxMXB4IDAgMjJweDtvdmVyZmxvdzpoaWRkZW59aW5ze2NvbG9yOiM3Nzc7dGV4dC1kZWNvcmF0aW9uOm5vbmV9YSBpbWd7Ym9yZGVyOjB9QG1lZGlhIHNjcmVlbiBhbmQgKG1heC13aWR0aDo3NzJweCl7Ym9keXtiYWNrZ3JvdW5kOm5vbmU7bWFyZ2luLXRvcDowO21heC13aWR0aDpub25lO3BhZGRpbmctcmlnaHQ6MH19I2xvZ297YmFja2dyb3VuZDp1cmwoLy93d3cuZ29vZ2xlLmNvbS9pbWFnZXMvbG9nb3MvZXJyb3JwYWdlL2Vycm9yX2xvZ28tMTUweDU0LnBuZykgbm8tcmVwZWF0O21hcmdpbi1sZWZ0Oi01cHh9QG1lZGlhIG9ubHkgc2NyZWVuIGFuZCAobWluLXJlc29sdXRpb246MTkyZHBpKXsjbG9nb3tiYWNrZ3JvdW5kOnVybCgvL3d3dy5nb29nbGUuY29tL2ltYWdlcy9sb2dvcy9lcnJvcnBhZ2UvZXJyb3JfbG9nby0xNTB4NTQtMngucG5nKSBuby1yZXBlYXQgMCUgMCUvMTAwJSAxMDAlOy1tb3otYm9yZGVyLWltYWdlOnVybCgvL3d3dy5nb29nbGUuY29tL2ltYWdlcy9sb2dvcy9lcnJvcnBhZ2UvZXJyb3JfbG9nby0xNTB4NTQtMngucG5nKSAwfX1AbWVkaWEgb25seSBzY3JlZW4gYW5kICgtd2Via2l0LW1pbi1kZXZpY2UtcGl4ZWwtcmF0aW86Mil7I2xvZ297YmFja2dyb3VuZDp1cmwoLy93d3cuZ29vZ2xlLmNvbS9pbWFnZXMvbG9nb3MvZXJyb3JwYWdlL2Vycm9yX2xvZ28tMTUweDU0LTJ4LnBuZykgbm8tcmVwZWF0Oy13ZWJraXQtYmFja2dyb3VuZC1zaXplOjEwMCUgMTAwJX19I2xvZ297ZGlzcGxheTppbmxpbmUtYmxvY2s7aGVpZ2h0OjU0cHg7d2lkdGg6MTUwcHh9CiAgPC9zdHlsZT4KICA8YSBocmVmPS8vd3d3Lmdvb2dsZS5jb20vPjxzcGFuIGlkPWxvZ28gYXJpYS1sYWJlbD1Hb29nbGU+PC9zcGFuPjwvYT4KICA8cD48Yj40MDQuPC9iPiA8aW5zPlRoYXTigJlzIGFuIGVycm9yLjwvaW5zPgogIDxwPiAgPGlucz5UaGF04oCZcyBhbGwgd2Uga25vdy48L2lucz4K",
              "ok": false,
              "headers": [
                [
                  "content-length",
                  "1449"
                ],
                [
                  "content-type",
                  "text/html; charset=utf-8"
                ]
              ],
              "status": 404,
              "status_text": ""
            },
            "http://localhost:8080/dataset_students/classification/train_labelled/18.png": {
              "data": "CjwhRE9DVFlQRSBodG1sPgo8aHRtbCBsYW5nPWVuPgogIDxtZXRhIGNoYXJzZXQ9dXRmLTg+CiAgPG1ldGEgbmFtZT12aWV3cG9ydCBjb250ZW50PSJpbml0aWFsLXNjYWxlPTEsIG1pbmltdW0tc2NhbGU9MSwgd2lkdGg9ZGV2aWNlLXdpZHRoIj4KICA8dGl0bGU+RXJyb3IgNDA0IChOb3QgRm91bmQpISExPC90aXRsZT4KICA8c3R5bGU+CiAgICAqe21hcmdpbjowO3BhZGRpbmc6MH1odG1sLGNvZGV7Zm9udDoxNXB4LzIycHggYXJpYWwsc2Fucy1zZXJpZn1odG1se2JhY2tncm91bmQ6I2ZmZjtjb2xvcjojMjIyO3BhZGRpbmc6MTVweH1ib2R5e21hcmdpbjo3JSBhdXRvIDA7bWF4LXdpZHRoOjM5MHB4O21pbi1oZWlnaHQ6MTgwcHg7cGFkZGluZzozMHB4IDAgMTVweH0qID4gYm9keXtiYWNrZ3JvdW5kOnVybCgvL3d3dy5nb29nbGUuY29tL2ltYWdlcy9lcnJvcnMvcm9ib3QucG5nKSAxMDAlIDVweCBuby1yZXBlYXQ7cGFkZGluZy1yaWdodDoyMDVweH1we21hcmdpbjoxMXB4IDAgMjJweDtvdmVyZmxvdzpoaWRkZW59aW5ze2NvbG9yOiM3Nzc7dGV4dC1kZWNvcmF0aW9uOm5vbmV9YSBpbWd7Ym9yZGVyOjB9QG1lZGlhIHNjcmVlbiBhbmQgKG1heC13aWR0aDo3NzJweCl7Ym9keXtiYWNrZ3JvdW5kOm5vbmU7bWFyZ2luLXRvcDowO21heC13aWR0aDpub25lO3BhZGRpbmctcmlnaHQ6MH19I2xvZ297YmFja2dyb3VuZDp1cmwoLy93d3cuZ29vZ2xlLmNvbS9pbWFnZXMvbG9nb3MvZXJyb3JwYWdlL2Vycm9yX2xvZ28tMTUweDU0LnBuZykgbm8tcmVwZWF0O21hcmdpbi1sZWZ0Oi01cHh9QG1lZGlhIG9ubHkgc2NyZWVuIGFuZCAobWluLXJlc29sdXRpb246MTkyZHBpKXsjbG9nb3tiYWNrZ3JvdW5kOnVybCgvL3d3dy5nb29nbGUuY29tL2ltYWdlcy9sb2dvcy9lcnJvcnBhZ2UvZXJyb3JfbG9nby0xNTB4NTQtMngucG5nKSBuby1yZXBlYXQgMCUgMCUvMTAwJSAxMDAlOy1tb3otYm9yZGVyLWltYWdlOnVybCgvL3d3dy5nb29nbGUuY29tL2ltYWdlcy9sb2dvcy9lcnJvcnBhZ2UvZXJyb3JfbG9nby0xNTB4NTQtMngucG5nKSAwfX1AbWVkaWEgb25seSBzY3JlZW4gYW5kICgtd2Via2l0LW1pbi1kZXZpY2UtcGl4ZWwtcmF0aW86Mil7I2xvZ297YmFja2dyb3VuZDp1cmwoLy93d3cuZ29vZ2xlLmNvbS9pbWFnZXMvbG9nb3MvZXJyb3JwYWdlL2Vycm9yX2xvZ28tMTUweDU0LTJ4LnBuZykgbm8tcmVwZWF0Oy13ZWJraXQtYmFja2dyb3VuZC1zaXplOjEwMCUgMTAwJX19I2xvZ297ZGlzcGxheTppbmxpbmUtYmxvY2s7aGVpZ2h0OjU0cHg7d2lkdGg6MTUwcHh9CiAgPC9zdHlsZT4KICA8YSBocmVmPS8vd3d3Lmdvb2dsZS5jb20vPjxzcGFuIGlkPWxvZ28gYXJpYS1sYWJlbD1Hb29nbGU+PC9zcGFuPjwvYT4KICA8cD48Yj40MDQuPC9iPiA8aW5zPlRoYXTigJlzIGFuIGVycm9yLjwvaW5zPgogIDxwPiAgPGlucz5UaGF04oCZcyBhbGwgd2Uga25vdy48L2lucz4K",
              "ok": false,
              "headers": [
                [
                  "content-length",
                  "1449"
                ],
                [
                  "content-type",
                  "text/html; charset=utf-8"
                ]
              ],
              "status": 404,
              "status_text": ""
            },
            "http://localhost:8080/dataset_students/classification/train_labelled/13.png": {
              "data": "CjwhRE9DVFlQRSBodG1sPgo8aHRtbCBsYW5nPWVuPgogIDxtZXRhIGNoYXJzZXQ9dXRmLTg+CiAgPG1ldGEgbmFtZT12aWV3cG9ydCBjb250ZW50PSJpbml0aWFsLXNjYWxlPTEsIG1pbmltdW0tc2NhbGU9MSwgd2lkdGg9ZGV2aWNlLXdpZHRoIj4KICA8dGl0bGU+RXJyb3IgNDA0IChOb3QgRm91bmQpISExPC90aXRsZT4KICA8c3R5bGU+CiAgICAqe21hcmdpbjowO3BhZGRpbmc6MH1odG1sLGNvZGV7Zm9udDoxNXB4LzIycHggYXJpYWwsc2Fucy1zZXJpZn1odG1se2JhY2tncm91bmQ6I2ZmZjtjb2xvcjojMjIyO3BhZGRpbmc6MTVweH1ib2R5e21hcmdpbjo3JSBhdXRvIDA7bWF4LXdpZHRoOjM5MHB4O21pbi1oZWlnaHQ6MTgwcHg7cGFkZGluZzozMHB4IDAgMTVweH0qID4gYm9keXtiYWNrZ3JvdW5kOnVybCgvL3d3dy5nb29nbGUuY29tL2ltYWdlcy9lcnJvcnMvcm9ib3QucG5nKSAxMDAlIDVweCBuby1yZXBlYXQ7cGFkZGluZy1yaWdodDoyMDVweH1we21hcmdpbjoxMXB4IDAgMjJweDtvdmVyZmxvdzpoaWRkZW59aW5ze2NvbG9yOiM3Nzc7dGV4dC1kZWNvcmF0aW9uOm5vbmV9YSBpbWd7Ym9yZGVyOjB9QG1lZGlhIHNjcmVlbiBhbmQgKG1heC13aWR0aDo3NzJweCl7Ym9keXtiYWNrZ3JvdW5kOm5vbmU7bWFyZ2luLXRvcDowO21heC13aWR0aDpub25lO3BhZGRpbmctcmlnaHQ6MH19I2xvZ297YmFja2dyb3VuZDp1cmwoLy93d3cuZ29vZ2xlLmNvbS9pbWFnZXMvbG9nb3MvZXJyb3JwYWdlL2Vycm9yX2xvZ28tMTUweDU0LnBuZykgbm8tcmVwZWF0O21hcmdpbi1sZWZ0Oi01cHh9QG1lZGlhIG9ubHkgc2NyZWVuIGFuZCAobWluLXJlc29sdXRpb246MTkyZHBpKXsjbG9nb3tiYWNrZ3JvdW5kOnVybCgvL3d3dy5nb29nbGUuY29tL2ltYWdlcy9sb2dvcy9lcnJvcnBhZ2UvZXJyb3JfbG9nby0xNTB4NTQtMngucG5nKSBuby1yZXBlYXQgMCUgMCUvMTAwJSAxMDAlOy1tb3otYm9yZGVyLWltYWdlOnVybCgvL3d3dy5nb29nbGUuY29tL2ltYWdlcy9sb2dvcy9lcnJvcnBhZ2UvZXJyb3JfbG9nby0xNTB4NTQtMngucG5nKSAwfX1AbWVkaWEgb25seSBzY3JlZW4gYW5kICgtd2Via2l0LW1pbi1kZXZpY2UtcGl4ZWwtcmF0aW86Mil7I2xvZ297YmFja2dyb3VuZDp1cmwoLy93d3cuZ29vZ2xlLmNvbS9pbWFnZXMvbG9nb3MvZXJyb3JwYWdlL2Vycm9yX2xvZ28tMTUweDU0LTJ4LnBuZykgbm8tcmVwZWF0Oy13ZWJraXQtYmFja2dyb3VuZC1zaXplOjEwMCUgMTAwJX19I2xvZ297ZGlzcGxheTppbmxpbmUtYmxvY2s7aGVpZ2h0OjU0cHg7d2lkdGg6MTUwcHh9CiAgPC9zdHlsZT4KICA8YSBocmVmPS8vd3d3Lmdvb2dsZS5jb20vPjxzcGFuIGlkPWxvZ28gYXJpYS1sYWJlbD1Hb29nbGU+PC9zcGFuPjwvYT4KICA8cD48Yj40MDQuPC9iPiA8aW5zPlRoYXTigJlzIGFuIGVycm9yLjwvaW5zPgogIDxwPiAgPGlucz5UaGF04oCZcyBhbGwgd2Uga25vdy48L2lucz4K",
              "ok": false,
              "headers": [
                [
                  "content-length",
                  "1449"
                ],
                [
                  "content-type",
                  "text/html; charset=utf-8"
                ]
              ],
              "status": 404,
              "status_text": ""
            },
            "http://localhost:8080/dataset_students/classification/train_labelled/85.png": {
              "data": "CjwhRE9DVFlQRSBodG1sPgo8aHRtbCBsYW5nPWVuPgogIDxtZXRhIGNoYXJzZXQ9dXRmLTg+CiAgPG1ldGEgbmFtZT12aWV3cG9ydCBjb250ZW50PSJpbml0aWFsLXNjYWxlPTEsIG1pbmltdW0tc2NhbGU9MSwgd2lkdGg9ZGV2aWNlLXdpZHRoIj4KICA8dGl0bGU+RXJyb3IgNDA0IChOb3QgRm91bmQpISExPC90aXRsZT4KICA8c3R5bGU+CiAgICAqe21hcmdpbjowO3BhZGRpbmc6MH1odG1sLGNvZGV7Zm9udDoxNXB4LzIycHggYXJpYWwsc2Fucy1zZXJpZn1odG1se2JhY2tncm91bmQ6I2ZmZjtjb2xvcjojMjIyO3BhZGRpbmc6MTVweH1ib2R5e21hcmdpbjo3JSBhdXRvIDA7bWF4LXdpZHRoOjM5MHB4O21pbi1oZWlnaHQ6MTgwcHg7cGFkZGluZzozMHB4IDAgMTVweH0qID4gYm9keXtiYWNrZ3JvdW5kOnVybCgvL3d3dy5nb29nbGUuY29tL2ltYWdlcy9lcnJvcnMvcm9ib3QucG5nKSAxMDAlIDVweCBuby1yZXBlYXQ7cGFkZGluZy1yaWdodDoyMDVweH1we21hcmdpbjoxMXB4IDAgMjJweDtvdmVyZmxvdzpoaWRkZW59aW5ze2NvbG9yOiM3Nzc7dGV4dC1kZWNvcmF0aW9uOm5vbmV9YSBpbWd7Ym9yZGVyOjB9QG1lZGlhIHNjcmVlbiBhbmQgKG1heC13aWR0aDo3NzJweCl7Ym9keXtiYWNrZ3JvdW5kOm5vbmU7bWFyZ2luLXRvcDowO21heC13aWR0aDpub25lO3BhZGRpbmctcmlnaHQ6MH19I2xvZ297YmFja2dyb3VuZDp1cmwoLy93d3cuZ29vZ2xlLmNvbS9pbWFnZXMvbG9nb3MvZXJyb3JwYWdlL2Vycm9yX2xvZ28tMTUweDU0LnBuZykgbm8tcmVwZWF0O21hcmdpbi1sZWZ0Oi01cHh9QG1lZGlhIG9ubHkgc2NyZWVuIGFuZCAobWluLXJlc29sdXRpb246MTkyZHBpKXsjbG9nb3tiYWNrZ3JvdW5kOnVybCgvL3d3dy5nb29nbGUuY29tL2ltYWdlcy9sb2dvcy9lcnJvcnBhZ2UvZXJyb3JfbG9nby0xNTB4NTQtMngucG5nKSBuby1yZXBlYXQgMCUgMCUvMTAwJSAxMDAlOy1tb3otYm9yZGVyLWltYWdlOnVybCgvL3d3dy5nb29nbGUuY29tL2ltYWdlcy9sb2dvcy9lcnJvcnBhZ2UvZXJyb3JfbG9nby0xNTB4NTQtMngucG5nKSAwfX1AbWVkaWEgb25seSBzY3JlZW4gYW5kICgtd2Via2l0LW1pbi1kZXZpY2UtcGl4ZWwtcmF0aW86Mil7I2xvZ297YmFja2dyb3VuZDp1cmwoLy93d3cuZ29vZ2xlLmNvbS9pbWFnZXMvbG9nb3MvZXJyb3JwYWdlL2Vycm9yX2xvZ28tMTUweDU0LTJ4LnBuZykgbm8tcmVwZWF0Oy13ZWJraXQtYmFja2dyb3VuZC1zaXplOjEwMCUgMTAwJX19I2xvZ297ZGlzcGxheTppbmxpbmUtYmxvY2s7aGVpZ2h0OjU0cHg7d2lkdGg6MTUwcHh9CiAgPC9zdHlsZT4KICA8YSBocmVmPS8vd3d3Lmdvb2dsZS5jb20vPjxzcGFuIGlkPWxvZ28gYXJpYS1sYWJlbD1Hb29nbGU+PC9zcGFuPjwvYT4KICA8cD48Yj40MDQuPC9iPiA8aW5zPlRoYXTigJlzIGFuIGVycm9yLjwvaW5zPgogIDxwPiAgPGlucz5UaGF04oCZcyBhbGwgd2Uga25vdy48L2lucz4K",
              "ok": false,
              "headers": [
                [
                  "content-length",
                  "1449"
                ],
                [
                  "content-type",
                  "text/html; charset=utf-8"
                ]
              ],
              "status": 404,
              "status_text": ""
            },
            "http://localhost:8080/dataset_students/classification/train_labelled/118.png": {
              "data": "CjwhRE9DVFlQRSBodG1sPgo8aHRtbCBsYW5nPWVuPgogIDxtZXRhIGNoYXJzZXQ9dXRmLTg+CiAgPG1ldGEgbmFtZT12aWV3cG9ydCBjb250ZW50PSJpbml0aWFsLXNjYWxlPTEsIG1pbmltdW0tc2NhbGU9MSwgd2lkdGg9ZGV2aWNlLXdpZHRoIj4KICA8dGl0bGU+RXJyb3IgNDA0IChOb3QgRm91bmQpISExPC90aXRsZT4KICA8c3R5bGU+CiAgICAqe21hcmdpbjowO3BhZGRpbmc6MH1odG1sLGNvZGV7Zm9udDoxNXB4LzIycHggYXJpYWwsc2Fucy1zZXJpZn1odG1se2JhY2tncm91bmQ6I2ZmZjtjb2xvcjojMjIyO3BhZGRpbmc6MTVweH1ib2R5e21hcmdpbjo3JSBhdXRvIDA7bWF4LXdpZHRoOjM5MHB4O21pbi1oZWlnaHQ6MTgwcHg7cGFkZGluZzozMHB4IDAgMTVweH0qID4gYm9keXtiYWNrZ3JvdW5kOnVybCgvL3d3dy5nb29nbGUuY29tL2ltYWdlcy9lcnJvcnMvcm9ib3QucG5nKSAxMDAlIDVweCBuby1yZXBlYXQ7cGFkZGluZy1yaWdodDoyMDVweH1we21hcmdpbjoxMXB4IDAgMjJweDtvdmVyZmxvdzpoaWRkZW59aW5ze2NvbG9yOiM3Nzc7dGV4dC1kZWNvcmF0aW9uOm5vbmV9YSBpbWd7Ym9yZGVyOjB9QG1lZGlhIHNjcmVlbiBhbmQgKG1heC13aWR0aDo3NzJweCl7Ym9keXtiYWNrZ3JvdW5kOm5vbmU7bWFyZ2luLXRvcDowO21heC13aWR0aDpub25lO3BhZGRpbmctcmlnaHQ6MH19I2xvZ297YmFja2dyb3VuZDp1cmwoLy93d3cuZ29vZ2xlLmNvbS9pbWFnZXMvbG9nb3MvZXJyb3JwYWdlL2Vycm9yX2xvZ28tMTUweDU0LnBuZykgbm8tcmVwZWF0O21hcmdpbi1sZWZ0Oi01cHh9QG1lZGlhIG9ubHkgc2NyZWVuIGFuZCAobWluLXJlc29sdXRpb246MTkyZHBpKXsjbG9nb3tiYWNrZ3JvdW5kOnVybCgvL3d3dy5nb29nbGUuY29tL2ltYWdlcy9sb2dvcy9lcnJvcnBhZ2UvZXJyb3JfbG9nby0xNTB4NTQtMngucG5nKSBuby1yZXBlYXQgMCUgMCUvMTAwJSAxMDAlOy1tb3otYm9yZGVyLWltYWdlOnVybCgvL3d3dy5nb29nbGUuY29tL2ltYWdlcy9sb2dvcy9lcnJvcnBhZ2UvZXJyb3JfbG9nby0xNTB4NTQtMngucG5nKSAwfX1AbWVkaWEgb25seSBzY3JlZW4gYW5kICgtd2Via2l0LW1pbi1kZXZpY2UtcGl4ZWwtcmF0aW86Mil7I2xvZ297YmFja2dyb3VuZDp1cmwoLy93d3cuZ29vZ2xlLmNvbS9pbWFnZXMvbG9nb3MvZXJyb3JwYWdlL2Vycm9yX2xvZ28tMTUweDU0LTJ4LnBuZykgbm8tcmVwZWF0Oy13ZWJraXQtYmFja2dyb3VuZC1zaXplOjEwMCUgMTAwJX19I2xvZ297ZGlzcGxheTppbmxpbmUtYmxvY2s7aGVpZ2h0OjU0cHg7d2lkdGg6MTUwcHh9CiAgPC9zdHlsZT4KICA8YSBocmVmPS8vd3d3Lmdvb2dsZS5jb20vPjxzcGFuIGlkPWxvZ28gYXJpYS1sYWJlbD1Hb29nbGU+PC9zcGFuPjwvYT4KICA8cD48Yj40MDQuPC9iPiA8aW5zPlRoYXTigJlzIGFuIGVycm9yLjwvaW5zPgogIDxwPiAgPGlucz5UaGF04oCZcyBhbGwgd2Uga25vdy48L2lucz4K",
              "ok": false,
              "headers": [
                [
                  "content-length",
                  "1449"
                ],
                [
                  "content-type",
                  "text/html; charset=utf-8"
                ]
              ],
              "status": 404,
              "status_text": ""
            },
            "http://localhost:8080/dataset_students/classification/train_labelled/128.png": {
              "data": "CjwhRE9DVFlQRSBodG1sPgo8aHRtbCBsYW5nPWVuPgogIDxtZXRhIGNoYXJzZXQ9dXRmLTg+CiAgPG1ldGEgbmFtZT12aWV3cG9ydCBjb250ZW50PSJpbml0aWFsLXNjYWxlPTEsIG1pbmltdW0tc2NhbGU9MSwgd2lkdGg9ZGV2aWNlLXdpZHRoIj4KICA8dGl0bGU+RXJyb3IgNDA0IChOb3QgRm91bmQpISExPC90aXRsZT4KICA8c3R5bGU+CiAgICAqe21hcmdpbjowO3BhZGRpbmc6MH1odG1sLGNvZGV7Zm9udDoxNXB4LzIycHggYXJpYWwsc2Fucy1zZXJpZn1odG1se2JhY2tncm91bmQ6I2ZmZjtjb2xvcjojMjIyO3BhZGRpbmc6MTVweH1ib2R5e21hcmdpbjo3JSBhdXRvIDA7bWF4LXdpZHRoOjM5MHB4O21pbi1oZWlnaHQ6MTgwcHg7cGFkZGluZzozMHB4IDAgMTVweH0qID4gYm9keXtiYWNrZ3JvdW5kOnVybCgvL3d3dy5nb29nbGUuY29tL2ltYWdlcy9lcnJvcnMvcm9ib3QucG5nKSAxMDAlIDVweCBuby1yZXBlYXQ7cGFkZGluZy1yaWdodDoyMDVweH1we21hcmdpbjoxMXB4IDAgMjJweDtvdmVyZmxvdzpoaWRkZW59aW5ze2NvbG9yOiM3Nzc7dGV4dC1kZWNvcmF0aW9uOm5vbmV9YSBpbWd7Ym9yZGVyOjB9QG1lZGlhIHNjcmVlbiBhbmQgKG1heC13aWR0aDo3NzJweCl7Ym9keXtiYWNrZ3JvdW5kOm5vbmU7bWFyZ2luLXRvcDowO21heC13aWR0aDpub25lO3BhZGRpbmctcmlnaHQ6MH19I2xvZ297YmFja2dyb3VuZDp1cmwoLy93d3cuZ29vZ2xlLmNvbS9pbWFnZXMvbG9nb3MvZXJyb3JwYWdlL2Vycm9yX2xvZ28tMTUweDU0LnBuZykgbm8tcmVwZWF0O21hcmdpbi1sZWZ0Oi01cHh9QG1lZGlhIG9ubHkgc2NyZWVuIGFuZCAobWluLXJlc29sdXRpb246MTkyZHBpKXsjbG9nb3tiYWNrZ3JvdW5kOnVybCgvL3d3dy5nb29nbGUuY29tL2ltYWdlcy9sb2dvcy9lcnJvcnBhZ2UvZXJyb3JfbG9nby0xNTB4NTQtMngucG5nKSBuby1yZXBlYXQgMCUgMCUvMTAwJSAxMDAlOy1tb3otYm9yZGVyLWltYWdlOnVybCgvL3d3dy5nb29nbGUuY29tL2ltYWdlcy9sb2dvcy9lcnJvcnBhZ2UvZXJyb3JfbG9nby0xNTB4NTQtMngucG5nKSAwfX1AbWVkaWEgb25seSBzY3JlZW4gYW5kICgtd2Via2l0LW1pbi1kZXZpY2UtcGl4ZWwtcmF0aW86Mil7I2xvZ297YmFja2dyb3VuZDp1cmwoLy93d3cuZ29vZ2xlLmNvbS9pbWFnZXMvbG9nb3MvZXJyb3JwYWdlL2Vycm9yX2xvZ28tMTUweDU0LTJ4LnBuZykgbm8tcmVwZWF0Oy13ZWJraXQtYmFja2dyb3VuZC1zaXplOjEwMCUgMTAwJX19I2xvZ297ZGlzcGxheTppbmxpbmUtYmxvY2s7aGVpZ2h0OjU0cHg7d2lkdGg6MTUwcHh9CiAgPC9zdHlsZT4KICA8YSBocmVmPS8vd3d3Lmdvb2dsZS5jb20vPjxzcGFuIGlkPWxvZ28gYXJpYS1sYWJlbD1Hb29nbGU+PC9zcGFuPjwvYT4KICA8cD48Yj40MDQuPC9iPiA8aW5zPlRoYXTigJlzIGFuIGVycm9yLjwvaW5zPgogIDxwPiAgPGlucz5UaGF04oCZcyBhbGwgd2Uga25vdy48L2lucz4K",
              "ok": false,
              "headers": [
                [
                  "content-length",
                  "1449"
                ],
                [
                  "content-type",
                  "text/html; charset=utf-8"
                ]
              ],
              "status": 404,
              "status_text": ""
            },
            "http://localhost:8080/dataset_students/classification/train_unlabelled/1089.png": {
              "data": "CjwhRE9DVFlQRSBodG1sPgo8aHRtbCBsYW5nPWVuPgogIDxtZXRhIGNoYXJzZXQ9dXRmLTg+CiAgPG1ldGEgbmFtZT12aWV3cG9ydCBjb250ZW50PSJpbml0aWFsLXNjYWxlPTEsIG1pbmltdW0tc2NhbGU9MSwgd2lkdGg9ZGV2aWNlLXdpZHRoIj4KICA8dGl0bGU+RXJyb3IgNDA0IChOb3QgRm91bmQpISExPC90aXRsZT4KICA8c3R5bGU+CiAgICAqe21hcmdpbjowO3BhZGRpbmc6MH1odG1sLGNvZGV7Zm9udDoxNXB4LzIycHggYXJpYWwsc2Fucy1zZXJpZn1odG1se2JhY2tncm91bmQ6I2ZmZjtjb2xvcjojMjIyO3BhZGRpbmc6MTVweH1ib2R5e21hcmdpbjo3JSBhdXRvIDA7bWF4LXdpZHRoOjM5MHB4O21pbi1oZWlnaHQ6MTgwcHg7cGFkZGluZzozMHB4IDAgMTVweH0qID4gYm9keXtiYWNrZ3JvdW5kOnVybCgvL3d3dy5nb29nbGUuY29tL2ltYWdlcy9lcnJvcnMvcm9ib3QucG5nKSAxMDAlIDVweCBuby1yZXBlYXQ7cGFkZGluZy1yaWdodDoyMDVweH1we21hcmdpbjoxMXB4IDAgMjJweDtvdmVyZmxvdzpoaWRkZW59aW5ze2NvbG9yOiM3Nzc7dGV4dC1kZWNvcmF0aW9uOm5vbmV9YSBpbWd7Ym9yZGVyOjB9QG1lZGlhIHNjcmVlbiBhbmQgKG1heC13aWR0aDo3NzJweCl7Ym9keXtiYWNrZ3JvdW5kOm5vbmU7bWFyZ2luLXRvcDowO21heC13aWR0aDpub25lO3BhZGRpbmctcmlnaHQ6MH19I2xvZ297YmFja2dyb3VuZDp1cmwoLy93d3cuZ29vZ2xlLmNvbS9pbWFnZXMvbG9nb3MvZXJyb3JwYWdlL2Vycm9yX2xvZ28tMTUweDU0LnBuZykgbm8tcmVwZWF0O21hcmdpbi1sZWZ0Oi01cHh9QG1lZGlhIG9ubHkgc2NyZWVuIGFuZCAobWluLXJlc29sdXRpb246MTkyZHBpKXsjbG9nb3tiYWNrZ3JvdW5kOnVybCgvL3d3dy5nb29nbGUuY29tL2ltYWdlcy9sb2dvcy9lcnJvcnBhZ2UvZXJyb3JfbG9nby0xNTB4NTQtMngucG5nKSBuby1yZXBlYXQgMCUgMCUvMTAwJSAxMDAlOy1tb3otYm9yZGVyLWltYWdlOnVybCgvL3d3dy5nb29nbGUuY29tL2ltYWdlcy9sb2dvcy9lcnJvcnBhZ2UvZXJyb3JfbG9nby0xNTB4NTQtMngucG5nKSAwfX1AbWVkaWEgb25seSBzY3JlZW4gYW5kICgtd2Via2l0LW1pbi1kZXZpY2UtcGl4ZWwtcmF0aW86Mil7I2xvZ297YmFja2dyb3VuZDp1cmwoLy93d3cuZ29vZ2xlLmNvbS9pbWFnZXMvbG9nb3MvZXJyb3JwYWdlL2Vycm9yX2xvZ28tMTUweDU0LTJ4LnBuZykgbm8tcmVwZWF0Oy13ZWJraXQtYmFja2dyb3VuZC1zaXplOjEwMCUgMTAwJX19I2xvZ297ZGlzcGxheTppbmxpbmUtYmxvY2s7aGVpZ2h0OjU0cHg7d2lkdGg6MTUwcHh9CiAgPC9zdHlsZT4KICA8YSBocmVmPS8vd3d3Lmdvb2dsZS5jb20vPjxzcGFuIGlkPWxvZ28gYXJpYS1sYWJlbD1Hb29nbGU+PC9zcGFuPjwvYT4KICA8cD48Yj40MDQuPC9iPiA8aW5zPlRoYXTigJlzIGFuIGVycm9yLjwvaW5zPgogIDxwPiAgPGlucz5UaGF04oCZcyBhbGwgd2Uga25vdy48L2lucz4K",
              "ok": false,
              "headers": [
                [
                  "content-length",
                  "1449"
                ],
                [
                  "content-type",
                  "text/html; charset=utf-8"
                ]
              ],
              "status": 404,
              "status_text": ""
            },
            "http://localhost:8080/dataset_students/classification/train_labelled/126.png": {
              "data": "CjwhRE9DVFlQRSBodG1sPgo8aHRtbCBsYW5nPWVuPgogIDxtZXRhIGNoYXJzZXQ9dXRmLTg+CiAgPG1ldGEgbmFtZT12aWV3cG9ydCBjb250ZW50PSJpbml0aWFsLXNjYWxlPTEsIG1pbmltdW0tc2NhbGU9MSwgd2lkdGg9ZGV2aWNlLXdpZHRoIj4KICA8dGl0bGU+RXJyb3IgNDA0IChOb3QgRm91bmQpISExPC90aXRsZT4KICA8c3R5bGU+CiAgICAqe21hcmdpbjowO3BhZGRpbmc6MH1odG1sLGNvZGV7Zm9udDoxNXB4LzIycHggYXJpYWwsc2Fucy1zZXJpZn1odG1se2JhY2tncm91bmQ6I2ZmZjtjb2xvcjojMjIyO3BhZGRpbmc6MTVweH1ib2R5e21hcmdpbjo3JSBhdXRvIDA7bWF4LXdpZHRoOjM5MHB4O21pbi1oZWlnaHQ6MTgwcHg7cGFkZGluZzozMHB4IDAgMTVweH0qID4gYm9keXtiYWNrZ3JvdW5kOnVybCgvL3d3dy5nb29nbGUuY29tL2ltYWdlcy9lcnJvcnMvcm9ib3QucG5nKSAxMDAlIDVweCBuby1yZXBlYXQ7cGFkZGluZy1yaWdodDoyMDVweH1we21hcmdpbjoxMXB4IDAgMjJweDtvdmVyZmxvdzpoaWRkZW59aW5ze2NvbG9yOiM3Nzc7dGV4dC1kZWNvcmF0aW9uOm5vbmV9YSBpbWd7Ym9yZGVyOjB9QG1lZGlhIHNjcmVlbiBhbmQgKG1heC13aWR0aDo3NzJweCl7Ym9keXtiYWNrZ3JvdW5kOm5vbmU7bWFyZ2luLXRvcDowO21heC13aWR0aDpub25lO3BhZGRpbmctcmlnaHQ6MH19I2xvZ297YmFja2dyb3VuZDp1cmwoLy93d3cuZ29vZ2xlLmNvbS9pbWFnZXMvbG9nb3MvZXJyb3JwYWdlL2Vycm9yX2xvZ28tMTUweDU0LnBuZykgbm8tcmVwZWF0O21hcmdpbi1sZWZ0Oi01cHh9QG1lZGlhIG9ubHkgc2NyZWVuIGFuZCAobWluLXJlc29sdXRpb246MTkyZHBpKXsjbG9nb3tiYWNrZ3JvdW5kOnVybCgvL3d3dy5nb29nbGUuY29tL2ltYWdlcy9sb2dvcy9lcnJvcnBhZ2UvZXJyb3JfbG9nby0xNTB4NTQtMngucG5nKSBuby1yZXBlYXQgMCUgMCUvMTAwJSAxMDAlOy1tb3otYm9yZGVyLWltYWdlOnVybCgvL3d3dy5nb29nbGUuY29tL2ltYWdlcy9sb2dvcy9lcnJvcnBhZ2UvZXJyb3JfbG9nby0xNTB4NTQtMngucG5nKSAwfX1AbWVkaWEgb25seSBzY3JlZW4gYW5kICgtd2Via2l0LW1pbi1kZXZpY2UtcGl4ZWwtcmF0aW86Mil7I2xvZ297YmFja2dyb3VuZDp1cmwoLy93d3cuZ29vZ2xlLmNvbS9pbWFnZXMvbG9nb3MvZXJyb3JwYWdlL2Vycm9yX2xvZ28tMTUweDU0LTJ4LnBuZykgbm8tcmVwZWF0Oy13ZWJraXQtYmFja2dyb3VuZC1zaXplOjEwMCUgMTAwJX19I2xvZ297ZGlzcGxheTppbmxpbmUtYmxvY2s7aGVpZ2h0OjU0cHg7d2lkdGg6MTUwcHh9CiAgPC9zdHlsZT4KICA8YSBocmVmPS8vd3d3Lmdvb2dsZS5jb20vPjxzcGFuIGlkPWxvZ28gYXJpYS1sYWJlbD1Hb29nbGU+PC9zcGFuPjwvYT4KICA8cD48Yj40MDQuPC9iPiA8aW5zPlRoYXTigJlzIGFuIGVycm9yLjwvaW5zPgogIDxwPiAgPGlucz5UaGF04oCZcyBhbGwgd2Uga25vdy48L2lucz4K",
              "ok": false,
              "headers": [
                [
                  "content-length",
                  "1449"
                ],
                [
                  "content-type",
                  "text/html; charset=utf-8"
                ]
              ],
              "status": 404,
              "status_text": ""
            },
            "http://localhost:8080/dataset_students/classification/train_labelled/129.png": {
              "data": "CjwhRE9DVFlQRSBodG1sPgo8aHRtbCBsYW5nPWVuPgogIDxtZXRhIGNoYXJzZXQ9dXRmLTg+CiAgPG1ldGEgbmFtZT12aWV3cG9ydCBjb250ZW50PSJpbml0aWFsLXNjYWxlPTEsIG1pbmltdW0tc2NhbGU9MSwgd2lkdGg9ZGV2aWNlLXdpZHRoIj4KICA8dGl0bGU+RXJyb3IgNDA0IChOb3QgRm91bmQpISExPC90aXRsZT4KICA8c3R5bGU+CiAgICAqe21hcmdpbjowO3BhZGRpbmc6MH1odG1sLGNvZGV7Zm9udDoxNXB4LzIycHggYXJpYWwsc2Fucy1zZXJpZn1odG1se2JhY2tncm91bmQ6I2ZmZjtjb2xvcjojMjIyO3BhZGRpbmc6MTVweH1ib2R5e21hcmdpbjo3JSBhdXRvIDA7bWF4LXdpZHRoOjM5MHB4O21pbi1oZWlnaHQ6MTgwcHg7cGFkZGluZzozMHB4IDAgMTVweH0qID4gYm9keXtiYWNrZ3JvdW5kOnVybCgvL3d3dy5nb29nbGUuY29tL2ltYWdlcy9lcnJvcnMvcm9ib3QucG5nKSAxMDAlIDVweCBuby1yZXBlYXQ7cGFkZGluZy1yaWdodDoyMDVweH1we21hcmdpbjoxMXB4IDAgMjJweDtvdmVyZmxvdzpoaWRkZW59aW5ze2NvbG9yOiM3Nzc7dGV4dC1kZWNvcmF0aW9uOm5vbmV9YSBpbWd7Ym9yZGVyOjB9QG1lZGlhIHNjcmVlbiBhbmQgKG1heC13aWR0aDo3NzJweCl7Ym9keXtiYWNrZ3JvdW5kOm5vbmU7bWFyZ2luLXRvcDowO21heC13aWR0aDpub25lO3BhZGRpbmctcmlnaHQ6MH19I2xvZ297YmFja2dyb3VuZDp1cmwoLy93d3cuZ29vZ2xlLmNvbS9pbWFnZXMvbG9nb3MvZXJyb3JwYWdlL2Vycm9yX2xvZ28tMTUweDU0LnBuZykgbm8tcmVwZWF0O21hcmdpbi1sZWZ0Oi01cHh9QG1lZGlhIG9ubHkgc2NyZWVuIGFuZCAobWluLXJlc29sdXRpb246MTkyZHBpKXsjbG9nb3tiYWNrZ3JvdW5kOnVybCgvL3d3dy5nb29nbGUuY29tL2ltYWdlcy9sb2dvcy9lcnJvcnBhZ2UvZXJyb3JfbG9nby0xNTB4NTQtMngucG5nKSBuby1yZXBlYXQgMCUgMCUvMTAwJSAxMDAlOy1tb3otYm9yZGVyLWltYWdlOnVybCgvL3d3dy5nb29nbGUuY29tL2ltYWdlcy9sb2dvcy9lcnJvcnBhZ2UvZXJyb3JfbG9nby0xNTB4NTQtMngucG5nKSAwfX1AbWVkaWEgb25seSBzY3JlZW4gYW5kICgtd2Via2l0LW1pbi1kZXZpY2UtcGl4ZWwtcmF0aW86Mil7I2xvZ297YmFja2dyb3VuZDp1cmwoLy93d3cuZ29vZ2xlLmNvbS9pbWFnZXMvbG9nb3MvZXJyb3JwYWdlL2Vycm9yX2xvZ28tMTUweDU0LTJ4LnBuZykgbm8tcmVwZWF0Oy13ZWJraXQtYmFja2dyb3VuZC1zaXplOjEwMCUgMTAwJX19I2xvZ297ZGlzcGxheTppbmxpbmUtYmxvY2s7aGVpZ2h0OjU0cHg7d2lkdGg6MTUwcHh9CiAgPC9zdHlsZT4KICA8YSBocmVmPS8vd3d3Lmdvb2dsZS5jb20vPjxzcGFuIGlkPWxvZ28gYXJpYS1sYWJlbD1Hb29nbGU+PC9zcGFuPjwvYT4KICA8cD48Yj40MDQuPC9iPiA8aW5zPlRoYXTigJlzIGFuIGVycm9yLjwvaW5zPgogIDxwPiAgPGlucz5UaGF04oCZcyBhbGwgd2Uga25vdy48L2lucz4K",
              "ok": false,
              "headers": [
                [
                  "content-length",
                  "1449"
                ],
                [
                  "content-type",
                  "text/html; charset=utf-8"
                ]
              ],
              "status": 404,
              "status_text": ""
            },
            "http://localhost:8080/dataset_students/classification/train_unlabelled/694.png": {
              "data": "CjwhRE9DVFlQRSBodG1sPgo8aHRtbCBsYW5nPWVuPgogIDxtZXRhIGNoYXJzZXQ9dXRmLTg+CiAgPG1ldGEgbmFtZT12aWV3cG9ydCBjb250ZW50PSJpbml0aWFsLXNjYWxlPTEsIG1pbmltdW0tc2NhbGU9MSwgd2lkdGg9ZGV2aWNlLXdpZHRoIj4KICA8dGl0bGU+RXJyb3IgNDA0IChOb3QgRm91bmQpISExPC90aXRsZT4KICA8c3R5bGU+CiAgICAqe21hcmdpbjowO3BhZGRpbmc6MH1odG1sLGNvZGV7Zm9udDoxNXB4LzIycHggYXJpYWwsc2Fucy1zZXJpZn1odG1se2JhY2tncm91bmQ6I2ZmZjtjb2xvcjojMjIyO3BhZGRpbmc6MTVweH1ib2R5e21hcmdpbjo3JSBhdXRvIDA7bWF4LXdpZHRoOjM5MHB4O21pbi1oZWlnaHQ6MTgwcHg7cGFkZGluZzozMHB4IDAgMTVweH0qID4gYm9keXtiYWNrZ3JvdW5kOnVybCgvL3d3dy5nb29nbGUuY29tL2ltYWdlcy9lcnJvcnMvcm9ib3QucG5nKSAxMDAlIDVweCBuby1yZXBlYXQ7cGFkZGluZy1yaWdodDoyMDVweH1we21hcmdpbjoxMXB4IDAgMjJweDtvdmVyZmxvdzpoaWRkZW59aW5ze2NvbG9yOiM3Nzc7dGV4dC1kZWNvcmF0aW9uOm5vbmV9YSBpbWd7Ym9yZGVyOjB9QG1lZGlhIHNjcmVlbiBhbmQgKG1heC13aWR0aDo3NzJweCl7Ym9keXtiYWNrZ3JvdW5kOm5vbmU7bWFyZ2luLXRvcDowO21heC13aWR0aDpub25lO3BhZGRpbmctcmlnaHQ6MH19I2xvZ297YmFja2dyb3VuZDp1cmwoLy93d3cuZ29vZ2xlLmNvbS9pbWFnZXMvbG9nb3MvZXJyb3JwYWdlL2Vycm9yX2xvZ28tMTUweDU0LnBuZykgbm8tcmVwZWF0O21hcmdpbi1sZWZ0Oi01cHh9QG1lZGlhIG9ubHkgc2NyZWVuIGFuZCAobWluLXJlc29sdXRpb246MTkyZHBpKXsjbG9nb3tiYWNrZ3JvdW5kOnVybCgvL3d3dy5nb29nbGUuY29tL2ltYWdlcy9sb2dvcy9lcnJvcnBhZ2UvZXJyb3JfbG9nby0xNTB4NTQtMngucG5nKSBuby1yZXBlYXQgMCUgMCUvMTAwJSAxMDAlOy1tb3otYm9yZGVyLWltYWdlOnVybCgvL3d3dy5nb29nbGUuY29tL2ltYWdlcy9sb2dvcy9lcnJvcnBhZ2UvZXJyb3JfbG9nby0xNTB4NTQtMngucG5nKSAwfX1AbWVkaWEgb25seSBzY3JlZW4gYW5kICgtd2Via2l0LW1pbi1kZXZpY2UtcGl4ZWwtcmF0aW86Mil7I2xvZ297YmFja2dyb3VuZDp1cmwoLy93d3cuZ29vZ2xlLmNvbS9pbWFnZXMvbG9nb3MvZXJyb3JwYWdlL2Vycm9yX2xvZ28tMTUweDU0LTJ4LnBuZykgbm8tcmVwZWF0Oy13ZWJraXQtYmFja2dyb3VuZC1zaXplOjEwMCUgMTAwJX19I2xvZ297ZGlzcGxheTppbmxpbmUtYmxvY2s7aGVpZ2h0OjU0cHg7d2lkdGg6MTUwcHh9CiAgPC9zdHlsZT4KICA8YSBocmVmPS8vd3d3Lmdvb2dsZS5jb20vPjxzcGFuIGlkPWxvZ28gYXJpYS1sYWJlbD1Hb29nbGU+PC9zcGFuPjwvYT4KICA8cD48Yj40MDQuPC9iPiA8aW5zPlRoYXTigJlzIGFuIGVycm9yLjwvaW5zPgogIDxwPiAgPGlucz5UaGF04oCZcyBhbGwgd2Uga25vdy48L2lucz4K",
              "ok": false,
              "headers": [
                [
                  "content-length",
                  "1449"
                ],
                [
                  "content-type",
                  "text/html; charset=utf-8"
                ]
              ],
              "status": 404,
              "status_text": ""
            },
            "http://localhost:8080/dataset_students/classification/train_labelled/127.png": {
              "data": "CjwhRE9DVFlQRSBodG1sPgo8aHRtbCBsYW5nPWVuPgogIDxtZXRhIGNoYXJzZXQ9dXRmLTg+CiAgPG1ldGEgbmFtZT12aWV3cG9ydCBjb250ZW50PSJpbml0aWFsLXNjYWxlPTEsIG1pbmltdW0tc2NhbGU9MSwgd2lkdGg9ZGV2aWNlLXdpZHRoIj4KICA8dGl0bGU+RXJyb3IgNDA0IChOb3QgRm91bmQpISExPC90aXRsZT4KICA8c3R5bGU+CiAgICAqe21hcmdpbjowO3BhZGRpbmc6MH1odG1sLGNvZGV7Zm9udDoxNXB4LzIycHggYXJpYWwsc2Fucy1zZXJpZn1odG1se2JhY2tncm91bmQ6I2ZmZjtjb2xvcjojMjIyO3BhZGRpbmc6MTVweH1ib2R5e21hcmdpbjo3JSBhdXRvIDA7bWF4LXdpZHRoOjM5MHB4O21pbi1oZWlnaHQ6MTgwcHg7cGFkZGluZzozMHB4IDAgMTVweH0qID4gYm9keXtiYWNrZ3JvdW5kOnVybCgvL3d3dy5nb29nbGUuY29tL2ltYWdlcy9lcnJvcnMvcm9ib3QucG5nKSAxMDAlIDVweCBuby1yZXBlYXQ7cGFkZGluZy1yaWdodDoyMDVweH1we21hcmdpbjoxMXB4IDAgMjJweDtvdmVyZmxvdzpoaWRkZW59aW5ze2NvbG9yOiM3Nzc7dGV4dC1kZWNvcmF0aW9uOm5vbmV9YSBpbWd7Ym9yZGVyOjB9QG1lZGlhIHNjcmVlbiBhbmQgKG1heC13aWR0aDo3NzJweCl7Ym9keXtiYWNrZ3JvdW5kOm5vbmU7bWFyZ2luLXRvcDowO21heC13aWR0aDpub25lO3BhZGRpbmctcmlnaHQ6MH19I2xvZ297YmFja2dyb3VuZDp1cmwoLy93d3cuZ29vZ2xlLmNvbS9pbWFnZXMvbG9nb3MvZXJyb3JwYWdlL2Vycm9yX2xvZ28tMTUweDU0LnBuZykgbm8tcmVwZWF0O21hcmdpbi1sZWZ0Oi01cHh9QG1lZGlhIG9ubHkgc2NyZWVuIGFuZCAobWluLXJlc29sdXRpb246MTkyZHBpKXsjbG9nb3tiYWNrZ3JvdW5kOnVybCgvL3d3dy5nb29nbGUuY29tL2ltYWdlcy9sb2dvcy9lcnJvcnBhZ2UvZXJyb3JfbG9nby0xNTB4NTQtMngucG5nKSBuby1yZXBlYXQgMCUgMCUvMTAwJSAxMDAlOy1tb3otYm9yZGVyLWltYWdlOnVybCgvL3d3dy5nb29nbGUuY29tL2ltYWdlcy9sb2dvcy9lcnJvcnBhZ2UvZXJyb3JfbG9nby0xNTB4NTQtMngucG5nKSAwfX1AbWVkaWEgb25seSBzY3JlZW4gYW5kICgtd2Via2l0LW1pbi1kZXZpY2UtcGl4ZWwtcmF0aW86Mil7I2xvZ297YmFja2dyb3VuZDp1cmwoLy93d3cuZ29vZ2xlLmNvbS9pbWFnZXMvbG9nb3MvZXJyb3JwYWdlL2Vycm9yX2xvZ28tMTUweDU0LTJ4LnBuZykgbm8tcmVwZWF0Oy13ZWJraXQtYmFja2dyb3VuZC1zaXplOjEwMCUgMTAwJX19I2xvZ297ZGlzcGxheTppbmxpbmUtYmxvY2s7aGVpZ2h0OjU0cHg7d2lkdGg6MTUwcHh9CiAgPC9zdHlsZT4KICA8YSBocmVmPS8vd3d3Lmdvb2dsZS5jb20vPjxzcGFuIGlkPWxvZ28gYXJpYS1sYWJlbD1Hb29nbGU+PC9zcGFuPjwvYT4KICA8cD48Yj40MDQuPC9iPiA8aW5zPlRoYXTigJlzIGFuIGVycm9yLjwvaW5zPgogIDxwPiAgPGlucz5UaGF04oCZcyBhbGwgd2Uga25vdy48L2lucz4K",
              "ok": false,
              "headers": [
                [
                  "content-length",
                  "1449"
                ],
                [
                  "content-type",
                  "text/html; charset=utf-8"
                ]
              ],
              "status": 404,
              "status_text": ""
            },
            "http://localhost:8080/dataset_students/classification/train_unlabelled/1369.png": {
              "data": "CjwhRE9DVFlQRSBodG1sPgo8aHRtbCBsYW5nPWVuPgogIDxtZXRhIGNoYXJzZXQ9dXRmLTg+CiAgPG1ldGEgbmFtZT12aWV3cG9ydCBjb250ZW50PSJpbml0aWFsLXNjYWxlPTEsIG1pbmltdW0tc2NhbGU9MSwgd2lkdGg9ZGV2aWNlLXdpZHRoIj4KICA8dGl0bGU+RXJyb3IgNDA0IChOb3QgRm91bmQpISExPC90aXRsZT4KICA8c3R5bGU+CiAgICAqe21hcmdpbjowO3BhZGRpbmc6MH1odG1sLGNvZGV7Zm9udDoxNXB4LzIycHggYXJpYWwsc2Fucy1zZXJpZn1odG1se2JhY2tncm91bmQ6I2ZmZjtjb2xvcjojMjIyO3BhZGRpbmc6MTVweH1ib2R5e21hcmdpbjo3JSBhdXRvIDA7bWF4LXdpZHRoOjM5MHB4O21pbi1oZWlnaHQ6MTgwcHg7cGFkZGluZzozMHB4IDAgMTVweH0qID4gYm9keXtiYWNrZ3JvdW5kOnVybCgvL3d3dy5nb29nbGUuY29tL2ltYWdlcy9lcnJvcnMvcm9ib3QucG5nKSAxMDAlIDVweCBuby1yZXBlYXQ7cGFkZGluZy1yaWdodDoyMDVweH1we21hcmdpbjoxMXB4IDAgMjJweDtvdmVyZmxvdzpoaWRkZW59aW5ze2NvbG9yOiM3Nzc7dGV4dC1kZWNvcmF0aW9uOm5vbmV9YSBpbWd7Ym9yZGVyOjB9QG1lZGlhIHNjcmVlbiBhbmQgKG1heC13aWR0aDo3NzJweCl7Ym9keXtiYWNrZ3JvdW5kOm5vbmU7bWFyZ2luLXRvcDowO21heC13aWR0aDpub25lO3BhZGRpbmctcmlnaHQ6MH19I2xvZ297YmFja2dyb3VuZDp1cmwoLy93d3cuZ29vZ2xlLmNvbS9pbWFnZXMvbG9nb3MvZXJyb3JwYWdlL2Vycm9yX2xvZ28tMTUweDU0LnBuZykgbm8tcmVwZWF0O21hcmdpbi1sZWZ0Oi01cHh9QG1lZGlhIG9ubHkgc2NyZWVuIGFuZCAobWluLXJlc29sdXRpb246MTkyZHBpKXsjbG9nb3tiYWNrZ3JvdW5kOnVybCgvL3d3dy5nb29nbGUuY29tL2ltYWdlcy9sb2dvcy9lcnJvcnBhZ2UvZXJyb3JfbG9nby0xNTB4NTQtMngucG5nKSBuby1yZXBlYXQgMCUgMCUvMTAwJSAxMDAlOy1tb3otYm9yZGVyLWltYWdlOnVybCgvL3d3dy5nb29nbGUuY29tL2ltYWdlcy9sb2dvcy9lcnJvcnBhZ2UvZXJyb3JfbG9nby0xNTB4NTQtMngucG5nKSAwfX1AbWVkaWEgb25seSBzY3JlZW4gYW5kICgtd2Via2l0LW1pbi1kZXZpY2UtcGl4ZWwtcmF0aW86Mil7I2xvZ297YmFja2dyb3VuZDp1cmwoLy93d3cuZ29vZ2xlLmNvbS9pbWFnZXMvbG9nb3MvZXJyb3JwYWdlL2Vycm9yX2xvZ28tMTUweDU0LTJ4LnBuZykgbm8tcmVwZWF0Oy13ZWJraXQtYmFja2dyb3VuZC1zaXplOjEwMCUgMTAwJX19I2xvZ297ZGlzcGxheTppbmxpbmUtYmxvY2s7aGVpZ2h0OjU0cHg7d2lkdGg6MTUwcHh9CiAgPC9zdHlsZT4KICA8YSBocmVmPS8vd3d3Lmdvb2dsZS5jb20vPjxzcGFuIGlkPWxvZ28gYXJpYS1sYWJlbD1Hb29nbGU+PC9zcGFuPjwvYT4KICA8cD48Yj40MDQuPC9iPiA8aW5zPlRoYXTigJlzIGFuIGVycm9yLjwvaW5zPgogIDxwPiAgPGlucz5UaGF04oCZcyBhbGwgd2Uga25vdy48L2lucz4K",
              "ok": false,
              "headers": [
                [
                  "content-length",
                  "1449"
                ],
                [
                  "content-type",
                  "text/html; charset=utf-8"
                ]
              ],
              "status": 404,
              "status_text": ""
            },
            "http://localhost:8080/dataset_students/classification/train_labelled/55.png": {
              "data": "CjwhRE9DVFlQRSBodG1sPgo8aHRtbCBsYW5nPWVuPgogIDxtZXRhIGNoYXJzZXQ9dXRmLTg+CiAgPG1ldGEgbmFtZT12aWV3cG9ydCBjb250ZW50PSJpbml0aWFsLXNjYWxlPTEsIG1pbmltdW0tc2NhbGU9MSwgd2lkdGg9ZGV2aWNlLXdpZHRoIj4KICA8dGl0bGU+RXJyb3IgNDA0IChOb3QgRm91bmQpISExPC90aXRsZT4KICA8c3R5bGU+CiAgICAqe21hcmdpbjowO3BhZGRpbmc6MH1odG1sLGNvZGV7Zm9udDoxNXB4LzIycHggYXJpYWwsc2Fucy1zZXJpZn1odG1se2JhY2tncm91bmQ6I2ZmZjtjb2xvcjojMjIyO3BhZGRpbmc6MTVweH1ib2R5e21hcmdpbjo3JSBhdXRvIDA7bWF4LXdpZHRoOjM5MHB4O21pbi1oZWlnaHQ6MTgwcHg7cGFkZGluZzozMHB4IDAgMTVweH0qID4gYm9keXtiYWNrZ3JvdW5kOnVybCgvL3d3dy5nb29nbGUuY29tL2ltYWdlcy9lcnJvcnMvcm9ib3QucG5nKSAxMDAlIDVweCBuby1yZXBlYXQ7cGFkZGluZy1yaWdodDoyMDVweH1we21hcmdpbjoxMXB4IDAgMjJweDtvdmVyZmxvdzpoaWRkZW59aW5ze2NvbG9yOiM3Nzc7dGV4dC1kZWNvcmF0aW9uOm5vbmV9YSBpbWd7Ym9yZGVyOjB9QG1lZGlhIHNjcmVlbiBhbmQgKG1heC13aWR0aDo3NzJweCl7Ym9keXtiYWNrZ3JvdW5kOm5vbmU7bWFyZ2luLXRvcDowO21heC13aWR0aDpub25lO3BhZGRpbmctcmlnaHQ6MH19I2xvZ297YmFja2dyb3VuZDp1cmwoLy93d3cuZ29vZ2xlLmNvbS9pbWFnZXMvbG9nb3MvZXJyb3JwYWdlL2Vycm9yX2xvZ28tMTUweDU0LnBuZykgbm8tcmVwZWF0O21hcmdpbi1sZWZ0Oi01cHh9QG1lZGlhIG9ubHkgc2NyZWVuIGFuZCAobWluLXJlc29sdXRpb246MTkyZHBpKXsjbG9nb3tiYWNrZ3JvdW5kOnVybCgvL3d3dy5nb29nbGUuY29tL2ltYWdlcy9sb2dvcy9lcnJvcnBhZ2UvZXJyb3JfbG9nby0xNTB4NTQtMngucG5nKSBuby1yZXBlYXQgMCUgMCUvMTAwJSAxMDAlOy1tb3otYm9yZGVyLWltYWdlOnVybCgvL3d3dy5nb29nbGUuY29tL2ltYWdlcy9sb2dvcy9lcnJvcnBhZ2UvZXJyb3JfbG9nby0xNTB4NTQtMngucG5nKSAwfX1AbWVkaWEgb25seSBzY3JlZW4gYW5kICgtd2Via2l0LW1pbi1kZXZpY2UtcGl4ZWwtcmF0aW86Mil7I2xvZ297YmFja2dyb3VuZDp1cmwoLy93d3cuZ29vZ2xlLmNvbS9pbWFnZXMvbG9nb3MvZXJyb3JwYWdlL2Vycm9yX2xvZ28tMTUweDU0LTJ4LnBuZykgbm8tcmVwZWF0Oy13ZWJraXQtYmFja2dyb3VuZC1zaXplOjEwMCUgMTAwJX19I2xvZ297ZGlzcGxheTppbmxpbmUtYmxvY2s7aGVpZ2h0OjU0cHg7d2lkdGg6MTUwcHh9CiAgPC9zdHlsZT4KICA8YSBocmVmPS8vd3d3Lmdvb2dsZS5jb20vPjxzcGFuIGlkPWxvZ28gYXJpYS1sYWJlbD1Hb29nbGU+PC9zcGFuPjwvYT4KICA8cD48Yj40MDQuPC9iPiA8aW5zPlRoYXTigJlzIGFuIGVycm9yLjwvaW5zPgogIDxwPiAgPGlucz5UaGF04oCZcyBhbGwgd2Uga25vdy48L2lucz4K",
              "ok": false,
              "headers": [
                [
                  "content-length",
                  "1449"
                ],
                [
                  "content-type",
                  "text/html; charset=utf-8"
                ]
              ],
              "status": 404,
              "status_text": ""
            },
            "http://localhost:8080/dataset_students/classification/train_unlabelled/665.png": {
              "data": "CjwhRE9DVFlQRSBodG1sPgo8aHRtbCBsYW5nPWVuPgogIDxtZXRhIGNoYXJzZXQ9dXRmLTg+CiAgPG1ldGEgbmFtZT12aWV3cG9ydCBjb250ZW50PSJpbml0aWFsLXNjYWxlPTEsIG1pbmltdW0tc2NhbGU9MSwgd2lkdGg9ZGV2aWNlLXdpZHRoIj4KICA8dGl0bGU+RXJyb3IgNDA0IChOb3QgRm91bmQpISExPC90aXRsZT4KICA8c3R5bGU+CiAgICAqe21hcmdpbjowO3BhZGRpbmc6MH1odG1sLGNvZGV7Zm9udDoxNXB4LzIycHggYXJpYWwsc2Fucy1zZXJpZn1odG1se2JhY2tncm91bmQ6I2ZmZjtjb2xvcjojMjIyO3BhZGRpbmc6MTVweH1ib2R5e21hcmdpbjo3JSBhdXRvIDA7bWF4LXdpZHRoOjM5MHB4O21pbi1oZWlnaHQ6MTgwcHg7cGFkZGluZzozMHB4IDAgMTVweH0qID4gYm9keXtiYWNrZ3JvdW5kOnVybCgvL3d3dy5nb29nbGUuY29tL2ltYWdlcy9lcnJvcnMvcm9ib3QucG5nKSAxMDAlIDVweCBuby1yZXBlYXQ7cGFkZGluZy1yaWdodDoyMDVweH1we21hcmdpbjoxMXB4IDAgMjJweDtvdmVyZmxvdzpoaWRkZW59aW5ze2NvbG9yOiM3Nzc7dGV4dC1kZWNvcmF0aW9uOm5vbmV9YSBpbWd7Ym9yZGVyOjB9QG1lZGlhIHNjcmVlbiBhbmQgKG1heC13aWR0aDo3NzJweCl7Ym9keXtiYWNrZ3JvdW5kOm5vbmU7bWFyZ2luLXRvcDowO21heC13aWR0aDpub25lO3BhZGRpbmctcmlnaHQ6MH19I2xvZ297YmFja2dyb3VuZDp1cmwoLy93d3cuZ29vZ2xlLmNvbS9pbWFnZXMvbG9nb3MvZXJyb3JwYWdlL2Vycm9yX2xvZ28tMTUweDU0LnBuZykgbm8tcmVwZWF0O21hcmdpbi1sZWZ0Oi01cHh9QG1lZGlhIG9ubHkgc2NyZWVuIGFuZCAobWluLXJlc29sdXRpb246MTkyZHBpKXsjbG9nb3tiYWNrZ3JvdW5kOnVybCgvL3d3dy5nb29nbGUuY29tL2ltYWdlcy9sb2dvcy9lcnJvcnBhZ2UvZXJyb3JfbG9nby0xNTB4NTQtMngucG5nKSBuby1yZXBlYXQgMCUgMCUvMTAwJSAxMDAlOy1tb3otYm9yZGVyLWltYWdlOnVybCgvL3d3dy5nb29nbGUuY29tL2ltYWdlcy9sb2dvcy9lcnJvcnBhZ2UvZXJyb3JfbG9nby0xNTB4NTQtMngucG5nKSAwfX1AbWVkaWEgb25seSBzY3JlZW4gYW5kICgtd2Via2l0LW1pbi1kZXZpY2UtcGl4ZWwtcmF0aW86Mil7I2xvZ297YmFja2dyb3VuZDp1cmwoLy93d3cuZ29vZ2xlLmNvbS9pbWFnZXMvbG9nb3MvZXJyb3JwYWdlL2Vycm9yX2xvZ28tMTUweDU0LTJ4LnBuZykgbm8tcmVwZWF0Oy13ZWJraXQtYmFja2dyb3VuZC1zaXplOjEwMCUgMTAwJX19I2xvZ297ZGlzcGxheTppbmxpbmUtYmxvY2s7aGVpZ2h0OjU0cHg7d2lkdGg6MTUwcHh9CiAgPC9zdHlsZT4KICA8YSBocmVmPS8vd3d3Lmdvb2dsZS5jb20vPjxzcGFuIGlkPWxvZ28gYXJpYS1sYWJlbD1Hb29nbGU+PC9zcGFuPjwvYT4KICA8cD48Yj40MDQuPC9iPiA8aW5zPlRoYXTigJlzIGFuIGVycm9yLjwvaW5zPgogIDxwPiAgPGlucz5UaGF04oCZcyBhbGwgd2Uga25vdy48L2lucz4K",
              "ok": false,
              "headers": [
                [
                  "content-length",
                  "1449"
                ],
                [
                  "content-type",
                  "text/html; charset=utf-8"
                ]
              ],
              "status": 404,
              "status_text": ""
            },
            "http://localhost:8080/dataset_students/classification/train_unlabelled/1196.png": {
              "data": "CjwhRE9DVFlQRSBodG1sPgo8aHRtbCBsYW5nPWVuPgogIDxtZXRhIGNoYXJzZXQ9dXRmLTg+CiAgPG1ldGEgbmFtZT12aWV3cG9ydCBjb250ZW50PSJpbml0aWFsLXNjYWxlPTEsIG1pbmltdW0tc2NhbGU9MSwgd2lkdGg9ZGV2aWNlLXdpZHRoIj4KICA8dGl0bGU+RXJyb3IgNDA0IChOb3QgRm91bmQpISExPC90aXRsZT4KICA8c3R5bGU+CiAgICAqe21hcmdpbjowO3BhZGRpbmc6MH1odG1sLGNvZGV7Zm9udDoxNXB4LzIycHggYXJpYWwsc2Fucy1zZXJpZn1odG1se2JhY2tncm91bmQ6I2ZmZjtjb2xvcjojMjIyO3BhZGRpbmc6MTVweH1ib2R5e21hcmdpbjo3JSBhdXRvIDA7bWF4LXdpZHRoOjM5MHB4O21pbi1oZWlnaHQ6MTgwcHg7cGFkZGluZzozMHB4IDAgMTVweH0qID4gYm9keXtiYWNrZ3JvdW5kOnVybCgvL3d3dy5nb29nbGUuY29tL2ltYWdlcy9lcnJvcnMvcm9ib3QucG5nKSAxMDAlIDVweCBuby1yZXBlYXQ7cGFkZGluZy1yaWdodDoyMDVweH1we21hcmdpbjoxMXB4IDAgMjJweDtvdmVyZmxvdzpoaWRkZW59aW5ze2NvbG9yOiM3Nzc7dGV4dC1kZWNvcmF0aW9uOm5vbmV9YSBpbWd7Ym9yZGVyOjB9QG1lZGlhIHNjcmVlbiBhbmQgKG1heC13aWR0aDo3NzJweCl7Ym9keXtiYWNrZ3JvdW5kOm5vbmU7bWFyZ2luLXRvcDowO21heC13aWR0aDpub25lO3BhZGRpbmctcmlnaHQ6MH19I2xvZ297YmFja2dyb3VuZDp1cmwoLy93d3cuZ29vZ2xlLmNvbS9pbWFnZXMvbG9nb3MvZXJyb3JwYWdlL2Vycm9yX2xvZ28tMTUweDU0LnBuZykgbm8tcmVwZWF0O21hcmdpbi1sZWZ0Oi01cHh9QG1lZGlhIG9ubHkgc2NyZWVuIGFuZCAobWluLXJlc29sdXRpb246MTkyZHBpKXsjbG9nb3tiYWNrZ3JvdW5kOnVybCgvL3d3dy5nb29nbGUuY29tL2ltYWdlcy9sb2dvcy9lcnJvcnBhZ2UvZXJyb3JfbG9nby0xNTB4NTQtMngucG5nKSBuby1yZXBlYXQgMCUgMCUvMTAwJSAxMDAlOy1tb3otYm9yZGVyLWltYWdlOnVybCgvL3d3dy5nb29nbGUuY29tL2ltYWdlcy9sb2dvcy9lcnJvcnBhZ2UvZXJyb3JfbG9nby0xNTB4NTQtMngucG5nKSAwfX1AbWVkaWEgb25seSBzY3JlZW4gYW5kICgtd2Via2l0LW1pbi1kZXZpY2UtcGl4ZWwtcmF0aW86Mil7I2xvZ297YmFja2dyb3VuZDp1cmwoLy93d3cuZ29vZ2xlLmNvbS9pbWFnZXMvbG9nb3MvZXJyb3JwYWdlL2Vycm9yX2xvZ28tMTUweDU0LTJ4LnBuZykgbm8tcmVwZWF0Oy13ZWJraXQtYmFja2dyb3VuZC1zaXplOjEwMCUgMTAwJX19I2xvZ297ZGlzcGxheTppbmxpbmUtYmxvY2s7aGVpZ2h0OjU0cHg7d2lkdGg6MTUwcHh9CiAgPC9zdHlsZT4KICA8YSBocmVmPS8vd3d3Lmdvb2dsZS5jb20vPjxzcGFuIGlkPWxvZ28gYXJpYS1sYWJlbD1Hb29nbGU+PC9zcGFuPjwvYT4KICA8cD48Yj40MDQuPC9iPiA8aW5zPlRoYXTigJlzIGFuIGVycm9yLjwvaW5zPgogIDxwPiAgPGlucz5UaGF04oCZcyBhbGwgd2Uga25vdy48L2lucz4K",
              "ok": false,
              "headers": [
                [
                  "content-length",
                  "1449"
                ],
                [
                  "content-type",
                  "text/html; charset=utf-8"
                ]
              ],
              "status": 404,
              "status_text": ""
            },
            "http://localhost:8080/dataset_students/classification/train_unlabelled/1539.png": {
              "data": "CjwhRE9DVFlQRSBodG1sPgo8aHRtbCBsYW5nPWVuPgogIDxtZXRhIGNoYXJzZXQ9dXRmLTg+CiAgPG1ldGEgbmFtZT12aWV3cG9ydCBjb250ZW50PSJpbml0aWFsLXNjYWxlPTEsIG1pbmltdW0tc2NhbGU9MSwgd2lkdGg9ZGV2aWNlLXdpZHRoIj4KICA8dGl0bGU+RXJyb3IgNDA0IChOb3QgRm91bmQpISExPC90aXRsZT4KICA8c3R5bGU+CiAgICAqe21hcmdpbjowO3BhZGRpbmc6MH1odG1sLGNvZGV7Zm9udDoxNXB4LzIycHggYXJpYWwsc2Fucy1zZXJpZn1odG1se2JhY2tncm91bmQ6I2ZmZjtjb2xvcjojMjIyO3BhZGRpbmc6MTVweH1ib2R5e21hcmdpbjo3JSBhdXRvIDA7bWF4LXdpZHRoOjM5MHB4O21pbi1oZWlnaHQ6MTgwcHg7cGFkZGluZzozMHB4IDAgMTVweH0qID4gYm9keXtiYWNrZ3JvdW5kOnVybCgvL3d3dy5nb29nbGUuY29tL2ltYWdlcy9lcnJvcnMvcm9ib3QucG5nKSAxMDAlIDVweCBuby1yZXBlYXQ7cGFkZGluZy1yaWdodDoyMDVweH1we21hcmdpbjoxMXB4IDAgMjJweDtvdmVyZmxvdzpoaWRkZW59aW5ze2NvbG9yOiM3Nzc7dGV4dC1kZWNvcmF0aW9uOm5vbmV9YSBpbWd7Ym9yZGVyOjB9QG1lZGlhIHNjcmVlbiBhbmQgKG1heC13aWR0aDo3NzJweCl7Ym9keXtiYWNrZ3JvdW5kOm5vbmU7bWFyZ2luLXRvcDowO21heC13aWR0aDpub25lO3BhZGRpbmctcmlnaHQ6MH19I2xvZ297YmFja2dyb3VuZDp1cmwoLy93d3cuZ29vZ2xlLmNvbS9pbWFnZXMvbG9nb3MvZXJyb3JwYWdlL2Vycm9yX2xvZ28tMTUweDU0LnBuZykgbm8tcmVwZWF0O21hcmdpbi1sZWZ0Oi01cHh9QG1lZGlhIG9ubHkgc2NyZWVuIGFuZCAobWluLXJlc29sdXRpb246MTkyZHBpKXsjbG9nb3tiYWNrZ3JvdW5kOnVybCgvL3d3dy5nb29nbGUuY29tL2ltYWdlcy9sb2dvcy9lcnJvcnBhZ2UvZXJyb3JfbG9nby0xNTB4NTQtMngucG5nKSBuby1yZXBlYXQgMCUgMCUvMTAwJSAxMDAlOy1tb3otYm9yZGVyLWltYWdlOnVybCgvL3d3dy5nb29nbGUuY29tL2ltYWdlcy9sb2dvcy9lcnJvcnBhZ2UvZXJyb3JfbG9nby0xNTB4NTQtMngucG5nKSAwfX1AbWVkaWEgb25seSBzY3JlZW4gYW5kICgtd2Via2l0LW1pbi1kZXZpY2UtcGl4ZWwtcmF0aW86Mil7I2xvZ297YmFja2dyb3VuZDp1cmwoLy93d3cuZ29vZ2xlLmNvbS9pbWFnZXMvbG9nb3MvZXJyb3JwYWdlL2Vycm9yX2xvZ28tMTUweDU0LTJ4LnBuZykgbm8tcmVwZWF0Oy13ZWJraXQtYmFja2dyb3VuZC1zaXplOjEwMCUgMTAwJX19I2xvZ297ZGlzcGxheTppbmxpbmUtYmxvY2s7aGVpZ2h0OjU0cHg7d2lkdGg6MTUwcHh9CiAgPC9zdHlsZT4KICA8YSBocmVmPS8vd3d3Lmdvb2dsZS5jb20vPjxzcGFuIGlkPWxvZ28gYXJpYS1sYWJlbD1Hb29nbGU+PC9zcGFuPjwvYT4KICA8cD48Yj40MDQuPC9iPiA8aW5zPlRoYXTigJlzIGFuIGVycm9yLjwvaW5zPgogIDxwPiAgPGlucz5UaGF04oCZcyBhbGwgd2Uga25vdy48L2lucz4K",
              "ok": false,
              "headers": [
                [
                  "content-length",
                  "1449"
                ],
                [
                  "content-type",
                  "text/html; charset=utf-8"
                ]
              ],
              "status": 404,
              "status_text": ""
            },
            "http://localhost:8080/dataset_students/classification/train_unlabelled/1658.png": {
              "data": "CjwhRE9DVFlQRSBodG1sPgo8aHRtbCBsYW5nPWVuPgogIDxtZXRhIGNoYXJzZXQ9dXRmLTg+CiAgPG1ldGEgbmFtZT12aWV3cG9ydCBjb250ZW50PSJpbml0aWFsLXNjYWxlPTEsIG1pbmltdW0tc2NhbGU9MSwgd2lkdGg9ZGV2aWNlLXdpZHRoIj4KICA8dGl0bGU+RXJyb3IgNDA0IChOb3QgRm91bmQpISExPC90aXRsZT4KICA8c3R5bGU+CiAgICAqe21hcmdpbjowO3BhZGRpbmc6MH1odG1sLGNvZGV7Zm9udDoxNXB4LzIycHggYXJpYWwsc2Fucy1zZXJpZn1odG1se2JhY2tncm91bmQ6I2ZmZjtjb2xvcjojMjIyO3BhZGRpbmc6MTVweH1ib2R5e21hcmdpbjo3JSBhdXRvIDA7bWF4LXdpZHRoOjM5MHB4O21pbi1oZWlnaHQ6MTgwcHg7cGFkZGluZzozMHB4IDAgMTVweH0qID4gYm9keXtiYWNrZ3JvdW5kOnVybCgvL3d3dy5nb29nbGUuY29tL2ltYWdlcy9lcnJvcnMvcm9ib3QucG5nKSAxMDAlIDVweCBuby1yZXBlYXQ7cGFkZGluZy1yaWdodDoyMDVweH1we21hcmdpbjoxMXB4IDAgMjJweDtvdmVyZmxvdzpoaWRkZW59aW5ze2NvbG9yOiM3Nzc7dGV4dC1kZWNvcmF0aW9uOm5vbmV9YSBpbWd7Ym9yZGVyOjB9QG1lZGlhIHNjcmVlbiBhbmQgKG1heC13aWR0aDo3NzJweCl7Ym9keXtiYWNrZ3JvdW5kOm5vbmU7bWFyZ2luLXRvcDowO21heC13aWR0aDpub25lO3BhZGRpbmctcmlnaHQ6MH19I2xvZ297YmFja2dyb3VuZDp1cmwoLy93d3cuZ29vZ2xlLmNvbS9pbWFnZXMvbG9nb3MvZXJyb3JwYWdlL2Vycm9yX2xvZ28tMTUweDU0LnBuZykgbm8tcmVwZWF0O21hcmdpbi1sZWZ0Oi01cHh9QG1lZGlhIG9ubHkgc2NyZWVuIGFuZCAobWluLXJlc29sdXRpb246MTkyZHBpKXsjbG9nb3tiYWNrZ3JvdW5kOnVybCgvL3d3dy5nb29nbGUuY29tL2ltYWdlcy9sb2dvcy9lcnJvcnBhZ2UvZXJyb3JfbG9nby0xNTB4NTQtMngucG5nKSBuby1yZXBlYXQgMCUgMCUvMTAwJSAxMDAlOy1tb3otYm9yZGVyLWltYWdlOnVybCgvL3d3dy5nb29nbGUuY29tL2ltYWdlcy9sb2dvcy9lcnJvcnBhZ2UvZXJyb3JfbG9nby0xNTB4NTQtMngucG5nKSAwfX1AbWVkaWEgb25seSBzY3JlZW4gYW5kICgtd2Via2l0LW1pbi1kZXZpY2UtcGl4ZWwtcmF0aW86Mil7I2xvZ297YmFja2dyb3VuZDp1cmwoLy93d3cuZ29vZ2xlLmNvbS9pbWFnZXMvbG9nb3MvZXJyb3JwYWdlL2Vycm9yX2xvZ28tMTUweDU0LTJ4LnBuZykgbm8tcmVwZWF0Oy13ZWJraXQtYmFja2dyb3VuZC1zaXplOjEwMCUgMTAwJX19I2xvZ297ZGlzcGxheTppbmxpbmUtYmxvY2s7aGVpZ2h0OjU0cHg7d2lkdGg6MTUwcHh9CiAgPC9zdHlsZT4KICA8YSBocmVmPS8vd3d3Lmdvb2dsZS5jb20vPjxzcGFuIGlkPWxvZ28gYXJpYS1sYWJlbD1Hb29nbGU+PC9zcGFuPjwvYT4KICA8cD48Yj40MDQuPC9iPiA8aW5zPlRoYXTigJlzIGFuIGVycm9yLjwvaW5zPgogIDxwPiAgPGlucz5UaGF04oCZcyBhbGwgd2Uga25vdy48L2lucz4K",
              "ok": false,
              "headers": [
                [
                  "content-length",
                  "1449"
                ],
                [
                  "content-type",
                  "text/html; charset=utf-8"
                ]
              ],
              "status": 404,
              "status_text": ""
            },
            "http://localhost:8080/dataset_students/classification/train_unlabelled/585.png": {
              "data": "CjwhRE9DVFlQRSBodG1sPgo8aHRtbCBsYW5nPWVuPgogIDxtZXRhIGNoYXJzZXQ9dXRmLTg+CiAgPG1ldGEgbmFtZT12aWV3cG9ydCBjb250ZW50PSJpbml0aWFsLXNjYWxlPTEsIG1pbmltdW0tc2NhbGU9MSwgd2lkdGg9ZGV2aWNlLXdpZHRoIj4KICA8dGl0bGU+RXJyb3IgNDA0IChOb3QgRm91bmQpISExPC90aXRsZT4KICA8c3R5bGU+CiAgICAqe21hcmdpbjowO3BhZGRpbmc6MH1odG1sLGNvZGV7Zm9udDoxNXB4LzIycHggYXJpYWwsc2Fucy1zZXJpZn1odG1se2JhY2tncm91bmQ6I2ZmZjtjb2xvcjojMjIyO3BhZGRpbmc6MTVweH1ib2R5e21hcmdpbjo3JSBhdXRvIDA7bWF4LXdpZHRoOjM5MHB4O21pbi1oZWlnaHQ6MTgwcHg7cGFkZGluZzozMHB4IDAgMTVweH0qID4gYm9keXtiYWNrZ3JvdW5kOnVybCgvL3d3dy5nb29nbGUuY29tL2ltYWdlcy9lcnJvcnMvcm9ib3QucG5nKSAxMDAlIDVweCBuby1yZXBlYXQ7cGFkZGluZy1yaWdodDoyMDVweH1we21hcmdpbjoxMXB4IDAgMjJweDtvdmVyZmxvdzpoaWRkZW59aW5ze2NvbG9yOiM3Nzc7dGV4dC1kZWNvcmF0aW9uOm5vbmV9YSBpbWd7Ym9yZGVyOjB9QG1lZGlhIHNjcmVlbiBhbmQgKG1heC13aWR0aDo3NzJweCl7Ym9keXtiYWNrZ3JvdW5kOm5vbmU7bWFyZ2luLXRvcDowO21heC13aWR0aDpub25lO3BhZGRpbmctcmlnaHQ6MH19I2xvZ297YmFja2dyb3VuZDp1cmwoLy93d3cuZ29vZ2xlLmNvbS9pbWFnZXMvbG9nb3MvZXJyb3JwYWdlL2Vycm9yX2xvZ28tMTUweDU0LnBuZykgbm8tcmVwZWF0O21hcmdpbi1sZWZ0Oi01cHh9QG1lZGlhIG9ubHkgc2NyZWVuIGFuZCAobWluLXJlc29sdXRpb246MTkyZHBpKXsjbG9nb3tiYWNrZ3JvdW5kOnVybCgvL3d3dy5nb29nbGUuY29tL2ltYWdlcy9sb2dvcy9lcnJvcnBhZ2UvZXJyb3JfbG9nby0xNTB4NTQtMngucG5nKSBuby1yZXBlYXQgMCUgMCUvMTAwJSAxMDAlOy1tb3otYm9yZGVyLWltYWdlOnVybCgvL3d3dy5nb29nbGUuY29tL2ltYWdlcy9sb2dvcy9lcnJvcnBhZ2UvZXJyb3JfbG9nby0xNTB4NTQtMngucG5nKSAwfX1AbWVkaWEgb25seSBzY3JlZW4gYW5kICgtd2Via2l0LW1pbi1kZXZpY2UtcGl4ZWwtcmF0aW86Mil7I2xvZ297YmFja2dyb3VuZDp1cmwoLy93d3cuZ29vZ2xlLmNvbS9pbWFnZXMvbG9nb3MvZXJyb3JwYWdlL2Vycm9yX2xvZ28tMTUweDU0LTJ4LnBuZykgbm8tcmVwZWF0Oy13ZWJraXQtYmFja2dyb3VuZC1zaXplOjEwMCUgMTAwJX19I2xvZ297ZGlzcGxheTppbmxpbmUtYmxvY2s7aGVpZ2h0OjU0cHg7d2lkdGg6MTUwcHh9CiAgPC9zdHlsZT4KICA8YSBocmVmPS8vd3d3Lmdvb2dsZS5jb20vPjxzcGFuIGlkPWxvZ28gYXJpYS1sYWJlbD1Hb29nbGU+PC9zcGFuPjwvYT4KICA8cD48Yj40MDQuPC9iPiA8aW5zPlRoYXTigJlzIGFuIGVycm9yLjwvaW5zPgogIDxwPiAgPGlucz5UaGF04oCZcyBhbGwgd2Uga25vdy48L2lucz4K",
              "ok": false,
              "headers": [
                [
                  "content-length",
                  "1449"
                ],
                [
                  "content-type",
                  "text/html; charset=utf-8"
                ]
              ],
              "status": 404,
              "status_text": ""
            },
            "http://localhost:8080/dataset_students/classification/train_unlabelled/407.png": {
              "data": "CjwhRE9DVFlQRSBodG1sPgo8aHRtbCBsYW5nPWVuPgogIDxtZXRhIGNoYXJzZXQ9dXRmLTg+CiAgPG1ldGEgbmFtZT12aWV3cG9ydCBjb250ZW50PSJpbml0aWFsLXNjYWxlPTEsIG1pbmltdW0tc2NhbGU9MSwgd2lkdGg9ZGV2aWNlLXdpZHRoIj4KICA8dGl0bGU+RXJyb3IgNDA0IChOb3QgRm91bmQpISExPC90aXRsZT4KICA8c3R5bGU+CiAgICAqe21hcmdpbjowO3BhZGRpbmc6MH1odG1sLGNvZGV7Zm9udDoxNXB4LzIycHggYXJpYWwsc2Fucy1zZXJpZn1odG1se2JhY2tncm91bmQ6I2ZmZjtjb2xvcjojMjIyO3BhZGRpbmc6MTVweH1ib2R5e21hcmdpbjo3JSBhdXRvIDA7bWF4LXdpZHRoOjM5MHB4O21pbi1oZWlnaHQ6MTgwcHg7cGFkZGluZzozMHB4IDAgMTVweH0qID4gYm9keXtiYWNrZ3JvdW5kOnVybCgvL3d3dy5nb29nbGUuY29tL2ltYWdlcy9lcnJvcnMvcm9ib3QucG5nKSAxMDAlIDVweCBuby1yZXBlYXQ7cGFkZGluZy1yaWdodDoyMDVweH1we21hcmdpbjoxMXB4IDAgMjJweDtvdmVyZmxvdzpoaWRkZW59aW5ze2NvbG9yOiM3Nzc7dGV4dC1kZWNvcmF0aW9uOm5vbmV9YSBpbWd7Ym9yZGVyOjB9QG1lZGlhIHNjcmVlbiBhbmQgKG1heC13aWR0aDo3NzJweCl7Ym9keXtiYWNrZ3JvdW5kOm5vbmU7bWFyZ2luLXRvcDowO21heC13aWR0aDpub25lO3BhZGRpbmctcmlnaHQ6MH19I2xvZ297YmFja2dyb3VuZDp1cmwoLy93d3cuZ29vZ2xlLmNvbS9pbWFnZXMvbG9nb3MvZXJyb3JwYWdlL2Vycm9yX2xvZ28tMTUweDU0LnBuZykgbm8tcmVwZWF0O21hcmdpbi1sZWZ0Oi01cHh9QG1lZGlhIG9ubHkgc2NyZWVuIGFuZCAobWluLXJlc29sdXRpb246MTkyZHBpKXsjbG9nb3tiYWNrZ3JvdW5kOnVybCgvL3d3dy5nb29nbGUuY29tL2ltYWdlcy9sb2dvcy9lcnJvcnBhZ2UvZXJyb3JfbG9nby0xNTB4NTQtMngucG5nKSBuby1yZXBlYXQgMCUgMCUvMTAwJSAxMDAlOy1tb3otYm9yZGVyLWltYWdlOnVybCgvL3d3dy5nb29nbGUuY29tL2ltYWdlcy9sb2dvcy9lcnJvcnBhZ2UvZXJyb3JfbG9nby0xNTB4NTQtMngucG5nKSAwfX1AbWVkaWEgb25seSBzY3JlZW4gYW5kICgtd2Via2l0LW1pbi1kZXZpY2UtcGl4ZWwtcmF0aW86Mil7I2xvZ297YmFja2dyb3VuZDp1cmwoLy93d3cuZ29vZ2xlLmNvbS9pbWFnZXMvbG9nb3MvZXJyb3JwYWdlL2Vycm9yX2xvZ28tMTUweDU0LTJ4LnBuZykgbm8tcmVwZWF0Oy13ZWJraXQtYmFja2dyb3VuZC1zaXplOjEwMCUgMTAwJX19I2xvZ297ZGlzcGxheTppbmxpbmUtYmxvY2s7aGVpZ2h0OjU0cHg7d2lkdGg6MTUwcHh9CiAgPC9zdHlsZT4KICA8YSBocmVmPS8vd3d3Lmdvb2dsZS5jb20vPjxzcGFuIGlkPWxvZ28gYXJpYS1sYWJlbD1Hb29nbGU+PC9zcGFuPjwvYT4KICA8cD48Yj40MDQuPC9iPiA8aW5zPlRoYXTigJlzIGFuIGVycm9yLjwvaW5zPgogIDxwPiAgPGlucz5UaGF04oCZcyBhbGwgd2Uga25vdy48L2lucz4K",
              "ok": false,
              "headers": [
                [
                  "content-length",
                  "1449"
                ],
                [
                  "content-type",
                  "text/html; charset=utf-8"
                ]
              ],
              "status": 404,
              "status_text": ""
            },
            "http://localhost:8080/dataset_students/classification/train_unlabelled/1183.png": {
              "data": "CjwhRE9DVFlQRSBodG1sPgo8aHRtbCBsYW5nPWVuPgogIDxtZXRhIGNoYXJzZXQ9dXRmLTg+CiAgPG1ldGEgbmFtZT12aWV3cG9ydCBjb250ZW50PSJpbml0aWFsLXNjYWxlPTEsIG1pbmltdW0tc2NhbGU9MSwgd2lkdGg9ZGV2aWNlLXdpZHRoIj4KICA8dGl0bGU+RXJyb3IgNDA0IChOb3QgRm91bmQpISExPC90aXRsZT4KICA8c3R5bGU+CiAgICAqe21hcmdpbjowO3BhZGRpbmc6MH1odG1sLGNvZGV7Zm9udDoxNXB4LzIycHggYXJpYWwsc2Fucy1zZXJpZn1odG1se2JhY2tncm91bmQ6I2ZmZjtjb2xvcjojMjIyO3BhZGRpbmc6MTVweH1ib2R5e21hcmdpbjo3JSBhdXRvIDA7bWF4LXdpZHRoOjM5MHB4O21pbi1oZWlnaHQ6MTgwcHg7cGFkZGluZzozMHB4IDAgMTVweH0qID4gYm9keXtiYWNrZ3JvdW5kOnVybCgvL3d3dy5nb29nbGUuY29tL2ltYWdlcy9lcnJvcnMvcm9ib3QucG5nKSAxMDAlIDVweCBuby1yZXBlYXQ7cGFkZGluZy1yaWdodDoyMDVweH1we21hcmdpbjoxMXB4IDAgMjJweDtvdmVyZmxvdzpoaWRkZW59aW5ze2NvbG9yOiM3Nzc7dGV4dC1kZWNvcmF0aW9uOm5vbmV9YSBpbWd7Ym9yZGVyOjB9QG1lZGlhIHNjcmVlbiBhbmQgKG1heC13aWR0aDo3NzJweCl7Ym9keXtiYWNrZ3JvdW5kOm5vbmU7bWFyZ2luLXRvcDowO21heC13aWR0aDpub25lO3BhZGRpbmctcmlnaHQ6MH19I2xvZ297YmFja2dyb3VuZDp1cmwoLy93d3cuZ29vZ2xlLmNvbS9pbWFnZXMvbG9nb3MvZXJyb3JwYWdlL2Vycm9yX2xvZ28tMTUweDU0LnBuZykgbm8tcmVwZWF0O21hcmdpbi1sZWZ0Oi01cHh9QG1lZGlhIG9ubHkgc2NyZWVuIGFuZCAobWluLXJlc29sdXRpb246MTkyZHBpKXsjbG9nb3tiYWNrZ3JvdW5kOnVybCgvL3d3dy5nb29nbGUuY29tL2ltYWdlcy9sb2dvcy9lcnJvcnBhZ2UvZXJyb3JfbG9nby0xNTB4NTQtMngucG5nKSBuby1yZXBlYXQgMCUgMCUvMTAwJSAxMDAlOy1tb3otYm9yZGVyLWltYWdlOnVybCgvL3d3dy5nb29nbGUuY29tL2ltYWdlcy9sb2dvcy9lcnJvcnBhZ2UvZXJyb3JfbG9nby0xNTB4NTQtMngucG5nKSAwfX1AbWVkaWEgb25seSBzY3JlZW4gYW5kICgtd2Via2l0LW1pbi1kZXZpY2UtcGl4ZWwtcmF0aW86Mil7I2xvZ297YmFja2dyb3VuZDp1cmwoLy93d3cuZ29vZ2xlLmNvbS9pbWFnZXMvbG9nb3MvZXJyb3JwYWdlL2Vycm9yX2xvZ28tMTUweDU0LTJ4LnBuZykgbm8tcmVwZWF0Oy13ZWJraXQtYmFja2dyb3VuZC1zaXplOjEwMCUgMTAwJX19I2xvZ297ZGlzcGxheTppbmxpbmUtYmxvY2s7aGVpZ2h0OjU0cHg7d2lkdGg6MTUwcHh9CiAgPC9zdHlsZT4KICA8YSBocmVmPS8vd3d3Lmdvb2dsZS5jb20vPjxzcGFuIGlkPWxvZ28gYXJpYS1sYWJlbD1Hb29nbGU+PC9zcGFuPjwvYT4KICA8cD48Yj40MDQuPC9iPiA8aW5zPlRoYXTigJlzIGFuIGVycm9yLjwvaW5zPgogIDxwPiAgPGlucz5UaGF04oCZcyBhbGwgd2Uga25vdy48L2lucz4K",
              "ok": false,
              "headers": [
                [
                  "content-length",
                  "1449"
                ],
                [
                  "content-type",
                  "text/html; charset=utf-8"
                ]
              ],
              "status": 404,
              "status_text": ""
            }
          },
          "base_uri": "https://localhost:8080/",
          "height": 176
        }
      },
      "outputs": [
        {
          "output_type": "display_data",
          "data": {
            "text/plain": [
              "<IPython.core.display.HTML object>"
            ],
            "text/html": [
              "\n",
              "    <style>\n",
              "        #ipyplot-html-viewer-toggle-VkHy7cPsbyecCsqJWq3aAQ {\n",
              "            position: absolute;\n",
              "            top: -9999px;\n",
              "            left: -9999px;\n",
              "            visibility: hidden;\n",
              "        }\n",
              "\n",
              "        #ipyplot-html-viewer-label-VkHy7cPsbyecCsqJWq3aAQ { \n",
              "            position: relative;\n",
              "            display: inline-block;\n",
              "            cursor: pointer;\n",
              "            color: blue;\n",
              "            text-decoration: underline;\n",
              "        }\n",
              "\n",
              "        #ipyplot-html-viewer-textarea-VkHy7cPsbyecCsqJWq3aAQ {\n",
              "            background: lightgrey;\n",
              "            width: 100%;\n",
              "            height: 0px;\n",
              "            display: none;\n",
              "        }\n",
              "\n",
              "        #ipyplot-html-viewer-toggle-VkHy7cPsbyecCsqJWq3aAQ:checked ~ #ipyplot-html-viewer-textarea-VkHy7cPsbyecCsqJWq3aAQ {\n",
              "            height: 200px;\n",
              "            display: block;\n",
              "        }\n",
              "\n",
              "        #ipyplot-html-viewer-toggle-VkHy7cPsbyecCsqJWq3aAQ:checked + #ipyplot-html-viewer-label-VkHy7cPsbyecCsqJWq3aAQ:after {\n",
              "            content: \"hide html\";\n",
              "            position: absolute;\n",
              "            top: 0;\n",
              "            left: 0;\n",
              "            right: 0;\n",
              "            bottom: 0;\n",
              "            background: white;\n",
              "            cursor: pointer;\n",
              "            color: blue;\n",
              "            text-decoration: underline;\n",
              "        }\n",
              "    </style>\n",
              "    <div>\n",
              "        <input type=\"checkbox\" id=\"ipyplot-html-viewer-toggle-VkHy7cPsbyecCsqJWq3aAQ\">\n",
              "        <label id=\"ipyplot-html-viewer-label-VkHy7cPsbyecCsqJWq3aAQ\" for=\"ipyplot-html-viewer-toggle-VkHy7cPsbyecCsqJWq3aAQ\">show html</label>\n",
              "        <textarea id=\"ipyplot-html-viewer-textarea-VkHy7cPsbyecCsqJWq3aAQ\" readonly>\n",
              "            <div>\n",
              "        <style>\n",
              "            input.ipyplot-tab-WiMLEDWQmBoBmA5NcYeZdU {\n",
              "                display: none;\n",
              "            }\n",
              "            input.ipyplot-tab-WiMLEDWQmBoBmA5NcYeZdU + label.ipyplot-tab-label-WiMLEDWQmBoBmA5NcYeZdU {\n",
              "                border: 1px solid #999;\n",
              "                background: #EEE;\n",
              "                padding: 4px 12px;\n",
              "                border-radius: 4px 4px 0 0;\n",
              "                position: relative;\n",
              "                top: 1px;\n",
              "            }\n",
              "            input.ipyplot-tab-WiMLEDWQmBoBmA5NcYeZdU:checked + label.ipyplot-tab-label-WiMLEDWQmBoBmA5NcYeZdU {\n",
              "                background: #FFF;\n",
              "                border-bottom: 1px solid transparent;\n",
              "            }\n",
              "            input.ipyplot-tab-WiMLEDWQmBoBmA5NcYeZdU ~ .tab {\n",
              "                border-top: 1px solid #999;\n",
              "                padding: 12px;\n",
              "            }\n",
              "\n",
              "            input.ipyplot-tab-WiMLEDWQmBoBmA5NcYeZdU ~ .tab {\n",
              "                display: none\n",
              "            }\n",
              "    #tabYHkvbv2SDgSdups3eNkpti:checked ~ .tab.contentYHkvbv2SDgSdups3eNkpti,#tabhUpbJAEGcJU6ydYb5nvMDY:checked ~ .tab.contenthUpbJAEGcJU6ydYb5nvMDY,#tabTrnCNEoSMbXb6Bucso7qJV:checked ~ .tab.contentTrnCNEoSMbXb6Bucso7qJV{ display: block; }</style><input class=\"ipyplot-tab-WiMLEDWQmBoBmA5NcYeZdU\" type=\"radio\" name=\"tabs-WiMLEDWQmBoBmA5NcYeZdU\" id=\"tabYHkvbv2SDgSdups3eNkpti\" checked /><label class=\"ipyplot-tab-label-WiMLEDWQmBoBmA5NcYeZdU\" for=\"tabYHkvbv2SDgSdups3eNkpti\">0</label><input class=\"ipyplot-tab-WiMLEDWQmBoBmA5NcYeZdU\" type=\"radio\" name=\"tabs-WiMLEDWQmBoBmA5NcYeZdU\" id=\"tabhUpbJAEGcJU6ydYb5nvMDY\"/><label class=\"ipyplot-tab-label-WiMLEDWQmBoBmA5NcYeZdU\" for=\"tabhUpbJAEGcJU6ydYb5nvMDY\">1</label><input class=\"ipyplot-tab-WiMLEDWQmBoBmA5NcYeZdU\" type=\"radio\" name=\"tabs-WiMLEDWQmBoBmA5NcYeZdU\" id=\"tabTrnCNEoSMbXb6Bucso7qJV\"/><label class=\"ipyplot-tab-label-WiMLEDWQmBoBmA5NcYeZdU\" for=\"tabTrnCNEoSMbXb6Bucso7qJV\">2</label><div class=\"tab contentYHkvbv2SDgSdups3eNkpti\">\n",
              "        <style>\n",
              "        #ipyplot-imgs-container-div-FgukndzFFDcAso7uEd8umv {\n",
              "            width: 100%;\n",
              "            height: 100%;\n",
              "            margin: 0%;\n",
              "            overflow: auto;\n",
              "            position: relative;\n",
              "            overflow-y: scroll;\n",
              "        }\n",
              "\n",
              "        div.ipyplot-placeholder-div-FgukndzFFDcAso7uEd8umv {\n",
              "            width: 150px;\n",
              "            display: inline-block;\n",
              "            margin: 3px;\n",
              "            position: relative;\n",
              "        }\n",
              "\n",
              "        div.ipyplot-content-div-FgukndzFFDcAso7uEd8umv {\n",
              "            width: 150px;\n",
              "            background: white;\n",
              "            display: inline-block;\n",
              "            vertical-align: top;\n",
              "            text-align: center;\n",
              "            position: relative;\n",
              "            border: 2px solid #ddd;\n",
              "            top: 0;\n",
              "            left: 0;\n",
              "        }\n",
              "\n",
              "        div.ipyplot-content-div-FgukndzFFDcAso7uEd8umv span.ipyplot-img-close {\n",
              "            display: none;\n",
              "        }\n",
              "\n",
              "        div.ipyplot-content-div-FgukndzFFDcAso7uEd8umv span {\n",
              "            width: 100%;\n",
              "            height: 100%;\n",
              "            position: absolute;\n",
              "            top: 0;\n",
              "            left: 0;\n",
              "        }\n",
              "\n",
              "        div.ipyplot-content-div-FgukndzFFDcAso7uEd8umv img {\n",
              "            width: 150px;\n",
              "        }\n",
              "\n",
              "        div.ipyplot-content-div-FgukndzFFDcAso7uEd8umv span.ipyplot-img-close:hover {\n",
              "            cursor: zoom-out;\n",
              "        }\n",
              "        div.ipyplot-content-div-FgukndzFFDcAso7uEd8umv span.ipyplot-img-expand:hover {\n",
              "            cursor: zoom-in;\n",
              "        }\n",
              "\n",
              "        div[id^=ipyplot-content-div-FgukndzFFDcAso7uEd8umv]:target {\n",
              "            transform: scale(2.5);\n",
              "            transform-origin: left top;\n",
              "            z-index: 5000;\n",
              "            top: 0;\n",
              "            left: 0;\n",
              "            position: absolute;\n",
              "        }\n",
              "\n",
              "        div[id^=ipyplot-content-div-FgukndzFFDcAso7uEd8umv]:target span.ipyplot-img-close {\n",
              "            display: block;\n",
              "        }\n",
              "\n",
              "        div[id^=ipyplot-content-div-FgukndzFFDcAso7uEd8umv]:target span.ipyplot-img-expand {\n",
              "            display: none;\n",
              "        }\n",
              "        </style>\n",
              "    <div id=\"ipyplot-imgs-container-div-FgukndzFFDcAso7uEd8umv\">\n",
              "    <div class=\"ipyplot-placeholder-div-FgukndzFFDcAso7uEd8umv\">\n",
              "        <div id=\"ipyplot-content-div-FgukndzFFDcAso7uEd8umv-N58RUfEbZtmgHJQDkkF8hZ\" class=\"ipyplot-content-div-FgukndzFFDcAso7uEd8umv\">\n",
              "            <h4 style=\"font-size: 12px; word-wrap: break-word;\">0</h4>\n",
              "            <h4 style=\"font-size: 9px; padding-left: 10px; padding-right: 10px; width: 95%; word-wrap: break-word; white-space: normal;\">dataset_students/classification/train_labelled/0.png</h4><img src=\"dataset_students/classification/train_labelled/0.png\"/>\n",
              "            <a href=\"#!\">\n",
              "                <span class=\"ipyplot-img-close\"/>\n",
              "            </a>\n",
              "            <a href=\"#ipyplot-content-div-FgukndzFFDcAso7uEd8umv-N58RUfEbZtmgHJQDkkF8hZ\">\n",
              "                <span class=\"ipyplot-img-expand\"/>\n",
              "            </a>\n",
              "        </div>\n",
              "    </div>\n",
              "    \n",
              "    <div class=\"ipyplot-placeholder-div-FgukndzFFDcAso7uEd8umv\">\n",
              "        <div id=\"ipyplot-content-div-FgukndzFFDcAso7uEd8umv-CMCRQMosZW97hqGEiCZEPd\" class=\"ipyplot-content-div-FgukndzFFDcAso7uEd8umv\">\n",
              "            <h4 style=\"font-size: 12px; word-wrap: break-word;\">1</h4>\n",
              "            <h4 style=\"font-size: 9px; padding-left: 10px; padding-right: 10px; width: 95%; word-wrap: break-word; white-space: normal;\">dataset_students/classification/train_labelled/5.png</h4><img src=\"dataset_students/classification/train_labelled/5.png\"/>\n",
              "            <a href=\"#!\">\n",
              "                <span class=\"ipyplot-img-close\"/>\n",
              "            </a>\n",
              "            <a href=\"#ipyplot-content-div-FgukndzFFDcAso7uEd8umv-CMCRQMosZW97hqGEiCZEPd\">\n",
              "                <span class=\"ipyplot-img-expand\"/>\n",
              "            </a>\n",
              "        </div>\n",
              "    </div>\n",
              "    \n",
              "    <div class=\"ipyplot-placeholder-div-FgukndzFFDcAso7uEd8umv\">\n",
              "        <div id=\"ipyplot-content-div-FgukndzFFDcAso7uEd8umv-gHbPkXa48s4Avqai2Yu9nP\" class=\"ipyplot-content-div-FgukndzFFDcAso7uEd8umv\">\n",
              "            <h4 style=\"font-size: 12px; word-wrap: break-word;\">2</h4>\n",
              "            <h4 style=\"font-size: 9px; padding-left: 10px; padding-right: 10px; width: 95%; word-wrap: break-word; white-space: normal;\">dataset_students/classification/train_labelled/7.png</h4><img src=\"dataset_students/classification/train_labelled/7.png\"/>\n",
              "            <a href=\"#!\">\n",
              "                <span class=\"ipyplot-img-close\"/>\n",
              "            </a>\n",
              "            <a href=\"#ipyplot-content-div-FgukndzFFDcAso7uEd8umv-gHbPkXa48s4Avqai2Yu9nP\">\n",
              "                <span class=\"ipyplot-img-expand\"/>\n",
              "            </a>\n",
              "        </div>\n",
              "    </div>\n",
              "    \n",
              "    <div class=\"ipyplot-placeholder-div-FgukndzFFDcAso7uEd8umv\">\n",
              "        <div id=\"ipyplot-content-div-FgukndzFFDcAso7uEd8umv-L85TEpkbhkUkmQ8c5LsPyk\" class=\"ipyplot-content-div-FgukndzFFDcAso7uEd8umv\">\n",
              "            <h4 style=\"font-size: 12px; word-wrap: break-word;\">3</h4>\n",
              "            <h4 style=\"font-size: 9px; padding-left: 10px; padding-right: 10px; width: 95%; word-wrap: break-word; white-space: normal;\">dataset_students/classification/train_labelled/8.png</h4><img src=\"dataset_students/classification/train_labelled/8.png\"/>\n",
              "            <a href=\"#!\">\n",
              "                <span class=\"ipyplot-img-close\"/>\n",
              "            </a>\n",
              "            <a href=\"#ipyplot-content-div-FgukndzFFDcAso7uEd8umv-L85TEpkbhkUkmQ8c5LsPyk\">\n",
              "                <span class=\"ipyplot-img-expand\"/>\n",
              "            </a>\n",
              "        </div>\n",
              "    </div>\n",
              "    \n",
              "    <div class=\"ipyplot-placeholder-div-FgukndzFFDcAso7uEd8umv\">\n",
              "        <div id=\"ipyplot-content-div-FgukndzFFDcAso7uEd8umv-95rmq52kXuWPnfNx4cR2vA\" class=\"ipyplot-content-div-FgukndzFFDcAso7uEd8umv\">\n",
              "            <h4 style=\"font-size: 12px; word-wrap: break-word;\">4</h4>\n",
              "            <h4 style=\"font-size: 9px; padding-left: 10px; padding-right: 10px; width: 95%; word-wrap: break-word; white-space: normal;\">dataset_students/classification/train_labelled/11.png</h4><img src=\"dataset_students/classification/train_labelled/11.png\"/>\n",
              "            <a href=\"#!\">\n",
              "                <span class=\"ipyplot-img-close\"/>\n",
              "            </a>\n",
              "            <a href=\"#ipyplot-content-div-FgukndzFFDcAso7uEd8umv-95rmq52kXuWPnfNx4cR2vA\">\n",
              "                <span class=\"ipyplot-img-expand\"/>\n",
              "            </a>\n",
              "        </div>\n",
              "    </div>\n",
              "    \n",
              "    <div class=\"ipyplot-placeholder-div-FgukndzFFDcAso7uEd8umv\">\n",
              "        <div id=\"ipyplot-content-div-FgukndzFFDcAso7uEd8umv-jJcqTxeN7toi8M68WWidUu\" class=\"ipyplot-content-div-FgukndzFFDcAso7uEd8umv\">\n",
              "            <h4 style=\"font-size: 12px; word-wrap: break-word;\">5</h4>\n",
              "            <h4 style=\"font-size: 9px; padding-left: 10px; padding-right: 10px; width: 95%; word-wrap: break-word; white-space: normal;\">dataset_students/classification/train_labelled/13.png</h4><img src=\"dataset_students/classification/train_labelled/13.png\"/>\n",
              "            <a href=\"#!\">\n",
              "                <span class=\"ipyplot-img-close\"/>\n",
              "            </a>\n",
              "            <a href=\"#ipyplot-content-div-FgukndzFFDcAso7uEd8umv-jJcqTxeN7toi8M68WWidUu\">\n",
              "                <span class=\"ipyplot-img-expand\"/>\n",
              "            </a>\n",
              "        </div>\n",
              "    </div>\n",
              "    \n",
              "    <div class=\"ipyplot-placeholder-div-FgukndzFFDcAso7uEd8umv\">\n",
              "        <div id=\"ipyplot-content-div-FgukndzFFDcAso7uEd8umv-2sHWrNWGPrv22Kpyero8bp\" class=\"ipyplot-content-div-FgukndzFFDcAso7uEd8umv\">\n",
              "            <h4 style=\"font-size: 12px; word-wrap: break-word;\">6</h4>\n",
              "            <h4 style=\"font-size: 9px; padding-left: 10px; padding-right: 10px; width: 95%; word-wrap: break-word; white-space: normal;\">dataset_students/classification/train_labelled/14.png</h4><img src=\"dataset_students/classification/train_labelled/14.png\"/>\n",
              "            <a href=\"#!\">\n",
              "                <span class=\"ipyplot-img-close\"/>\n",
              "            </a>\n",
              "            <a href=\"#ipyplot-content-div-FgukndzFFDcAso7uEd8umv-2sHWrNWGPrv22Kpyero8bp\">\n",
              "                <span class=\"ipyplot-img-expand\"/>\n",
              "            </a>\n",
              "        </div>\n",
              "    </div>\n",
              "    \n",
              "    <div class=\"ipyplot-placeholder-div-FgukndzFFDcAso7uEd8umv\">\n",
              "        <div id=\"ipyplot-content-div-FgukndzFFDcAso7uEd8umv-D7uzb2rfNVCka85Aut9QPT\" class=\"ipyplot-content-div-FgukndzFFDcAso7uEd8umv\">\n",
              "            <h4 style=\"font-size: 12px; word-wrap: break-word;\">7</h4>\n",
              "            <h4 style=\"font-size: 9px; padding-left: 10px; padding-right: 10px; width: 95%; word-wrap: break-word; white-space: normal;\">dataset_students/classification/train_labelled/16.png</h4><img src=\"dataset_students/classification/train_labelled/16.png\"/>\n",
              "            <a href=\"#!\">\n",
              "                <span class=\"ipyplot-img-close\"/>\n",
              "            </a>\n",
              "            <a href=\"#ipyplot-content-div-FgukndzFFDcAso7uEd8umv-D7uzb2rfNVCka85Aut9QPT\">\n",
              "                <span class=\"ipyplot-img-expand\"/>\n",
              "            </a>\n",
              "        </div>\n",
              "    </div>\n",
              "    \n",
              "    <div class=\"ipyplot-placeholder-div-FgukndzFFDcAso7uEd8umv\">\n",
              "        <div id=\"ipyplot-content-div-FgukndzFFDcAso7uEd8umv-DqJjERYPdYs9EuTKDjEMNQ\" class=\"ipyplot-content-div-FgukndzFFDcAso7uEd8umv\">\n",
              "            <h4 style=\"font-size: 12px; word-wrap: break-word;\">8</h4>\n",
              "            <h4 style=\"font-size: 9px; padding-left: 10px; padding-right: 10px; width: 95%; word-wrap: break-word; white-space: normal;\">dataset_students/classification/train_labelled/17.png</h4><img src=\"dataset_students/classification/train_labelled/17.png\"/>\n",
              "            <a href=\"#!\">\n",
              "                <span class=\"ipyplot-img-close\"/>\n",
              "            </a>\n",
              "            <a href=\"#ipyplot-content-div-FgukndzFFDcAso7uEd8umv-DqJjERYPdYs9EuTKDjEMNQ\">\n",
              "                <span class=\"ipyplot-img-expand\"/>\n",
              "            </a>\n",
              "        </div>\n",
              "    </div>\n",
              "    \n",
              "    <div class=\"ipyplot-placeholder-div-FgukndzFFDcAso7uEd8umv\">\n",
              "        <div id=\"ipyplot-content-div-FgukndzFFDcAso7uEd8umv-mDXJ7XG9YVTtNQGcHAzkoj\" class=\"ipyplot-content-div-FgukndzFFDcAso7uEd8umv\">\n",
              "            <h4 style=\"font-size: 12px; word-wrap: break-word;\">9</h4>\n",
              "            <h4 style=\"font-size: 9px; padding-left: 10px; padding-right: 10px; width: 95%; word-wrap: break-word; white-space: normal;\">dataset_students/classification/train_labelled/18.png</h4><img src=\"dataset_students/classification/train_labelled/18.png\"/>\n",
              "            <a href=\"#!\">\n",
              "                <span class=\"ipyplot-img-close\"/>\n",
              "            </a>\n",
              "            <a href=\"#ipyplot-content-div-FgukndzFFDcAso7uEd8umv-mDXJ7XG9YVTtNQGcHAzkoj\">\n",
              "                <span class=\"ipyplot-img-expand\"/>\n",
              "            </a>\n",
              "        </div>\n",
              "    </div>\n",
              "    </div></div><div class=\"tab contenthUpbJAEGcJU6ydYb5nvMDY\">\n",
              "        <style>\n",
              "        #ipyplot-imgs-container-div-gLxqF3HWgorkGMbL4fTFsA {\n",
              "            width: 100%;\n",
              "            height: 100%;\n",
              "            margin: 0%;\n",
              "            overflow: auto;\n",
              "            position: relative;\n",
              "            overflow-y: scroll;\n",
              "        }\n",
              "\n",
              "        div.ipyplot-placeholder-div-gLxqF3HWgorkGMbL4fTFsA {\n",
              "            width: 150px;\n",
              "            display: inline-block;\n",
              "            margin: 3px;\n",
              "            position: relative;\n",
              "        }\n",
              "\n",
              "        div.ipyplot-content-div-gLxqF3HWgorkGMbL4fTFsA {\n",
              "            width: 150px;\n",
              "            background: white;\n",
              "            display: inline-block;\n",
              "            vertical-align: top;\n",
              "            text-align: center;\n",
              "            position: relative;\n",
              "            border: 2px solid #ddd;\n",
              "            top: 0;\n",
              "            left: 0;\n",
              "        }\n",
              "\n",
              "        div.ipyplot-content-div-gLxqF3HWgorkGMbL4fTFsA span.ipyplot-img-close {\n",
              "            display: none;\n",
              "        }\n",
              "\n",
              "        div.ipyplot-content-div-gLxqF3HWgorkGMbL4fTFsA span {\n",
              "            width: 100%;\n",
              "            height: 100%;\n",
              "            position: absolute;\n",
              "            top: 0;\n",
              "            left: 0;\n",
              "        }\n",
              "\n",
              "        div.ipyplot-content-div-gLxqF3HWgorkGMbL4fTFsA img {\n",
              "            width: 150px;\n",
              "        }\n",
              "\n",
              "        div.ipyplot-content-div-gLxqF3HWgorkGMbL4fTFsA span.ipyplot-img-close:hover {\n",
              "            cursor: zoom-out;\n",
              "        }\n",
              "        div.ipyplot-content-div-gLxqF3HWgorkGMbL4fTFsA span.ipyplot-img-expand:hover {\n",
              "            cursor: zoom-in;\n",
              "        }\n",
              "\n",
              "        div[id^=ipyplot-content-div-gLxqF3HWgorkGMbL4fTFsA]:target {\n",
              "            transform: scale(2.5);\n",
              "            transform-origin: left top;\n",
              "            z-index: 5000;\n",
              "            top: 0;\n",
              "            left: 0;\n",
              "            position: absolute;\n",
              "        }\n",
              "\n",
              "        div[id^=ipyplot-content-div-gLxqF3HWgorkGMbL4fTFsA]:target span.ipyplot-img-close {\n",
              "            display: block;\n",
              "        }\n",
              "\n",
              "        div[id^=ipyplot-content-div-gLxqF3HWgorkGMbL4fTFsA]:target span.ipyplot-img-expand {\n",
              "            display: none;\n",
              "        }\n",
              "        </style>\n",
              "    <div id=\"ipyplot-imgs-container-div-gLxqF3HWgorkGMbL4fTFsA\">\n",
              "    <div class=\"ipyplot-placeholder-div-gLxqF3HWgorkGMbL4fTFsA\">\n",
              "        <div id=\"ipyplot-content-div-gLxqF3HWgorkGMbL4fTFsA-cu4sYEC2XEpBvtgvfoHLTf\" class=\"ipyplot-content-div-gLxqF3HWgorkGMbL4fTFsA\">\n",
              "            <h4 style=\"font-size: 12px; word-wrap: break-word;\">0</h4>\n",
              "            <h4 style=\"font-size: 9px; padding-left: 10px; padding-right: 10px; width: 95%; word-wrap: break-word; white-space: normal;\">dataset_students/classification/train_labelled/20.png</h4><img src=\"dataset_students/classification/train_labelled/20.png\"/>\n",
              "            <a href=\"#!\">\n",
              "                <span class=\"ipyplot-img-close\"/>\n",
              "            </a>\n",
              "            <a href=\"#ipyplot-content-div-gLxqF3HWgorkGMbL4fTFsA-cu4sYEC2XEpBvtgvfoHLTf\">\n",
              "                <span class=\"ipyplot-img-expand\"/>\n",
              "            </a>\n",
              "        </div>\n",
              "    </div>\n",
              "    \n",
              "    <div class=\"ipyplot-placeholder-div-gLxqF3HWgorkGMbL4fTFsA\">\n",
              "        <div id=\"ipyplot-content-div-gLxqF3HWgorkGMbL4fTFsA-Z4KCfCzfNDBBSF7kXfBtZW\" class=\"ipyplot-content-div-gLxqF3HWgorkGMbL4fTFsA\">\n",
              "            <h4 style=\"font-size: 12px; word-wrap: break-word;\">1</h4>\n",
              "            <h4 style=\"font-size: 9px; padding-left: 10px; padding-right: 10px; width: 95%; word-wrap: break-word; white-space: normal;\">dataset_students/classification/train_labelled/34.png</h4><img src=\"dataset_students/classification/train_labelled/34.png\"/>\n",
              "            <a href=\"#!\">\n",
              "                <span class=\"ipyplot-img-close\"/>\n",
              "            </a>\n",
              "            <a href=\"#ipyplot-content-div-gLxqF3HWgorkGMbL4fTFsA-Z4KCfCzfNDBBSF7kXfBtZW\">\n",
              "                <span class=\"ipyplot-img-expand\"/>\n",
              "            </a>\n",
              "        </div>\n",
              "    </div>\n",
              "    \n",
              "    <div class=\"ipyplot-placeholder-div-gLxqF3HWgorkGMbL4fTFsA\">\n",
              "        <div id=\"ipyplot-content-div-gLxqF3HWgorkGMbL4fTFsA-62uV9hHASPjR6SFZciuj4u\" class=\"ipyplot-content-div-gLxqF3HWgorkGMbL4fTFsA\">\n",
              "            <h4 style=\"font-size: 12px; word-wrap: break-word;\">2</h4>\n",
              "            <h4 style=\"font-size: 9px; padding-left: 10px; padding-right: 10px; width: 95%; word-wrap: break-word; white-space: normal;\">dataset_students/classification/train_labelled/55.png</h4><img src=\"dataset_students/classification/train_labelled/55.png\"/>\n",
              "            <a href=\"#!\">\n",
              "                <span class=\"ipyplot-img-close\"/>\n",
              "            </a>\n",
              "            <a href=\"#ipyplot-content-div-gLxqF3HWgorkGMbL4fTFsA-62uV9hHASPjR6SFZciuj4u\">\n",
              "                <span class=\"ipyplot-img-expand\"/>\n",
              "            </a>\n",
              "        </div>\n",
              "    </div>\n",
              "    \n",
              "    <div class=\"ipyplot-placeholder-div-gLxqF3HWgorkGMbL4fTFsA\">\n",
              "        <div id=\"ipyplot-content-div-gLxqF3HWgorkGMbL4fTFsA-F8AGz9VTyc37Azdis7LauX\" class=\"ipyplot-content-div-gLxqF3HWgorkGMbL4fTFsA\">\n",
              "            <h4 style=\"font-size: 12px; word-wrap: break-word;\">3</h4>\n",
              "            <h4 style=\"font-size: 9px; padding-left: 10px; padding-right: 10px; width: 95%; word-wrap: break-word; white-space: normal;\">dataset_students/classification/train_labelled/85.png</h4><img src=\"dataset_students/classification/train_labelled/85.png\"/>\n",
              "            <a href=\"#!\">\n",
              "                <span class=\"ipyplot-img-close\"/>\n",
              "            </a>\n",
              "            <a href=\"#ipyplot-content-div-gLxqF3HWgorkGMbL4fTFsA-F8AGz9VTyc37Azdis7LauX\">\n",
              "                <span class=\"ipyplot-img-expand\"/>\n",
              "            </a>\n",
              "        </div>\n",
              "    </div>\n",
              "    \n",
              "    <div class=\"ipyplot-placeholder-div-gLxqF3HWgorkGMbL4fTFsA\">\n",
              "        <div id=\"ipyplot-content-div-gLxqF3HWgorkGMbL4fTFsA-RA6jFYNUPrjQ8dshvhzeRf\" class=\"ipyplot-content-div-gLxqF3HWgorkGMbL4fTFsA\">\n",
              "            <h4 style=\"font-size: 12px; word-wrap: break-word;\">4</h4>\n",
              "            <h4 style=\"font-size: 9px; padding-left: 10px; padding-right: 10px; width: 95%; word-wrap: break-word; white-space: normal;\">dataset_students/classification/train_labelled/94.png</h4><img src=\"dataset_students/classification/train_labelled/94.png\"/>\n",
              "            <a href=\"#!\">\n",
              "                <span class=\"ipyplot-img-close\"/>\n",
              "            </a>\n",
              "            <a href=\"#ipyplot-content-div-gLxqF3HWgorkGMbL4fTFsA-RA6jFYNUPrjQ8dshvhzeRf\">\n",
              "                <span class=\"ipyplot-img-expand\"/>\n",
              "            </a>\n",
              "        </div>\n",
              "    </div>\n",
              "    \n",
              "    <div class=\"ipyplot-placeholder-div-gLxqF3HWgorkGMbL4fTFsA\">\n",
              "        <div id=\"ipyplot-content-div-gLxqF3HWgorkGMbL4fTFsA-8QPfBDCu2xBu2ifcNpizYX\" class=\"ipyplot-content-div-gLxqF3HWgorkGMbL4fTFsA\">\n",
              "            <h4 style=\"font-size: 12px; word-wrap: break-word;\">5</h4>\n",
              "            <h4 style=\"font-size: 9px; padding-left: 10px; padding-right: 10px; width: 95%; word-wrap: break-word; white-space: normal;\">dataset_students/classification/train_labelled/118.png</h4><img src=\"dataset_students/classification/train_labelled/118.png\"/>\n",
              "            <a href=\"#!\">\n",
              "                <span class=\"ipyplot-img-close\"/>\n",
              "            </a>\n",
              "            <a href=\"#ipyplot-content-div-gLxqF3HWgorkGMbL4fTFsA-8QPfBDCu2xBu2ifcNpizYX\">\n",
              "                <span class=\"ipyplot-img-expand\"/>\n",
              "            </a>\n",
              "        </div>\n",
              "    </div>\n",
              "    \n",
              "    <div class=\"ipyplot-placeholder-div-gLxqF3HWgorkGMbL4fTFsA\">\n",
              "        <div id=\"ipyplot-content-div-gLxqF3HWgorkGMbL4fTFsA-J7PnsFRfPcGWUSsBLosntE\" class=\"ipyplot-content-div-gLxqF3HWgorkGMbL4fTFsA\">\n",
              "            <h4 style=\"font-size: 12px; word-wrap: break-word;\">6</h4>\n",
              "            <h4 style=\"font-size: 9px; padding-left: 10px; padding-right: 10px; width: 95%; word-wrap: break-word; white-space: normal;\">dataset_students/classification/train_labelled/126.png</h4><img src=\"dataset_students/classification/train_labelled/126.png\"/>\n",
              "            <a href=\"#!\">\n",
              "                <span class=\"ipyplot-img-close\"/>\n",
              "            </a>\n",
              "            <a href=\"#ipyplot-content-div-gLxqF3HWgorkGMbL4fTFsA-J7PnsFRfPcGWUSsBLosntE\">\n",
              "                <span class=\"ipyplot-img-expand\"/>\n",
              "            </a>\n",
              "        </div>\n",
              "    </div>\n",
              "    \n",
              "    <div class=\"ipyplot-placeholder-div-gLxqF3HWgorkGMbL4fTFsA\">\n",
              "        <div id=\"ipyplot-content-div-gLxqF3HWgorkGMbL4fTFsA-JqdMcykZN3xA9geejND7fC\" class=\"ipyplot-content-div-gLxqF3HWgorkGMbL4fTFsA\">\n",
              "            <h4 style=\"font-size: 12px; word-wrap: break-word;\">7</h4>\n",
              "            <h4 style=\"font-size: 9px; padding-left: 10px; padding-right: 10px; width: 95%; word-wrap: break-word; white-space: normal;\">dataset_students/classification/train_labelled/127.png</h4><img src=\"dataset_students/classification/train_labelled/127.png\"/>\n",
              "            <a href=\"#!\">\n",
              "                <span class=\"ipyplot-img-close\"/>\n",
              "            </a>\n",
              "            <a href=\"#ipyplot-content-div-gLxqF3HWgorkGMbL4fTFsA-JqdMcykZN3xA9geejND7fC\">\n",
              "                <span class=\"ipyplot-img-expand\"/>\n",
              "            </a>\n",
              "        </div>\n",
              "    </div>\n",
              "    \n",
              "    <div class=\"ipyplot-placeholder-div-gLxqF3HWgorkGMbL4fTFsA\">\n",
              "        <div id=\"ipyplot-content-div-gLxqF3HWgorkGMbL4fTFsA-YKREBbi9W8h2WseD7wZde7\" class=\"ipyplot-content-div-gLxqF3HWgorkGMbL4fTFsA\">\n",
              "            <h4 style=\"font-size: 12px; word-wrap: break-word;\">8</h4>\n",
              "            <h4 style=\"font-size: 9px; padding-left: 10px; padding-right: 10px; width: 95%; word-wrap: break-word; white-space: normal;\">dataset_students/classification/train_labelled/128.png</h4><img src=\"dataset_students/classification/train_labelled/128.png\"/>\n",
              "            <a href=\"#!\">\n",
              "                <span class=\"ipyplot-img-close\"/>\n",
              "            </a>\n",
              "            <a href=\"#ipyplot-content-div-gLxqF3HWgorkGMbL4fTFsA-YKREBbi9W8h2WseD7wZde7\">\n",
              "                <span class=\"ipyplot-img-expand\"/>\n",
              "            </a>\n",
              "        </div>\n",
              "    </div>\n",
              "    \n",
              "    <div class=\"ipyplot-placeholder-div-gLxqF3HWgorkGMbL4fTFsA\">\n",
              "        <div id=\"ipyplot-content-div-gLxqF3HWgorkGMbL4fTFsA-mQEiZD5TyVNjnqwSnF9uwz\" class=\"ipyplot-content-div-gLxqF3HWgorkGMbL4fTFsA\">\n",
              "            <h4 style=\"font-size: 12px; word-wrap: break-word;\">9</h4>\n",
              "            <h4 style=\"font-size: 9px; padding-left: 10px; padding-right: 10px; width: 95%; word-wrap: break-word; white-space: normal;\">dataset_students/classification/train_labelled/129.png</h4><img src=\"dataset_students/classification/train_labelled/129.png\"/>\n",
              "            <a href=\"#!\">\n",
              "                <span class=\"ipyplot-img-close\"/>\n",
              "            </a>\n",
              "            <a href=\"#ipyplot-content-div-gLxqF3HWgorkGMbL4fTFsA-mQEiZD5TyVNjnqwSnF9uwz\">\n",
              "                <span class=\"ipyplot-img-expand\"/>\n",
              "            </a>\n",
              "        </div>\n",
              "    </div>\n",
              "    </div></div><div class=\"tab contentTrnCNEoSMbXb6Bucso7qJV\">\n",
              "        <style>\n",
              "        #ipyplot-imgs-container-div-a2hw4mPLofarfZdcdF3ert {\n",
              "            width: 100%;\n",
              "            height: 100%;\n",
              "            margin: 0%;\n",
              "            overflow: auto;\n",
              "            position: relative;\n",
              "            overflow-y: scroll;\n",
              "        }\n",
              "\n",
              "        div.ipyplot-placeholder-div-a2hw4mPLofarfZdcdF3ert {\n",
              "            width: 150px;\n",
              "            display: inline-block;\n",
              "            margin: 3px;\n",
              "            position: relative;\n",
              "        }\n",
              "\n",
              "        div.ipyplot-content-div-a2hw4mPLofarfZdcdF3ert {\n",
              "            width: 150px;\n",
              "            background: white;\n",
              "            display: inline-block;\n",
              "            vertical-align: top;\n",
              "            text-align: center;\n",
              "            position: relative;\n",
              "            border: 2px solid #ddd;\n",
              "            top: 0;\n",
              "            left: 0;\n",
              "        }\n",
              "\n",
              "        div.ipyplot-content-div-a2hw4mPLofarfZdcdF3ert span.ipyplot-img-close {\n",
              "            display: none;\n",
              "        }\n",
              "\n",
              "        div.ipyplot-content-div-a2hw4mPLofarfZdcdF3ert span {\n",
              "            width: 100%;\n",
              "            height: 100%;\n",
              "            position: absolute;\n",
              "            top: 0;\n",
              "            left: 0;\n",
              "        }\n",
              "\n",
              "        div.ipyplot-content-div-a2hw4mPLofarfZdcdF3ert img {\n",
              "            width: 150px;\n",
              "        }\n",
              "\n",
              "        div.ipyplot-content-div-a2hw4mPLofarfZdcdF3ert span.ipyplot-img-close:hover {\n",
              "            cursor: zoom-out;\n",
              "        }\n",
              "        div.ipyplot-content-div-a2hw4mPLofarfZdcdF3ert span.ipyplot-img-expand:hover {\n",
              "            cursor: zoom-in;\n",
              "        }\n",
              "\n",
              "        div[id^=ipyplot-content-div-a2hw4mPLofarfZdcdF3ert]:target {\n",
              "            transform: scale(2.5);\n",
              "            transform-origin: left top;\n",
              "            z-index: 5000;\n",
              "            top: 0;\n",
              "            left: 0;\n",
              "            position: absolute;\n",
              "        }\n",
              "\n",
              "        div[id^=ipyplot-content-div-a2hw4mPLofarfZdcdF3ert]:target span.ipyplot-img-close {\n",
              "            display: block;\n",
              "        }\n",
              "\n",
              "        div[id^=ipyplot-content-div-a2hw4mPLofarfZdcdF3ert]:target span.ipyplot-img-expand {\n",
              "            display: none;\n",
              "        }\n",
              "        </style>\n",
              "    <div id=\"ipyplot-imgs-container-div-a2hw4mPLofarfZdcdF3ert\">\n",
              "    <div class=\"ipyplot-placeholder-div-a2hw4mPLofarfZdcdF3ert\">\n",
              "        <div id=\"ipyplot-content-div-a2hw4mPLofarfZdcdF3ert-cVizzYyUJYEYGVqW93aqRv\" class=\"ipyplot-content-div-a2hw4mPLofarfZdcdF3ert\">\n",
              "            <h4 style=\"font-size: 12px; word-wrap: break-word;\">0</h4>\n",
              "            <h4 style=\"font-size: 9px; padding-left: 10px; padding-right: 10px; width: 95%; word-wrap: break-word; white-space: normal;\">dataset_students/classification/train_unlabelled/694.png</h4><img src=\"dataset_students/classification/train_unlabelled/694.png\"/>\n",
              "            <a href=\"#!\">\n",
              "                <span class=\"ipyplot-img-close\"/>\n",
              "            </a>\n",
              "            <a href=\"#ipyplot-content-div-a2hw4mPLofarfZdcdF3ert-cVizzYyUJYEYGVqW93aqRv\">\n",
              "                <span class=\"ipyplot-img-expand\"/>\n",
              "            </a>\n",
              "        </div>\n",
              "    </div>\n",
              "    \n",
              "    <div class=\"ipyplot-placeholder-div-a2hw4mPLofarfZdcdF3ert\">\n",
              "        <div id=\"ipyplot-content-div-a2hw4mPLofarfZdcdF3ert-o9KaPAJnu7PevraMYn4q2W\" class=\"ipyplot-content-div-a2hw4mPLofarfZdcdF3ert\">\n",
              "            <h4 style=\"font-size: 12px; word-wrap: break-word;\">1</h4>\n",
              "            <h4 style=\"font-size: 9px; padding-left: 10px; padding-right: 10px; width: 95%; word-wrap: break-word; white-space: normal;\">dataset_students/classification/train_unlabelled/1369.png</h4><img src=\"dataset_students/classification/train_unlabelled/1369.png\"/>\n",
              "            <a href=\"#!\">\n",
              "                <span class=\"ipyplot-img-close\"/>\n",
              "            </a>\n",
              "            <a href=\"#ipyplot-content-div-a2hw4mPLofarfZdcdF3ert-o9KaPAJnu7PevraMYn4q2W\">\n",
              "                <span class=\"ipyplot-img-expand\"/>\n",
              "            </a>\n",
              "        </div>\n",
              "    </div>\n",
              "    \n",
              "    <div class=\"ipyplot-placeholder-div-a2hw4mPLofarfZdcdF3ert\">\n",
              "        <div id=\"ipyplot-content-div-a2hw4mPLofarfZdcdF3ert-Zrdt6wZdobETC4fDWGYopp\" class=\"ipyplot-content-div-a2hw4mPLofarfZdcdF3ert\">\n",
              "            <h4 style=\"font-size: 12px; word-wrap: break-word;\">2</h4>\n",
              "            <h4 style=\"font-size: 9px; padding-left: 10px; padding-right: 10px; width: 95%; word-wrap: break-word; white-space: normal;\">dataset_students/classification/train_unlabelled/1089.png</h4><img src=\"dataset_students/classification/train_unlabelled/1089.png\"/>\n",
              "            <a href=\"#!\">\n",
              "                <span class=\"ipyplot-img-close\"/>\n",
              "            </a>\n",
              "            <a href=\"#ipyplot-content-div-a2hw4mPLofarfZdcdF3ert-Zrdt6wZdobETC4fDWGYopp\">\n",
              "                <span class=\"ipyplot-img-expand\"/>\n",
              "            </a>\n",
              "        </div>\n",
              "    </div>\n",
              "    \n",
              "    <div class=\"ipyplot-placeholder-div-a2hw4mPLofarfZdcdF3ert\">\n",
              "        <div id=\"ipyplot-content-div-a2hw4mPLofarfZdcdF3ert-MmdAWJvemNQyQU4DUeqAMa\" class=\"ipyplot-content-div-a2hw4mPLofarfZdcdF3ert\">\n",
              "            <h4 style=\"font-size: 12px; word-wrap: break-word;\">3</h4>\n",
              "            <h4 style=\"font-size: 9px; padding-left: 10px; padding-right: 10px; width: 95%; word-wrap: break-word; white-space: normal;\">dataset_students/classification/train_unlabelled/585.png</h4><img src=\"dataset_students/classification/train_unlabelled/585.png\"/>\n",
              "            <a href=\"#!\">\n",
              "                <span class=\"ipyplot-img-close\"/>\n",
              "            </a>\n",
              "            <a href=\"#ipyplot-content-div-a2hw4mPLofarfZdcdF3ert-MmdAWJvemNQyQU4DUeqAMa\">\n",
              "                <span class=\"ipyplot-img-expand\"/>\n",
              "            </a>\n",
              "        </div>\n",
              "    </div>\n",
              "    \n",
              "    <div class=\"ipyplot-placeholder-div-a2hw4mPLofarfZdcdF3ert\">\n",
              "        <div id=\"ipyplot-content-div-a2hw4mPLofarfZdcdF3ert-7T76Aiia4E7aLNsCe9peVu\" class=\"ipyplot-content-div-a2hw4mPLofarfZdcdF3ert\">\n",
              "            <h4 style=\"font-size: 12px; word-wrap: break-word;\">4</h4>\n",
              "            <h4 style=\"font-size: 9px; padding-left: 10px; padding-right: 10px; width: 95%; word-wrap: break-word; white-space: normal;\">dataset_students/classification/train_unlabelled/1658.png</h4><img src=\"dataset_students/classification/train_unlabelled/1658.png\"/>\n",
              "            <a href=\"#!\">\n",
              "                <span class=\"ipyplot-img-close\"/>\n",
              "            </a>\n",
              "            <a href=\"#ipyplot-content-div-a2hw4mPLofarfZdcdF3ert-7T76Aiia4E7aLNsCe9peVu\">\n",
              "                <span class=\"ipyplot-img-expand\"/>\n",
              "            </a>\n",
              "        </div>\n",
              "    </div>\n",
              "    \n",
              "    <div class=\"ipyplot-placeholder-div-a2hw4mPLofarfZdcdF3ert\">\n",
              "        <div id=\"ipyplot-content-div-a2hw4mPLofarfZdcdF3ert-SDPsXAnJPsBku4tWqMNeHT\" class=\"ipyplot-content-div-a2hw4mPLofarfZdcdF3ert\">\n",
              "            <h4 style=\"font-size: 12px; word-wrap: break-word;\">5</h4>\n",
              "            <h4 style=\"font-size: 9px; padding-left: 10px; padding-right: 10px; width: 95%; word-wrap: break-word; white-space: normal;\">dataset_students/classification/train_unlabelled/407.png</h4><img src=\"dataset_students/classification/train_unlabelled/407.png\"/>\n",
              "            <a href=\"#!\">\n",
              "                <span class=\"ipyplot-img-close\"/>\n",
              "            </a>\n",
              "            <a href=\"#ipyplot-content-div-a2hw4mPLofarfZdcdF3ert-SDPsXAnJPsBku4tWqMNeHT\">\n",
              "                <span class=\"ipyplot-img-expand\"/>\n",
              "            </a>\n",
              "        </div>\n",
              "    </div>\n",
              "    \n",
              "    <div class=\"ipyplot-placeholder-div-a2hw4mPLofarfZdcdF3ert\">\n",
              "        <div id=\"ipyplot-content-div-a2hw4mPLofarfZdcdF3ert-QdAysL249x4hiN7cbdpL53\" class=\"ipyplot-content-div-a2hw4mPLofarfZdcdF3ert\">\n",
              "            <h4 style=\"font-size: 12px; word-wrap: break-word;\">6</h4>\n",
              "            <h4 style=\"font-size: 9px; padding-left: 10px; padding-right: 10px; width: 95%; word-wrap: break-word; white-space: normal;\">dataset_students/classification/train_unlabelled/1183.png</h4><img src=\"dataset_students/classification/train_unlabelled/1183.png\"/>\n",
              "            <a href=\"#!\">\n",
              "                <span class=\"ipyplot-img-close\"/>\n",
              "            </a>\n",
              "            <a href=\"#ipyplot-content-div-a2hw4mPLofarfZdcdF3ert-QdAysL249x4hiN7cbdpL53\">\n",
              "                <span class=\"ipyplot-img-expand\"/>\n",
              "            </a>\n",
              "        </div>\n",
              "    </div>\n",
              "    \n",
              "    <div class=\"ipyplot-placeholder-div-a2hw4mPLofarfZdcdF3ert\">\n",
              "        <div id=\"ipyplot-content-div-a2hw4mPLofarfZdcdF3ert-7akhFoQrQVGDxJJGSYFfLZ\" class=\"ipyplot-content-div-a2hw4mPLofarfZdcdF3ert\">\n",
              "            <h4 style=\"font-size: 12px; word-wrap: break-word;\">7</h4>\n",
              "            <h4 style=\"font-size: 9px; padding-left: 10px; padding-right: 10px; width: 95%; word-wrap: break-word; white-space: normal;\">dataset_students/classification/train_unlabelled/665.png</h4><img src=\"dataset_students/classification/train_unlabelled/665.png\"/>\n",
              "            <a href=\"#!\">\n",
              "                <span class=\"ipyplot-img-close\"/>\n",
              "            </a>\n",
              "            <a href=\"#ipyplot-content-div-a2hw4mPLofarfZdcdF3ert-7akhFoQrQVGDxJJGSYFfLZ\">\n",
              "                <span class=\"ipyplot-img-expand\"/>\n",
              "            </a>\n",
              "        </div>\n",
              "    </div>\n",
              "    \n",
              "    <div class=\"ipyplot-placeholder-div-a2hw4mPLofarfZdcdF3ert\">\n",
              "        <div id=\"ipyplot-content-div-a2hw4mPLofarfZdcdF3ert-gu97XPe7RfsNPTgkZ49pWd\" class=\"ipyplot-content-div-a2hw4mPLofarfZdcdF3ert\">\n",
              "            <h4 style=\"font-size: 12px; word-wrap: break-word;\">8</h4>\n",
              "            <h4 style=\"font-size: 9px; padding-left: 10px; padding-right: 10px; width: 95%; word-wrap: break-word; white-space: normal;\">dataset_students/classification/train_unlabelled/1539.png</h4><img src=\"dataset_students/classification/train_unlabelled/1539.png\"/>\n",
              "            <a href=\"#!\">\n",
              "                <span class=\"ipyplot-img-close\"/>\n",
              "            </a>\n",
              "            <a href=\"#ipyplot-content-div-a2hw4mPLofarfZdcdF3ert-gu97XPe7RfsNPTgkZ49pWd\">\n",
              "                <span class=\"ipyplot-img-expand\"/>\n",
              "            </a>\n",
              "        </div>\n",
              "    </div>\n",
              "    \n",
              "    <div class=\"ipyplot-placeholder-div-a2hw4mPLofarfZdcdF3ert\">\n",
              "        <div id=\"ipyplot-content-div-a2hw4mPLofarfZdcdF3ert-M4ijwkpT663iFdr5VsXSCv\" class=\"ipyplot-content-div-a2hw4mPLofarfZdcdF3ert\">\n",
              "            <h4 style=\"font-size: 12px; word-wrap: break-word;\">9</h4>\n",
              "            <h4 style=\"font-size: 9px; padding-left: 10px; padding-right: 10px; width: 95%; word-wrap: break-word; white-space: normal;\">dataset_students/classification/train_unlabelled/1196.png</h4><img src=\"dataset_students/classification/train_unlabelled/1196.png\"/>\n",
              "            <a href=\"#!\">\n",
              "                <span class=\"ipyplot-img-close\"/>\n",
              "            </a>\n",
              "            <a href=\"#ipyplot-content-div-a2hw4mPLofarfZdcdF3ert-M4ijwkpT663iFdr5VsXSCv\">\n",
              "                <span class=\"ipyplot-img-expand\"/>\n",
              "            </a>\n",
              "        </div>\n",
              "    </div>\n",
              "    </div></div></div>\n",
              "        </textarea>\n",
              "    </div>\n",
              "    "
            ]
          },
          "metadata": {}
        },
        {
          "output_type": "display_data",
          "data": {
            "text/plain": [
              "<IPython.core.display.HTML object>"
            ],
            "text/html": [
              "<div>\n",
              "        <style>\n",
              "            input.ipyplot-tab-WiMLEDWQmBoBmA5NcYeZdU {\n",
              "                display: none;\n",
              "            }\n",
              "            input.ipyplot-tab-WiMLEDWQmBoBmA5NcYeZdU + label.ipyplot-tab-label-WiMLEDWQmBoBmA5NcYeZdU {\n",
              "                border: 1px solid #999;\n",
              "                background: #EEE;\n",
              "                padding: 4px 12px;\n",
              "                border-radius: 4px 4px 0 0;\n",
              "                position: relative;\n",
              "                top: 1px;\n",
              "            }\n",
              "            input.ipyplot-tab-WiMLEDWQmBoBmA5NcYeZdU:checked + label.ipyplot-tab-label-WiMLEDWQmBoBmA5NcYeZdU {\n",
              "                background: #FFF;\n",
              "                border-bottom: 1px solid transparent;\n",
              "            }\n",
              "            input.ipyplot-tab-WiMLEDWQmBoBmA5NcYeZdU ~ .tab {\n",
              "                border-top: 1px solid #999;\n",
              "                padding: 12px;\n",
              "            }\n",
              "\n",
              "            input.ipyplot-tab-WiMLEDWQmBoBmA5NcYeZdU ~ .tab {\n",
              "                display: none\n",
              "            }\n",
              "    #tabYHkvbv2SDgSdups3eNkpti:checked ~ .tab.contentYHkvbv2SDgSdups3eNkpti,#tabhUpbJAEGcJU6ydYb5nvMDY:checked ~ .tab.contenthUpbJAEGcJU6ydYb5nvMDY,#tabTrnCNEoSMbXb6Bucso7qJV:checked ~ .tab.contentTrnCNEoSMbXb6Bucso7qJV{ display: block; }</style><input class=\"ipyplot-tab-WiMLEDWQmBoBmA5NcYeZdU\" type=\"radio\" name=\"tabs-WiMLEDWQmBoBmA5NcYeZdU\" id=\"tabYHkvbv2SDgSdups3eNkpti\" checked /><label class=\"ipyplot-tab-label-WiMLEDWQmBoBmA5NcYeZdU\" for=\"tabYHkvbv2SDgSdups3eNkpti\">0</label><input class=\"ipyplot-tab-WiMLEDWQmBoBmA5NcYeZdU\" type=\"radio\" name=\"tabs-WiMLEDWQmBoBmA5NcYeZdU\" id=\"tabhUpbJAEGcJU6ydYb5nvMDY\"/><label class=\"ipyplot-tab-label-WiMLEDWQmBoBmA5NcYeZdU\" for=\"tabhUpbJAEGcJU6ydYb5nvMDY\">1</label><input class=\"ipyplot-tab-WiMLEDWQmBoBmA5NcYeZdU\" type=\"radio\" name=\"tabs-WiMLEDWQmBoBmA5NcYeZdU\" id=\"tabTrnCNEoSMbXb6Bucso7qJV\"/><label class=\"ipyplot-tab-label-WiMLEDWQmBoBmA5NcYeZdU\" for=\"tabTrnCNEoSMbXb6Bucso7qJV\">2</label><div class=\"tab contentYHkvbv2SDgSdups3eNkpti\">\n",
              "        <style>\n",
              "        #ipyplot-imgs-container-div-FgukndzFFDcAso7uEd8umv {\n",
              "            width: 100%;\n",
              "            height: 100%;\n",
              "            margin: 0%;\n",
              "            overflow: auto;\n",
              "            position: relative;\n",
              "            overflow-y: scroll;\n",
              "        }\n",
              "\n",
              "        div.ipyplot-placeholder-div-FgukndzFFDcAso7uEd8umv {\n",
              "            width: 150px;\n",
              "            display: inline-block;\n",
              "            margin: 3px;\n",
              "            position: relative;\n",
              "        }\n",
              "\n",
              "        div.ipyplot-content-div-FgukndzFFDcAso7uEd8umv {\n",
              "            width: 150px;\n",
              "            background: white;\n",
              "            display: inline-block;\n",
              "            vertical-align: top;\n",
              "            text-align: center;\n",
              "            position: relative;\n",
              "            border: 2px solid #ddd;\n",
              "            top: 0;\n",
              "            left: 0;\n",
              "        }\n",
              "\n",
              "        div.ipyplot-content-div-FgukndzFFDcAso7uEd8umv span.ipyplot-img-close {\n",
              "            display: none;\n",
              "        }\n",
              "\n",
              "        div.ipyplot-content-div-FgukndzFFDcAso7uEd8umv span {\n",
              "            width: 100%;\n",
              "            height: 100%;\n",
              "            position: absolute;\n",
              "            top: 0;\n",
              "            left: 0;\n",
              "        }\n",
              "\n",
              "        div.ipyplot-content-div-FgukndzFFDcAso7uEd8umv img {\n",
              "            width: 150px;\n",
              "        }\n",
              "\n",
              "        div.ipyplot-content-div-FgukndzFFDcAso7uEd8umv span.ipyplot-img-close:hover {\n",
              "            cursor: zoom-out;\n",
              "        }\n",
              "        div.ipyplot-content-div-FgukndzFFDcAso7uEd8umv span.ipyplot-img-expand:hover {\n",
              "            cursor: zoom-in;\n",
              "        }\n",
              "\n",
              "        div[id^=ipyplot-content-div-FgukndzFFDcAso7uEd8umv]:target {\n",
              "            transform: scale(2.5);\n",
              "            transform-origin: left top;\n",
              "            z-index: 5000;\n",
              "            top: 0;\n",
              "            left: 0;\n",
              "            position: absolute;\n",
              "        }\n",
              "\n",
              "        div[id^=ipyplot-content-div-FgukndzFFDcAso7uEd8umv]:target span.ipyplot-img-close {\n",
              "            display: block;\n",
              "        }\n",
              "\n",
              "        div[id^=ipyplot-content-div-FgukndzFFDcAso7uEd8umv]:target span.ipyplot-img-expand {\n",
              "            display: none;\n",
              "        }\n",
              "        </style>\n",
              "    <div id=\"ipyplot-imgs-container-div-FgukndzFFDcAso7uEd8umv\">\n",
              "    <div class=\"ipyplot-placeholder-div-FgukndzFFDcAso7uEd8umv\">\n",
              "        <div id=\"ipyplot-content-div-FgukndzFFDcAso7uEd8umv-N58RUfEbZtmgHJQDkkF8hZ\" class=\"ipyplot-content-div-FgukndzFFDcAso7uEd8umv\">\n",
              "            <h4 style=\"font-size: 12px; word-wrap: break-word;\">0</h4>\n",
              "            <h4 style=\"font-size: 9px; padding-left: 10px; padding-right: 10px; width: 95%; word-wrap: break-word; white-space: normal;\">dataset_students/classification/train_labelled/0.png</h4><img src=\"dataset_students/classification/train_labelled/0.png\"/>\n",
              "            <a href=\"#!\">\n",
              "                <span class=\"ipyplot-img-close\"/>\n",
              "            </a>\n",
              "            <a href=\"#ipyplot-content-div-FgukndzFFDcAso7uEd8umv-N58RUfEbZtmgHJQDkkF8hZ\">\n",
              "                <span class=\"ipyplot-img-expand\"/>\n",
              "            </a>\n",
              "        </div>\n",
              "    </div>\n",
              "    \n",
              "    <div class=\"ipyplot-placeholder-div-FgukndzFFDcAso7uEd8umv\">\n",
              "        <div id=\"ipyplot-content-div-FgukndzFFDcAso7uEd8umv-CMCRQMosZW97hqGEiCZEPd\" class=\"ipyplot-content-div-FgukndzFFDcAso7uEd8umv\">\n",
              "            <h4 style=\"font-size: 12px; word-wrap: break-word;\">1</h4>\n",
              "            <h4 style=\"font-size: 9px; padding-left: 10px; padding-right: 10px; width: 95%; word-wrap: break-word; white-space: normal;\">dataset_students/classification/train_labelled/5.png</h4><img src=\"dataset_students/classification/train_labelled/5.png\"/>\n",
              "            <a href=\"#!\">\n",
              "                <span class=\"ipyplot-img-close\"/>\n",
              "            </a>\n",
              "            <a href=\"#ipyplot-content-div-FgukndzFFDcAso7uEd8umv-CMCRQMosZW97hqGEiCZEPd\">\n",
              "                <span class=\"ipyplot-img-expand\"/>\n",
              "            </a>\n",
              "        </div>\n",
              "    </div>\n",
              "    \n",
              "    <div class=\"ipyplot-placeholder-div-FgukndzFFDcAso7uEd8umv\">\n",
              "        <div id=\"ipyplot-content-div-FgukndzFFDcAso7uEd8umv-gHbPkXa48s4Avqai2Yu9nP\" class=\"ipyplot-content-div-FgukndzFFDcAso7uEd8umv\">\n",
              "            <h4 style=\"font-size: 12px; word-wrap: break-word;\">2</h4>\n",
              "            <h4 style=\"font-size: 9px; padding-left: 10px; padding-right: 10px; width: 95%; word-wrap: break-word; white-space: normal;\">dataset_students/classification/train_labelled/7.png</h4><img src=\"dataset_students/classification/train_labelled/7.png\"/>\n",
              "            <a href=\"#!\">\n",
              "                <span class=\"ipyplot-img-close\"/>\n",
              "            </a>\n",
              "            <a href=\"#ipyplot-content-div-FgukndzFFDcAso7uEd8umv-gHbPkXa48s4Avqai2Yu9nP\">\n",
              "                <span class=\"ipyplot-img-expand\"/>\n",
              "            </a>\n",
              "        </div>\n",
              "    </div>\n",
              "    \n",
              "    <div class=\"ipyplot-placeholder-div-FgukndzFFDcAso7uEd8umv\">\n",
              "        <div id=\"ipyplot-content-div-FgukndzFFDcAso7uEd8umv-L85TEpkbhkUkmQ8c5LsPyk\" class=\"ipyplot-content-div-FgukndzFFDcAso7uEd8umv\">\n",
              "            <h4 style=\"font-size: 12px; word-wrap: break-word;\">3</h4>\n",
              "            <h4 style=\"font-size: 9px; padding-left: 10px; padding-right: 10px; width: 95%; word-wrap: break-word; white-space: normal;\">dataset_students/classification/train_labelled/8.png</h4><img src=\"dataset_students/classification/train_labelled/8.png\"/>\n",
              "            <a href=\"#!\">\n",
              "                <span class=\"ipyplot-img-close\"/>\n",
              "            </a>\n",
              "            <a href=\"#ipyplot-content-div-FgukndzFFDcAso7uEd8umv-L85TEpkbhkUkmQ8c5LsPyk\">\n",
              "                <span class=\"ipyplot-img-expand\"/>\n",
              "            </a>\n",
              "        </div>\n",
              "    </div>\n",
              "    \n",
              "    <div class=\"ipyplot-placeholder-div-FgukndzFFDcAso7uEd8umv\">\n",
              "        <div id=\"ipyplot-content-div-FgukndzFFDcAso7uEd8umv-95rmq52kXuWPnfNx4cR2vA\" class=\"ipyplot-content-div-FgukndzFFDcAso7uEd8umv\">\n",
              "            <h4 style=\"font-size: 12px; word-wrap: break-word;\">4</h4>\n",
              "            <h4 style=\"font-size: 9px; padding-left: 10px; padding-right: 10px; width: 95%; word-wrap: break-word; white-space: normal;\">dataset_students/classification/train_labelled/11.png</h4><img src=\"dataset_students/classification/train_labelled/11.png\"/>\n",
              "            <a href=\"#!\">\n",
              "                <span class=\"ipyplot-img-close\"/>\n",
              "            </a>\n",
              "            <a href=\"#ipyplot-content-div-FgukndzFFDcAso7uEd8umv-95rmq52kXuWPnfNx4cR2vA\">\n",
              "                <span class=\"ipyplot-img-expand\"/>\n",
              "            </a>\n",
              "        </div>\n",
              "    </div>\n",
              "    \n",
              "    <div class=\"ipyplot-placeholder-div-FgukndzFFDcAso7uEd8umv\">\n",
              "        <div id=\"ipyplot-content-div-FgukndzFFDcAso7uEd8umv-jJcqTxeN7toi8M68WWidUu\" class=\"ipyplot-content-div-FgukndzFFDcAso7uEd8umv\">\n",
              "            <h4 style=\"font-size: 12px; word-wrap: break-word;\">5</h4>\n",
              "            <h4 style=\"font-size: 9px; padding-left: 10px; padding-right: 10px; width: 95%; word-wrap: break-word; white-space: normal;\">dataset_students/classification/train_labelled/13.png</h4><img src=\"dataset_students/classification/train_labelled/13.png\"/>\n",
              "            <a href=\"#!\">\n",
              "                <span class=\"ipyplot-img-close\"/>\n",
              "            </a>\n",
              "            <a href=\"#ipyplot-content-div-FgukndzFFDcAso7uEd8umv-jJcqTxeN7toi8M68WWidUu\">\n",
              "                <span class=\"ipyplot-img-expand\"/>\n",
              "            </a>\n",
              "        </div>\n",
              "    </div>\n",
              "    \n",
              "    <div class=\"ipyplot-placeholder-div-FgukndzFFDcAso7uEd8umv\">\n",
              "        <div id=\"ipyplot-content-div-FgukndzFFDcAso7uEd8umv-2sHWrNWGPrv22Kpyero8bp\" class=\"ipyplot-content-div-FgukndzFFDcAso7uEd8umv\">\n",
              "            <h4 style=\"font-size: 12px; word-wrap: break-word;\">6</h4>\n",
              "            <h4 style=\"font-size: 9px; padding-left: 10px; padding-right: 10px; width: 95%; word-wrap: break-word; white-space: normal;\">dataset_students/classification/train_labelled/14.png</h4><img src=\"dataset_students/classification/train_labelled/14.png\"/>\n",
              "            <a href=\"#!\">\n",
              "                <span class=\"ipyplot-img-close\"/>\n",
              "            </a>\n",
              "            <a href=\"#ipyplot-content-div-FgukndzFFDcAso7uEd8umv-2sHWrNWGPrv22Kpyero8bp\">\n",
              "                <span class=\"ipyplot-img-expand\"/>\n",
              "            </a>\n",
              "        </div>\n",
              "    </div>\n",
              "    \n",
              "    <div class=\"ipyplot-placeholder-div-FgukndzFFDcAso7uEd8umv\">\n",
              "        <div id=\"ipyplot-content-div-FgukndzFFDcAso7uEd8umv-D7uzb2rfNVCka85Aut9QPT\" class=\"ipyplot-content-div-FgukndzFFDcAso7uEd8umv\">\n",
              "            <h4 style=\"font-size: 12px; word-wrap: break-word;\">7</h4>\n",
              "            <h4 style=\"font-size: 9px; padding-left: 10px; padding-right: 10px; width: 95%; word-wrap: break-word; white-space: normal;\">dataset_students/classification/train_labelled/16.png</h4><img src=\"dataset_students/classification/train_labelled/16.png\"/>\n",
              "            <a href=\"#!\">\n",
              "                <span class=\"ipyplot-img-close\"/>\n",
              "            </a>\n",
              "            <a href=\"#ipyplot-content-div-FgukndzFFDcAso7uEd8umv-D7uzb2rfNVCka85Aut9QPT\">\n",
              "                <span class=\"ipyplot-img-expand\"/>\n",
              "            </a>\n",
              "        </div>\n",
              "    </div>\n",
              "    \n",
              "    <div class=\"ipyplot-placeholder-div-FgukndzFFDcAso7uEd8umv\">\n",
              "        <div id=\"ipyplot-content-div-FgukndzFFDcAso7uEd8umv-DqJjERYPdYs9EuTKDjEMNQ\" class=\"ipyplot-content-div-FgukndzFFDcAso7uEd8umv\">\n",
              "            <h4 style=\"font-size: 12px; word-wrap: break-word;\">8</h4>\n",
              "            <h4 style=\"font-size: 9px; padding-left: 10px; padding-right: 10px; width: 95%; word-wrap: break-word; white-space: normal;\">dataset_students/classification/train_labelled/17.png</h4><img src=\"dataset_students/classification/train_labelled/17.png\"/>\n",
              "            <a href=\"#!\">\n",
              "                <span class=\"ipyplot-img-close\"/>\n",
              "            </a>\n",
              "            <a href=\"#ipyplot-content-div-FgukndzFFDcAso7uEd8umv-DqJjERYPdYs9EuTKDjEMNQ\">\n",
              "                <span class=\"ipyplot-img-expand\"/>\n",
              "            </a>\n",
              "        </div>\n",
              "    </div>\n",
              "    \n",
              "    <div class=\"ipyplot-placeholder-div-FgukndzFFDcAso7uEd8umv\">\n",
              "        <div id=\"ipyplot-content-div-FgukndzFFDcAso7uEd8umv-mDXJ7XG9YVTtNQGcHAzkoj\" class=\"ipyplot-content-div-FgukndzFFDcAso7uEd8umv\">\n",
              "            <h4 style=\"font-size: 12px; word-wrap: break-word;\">9</h4>\n",
              "            <h4 style=\"font-size: 9px; padding-left: 10px; padding-right: 10px; width: 95%; word-wrap: break-word; white-space: normal;\">dataset_students/classification/train_labelled/18.png</h4><img src=\"dataset_students/classification/train_labelled/18.png\"/>\n",
              "            <a href=\"#!\">\n",
              "                <span class=\"ipyplot-img-close\"/>\n",
              "            </a>\n",
              "            <a href=\"#ipyplot-content-div-FgukndzFFDcAso7uEd8umv-mDXJ7XG9YVTtNQGcHAzkoj\">\n",
              "                <span class=\"ipyplot-img-expand\"/>\n",
              "            </a>\n",
              "        </div>\n",
              "    </div>\n",
              "    </div></div><div class=\"tab contenthUpbJAEGcJU6ydYb5nvMDY\">\n",
              "        <style>\n",
              "        #ipyplot-imgs-container-div-gLxqF3HWgorkGMbL4fTFsA {\n",
              "            width: 100%;\n",
              "            height: 100%;\n",
              "            margin: 0%;\n",
              "            overflow: auto;\n",
              "            position: relative;\n",
              "            overflow-y: scroll;\n",
              "        }\n",
              "\n",
              "        div.ipyplot-placeholder-div-gLxqF3HWgorkGMbL4fTFsA {\n",
              "            width: 150px;\n",
              "            display: inline-block;\n",
              "            margin: 3px;\n",
              "            position: relative;\n",
              "        }\n",
              "\n",
              "        div.ipyplot-content-div-gLxqF3HWgorkGMbL4fTFsA {\n",
              "            width: 150px;\n",
              "            background: white;\n",
              "            display: inline-block;\n",
              "            vertical-align: top;\n",
              "            text-align: center;\n",
              "            position: relative;\n",
              "            border: 2px solid #ddd;\n",
              "            top: 0;\n",
              "            left: 0;\n",
              "        }\n",
              "\n",
              "        div.ipyplot-content-div-gLxqF3HWgorkGMbL4fTFsA span.ipyplot-img-close {\n",
              "            display: none;\n",
              "        }\n",
              "\n",
              "        div.ipyplot-content-div-gLxqF3HWgorkGMbL4fTFsA span {\n",
              "            width: 100%;\n",
              "            height: 100%;\n",
              "            position: absolute;\n",
              "            top: 0;\n",
              "            left: 0;\n",
              "        }\n",
              "\n",
              "        div.ipyplot-content-div-gLxqF3HWgorkGMbL4fTFsA img {\n",
              "            width: 150px;\n",
              "        }\n",
              "\n",
              "        div.ipyplot-content-div-gLxqF3HWgorkGMbL4fTFsA span.ipyplot-img-close:hover {\n",
              "            cursor: zoom-out;\n",
              "        }\n",
              "        div.ipyplot-content-div-gLxqF3HWgorkGMbL4fTFsA span.ipyplot-img-expand:hover {\n",
              "            cursor: zoom-in;\n",
              "        }\n",
              "\n",
              "        div[id^=ipyplot-content-div-gLxqF3HWgorkGMbL4fTFsA]:target {\n",
              "            transform: scale(2.5);\n",
              "            transform-origin: left top;\n",
              "            z-index: 5000;\n",
              "            top: 0;\n",
              "            left: 0;\n",
              "            position: absolute;\n",
              "        }\n",
              "\n",
              "        div[id^=ipyplot-content-div-gLxqF3HWgorkGMbL4fTFsA]:target span.ipyplot-img-close {\n",
              "            display: block;\n",
              "        }\n",
              "\n",
              "        div[id^=ipyplot-content-div-gLxqF3HWgorkGMbL4fTFsA]:target span.ipyplot-img-expand {\n",
              "            display: none;\n",
              "        }\n",
              "        </style>\n",
              "    <div id=\"ipyplot-imgs-container-div-gLxqF3HWgorkGMbL4fTFsA\">\n",
              "    <div class=\"ipyplot-placeholder-div-gLxqF3HWgorkGMbL4fTFsA\">\n",
              "        <div id=\"ipyplot-content-div-gLxqF3HWgorkGMbL4fTFsA-cu4sYEC2XEpBvtgvfoHLTf\" class=\"ipyplot-content-div-gLxqF3HWgorkGMbL4fTFsA\">\n",
              "            <h4 style=\"font-size: 12px; word-wrap: break-word;\">0</h4>\n",
              "            <h4 style=\"font-size: 9px; padding-left: 10px; padding-right: 10px; width: 95%; word-wrap: break-word; white-space: normal;\">dataset_students/classification/train_labelled/20.png</h4><img src=\"dataset_students/classification/train_labelled/20.png\"/>\n",
              "            <a href=\"#!\">\n",
              "                <span class=\"ipyplot-img-close\"/>\n",
              "            </a>\n",
              "            <a href=\"#ipyplot-content-div-gLxqF3HWgorkGMbL4fTFsA-cu4sYEC2XEpBvtgvfoHLTf\">\n",
              "                <span class=\"ipyplot-img-expand\"/>\n",
              "            </a>\n",
              "        </div>\n",
              "    </div>\n",
              "    \n",
              "    <div class=\"ipyplot-placeholder-div-gLxqF3HWgorkGMbL4fTFsA\">\n",
              "        <div id=\"ipyplot-content-div-gLxqF3HWgorkGMbL4fTFsA-Z4KCfCzfNDBBSF7kXfBtZW\" class=\"ipyplot-content-div-gLxqF3HWgorkGMbL4fTFsA\">\n",
              "            <h4 style=\"font-size: 12px; word-wrap: break-word;\">1</h4>\n",
              "            <h4 style=\"font-size: 9px; padding-left: 10px; padding-right: 10px; width: 95%; word-wrap: break-word; white-space: normal;\">dataset_students/classification/train_labelled/34.png</h4><img src=\"dataset_students/classification/train_labelled/34.png\"/>\n",
              "            <a href=\"#!\">\n",
              "                <span class=\"ipyplot-img-close\"/>\n",
              "            </a>\n",
              "            <a href=\"#ipyplot-content-div-gLxqF3HWgorkGMbL4fTFsA-Z4KCfCzfNDBBSF7kXfBtZW\">\n",
              "                <span class=\"ipyplot-img-expand\"/>\n",
              "            </a>\n",
              "        </div>\n",
              "    </div>\n",
              "    \n",
              "    <div class=\"ipyplot-placeholder-div-gLxqF3HWgorkGMbL4fTFsA\">\n",
              "        <div id=\"ipyplot-content-div-gLxqF3HWgorkGMbL4fTFsA-62uV9hHASPjR6SFZciuj4u\" class=\"ipyplot-content-div-gLxqF3HWgorkGMbL4fTFsA\">\n",
              "            <h4 style=\"font-size: 12px; word-wrap: break-word;\">2</h4>\n",
              "            <h4 style=\"font-size: 9px; padding-left: 10px; padding-right: 10px; width: 95%; word-wrap: break-word; white-space: normal;\">dataset_students/classification/train_labelled/55.png</h4><img src=\"dataset_students/classification/train_labelled/55.png\"/>\n",
              "            <a href=\"#!\">\n",
              "                <span class=\"ipyplot-img-close\"/>\n",
              "            </a>\n",
              "            <a href=\"#ipyplot-content-div-gLxqF3HWgorkGMbL4fTFsA-62uV9hHASPjR6SFZciuj4u\">\n",
              "                <span class=\"ipyplot-img-expand\"/>\n",
              "            </a>\n",
              "        </div>\n",
              "    </div>\n",
              "    \n",
              "    <div class=\"ipyplot-placeholder-div-gLxqF3HWgorkGMbL4fTFsA\">\n",
              "        <div id=\"ipyplot-content-div-gLxqF3HWgorkGMbL4fTFsA-F8AGz9VTyc37Azdis7LauX\" class=\"ipyplot-content-div-gLxqF3HWgorkGMbL4fTFsA\">\n",
              "            <h4 style=\"font-size: 12px; word-wrap: break-word;\">3</h4>\n",
              "            <h4 style=\"font-size: 9px; padding-left: 10px; padding-right: 10px; width: 95%; word-wrap: break-word; white-space: normal;\">dataset_students/classification/train_labelled/85.png</h4><img src=\"dataset_students/classification/train_labelled/85.png\"/>\n",
              "            <a href=\"#!\">\n",
              "                <span class=\"ipyplot-img-close\"/>\n",
              "            </a>\n",
              "            <a href=\"#ipyplot-content-div-gLxqF3HWgorkGMbL4fTFsA-F8AGz9VTyc37Azdis7LauX\">\n",
              "                <span class=\"ipyplot-img-expand\"/>\n",
              "            </a>\n",
              "        </div>\n",
              "    </div>\n",
              "    \n",
              "    <div class=\"ipyplot-placeholder-div-gLxqF3HWgorkGMbL4fTFsA\">\n",
              "        <div id=\"ipyplot-content-div-gLxqF3HWgorkGMbL4fTFsA-RA6jFYNUPrjQ8dshvhzeRf\" class=\"ipyplot-content-div-gLxqF3HWgorkGMbL4fTFsA\">\n",
              "            <h4 style=\"font-size: 12px; word-wrap: break-word;\">4</h4>\n",
              "            <h4 style=\"font-size: 9px; padding-left: 10px; padding-right: 10px; width: 95%; word-wrap: break-word; white-space: normal;\">dataset_students/classification/train_labelled/94.png</h4><img src=\"dataset_students/classification/train_labelled/94.png\"/>\n",
              "            <a href=\"#!\">\n",
              "                <span class=\"ipyplot-img-close\"/>\n",
              "            </a>\n",
              "            <a href=\"#ipyplot-content-div-gLxqF3HWgorkGMbL4fTFsA-RA6jFYNUPrjQ8dshvhzeRf\">\n",
              "                <span class=\"ipyplot-img-expand\"/>\n",
              "            </a>\n",
              "        </div>\n",
              "    </div>\n",
              "    \n",
              "    <div class=\"ipyplot-placeholder-div-gLxqF3HWgorkGMbL4fTFsA\">\n",
              "        <div id=\"ipyplot-content-div-gLxqF3HWgorkGMbL4fTFsA-8QPfBDCu2xBu2ifcNpizYX\" class=\"ipyplot-content-div-gLxqF3HWgorkGMbL4fTFsA\">\n",
              "            <h4 style=\"font-size: 12px; word-wrap: break-word;\">5</h4>\n",
              "            <h4 style=\"font-size: 9px; padding-left: 10px; padding-right: 10px; width: 95%; word-wrap: break-word; white-space: normal;\">dataset_students/classification/train_labelled/118.png</h4><img src=\"dataset_students/classification/train_labelled/118.png\"/>\n",
              "            <a href=\"#!\">\n",
              "                <span class=\"ipyplot-img-close\"/>\n",
              "            </a>\n",
              "            <a href=\"#ipyplot-content-div-gLxqF3HWgorkGMbL4fTFsA-8QPfBDCu2xBu2ifcNpizYX\">\n",
              "                <span class=\"ipyplot-img-expand\"/>\n",
              "            </a>\n",
              "        </div>\n",
              "    </div>\n",
              "    \n",
              "    <div class=\"ipyplot-placeholder-div-gLxqF3HWgorkGMbL4fTFsA\">\n",
              "        <div id=\"ipyplot-content-div-gLxqF3HWgorkGMbL4fTFsA-J7PnsFRfPcGWUSsBLosntE\" class=\"ipyplot-content-div-gLxqF3HWgorkGMbL4fTFsA\">\n",
              "            <h4 style=\"font-size: 12px; word-wrap: break-word;\">6</h4>\n",
              "            <h4 style=\"font-size: 9px; padding-left: 10px; padding-right: 10px; width: 95%; word-wrap: break-word; white-space: normal;\">dataset_students/classification/train_labelled/126.png</h4><img src=\"dataset_students/classification/train_labelled/126.png\"/>\n",
              "            <a href=\"#!\">\n",
              "                <span class=\"ipyplot-img-close\"/>\n",
              "            </a>\n",
              "            <a href=\"#ipyplot-content-div-gLxqF3HWgorkGMbL4fTFsA-J7PnsFRfPcGWUSsBLosntE\">\n",
              "                <span class=\"ipyplot-img-expand\"/>\n",
              "            </a>\n",
              "        </div>\n",
              "    </div>\n",
              "    \n",
              "    <div class=\"ipyplot-placeholder-div-gLxqF3HWgorkGMbL4fTFsA\">\n",
              "        <div id=\"ipyplot-content-div-gLxqF3HWgorkGMbL4fTFsA-JqdMcykZN3xA9geejND7fC\" class=\"ipyplot-content-div-gLxqF3HWgorkGMbL4fTFsA\">\n",
              "            <h4 style=\"font-size: 12px; word-wrap: break-word;\">7</h4>\n",
              "            <h4 style=\"font-size: 9px; padding-left: 10px; padding-right: 10px; width: 95%; word-wrap: break-word; white-space: normal;\">dataset_students/classification/train_labelled/127.png</h4><img src=\"dataset_students/classification/train_labelled/127.png\"/>\n",
              "            <a href=\"#!\">\n",
              "                <span class=\"ipyplot-img-close\"/>\n",
              "            </a>\n",
              "            <a href=\"#ipyplot-content-div-gLxqF3HWgorkGMbL4fTFsA-JqdMcykZN3xA9geejND7fC\">\n",
              "                <span class=\"ipyplot-img-expand\"/>\n",
              "            </a>\n",
              "        </div>\n",
              "    </div>\n",
              "    \n",
              "    <div class=\"ipyplot-placeholder-div-gLxqF3HWgorkGMbL4fTFsA\">\n",
              "        <div id=\"ipyplot-content-div-gLxqF3HWgorkGMbL4fTFsA-YKREBbi9W8h2WseD7wZde7\" class=\"ipyplot-content-div-gLxqF3HWgorkGMbL4fTFsA\">\n",
              "            <h4 style=\"font-size: 12px; word-wrap: break-word;\">8</h4>\n",
              "            <h4 style=\"font-size: 9px; padding-left: 10px; padding-right: 10px; width: 95%; word-wrap: break-word; white-space: normal;\">dataset_students/classification/train_labelled/128.png</h4><img src=\"dataset_students/classification/train_labelled/128.png\"/>\n",
              "            <a href=\"#!\">\n",
              "                <span class=\"ipyplot-img-close\"/>\n",
              "            </a>\n",
              "            <a href=\"#ipyplot-content-div-gLxqF3HWgorkGMbL4fTFsA-YKREBbi9W8h2WseD7wZde7\">\n",
              "                <span class=\"ipyplot-img-expand\"/>\n",
              "            </a>\n",
              "        </div>\n",
              "    </div>\n",
              "    \n",
              "    <div class=\"ipyplot-placeholder-div-gLxqF3HWgorkGMbL4fTFsA\">\n",
              "        <div id=\"ipyplot-content-div-gLxqF3HWgorkGMbL4fTFsA-mQEiZD5TyVNjnqwSnF9uwz\" class=\"ipyplot-content-div-gLxqF3HWgorkGMbL4fTFsA\">\n",
              "            <h4 style=\"font-size: 12px; word-wrap: break-word;\">9</h4>\n",
              "            <h4 style=\"font-size: 9px; padding-left: 10px; padding-right: 10px; width: 95%; word-wrap: break-word; white-space: normal;\">dataset_students/classification/train_labelled/129.png</h4><img src=\"dataset_students/classification/train_labelled/129.png\"/>\n",
              "            <a href=\"#!\">\n",
              "                <span class=\"ipyplot-img-close\"/>\n",
              "            </a>\n",
              "            <a href=\"#ipyplot-content-div-gLxqF3HWgorkGMbL4fTFsA-mQEiZD5TyVNjnqwSnF9uwz\">\n",
              "                <span class=\"ipyplot-img-expand\"/>\n",
              "            </a>\n",
              "        </div>\n",
              "    </div>\n",
              "    </div></div><div class=\"tab contentTrnCNEoSMbXb6Bucso7qJV\">\n",
              "        <style>\n",
              "        #ipyplot-imgs-container-div-a2hw4mPLofarfZdcdF3ert {\n",
              "            width: 100%;\n",
              "            height: 100%;\n",
              "            margin: 0%;\n",
              "            overflow: auto;\n",
              "            position: relative;\n",
              "            overflow-y: scroll;\n",
              "        }\n",
              "\n",
              "        div.ipyplot-placeholder-div-a2hw4mPLofarfZdcdF3ert {\n",
              "            width: 150px;\n",
              "            display: inline-block;\n",
              "            margin: 3px;\n",
              "            position: relative;\n",
              "        }\n",
              "\n",
              "        div.ipyplot-content-div-a2hw4mPLofarfZdcdF3ert {\n",
              "            width: 150px;\n",
              "            background: white;\n",
              "            display: inline-block;\n",
              "            vertical-align: top;\n",
              "            text-align: center;\n",
              "            position: relative;\n",
              "            border: 2px solid #ddd;\n",
              "            top: 0;\n",
              "            left: 0;\n",
              "        }\n",
              "\n",
              "        div.ipyplot-content-div-a2hw4mPLofarfZdcdF3ert span.ipyplot-img-close {\n",
              "            display: none;\n",
              "        }\n",
              "\n",
              "        div.ipyplot-content-div-a2hw4mPLofarfZdcdF3ert span {\n",
              "            width: 100%;\n",
              "            height: 100%;\n",
              "            position: absolute;\n",
              "            top: 0;\n",
              "            left: 0;\n",
              "        }\n",
              "\n",
              "        div.ipyplot-content-div-a2hw4mPLofarfZdcdF3ert img {\n",
              "            width: 150px;\n",
              "        }\n",
              "\n",
              "        div.ipyplot-content-div-a2hw4mPLofarfZdcdF3ert span.ipyplot-img-close:hover {\n",
              "            cursor: zoom-out;\n",
              "        }\n",
              "        div.ipyplot-content-div-a2hw4mPLofarfZdcdF3ert span.ipyplot-img-expand:hover {\n",
              "            cursor: zoom-in;\n",
              "        }\n",
              "\n",
              "        div[id^=ipyplot-content-div-a2hw4mPLofarfZdcdF3ert]:target {\n",
              "            transform: scale(2.5);\n",
              "            transform-origin: left top;\n",
              "            z-index: 5000;\n",
              "            top: 0;\n",
              "            left: 0;\n",
              "            position: absolute;\n",
              "        }\n",
              "\n",
              "        div[id^=ipyplot-content-div-a2hw4mPLofarfZdcdF3ert]:target span.ipyplot-img-close {\n",
              "            display: block;\n",
              "        }\n",
              "\n",
              "        div[id^=ipyplot-content-div-a2hw4mPLofarfZdcdF3ert]:target span.ipyplot-img-expand {\n",
              "            display: none;\n",
              "        }\n",
              "        </style>\n",
              "    <div id=\"ipyplot-imgs-container-div-a2hw4mPLofarfZdcdF3ert\">\n",
              "    <div class=\"ipyplot-placeholder-div-a2hw4mPLofarfZdcdF3ert\">\n",
              "        <div id=\"ipyplot-content-div-a2hw4mPLofarfZdcdF3ert-cVizzYyUJYEYGVqW93aqRv\" class=\"ipyplot-content-div-a2hw4mPLofarfZdcdF3ert\">\n",
              "            <h4 style=\"font-size: 12px; word-wrap: break-word;\">0</h4>\n",
              "            <h4 style=\"font-size: 9px; padding-left: 10px; padding-right: 10px; width: 95%; word-wrap: break-word; white-space: normal;\">dataset_students/classification/train_unlabelled/694.png</h4><img src=\"dataset_students/classification/train_unlabelled/694.png\"/>\n",
              "            <a href=\"#!\">\n",
              "                <span class=\"ipyplot-img-close\"/>\n",
              "            </a>\n",
              "            <a href=\"#ipyplot-content-div-a2hw4mPLofarfZdcdF3ert-cVizzYyUJYEYGVqW93aqRv\">\n",
              "                <span class=\"ipyplot-img-expand\"/>\n",
              "            </a>\n",
              "        </div>\n",
              "    </div>\n",
              "    \n",
              "    <div class=\"ipyplot-placeholder-div-a2hw4mPLofarfZdcdF3ert\">\n",
              "        <div id=\"ipyplot-content-div-a2hw4mPLofarfZdcdF3ert-o9KaPAJnu7PevraMYn4q2W\" class=\"ipyplot-content-div-a2hw4mPLofarfZdcdF3ert\">\n",
              "            <h4 style=\"font-size: 12px; word-wrap: break-word;\">1</h4>\n",
              "            <h4 style=\"font-size: 9px; padding-left: 10px; padding-right: 10px; width: 95%; word-wrap: break-word; white-space: normal;\">dataset_students/classification/train_unlabelled/1369.png</h4><img src=\"dataset_students/classification/train_unlabelled/1369.png\"/>\n",
              "            <a href=\"#!\">\n",
              "                <span class=\"ipyplot-img-close\"/>\n",
              "            </a>\n",
              "            <a href=\"#ipyplot-content-div-a2hw4mPLofarfZdcdF3ert-o9KaPAJnu7PevraMYn4q2W\">\n",
              "                <span class=\"ipyplot-img-expand\"/>\n",
              "            </a>\n",
              "        </div>\n",
              "    </div>\n",
              "    \n",
              "    <div class=\"ipyplot-placeholder-div-a2hw4mPLofarfZdcdF3ert\">\n",
              "        <div id=\"ipyplot-content-div-a2hw4mPLofarfZdcdF3ert-Zrdt6wZdobETC4fDWGYopp\" class=\"ipyplot-content-div-a2hw4mPLofarfZdcdF3ert\">\n",
              "            <h4 style=\"font-size: 12px; word-wrap: break-word;\">2</h4>\n",
              "            <h4 style=\"font-size: 9px; padding-left: 10px; padding-right: 10px; width: 95%; word-wrap: break-word; white-space: normal;\">dataset_students/classification/train_unlabelled/1089.png</h4><img src=\"dataset_students/classification/train_unlabelled/1089.png\"/>\n",
              "            <a href=\"#!\">\n",
              "                <span class=\"ipyplot-img-close\"/>\n",
              "            </a>\n",
              "            <a href=\"#ipyplot-content-div-a2hw4mPLofarfZdcdF3ert-Zrdt6wZdobETC4fDWGYopp\">\n",
              "                <span class=\"ipyplot-img-expand\"/>\n",
              "            </a>\n",
              "        </div>\n",
              "    </div>\n",
              "    \n",
              "    <div class=\"ipyplot-placeholder-div-a2hw4mPLofarfZdcdF3ert\">\n",
              "        <div id=\"ipyplot-content-div-a2hw4mPLofarfZdcdF3ert-MmdAWJvemNQyQU4DUeqAMa\" class=\"ipyplot-content-div-a2hw4mPLofarfZdcdF3ert\">\n",
              "            <h4 style=\"font-size: 12px; word-wrap: break-word;\">3</h4>\n",
              "            <h4 style=\"font-size: 9px; padding-left: 10px; padding-right: 10px; width: 95%; word-wrap: break-word; white-space: normal;\">dataset_students/classification/train_unlabelled/585.png</h4><img src=\"dataset_students/classification/train_unlabelled/585.png\"/>\n",
              "            <a href=\"#!\">\n",
              "                <span class=\"ipyplot-img-close\"/>\n",
              "            </a>\n",
              "            <a href=\"#ipyplot-content-div-a2hw4mPLofarfZdcdF3ert-MmdAWJvemNQyQU4DUeqAMa\">\n",
              "                <span class=\"ipyplot-img-expand\"/>\n",
              "            </a>\n",
              "        </div>\n",
              "    </div>\n",
              "    \n",
              "    <div class=\"ipyplot-placeholder-div-a2hw4mPLofarfZdcdF3ert\">\n",
              "        <div id=\"ipyplot-content-div-a2hw4mPLofarfZdcdF3ert-7T76Aiia4E7aLNsCe9peVu\" class=\"ipyplot-content-div-a2hw4mPLofarfZdcdF3ert\">\n",
              "            <h4 style=\"font-size: 12px; word-wrap: break-word;\">4</h4>\n",
              "            <h4 style=\"font-size: 9px; padding-left: 10px; padding-right: 10px; width: 95%; word-wrap: break-word; white-space: normal;\">dataset_students/classification/train_unlabelled/1658.png</h4><img src=\"dataset_students/classification/train_unlabelled/1658.png\"/>\n",
              "            <a href=\"#!\">\n",
              "                <span class=\"ipyplot-img-close\"/>\n",
              "            </a>\n",
              "            <a href=\"#ipyplot-content-div-a2hw4mPLofarfZdcdF3ert-7T76Aiia4E7aLNsCe9peVu\">\n",
              "                <span class=\"ipyplot-img-expand\"/>\n",
              "            </a>\n",
              "        </div>\n",
              "    </div>\n",
              "    \n",
              "    <div class=\"ipyplot-placeholder-div-a2hw4mPLofarfZdcdF3ert\">\n",
              "        <div id=\"ipyplot-content-div-a2hw4mPLofarfZdcdF3ert-SDPsXAnJPsBku4tWqMNeHT\" class=\"ipyplot-content-div-a2hw4mPLofarfZdcdF3ert\">\n",
              "            <h4 style=\"font-size: 12px; word-wrap: break-word;\">5</h4>\n",
              "            <h4 style=\"font-size: 9px; padding-left: 10px; padding-right: 10px; width: 95%; word-wrap: break-word; white-space: normal;\">dataset_students/classification/train_unlabelled/407.png</h4><img src=\"dataset_students/classification/train_unlabelled/407.png\"/>\n",
              "            <a href=\"#!\">\n",
              "                <span class=\"ipyplot-img-close\"/>\n",
              "            </a>\n",
              "            <a href=\"#ipyplot-content-div-a2hw4mPLofarfZdcdF3ert-SDPsXAnJPsBku4tWqMNeHT\">\n",
              "                <span class=\"ipyplot-img-expand\"/>\n",
              "            </a>\n",
              "        </div>\n",
              "    </div>\n",
              "    \n",
              "    <div class=\"ipyplot-placeholder-div-a2hw4mPLofarfZdcdF3ert\">\n",
              "        <div id=\"ipyplot-content-div-a2hw4mPLofarfZdcdF3ert-QdAysL249x4hiN7cbdpL53\" class=\"ipyplot-content-div-a2hw4mPLofarfZdcdF3ert\">\n",
              "            <h4 style=\"font-size: 12px; word-wrap: break-word;\">6</h4>\n",
              "            <h4 style=\"font-size: 9px; padding-left: 10px; padding-right: 10px; width: 95%; word-wrap: break-word; white-space: normal;\">dataset_students/classification/train_unlabelled/1183.png</h4><img src=\"dataset_students/classification/train_unlabelled/1183.png\"/>\n",
              "            <a href=\"#!\">\n",
              "                <span class=\"ipyplot-img-close\"/>\n",
              "            </a>\n",
              "            <a href=\"#ipyplot-content-div-a2hw4mPLofarfZdcdF3ert-QdAysL249x4hiN7cbdpL53\">\n",
              "                <span class=\"ipyplot-img-expand\"/>\n",
              "            </a>\n",
              "        </div>\n",
              "    </div>\n",
              "    \n",
              "    <div class=\"ipyplot-placeholder-div-a2hw4mPLofarfZdcdF3ert\">\n",
              "        <div id=\"ipyplot-content-div-a2hw4mPLofarfZdcdF3ert-7akhFoQrQVGDxJJGSYFfLZ\" class=\"ipyplot-content-div-a2hw4mPLofarfZdcdF3ert\">\n",
              "            <h4 style=\"font-size: 12px; word-wrap: break-word;\">7</h4>\n",
              "            <h4 style=\"font-size: 9px; padding-left: 10px; padding-right: 10px; width: 95%; word-wrap: break-word; white-space: normal;\">dataset_students/classification/train_unlabelled/665.png</h4><img src=\"dataset_students/classification/train_unlabelled/665.png\"/>\n",
              "            <a href=\"#!\">\n",
              "                <span class=\"ipyplot-img-close\"/>\n",
              "            </a>\n",
              "            <a href=\"#ipyplot-content-div-a2hw4mPLofarfZdcdF3ert-7akhFoQrQVGDxJJGSYFfLZ\">\n",
              "                <span class=\"ipyplot-img-expand\"/>\n",
              "            </a>\n",
              "        </div>\n",
              "    </div>\n",
              "    \n",
              "    <div class=\"ipyplot-placeholder-div-a2hw4mPLofarfZdcdF3ert\">\n",
              "        <div id=\"ipyplot-content-div-a2hw4mPLofarfZdcdF3ert-gu97XPe7RfsNPTgkZ49pWd\" class=\"ipyplot-content-div-a2hw4mPLofarfZdcdF3ert\">\n",
              "            <h4 style=\"font-size: 12px; word-wrap: break-word;\">8</h4>\n",
              "            <h4 style=\"font-size: 9px; padding-left: 10px; padding-right: 10px; width: 95%; word-wrap: break-word; white-space: normal;\">dataset_students/classification/train_unlabelled/1539.png</h4><img src=\"dataset_students/classification/train_unlabelled/1539.png\"/>\n",
              "            <a href=\"#!\">\n",
              "                <span class=\"ipyplot-img-close\"/>\n",
              "            </a>\n",
              "            <a href=\"#ipyplot-content-div-a2hw4mPLofarfZdcdF3ert-gu97XPe7RfsNPTgkZ49pWd\">\n",
              "                <span class=\"ipyplot-img-expand\"/>\n",
              "            </a>\n",
              "        </div>\n",
              "    </div>\n",
              "    \n",
              "    <div class=\"ipyplot-placeholder-div-a2hw4mPLofarfZdcdF3ert\">\n",
              "        <div id=\"ipyplot-content-div-a2hw4mPLofarfZdcdF3ert-M4ijwkpT663iFdr5VsXSCv\" class=\"ipyplot-content-div-a2hw4mPLofarfZdcdF3ert\">\n",
              "            <h4 style=\"font-size: 12px; word-wrap: break-word;\">9</h4>\n",
              "            <h4 style=\"font-size: 9px; padding-left: 10px; padding-right: 10px; width: 95%; word-wrap: break-word; white-space: normal;\">dataset_students/classification/train_unlabelled/1196.png</h4><img src=\"dataset_students/classification/train_unlabelled/1196.png\"/>\n",
              "            <a href=\"#!\">\n",
              "                <span class=\"ipyplot-img-close\"/>\n",
              "            </a>\n",
              "            <a href=\"#ipyplot-content-div-a2hw4mPLofarfZdcdF3ert-M4ijwkpT663iFdr5VsXSCv\">\n",
              "                <span class=\"ipyplot-img-expand\"/>\n",
              "            </a>\n",
              "        </div>\n",
              "    </div>\n",
              "    </div></div></div>"
            ]
          },
          "metadata": {}
        }
      ],
      "source": [
        "ipyplot.plot_class_tabs(train_image_paths, train_labels, max_imgs_per_tab = 10)"
      ]
    },
    {
      "cell_type": "markdown",
      "id": "c2019cc3",
      "metadata": {
        "id": "c2019cc3"
      },
      "source": [
        "# Prepare model"
      ]
    },
    {
      "cell_type": "code",
      "execution_count": null,
      "id": "69d432db",
      "metadata": {
        "execution": {
          "iopub.execute_input": "2022-10-08T05:10:33.930460Z",
          "iopub.status.busy": "2022-10-08T05:10:33.930082Z",
          "iopub.status.idle": "2022-10-08T05:10:33.970805Z",
          "shell.execute_reply": "2022-10-08T05:10:33.969735Z",
          "shell.execute_reply.started": "2022-10-08T05:10:33.930385Z"
        },
        "tags": [],
        "id": "69d432db"
      },
      "outputs": [],
      "source": [
        "train_dataset = ImagesDataset(train_image_paths, train_labels, transform=transform)"
      ]
    },
    {
      "cell_type": "code",
      "execution_count": null,
      "id": "cc64dab6",
      "metadata": {
        "execution": {
          "iopub.execute_input": "2022-10-08T05:10:34.385258Z",
          "iopub.status.busy": "2022-10-08T05:10:34.384961Z",
          "iopub.status.idle": "2022-10-08T05:10:34.426310Z",
          "shell.execute_reply": "2022-10-08T05:10:34.425381Z",
          "shell.execute_reply.started": "2022-10-08T05:10:34.385184Z"
        },
        "tags": [],
        "id": "cc64dab6",
        "colab": {
          "base_uri": "https://localhost:8080/"
        },
        "outputId": "811b66ec-d7cd-4c4b-ebd0-0d1343ff43ce"
      },
      "outputs": [
        {
          "output_type": "stream",
          "name": "stderr",
          "text": [
            "/usr/local/lib/python3.7/dist-packages/torch/utils/data/dataloader.py:566: UserWarning: This DataLoader will create 16 worker processes in total. Our suggested max number of worker in current system is 2, which is smaller than what this DataLoader is going to create. Please be aware that excessive worker creation might get DataLoader running slow or even freeze, lower the worker number to avoid potential slowness/freeze if necessary.\n",
            "  cpuset_checked))\n"
          ]
        }
      ],
      "source": [
        "train_loader = torch.utils.data.DataLoader(train_dataset, \n",
        "                                           batch_size=params.BATCH_SIZE,\n",
        "                                           num_workers=16,\n",
        "                                           shuffle=False)"
      ]
    },
    {
      "cell_type": "code",
      "source": [
        "!pip install wandb"
      ],
      "metadata": {
        "colab": {
          "base_uri": "https://localhost:8080/"
        },
        "id": "peZJTC6fik8Z",
        "outputId": "48363492-1c71-4ac5-9be4-b694b838108e"
      },
      "id": "peZJTC6fik8Z",
      "execution_count": null,
      "outputs": [
        {
          "output_type": "stream",
          "name": "stdout",
          "text": [
            "Looking in indexes: https://pypi.org/simple, https://us-python.pkg.dev/colab-wheels/public/simple/\n",
            "Requirement already satisfied: wandb in /usr/local/lib/python3.7/dist-packages (0.13.4)\n",
            "Requirement already satisfied: pathtools in /usr/local/lib/python3.7/dist-packages (from wandb) (0.1.2)\n",
            "Requirement already satisfied: protobuf!=4.0.*,!=4.21.0,<5,>=3.12.0 in /usr/local/lib/python3.7/dist-packages (from wandb) (3.17.3)\n",
            "Requirement already satisfied: requests<3,>=2.0.0 in /usr/local/lib/python3.7/dist-packages (from wandb) (2.23.0)\n",
            "Requirement already satisfied: psutil>=5.0.0 in /usr/local/lib/python3.7/dist-packages (from wandb) (5.4.8)\n",
            "Requirement already satisfied: promise<3,>=2.0 in /usr/local/lib/python3.7/dist-packages (from wandb) (2.3)\n",
            "Requirement already satisfied: setproctitle in /usr/local/lib/python3.7/dist-packages (from wandb) (1.3.2)\n",
            "Requirement already satisfied: GitPython>=1.0.0 in /usr/local/lib/python3.7/dist-packages (from wandb) (3.1.28)\n",
            "Requirement already satisfied: six>=1.13.0 in /usr/local/lib/python3.7/dist-packages (from wandb) (1.15.0)\n",
            "Requirement already satisfied: shortuuid>=0.5.0 in /usr/local/lib/python3.7/dist-packages (from wandb) (1.0.9)\n",
            "Requirement already satisfied: Click!=8.0.0,>=7.0 in /usr/local/lib/python3.7/dist-packages (from wandb) (7.1.2)\n",
            "Requirement already satisfied: docker-pycreds>=0.4.0 in /usr/local/lib/python3.7/dist-packages (from wandb) (0.4.0)\n",
            "Requirement already satisfied: PyYAML in /usr/local/lib/python3.7/dist-packages (from wandb) (6.0)\n",
            "Requirement already satisfied: setuptools in /usr/local/lib/python3.7/dist-packages (from wandb) (57.4.0)\n",
            "Requirement already satisfied: sentry-sdk>=1.0.0 in /usr/local/lib/python3.7/dist-packages (from wandb) (1.9.0)\n",
            "Requirement already satisfied: gitdb<5,>=4.0.1 in /usr/local/lib/python3.7/dist-packages (from GitPython>=1.0.0->wandb) (4.0.9)\n",
            "Requirement already satisfied: typing-extensions>=3.7.4.3 in /usr/local/lib/python3.7/dist-packages (from GitPython>=1.0.0->wandb) (4.1.1)\n",
            "Requirement already satisfied: smmap<6,>=3.0.1 in /usr/local/lib/python3.7/dist-packages (from gitdb<5,>=4.0.1->GitPython>=1.0.0->wandb) (5.0.0)\n",
            "Requirement already satisfied: idna<3,>=2.5 in /usr/local/lib/python3.7/dist-packages (from requests<3,>=2.0.0->wandb) (2.10)\n",
            "Requirement already satisfied: certifi>=2017.4.17 in /usr/local/lib/python3.7/dist-packages (from requests<3,>=2.0.0->wandb) (2022.9.24)\n",
            "Requirement already satisfied: urllib3!=1.25.0,!=1.25.1,<1.26,>=1.21.1 in /usr/local/lib/python3.7/dist-packages (from requests<3,>=2.0.0->wandb) (1.24.3)\n",
            "Requirement already satisfied: chardet<4,>=3.0.2 in /usr/local/lib/python3.7/dist-packages (from requests<3,>=2.0.0->wandb) (3.0.4)\n"
          ]
        }
      ]
    },
    {
      "cell_type": "code",
      "source": [
        "!wandb login"
      ],
      "metadata": {
        "colab": {
          "base_uri": "https://localhost:8080/"
        },
        "id": "8GfuHQ4-inYH",
        "outputId": "acb0e435-93b7-4bdc-aecc-9e96ab863d8b"
      },
      "id": "8GfuHQ4-inYH",
      "execution_count": null,
      "outputs": [
        {
          "output_type": "stream",
          "name": "stdout",
          "text": [
            "\u001b[34m\u001b[1mwandb\u001b[0m: Currently logged in as: \u001b[33mv_philipenko\u001b[0m (\u001b[33mneuro-ml\u001b[0m). Use \u001b[1m`wandb login --relogin`\u001b[0m to force relogin\n"
          ]
        }
      ]
    },
    {
      "cell_type": "code",
      "source": [
        "from pytorch_lightning.loggers import WandbLogger"
      ],
      "metadata": {
        "id": "FD0HMhdFgaTo"
      },
      "id": "FD0HMhdFgaTo",
      "execution_count": null,
      "outputs": []
    },
    {
      "cell_type": "code",
      "execution_count": null,
      "id": "47c35ffa",
      "metadata": {
        "execution": {
          "iopub.execute_input": "2022-10-08T05:13:20.287468Z",
          "iopub.status.busy": "2022-10-08T05:13:20.287121Z",
          "iopub.status.idle": "2022-10-08T05:13:20.506893Z",
          "shell.execute_reply": "2022-10-08T05:13:20.504888Z",
          "shell.execute_reply.started": "2022-10-08T05:13:20.287382Z"
        },
        "tags": [],
        "id": "47c35ffa"
      },
      "outputs": [],
      "source": [
        "# Run macos_cert_fix.py if you are getting ssl errors\n",
        "import torch\n",
        "model = ImageClassifier(learning_rate=params.LEARNING_RATE, class_weight=torch.tensor([1.0, 4.0, 1.0], device='cuda'))"
      ]
    },
    {
      "cell_type": "code",
      "source": [
        "import wandb"
      ],
      "metadata": {
        "id": "5NvBwySXjih7"
      },
      "id": "5NvBwySXjih7",
      "execution_count": null,
      "outputs": []
    },
    {
      "cell_type": "code",
      "execution_count": null,
      "id": "3b805b49",
      "metadata": {
        "execution": {
          "iopub.execute_input": "2022-10-08T05:14:20.304357Z",
          "iopub.status.busy": "2022-10-08T05:14:20.304054Z",
          "iopub.status.idle": "2022-10-08T05:15:04.509864Z",
          "shell.execute_reply": "2022-10-08T05:15:04.508956Z",
          "shell.execute_reply.started": "2022-10-08T05:14:20.304320Z"
        },
        "tags": [],
        "colab": {
          "referenced_widgets": [
            "811e55f36f004799ac5af5afae2911ff",
            "f65a628d964c4b1da31d60ca17697f45",
            "8bb70202026440a79cb49f792a79e100",
            "7f20816302924bbaa5de5811b3d247d4",
            "5bc5a4035bc5437d889dc4947e9c3bd4",
            "7c45bacc7a444e0a9fb693ae79840482",
            "7c41412b69484b72b7f5a91ac09a0170",
            "0fe0ea6db0234a84afe14651c8f755b0",
            "0fd3a677641e42a886989ebca568b07d",
            "977e9930d94c4cd6926eae2855b6e2a1",
            "8f265d1797404eafbac73385458f58a6"
          ],
          "base_uri": "https://localhost:8080/",
          "height": 468
        },
        "id": "3b805b49",
        "outputId": "d38c337f-8bb7-4074-92de-4a39dbf70bf2"
      },
      "outputs": [
        {
          "output_type": "stream",
          "name": "stderr",
          "text": [
            "/usr/local/lib/python3.7/dist-packages/pytorch_lightning/loggers/wandb.py:353: UserWarning: There is a wandb run already in progress and newly created instances of `WandbLogger` will reuse this run. If this is not desired, call `wandb.finish()` before instantiating `WandbLogger`.\n",
            "  \"There is a wandb run already in progress and newly created instances of `WandbLogger` will reuse\"\n",
            "/usr/local/lib/python3.7/dist-packages/pytorch_lightning/trainer/connectors/accelerator_connector.py:448: LightningDeprecationWarning: Setting `Trainer(gpus=1)` is deprecated in v1.7 and will be removed in v2.0. Please use `Trainer(accelerator='gpu', devices=1)` instead.\n",
            "  f\"Setting `Trainer(gpus={gpus!r})` is deprecated in v1.7 and will be removed\"\n",
            "INFO:pytorch_lightning.utilities.rank_zero:GPU available: True (cuda), used: True\n",
            "INFO:pytorch_lightning.utilities.rank_zero:TPU available: False, using: 0 TPU cores\n",
            "INFO:pytorch_lightning.utilities.rank_zero:IPU available: False, using: 0 IPUs\n",
            "INFO:pytorch_lightning.utilities.rank_zero:HPU available: False, using: 0 HPUs\n",
            "/usr/local/lib/python3.7/dist-packages/pytorch_lightning/trainer/configuration_validator.py:109: PossibleUserWarning: You defined a `validation_step` but have no `val_dataloader`. Skipping val loop.\n",
            "  category=PossibleUserWarning,\n",
            "INFO:pytorch_lightning.accelerators.cuda:LOCAL_RANK: 0 - CUDA_VISIBLE_DEVICES: [0]\n",
            "INFO:pytorch_lightning.callbacks.model_summary:\n",
            "  | Name  | Type         | Params\n",
            "---------------------------------------\n",
            "0 | trunk | EfficientNet | 2.2 M \n",
            "---------------------------------------\n",
            "2.2 M     Trainable params\n",
            "0         Non-trainable params\n",
            "2.2 M     Total params\n",
            "8.911     Total estimated model params size (MB)\n"
          ]
        },
        {
          "output_type": "display_data",
          "data": {
            "text/plain": [
              "Training: 0it [00:00, ?it/s]"
            ],
            "application/vnd.jupyter.widget-view+json": {
              "version_major": 2,
              "version_minor": 0,
              "model_id": "811e55f36f004799ac5af5afae2911ff"
            }
          },
          "metadata": {}
        },
        {
          "output_type": "stream",
          "name": "stderr",
          "text": [
            "/usr/local/lib/python3.7/dist-packages/torch/utils/data/dataloader.py:566: UserWarning: This DataLoader will create 16 worker processes in total. Our suggested max number of worker in current system is 2, which is smaller than what this DataLoader is going to create. Please be aware that excessive worker creation might get DataLoader running slow or even freeze, lower the worker number to avoid potential slowness/freeze if necessary.\n",
            "  cpuset_checked))\n",
            "INFO:pytorch_lightning.utilities.rank_zero:`Trainer.fit` stopped: `max_epochs=10` reached.\n"
          ]
        }
      ],
      "source": [
        "logger = WandbLogger(project='car_numbers', name='model_5857')\n",
        "\n",
        "\n",
        "trainer = pl.Trainer(\n",
        "    logger=logger,\n",
        "    max_epochs=params.MAX_EPOCHS,\n",
        "    log_every_n_steps=1, # Change to enable tensorboard logging\n",
        "    gpus=1, # Uncomment to use GPU training\n",
        ")\n",
        "trainer.fit(model, train_loader)"
      ]
    },
    {
      "cell_type": "code",
      "execution_count": null,
      "id": "f691a26a-52db-46de-b3f4-dbcd150f4f7c",
      "metadata": {
        "execution": {
          "iopub.execute_input": "2022-10-08T05:11:13.851655Z",
          "iopub.status.busy": "2022-10-08T05:11:13.851359Z",
          "iopub.status.idle": "2022-10-08T05:11:13.897032Z",
          "shell.execute_reply": "2022-10-08T05:11:13.895957Z",
          "shell.execute_reply.started": "2022-10-08T05:11:13.851612Z"
        },
        "tags": [],
        "id": "f691a26a-52db-46de-b3f4-dbcd150f4f7c",
        "outputId": "9aed6cce-78a3-4963-9f81-e3bce0062031"
      },
      "outputs": [
        {
          "data": {
            "text/plain": [
              "'tb_logs/init_model_2000/version_8'"
            ]
          },
          "execution_count": 35,
          "metadata": {},
          "output_type": "execute_result"
        }
      ],
      "source": [
        "trainer.logger.log_dir"
      ]
    },
    {
      "cell_type": "code",
      "execution_count": null,
      "id": "4b16c83c-83a6-4917-a0f7-31926f938aef",
      "metadata": {
        "execution": {
          "iopub.execute_input": "2022-10-08T05:11:13.898440Z",
          "iopub.status.busy": "2022-10-08T05:11:13.898038Z",
          "iopub.status.idle": "2022-10-08T05:11:14.205593Z",
          "shell.execute_reply": "2022-10-08T05:11:14.204568Z",
          "shell.execute_reply.started": "2022-10-08T05:11:13.898365Z"
        },
        "tags": [],
        "id": "4b16c83c-83a6-4917-a0f7-31926f938aef",
        "outputId": "a5cea56a-57b6-4b7c-8e5f-3045f2a65d8f"
      },
      "outputs": [
        {
          "name": "stdout",
          "output_type": "stream",
          "text": [
            "checkpoints  hparams.yaml\n"
          ]
        }
      ],
      "source": [
        "!ls tb_logs/init_model_2000/version_7"
      ]
    },
    {
      "cell_type": "code",
      "execution_count": null,
      "id": "d8e6ce4f-bc35-496a-8d32-af4ab7988e7d",
      "metadata": {
        "execution": {
          "iopub.execute_input": "2022-10-08T05:11:14.524854Z",
          "iopub.status.busy": "2022-10-08T05:11:14.524670Z",
          "iopub.status.idle": "2022-10-08T05:11:14.562135Z",
          "shell.execute_reply": "2022-10-08T05:11:14.560993Z",
          "shell.execute_reply.started": "2022-10-08T05:11:14.524830Z"
        },
        "tags": [],
        "id": "d8e6ce4f-bc35-496a-8d32-af4ab7988e7d",
        "outputId": "a2117aee-650e-4651-beb9-cb9c2afd8f76"
      },
      "outputs": [
        {
          "data": {
            "text/plain": [
              "{'loss': tensor(0.0019)}"
            ]
          },
          "execution_count": 37,
          "metadata": {},
          "output_type": "execute_result"
        }
      ],
      "source": [
        "trainer.logged_metrics"
      ]
    },
    {
      "cell_type": "markdown",
      "id": "d1fd1ce8",
      "metadata": {
        "id": "d1fd1ce8"
      },
      "source": [
        "# Compute training set accuracy"
      ]
    },
    {
      "cell_type": "code",
      "execution_count": 37,
      "id": "cb227c4b",
      "metadata": {
        "execution": {
          "iopub.execute_input": "2022-10-08T20:31:10.955799Z",
          "iopub.status.busy": "2022-10-08T20:31:10.955450Z",
          "iopub.status.idle": "2022-10-08T20:32:29.527847Z",
          "shell.execute_reply": "2022-10-08T20:32:29.526697Z",
          "shell.execute_reply.started": "2022-10-08T20:31:10.955761Z"
        },
        "tags": [],
        "colab": {
          "referenced_widgets": [
            "cde61c6f592c4a0e9d0d6ff2cc0d74d5",
            "4008abb827f7478fb7689b6edac501e6",
            "6c20a4ab4fc743feb74cbf7d9c156751",
            "ac88532a91b749678a30a674a923ae74",
            "fc24c105ab56418793bf2fd996a8fc3b",
            "71c033951c3d41d6ab1794486810d5a0",
            "015f9e1ccca54a8896df0c3b4ddbf32e",
            "1f45497076be4e2c86db14dc86e8ef25",
            "b1dc4d831634405aab515482c8c6aa02",
            "8e5bbf81054c419a89164a0dd4ff7918",
            "d6ea86ba492d41f19ec90cc27570724d"
          ],
          "base_uri": "https://localhost:8080/",
          "height": 49
        },
        "id": "cb227c4b",
        "outputId": "d5d9db9a-1a7e-4e3d-a9a0-9ef9f72355a2"
      },
      "outputs": [
        {
          "output_type": "display_data",
          "data": {
            "text/plain": [
              "  0%|          | 0/184 [00:00<?, ?it/s]"
            ],
            "application/vnd.jupyter.widget-view+json": {
              "version_major": 2,
              "version_minor": 0,
              "model_id": "cde61c6f592c4a0e9d0d6ff2cc0d74d5"
            }
          },
          "metadata": {}
        }
      ],
      "source": [
        "labels, predictions, idxs = evaluate_model(model, train_dataset)"
      ]
    },
    {
      "cell_type": "code",
      "execution_count": 39,
      "id": "d846610e-26d5-4911-9fc6-207ee1851cf9",
      "metadata": {
        "execution": {
          "iopub.execute_input": "2022-10-08T05:16:08.559221Z",
          "iopub.status.busy": "2022-10-08T05:16:08.559029Z",
          "iopub.status.idle": "2022-10-08T05:16:08.623776Z",
          "shell.execute_reply": "2022-10-08T05:16:08.622935Z",
          "shell.execute_reply.started": "2022-10-08T05:16:08.559194Z"
        },
        "tags": [],
        "id": "d846610e-26d5-4911-9fc6-207ee1851cf9",
        "outputId": "6d253ba4-f569-4fe0-c784-97e6ee0974ee",
        "colab": {
          "resources": {
            "http://localhost:8080/dataset_students/classification/train_labelled/0.png": {
              "data": "CjwhRE9DVFlQRSBodG1sPgo8aHRtbCBsYW5nPWVuPgogIDxtZXRhIGNoYXJzZXQ9dXRmLTg+CiAgPG1ldGEgbmFtZT12aWV3cG9ydCBjb250ZW50PSJpbml0aWFsLXNjYWxlPTEsIG1pbmltdW0tc2NhbGU9MSwgd2lkdGg9ZGV2aWNlLXdpZHRoIj4KICA8dGl0bGU+RXJyb3IgNDA0IChOb3QgRm91bmQpISExPC90aXRsZT4KICA8c3R5bGU+CiAgICAqe21hcmdpbjowO3BhZGRpbmc6MH1odG1sLGNvZGV7Zm9udDoxNXB4LzIycHggYXJpYWwsc2Fucy1zZXJpZn1odG1se2JhY2tncm91bmQ6I2ZmZjtjb2xvcjojMjIyO3BhZGRpbmc6MTVweH1ib2R5e21hcmdpbjo3JSBhdXRvIDA7bWF4LXdpZHRoOjM5MHB4O21pbi1oZWlnaHQ6MTgwcHg7cGFkZGluZzozMHB4IDAgMTVweH0qID4gYm9keXtiYWNrZ3JvdW5kOnVybCgvL3d3dy5nb29nbGUuY29tL2ltYWdlcy9lcnJvcnMvcm9ib3QucG5nKSAxMDAlIDVweCBuby1yZXBlYXQ7cGFkZGluZy1yaWdodDoyMDVweH1we21hcmdpbjoxMXB4IDAgMjJweDtvdmVyZmxvdzpoaWRkZW59aW5ze2NvbG9yOiM3Nzc7dGV4dC1kZWNvcmF0aW9uOm5vbmV9YSBpbWd7Ym9yZGVyOjB9QG1lZGlhIHNjcmVlbiBhbmQgKG1heC13aWR0aDo3NzJweCl7Ym9keXtiYWNrZ3JvdW5kOm5vbmU7bWFyZ2luLXRvcDowO21heC13aWR0aDpub25lO3BhZGRpbmctcmlnaHQ6MH19I2xvZ297YmFja2dyb3VuZDp1cmwoLy93d3cuZ29vZ2xlLmNvbS9pbWFnZXMvbG9nb3MvZXJyb3JwYWdlL2Vycm9yX2xvZ28tMTUweDU0LnBuZykgbm8tcmVwZWF0O21hcmdpbi1sZWZ0Oi01cHh9QG1lZGlhIG9ubHkgc2NyZWVuIGFuZCAobWluLXJlc29sdXRpb246MTkyZHBpKXsjbG9nb3tiYWNrZ3JvdW5kOnVybCgvL3d3dy5nb29nbGUuY29tL2ltYWdlcy9sb2dvcy9lcnJvcnBhZ2UvZXJyb3JfbG9nby0xNTB4NTQtMngucG5nKSBuby1yZXBlYXQgMCUgMCUvMTAwJSAxMDAlOy1tb3otYm9yZGVyLWltYWdlOnVybCgvL3d3dy5nb29nbGUuY29tL2ltYWdlcy9sb2dvcy9lcnJvcnBhZ2UvZXJyb3JfbG9nby0xNTB4NTQtMngucG5nKSAwfX1AbWVkaWEgb25seSBzY3JlZW4gYW5kICgtd2Via2l0LW1pbi1kZXZpY2UtcGl4ZWwtcmF0aW86Mil7I2xvZ297YmFja2dyb3VuZDp1cmwoLy93d3cuZ29vZ2xlLmNvbS9pbWFnZXMvbG9nb3MvZXJyb3JwYWdlL2Vycm9yX2xvZ28tMTUweDU0LTJ4LnBuZykgbm8tcmVwZWF0Oy13ZWJraXQtYmFja2dyb3VuZC1zaXplOjEwMCUgMTAwJX19I2xvZ297ZGlzcGxheTppbmxpbmUtYmxvY2s7aGVpZ2h0OjU0cHg7d2lkdGg6MTUwcHh9CiAgPC9zdHlsZT4KICA8YSBocmVmPS8vd3d3Lmdvb2dsZS5jb20vPjxzcGFuIGlkPWxvZ28gYXJpYS1sYWJlbD1Hb29nbGU+PC9zcGFuPjwvYT4KICA8cD48Yj40MDQuPC9iPiA8aW5zPlRoYXTigJlzIGFuIGVycm9yLjwvaW5zPgogIDxwPiAgPGlucz5UaGF04oCZcyBhbGwgd2Uga25vdy48L2lucz4K",
              "ok": false,
              "headers": [
                [
                  "content-length",
                  "1449"
                ],
                [
                  "content-type",
                  "text/html; charset=utf-8"
                ]
              ],
              "status": 404,
              "status_text": ""
            },
            "http://localhost:8080/dataset_students/classification/train_labelled/11.png": {
              "data": "CjwhRE9DVFlQRSBodG1sPgo8aHRtbCBsYW5nPWVuPgogIDxtZXRhIGNoYXJzZXQ9dXRmLTg+CiAgPG1ldGEgbmFtZT12aWV3cG9ydCBjb250ZW50PSJpbml0aWFsLXNjYWxlPTEsIG1pbmltdW0tc2NhbGU9MSwgd2lkdGg9ZGV2aWNlLXdpZHRoIj4KICA8dGl0bGU+RXJyb3IgNDA0IChOb3QgRm91bmQpISExPC90aXRsZT4KICA8c3R5bGU+CiAgICAqe21hcmdpbjowO3BhZGRpbmc6MH1odG1sLGNvZGV7Zm9udDoxNXB4LzIycHggYXJpYWwsc2Fucy1zZXJpZn1odG1se2JhY2tncm91bmQ6I2ZmZjtjb2xvcjojMjIyO3BhZGRpbmc6MTVweH1ib2R5e21hcmdpbjo3JSBhdXRvIDA7bWF4LXdpZHRoOjM5MHB4O21pbi1oZWlnaHQ6MTgwcHg7cGFkZGluZzozMHB4IDAgMTVweH0qID4gYm9keXtiYWNrZ3JvdW5kOnVybCgvL3d3dy5nb29nbGUuY29tL2ltYWdlcy9lcnJvcnMvcm9ib3QucG5nKSAxMDAlIDVweCBuby1yZXBlYXQ7cGFkZGluZy1yaWdodDoyMDVweH1we21hcmdpbjoxMXB4IDAgMjJweDtvdmVyZmxvdzpoaWRkZW59aW5ze2NvbG9yOiM3Nzc7dGV4dC1kZWNvcmF0aW9uOm5vbmV9YSBpbWd7Ym9yZGVyOjB9QG1lZGlhIHNjcmVlbiBhbmQgKG1heC13aWR0aDo3NzJweCl7Ym9keXtiYWNrZ3JvdW5kOm5vbmU7bWFyZ2luLXRvcDowO21heC13aWR0aDpub25lO3BhZGRpbmctcmlnaHQ6MH19I2xvZ297YmFja2dyb3VuZDp1cmwoLy93d3cuZ29vZ2xlLmNvbS9pbWFnZXMvbG9nb3MvZXJyb3JwYWdlL2Vycm9yX2xvZ28tMTUweDU0LnBuZykgbm8tcmVwZWF0O21hcmdpbi1sZWZ0Oi01cHh9QG1lZGlhIG9ubHkgc2NyZWVuIGFuZCAobWluLXJlc29sdXRpb246MTkyZHBpKXsjbG9nb3tiYWNrZ3JvdW5kOnVybCgvL3d3dy5nb29nbGUuY29tL2ltYWdlcy9sb2dvcy9lcnJvcnBhZ2UvZXJyb3JfbG9nby0xNTB4NTQtMngucG5nKSBuby1yZXBlYXQgMCUgMCUvMTAwJSAxMDAlOy1tb3otYm9yZGVyLWltYWdlOnVybCgvL3d3dy5nb29nbGUuY29tL2ltYWdlcy9sb2dvcy9lcnJvcnBhZ2UvZXJyb3JfbG9nby0xNTB4NTQtMngucG5nKSAwfX1AbWVkaWEgb25seSBzY3JlZW4gYW5kICgtd2Via2l0LW1pbi1kZXZpY2UtcGl4ZWwtcmF0aW86Mil7I2xvZ297YmFja2dyb3VuZDp1cmwoLy93d3cuZ29vZ2xlLmNvbS9pbWFnZXMvbG9nb3MvZXJyb3JwYWdlL2Vycm9yX2xvZ28tMTUweDU0LTJ4LnBuZykgbm8tcmVwZWF0Oy13ZWJraXQtYmFja2dyb3VuZC1zaXplOjEwMCUgMTAwJX19I2xvZ297ZGlzcGxheTppbmxpbmUtYmxvY2s7aGVpZ2h0OjU0cHg7d2lkdGg6MTUwcHh9CiAgPC9zdHlsZT4KICA8YSBocmVmPS8vd3d3Lmdvb2dsZS5jb20vPjxzcGFuIGlkPWxvZ28gYXJpYS1sYWJlbD1Hb29nbGU+PC9zcGFuPjwvYT4KICA8cD48Yj40MDQuPC9iPiA8aW5zPlRoYXTigJlzIGFuIGVycm9yLjwvaW5zPgogIDxwPiAgPGlucz5UaGF04oCZcyBhbGwgd2Uga25vdy48L2lucz4K",
              "ok": false,
              "headers": [
                [
                  "content-length",
                  "1449"
                ],
                [
                  "content-type",
                  "text/html; charset=utf-8"
                ]
              ],
              "status": 404,
              "status_text": ""
            },
            "http://localhost:8080/dataset_students/classification/train_labelled/5.png": {
              "data": "CjwhRE9DVFlQRSBodG1sPgo8aHRtbCBsYW5nPWVuPgogIDxtZXRhIGNoYXJzZXQ9dXRmLTg+CiAgPG1ldGEgbmFtZT12aWV3cG9ydCBjb250ZW50PSJpbml0aWFsLXNjYWxlPTEsIG1pbmltdW0tc2NhbGU9MSwgd2lkdGg9ZGV2aWNlLXdpZHRoIj4KICA8dGl0bGU+RXJyb3IgNDA0IChOb3QgRm91bmQpISExPC90aXRsZT4KICA8c3R5bGU+CiAgICAqe21hcmdpbjowO3BhZGRpbmc6MH1odG1sLGNvZGV7Zm9udDoxNXB4LzIycHggYXJpYWwsc2Fucy1zZXJpZn1odG1se2JhY2tncm91bmQ6I2ZmZjtjb2xvcjojMjIyO3BhZGRpbmc6MTVweH1ib2R5e21hcmdpbjo3JSBhdXRvIDA7bWF4LXdpZHRoOjM5MHB4O21pbi1oZWlnaHQ6MTgwcHg7cGFkZGluZzozMHB4IDAgMTVweH0qID4gYm9keXtiYWNrZ3JvdW5kOnVybCgvL3d3dy5nb29nbGUuY29tL2ltYWdlcy9lcnJvcnMvcm9ib3QucG5nKSAxMDAlIDVweCBuby1yZXBlYXQ7cGFkZGluZy1yaWdodDoyMDVweH1we21hcmdpbjoxMXB4IDAgMjJweDtvdmVyZmxvdzpoaWRkZW59aW5ze2NvbG9yOiM3Nzc7dGV4dC1kZWNvcmF0aW9uOm5vbmV9YSBpbWd7Ym9yZGVyOjB9QG1lZGlhIHNjcmVlbiBhbmQgKG1heC13aWR0aDo3NzJweCl7Ym9keXtiYWNrZ3JvdW5kOm5vbmU7bWFyZ2luLXRvcDowO21heC13aWR0aDpub25lO3BhZGRpbmctcmlnaHQ6MH19I2xvZ297YmFja2dyb3VuZDp1cmwoLy93d3cuZ29vZ2xlLmNvbS9pbWFnZXMvbG9nb3MvZXJyb3JwYWdlL2Vycm9yX2xvZ28tMTUweDU0LnBuZykgbm8tcmVwZWF0O21hcmdpbi1sZWZ0Oi01cHh9QG1lZGlhIG9ubHkgc2NyZWVuIGFuZCAobWluLXJlc29sdXRpb246MTkyZHBpKXsjbG9nb3tiYWNrZ3JvdW5kOnVybCgvL3d3dy5nb29nbGUuY29tL2ltYWdlcy9sb2dvcy9lcnJvcnBhZ2UvZXJyb3JfbG9nby0xNTB4NTQtMngucG5nKSBuby1yZXBlYXQgMCUgMCUvMTAwJSAxMDAlOy1tb3otYm9yZGVyLWltYWdlOnVybCgvL3d3dy5nb29nbGUuY29tL2ltYWdlcy9sb2dvcy9lcnJvcnBhZ2UvZXJyb3JfbG9nby0xNTB4NTQtMngucG5nKSAwfX1AbWVkaWEgb25seSBzY3JlZW4gYW5kICgtd2Via2l0LW1pbi1kZXZpY2UtcGl4ZWwtcmF0aW86Mil7I2xvZ297YmFja2dyb3VuZDp1cmwoLy93d3cuZ29vZ2xlLmNvbS9pbWFnZXMvbG9nb3MvZXJyb3JwYWdlL2Vycm9yX2xvZ28tMTUweDU0LTJ4LnBuZykgbm8tcmVwZWF0Oy13ZWJraXQtYmFja2dyb3VuZC1zaXplOjEwMCUgMTAwJX19I2xvZ297ZGlzcGxheTppbmxpbmUtYmxvY2s7aGVpZ2h0OjU0cHg7d2lkdGg6MTUwcHh9CiAgPC9zdHlsZT4KICA8YSBocmVmPS8vd3d3Lmdvb2dsZS5jb20vPjxzcGFuIGlkPWxvZ28gYXJpYS1sYWJlbD1Hb29nbGU+PC9zcGFuPjwvYT4KICA8cD48Yj40MDQuPC9iPiA8aW5zPlRoYXTigJlzIGFuIGVycm9yLjwvaW5zPgogIDxwPiAgPGlucz5UaGF04oCZcyBhbGwgd2Uga25vdy48L2lucz4K",
              "ok": false,
              "headers": [
                [
                  "content-length",
                  "1449"
                ],
                [
                  "content-type",
                  "text/html; charset=utf-8"
                ]
              ],
              "status": 404,
              "status_text": ""
            },
            "http://localhost:8080/dataset_students/classification/train_labelled/7.png": {
              "data": "CjwhRE9DVFlQRSBodG1sPgo8aHRtbCBsYW5nPWVuPgogIDxtZXRhIGNoYXJzZXQ9dXRmLTg+CiAgPG1ldGEgbmFtZT12aWV3cG9ydCBjb250ZW50PSJpbml0aWFsLXNjYWxlPTEsIG1pbmltdW0tc2NhbGU9MSwgd2lkdGg9ZGV2aWNlLXdpZHRoIj4KICA8dGl0bGU+RXJyb3IgNDA0IChOb3QgRm91bmQpISExPC90aXRsZT4KICA8c3R5bGU+CiAgICAqe21hcmdpbjowO3BhZGRpbmc6MH1odG1sLGNvZGV7Zm9udDoxNXB4LzIycHggYXJpYWwsc2Fucy1zZXJpZn1odG1se2JhY2tncm91bmQ6I2ZmZjtjb2xvcjojMjIyO3BhZGRpbmc6MTVweH1ib2R5e21hcmdpbjo3JSBhdXRvIDA7bWF4LXdpZHRoOjM5MHB4O21pbi1oZWlnaHQ6MTgwcHg7cGFkZGluZzozMHB4IDAgMTVweH0qID4gYm9keXtiYWNrZ3JvdW5kOnVybCgvL3d3dy5nb29nbGUuY29tL2ltYWdlcy9lcnJvcnMvcm9ib3QucG5nKSAxMDAlIDVweCBuby1yZXBlYXQ7cGFkZGluZy1yaWdodDoyMDVweH1we21hcmdpbjoxMXB4IDAgMjJweDtvdmVyZmxvdzpoaWRkZW59aW5ze2NvbG9yOiM3Nzc7dGV4dC1kZWNvcmF0aW9uOm5vbmV9YSBpbWd7Ym9yZGVyOjB9QG1lZGlhIHNjcmVlbiBhbmQgKG1heC13aWR0aDo3NzJweCl7Ym9keXtiYWNrZ3JvdW5kOm5vbmU7bWFyZ2luLXRvcDowO21heC13aWR0aDpub25lO3BhZGRpbmctcmlnaHQ6MH19I2xvZ297YmFja2dyb3VuZDp1cmwoLy93d3cuZ29vZ2xlLmNvbS9pbWFnZXMvbG9nb3MvZXJyb3JwYWdlL2Vycm9yX2xvZ28tMTUweDU0LnBuZykgbm8tcmVwZWF0O21hcmdpbi1sZWZ0Oi01cHh9QG1lZGlhIG9ubHkgc2NyZWVuIGFuZCAobWluLXJlc29sdXRpb246MTkyZHBpKXsjbG9nb3tiYWNrZ3JvdW5kOnVybCgvL3d3dy5nb29nbGUuY29tL2ltYWdlcy9sb2dvcy9lcnJvcnBhZ2UvZXJyb3JfbG9nby0xNTB4NTQtMngucG5nKSBuby1yZXBlYXQgMCUgMCUvMTAwJSAxMDAlOy1tb3otYm9yZGVyLWltYWdlOnVybCgvL3d3dy5nb29nbGUuY29tL2ltYWdlcy9sb2dvcy9lcnJvcnBhZ2UvZXJyb3JfbG9nby0xNTB4NTQtMngucG5nKSAwfX1AbWVkaWEgb25seSBzY3JlZW4gYW5kICgtd2Via2l0LW1pbi1kZXZpY2UtcGl4ZWwtcmF0aW86Mil7I2xvZ297YmFja2dyb3VuZDp1cmwoLy93d3cuZ29vZ2xlLmNvbS9pbWFnZXMvbG9nb3MvZXJyb3JwYWdlL2Vycm9yX2xvZ28tMTUweDU0LTJ4LnBuZykgbm8tcmVwZWF0Oy13ZWJraXQtYmFja2dyb3VuZC1zaXplOjEwMCUgMTAwJX19I2xvZ297ZGlzcGxheTppbmxpbmUtYmxvY2s7aGVpZ2h0OjU0cHg7d2lkdGg6MTUwcHh9CiAgPC9zdHlsZT4KICA8YSBocmVmPS8vd3d3Lmdvb2dsZS5jb20vPjxzcGFuIGlkPWxvZ28gYXJpYS1sYWJlbD1Hb29nbGU+PC9zcGFuPjwvYT4KICA8cD48Yj40MDQuPC9iPiA8aW5zPlRoYXTigJlzIGFuIGVycm9yLjwvaW5zPgogIDxwPiAgPGlucz5UaGF04oCZcyBhbGwgd2Uga25vdy48L2lucz4K",
              "ok": false,
              "headers": [
                [
                  "content-length",
                  "1449"
                ],
                [
                  "content-type",
                  "text/html; charset=utf-8"
                ]
              ],
              "status": 404,
              "status_text": ""
            },
            "http://localhost:8080/dataset_students/classification/train_labelled/14.png": {
              "data": "CjwhRE9DVFlQRSBodG1sPgo8aHRtbCBsYW5nPWVuPgogIDxtZXRhIGNoYXJzZXQ9dXRmLTg+CiAgPG1ldGEgbmFtZT12aWV3cG9ydCBjb250ZW50PSJpbml0aWFsLXNjYWxlPTEsIG1pbmltdW0tc2NhbGU9MSwgd2lkdGg9ZGV2aWNlLXdpZHRoIj4KICA8dGl0bGU+RXJyb3IgNDA0IChOb3QgRm91bmQpISExPC90aXRsZT4KICA8c3R5bGU+CiAgICAqe21hcmdpbjowO3BhZGRpbmc6MH1odG1sLGNvZGV7Zm9udDoxNXB4LzIycHggYXJpYWwsc2Fucy1zZXJpZn1odG1se2JhY2tncm91bmQ6I2ZmZjtjb2xvcjojMjIyO3BhZGRpbmc6MTVweH1ib2R5e21hcmdpbjo3JSBhdXRvIDA7bWF4LXdpZHRoOjM5MHB4O21pbi1oZWlnaHQ6MTgwcHg7cGFkZGluZzozMHB4IDAgMTVweH0qID4gYm9keXtiYWNrZ3JvdW5kOnVybCgvL3d3dy5nb29nbGUuY29tL2ltYWdlcy9lcnJvcnMvcm9ib3QucG5nKSAxMDAlIDVweCBuby1yZXBlYXQ7cGFkZGluZy1yaWdodDoyMDVweH1we21hcmdpbjoxMXB4IDAgMjJweDtvdmVyZmxvdzpoaWRkZW59aW5ze2NvbG9yOiM3Nzc7dGV4dC1kZWNvcmF0aW9uOm5vbmV9YSBpbWd7Ym9yZGVyOjB9QG1lZGlhIHNjcmVlbiBhbmQgKG1heC13aWR0aDo3NzJweCl7Ym9keXtiYWNrZ3JvdW5kOm5vbmU7bWFyZ2luLXRvcDowO21heC13aWR0aDpub25lO3BhZGRpbmctcmlnaHQ6MH19I2xvZ297YmFja2dyb3VuZDp1cmwoLy93d3cuZ29vZ2xlLmNvbS9pbWFnZXMvbG9nb3MvZXJyb3JwYWdlL2Vycm9yX2xvZ28tMTUweDU0LnBuZykgbm8tcmVwZWF0O21hcmdpbi1sZWZ0Oi01cHh9QG1lZGlhIG9ubHkgc2NyZWVuIGFuZCAobWluLXJlc29sdXRpb246MTkyZHBpKXsjbG9nb3tiYWNrZ3JvdW5kOnVybCgvL3d3dy5nb29nbGUuY29tL2ltYWdlcy9sb2dvcy9lcnJvcnBhZ2UvZXJyb3JfbG9nby0xNTB4NTQtMngucG5nKSBuby1yZXBlYXQgMCUgMCUvMTAwJSAxMDAlOy1tb3otYm9yZGVyLWltYWdlOnVybCgvL3d3dy5nb29nbGUuY29tL2ltYWdlcy9sb2dvcy9lcnJvcnBhZ2UvZXJyb3JfbG9nby0xNTB4NTQtMngucG5nKSAwfX1AbWVkaWEgb25seSBzY3JlZW4gYW5kICgtd2Via2l0LW1pbi1kZXZpY2UtcGl4ZWwtcmF0aW86Mil7I2xvZ297YmFja2dyb3VuZDp1cmwoLy93d3cuZ29vZ2xlLmNvbS9pbWFnZXMvbG9nb3MvZXJyb3JwYWdlL2Vycm9yX2xvZ28tMTUweDU0LTJ4LnBuZykgbm8tcmVwZWF0Oy13ZWJraXQtYmFja2dyb3VuZC1zaXplOjEwMCUgMTAwJX19I2xvZ297ZGlzcGxheTppbmxpbmUtYmxvY2s7aGVpZ2h0OjU0cHg7d2lkdGg6MTUwcHh9CiAgPC9zdHlsZT4KICA8YSBocmVmPS8vd3d3Lmdvb2dsZS5jb20vPjxzcGFuIGlkPWxvZ28gYXJpYS1sYWJlbD1Hb29nbGU+PC9zcGFuPjwvYT4KICA8cD48Yj40MDQuPC9iPiA8aW5zPlRoYXTigJlzIGFuIGVycm9yLjwvaW5zPgogIDxwPiAgPGlucz5UaGF04oCZcyBhbGwgd2Uga25vdy48L2lucz4K",
              "ok": false,
              "headers": [
                [
                  "content-length",
                  "1449"
                ],
                [
                  "content-type",
                  "text/html; charset=utf-8"
                ]
              ],
              "status": 404,
              "status_text": ""
            },
            "http://localhost:8080/dataset_students/classification/train_labelled/8.png": {
              "data": "CjwhRE9DVFlQRSBodG1sPgo8aHRtbCBsYW5nPWVuPgogIDxtZXRhIGNoYXJzZXQ9dXRmLTg+CiAgPG1ldGEgbmFtZT12aWV3cG9ydCBjb250ZW50PSJpbml0aWFsLXNjYWxlPTEsIG1pbmltdW0tc2NhbGU9MSwgd2lkdGg9ZGV2aWNlLXdpZHRoIj4KICA8dGl0bGU+RXJyb3IgNDA0IChOb3QgRm91bmQpISExPC90aXRsZT4KICA8c3R5bGU+CiAgICAqe21hcmdpbjowO3BhZGRpbmc6MH1odG1sLGNvZGV7Zm9udDoxNXB4LzIycHggYXJpYWwsc2Fucy1zZXJpZn1odG1se2JhY2tncm91bmQ6I2ZmZjtjb2xvcjojMjIyO3BhZGRpbmc6MTVweH1ib2R5e21hcmdpbjo3JSBhdXRvIDA7bWF4LXdpZHRoOjM5MHB4O21pbi1oZWlnaHQ6MTgwcHg7cGFkZGluZzozMHB4IDAgMTVweH0qID4gYm9keXtiYWNrZ3JvdW5kOnVybCgvL3d3dy5nb29nbGUuY29tL2ltYWdlcy9lcnJvcnMvcm9ib3QucG5nKSAxMDAlIDVweCBuby1yZXBlYXQ7cGFkZGluZy1yaWdodDoyMDVweH1we21hcmdpbjoxMXB4IDAgMjJweDtvdmVyZmxvdzpoaWRkZW59aW5ze2NvbG9yOiM3Nzc7dGV4dC1kZWNvcmF0aW9uOm5vbmV9YSBpbWd7Ym9yZGVyOjB9QG1lZGlhIHNjcmVlbiBhbmQgKG1heC13aWR0aDo3NzJweCl7Ym9keXtiYWNrZ3JvdW5kOm5vbmU7bWFyZ2luLXRvcDowO21heC13aWR0aDpub25lO3BhZGRpbmctcmlnaHQ6MH19I2xvZ297YmFja2dyb3VuZDp1cmwoLy93d3cuZ29vZ2xlLmNvbS9pbWFnZXMvbG9nb3MvZXJyb3JwYWdlL2Vycm9yX2xvZ28tMTUweDU0LnBuZykgbm8tcmVwZWF0O21hcmdpbi1sZWZ0Oi01cHh9QG1lZGlhIG9ubHkgc2NyZWVuIGFuZCAobWluLXJlc29sdXRpb246MTkyZHBpKXsjbG9nb3tiYWNrZ3JvdW5kOnVybCgvL3d3dy5nb29nbGUuY29tL2ltYWdlcy9sb2dvcy9lcnJvcnBhZ2UvZXJyb3JfbG9nby0xNTB4NTQtMngucG5nKSBuby1yZXBlYXQgMCUgMCUvMTAwJSAxMDAlOy1tb3otYm9yZGVyLWltYWdlOnVybCgvL3d3dy5nb29nbGUuY29tL2ltYWdlcy9sb2dvcy9lcnJvcnBhZ2UvZXJyb3JfbG9nby0xNTB4NTQtMngucG5nKSAwfX1AbWVkaWEgb25seSBzY3JlZW4gYW5kICgtd2Via2l0LW1pbi1kZXZpY2UtcGl4ZWwtcmF0aW86Mil7I2xvZ297YmFja2dyb3VuZDp1cmwoLy93d3cuZ29vZ2xlLmNvbS9pbWFnZXMvbG9nb3MvZXJyb3JwYWdlL2Vycm9yX2xvZ28tMTUweDU0LTJ4LnBuZykgbm8tcmVwZWF0Oy13ZWJraXQtYmFja2dyb3VuZC1zaXplOjEwMCUgMTAwJX19I2xvZ297ZGlzcGxheTppbmxpbmUtYmxvY2s7aGVpZ2h0OjU0cHg7d2lkdGg6MTUwcHh9CiAgPC9zdHlsZT4KICA8YSBocmVmPS8vd3d3Lmdvb2dsZS5jb20vPjxzcGFuIGlkPWxvZ28gYXJpYS1sYWJlbD1Hb29nbGU+PC9zcGFuPjwvYT4KICA8cD48Yj40MDQuPC9iPiA8aW5zPlRoYXTigJlzIGFuIGVycm9yLjwvaW5zPgogIDxwPiAgPGlucz5UaGF04oCZcyBhbGwgd2Uga25vdy48L2lucz4K",
              "ok": false,
              "headers": [
                [
                  "content-length",
                  "1449"
                ],
                [
                  "content-type",
                  "text/html; charset=utf-8"
                ]
              ],
              "status": 404,
              "status_text": ""
            },
            "http://localhost:8080/dataset_students/classification/train_labelled/16.png": {
              "data": "CjwhRE9DVFlQRSBodG1sPgo8aHRtbCBsYW5nPWVuPgogIDxtZXRhIGNoYXJzZXQ9dXRmLTg+CiAgPG1ldGEgbmFtZT12aWV3cG9ydCBjb250ZW50PSJpbml0aWFsLXNjYWxlPTEsIG1pbmltdW0tc2NhbGU9MSwgd2lkdGg9ZGV2aWNlLXdpZHRoIj4KICA8dGl0bGU+RXJyb3IgNDA0IChOb3QgRm91bmQpISExPC90aXRsZT4KICA8c3R5bGU+CiAgICAqe21hcmdpbjowO3BhZGRpbmc6MH1odG1sLGNvZGV7Zm9udDoxNXB4LzIycHggYXJpYWwsc2Fucy1zZXJpZn1odG1se2JhY2tncm91bmQ6I2ZmZjtjb2xvcjojMjIyO3BhZGRpbmc6MTVweH1ib2R5e21hcmdpbjo3JSBhdXRvIDA7bWF4LXdpZHRoOjM5MHB4O21pbi1oZWlnaHQ6MTgwcHg7cGFkZGluZzozMHB4IDAgMTVweH0qID4gYm9keXtiYWNrZ3JvdW5kOnVybCgvL3d3dy5nb29nbGUuY29tL2ltYWdlcy9lcnJvcnMvcm9ib3QucG5nKSAxMDAlIDVweCBuby1yZXBlYXQ7cGFkZGluZy1yaWdodDoyMDVweH1we21hcmdpbjoxMXB4IDAgMjJweDtvdmVyZmxvdzpoaWRkZW59aW5ze2NvbG9yOiM3Nzc7dGV4dC1kZWNvcmF0aW9uOm5vbmV9YSBpbWd7Ym9yZGVyOjB9QG1lZGlhIHNjcmVlbiBhbmQgKG1heC13aWR0aDo3NzJweCl7Ym9keXtiYWNrZ3JvdW5kOm5vbmU7bWFyZ2luLXRvcDowO21heC13aWR0aDpub25lO3BhZGRpbmctcmlnaHQ6MH19I2xvZ297YmFja2dyb3VuZDp1cmwoLy93d3cuZ29vZ2xlLmNvbS9pbWFnZXMvbG9nb3MvZXJyb3JwYWdlL2Vycm9yX2xvZ28tMTUweDU0LnBuZykgbm8tcmVwZWF0O21hcmdpbi1sZWZ0Oi01cHh9QG1lZGlhIG9ubHkgc2NyZWVuIGFuZCAobWluLXJlc29sdXRpb246MTkyZHBpKXsjbG9nb3tiYWNrZ3JvdW5kOnVybCgvL3d3dy5nb29nbGUuY29tL2ltYWdlcy9sb2dvcy9lcnJvcnBhZ2UvZXJyb3JfbG9nby0xNTB4NTQtMngucG5nKSBuby1yZXBlYXQgMCUgMCUvMTAwJSAxMDAlOy1tb3otYm9yZGVyLWltYWdlOnVybCgvL3d3dy5nb29nbGUuY29tL2ltYWdlcy9sb2dvcy9lcnJvcnBhZ2UvZXJyb3JfbG9nby0xNTB4NTQtMngucG5nKSAwfX1AbWVkaWEgb25seSBzY3JlZW4gYW5kICgtd2Via2l0LW1pbi1kZXZpY2UtcGl4ZWwtcmF0aW86Mil7I2xvZ297YmFja2dyb3VuZDp1cmwoLy93d3cuZ29vZ2xlLmNvbS9pbWFnZXMvbG9nb3MvZXJyb3JwYWdlL2Vycm9yX2xvZ28tMTUweDU0LTJ4LnBuZykgbm8tcmVwZWF0Oy13ZWJraXQtYmFja2dyb3VuZC1zaXplOjEwMCUgMTAwJX19I2xvZ297ZGlzcGxheTppbmxpbmUtYmxvY2s7aGVpZ2h0OjU0cHg7d2lkdGg6MTUwcHh9CiAgPC9zdHlsZT4KICA8YSBocmVmPS8vd3d3Lmdvb2dsZS5jb20vPjxzcGFuIGlkPWxvZ28gYXJpYS1sYWJlbD1Hb29nbGU+PC9zcGFuPjwvYT4KICA8cD48Yj40MDQuPC9iPiA8aW5zPlRoYXTigJlzIGFuIGVycm9yLjwvaW5zPgogIDxwPiAgPGlucz5UaGF04oCZcyBhbGwgd2Uga25vdy48L2lucz4K",
              "ok": false,
              "headers": [
                [
                  "content-length",
                  "1449"
                ],
                [
                  "content-type",
                  "text/html; charset=utf-8"
                ]
              ],
              "status": 404,
              "status_text": ""
            },
            "http://localhost:8080/dataset_students/classification/train_labelled/13.png": {
              "data": "CjwhRE9DVFlQRSBodG1sPgo8aHRtbCBsYW5nPWVuPgogIDxtZXRhIGNoYXJzZXQ9dXRmLTg+CiAgPG1ldGEgbmFtZT12aWV3cG9ydCBjb250ZW50PSJpbml0aWFsLXNjYWxlPTEsIG1pbmltdW0tc2NhbGU9MSwgd2lkdGg9ZGV2aWNlLXdpZHRoIj4KICA8dGl0bGU+RXJyb3IgNDA0IChOb3QgRm91bmQpISExPC90aXRsZT4KICA8c3R5bGU+CiAgICAqe21hcmdpbjowO3BhZGRpbmc6MH1odG1sLGNvZGV7Zm9udDoxNXB4LzIycHggYXJpYWwsc2Fucy1zZXJpZn1odG1se2JhY2tncm91bmQ6I2ZmZjtjb2xvcjojMjIyO3BhZGRpbmc6MTVweH1ib2R5e21hcmdpbjo3JSBhdXRvIDA7bWF4LXdpZHRoOjM5MHB4O21pbi1oZWlnaHQ6MTgwcHg7cGFkZGluZzozMHB4IDAgMTVweH0qID4gYm9keXtiYWNrZ3JvdW5kOnVybCgvL3d3dy5nb29nbGUuY29tL2ltYWdlcy9lcnJvcnMvcm9ib3QucG5nKSAxMDAlIDVweCBuby1yZXBlYXQ7cGFkZGluZy1yaWdodDoyMDVweH1we21hcmdpbjoxMXB4IDAgMjJweDtvdmVyZmxvdzpoaWRkZW59aW5ze2NvbG9yOiM3Nzc7dGV4dC1kZWNvcmF0aW9uOm5vbmV9YSBpbWd7Ym9yZGVyOjB9QG1lZGlhIHNjcmVlbiBhbmQgKG1heC13aWR0aDo3NzJweCl7Ym9keXtiYWNrZ3JvdW5kOm5vbmU7bWFyZ2luLXRvcDowO21heC13aWR0aDpub25lO3BhZGRpbmctcmlnaHQ6MH19I2xvZ297YmFja2dyb3VuZDp1cmwoLy93d3cuZ29vZ2xlLmNvbS9pbWFnZXMvbG9nb3MvZXJyb3JwYWdlL2Vycm9yX2xvZ28tMTUweDU0LnBuZykgbm8tcmVwZWF0O21hcmdpbi1sZWZ0Oi01cHh9QG1lZGlhIG9ubHkgc2NyZWVuIGFuZCAobWluLXJlc29sdXRpb246MTkyZHBpKXsjbG9nb3tiYWNrZ3JvdW5kOnVybCgvL3d3dy5nb29nbGUuY29tL2ltYWdlcy9sb2dvcy9lcnJvcnBhZ2UvZXJyb3JfbG9nby0xNTB4NTQtMngucG5nKSBuby1yZXBlYXQgMCUgMCUvMTAwJSAxMDAlOy1tb3otYm9yZGVyLWltYWdlOnVybCgvL3d3dy5nb29nbGUuY29tL2ltYWdlcy9sb2dvcy9lcnJvcnBhZ2UvZXJyb3JfbG9nby0xNTB4NTQtMngucG5nKSAwfX1AbWVkaWEgb25seSBzY3JlZW4gYW5kICgtd2Via2l0LW1pbi1kZXZpY2UtcGl4ZWwtcmF0aW86Mil7I2xvZ297YmFja2dyb3VuZDp1cmwoLy93d3cuZ29vZ2xlLmNvbS9pbWFnZXMvbG9nb3MvZXJyb3JwYWdlL2Vycm9yX2xvZ28tMTUweDU0LTJ4LnBuZykgbm8tcmVwZWF0Oy13ZWJraXQtYmFja2dyb3VuZC1zaXplOjEwMCUgMTAwJX19I2xvZ297ZGlzcGxheTppbmxpbmUtYmxvY2s7aGVpZ2h0OjU0cHg7d2lkdGg6MTUwcHh9CiAgPC9zdHlsZT4KICA8YSBocmVmPS8vd3d3Lmdvb2dsZS5jb20vPjxzcGFuIGlkPWxvZ28gYXJpYS1sYWJlbD1Hb29nbGU+PC9zcGFuPjwvYT4KICA8cD48Yj40MDQuPC9iPiA8aW5zPlRoYXTigJlzIGFuIGVycm9yLjwvaW5zPgogIDxwPiAgPGlucz5UaGF04oCZcyBhbGwgd2Uga25vdy48L2lucz4K",
              "ok": false,
              "headers": [
                [
                  "content-length",
                  "1449"
                ],
                [
                  "content-type",
                  "text/html; charset=utf-8"
                ]
              ],
              "status": 404,
              "status_text": ""
            },
            "http://localhost:8080/dataset_students/classification/train_labelled/193.png": {
              "data": "CjwhRE9DVFlQRSBodG1sPgo8aHRtbCBsYW5nPWVuPgogIDxtZXRhIGNoYXJzZXQ9dXRmLTg+CiAgPG1ldGEgbmFtZT12aWV3cG9ydCBjb250ZW50PSJpbml0aWFsLXNjYWxlPTEsIG1pbmltdW0tc2NhbGU9MSwgd2lkdGg9ZGV2aWNlLXdpZHRoIj4KICA8dGl0bGU+RXJyb3IgNDA0IChOb3QgRm91bmQpISExPC90aXRsZT4KICA8c3R5bGU+CiAgICAqe21hcmdpbjowO3BhZGRpbmc6MH1odG1sLGNvZGV7Zm9udDoxNXB4LzIycHggYXJpYWwsc2Fucy1zZXJpZn1odG1se2JhY2tncm91bmQ6I2ZmZjtjb2xvcjojMjIyO3BhZGRpbmc6MTVweH1ib2R5e21hcmdpbjo3JSBhdXRvIDA7bWF4LXdpZHRoOjM5MHB4O21pbi1oZWlnaHQ6MTgwcHg7cGFkZGluZzozMHB4IDAgMTVweH0qID4gYm9keXtiYWNrZ3JvdW5kOnVybCgvL3d3dy5nb29nbGUuY29tL2ltYWdlcy9lcnJvcnMvcm9ib3QucG5nKSAxMDAlIDVweCBuby1yZXBlYXQ7cGFkZGluZy1yaWdodDoyMDVweH1we21hcmdpbjoxMXB4IDAgMjJweDtvdmVyZmxvdzpoaWRkZW59aW5ze2NvbG9yOiM3Nzc7dGV4dC1kZWNvcmF0aW9uOm5vbmV9YSBpbWd7Ym9yZGVyOjB9QG1lZGlhIHNjcmVlbiBhbmQgKG1heC13aWR0aDo3NzJweCl7Ym9keXtiYWNrZ3JvdW5kOm5vbmU7bWFyZ2luLXRvcDowO21heC13aWR0aDpub25lO3BhZGRpbmctcmlnaHQ6MH19I2xvZ297YmFja2dyb3VuZDp1cmwoLy93d3cuZ29vZ2xlLmNvbS9pbWFnZXMvbG9nb3MvZXJyb3JwYWdlL2Vycm9yX2xvZ28tMTUweDU0LnBuZykgbm8tcmVwZWF0O21hcmdpbi1sZWZ0Oi01cHh9QG1lZGlhIG9ubHkgc2NyZWVuIGFuZCAobWluLXJlc29sdXRpb246MTkyZHBpKXsjbG9nb3tiYWNrZ3JvdW5kOnVybCgvL3d3dy5nb29nbGUuY29tL2ltYWdlcy9sb2dvcy9lcnJvcnBhZ2UvZXJyb3JfbG9nby0xNTB4NTQtMngucG5nKSBuby1yZXBlYXQgMCUgMCUvMTAwJSAxMDAlOy1tb3otYm9yZGVyLWltYWdlOnVybCgvL3d3dy5nb29nbGUuY29tL2ltYWdlcy9sb2dvcy9lcnJvcnBhZ2UvZXJyb3JfbG9nby0xNTB4NTQtMngucG5nKSAwfX1AbWVkaWEgb25seSBzY3JlZW4gYW5kICgtd2Via2l0LW1pbi1kZXZpY2UtcGl4ZWwtcmF0aW86Mil7I2xvZ297YmFja2dyb3VuZDp1cmwoLy93d3cuZ29vZ2xlLmNvbS9pbWFnZXMvbG9nb3MvZXJyb3JwYWdlL2Vycm9yX2xvZ28tMTUweDU0LTJ4LnBuZykgbm8tcmVwZWF0Oy13ZWJraXQtYmFja2dyb3VuZC1zaXplOjEwMCUgMTAwJX19I2xvZ297ZGlzcGxheTppbmxpbmUtYmxvY2s7aGVpZ2h0OjU0cHg7d2lkdGg6MTUwcHh9CiAgPC9zdHlsZT4KICA8YSBocmVmPS8vd3d3Lmdvb2dsZS5jb20vPjxzcGFuIGlkPWxvZ28gYXJpYS1sYWJlbD1Hb29nbGU+PC9zcGFuPjwvYT4KICA8cD48Yj40MDQuPC9iPiA8aW5zPlRoYXTigJlzIGFuIGVycm9yLjwvaW5zPgogIDxwPiAgPGlucz5UaGF04oCZcyBhbGwgd2Uga25vdy48L2lucz4K",
              "ok": false,
              "headers": [
                [
                  "content-length",
                  "1449"
                ],
                [
                  "content-type",
                  "text/html; charset=utf-8"
                ]
              ],
              "status": 404,
              "status_text": ""
            },
            "http://localhost:8080/dataset_students/classification/train_labelled/17.png": {
              "data": "CjwhRE9DVFlQRSBodG1sPgo8aHRtbCBsYW5nPWVuPgogIDxtZXRhIGNoYXJzZXQ9dXRmLTg+CiAgPG1ldGEgbmFtZT12aWV3cG9ydCBjb250ZW50PSJpbml0aWFsLXNjYWxlPTEsIG1pbmltdW0tc2NhbGU9MSwgd2lkdGg9ZGV2aWNlLXdpZHRoIj4KICA8dGl0bGU+RXJyb3IgNDA0IChOb3QgRm91bmQpISExPC90aXRsZT4KICA8c3R5bGU+CiAgICAqe21hcmdpbjowO3BhZGRpbmc6MH1odG1sLGNvZGV7Zm9udDoxNXB4LzIycHggYXJpYWwsc2Fucy1zZXJpZn1odG1se2JhY2tncm91bmQ6I2ZmZjtjb2xvcjojMjIyO3BhZGRpbmc6MTVweH1ib2R5e21hcmdpbjo3JSBhdXRvIDA7bWF4LXdpZHRoOjM5MHB4O21pbi1oZWlnaHQ6MTgwcHg7cGFkZGluZzozMHB4IDAgMTVweH0qID4gYm9keXtiYWNrZ3JvdW5kOnVybCgvL3d3dy5nb29nbGUuY29tL2ltYWdlcy9lcnJvcnMvcm9ib3QucG5nKSAxMDAlIDVweCBuby1yZXBlYXQ7cGFkZGluZy1yaWdodDoyMDVweH1we21hcmdpbjoxMXB4IDAgMjJweDtvdmVyZmxvdzpoaWRkZW59aW5ze2NvbG9yOiM3Nzc7dGV4dC1kZWNvcmF0aW9uOm5vbmV9YSBpbWd7Ym9yZGVyOjB9QG1lZGlhIHNjcmVlbiBhbmQgKG1heC13aWR0aDo3NzJweCl7Ym9keXtiYWNrZ3JvdW5kOm5vbmU7bWFyZ2luLXRvcDowO21heC13aWR0aDpub25lO3BhZGRpbmctcmlnaHQ6MH19I2xvZ297YmFja2dyb3VuZDp1cmwoLy93d3cuZ29vZ2xlLmNvbS9pbWFnZXMvbG9nb3MvZXJyb3JwYWdlL2Vycm9yX2xvZ28tMTUweDU0LnBuZykgbm8tcmVwZWF0O21hcmdpbi1sZWZ0Oi01cHh9QG1lZGlhIG9ubHkgc2NyZWVuIGFuZCAobWluLXJlc29sdXRpb246MTkyZHBpKXsjbG9nb3tiYWNrZ3JvdW5kOnVybCgvL3d3dy5nb29nbGUuY29tL2ltYWdlcy9sb2dvcy9lcnJvcnBhZ2UvZXJyb3JfbG9nby0xNTB4NTQtMngucG5nKSBuby1yZXBlYXQgMCUgMCUvMTAwJSAxMDAlOy1tb3otYm9yZGVyLWltYWdlOnVybCgvL3d3dy5nb29nbGUuY29tL2ltYWdlcy9sb2dvcy9lcnJvcnBhZ2UvZXJyb3JfbG9nby0xNTB4NTQtMngucG5nKSAwfX1AbWVkaWEgb25seSBzY3JlZW4gYW5kICgtd2Via2l0LW1pbi1kZXZpY2UtcGl4ZWwtcmF0aW86Mil7I2xvZ297YmFja2dyb3VuZDp1cmwoLy93d3cuZ29vZ2xlLmNvbS9pbWFnZXMvbG9nb3MvZXJyb3JwYWdlL2Vycm9yX2xvZ28tMTUweDU0LTJ4LnBuZykgbm8tcmVwZWF0Oy13ZWJraXQtYmFja2dyb3VuZC1zaXplOjEwMCUgMTAwJX19I2xvZ297ZGlzcGxheTppbmxpbmUtYmxvY2s7aGVpZ2h0OjU0cHg7d2lkdGg6MTUwcHh9CiAgPC9zdHlsZT4KICA8YSBocmVmPS8vd3d3Lmdvb2dsZS5jb20vPjxzcGFuIGlkPWxvZ28gYXJpYS1sYWJlbD1Hb29nbGU+PC9zcGFuPjwvYT4KICA8cD48Yj40MDQuPC9iPiA8aW5zPlRoYXTigJlzIGFuIGVycm9yLjwvaW5zPgogIDxwPiAgPGlucz5UaGF04oCZcyBhbGwgd2Uga25vdy48L2lucz4K",
              "ok": false,
              "headers": [
                [
                  "content-length",
                  "1449"
                ],
                [
                  "content-type",
                  "text/html; charset=utf-8"
                ]
              ],
              "status": 404,
              "status_text": ""
            },
            "http://localhost:8080/dataset_students/classification/train_labelled/136.png": {
              "data": "CjwhRE9DVFlQRSBodG1sPgo8aHRtbCBsYW5nPWVuPgogIDxtZXRhIGNoYXJzZXQ9dXRmLTg+CiAgPG1ldGEgbmFtZT12aWV3cG9ydCBjb250ZW50PSJpbml0aWFsLXNjYWxlPTEsIG1pbmltdW0tc2NhbGU9MSwgd2lkdGg9ZGV2aWNlLXdpZHRoIj4KICA8dGl0bGU+RXJyb3IgNDA0IChOb3QgRm91bmQpISExPC90aXRsZT4KICA8c3R5bGU+CiAgICAqe21hcmdpbjowO3BhZGRpbmc6MH1odG1sLGNvZGV7Zm9udDoxNXB4LzIycHggYXJpYWwsc2Fucy1zZXJpZn1odG1se2JhY2tncm91bmQ6I2ZmZjtjb2xvcjojMjIyO3BhZGRpbmc6MTVweH1ib2R5e21hcmdpbjo3JSBhdXRvIDA7bWF4LXdpZHRoOjM5MHB4O21pbi1oZWlnaHQ6MTgwcHg7cGFkZGluZzozMHB4IDAgMTVweH0qID4gYm9keXtiYWNrZ3JvdW5kOnVybCgvL3d3dy5nb29nbGUuY29tL2ltYWdlcy9lcnJvcnMvcm9ib3QucG5nKSAxMDAlIDVweCBuby1yZXBlYXQ7cGFkZGluZy1yaWdodDoyMDVweH1we21hcmdpbjoxMXB4IDAgMjJweDtvdmVyZmxvdzpoaWRkZW59aW5ze2NvbG9yOiM3Nzc7dGV4dC1kZWNvcmF0aW9uOm5vbmV9YSBpbWd7Ym9yZGVyOjB9QG1lZGlhIHNjcmVlbiBhbmQgKG1heC13aWR0aDo3NzJweCl7Ym9keXtiYWNrZ3JvdW5kOm5vbmU7bWFyZ2luLXRvcDowO21heC13aWR0aDpub25lO3BhZGRpbmctcmlnaHQ6MH19I2xvZ297YmFja2dyb3VuZDp1cmwoLy93d3cuZ29vZ2xlLmNvbS9pbWFnZXMvbG9nb3MvZXJyb3JwYWdlL2Vycm9yX2xvZ28tMTUweDU0LnBuZykgbm8tcmVwZWF0O21hcmdpbi1sZWZ0Oi01cHh9QG1lZGlhIG9ubHkgc2NyZWVuIGFuZCAobWluLXJlc29sdXRpb246MTkyZHBpKXsjbG9nb3tiYWNrZ3JvdW5kOnVybCgvL3d3dy5nb29nbGUuY29tL2ltYWdlcy9sb2dvcy9lcnJvcnBhZ2UvZXJyb3JfbG9nby0xNTB4NTQtMngucG5nKSBuby1yZXBlYXQgMCUgMCUvMTAwJSAxMDAlOy1tb3otYm9yZGVyLWltYWdlOnVybCgvL3d3dy5nb29nbGUuY29tL2ltYWdlcy9sb2dvcy9lcnJvcnBhZ2UvZXJyb3JfbG9nby0xNTB4NTQtMngucG5nKSAwfX1AbWVkaWEgb25seSBzY3JlZW4gYW5kICgtd2Via2l0LW1pbi1kZXZpY2UtcGl4ZWwtcmF0aW86Mil7I2xvZ297YmFja2dyb3VuZDp1cmwoLy93d3cuZ29vZ2xlLmNvbS9pbWFnZXMvbG9nb3MvZXJyb3JwYWdlL2Vycm9yX2xvZ28tMTUweDU0LTJ4LnBuZykgbm8tcmVwZWF0Oy13ZWJraXQtYmFja2dyb3VuZC1zaXplOjEwMCUgMTAwJX19I2xvZ297ZGlzcGxheTppbmxpbmUtYmxvY2s7aGVpZ2h0OjU0cHg7d2lkdGg6MTUwcHh9CiAgPC9zdHlsZT4KICA8YSBocmVmPS8vd3d3Lmdvb2dsZS5jb20vPjxzcGFuIGlkPWxvZ28gYXJpYS1sYWJlbD1Hb29nbGU+PC9zcGFuPjwvYT4KICA8cD48Yj40MDQuPC9iPiA8aW5zPlRoYXTigJlzIGFuIGVycm9yLjwvaW5zPgogIDxwPiAgPGlucz5UaGF04oCZcyBhbGwgd2Uga25vdy48L2lucz4K",
              "ok": false,
              "headers": [
                [
                  "content-length",
                  "1449"
                ],
                [
                  "content-type",
                  "text/html; charset=utf-8"
                ]
              ],
              "status": 404,
              "status_text": ""
            },
            "http://localhost:8080/dataset_students/classification/train_unlabelled/1262.png": {
              "data": "CjwhRE9DVFlQRSBodG1sPgo8aHRtbCBsYW5nPWVuPgogIDxtZXRhIGNoYXJzZXQ9dXRmLTg+CiAgPG1ldGEgbmFtZT12aWV3cG9ydCBjb250ZW50PSJpbml0aWFsLXNjYWxlPTEsIG1pbmltdW0tc2NhbGU9MSwgd2lkdGg9ZGV2aWNlLXdpZHRoIj4KICA8dGl0bGU+RXJyb3IgNDA0IChOb3QgRm91bmQpISExPC90aXRsZT4KICA8c3R5bGU+CiAgICAqe21hcmdpbjowO3BhZGRpbmc6MH1odG1sLGNvZGV7Zm9udDoxNXB4LzIycHggYXJpYWwsc2Fucy1zZXJpZn1odG1se2JhY2tncm91bmQ6I2ZmZjtjb2xvcjojMjIyO3BhZGRpbmc6MTVweH1ib2R5e21hcmdpbjo3JSBhdXRvIDA7bWF4LXdpZHRoOjM5MHB4O21pbi1oZWlnaHQ6MTgwcHg7cGFkZGluZzozMHB4IDAgMTVweH0qID4gYm9keXtiYWNrZ3JvdW5kOnVybCgvL3d3dy5nb29nbGUuY29tL2ltYWdlcy9lcnJvcnMvcm9ib3QucG5nKSAxMDAlIDVweCBuby1yZXBlYXQ7cGFkZGluZy1yaWdodDoyMDVweH1we21hcmdpbjoxMXB4IDAgMjJweDtvdmVyZmxvdzpoaWRkZW59aW5ze2NvbG9yOiM3Nzc7dGV4dC1kZWNvcmF0aW9uOm5vbmV9YSBpbWd7Ym9yZGVyOjB9QG1lZGlhIHNjcmVlbiBhbmQgKG1heC13aWR0aDo3NzJweCl7Ym9keXtiYWNrZ3JvdW5kOm5vbmU7bWFyZ2luLXRvcDowO21heC13aWR0aDpub25lO3BhZGRpbmctcmlnaHQ6MH19I2xvZ297YmFja2dyb3VuZDp1cmwoLy93d3cuZ29vZ2xlLmNvbS9pbWFnZXMvbG9nb3MvZXJyb3JwYWdlL2Vycm9yX2xvZ28tMTUweDU0LnBuZykgbm8tcmVwZWF0O21hcmdpbi1sZWZ0Oi01cHh9QG1lZGlhIG9ubHkgc2NyZWVuIGFuZCAobWluLXJlc29sdXRpb246MTkyZHBpKXsjbG9nb3tiYWNrZ3JvdW5kOnVybCgvL3d3dy5nb29nbGUuY29tL2ltYWdlcy9sb2dvcy9lcnJvcnBhZ2UvZXJyb3JfbG9nby0xNTB4NTQtMngucG5nKSBuby1yZXBlYXQgMCUgMCUvMTAwJSAxMDAlOy1tb3otYm9yZGVyLWltYWdlOnVybCgvL3d3dy5nb29nbGUuY29tL2ltYWdlcy9sb2dvcy9lcnJvcnBhZ2UvZXJyb3JfbG9nby0xNTB4NTQtMngucG5nKSAwfX1AbWVkaWEgb25seSBzY3JlZW4gYW5kICgtd2Via2l0LW1pbi1kZXZpY2UtcGl4ZWwtcmF0aW86Mil7I2xvZ297YmFja2dyb3VuZDp1cmwoLy93d3cuZ29vZ2xlLmNvbS9pbWFnZXMvbG9nb3MvZXJyb3JwYWdlL2Vycm9yX2xvZ28tMTUweDU0LTJ4LnBuZykgbm8tcmVwZWF0Oy13ZWJraXQtYmFja2dyb3VuZC1zaXplOjEwMCUgMTAwJX19I2xvZ297ZGlzcGxheTppbmxpbmUtYmxvY2s7aGVpZ2h0OjU0cHg7d2lkdGg6MTUwcHh9CiAgPC9zdHlsZT4KICA8YSBocmVmPS8vd3d3Lmdvb2dsZS5jb20vPjxzcGFuIGlkPWxvZ28gYXJpYS1sYWJlbD1Hb29nbGU+PC9zcGFuPjwvYT4KICA8cD48Yj40MDQuPC9iPiA8aW5zPlRoYXTigJlzIGFuIGVycm9yLjwvaW5zPgogIDxwPiAgPGlucz5UaGF04oCZcyBhbGwgd2Uga25vdy48L2lucz4K",
              "ok": false,
              "headers": [
                [
                  "content-length",
                  "1449"
                ],
                [
                  "content-type",
                  "text/html; charset=utf-8"
                ]
              ],
              "status": 404,
              "status_text": ""
            },
            "http://localhost:8080/dataset_students/classification/train_unlabelled/602.png": {
              "data": "CjwhRE9DVFlQRSBodG1sPgo8aHRtbCBsYW5nPWVuPgogIDxtZXRhIGNoYXJzZXQ9dXRmLTg+CiAgPG1ldGEgbmFtZT12aWV3cG9ydCBjb250ZW50PSJpbml0aWFsLXNjYWxlPTEsIG1pbmltdW0tc2NhbGU9MSwgd2lkdGg9ZGV2aWNlLXdpZHRoIj4KICA8dGl0bGU+RXJyb3IgNDA0IChOb3QgRm91bmQpISExPC90aXRsZT4KICA8c3R5bGU+CiAgICAqe21hcmdpbjowO3BhZGRpbmc6MH1odG1sLGNvZGV7Zm9udDoxNXB4LzIycHggYXJpYWwsc2Fucy1zZXJpZn1odG1se2JhY2tncm91bmQ6I2ZmZjtjb2xvcjojMjIyO3BhZGRpbmc6MTVweH1ib2R5e21hcmdpbjo3JSBhdXRvIDA7bWF4LXdpZHRoOjM5MHB4O21pbi1oZWlnaHQ6MTgwcHg7cGFkZGluZzozMHB4IDAgMTVweH0qID4gYm9keXtiYWNrZ3JvdW5kOnVybCgvL3d3dy5nb29nbGUuY29tL2ltYWdlcy9lcnJvcnMvcm9ib3QucG5nKSAxMDAlIDVweCBuby1yZXBlYXQ7cGFkZGluZy1yaWdodDoyMDVweH1we21hcmdpbjoxMXB4IDAgMjJweDtvdmVyZmxvdzpoaWRkZW59aW5ze2NvbG9yOiM3Nzc7dGV4dC1kZWNvcmF0aW9uOm5vbmV9YSBpbWd7Ym9yZGVyOjB9QG1lZGlhIHNjcmVlbiBhbmQgKG1heC13aWR0aDo3NzJweCl7Ym9keXtiYWNrZ3JvdW5kOm5vbmU7bWFyZ2luLXRvcDowO21heC13aWR0aDpub25lO3BhZGRpbmctcmlnaHQ6MH19I2xvZ297YmFja2dyb3VuZDp1cmwoLy93d3cuZ29vZ2xlLmNvbS9pbWFnZXMvbG9nb3MvZXJyb3JwYWdlL2Vycm9yX2xvZ28tMTUweDU0LnBuZykgbm8tcmVwZWF0O21hcmdpbi1sZWZ0Oi01cHh9QG1lZGlhIG9ubHkgc2NyZWVuIGFuZCAobWluLXJlc29sdXRpb246MTkyZHBpKXsjbG9nb3tiYWNrZ3JvdW5kOnVybCgvL3d3dy5nb29nbGUuY29tL2ltYWdlcy9sb2dvcy9lcnJvcnBhZ2UvZXJyb3JfbG9nby0xNTB4NTQtMngucG5nKSBuby1yZXBlYXQgMCUgMCUvMTAwJSAxMDAlOy1tb3otYm9yZGVyLWltYWdlOnVybCgvL3d3dy5nb29nbGUuY29tL2ltYWdlcy9sb2dvcy9lcnJvcnBhZ2UvZXJyb3JfbG9nby0xNTB4NTQtMngucG5nKSAwfX1AbWVkaWEgb25seSBzY3JlZW4gYW5kICgtd2Via2l0LW1pbi1kZXZpY2UtcGl4ZWwtcmF0aW86Mil7I2xvZ297YmFja2dyb3VuZDp1cmwoLy93d3cuZ29vZ2xlLmNvbS9pbWFnZXMvbG9nb3MvZXJyb3JwYWdlL2Vycm9yX2xvZ28tMTUweDU0LTJ4LnBuZykgbm8tcmVwZWF0Oy13ZWJraXQtYmFja2dyb3VuZC1zaXplOjEwMCUgMTAwJX19I2xvZ297ZGlzcGxheTppbmxpbmUtYmxvY2s7aGVpZ2h0OjU0cHg7d2lkdGg6MTUwcHh9CiAgPC9zdHlsZT4KICA8YSBocmVmPS8vd3d3Lmdvb2dsZS5jb20vPjxzcGFuIGlkPWxvZ28gYXJpYS1sYWJlbD1Hb29nbGU+PC9zcGFuPjwvYT4KICA8cD48Yj40MDQuPC9iPiA8aW5zPlRoYXTigJlzIGFuIGVycm9yLjwvaW5zPgogIDxwPiAgPGlucz5UaGF04oCZcyBhbGwgd2Uga25vdy48L2lucz4K",
              "ok": false,
              "headers": [
                [
                  "content-length",
                  "1449"
                ],
                [
                  "content-type",
                  "text/html; charset=utf-8"
                ]
              ],
              "status": 404,
              "status_text": ""
            },
            "http://localhost:8080/dataset_students/classification/train_unlabelled/776.png": {
              "data": "CjwhRE9DVFlQRSBodG1sPgo8aHRtbCBsYW5nPWVuPgogIDxtZXRhIGNoYXJzZXQ9dXRmLTg+CiAgPG1ldGEgbmFtZT12aWV3cG9ydCBjb250ZW50PSJpbml0aWFsLXNjYWxlPTEsIG1pbmltdW0tc2NhbGU9MSwgd2lkdGg9ZGV2aWNlLXdpZHRoIj4KICA8dGl0bGU+RXJyb3IgNDA0IChOb3QgRm91bmQpISExPC90aXRsZT4KICA8c3R5bGU+CiAgICAqe21hcmdpbjowO3BhZGRpbmc6MH1odG1sLGNvZGV7Zm9udDoxNXB4LzIycHggYXJpYWwsc2Fucy1zZXJpZn1odG1se2JhY2tncm91bmQ6I2ZmZjtjb2xvcjojMjIyO3BhZGRpbmc6MTVweH1ib2R5e21hcmdpbjo3JSBhdXRvIDA7bWF4LXdpZHRoOjM5MHB4O21pbi1oZWlnaHQ6MTgwcHg7cGFkZGluZzozMHB4IDAgMTVweH0qID4gYm9keXtiYWNrZ3JvdW5kOnVybCgvL3d3dy5nb29nbGUuY29tL2ltYWdlcy9lcnJvcnMvcm9ib3QucG5nKSAxMDAlIDVweCBuby1yZXBlYXQ7cGFkZGluZy1yaWdodDoyMDVweH1we21hcmdpbjoxMXB4IDAgMjJweDtvdmVyZmxvdzpoaWRkZW59aW5ze2NvbG9yOiM3Nzc7dGV4dC1kZWNvcmF0aW9uOm5vbmV9YSBpbWd7Ym9yZGVyOjB9QG1lZGlhIHNjcmVlbiBhbmQgKG1heC13aWR0aDo3NzJweCl7Ym9keXtiYWNrZ3JvdW5kOm5vbmU7bWFyZ2luLXRvcDowO21heC13aWR0aDpub25lO3BhZGRpbmctcmlnaHQ6MH19I2xvZ297YmFja2dyb3VuZDp1cmwoLy93d3cuZ29vZ2xlLmNvbS9pbWFnZXMvbG9nb3MvZXJyb3JwYWdlL2Vycm9yX2xvZ28tMTUweDU0LnBuZykgbm8tcmVwZWF0O21hcmdpbi1sZWZ0Oi01cHh9QG1lZGlhIG9ubHkgc2NyZWVuIGFuZCAobWluLXJlc29sdXRpb246MTkyZHBpKXsjbG9nb3tiYWNrZ3JvdW5kOnVybCgvL3d3dy5nb29nbGUuY29tL2ltYWdlcy9sb2dvcy9lcnJvcnBhZ2UvZXJyb3JfbG9nby0xNTB4NTQtMngucG5nKSBuby1yZXBlYXQgMCUgMCUvMTAwJSAxMDAlOy1tb3otYm9yZGVyLWltYWdlOnVybCgvL3d3dy5nb29nbGUuY29tL2ltYWdlcy9sb2dvcy9lcnJvcnBhZ2UvZXJyb3JfbG9nby0xNTB4NTQtMngucG5nKSAwfX1AbWVkaWEgb25seSBzY3JlZW4gYW5kICgtd2Via2l0LW1pbi1kZXZpY2UtcGl4ZWwtcmF0aW86Mil7I2xvZ297YmFja2dyb3VuZDp1cmwoLy93d3cuZ29vZ2xlLmNvbS9pbWFnZXMvbG9nb3MvZXJyb3JwYWdlL2Vycm9yX2xvZ28tMTUweDU0LTJ4LnBuZykgbm8tcmVwZWF0Oy13ZWJraXQtYmFja2dyb3VuZC1zaXplOjEwMCUgMTAwJX19I2xvZ297ZGlzcGxheTppbmxpbmUtYmxvY2s7aGVpZ2h0OjU0cHg7d2lkdGg6MTUwcHh9CiAgPC9zdHlsZT4KICA8YSBocmVmPS8vd3d3Lmdvb2dsZS5jb20vPjxzcGFuIGlkPWxvZ28gYXJpYS1sYWJlbD1Hb29nbGU+PC9zcGFuPjwvYT4KICA8cD48Yj40MDQuPC9iPiA8aW5zPlRoYXTigJlzIGFuIGVycm9yLjwvaW5zPgogIDxwPiAgPGlucz5UaGF04oCZcyBhbGwgd2Uga25vdy48L2lucz4K",
              "ok": false,
              "headers": [
                [
                  "content-length",
                  "1449"
                ],
                [
                  "content-type",
                  "text/html; charset=utf-8"
                ]
              ],
              "status": 404,
              "status_text": ""
            },
            "http://localhost:8080/dataset_students/classification/train_unlabelled/1586.png": {
              "data": "CjwhRE9DVFlQRSBodG1sPgo8aHRtbCBsYW5nPWVuPgogIDxtZXRhIGNoYXJzZXQ9dXRmLTg+CiAgPG1ldGEgbmFtZT12aWV3cG9ydCBjb250ZW50PSJpbml0aWFsLXNjYWxlPTEsIG1pbmltdW0tc2NhbGU9MSwgd2lkdGg9ZGV2aWNlLXdpZHRoIj4KICA8dGl0bGU+RXJyb3IgNDA0IChOb3QgRm91bmQpISExPC90aXRsZT4KICA8c3R5bGU+CiAgICAqe21hcmdpbjowO3BhZGRpbmc6MH1odG1sLGNvZGV7Zm9udDoxNXB4LzIycHggYXJpYWwsc2Fucy1zZXJpZn1odG1se2JhY2tncm91bmQ6I2ZmZjtjb2xvcjojMjIyO3BhZGRpbmc6MTVweH1ib2R5e21hcmdpbjo3JSBhdXRvIDA7bWF4LXdpZHRoOjM5MHB4O21pbi1oZWlnaHQ6MTgwcHg7cGFkZGluZzozMHB4IDAgMTVweH0qID4gYm9keXtiYWNrZ3JvdW5kOnVybCgvL3d3dy5nb29nbGUuY29tL2ltYWdlcy9lcnJvcnMvcm9ib3QucG5nKSAxMDAlIDVweCBuby1yZXBlYXQ7cGFkZGluZy1yaWdodDoyMDVweH1we21hcmdpbjoxMXB4IDAgMjJweDtvdmVyZmxvdzpoaWRkZW59aW5ze2NvbG9yOiM3Nzc7dGV4dC1kZWNvcmF0aW9uOm5vbmV9YSBpbWd7Ym9yZGVyOjB9QG1lZGlhIHNjcmVlbiBhbmQgKG1heC13aWR0aDo3NzJweCl7Ym9keXtiYWNrZ3JvdW5kOm5vbmU7bWFyZ2luLXRvcDowO21heC13aWR0aDpub25lO3BhZGRpbmctcmlnaHQ6MH19I2xvZ297YmFja2dyb3VuZDp1cmwoLy93d3cuZ29vZ2xlLmNvbS9pbWFnZXMvbG9nb3MvZXJyb3JwYWdlL2Vycm9yX2xvZ28tMTUweDU0LnBuZykgbm8tcmVwZWF0O21hcmdpbi1sZWZ0Oi01cHh9QG1lZGlhIG9ubHkgc2NyZWVuIGFuZCAobWluLXJlc29sdXRpb246MTkyZHBpKXsjbG9nb3tiYWNrZ3JvdW5kOnVybCgvL3d3dy5nb29nbGUuY29tL2ltYWdlcy9sb2dvcy9lcnJvcnBhZ2UvZXJyb3JfbG9nby0xNTB4NTQtMngucG5nKSBuby1yZXBlYXQgMCUgMCUvMTAwJSAxMDAlOy1tb3otYm9yZGVyLWltYWdlOnVybCgvL3d3dy5nb29nbGUuY29tL2ltYWdlcy9sb2dvcy9lcnJvcnBhZ2UvZXJyb3JfbG9nby0xNTB4NTQtMngucG5nKSAwfX1AbWVkaWEgb25seSBzY3JlZW4gYW5kICgtd2Via2l0LW1pbi1kZXZpY2UtcGl4ZWwtcmF0aW86Mil7I2xvZ297YmFja2dyb3VuZDp1cmwoLy93d3cuZ29vZ2xlLmNvbS9pbWFnZXMvbG9nb3MvZXJyb3JwYWdlL2Vycm9yX2xvZ28tMTUweDU0LTJ4LnBuZykgbm8tcmVwZWF0Oy13ZWJraXQtYmFja2dyb3VuZC1zaXplOjEwMCUgMTAwJX19I2xvZ297ZGlzcGxheTppbmxpbmUtYmxvY2s7aGVpZ2h0OjU0cHg7d2lkdGg6MTUwcHh9CiAgPC9zdHlsZT4KICA8YSBocmVmPS8vd3d3Lmdvb2dsZS5jb20vPjxzcGFuIGlkPWxvZ28gYXJpYS1sYWJlbD1Hb29nbGU+PC9zcGFuPjwvYT4KICA8cD48Yj40MDQuPC9iPiA8aW5zPlRoYXTigJlzIGFuIGVycm9yLjwvaW5zPgogIDxwPiAgPGlucz5UaGF04oCZcyBhbGwgd2Uga25vdy48L2lucz4K",
              "ok": false,
              "headers": [
                [
                  "content-length",
                  "1449"
                ],
                [
                  "content-type",
                  "text/html; charset=utf-8"
                ]
              ],
              "status": 404,
              "status_text": ""
            },
            "http://localhost:8080/dataset_students/classification/train_labelled/198.png": {
              "data": "CjwhRE9DVFlQRSBodG1sPgo8aHRtbCBsYW5nPWVuPgogIDxtZXRhIGNoYXJzZXQ9dXRmLTg+CiAgPG1ldGEgbmFtZT12aWV3cG9ydCBjb250ZW50PSJpbml0aWFsLXNjYWxlPTEsIG1pbmltdW0tc2NhbGU9MSwgd2lkdGg9ZGV2aWNlLXdpZHRoIj4KICA8dGl0bGU+RXJyb3IgNDA0IChOb3QgRm91bmQpISExPC90aXRsZT4KICA8c3R5bGU+CiAgICAqe21hcmdpbjowO3BhZGRpbmc6MH1odG1sLGNvZGV7Zm9udDoxNXB4LzIycHggYXJpYWwsc2Fucy1zZXJpZn1odG1se2JhY2tncm91bmQ6I2ZmZjtjb2xvcjojMjIyO3BhZGRpbmc6MTVweH1ib2R5e21hcmdpbjo3JSBhdXRvIDA7bWF4LXdpZHRoOjM5MHB4O21pbi1oZWlnaHQ6MTgwcHg7cGFkZGluZzozMHB4IDAgMTVweH0qID4gYm9keXtiYWNrZ3JvdW5kOnVybCgvL3d3dy5nb29nbGUuY29tL2ltYWdlcy9lcnJvcnMvcm9ib3QucG5nKSAxMDAlIDVweCBuby1yZXBlYXQ7cGFkZGluZy1yaWdodDoyMDVweH1we21hcmdpbjoxMXB4IDAgMjJweDtvdmVyZmxvdzpoaWRkZW59aW5ze2NvbG9yOiM3Nzc7dGV4dC1kZWNvcmF0aW9uOm5vbmV9YSBpbWd7Ym9yZGVyOjB9QG1lZGlhIHNjcmVlbiBhbmQgKG1heC13aWR0aDo3NzJweCl7Ym9keXtiYWNrZ3JvdW5kOm5vbmU7bWFyZ2luLXRvcDowO21heC13aWR0aDpub25lO3BhZGRpbmctcmlnaHQ6MH19I2xvZ297YmFja2dyb3VuZDp1cmwoLy93d3cuZ29vZ2xlLmNvbS9pbWFnZXMvbG9nb3MvZXJyb3JwYWdlL2Vycm9yX2xvZ28tMTUweDU0LnBuZykgbm8tcmVwZWF0O21hcmdpbi1sZWZ0Oi01cHh9QG1lZGlhIG9ubHkgc2NyZWVuIGFuZCAobWluLXJlc29sdXRpb246MTkyZHBpKXsjbG9nb3tiYWNrZ3JvdW5kOnVybCgvL3d3dy5nb29nbGUuY29tL2ltYWdlcy9sb2dvcy9lcnJvcnBhZ2UvZXJyb3JfbG9nby0xNTB4NTQtMngucG5nKSBuby1yZXBlYXQgMCUgMCUvMTAwJSAxMDAlOy1tb3otYm9yZGVyLWltYWdlOnVybCgvL3d3dy5nb29nbGUuY29tL2ltYWdlcy9sb2dvcy9lcnJvcnBhZ2UvZXJyb3JfbG9nby0xNTB4NTQtMngucG5nKSAwfX1AbWVkaWEgb25seSBzY3JlZW4gYW5kICgtd2Via2l0LW1pbi1kZXZpY2UtcGl4ZWwtcmF0aW86Mil7I2xvZ297YmFja2dyb3VuZDp1cmwoLy93d3cuZ29vZ2xlLmNvbS9pbWFnZXMvbG9nb3MvZXJyb3JwYWdlL2Vycm9yX2xvZ28tMTUweDU0LTJ4LnBuZykgbm8tcmVwZWF0Oy13ZWJraXQtYmFja2dyb3VuZC1zaXplOjEwMCUgMTAwJX19I2xvZ297ZGlzcGxheTppbmxpbmUtYmxvY2s7aGVpZ2h0OjU0cHg7d2lkdGg6MTUwcHh9CiAgPC9zdHlsZT4KICA8YSBocmVmPS8vd3d3Lmdvb2dsZS5jb20vPjxzcGFuIGlkPWxvZ28gYXJpYS1sYWJlbD1Hb29nbGU+PC9zcGFuPjwvYT4KICA8cD48Yj40MDQuPC9iPiA8aW5zPlRoYXTigJlzIGFuIGVycm9yLjwvaW5zPgogIDxwPiAgPGlucz5UaGF04oCZcyBhbGwgd2Uga25vdy48L2lucz4K",
              "ok": false,
              "headers": [
                [
                  "content-length",
                  "1449"
                ],
                [
                  "content-type",
                  "text/html; charset=utf-8"
                ]
              ],
              "status": 404,
              "status_text": ""
            },
            "http://localhost:8080/dataset_students/classification/train_unlabelled/82.png": {
              "data": "CjwhRE9DVFlQRSBodG1sPgo8aHRtbCBsYW5nPWVuPgogIDxtZXRhIGNoYXJzZXQ9dXRmLTg+CiAgPG1ldGEgbmFtZT12aWV3cG9ydCBjb250ZW50PSJpbml0aWFsLXNjYWxlPTEsIG1pbmltdW0tc2NhbGU9MSwgd2lkdGg9ZGV2aWNlLXdpZHRoIj4KICA8dGl0bGU+RXJyb3IgNDA0IChOb3QgRm91bmQpISExPC90aXRsZT4KICA8c3R5bGU+CiAgICAqe21hcmdpbjowO3BhZGRpbmc6MH1odG1sLGNvZGV7Zm9udDoxNXB4LzIycHggYXJpYWwsc2Fucy1zZXJpZn1odG1se2JhY2tncm91bmQ6I2ZmZjtjb2xvcjojMjIyO3BhZGRpbmc6MTVweH1ib2R5e21hcmdpbjo3JSBhdXRvIDA7bWF4LXdpZHRoOjM5MHB4O21pbi1oZWlnaHQ6MTgwcHg7cGFkZGluZzozMHB4IDAgMTVweH0qID4gYm9keXtiYWNrZ3JvdW5kOnVybCgvL3d3dy5nb29nbGUuY29tL2ltYWdlcy9lcnJvcnMvcm9ib3QucG5nKSAxMDAlIDVweCBuby1yZXBlYXQ7cGFkZGluZy1yaWdodDoyMDVweH1we21hcmdpbjoxMXB4IDAgMjJweDtvdmVyZmxvdzpoaWRkZW59aW5ze2NvbG9yOiM3Nzc7dGV4dC1kZWNvcmF0aW9uOm5vbmV9YSBpbWd7Ym9yZGVyOjB9QG1lZGlhIHNjcmVlbiBhbmQgKG1heC13aWR0aDo3NzJweCl7Ym9keXtiYWNrZ3JvdW5kOm5vbmU7bWFyZ2luLXRvcDowO21heC13aWR0aDpub25lO3BhZGRpbmctcmlnaHQ6MH19I2xvZ297YmFja2dyb3VuZDp1cmwoLy93d3cuZ29vZ2xlLmNvbS9pbWFnZXMvbG9nb3MvZXJyb3JwYWdlL2Vycm9yX2xvZ28tMTUweDU0LnBuZykgbm8tcmVwZWF0O21hcmdpbi1sZWZ0Oi01cHh9QG1lZGlhIG9ubHkgc2NyZWVuIGFuZCAobWluLXJlc29sdXRpb246MTkyZHBpKXsjbG9nb3tiYWNrZ3JvdW5kOnVybCgvL3d3dy5nb29nbGUuY29tL2ltYWdlcy9sb2dvcy9lcnJvcnBhZ2UvZXJyb3JfbG9nby0xNTB4NTQtMngucG5nKSBuby1yZXBlYXQgMCUgMCUvMTAwJSAxMDAlOy1tb3otYm9yZGVyLWltYWdlOnVybCgvL3d3dy5nb29nbGUuY29tL2ltYWdlcy9sb2dvcy9lcnJvcnBhZ2UvZXJyb3JfbG9nby0xNTB4NTQtMngucG5nKSAwfX1AbWVkaWEgb25seSBzY3JlZW4gYW5kICgtd2Via2l0LW1pbi1kZXZpY2UtcGl4ZWwtcmF0aW86Mil7I2xvZ297YmFja2dyb3VuZDp1cmwoLy93d3cuZ29vZ2xlLmNvbS9pbWFnZXMvbG9nb3MvZXJyb3JwYWdlL2Vycm9yX2xvZ28tMTUweDU0LTJ4LnBuZykgbm8tcmVwZWF0Oy13ZWJraXQtYmFja2dyb3VuZC1zaXplOjEwMCUgMTAwJX19I2xvZ297ZGlzcGxheTppbmxpbmUtYmxvY2s7aGVpZ2h0OjU0cHg7d2lkdGg6MTUwcHh9CiAgPC9zdHlsZT4KICA8YSBocmVmPS8vd3d3Lmdvb2dsZS5jb20vPjxzcGFuIGlkPWxvZ28gYXJpYS1sYWJlbD1Hb29nbGU+PC9zcGFuPjwvYT4KICA8cD48Yj40MDQuPC9iPiA8aW5zPlRoYXTigJlzIGFuIGVycm9yLjwvaW5zPgogIDxwPiAgPGlucz5UaGF04oCZcyBhbGwgd2Uga25vdy48L2lucz4K",
              "ok": false,
              "headers": [
                [
                  "content-length",
                  "1449"
                ],
                [
                  "content-type",
                  "text/html; charset=utf-8"
                ]
              ],
              "status": 404,
              "status_text": ""
            },
            "http://localhost:8080/dataset_students/classification/train_unlabelled/1778.png": {
              "data": "CjwhRE9DVFlQRSBodG1sPgo8aHRtbCBsYW5nPWVuPgogIDxtZXRhIGNoYXJzZXQ9dXRmLTg+CiAgPG1ldGEgbmFtZT12aWV3cG9ydCBjb250ZW50PSJpbml0aWFsLXNjYWxlPTEsIG1pbmltdW0tc2NhbGU9MSwgd2lkdGg9ZGV2aWNlLXdpZHRoIj4KICA8dGl0bGU+RXJyb3IgNDA0IChOb3QgRm91bmQpISExPC90aXRsZT4KICA8c3R5bGU+CiAgICAqe21hcmdpbjowO3BhZGRpbmc6MH1odG1sLGNvZGV7Zm9udDoxNXB4LzIycHggYXJpYWwsc2Fucy1zZXJpZn1odG1se2JhY2tncm91bmQ6I2ZmZjtjb2xvcjojMjIyO3BhZGRpbmc6MTVweH1ib2R5e21hcmdpbjo3JSBhdXRvIDA7bWF4LXdpZHRoOjM5MHB4O21pbi1oZWlnaHQ6MTgwcHg7cGFkZGluZzozMHB4IDAgMTVweH0qID4gYm9keXtiYWNrZ3JvdW5kOnVybCgvL3d3dy5nb29nbGUuY29tL2ltYWdlcy9lcnJvcnMvcm9ib3QucG5nKSAxMDAlIDVweCBuby1yZXBlYXQ7cGFkZGluZy1yaWdodDoyMDVweH1we21hcmdpbjoxMXB4IDAgMjJweDtvdmVyZmxvdzpoaWRkZW59aW5ze2NvbG9yOiM3Nzc7dGV4dC1kZWNvcmF0aW9uOm5vbmV9YSBpbWd7Ym9yZGVyOjB9QG1lZGlhIHNjcmVlbiBhbmQgKG1heC13aWR0aDo3NzJweCl7Ym9keXtiYWNrZ3JvdW5kOm5vbmU7bWFyZ2luLXRvcDowO21heC13aWR0aDpub25lO3BhZGRpbmctcmlnaHQ6MH19I2xvZ297YmFja2dyb3VuZDp1cmwoLy93d3cuZ29vZ2xlLmNvbS9pbWFnZXMvbG9nb3MvZXJyb3JwYWdlL2Vycm9yX2xvZ28tMTUweDU0LnBuZykgbm8tcmVwZWF0O21hcmdpbi1sZWZ0Oi01cHh9QG1lZGlhIG9ubHkgc2NyZWVuIGFuZCAobWluLXJlc29sdXRpb246MTkyZHBpKXsjbG9nb3tiYWNrZ3JvdW5kOnVybCgvL3d3dy5nb29nbGUuY29tL2ltYWdlcy9sb2dvcy9lcnJvcnBhZ2UvZXJyb3JfbG9nby0xNTB4NTQtMngucG5nKSBuby1yZXBlYXQgMCUgMCUvMTAwJSAxMDAlOy1tb3otYm9yZGVyLWltYWdlOnVybCgvL3d3dy5nb29nbGUuY29tL2ltYWdlcy9sb2dvcy9lcnJvcnBhZ2UvZXJyb3JfbG9nby0xNTB4NTQtMngucG5nKSAwfX1AbWVkaWEgb25seSBzY3JlZW4gYW5kICgtd2Via2l0LW1pbi1kZXZpY2UtcGl4ZWwtcmF0aW86Mil7I2xvZ297YmFja2dyb3VuZDp1cmwoLy93d3cuZ29vZ2xlLmNvbS9pbWFnZXMvbG9nb3MvZXJyb3JwYWdlL2Vycm9yX2xvZ28tMTUweDU0LTJ4LnBuZykgbm8tcmVwZWF0Oy13ZWJraXQtYmFja2dyb3VuZC1zaXplOjEwMCUgMTAwJX19I2xvZ297ZGlzcGxheTppbmxpbmUtYmxvY2s7aGVpZ2h0OjU0cHg7d2lkdGg6MTUwcHh9CiAgPC9zdHlsZT4KICA8YSBocmVmPS8vd3d3Lmdvb2dsZS5jb20vPjxzcGFuIGlkPWxvZ28gYXJpYS1sYWJlbD1Hb29nbGU+PC9zcGFuPjwvYT4KICA8cD48Yj40MDQuPC9iPiA8aW5zPlRoYXTigJlzIGFuIGVycm9yLjwvaW5zPgogIDxwPiAgPGlucz5UaGF04oCZcyBhbGwgd2Uga25vdy48L2lucz4K",
              "ok": false,
              "headers": [
                [
                  "content-length",
                  "1449"
                ],
                [
                  "content-type",
                  "text/html; charset=utf-8"
                ]
              ],
              "status": 404,
              "status_text": ""
            },
            "http://localhost:8080/dataset_students/classification/train_unlabelled/407.png": {
              "data": "CjwhRE9DVFlQRSBodG1sPgo8aHRtbCBsYW5nPWVuPgogIDxtZXRhIGNoYXJzZXQ9dXRmLTg+CiAgPG1ldGEgbmFtZT12aWV3cG9ydCBjb250ZW50PSJpbml0aWFsLXNjYWxlPTEsIG1pbmltdW0tc2NhbGU9MSwgd2lkdGg9ZGV2aWNlLXdpZHRoIj4KICA8dGl0bGU+RXJyb3IgNDA0IChOb3QgRm91bmQpISExPC90aXRsZT4KICA8c3R5bGU+CiAgICAqe21hcmdpbjowO3BhZGRpbmc6MH1odG1sLGNvZGV7Zm9udDoxNXB4LzIycHggYXJpYWwsc2Fucy1zZXJpZn1odG1se2JhY2tncm91bmQ6I2ZmZjtjb2xvcjojMjIyO3BhZGRpbmc6MTVweH1ib2R5e21hcmdpbjo3JSBhdXRvIDA7bWF4LXdpZHRoOjM5MHB4O21pbi1oZWlnaHQ6MTgwcHg7cGFkZGluZzozMHB4IDAgMTVweH0qID4gYm9keXtiYWNrZ3JvdW5kOnVybCgvL3d3dy5nb29nbGUuY29tL2ltYWdlcy9lcnJvcnMvcm9ib3QucG5nKSAxMDAlIDVweCBuby1yZXBlYXQ7cGFkZGluZy1yaWdodDoyMDVweH1we21hcmdpbjoxMXB4IDAgMjJweDtvdmVyZmxvdzpoaWRkZW59aW5ze2NvbG9yOiM3Nzc7dGV4dC1kZWNvcmF0aW9uOm5vbmV9YSBpbWd7Ym9yZGVyOjB9QG1lZGlhIHNjcmVlbiBhbmQgKG1heC13aWR0aDo3NzJweCl7Ym9keXtiYWNrZ3JvdW5kOm5vbmU7bWFyZ2luLXRvcDowO21heC13aWR0aDpub25lO3BhZGRpbmctcmlnaHQ6MH19I2xvZ297YmFja2dyb3VuZDp1cmwoLy93d3cuZ29vZ2xlLmNvbS9pbWFnZXMvbG9nb3MvZXJyb3JwYWdlL2Vycm9yX2xvZ28tMTUweDU0LnBuZykgbm8tcmVwZWF0O21hcmdpbi1sZWZ0Oi01cHh9QG1lZGlhIG9ubHkgc2NyZWVuIGFuZCAobWluLXJlc29sdXRpb246MTkyZHBpKXsjbG9nb3tiYWNrZ3JvdW5kOnVybCgvL3d3dy5nb29nbGUuY29tL2ltYWdlcy9sb2dvcy9lcnJvcnBhZ2UvZXJyb3JfbG9nby0xNTB4NTQtMngucG5nKSBuby1yZXBlYXQgMCUgMCUvMTAwJSAxMDAlOy1tb3otYm9yZGVyLWltYWdlOnVybCgvL3d3dy5nb29nbGUuY29tL2ltYWdlcy9sb2dvcy9lcnJvcnBhZ2UvZXJyb3JfbG9nby0xNTB4NTQtMngucG5nKSAwfX1AbWVkaWEgb25seSBzY3JlZW4gYW5kICgtd2Via2l0LW1pbi1kZXZpY2UtcGl4ZWwtcmF0aW86Mil7I2xvZ297YmFja2dyb3VuZDp1cmwoLy93d3cuZ29vZ2xlLmNvbS9pbWFnZXMvbG9nb3MvZXJyb3JwYWdlL2Vycm9yX2xvZ28tMTUweDU0LTJ4LnBuZykgbm8tcmVwZWF0Oy13ZWJraXQtYmFja2dyb3VuZC1zaXplOjEwMCUgMTAwJX19I2xvZ297ZGlzcGxheTppbmxpbmUtYmxvY2s7aGVpZ2h0OjU0cHg7d2lkdGg6MTUwcHh9CiAgPC9zdHlsZT4KICA8YSBocmVmPS8vd3d3Lmdvb2dsZS5jb20vPjxzcGFuIGlkPWxvZ28gYXJpYS1sYWJlbD1Hb29nbGU+PC9zcGFuPjwvYT4KICA8cD48Yj40MDQuPC9iPiA8aW5zPlRoYXTigJlzIGFuIGVycm9yLjwvaW5zPgogIDxwPiAgPGlucz5UaGF04oCZcyBhbGwgd2Uga25vdy48L2lucz4K",
              "ok": false,
              "headers": [
                [
                  "content-length",
                  "1449"
                ],
                [
                  "content-type",
                  "text/html; charset=utf-8"
                ]
              ],
              "status": 404,
              "status_text": ""
            },
            "http://localhost:8080/dataset_students/classification/train_unlabelled/494.png": {
              "data": "CjwhRE9DVFlQRSBodG1sPgo8aHRtbCBsYW5nPWVuPgogIDxtZXRhIGNoYXJzZXQ9dXRmLTg+CiAgPG1ldGEgbmFtZT12aWV3cG9ydCBjb250ZW50PSJpbml0aWFsLXNjYWxlPTEsIG1pbmltdW0tc2NhbGU9MSwgd2lkdGg9ZGV2aWNlLXdpZHRoIj4KICA8dGl0bGU+RXJyb3IgNDA0IChOb3QgRm91bmQpISExPC90aXRsZT4KICA8c3R5bGU+CiAgICAqe21hcmdpbjowO3BhZGRpbmc6MH1odG1sLGNvZGV7Zm9udDoxNXB4LzIycHggYXJpYWwsc2Fucy1zZXJpZn1odG1se2JhY2tncm91bmQ6I2ZmZjtjb2xvcjojMjIyO3BhZGRpbmc6MTVweH1ib2R5e21hcmdpbjo3JSBhdXRvIDA7bWF4LXdpZHRoOjM5MHB4O21pbi1oZWlnaHQ6MTgwcHg7cGFkZGluZzozMHB4IDAgMTVweH0qID4gYm9keXtiYWNrZ3JvdW5kOnVybCgvL3d3dy5nb29nbGUuY29tL2ltYWdlcy9lcnJvcnMvcm9ib3QucG5nKSAxMDAlIDVweCBuby1yZXBlYXQ7cGFkZGluZy1yaWdodDoyMDVweH1we21hcmdpbjoxMXB4IDAgMjJweDtvdmVyZmxvdzpoaWRkZW59aW5ze2NvbG9yOiM3Nzc7dGV4dC1kZWNvcmF0aW9uOm5vbmV9YSBpbWd7Ym9yZGVyOjB9QG1lZGlhIHNjcmVlbiBhbmQgKG1heC13aWR0aDo3NzJweCl7Ym9keXtiYWNrZ3JvdW5kOm5vbmU7bWFyZ2luLXRvcDowO21heC13aWR0aDpub25lO3BhZGRpbmctcmlnaHQ6MH19I2xvZ297YmFja2dyb3VuZDp1cmwoLy93d3cuZ29vZ2xlLmNvbS9pbWFnZXMvbG9nb3MvZXJyb3JwYWdlL2Vycm9yX2xvZ28tMTUweDU0LnBuZykgbm8tcmVwZWF0O21hcmdpbi1sZWZ0Oi01cHh9QG1lZGlhIG9ubHkgc2NyZWVuIGFuZCAobWluLXJlc29sdXRpb246MTkyZHBpKXsjbG9nb3tiYWNrZ3JvdW5kOnVybCgvL3d3dy5nb29nbGUuY29tL2ltYWdlcy9sb2dvcy9lcnJvcnBhZ2UvZXJyb3JfbG9nby0xNTB4NTQtMngucG5nKSBuby1yZXBlYXQgMCUgMCUvMTAwJSAxMDAlOy1tb3otYm9yZGVyLWltYWdlOnVybCgvL3d3dy5nb29nbGUuY29tL2ltYWdlcy9sb2dvcy9lcnJvcnBhZ2UvZXJyb3JfbG9nby0xNTB4NTQtMngucG5nKSAwfX1AbWVkaWEgb25seSBzY3JlZW4gYW5kICgtd2Via2l0LW1pbi1kZXZpY2UtcGl4ZWwtcmF0aW86Mil7I2xvZ297YmFja2dyb3VuZDp1cmwoLy93d3cuZ29vZ2xlLmNvbS9pbWFnZXMvbG9nb3MvZXJyb3JwYWdlL2Vycm9yX2xvZ28tMTUweDU0LTJ4LnBuZykgbm8tcmVwZWF0Oy13ZWJraXQtYmFja2dyb3VuZC1zaXplOjEwMCUgMTAwJX19I2xvZ297ZGlzcGxheTppbmxpbmUtYmxvY2s7aGVpZ2h0OjU0cHg7d2lkdGg6MTUwcHh9CiAgPC9zdHlsZT4KICA8YSBocmVmPS8vd3d3Lmdvb2dsZS5jb20vPjxzcGFuIGlkPWxvZ28gYXJpYS1sYWJlbD1Hb29nbGU+PC9zcGFuPjwvYT4KICA8cD48Yj40MDQuPC9iPiA8aW5zPlRoYXTigJlzIGFuIGVycm9yLjwvaW5zPgogIDxwPiAgPGlucz5UaGF04oCZcyBhbGwgd2Uga25vdy48L2lucz4K",
              "ok": false,
              "headers": [
                [
                  "content-length",
                  "1449"
                ],
                [
                  "content-type",
                  "text/html; charset=utf-8"
                ]
              ],
              "status": 404,
              "status_text": ""
            },
            "http://localhost:8080/dataset_students/classification/train_unlabelled/51.png": {
              "data": "CjwhRE9DVFlQRSBodG1sPgo8aHRtbCBsYW5nPWVuPgogIDxtZXRhIGNoYXJzZXQ9dXRmLTg+CiAgPG1ldGEgbmFtZT12aWV3cG9ydCBjb250ZW50PSJpbml0aWFsLXNjYWxlPTEsIG1pbmltdW0tc2NhbGU9MSwgd2lkdGg9ZGV2aWNlLXdpZHRoIj4KICA8dGl0bGU+RXJyb3IgNDA0IChOb3QgRm91bmQpISExPC90aXRsZT4KICA8c3R5bGU+CiAgICAqe21hcmdpbjowO3BhZGRpbmc6MH1odG1sLGNvZGV7Zm9udDoxNXB4LzIycHggYXJpYWwsc2Fucy1zZXJpZn1odG1se2JhY2tncm91bmQ6I2ZmZjtjb2xvcjojMjIyO3BhZGRpbmc6MTVweH1ib2R5e21hcmdpbjo3JSBhdXRvIDA7bWF4LXdpZHRoOjM5MHB4O21pbi1oZWlnaHQ6MTgwcHg7cGFkZGluZzozMHB4IDAgMTVweH0qID4gYm9keXtiYWNrZ3JvdW5kOnVybCgvL3d3dy5nb29nbGUuY29tL2ltYWdlcy9lcnJvcnMvcm9ib3QucG5nKSAxMDAlIDVweCBuby1yZXBlYXQ7cGFkZGluZy1yaWdodDoyMDVweH1we21hcmdpbjoxMXB4IDAgMjJweDtvdmVyZmxvdzpoaWRkZW59aW5ze2NvbG9yOiM3Nzc7dGV4dC1kZWNvcmF0aW9uOm5vbmV9YSBpbWd7Ym9yZGVyOjB9QG1lZGlhIHNjcmVlbiBhbmQgKG1heC13aWR0aDo3NzJweCl7Ym9keXtiYWNrZ3JvdW5kOm5vbmU7bWFyZ2luLXRvcDowO21heC13aWR0aDpub25lO3BhZGRpbmctcmlnaHQ6MH19I2xvZ297YmFja2dyb3VuZDp1cmwoLy93d3cuZ29vZ2xlLmNvbS9pbWFnZXMvbG9nb3MvZXJyb3JwYWdlL2Vycm9yX2xvZ28tMTUweDU0LnBuZykgbm8tcmVwZWF0O21hcmdpbi1sZWZ0Oi01cHh9QG1lZGlhIG9ubHkgc2NyZWVuIGFuZCAobWluLXJlc29sdXRpb246MTkyZHBpKXsjbG9nb3tiYWNrZ3JvdW5kOnVybCgvL3d3dy5nb29nbGUuY29tL2ltYWdlcy9sb2dvcy9lcnJvcnBhZ2UvZXJyb3JfbG9nby0xNTB4NTQtMngucG5nKSBuby1yZXBlYXQgMCUgMCUvMTAwJSAxMDAlOy1tb3otYm9yZGVyLWltYWdlOnVybCgvL3d3dy5nb29nbGUuY29tL2ltYWdlcy9sb2dvcy9lcnJvcnBhZ2UvZXJyb3JfbG9nby0xNTB4NTQtMngucG5nKSAwfX1AbWVkaWEgb25seSBzY3JlZW4gYW5kICgtd2Via2l0LW1pbi1kZXZpY2UtcGl4ZWwtcmF0aW86Mil7I2xvZ297YmFja2dyb3VuZDp1cmwoLy93d3cuZ29vZ2xlLmNvbS9pbWFnZXMvbG9nb3MvZXJyb3JwYWdlL2Vycm9yX2xvZ28tMTUweDU0LTJ4LnBuZykgbm8tcmVwZWF0Oy13ZWJraXQtYmFja2dyb3VuZC1zaXplOjEwMCUgMTAwJX19I2xvZ297ZGlzcGxheTppbmxpbmUtYmxvY2s7aGVpZ2h0OjU0cHg7d2lkdGg6MTUwcHh9CiAgPC9zdHlsZT4KICA8YSBocmVmPS8vd3d3Lmdvb2dsZS5jb20vPjxzcGFuIGlkPWxvZ28gYXJpYS1sYWJlbD1Hb29nbGU+PC9zcGFuPjwvYT4KICA8cD48Yj40MDQuPC9iPiA8aW5zPlRoYXTigJlzIGFuIGVycm9yLjwvaW5zPgogIDxwPiAgPGlucz5UaGF04oCZcyBhbGwgd2Uga25vdy48L2lucz4K",
              "ok": false,
              "headers": [
                [
                  "content-length",
                  "1449"
                ],
                [
                  "content-type",
                  "text/html; charset=utf-8"
                ]
              ],
              "status": 404,
              "status_text": ""
            },
            "http://localhost:8080/dataset_students/classification/train_unlabelled/1643.png": {
              "data": "CjwhRE9DVFlQRSBodG1sPgo8aHRtbCBsYW5nPWVuPgogIDxtZXRhIGNoYXJzZXQ9dXRmLTg+CiAgPG1ldGEgbmFtZT12aWV3cG9ydCBjb250ZW50PSJpbml0aWFsLXNjYWxlPTEsIG1pbmltdW0tc2NhbGU9MSwgd2lkdGg9ZGV2aWNlLXdpZHRoIj4KICA8dGl0bGU+RXJyb3IgNDA0IChOb3QgRm91bmQpISExPC90aXRsZT4KICA8c3R5bGU+CiAgICAqe21hcmdpbjowO3BhZGRpbmc6MH1odG1sLGNvZGV7Zm9udDoxNXB4LzIycHggYXJpYWwsc2Fucy1zZXJpZn1odG1se2JhY2tncm91bmQ6I2ZmZjtjb2xvcjojMjIyO3BhZGRpbmc6MTVweH1ib2R5e21hcmdpbjo3JSBhdXRvIDA7bWF4LXdpZHRoOjM5MHB4O21pbi1oZWlnaHQ6MTgwcHg7cGFkZGluZzozMHB4IDAgMTVweH0qID4gYm9keXtiYWNrZ3JvdW5kOnVybCgvL3d3dy5nb29nbGUuY29tL2ltYWdlcy9lcnJvcnMvcm9ib3QucG5nKSAxMDAlIDVweCBuby1yZXBlYXQ7cGFkZGluZy1yaWdodDoyMDVweH1we21hcmdpbjoxMXB4IDAgMjJweDtvdmVyZmxvdzpoaWRkZW59aW5ze2NvbG9yOiM3Nzc7dGV4dC1kZWNvcmF0aW9uOm5vbmV9YSBpbWd7Ym9yZGVyOjB9QG1lZGlhIHNjcmVlbiBhbmQgKG1heC13aWR0aDo3NzJweCl7Ym9keXtiYWNrZ3JvdW5kOm5vbmU7bWFyZ2luLXRvcDowO21heC13aWR0aDpub25lO3BhZGRpbmctcmlnaHQ6MH19I2xvZ297YmFja2dyb3VuZDp1cmwoLy93d3cuZ29vZ2xlLmNvbS9pbWFnZXMvbG9nb3MvZXJyb3JwYWdlL2Vycm9yX2xvZ28tMTUweDU0LnBuZykgbm8tcmVwZWF0O21hcmdpbi1sZWZ0Oi01cHh9QG1lZGlhIG9ubHkgc2NyZWVuIGFuZCAobWluLXJlc29sdXRpb246MTkyZHBpKXsjbG9nb3tiYWNrZ3JvdW5kOnVybCgvL3d3dy5nb29nbGUuY29tL2ltYWdlcy9sb2dvcy9lcnJvcnBhZ2UvZXJyb3JfbG9nby0xNTB4NTQtMngucG5nKSBuby1yZXBlYXQgMCUgMCUvMTAwJSAxMDAlOy1tb3otYm9yZGVyLWltYWdlOnVybCgvL3d3dy5nb29nbGUuY29tL2ltYWdlcy9sb2dvcy9lcnJvcnBhZ2UvZXJyb3JfbG9nby0xNTB4NTQtMngucG5nKSAwfX1AbWVkaWEgb25seSBzY3JlZW4gYW5kICgtd2Via2l0LW1pbi1kZXZpY2UtcGl4ZWwtcmF0aW86Mil7I2xvZ297YmFja2dyb3VuZDp1cmwoLy93d3cuZ29vZ2xlLmNvbS9pbWFnZXMvbG9nb3MvZXJyb3JwYWdlL2Vycm9yX2xvZ28tMTUweDU0LTJ4LnBuZykgbm8tcmVwZWF0Oy13ZWJraXQtYmFja2dyb3VuZC1zaXplOjEwMCUgMTAwJX19I2xvZ297ZGlzcGxheTppbmxpbmUtYmxvY2s7aGVpZ2h0OjU0cHg7d2lkdGg6MTUwcHh9CiAgPC9zdHlsZT4KICA8YSBocmVmPS8vd3d3Lmdvb2dsZS5jb20vPjxzcGFuIGlkPWxvZ28gYXJpYS1sYWJlbD1Hb29nbGU+PC9zcGFuPjwvYT4KICA8cD48Yj40MDQuPC9iPiA8aW5zPlRoYXTigJlzIGFuIGVycm9yLjwvaW5zPgogIDxwPiAgPGlucz5UaGF04oCZcyBhbGwgd2Uga25vdy48L2lucz4K",
              "ok": false,
              "headers": [
                [
                  "content-length",
                  "1449"
                ],
                [
                  "content-type",
                  "text/html; charset=utf-8"
                ]
              ],
              "status": 404,
              "status_text": ""
            },
            "http://localhost:8080/dataset_students/classification/train_labelled/126.png": {
              "data": "CjwhRE9DVFlQRSBodG1sPgo8aHRtbCBsYW5nPWVuPgogIDxtZXRhIGNoYXJzZXQ9dXRmLTg+CiAgPG1ldGEgbmFtZT12aWV3cG9ydCBjb250ZW50PSJpbml0aWFsLXNjYWxlPTEsIG1pbmltdW0tc2NhbGU9MSwgd2lkdGg9ZGV2aWNlLXdpZHRoIj4KICA8dGl0bGU+RXJyb3IgNDA0IChOb3QgRm91bmQpISExPC90aXRsZT4KICA8c3R5bGU+CiAgICAqe21hcmdpbjowO3BhZGRpbmc6MH1odG1sLGNvZGV7Zm9udDoxNXB4LzIycHggYXJpYWwsc2Fucy1zZXJpZn1odG1se2JhY2tncm91bmQ6I2ZmZjtjb2xvcjojMjIyO3BhZGRpbmc6MTVweH1ib2R5e21hcmdpbjo3JSBhdXRvIDA7bWF4LXdpZHRoOjM5MHB4O21pbi1oZWlnaHQ6MTgwcHg7cGFkZGluZzozMHB4IDAgMTVweH0qID4gYm9keXtiYWNrZ3JvdW5kOnVybCgvL3d3dy5nb29nbGUuY29tL2ltYWdlcy9lcnJvcnMvcm9ib3QucG5nKSAxMDAlIDVweCBuby1yZXBlYXQ7cGFkZGluZy1yaWdodDoyMDVweH1we21hcmdpbjoxMXB4IDAgMjJweDtvdmVyZmxvdzpoaWRkZW59aW5ze2NvbG9yOiM3Nzc7dGV4dC1kZWNvcmF0aW9uOm5vbmV9YSBpbWd7Ym9yZGVyOjB9QG1lZGlhIHNjcmVlbiBhbmQgKG1heC13aWR0aDo3NzJweCl7Ym9keXtiYWNrZ3JvdW5kOm5vbmU7bWFyZ2luLXRvcDowO21heC13aWR0aDpub25lO3BhZGRpbmctcmlnaHQ6MH19I2xvZ297YmFja2dyb3VuZDp1cmwoLy93d3cuZ29vZ2xlLmNvbS9pbWFnZXMvbG9nb3MvZXJyb3JwYWdlL2Vycm9yX2xvZ28tMTUweDU0LnBuZykgbm8tcmVwZWF0O21hcmdpbi1sZWZ0Oi01cHh9QG1lZGlhIG9ubHkgc2NyZWVuIGFuZCAobWluLXJlc29sdXRpb246MTkyZHBpKXsjbG9nb3tiYWNrZ3JvdW5kOnVybCgvL3d3dy5nb29nbGUuY29tL2ltYWdlcy9sb2dvcy9lcnJvcnBhZ2UvZXJyb3JfbG9nby0xNTB4NTQtMngucG5nKSBuby1yZXBlYXQgMCUgMCUvMTAwJSAxMDAlOy1tb3otYm9yZGVyLWltYWdlOnVybCgvL3d3dy5nb29nbGUuY29tL2ltYWdlcy9sb2dvcy9lcnJvcnBhZ2UvZXJyb3JfbG9nby0xNTB4NTQtMngucG5nKSAwfX1AbWVkaWEgb25seSBzY3JlZW4gYW5kICgtd2Via2l0LW1pbi1kZXZpY2UtcGl4ZWwtcmF0aW86Mil7I2xvZ297YmFja2dyb3VuZDp1cmwoLy93d3cuZ29vZ2xlLmNvbS9pbWFnZXMvbG9nb3MvZXJyb3JwYWdlL2Vycm9yX2xvZ28tMTUweDU0LTJ4LnBuZykgbm8tcmVwZWF0Oy13ZWJraXQtYmFja2dyb3VuZC1zaXplOjEwMCUgMTAwJX19I2xvZ297ZGlzcGxheTppbmxpbmUtYmxvY2s7aGVpZ2h0OjU0cHg7d2lkdGg6MTUwcHh9CiAgPC9zdHlsZT4KICA8YSBocmVmPS8vd3d3Lmdvb2dsZS5jb20vPjxzcGFuIGlkPWxvZ28gYXJpYS1sYWJlbD1Hb29nbGU+PC9zcGFuPjwvYT4KICA8cD48Yj40MDQuPC9iPiA8aW5zPlRoYXTigJlzIGFuIGVycm9yLjwvaW5zPgogIDxwPiAgPGlucz5UaGF04oCZcyBhbGwgd2Uga25vdy48L2lucz4K",
              "ok": false,
              "headers": [
                [
                  "content-length",
                  "1449"
                ],
                [
                  "content-type",
                  "text/html; charset=utf-8"
                ]
              ],
              "status": 404,
              "status_text": ""
            },
            "http://localhost:8080/dataset_students/classification/train_unlabelled/1932.png": {
              "data": "CjwhRE9DVFlQRSBodG1sPgo8aHRtbCBsYW5nPWVuPgogIDxtZXRhIGNoYXJzZXQ9dXRmLTg+CiAgPG1ldGEgbmFtZT12aWV3cG9ydCBjb250ZW50PSJpbml0aWFsLXNjYWxlPTEsIG1pbmltdW0tc2NhbGU9MSwgd2lkdGg9ZGV2aWNlLXdpZHRoIj4KICA8dGl0bGU+RXJyb3IgNDA0IChOb3QgRm91bmQpISExPC90aXRsZT4KICA8c3R5bGU+CiAgICAqe21hcmdpbjowO3BhZGRpbmc6MH1odG1sLGNvZGV7Zm9udDoxNXB4LzIycHggYXJpYWwsc2Fucy1zZXJpZn1odG1se2JhY2tncm91bmQ6I2ZmZjtjb2xvcjojMjIyO3BhZGRpbmc6MTVweH1ib2R5e21hcmdpbjo3JSBhdXRvIDA7bWF4LXdpZHRoOjM5MHB4O21pbi1oZWlnaHQ6MTgwcHg7cGFkZGluZzozMHB4IDAgMTVweH0qID4gYm9keXtiYWNrZ3JvdW5kOnVybCgvL3d3dy5nb29nbGUuY29tL2ltYWdlcy9lcnJvcnMvcm9ib3QucG5nKSAxMDAlIDVweCBuby1yZXBlYXQ7cGFkZGluZy1yaWdodDoyMDVweH1we21hcmdpbjoxMXB4IDAgMjJweDtvdmVyZmxvdzpoaWRkZW59aW5ze2NvbG9yOiM3Nzc7dGV4dC1kZWNvcmF0aW9uOm5vbmV9YSBpbWd7Ym9yZGVyOjB9QG1lZGlhIHNjcmVlbiBhbmQgKG1heC13aWR0aDo3NzJweCl7Ym9keXtiYWNrZ3JvdW5kOm5vbmU7bWFyZ2luLXRvcDowO21heC13aWR0aDpub25lO3BhZGRpbmctcmlnaHQ6MH19I2xvZ297YmFja2dyb3VuZDp1cmwoLy93d3cuZ29vZ2xlLmNvbS9pbWFnZXMvbG9nb3MvZXJyb3JwYWdlL2Vycm9yX2xvZ28tMTUweDU0LnBuZykgbm8tcmVwZWF0O21hcmdpbi1sZWZ0Oi01cHh9QG1lZGlhIG9ubHkgc2NyZWVuIGFuZCAobWluLXJlc29sdXRpb246MTkyZHBpKXsjbG9nb3tiYWNrZ3JvdW5kOnVybCgvL3d3dy5nb29nbGUuY29tL2ltYWdlcy9sb2dvcy9lcnJvcnBhZ2UvZXJyb3JfbG9nby0xNTB4NTQtMngucG5nKSBuby1yZXBlYXQgMCUgMCUvMTAwJSAxMDAlOy1tb3otYm9yZGVyLWltYWdlOnVybCgvL3d3dy5nb29nbGUuY29tL2ltYWdlcy9sb2dvcy9lcnJvcnBhZ2UvZXJyb3JfbG9nby0xNTB4NTQtMngucG5nKSAwfX1AbWVkaWEgb25seSBzY3JlZW4gYW5kICgtd2Via2l0LW1pbi1kZXZpY2UtcGl4ZWwtcmF0aW86Mil7I2xvZ297YmFja2dyb3VuZDp1cmwoLy93d3cuZ29vZ2xlLmNvbS9pbWFnZXMvbG9nb3MvZXJyb3JwYWdlL2Vycm9yX2xvZ28tMTUweDU0LTJ4LnBuZykgbm8tcmVwZWF0Oy13ZWJraXQtYmFja2dyb3VuZC1zaXplOjEwMCUgMTAwJX19I2xvZ297ZGlzcGxheTppbmxpbmUtYmxvY2s7aGVpZ2h0OjU0cHg7d2lkdGg6MTUwcHh9CiAgPC9zdHlsZT4KICA8YSBocmVmPS8vd3d3Lmdvb2dsZS5jb20vPjxzcGFuIGlkPWxvZ28gYXJpYS1sYWJlbD1Hb29nbGU+PC9zcGFuPjwvYT4KICA8cD48Yj40MDQuPC9iPiA8aW5zPlRoYXTigJlzIGFuIGVycm9yLjwvaW5zPgogIDxwPiAgPGlucz5UaGF04oCZcyBhbGwgd2Uga25vdy48L2lucz4K",
              "ok": false,
              "headers": [
                [
                  "content-length",
                  "1449"
                ],
                [
                  "content-type",
                  "text/html; charset=utf-8"
                ]
              ],
              "status": 404,
              "status_text": ""
            },
            "http://localhost:8080/dataset_students/classification/train_labelled/34.png": {
              "data": "CjwhRE9DVFlQRSBodG1sPgo8aHRtbCBsYW5nPWVuPgogIDxtZXRhIGNoYXJzZXQ9dXRmLTg+CiAgPG1ldGEgbmFtZT12aWV3cG9ydCBjb250ZW50PSJpbml0aWFsLXNjYWxlPTEsIG1pbmltdW0tc2NhbGU9MSwgd2lkdGg9ZGV2aWNlLXdpZHRoIj4KICA8dGl0bGU+RXJyb3IgNDA0IChOb3QgRm91bmQpISExPC90aXRsZT4KICA8c3R5bGU+CiAgICAqe21hcmdpbjowO3BhZGRpbmc6MH1odG1sLGNvZGV7Zm9udDoxNXB4LzIycHggYXJpYWwsc2Fucy1zZXJpZn1odG1se2JhY2tncm91bmQ6I2ZmZjtjb2xvcjojMjIyO3BhZGRpbmc6MTVweH1ib2R5e21hcmdpbjo3JSBhdXRvIDA7bWF4LXdpZHRoOjM5MHB4O21pbi1oZWlnaHQ6MTgwcHg7cGFkZGluZzozMHB4IDAgMTVweH0qID4gYm9keXtiYWNrZ3JvdW5kOnVybCgvL3d3dy5nb29nbGUuY29tL2ltYWdlcy9lcnJvcnMvcm9ib3QucG5nKSAxMDAlIDVweCBuby1yZXBlYXQ7cGFkZGluZy1yaWdodDoyMDVweH1we21hcmdpbjoxMXB4IDAgMjJweDtvdmVyZmxvdzpoaWRkZW59aW5ze2NvbG9yOiM3Nzc7dGV4dC1kZWNvcmF0aW9uOm5vbmV9YSBpbWd7Ym9yZGVyOjB9QG1lZGlhIHNjcmVlbiBhbmQgKG1heC13aWR0aDo3NzJweCl7Ym9keXtiYWNrZ3JvdW5kOm5vbmU7bWFyZ2luLXRvcDowO21heC13aWR0aDpub25lO3BhZGRpbmctcmlnaHQ6MH19I2xvZ297YmFja2dyb3VuZDp1cmwoLy93d3cuZ29vZ2xlLmNvbS9pbWFnZXMvbG9nb3MvZXJyb3JwYWdlL2Vycm9yX2xvZ28tMTUweDU0LnBuZykgbm8tcmVwZWF0O21hcmdpbi1sZWZ0Oi01cHh9QG1lZGlhIG9ubHkgc2NyZWVuIGFuZCAobWluLXJlc29sdXRpb246MTkyZHBpKXsjbG9nb3tiYWNrZ3JvdW5kOnVybCgvL3d3dy5nb29nbGUuY29tL2ltYWdlcy9sb2dvcy9lcnJvcnBhZ2UvZXJyb3JfbG9nby0xNTB4NTQtMngucG5nKSBuby1yZXBlYXQgMCUgMCUvMTAwJSAxMDAlOy1tb3otYm9yZGVyLWltYWdlOnVybCgvL3d3dy5nb29nbGUuY29tL2ltYWdlcy9sb2dvcy9lcnJvcnBhZ2UvZXJyb3JfbG9nby0xNTB4NTQtMngucG5nKSAwfX1AbWVkaWEgb25seSBzY3JlZW4gYW5kICgtd2Via2l0LW1pbi1kZXZpY2UtcGl4ZWwtcmF0aW86Mil7I2xvZ297YmFja2dyb3VuZDp1cmwoLy93d3cuZ29vZ2xlLmNvbS9pbWFnZXMvbG9nb3MvZXJyb3JwYWdlL2Vycm9yX2xvZ28tMTUweDU0LTJ4LnBuZykgbm8tcmVwZWF0Oy13ZWJraXQtYmFja2dyb3VuZC1zaXplOjEwMCUgMTAwJX19I2xvZ297ZGlzcGxheTppbmxpbmUtYmxvY2s7aGVpZ2h0OjU0cHg7d2lkdGg6MTUwcHh9CiAgPC9zdHlsZT4KICA8YSBocmVmPS8vd3d3Lmdvb2dsZS5jb20vPjxzcGFuIGlkPWxvZ28gYXJpYS1sYWJlbD1Hb29nbGU+PC9zcGFuPjwvYT4KICA8cD48Yj40MDQuPC9iPiA8aW5zPlRoYXTigJlzIGFuIGVycm9yLjwvaW5zPgogIDxwPiAgPGlucz5UaGF04oCZcyBhbGwgd2Uga25vdy48L2lucz4K",
              "ok": false,
              "headers": [
                [
                  "content-length",
                  "1449"
                ],
                [
                  "content-type",
                  "text/html; charset=utf-8"
                ]
              ],
              "status": 404,
              "status_text": ""
            },
            "http://localhost:8080/dataset_students/classification/train_labelled/52.png": {
              "data": "CjwhRE9DVFlQRSBodG1sPgo8aHRtbCBsYW5nPWVuPgogIDxtZXRhIGNoYXJzZXQ9dXRmLTg+CiAgPG1ldGEgbmFtZT12aWV3cG9ydCBjb250ZW50PSJpbml0aWFsLXNjYWxlPTEsIG1pbmltdW0tc2NhbGU9MSwgd2lkdGg9ZGV2aWNlLXdpZHRoIj4KICA8dGl0bGU+RXJyb3IgNDA0IChOb3QgRm91bmQpISExPC90aXRsZT4KICA8c3R5bGU+CiAgICAqe21hcmdpbjowO3BhZGRpbmc6MH1odG1sLGNvZGV7Zm9udDoxNXB4LzIycHggYXJpYWwsc2Fucy1zZXJpZn1odG1se2JhY2tncm91bmQ6I2ZmZjtjb2xvcjojMjIyO3BhZGRpbmc6MTVweH1ib2R5e21hcmdpbjo3JSBhdXRvIDA7bWF4LXdpZHRoOjM5MHB4O21pbi1oZWlnaHQ6MTgwcHg7cGFkZGluZzozMHB4IDAgMTVweH0qID4gYm9keXtiYWNrZ3JvdW5kOnVybCgvL3d3dy5nb29nbGUuY29tL2ltYWdlcy9lcnJvcnMvcm9ib3QucG5nKSAxMDAlIDVweCBuby1yZXBlYXQ7cGFkZGluZy1yaWdodDoyMDVweH1we21hcmdpbjoxMXB4IDAgMjJweDtvdmVyZmxvdzpoaWRkZW59aW5ze2NvbG9yOiM3Nzc7dGV4dC1kZWNvcmF0aW9uOm5vbmV9YSBpbWd7Ym9yZGVyOjB9QG1lZGlhIHNjcmVlbiBhbmQgKG1heC13aWR0aDo3NzJweCl7Ym9keXtiYWNrZ3JvdW5kOm5vbmU7bWFyZ2luLXRvcDowO21heC13aWR0aDpub25lO3BhZGRpbmctcmlnaHQ6MH19I2xvZ297YmFja2dyb3VuZDp1cmwoLy93d3cuZ29vZ2xlLmNvbS9pbWFnZXMvbG9nb3MvZXJyb3JwYWdlL2Vycm9yX2xvZ28tMTUweDU0LnBuZykgbm8tcmVwZWF0O21hcmdpbi1sZWZ0Oi01cHh9QG1lZGlhIG9ubHkgc2NyZWVuIGFuZCAobWluLXJlc29sdXRpb246MTkyZHBpKXsjbG9nb3tiYWNrZ3JvdW5kOnVybCgvL3d3dy5nb29nbGUuY29tL2ltYWdlcy9sb2dvcy9lcnJvcnBhZ2UvZXJyb3JfbG9nby0xNTB4NTQtMngucG5nKSBuby1yZXBlYXQgMCUgMCUvMTAwJSAxMDAlOy1tb3otYm9yZGVyLWltYWdlOnVybCgvL3d3dy5nb29nbGUuY29tL2ltYWdlcy9sb2dvcy9lcnJvcnBhZ2UvZXJyb3JfbG9nby0xNTB4NTQtMngucG5nKSAwfX1AbWVkaWEgb25seSBzY3JlZW4gYW5kICgtd2Via2l0LW1pbi1kZXZpY2UtcGl4ZWwtcmF0aW86Mil7I2xvZ297YmFja2dyb3VuZDp1cmwoLy93d3cuZ29vZ2xlLmNvbS9pbWFnZXMvbG9nb3MvZXJyb3JwYWdlL2Vycm9yX2xvZ28tMTUweDU0LTJ4LnBuZykgbm8tcmVwZWF0Oy13ZWJraXQtYmFja2dyb3VuZC1zaXplOjEwMCUgMTAwJX19I2xvZ297ZGlzcGxheTppbmxpbmUtYmxvY2s7aGVpZ2h0OjU0cHg7d2lkdGg6MTUwcHh9CiAgPC9zdHlsZT4KICA8YSBocmVmPS8vd3d3Lmdvb2dsZS5jb20vPjxzcGFuIGlkPWxvZ28gYXJpYS1sYWJlbD1Hb29nbGU+PC9zcGFuPjwvYT4KICA8cD48Yj40MDQuPC9iPiA8aW5zPlRoYXTigJlzIGFuIGVycm9yLjwvaW5zPgogIDxwPiAgPGlucz5UaGF04oCZcyBhbGwgd2Uga25vdy48L2lucz4K",
              "ok": false,
              "headers": [
                [
                  "content-length",
                  "1449"
                ],
                [
                  "content-type",
                  "text/html; charset=utf-8"
                ]
              ],
              "status": 404,
              "status_text": ""
            },
            "http://localhost:8080/dataset_students/classification/train_labelled/27.png": {
              "data": "CjwhRE9DVFlQRSBodG1sPgo8aHRtbCBsYW5nPWVuPgogIDxtZXRhIGNoYXJzZXQ9dXRmLTg+CiAgPG1ldGEgbmFtZT12aWV3cG9ydCBjb250ZW50PSJpbml0aWFsLXNjYWxlPTEsIG1pbmltdW0tc2NhbGU9MSwgd2lkdGg9ZGV2aWNlLXdpZHRoIj4KICA8dGl0bGU+RXJyb3IgNDA0IChOb3QgRm91bmQpISExPC90aXRsZT4KICA8c3R5bGU+CiAgICAqe21hcmdpbjowO3BhZGRpbmc6MH1odG1sLGNvZGV7Zm9udDoxNXB4LzIycHggYXJpYWwsc2Fucy1zZXJpZn1odG1se2JhY2tncm91bmQ6I2ZmZjtjb2xvcjojMjIyO3BhZGRpbmc6MTVweH1ib2R5e21hcmdpbjo3JSBhdXRvIDA7bWF4LXdpZHRoOjM5MHB4O21pbi1oZWlnaHQ6MTgwcHg7cGFkZGluZzozMHB4IDAgMTVweH0qID4gYm9keXtiYWNrZ3JvdW5kOnVybCgvL3d3dy5nb29nbGUuY29tL2ltYWdlcy9lcnJvcnMvcm9ib3QucG5nKSAxMDAlIDVweCBuby1yZXBlYXQ7cGFkZGluZy1yaWdodDoyMDVweH1we21hcmdpbjoxMXB4IDAgMjJweDtvdmVyZmxvdzpoaWRkZW59aW5ze2NvbG9yOiM3Nzc7dGV4dC1kZWNvcmF0aW9uOm5vbmV9YSBpbWd7Ym9yZGVyOjB9QG1lZGlhIHNjcmVlbiBhbmQgKG1heC13aWR0aDo3NzJweCl7Ym9keXtiYWNrZ3JvdW5kOm5vbmU7bWFyZ2luLXRvcDowO21heC13aWR0aDpub25lO3BhZGRpbmctcmlnaHQ6MH19I2xvZ297YmFja2dyb3VuZDp1cmwoLy93d3cuZ29vZ2xlLmNvbS9pbWFnZXMvbG9nb3MvZXJyb3JwYWdlL2Vycm9yX2xvZ28tMTUweDU0LnBuZykgbm8tcmVwZWF0O21hcmdpbi1sZWZ0Oi01cHh9QG1lZGlhIG9ubHkgc2NyZWVuIGFuZCAobWluLXJlc29sdXRpb246MTkyZHBpKXsjbG9nb3tiYWNrZ3JvdW5kOnVybCgvL3d3dy5nb29nbGUuY29tL2ltYWdlcy9sb2dvcy9lcnJvcnBhZ2UvZXJyb3JfbG9nby0xNTB4NTQtMngucG5nKSBuby1yZXBlYXQgMCUgMCUvMTAwJSAxMDAlOy1tb3otYm9yZGVyLWltYWdlOnVybCgvL3d3dy5nb29nbGUuY29tL2ltYWdlcy9sb2dvcy9lcnJvcnBhZ2UvZXJyb3JfbG9nby0xNTB4NTQtMngucG5nKSAwfX1AbWVkaWEgb25seSBzY3JlZW4gYW5kICgtd2Via2l0LW1pbi1kZXZpY2UtcGl4ZWwtcmF0aW86Mil7I2xvZ297YmFja2dyb3VuZDp1cmwoLy93d3cuZ29vZ2xlLmNvbS9pbWFnZXMvbG9nb3MvZXJyb3JwYWdlL2Vycm9yX2xvZ28tMTUweDU0LTJ4LnBuZykgbm8tcmVwZWF0Oy13ZWJraXQtYmFja2dyb3VuZC1zaXplOjEwMCUgMTAwJX19I2xvZ297ZGlzcGxheTppbmxpbmUtYmxvY2s7aGVpZ2h0OjU0cHg7d2lkdGg6MTUwcHh9CiAgPC9zdHlsZT4KICA8YSBocmVmPS8vd3d3Lmdvb2dsZS5jb20vPjxzcGFuIGlkPWxvZ28gYXJpYS1sYWJlbD1Hb29nbGU+PC9zcGFuPjwvYT4KICA8cD48Yj40MDQuPC9iPiA8aW5zPlRoYXTigJlzIGFuIGVycm9yLjwvaW5zPgogIDxwPiAgPGlucz5UaGF04oCZcyBhbGwgd2Uga25vdy48L2lucz4K",
              "ok": false,
              "headers": [
                [
                  "content-length",
                  "1449"
                ],
                [
                  "content-type",
                  "text/html; charset=utf-8"
                ]
              ],
              "status": 404,
              "status_text": ""
            },
            "http://localhost:8080/dataset_students/classification/train_labelled/20.png": {
              "data": "CjwhRE9DVFlQRSBodG1sPgo8aHRtbCBsYW5nPWVuPgogIDxtZXRhIGNoYXJzZXQ9dXRmLTg+CiAgPG1ldGEgbmFtZT12aWV3cG9ydCBjb250ZW50PSJpbml0aWFsLXNjYWxlPTEsIG1pbmltdW0tc2NhbGU9MSwgd2lkdGg9ZGV2aWNlLXdpZHRoIj4KICA8dGl0bGU+RXJyb3IgNDA0IChOb3QgRm91bmQpISExPC90aXRsZT4KICA8c3R5bGU+CiAgICAqe21hcmdpbjowO3BhZGRpbmc6MH1odG1sLGNvZGV7Zm9udDoxNXB4LzIycHggYXJpYWwsc2Fucy1zZXJpZn1odG1se2JhY2tncm91bmQ6I2ZmZjtjb2xvcjojMjIyO3BhZGRpbmc6MTVweH1ib2R5e21hcmdpbjo3JSBhdXRvIDA7bWF4LXdpZHRoOjM5MHB4O21pbi1oZWlnaHQ6MTgwcHg7cGFkZGluZzozMHB4IDAgMTVweH0qID4gYm9keXtiYWNrZ3JvdW5kOnVybCgvL3d3dy5nb29nbGUuY29tL2ltYWdlcy9lcnJvcnMvcm9ib3QucG5nKSAxMDAlIDVweCBuby1yZXBlYXQ7cGFkZGluZy1yaWdodDoyMDVweH1we21hcmdpbjoxMXB4IDAgMjJweDtvdmVyZmxvdzpoaWRkZW59aW5ze2NvbG9yOiM3Nzc7dGV4dC1kZWNvcmF0aW9uOm5vbmV9YSBpbWd7Ym9yZGVyOjB9QG1lZGlhIHNjcmVlbiBhbmQgKG1heC13aWR0aDo3NzJweCl7Ym9keXtiYWNrZ3JvdW5kOm5vbmU7bWFyZ2luLXRvcDowO21heC13aWR0aDpub25lO3BhZGRpbmctcmlnaHQ6MH19I2xvZ297YmFja2dyb3VuZDp1cmwoLy93d3cuZ29vZ2xlLmNvbS9pbWFnZXMvbG9nb3MvZXJyb3JwYWdlL2Vycm9yX2xvZ28tMTUweDU0LnBuZykgbm8tcmVwZWF0O21hcmdpbi1sZWZ0Oi01cHh9QG1lZGlhIG9ubHkgc2NyZWVuIGFuZCAobWluLXJlc29sdXRpb246MTkyZHBpKXsjbG9nb3tiYWNrZ3JvdW5kOnVybCgvL3d3dy5nb29nbGUuY29tL2ltYWdlcy9sb2dvcy9lcnJvcnBhZ2UvZXJyb3JfbG9nby0xNTB4NTQtMngucG5nKSBuby1yZXBlYXQgMCUgMCUvMTAwJSAxMDAlOy1tb3otYm9yZGVyLWltYWdlOnVybCgvL3d3dy5nb29nbGUuY29tL2ltYWdlcy9sb2dvcy9lcnJvcnBhZ2UvZXJyb3JfbG9nby0xNTB4NTQtMngucG5nKSAwfX1AbWVkaWEgb25seSBzY3JlZW4gYW5kICgtd2Via2l0LW1pbi1kZXZpY2UtcGl4ZWwtcmF0aW86Mil7I2xvZ297YmFja2dyb3VuZDp1cmwoLy93d3cuZ29vZ2xlLmNvbS9pbWFnZXMvbG9nb3MvZXJyb3JwYWdlL2Vycm9yX2xvZ28tMTUweDU0LTJ4LnBuZykgbm8tcmVwZWF0Oy13ZWJraXQtYmFja2dyb3VuZC1zaXplOjEwMCUgMTAwJX19I2xvZ297ZGlzcGxheTppbmxpbmUtYmxvY2s7aGVpZ2h0OjU0cHg7d2lkdGg6MTUwcHh9CiAgPC9zdHlsZT4KICA8YSBocmVmPS8vd3d3Lmdvb2dsZS5jb20vPjxzcGFuIGlkPWxvZ28gYXJpYS1sYWJlbD1Hb29nbGU+PC9zcGFuPjwvYT4KICA8cD48Yj40MDQuPC9iPiA8aW5zPlRoYXTigJlzIGFuIGVycm9yLjwvaW5zPgogIDxwPiAgPGlucz5UaGF04oCZcyBhbGwgd2Uga25vdy48L2lucz4K",
              "ok": false,
              "headers": [
                [
                  "content-length",
                  "1449"
                ],
                [
                  "content-type",
                  "text/html; charset=utf-8"
                ]
              ],
              "status": 404,
              "status_text": ""
            },
            "http://localhost:8080/dataset_students/classification/train_labelled/94.png": {
              "data": "CjwhRE9DVFlQRSBodG1sPgo8aHRtbCBsYW5nPWVuPgogIDxtZXRhIGNoYXJzZXQ9dXRmLTg+CiAgPG1ldGEgbmFtZT12aWV3cG9ydCBjb250ZW50PSJpbml0aWFsLXNjYWxlPTEsIG1pbmltdW0tc2NhbGU9MSwgd2lkdGg9ZGV2aWNlLXdpZHRoIj4KICA8dGl0bGU+RXJyb3IgNDA0IChOb3QgRm91bmQpISExPC90aXRsZT4KICA8c3R5bGU+CiAgICAqe21hcmdpbjowO3BhZGRpbmc6MH1odG1sLGNvZGV7Zm9udDoxNXB4LzIycHggYXJpYWwsc2Fucy1zZXJpZn1odG1se2JhY2tncm91bmQ6I2ZmZjtjb2xvcjojMjIyO3BhZGRpbmc6MTVweH1ib2R5e21hcmdpbjo3JSBhdXRvIDA7bWF4LXdpZHRoOjM5MHB4O21pbi1oZWlnaHQ6MTgwcHg7cGFkZGluZzozMHB4IDAgMTVweH0qID4gYm9keXtiYWNrZ3JvdW5kOnVybCgvL3d3dy5nb29nbGUuY29tL2ltYWdlcy9lcnJvcnMvcm9ib3QucG5nKSAxMDAlIDVweCBuby1yZXBlYXQ7cGFkZGluZy1yaWdodDoyMDVweH1we21hcmdpbjoxMXB4IDAgMjJweDtvdmVyZmxvdzpoaWRkZW59aW5ze2NvbG9yOiM3Nzc7dGV4dC1kZWNvcmF0aW9uOm5vbmV9YSBpbWd7Ym9yZGVyOjB9QG1lZGlhIHNjcmVlbiBhbmQgKG1heC13aWR0aDo3NzJweCl7Ym9keXtiYWNrZ3JvdW5kOm5vbmU7bWFyZ2luLXRvcDowO21heC13aWR0aDpub25lO3BhZGRpbmctcmlnaHQ6MH19I2xvZ297YmFja2dyb3VuZDp1cmwoLy93d3cuZ29vZ2xlLmNvbS9pbWFnZXMvbG9nb3MvZXJyb3JwYWdlL2Vycm9yX2xvZ28tMTUweDU0LnBuZykgbm8tcmVwZWF0O21hcmdpbi1sZWZ0Oi01cHh9QG1lZGlhIG9ubHkgc2NyZWVuIGFuZCAobWluLXJlc29sdXRpb246MTkyZHBpKXsjbG9nb3tiYWNrZ3JvdW5kOnVybCgvL3d3dy5nb29nbGUuY29tL2ltYWdlcy9sb2dvcy9lcnJvcnBhZ2UvZXJyb3JfbG9nby0xNTB4NTQtMngucG5nKSBuby1yZXBlYXQgMCUgMCUvMTAwJSAxMDAlOy1tb3otYm9yZGVyLWltYWdlOnVybCgvL3d3dy5nb29nbGUuY29tL2ltYWdlcy9sb2dvcy9lcnJvcnBhZ2UvZXJyb3JfbG9nby0xNTB4NTQtMngucG5nKSAwfX1AbWVkaWEgb25seSBzY3JlZW4gYW5kICgtd2Via2l0LW1pbi1kZXZpY2UtcGl4ZWwtcmF0aW86Mil7I2xvZ297YmFja2dyb3VuZDp1cmwoLy93d3cuZ29vZ2xlLmNvbS9pbWFnZXMvbG9nb3MvZXJyb3JwYWdlL2Vycm9yX2xvZ28tMTUweDU0LTJ4LnBuZykgbm8tcmVwZWF0Oy13ZWJraXQtYmFja2dyb3VuZC1zaXplOjEwMCUgMTAwJX19I2xvZ297ZGlzcGxheTppbmxpbmUtYmxvY2s7aGVpZ2h0OjU0cHg7d2lkdGg6MTUwcHh9CiAgPC9zdHlsZT4KICA8YSBocmVmPS8vd3d3Lmdvb2dsZS5jb20vPjxzcGFuIGlkPWxvZ28gYXJpYS1sYWJlbD1Hb29nbGU+PC9zcGFuPjwvYT4KICA8cD48Yj40MDQuPC9iPiA8aW5zPlRoYXTigJlzIGFuIGVycm9yLjwvaW5zPgogIDxwPiAgPGlucz5UaGF04oCZcyBhbGwgd2Uga25vdy48L2lucz4K",
              "ok": false,
              "headers": [
                [
                  "content-length",
                  "1449"
                ],
                [
                  "content-type",
                  "text/html; charset=utf-8"
                ]
              ],
              "status": 404,
              "status_text": ""
            },
            "http://localhost:8080/dataset_students/classification/train_labelled/192.png": {
              "data": "CjwhRE9DVFlQRSBodG1sPgo8aHRtbCBsYW5nPWVuPgogIDxtZXRhIGNoYXJzZXQ9dXRmLTg+CiAgPG1ldGEgbmFtZT12aWV3cG9ydCBjb250ZW50PSJpbml0aWFsLXNjYWxlPTEsIG1pbmltdW0tc2NhbGU9MSwgd2lkdGg9ZGV2aWNlLXdpZHRoIj4KICA8dGl0bGU+RXJyb3IgNDA0IChOb3QgRm91bmQpISExPC90aXRsZT4KICA8c3R5bGU+CiAgICAqe21hcmdpbjowO3BhZGRpbmc6MH1odG1sLGNvZGV7Zm9udDoxNXB4LzIycHggYXJpYWwsc2Fucy1zZXJpZn1odG1se2JhY2tncm91bmQ6I2ZmZjtjb2xvcjojMjIyO3BhZGRpbmc6MTVweH1ib2R5e21hcmdpbjo3JSBhdXRvIDA7bWF4LXdpZHRoOjM5MHB4O21pbi1oZWlnaHQ6MTgwcHg7cGFkZGluZzozMHB4IDAgMTVweH0qID4gYm9keXtiYWNrZ3JvdW5kOnVybCgvL3d3dy5nb29nbGUuY29tL2ltYWdlcy9lcnJvcnMvcm9ib3QucG5nKSAxMDAlIDVweCBuby1yZXBlYXQ7cGFkZGluZy1yaWdodDoyMDVweH1we21hcmdpbjoxMXB4IDAgMjJweDtvdmVyZmxvdzpoaWRkZW59aW5ze2NvbG9yOiM3Nzc7dGV4dC1kZWNvcmF0aW9uOm5vbmV9YSBpbWd7Ym9yZGVyOjB9QG1lZGlhIHNjcmVlbiBhbmQgKG1heC13aWR0aDo3NzJweCl7Ym9keXtiYWNrZ3JvdW5kOm5vbmU7bWFyZ2luLXRvcDowO21heC13aWR0aDpub25lO3BhZGRpbmctcmlnaHQ6MH19I2xvZ297YmFja2dyb3VuZDp1cmwoLy93d3cuZ29vZ2xlLmNvbS9pbWFnZXMvbG9nb3MvZXJyb3JwYWdlL2Vycm9yX2xvZ28tMTUweDU0LnBuZykgbm8tcmVwZWF0O21hcmdpbi1sZWZ0Oi01cHh9QG1lZGlhIG9ubHkgc2NyZWVuIGFuZCAobWluLXJlc29sdXRpb246MTkyZHBpKXsjbG9nb3tiYWNrZ3JvdW5kOnVybCgvL3d3dy5nb29nbGUuY29tL2ltYWdlcy9sb2dvcy9lcnJvcnBhZ2UvZXJyb3JfbG9nby0xNTB4NTQtMngucG5nKSBuby1yZXBlYXQgMCUgMCUvMTAwJSAxMDAlOy1tb3otYm9yZGVyLWltYWdlOnVybCgvL3d3dy5nb29nbGUuY29tL2ltYWdlcy9sb2dvcy9lcnJvcnBhZ2UvZXJyb3JfbG9nby0xNTB4NTQtMngucG5nKSAwfX1AbWVkaWEgb25seSBzY3JlZW4gYW5kICgtd2Via2l0LW1pbi1kZXZpY2UtcGl4ZWwtcmF0aW86Mil7I2xvZ297YmFja2dyb3VuZDp1cmwoLy93d3cuZ29vZ2xlLmNvbS9pbWFnZXMvbG9nb3MvZXJyb3JwYWdlL2Vycm9yX2xvZ28tMTUweDU0LTJ4LnBuZykgbm8tcmVwZWF0Oy13ZWJraXQtYmFja2dyb3VuZC1zaXplOjEwMCUgMTAwJX19I2xvZ297ZGlzcGxheTppbmxpbmUtYmxvY2s7aGVpZ2h0OjU0cHg7d2lkdGg6MTUwcHh9CiAgPC9zdHlsZT4KICA8YSBocmVmPS8vd3d3Lmdvb2dsZS5jb20vPjxzcGFuIGlkPWxvZ28gYXJpYS1sYWJlbD1Hb29nbGU+PC9zcGFuPjwvYT4KICA8cD48Yj40MDQuPC9iPiA8aW5zPlRoYXTigJlzIGFuIGVycm9yLjwvaW5zPgogIDxwPiAgPGlucz5UaGF04oCZcyBhbGwgd2Uga25vdy48L2lucz4K",
              "ok": false,
              "headers": [
                [
                  "content-length",
                  "1449"
                ],
                [
                  "content-type",
                  "text/html; charset=utf-8"
                ]
              ],
              "status": 404,
              "status_text": ""
            },
            "http://localhost:8080/dataset_students/classification/train_labelled/36.png": {
              "data": "CjwhRE9DVFlQRSBodG1sPgo8aHRtbCBsYW5nPWVuPgogIDxtZXRhIGNoYXJzZXQ9dXRmLTg+CiAgPG1ldGEgbmFtZT12aWV3cG9ydCBjb250ZW50PSJpbml0aWFsLXNjYWxlPTEsIG1pbmltdW0tc2NhbGU9MSwgd2lkdGg9ZGV2aWNlLXdpZHRoIj4KICA8dGl0bGU+RXJyb3IgNDA0IChOb3QgRm91bmQpISExPC90aXRsZT4KICA8c3R5bGU+CiAgICAqe21hcmdpbjowO3BhZGRpbmc6MH1odG1sLGNvZGV7Zm9udDoxNXB4LzIycHggYXJpYWwsc2Fucy1zZXJpZn1odG1se2JhY2tncm91bmQ6I2ZmZjtjb2xvcjojMjIyO3BhZGRpbmc6MTVweH1ib2R5e21hcmdpbjo3JSBhdXRvIDA7bWF4LXdpZHRoOjM5MHB4O21pbi1oZWlnaHQ6MTgwcHg7cGFkZGluZzozMHB4IDAgMTVweH0qID4gYm9keXtiYWNrZ3JvdW5kOnVybCgvL3d3dy5nb29nbGUuY29tL2ltYWdlcy9lcnJvcnMvcm9ib3QucG5nKSAxMDAlIDVweCBuby1yZXBlYXQ7cGFkZGluZy1yaWdodDoyMDVweH1we21hcmdpbjoxMXB4IDAgMjJweDtvdmVyZmxvdzpoaWRkZW59aW5ze2NvbG9yOiM3Nzc7dGV4dC1kZWNvcmF0aW9uOm5vbmV9YSBpbWd7Ym9yZGVyOjB9QG1lZGlhIHNjcmVlbiBhbmQgKG1heC13aWR0aDo3NzJweCl7Ym9keXtiYWNrZ3JvdW5kOm5vbmU7bWFyZ2luLXRvcDowO21heC13aWR0aDpub25lO3BhZGRpbmctcmlnaHQ6MH19I2xvZ297YmFja2dyb3VuZDp1cmwoLy93d3cuZ29vZ2xlLmNvbS9pbWFnZXMvbG9nb3MvZXJyb3JwYWdlL2Vycm9yX2xvZ28tMTUweDU0LnBuZykgbm8tcmVwZWF0O21hcmdpbi1sZWZ0Oi01cHh9QG1lZGlhIG9ubHkgc2NyZWVuIGFuZCAobWluLXJlc29sdXRpb246MTkyZHBpKXsjbG9nb3tiYWNrZ3JvdW5kOnVybCgvL3d3dy5nb29nbGUuY29tL2ltYWdlcy9sb2dvcy9lcnJvcnBhZ2UvZXJyb3JfbG9nby0xNTB4NTQtMngucG5nKSBuby1yZXBlYXQgMCUgMCUvMTAwJSAxMDAlOy1tb3otYm9yZGVyLWltYWdlOnVybCgvL3d3dy5nb29nbGUuY29tL2ltYWdlcy9sb2dvcy9lcnJvcnBhZ2UvZXJyb3JfbG9nby0xNTB4NTQtMngucG5nKSAwfX1AbWVkaWEgb25seSBzY3JlZW4gYW5kICgtd2Via2l0LW1pbi1kZXZpY2UtcGl4ZWwtcmF0aW86Mil7I2xvZ297YmFja2dyb3VuZDp1cmwoLy93d3cuZ29vZ2xlLmNvbS9pbWFnZXMvbG9nb3MvZXJyb3JwYWdlL2Vycm9yX2xvZ28tMTUweDU0LTJ4LnBuZykgbm8tcmVwZWF0Oy13ZWJraXQtYmFja2dyb3VuZC1zaXplOjEwMCUgMTAwJX19I2xvZ297ZGlzcGxheTppbmxpbmUtYmxvY2s7aGVpZ2h0OjU0cHg7d2lkdGg6MTUwcHh9CiAgPC9zdHlsZT4KICA8YSBocmVmPS8vd3d3Lmdvb2dsZS5jb20vPjxzcGFuIGlkPWxvZ28gYXJpYS1sYWJlbD1Hb29nbGU+PC9zcGFuPjwvYT4KICA8cD48Yj40MDQuPC9iPiA8aW5zPlRoYXTigJlzIGFuIGVycm9yLjwvaW5zPgogIDxwPiAgPGlucz5UaGF04oCZcyBhbGwgd2Uga25vdy48L2lucz4K",
              "ok": false,
              "headers": [
                [
                  "content-length",
                  "1449"
                ],
                [
                  "content-type",
                  "text/html; charset=utf-8"
                ]
              ],
              "status": 404,
              "status_text": ""
            },
            "http://localhost:8080/dataset_students/classification/train_labelled/196.png": {
              "data": "CjwhRE9DVFlQRSBodG1sPgo8aHRtbCBsYW5nPWVuPgogIDxtZXRhIGNoYXJzZXQ9dXRmLTg+CiAgPG1ldGEgbmFtZT12aWV3cG9ydCBjb250ZW50PSJpbml0aWFsLXNjYWxlPTEsIG1pbmltdW0tc2NhbGU9MSwgd2lkdGg9ZGV2aWNlLXdpZHRoIj4KICA8dGl0bGU+RXJyb3IgNDA0IChOb3QgRm91bmQpISExPC90aXRsZT4KICA8c3R5bGU+CiAgICAqe21hcmdpbjowO3BhZGRpbmc6MH1odG1sLGNvZGV7Zm9udDoxNXB4LzIycHggYXJpYWwsc2Fucy1zZXJpZn1odG1se2JhY2tncm91bmQ6I2ZmZjtjb2xvcjojMjIyO3BhZGRpbmc6MTVweH1ib2R5e21hcmdpbjo3JSBhdXRvIDA7bWF4LXdpZHRoOjM5MHB4O21pbi1oZWlnaHQ6MTgwcHg7cGFkZGluZzozMHB4IDAgMTVweH0qID4gYm9keXtiYWNrZ3JvdW5kOnVybCgvL3d3dy5nb29nbGUuY29tL2ltYWdlcy9lcnJvcnMvcm9ib3QucG5nKSAxMDAlIDVweCBuby1yZXBlYXQ7cGFkZGluZy1yaWdodDoyMDVweH1we21hcmdpbjoxMXB4IDAgMjJweDtvdmVyZmxvdzpoaWRkZW59aW5ze2NvbG9yOiM3Nzc7dGV4dC1kZWNvcmF0aW9uOm5vbmV9YSBpbWd7Ym9yZGVyOjB9QG1lZGlhIHNjcmVlbiBhbmQgKG1heC13aWR0aDo3NzJweCl7Ym9keXtiYWNrZ3JvdW5kOm5vbmU7bWFyZ2luLXRvcDowO21heC13aWR0aDpub25lO3BhZGRpbmctcmlnaHQ6MH19I2xvZ297YmFja2dyb3VuZDp1cmwoLy93d3cuZ29vZ2xlLmNvbS9pbWFnZXMvbG9nb3MvZXJyb3JwYWdlL2Vycm9yX2xvZ28tMTUweDU0LnBuZykgbm8tcmVwZWF0O21hcmdpbi1sZWZ0Oi01cHh9QG1lZGlhIG9ubHkgc2NyZWVuIGFuZCAobWluLXJlc29sdXRpb246MTkyZHBpKXsjbG9nb3tiYWNrZ3JvdW5kOnVybCgvL3d3dy5nb29nbGUuY29tL2ltYWdlcy9sb2dvcy9lcnJvcnBhZ2UvZXJyb3JfbG9nby0xNTB4NTQtMngucG5nKSBuby1yZXBlYXQgMCUgMCUvMTAwJSAxMDAlOy1tb3otYm9yZGVyLWltYWdlOnVybCgvL3d3dy5nb29nbGUuY29tL2ltYWdlcy9sb2dvcy9lcnJvcnBhZ2UvZXJyb3JfbG9nby0xNTB4NTQtMngucG5nKSAwfX1AbWVkaWEgb25seSBzY3JlZW4gYW5kICgtd2Via2l0LW1pbi1kZXZpY2UtcGl4ZWwtcmF0aW86Mil7I2xvZ297YmFja2dyb3VuZDp1cmwoLy93d3cuZ29vZ2xlLmNvbS9pbWFnZXMvbG9nb3MvZXJyb3JwYWdlL2Vycm9yX2xvZ28tMTUweDU0LTJ4LnBuZykgbm8tcmVwZWF0Oy13ZWJraXQtYmFja2dyb3VuZC1zaXplOjEwMCUgMTAwJX19I2xvZ297ZGlzcGxheTppbmxpbmUtYmxvY2s7aGVpZ2h0OjU0cHg7d2lkdGg6MTUwcHh9CiAgPC9zdHlsZT4KICA8YSBocmVmPS8vd3d3Lmdvb2dsZS5jb20vPjxzcGFuIGlkPWxvZ28gYXJpYS1sYWJlbD1Hb29nbGU+PC9zcGFuPjwvYT4KICA8cD48Yj40MDQuPC9iPiA8aW5zPlRoYXTigJlzIGFuIGVycm9yLjwvaW5zPgogIDxwPiAgPGlucz5UaGF04oCZcyBhbGwgd2Uga25vdy48L2lucz4K",
              "ok": false,
              "headers": [
                [
                  "content-length",
                  "1449"
                ],
                [
                  "content-type",
                  "text/html; charset=utf-8"
                ]
              ],
              "status": 404,
              "status_text": ""
            },
            "http://localhost:8080/dataset_students/classification/train_labelled/166.png": {
              "data": "CjwhRE9DVFlQRSBodG1sPgo8aHRtbCBsYW5nPWVuPgogIDxtZXRhIGNoYXJzZXQ9dXRmLTg+CiAgPG1ldGEgbmFtZT12aWV3cG9ydCBjb250ZW50PSJpbml0aWFsLXNjYWxlPTEsIG1pbmltdW0tc2NhbGU9MSwgd2lkdGg9ZGV2aWNlLXdpZHRoIj4KICA8dGl0bGU+RXJyb3IgNDA0IChOb3QgRm91bmQpISExPC90aXRsZT4KICA8c3R5bGU+CiAgICAqe21hcmdpbjowO3BhZGRpbmc6MH1odG1sLGNvZGV7Zm9udDoxNXB4LzIycHggYXJpYWwsc2Fucy1zZXJpZn1odG1se2JhY2tncm91bmQ6I2ZmZjtjb2xvcjojMjIyO3BhZGRpbmc6MTVweH1ib2R5e21hcmdpbjo3JSBhdXRvIDA7bWF4LXdpZHRoOjM5MHB4O21pbi1oZWlnaHQ6MTgwcHg7cGFkZGluZzozMHB4IDAgMTVweH0qID4gYm9keXtiYWNrZ3JvdW5kOnVybCgvL3d3dy5nb29nbGUuY29tL2ltYWdlcy9lcnJvcnMvcm9ib3QucG5nKSAxMDAlIDVweCBuby1yZXBlYXQ7cGFkZGluZy1yaWdodDoyMDVweH1we21hcmdpbjoxMXB4IDAgMjJweDtvdmVyZmxvdzpoaWRkZW59aW5ze2NvbG9yOiM3Nzc7dGV4dC1kZWNvcmF0aW9uOm5vbmV9YSBpbWd7Ym9yZGVyOjB9QG1lZGlhIHNjcmVlbiBhbmQgKG1heC13aWR0aDo3NzJweCl7Ym9keXtiYWNrZ3JvdW5kOm5vbmU7bWFyZ2luLXRvcDowO21heC13aWR0aDpub25lO3BhZGRpbmctcmlnaHQ6MH19I2xvZ297YmFja2dyb3VuZDp1cmwoLy93d3cuZ29vZ2xlLmNvbS9pbWFnZXMvbG9nb3MvZXJyb3JwYWdlL2Vycm9yX2xvZ28tMTUweDU0LnBuZykgbm8tcmVwZWF0O21hcmdpbi1sZWZ0Oi01cHh9QG1lZGlhIG9ubHkgc2NyZWVuIGFuZCAobWluLXJlc29sdXRpb246MTkyZHBpKXsjbG9nb3tiYWNrZ3JvdW5kOnVybCgvL3d3dy5nb29nbGUuY29tL2ltYWdlcy9sb2dvcy9lcnJvcnBhZ2UvZXJyb3JfbG9nby0xNTB4NTQtMngucG5nKSBuby1yZXBlYXQgMCUgMCUvMTAwJSAxMDAlOy1tb3otYm9yZGVyLWltYWdlOnVybCgvL3d3dy5nb29nbGUuY29tL2ltYWdlcy9sb2dvcy9lcnJvcnBhZ2UvZXJyb3JfbG9nby0xNTB4NTQtMngucG5nKSAwfX1AbWVkaWEgb25seSBzY3JlZW4gYW5kICgtd2Via2l0LW1pbi1kZXZpY2UtcGl4ZWwtcmF0aW86Mil7I2xvZ297YmFja2dyb3VuZDp1cmwoLy93d3cuZ29vZ2xlLmNvbS9pbWFnZXMvbG9nb3MvZXJyb3JwYWdlL2Vycm9yX2xvZ28tMTUweDU0LTJ4LnBuZykgbm8tcmVwZWF0Oy13ZWJraXQtYmFja2dyb3VuZC1zaXplOjEwMCUgMTAwJX19I2xvZ297ZGlzcGxheTppbmxpbmUtYmxvY2s7aGVpZ2h0OjU0cHg7d2lkdGg6MTUwcHh9CiAgPC9zdHlsZT4KICA8YSBocmVmPS8vd3d3Lmdvb2dsZS5jb20vPjxzcGFuIGlkPWxvZ28gYXJpYS1sYWJlbD1Hb29nbGU+PC9zcGFuPjwvYT4KICA8cD48Yj40MDQuPC9iPiA8aW5zPlRoYXTigJlzIGFuIGVycm9yLjwvaW5zPgogIDxwPiAgPGlucz5UaGF04oCZcyBhbGwgd2Uga25vdy48L2lucz4K",
              "ok": false,
              "headers": [
                [
                  "content-length",
                  "1449"
                ],
                [
                  "content-type",
                  "text/html; charset=utf-8"
                ]
              ],
              "status": 404,
              "status_text": ""
            },
            "http://localhost:8080/dataset_students/classification/train_labelled/41.png": {
              "data": "CjwhRE9DVFlQRSBodG1sPgo8aHRtbCBsYW5nPWVuPgogIDxtZXRhIGNoYXJzZXQ9dXRmLTg+CiAgPG1ldGEgbmFtZT12aWV3cG9ydCBjb250ZW50PSJpbml0aWFsLXNjYWxlPTEsIG1pbmltdW0tc2NhbGU9MSwgd2lkdGg9ZGV2aWNlLXdpZHRoIj4KICA8dGl0bGU+RXJyb3IgNDA0IChOb3QgRm91bmQpISExPC90aXRsZT4KICA8c3R5bGU+CiAgICAqe21hcmdpbjowO3BhZGRpbmc6MH1odG1sLGNvZGV7Zm9udDoxNXB4LzIycHggYXJpYWwsc2Fucy1zZXJpZn1odG1se2JhY2tncm91bmQ6I2ZmZjtjb2xvcjojMjIyO3BhZGRpbmc6MTVweH1ib2R5e21hcmdpbjo3JSBhdXRvIDA7bWF4LXdpZHRoOjM5MHB4O21pbi1oZWlnaHQ6MTgwcHg7cGFkZGluZzozMHB4IDAgMTVweH0qID4gYm9keXtiYWNrZ3JvdW5kOnVybCgvL3d3dy5nb29nbGUuY29tL2ltYWdlcy9lcnJvcnMvcm9ib3QucG5nKSAxMDAlIDVweCBuby1yZXBlYXQ7cGFkZGluZy1yaWdodDoyMDVweH1we21hcmdpbjoxMXB4IDAgMjJweDtvdmVyZmxvdzpoaWRkZW59aW5ze2NvbG9yOiM3Nzc7dGV4dC1kZWNvcmF0aW9uOm5vbmV9YSBpbWd7Ym9yZGVyOjB9QG1lZGlhIHNjcmVlbiBhbmQgKG1heC13aWR0aDo3NzJweCl7Ym9keXtiYWNrZ3JvdW5kOm5vbmU7bWFyZ2luLXRvcDowO21heC13aWR0aDpub25lO3BhZGRpbmctcmlnaHQ6MH19I2xvZ297YmFja2dyb3VuZDp1cmwoLy93d3cuZ29vZ2xlLmNvbS9pbWFnZXMvbG9nb3MvZXJyb3JwYWdlL2Vycm9yX2xvZ28tMTUweDU0LnBuZykgbm8tcmVwZWF0O21hcmdpbi1sZWZ0Oi01cHh9QG1lZGlhIG9ubHkgc2NyZWVuIGFuZCAobWluLXJlc29sdXRpb246MTkyZHBpKXsjbG9nb3tiYWNrZ3JvdW5kOnVybCgvL3d3dy5nb29nbGUuY29tL2ltYWdlcy9sb2dvcy9lcnJvcnBhZ2UvZXJyb3JfbG9nby0xNTB4NTQtMngucG5nKSBuby1yZXBlYXQgMCUgMCUvMTAwJSAxMDAlOy1tb3otYm9yZGVyLWltYWdlOnVybCgvL3d3dy5nb29nbGUuY29tL2ltYWdlcy9sb2dvcy9lcnJvcnBhZ2UvZXJyb3JfbG9nby0xNTB4NTQtMngucG5nKSAwfX1AbWVkaWEgb25seSBzY3JlZW4gYW5kICgtd2Via2l0LW1pbi1kZXZpY2UtcGl4ZWwtcmF0aW86Mil7I2xvZ297YmFja2dyb3VuZDp1cmwoLy93d3cuZ29vZ2xlLmNvbS9pbWFnZXMvbG9nb3MvZXJyb3JwYWdlL2Vycm9yX2xvZ28tMTUweDU0LTJ4LnBuZykgbm8tcmVwZWF0Oy13ZWJraXQtYmFja2dyb3VuZC1zaXplOjEwMCUgMTAwJX19I2xvZ297ZGlzcGxheTppbmxpbmUtYmxvY2s7aGVpZ2h0OjU0cHg7d2lkdGg6MTUwcHh9CiAgPC9zdHlsZT4KICA8YSBocmVmPS8vd3d3Lmdvb2dsZS5jb20vPjxzcGFuIGlkPWxvZ28gYXJpYS1sYWJlbD1Hb29nbGU+PC9zcGFuPjwvYT4KICA8cD48Yj40MDQuPC9iPiA8aW5zPlRoYXTigJlzIGFuIGVycm9yLjwvaW5zPgogIDxwPiAgPGlucz5UaGF04oCZcyBhbGwgd2Uga25vdy48L2lucz4K",
              "ok": false,
              "headers": [
                [
                  "content-length",
                  "1449"
                ],
                [
                  "content-type",
                  "text/html; charset=utf-8"
                ]
              ],
              "status": 404,
              "status_text": ""
            },
            "http://localhost:8080/dataset_students/classification/train_labelled/129.png": {
              "data": "CjwhRE9DVFlQRSBodG1sPgo8aHRtbCBsYW5nPWVuPgogIDxtZXRhIGNoYXJzZXQ9dXRmLTg+CiAgPG1ldGEgbmFtZT12aWV3cG9ydCBjb250ZW50PSJpbml0aWFsLXNjYWxlPTEsIG1pbmltdW0tc2NhbGU9MSwgd2lkdGg9ZGV2aWNlLXdpZHRoIj4KICA8dGl0bGU+RXJyb3IgNDA0IChOb3QgRm91bmQpISExPC90aXRsZT4KICA8c3R5bGU+CiAgICAqe21hcmdpbjowO3BhZGRpbmc6MH1odG1sLGNvZGV7Zm9udDoxNXB4LzIycHggYXJpYWwsc2Fucy1zZXJpZn1odG1se2JhY2tncm91bmQ6I2ZmZjtjb2xvcjojMjIyO3BhZGRpbmc6MTVweH1ib2R5e21hcmdpbjo3JSBhdXRvIDA7bWF4LXdpZHRoOjM5MHB4O21pbi1oZWlnaHQ6MTgwcHg7cGFkZGluZzozMHB4IDAgMTVweH0qID4gYm9keXtiYWNrZ3JvdW5kOnVybCgvL3d3dy5nb29nbGUuY29tL2ltYWdlcy9lcnJvcnMvcm9ib3QucG5nKSAxMDAlIDVweCBuby1yZXBlYXQ7cGFkZGluZy1yaWdodDoyMDVweH1we21hcmdpbjoxMXB4IDAgMjJweDtvdmVyZmxvdzpoaWRkZW59aW5ze2NvbG9yOiM3Nzc7dGV4dC1kZWNvcmF0aW9uOm5vbmV9YSBpbWd7Ym9yZGVyOjB9QG1lZGlhIHNjcmVlbiBhbmQgKG1heC13aWR0aDo3NzJweCl7Ym9keXtiYWNrZ3JvdW5kOm5vbmU7bWFyZ2luLXRvcDowO21heC13aWR0aDpub25lO3BhZGRpbmctcmlnaHQ6MH19I2xvZ297YmFja2dyb3VuZDp1cmwoLy93d3cuZ29vZ2xlLmNvbS9pbWFnZXMvbG9nb3MvZXJyb3JwYWdlL2Vycm9yX2xvZ28tMTUweDU0LnBuZykgbm8tcmVwZWF0O21hcmdpbi1sZWZ0Oi01cHh9QG1lZGlhIG9ubHkgc2NyZWVuIGFuZCAobWluLXJlc29sdXRpb246MTkyZHBpKXsjbG9nb3tiYWNrZ3JvdW5kOnVybCgvL3d3dy5nb29nbGUuY29tL2ltYWdlcy9sb2dvcy9lcnJvcnBhZ2UvZXJyb3JfbG9nby0xNTB4NTQtMngucG5nKSBuby1yZXBlYXQgMCUgMCUvMTAwJSAxMDAlOy1tb3otYm9yZGVyLWltYWdlOnVybCgvL3d3dy5nb29nbGUuY29tL2ltYWdlcy9sb2dvcy9lcnJvcnBhZ2UvZXJyb3JfbG9nby0xNTB4NTQtMngucG5nKSAwfX1AbWVkaWEgb25seSBzY3JlZW4gYW5kICgtd2Via2l0LW1pbi1kZXZpY2UtcGl4ZWwtcmF0aW86Mil7I2xvZ297YmFja2dyb3VuZDp1cmwoLy93d3cuZ29vZ2xlLmNvbS9pbWFnZXMvbG9nb3MvZXJyb3JwYWdlL2Vycm9yX2xvZ28tMTUweDU0LTJ4LnBuZykgbm8tcmVwZWF0Oy13ZWJraXQtYmFja2dyb3VuZC1zaXplOjEwMCUgMTAwJX19I2xvZ297ZGlzcGxheTppbmxpbmUtYmxvY2s7aGVpZ2h0OjU0cHg7d2lkdGg6MTUwcHh9CiAgPC9zdHlsZT4KICA8YSBocmVmPS8vd3d3Lmdvb2dsZS5jb20vPjxzcGFuIGlkPWxvZ28gYXJpYS1sYWJlbD1Hb29nbGU+PC9zcGFuPjwvYT4KICA8cD48Yj40MDQuPC9iPiA8aW5zPlRoYXTigJlzIGFuIGVycm9yLjwvaW5zPgogIDxwPiAgPGlucz5UaGF04oCZcyBhbGwgd2Uga25vdy48L2lucz4K",
              "ok": false,
              "headers": [
                [
                  "content-length",
                  "1449"
                ],
                [
                  "content-type",
                  "text/html; charset=utf-8"
                ]
              ],
              "status": 404,
              "status_text": ""
            },
            "http://localhost:8080/dataset_students/classification/train_labelled/135.png": {
              "data": "CjwhRE9DVFlQRSBodG1sPgo8aHRtbCBsYW5nPWVuPgogIDxtZXRhIGNoYXJzZXQ9dXRmLTg+CiAgPG1ldGEgbmFtZT12aWV3cG9ydCBjb250ZW50PSJpbml0aWFsLXNjYWxlPTEsIG1pbmltdW0tc2NhbGU9MSwgd2lkdGg9ZGV2aWNlLXdpZHRoIj4KICA8dGl0bGU+RXJyb3IgNDA0IChOb3QgRm91bmQpISExPC90aXRsZT4KICA8c3R5bGU+CiAgICAqe21hcmdpbjowO3BhZGRpbmc6MH1odG1sLGNvZGV7Zm9udDoxNXB4LzIycHggYXJpYWwsc2Fucy1zZXJpZn1odG1se2JhY2tncm91bmQ6I2ZmZjtjb2xvcjojMjIyO3BhZGRpbmc6MTVweH1ib2R5e21hcmdpbjo3JSBhdXRvIDA7bWF4LXdpZHRoOjM5MHB4O21pbi1oZWlnaHQ6MTgwcHg7cGFkZGluZzozMHB4IDAgMTVweH0qID4gYm9keXtiYWNrZ3JvdW5kOnVybCgvL3d3dy5nb29nbGUuY29tL2ltYWdlcy9lcnJvcnMvcm9ib3QucG5nKSAxMDAlIDVweCBuby1yZXBlYXQ7cGFkZGluZy1yaWdodDoyMDVweH1we21hcmdpbjoxMXB4IDAgMjJweDtvdmVyZmxvdzpoaWRkZW59aW5ze2NvbG9yOiM3Nzc7dGV4dC1kZWNvcmF0aW9uOm5vbmV9YSBpbWd7Ym9yZGVyOjB9QG1lZGlhIHNjcmVlbiBhbmQgKG1heC13aWR0aDo3NzJweCl7Ym9keXtiYWNrZ3JvdW5kOm5vbmU7bWFyZ2luLXRvcDowO21heC13aWR0aDpub25lO3BhZGRpbmctcmlnaHQ6MH19I2xvZ297YmFja2dyb3VuZDp1cmwoLy93d3cuZ29vZ2xlLmNvbS9pbWFnZXMvbG9nb3MvZXJyb3JwYWdlL2Vycm9yX2xvZ28tMTUweDU0LnBuZykgbm8tcmVwZWF0O21hcmdpbi1sZWZ0Oi01cHh9QG1lZGlhIG9ubHkgc2NyZWVuIGFuZCAobWluLXJlc29sdXRpb246MTkyZHBpKXsjbG9nb3tiYWNrZ3JvdW5kOnVybCgvL3d3dy5nb29nbGUuY29tL2ltYWdlcy9sb2dvcy9lcnJvcnBhZ2UvZXJyb3JfbG9nby0xNTB4NTQtMngucG5nKSBuby1yZXBlYXQgMCUgMCUvMTAwJSAxMDAlOy1tb3otYm9yZGVyLWltYWdlOnVybCgvL3d3dy5nb29nbGUuY29tL2ltYWdlcy9sb2dvcy9lcnJvcnBhZ2UvZXJyb3JfbG9nby0xNTB4NTQtMngucG5nKSAwfX1AbWVkaWEgb25seSBzY3JlZW4gYW5kICgtd2Via2l0LW1pbi1kZXZpY2UtcGl4ZWwtcmF0aW86Mil7I2xvZ297YmFja2dyb3VuZDp1cmwoLy93d3cuZ29vZ2xlLmNvbS9pbWFnZXMvbG9nb3MvZXJyb3JwYWdlL2Vycm9yX2xvZ28tMTUweDU0LTJ4LnBuZykgbm8tcmVwZWF0Oy13ZWJraXQtYmFja2dyb3VuZC1zaXplOjEwMCUgMTAwJX19I2xvZ297ZGlzcGxheTppbmxpbmUtYmxvY2s7aGVpZ2h0OjU0cHg7d2lkdGg6MTUwcHh9CiAgPC9zdHlsZT4KICA8YSBocmVmPS8vd3d3Lmdvb2dsZS5jb20vPjxzcGFuIGlkPWxvZ28gYXJpYS1sYWJlbD1Hb29nbGU+PC9zcGFuPjwvYT4KICA8cD48Yj40MDQuPC9iPiA8aW5zPlRoYXTigJlzIGFuIGVycm9yLjwvaW5zPgogIDxwPiAgPGlucz5UaGF04oCZcyBhbGwgd2Uga25vdy48L2lucz4K",
              "ok": false,
              "headers": [
                [
                  "content-length",
                  "1449"
                ],
                [
                  "content-type",
                  "text/html; charset=utf-8"
                ]
              ],
              "status": 404,
              "status_text": ""
            },
            "http://localhost:8080/dataset_students/classification/train_labelled/195.png": {
              "data": "CjwhRE9DVFlQRSBodG1sPgo8aHRtbCBsYW5nPWVuPgogIDxtZXRhIGNoYXJzZXQ9dXRmLTg+CiAgPG1ldGEgbmFtZT12aWV3cG9ydCBjb250ZW50PSJpbml0aWFsLXNjYWxlPTEsIG1pbmltdW0tc2NhbGU9MSwgd2lkdGg9ZGV2aWNlLXdpZHRoIj4KICA8dGl0bGU+RXJyb3IgNDA0IChOb3QgRm91bmQpISExPC90aXRsZT4KICA8c3R5bGU+CiAgICAqe21hcmdpbjowO3BhZGRpbmc6MH1odG1sLGNvZGV7Zm9udDoxNXB4LzIycHggYXJpYWwsc2Fucy1zZXJpZn1odG1se2JhY2tncm91bmQ6I2ZmZjtjb2xvcjojMjIyO3BhZGRpbmc6MTVweH1ib2R5e21hcmdpbjo3JSBhdXRvIDA7bWF4LXdpZHRoOjM5MHB4O21pbi1oZWlnaHQ6MTgwcHg7cGFkZGluZzozMHB4IDAgMTVweH0qID4gYm9keXtiYWNrZ3JvdW5kOnVybCgvL3d3dy5nb29nbGUuY29tL2ltYWdlcy9lcnJvcnMvcm9ib3QucG5nKSAxMDAlIDVweCBuby1yZXBlYXQ7cGFkZGluZy1yaWdodDoyMDVweH1we21hcmdpbjoxMXB4IDAgMjJweDtvdmVyZmxvdzpoaWRkZW59aW5ze2NvbG9yOiM3Nzc7dGV4dC1kZWNvcmF0aW9uOm5vbmV9YSBpbWd7Ym9yZGVyOjB9QG1lZGlhIHNjcmVlbiBhbmQgKG1heC13aWR0aDo3NzJweCl7Ym9keXtiYWNrZ3JvdW5kOm5vbmU7bWFyZ2luLXRvcDowO21heC13aWR0aDpub25lO3BhZGRpbmctcmlnaHQ6MH19I2xvZ297YmFja2dyb3VuZDp1cmwoLy93d3cuZ29vZ2xlLmNvbS9pbWFnZXMvbG9nb3MvZXJyb3JwYWdlL2Vycm9yX2xvZ28tMTUweDU0LnBuZykgbm8tcmVwZWF0O21hcmdpbi1sZWZ0Oi01cHh9QG1lZGlhIG9ubHkgc2NyZWVuIGFuZCAobWluLXJlc29sdXRpb246MTkyZHBpKXsjbG9nb3tiYWNrZ3JvdW5kOnVybCgvL3d3dy5nb29nbGUuY29tL2ltYWdlcy9sb2dvcy9lcnJvcnBhZ2UvZXJyb3JfbG9nby0xNTB4NTQtMngucG5nKSBuby1yZXBlYXQgMCUgMCUvMTAwJSAxMDAlOy1tb3otYm9yZGVyLWltYWdlOnVybCgvL3d3dy5nb29nbGUuY29tL2ltYWdlcy9sb2dvcy9lcnJvcnBhZ2UvZXJyb3JfbG9nby0xNTB4NTQtMngucG5nKSAwfX1AbWVkaWEgb25seSBzY3JlZW4gYW5kICgtd2Via2l0LW1pbi1kZXZpY2UtcGl4ZWwtcmF0aW86Mil7I2xvZ297YmFja2dyb3VuZDp1cmwoLy93d3cuZ29vZ2xlLmNvbS9pbWFnZXMvbG9nb3MvZXJyb3JwYWdlL2Vycm9yX2xvZ28tMTUweDU0LTJ4LnBuZykgbm8tcmVwZWF0Oy13ZWJraXQtYmFja2dyb3VuZC1zaXplOjEwMCUgMTAwJX19I2xvZ297ZGlzcGxheTppbmxpbmUtYmxvY2s7aGVpZ2h0OjU0cHg7d2lkdGg6MTUwcHh9CiAgPC9zdHlsZT4KICA8YSBocmVmPS8vd3d3Lmdvb2dsZS5jb20vPjxzcGFuIGlkPWxvZ28gYXJpYS1sYWJlbD1Hb29nbGU+PC9zcGFuPjwvYT4KICA8cD48Yj40MDQuPC9iPiA8aW5zPlRoYXTigJlzIGFuIGVycm9yLjwvaW5zPgogIDxwPiAgPGlucz5UaGF04oCZcyBhbGwgd2Uga25vdy48L2lucz4K",
              "ok": false,
              "headers": [
                [
                  "content-length",
                  "1449"
                ],
                [
                  "content-type",
                  "text/html; charset=utf-8"
                ]
              ],
              "status": 404,
              "status_text": ""
            },
            "http://localhost:8080/dataset_students/classification/train_unlabelled/276.png": {
              "data": "CjwhRE9DVFlQRSBodG1sPgo8aHRtbCBsYW5nPWVuPgogIDxtZXRhIGNoYXJzZXQ9dXRmLTg+CiAgPG1ldGEgbmFtZT12aWV3cG9ydCBjb250ZW50PSJpbml0aWFsLXNjYWxlPTEsIG1pbmltdW0tc2NhbGU9MSwgd2lkdGg9ZGV2aWNlLXdpZHRoIj4KICA8dGl0bGU+RXJyb3IgNDA0IChOb3QgRm91bmQpISExPC90aXRsZT4KICA8c3R5bGU+CiAgICAqe21hcmdpbjowO3BhZGRpbmc6MH1odG1sLGNvZGV7Zm9udDoxNXB4LzIycHggYXJpYWwsc2Fucy1zZXJpZn1odG1se2JhY2tncm91bmQ6I2ZmZjtjb2xvcjojMjIyO3BhZGRpbmc6MTVweH1ib2R5e21hcmdpbjo3JSBhdXRvIDA7bWF4LXdpZHRoOjM5MHB4O21pbi1oZWlnaHQ6MTgwcHg7cGFkZGluZzozMHB4IDAgMTVweH0qID4gYm9keXtiYWNrZ3JvdW5kOnVybCgvL3d3dy5nb29nbGUuY29tL2ltYWdlcy9lcnJvcnMvcm9ib3QucG5nKSAxMDAlIDVweCBuby1yZXBlYXQ7cGFkZGluZy1yaWdodDoyMDVweH1we21hcmdpbjoxMXB4IDAgMjJweDtvdmVyZmxvdzpoaWRkZW59aW5ze2NvbG9yOiM3Nzc7dGV4dC1kZWNvcmF0aW9uOm5vbmV9YSBpbWd7Ym9yZGVyOjB9QG1lZGlhIHNjcmVlbiBhbmQgKG1heC13aWR0aDo3NzJweCl7Ym9keXtiYWNrZ3JvdW5kOm5vbmU7bWFyZ2luLXRvcDowO21heC13aWR0aDpub25lO3BhZGRpbmctcmlnaHQ6MH19I2xvZ297YmFja2dyb3VuZDp1cmwoLy93d3cuZ29vZ2xlLmNvbS9pbWFnZXMvbG9nb3MvZXJyb3JwYWdlL2Vycm9yX2xvZ28tMTUweDU0LnBuZykgbm8tcmVwZWF0O21hcmdpbi1sZWZ0Oi01cHh9QG1lZGlhIG9ubHkgc2NyZWVuIGFuZCAobWluLXJlc29sdXRpb246MTkyZHBpKXsjbG9nb3tiYWNrZ3JvdW5kOnVybCgvL3d3dy5nb29nbGUuY29tL2ltYWdlcy9sb2dvcy9lcnJvcnBhZ2UvZXJyb3JfbG9nby0xNTB4NTQtMngucG5nKSBuby1yZXBlYXQgMCUgMCUvMTAwJSAxMDAlOy1tb3otYm9yZGVyLWltYWdlOnVybCgvL3d3dy5nb29nbGUuY29tL2ltYWdlcy9sb2dvcy9lcnJvcnBhZ2UvZXJyb3JfbG9nby0xNTB4NTQtMngucG5nKSAwfX1AbWVkaWEgb25seSBzY3JlZW4gYW5kICgtd2Via2l0LW1pbi1kZXZpY2UtcGl4ZWwtcmF0aW86Mil7I2xvZ297YmFja2dyb3VuZDp1cmwoLy93d3cuZ29vZ2xlLmNvbS9pbWFnZXMvbG9nb3MvZXJyb3JwYWdlL2Vycm9yX2xvZ28tMTUweDU0LTJ4LnBuZykgbm8tcmVwZWF0Oy13ZWJraXQtYmFja2dyb3VuZC1zaXplOjEwMCUgMTAwJX19I2xvZ297ZGlzcGxheTppbmxpbmUtYmxvY2s7aGVpZ2h0OjU0cHg7d2lkdGg6MTUwcHh9CiAgPC9zdHlsZT4KICA8YSBocmVmPS8vd3d3Lmdvb2dsZS5jb20vPjxzcGFuIGlkPWxvZ28gYXJpYS1sYWJlbD1Hb29nbGU+PC9zcGFuPjwvYT4KICA8cD48Yj40MDQuPC9iPiA8aW5zPlRoYXTigJlzIGFuIGVycm9yLjwvaW5zPgogIDxwPiAgPGlucz5UaGF04oCZcyBhbGwgd2Uga25vdy48L2lucz4K",
              "ok": false,
              "headers": [
                [
                  "content-length",
                  "1449"
                ],
                [
                  "content-type",
                  "text/html; charset=utf-8"
                ]
              ],
              "status": 404,
              "status_text": ""
            },
            "http://localhost:8080/dataset_students/classification/train_labelled/85.png": {
              "data": "CjwhRE9DVFlQRSBodG1sPgo8aHRtbCBsYW5nPWVuPgogIDxtZXRhIGNoYXJzZXQ9dXRmLTg+CiAgPG1ldGEgbmFtZT12aWV3cG9ydCBjb250ZW50PSJpbml0aWFsLXNjYWxlPTEsIG1pbmltdW0tc2NhbGU9MSwgd2lkdGg9ZGV2aWNlLXdpZHRoIj4KICA8dGl0bGU+RXJyb3IgNDA0IChOb3QgRm91bmQpISExPC90aXRsZT4KICA8c3R5bGU+CiAgICAqe21hcmdpbjowO3BhZGRpbmc6MH1odG1sLGNvZGV7Zm9udDoxNXB4LzIycHggYXJpYWwsc2Fucy1zZXJpZn1odG1se2JhY2tncm91bmQ6I2ZmZjtjb2xvcjojMjIyO3BhZGRpbmc6MTVweH1ib2R5e21hcmdpbjo3JSBhdXRvIDA7bWF4LXdpZHRoOjM5MHB4O21pbi1oZWlnaHQ6MTgwcHg7cGFkZGluZzozMHB4IDAgMTVweH0qID4gYm9keXtiYWNrZ3JvdW5kOnVybCgvL3d3dy5nb29nbGUuY29tL2ltYWdlcy9lcnJvcnMvcm9ib3QucG5nKSAxMDAlIDVweCBuby1yZXBlYXQ7cGFkZGluZy1yaWdodDoyMDVweH1we21hcmdpbjoxMXB4IDAgMjJweDtvdmVyZmxvdzpoaWRkZW59aW5ze2NvbG9yOiM3Nzc7dGV4dC1kZWNvcmF0aW9uOm5vbmV9YSBpbWd7Ym9yZGVyOjB9QG1lZGlhIHNjcmVlbiBhbmQgKG1heC13aWR0aDo3NzJweCl7Ym9keXtiYWNrZ3JvdW5kOm5vbmU7bWFyZ2luLXRvcDowO21heC13aWR0aDpub25lO3BhZGRpbmctcmlnaHQ6MH19I2xvZ297YmFja2dyb3VuZDp1cmwoLy93d3cuZ29vZ2xlLmNvbS9pbWFnZXMvbG9nb3MvZXJyb3JwYWdlL2Vycm9yX2xvZ28tMTUweDU0LnBuZykgbm8tcmVwZWF0O21hcmdpbi1sZWZ0Oi01cHh9QG1lZGlhIG9ubHkgc2NyZWVuIGFuZCAobWluLXJlc29sdXRpb246MTkyZHBpKXsjbG9nb3tiYWNrZ3JvdW5kOnVybCgvL3d3dy5nb29nbGUuY29tL2ltYWdlcy9sb2dvcy9lcnJvcnBhZ2UvZXJyb3JfbG9nby0xNTB4NTQtMngucG5nKSBuby1yZXBlYXQgMCUgMCUvMTAwJSAxMDAlOy1tb3otYm9yZGVyLWltYWdlOnVybCgvL3d3dy5nb29nbGUuY29tL2ltYWdlcy9sb2dvcy9lcnJvcnBhZ2UvZXJyb3JfbG9nby0xNTB4NTQtMngucG5nKSAwfX1AbWVkaWEgb25seSBzY3JlZW4gYW5kICgtd2Via2l0LW1pbi1kZXZpY2UtcGl4ZWwtcmF0aW86Mil7I2xvZ297YmFja2dyb3VuZDp1cmwoLy93d3cuZ29vZ2xlLmNvbS9pbWFnZXMvbG9nb3MvZXJyb3JwYWdlL2Vycm9yX2xvZ28tMTUweDU0LTJ4LnBuZykgbm8tcmVwZWF0Oy13ZWJraXQtYmFja2dyb3VuZC1zaXplOjEwMCUgMTAwJX19I2xvZ297ZGlzcGxheTppbmxpbmUtYmxvY2s7aGVpZ2h0OjU0cHg7d2lkdGg6MTUwcHh9CiAgPC9zdHlsZT4KICA8YSBocmVmPS8vd3d3Lmdvb2dsZS5jb20vPjxzcGFuIGlkPWxvZ28gYXJpYS1sYWJlbD1Hb29nbGU+PC9zcGFuPjwvYT4KICA8cD48Yj40MDQuPC9iPiA8aW5zPlRoYXTigJlzIGFuIGVycm9yLjwvaW5zPgogIDxwPiAgPGlucz5UaGF04oCZcyBhbGwgd2Uga25vdy48L2lucz4K",
              "ok": false,
              "headers": [
                [
                  "content-length",
                  "1449"
                ],
                [
                  "content-type",
                  "text/html; charset=utf-8"
                ]
              ],
              "status": 404,
              "status_text": ""
            },
            "http://localhost:8080/dataset_students/classification/train_labelled/189.png": {
              "data": "CjwhRE9DVFlQRSBodG1sPgo8aHRtbCBsYW5nPWVuPgogIDxtZXRhIGNoYXJzZXQ9dXRmLTg+CiAgPG1ldGEgbmFtZT12aWV3cG9ydCBjb250ZW50PSJpbml0aWFsLXNjYWxlPTEsIG1pbmltdW0tc2NhbGU9MSwgd2lkdGg9ZGV2aWNlLXdpZHRoIj4KICA8dGl0bGU+RXJyb3IgNDA0IChOb3QgRm91bmQpISExPC90aXRsZT4KICA8c3R5bGU+CiAgICAqe21hcmdpbjowO3BhZGRpbmc6MH1odG1sLGNvZGV7Zm9udDoxNXB4LzIycHggYXJpYWwsc2Fucy1zZXJpZn1odG1se2JhY2tncm91bmQ6I2ZmZjtjb2xvcjojMjIyO3BhZGRpbmc6MTVweH1ib2R5e21hcmdpbjo3JSBhdXRvIDA7bWF4LXdpZHRoOjM5MHB4O21pbi1oZWlnaHQ6MTgwcHg7cGFkZGluZzozMHB4IDAgMTVweH0qID4gYm9keXtiYWNrZ3JvdW5kOnVybCgvL3d3dy5nb29nbGUuY29tL2ltYWdlcy9lcnJvcnMvcm9ib3QucG5nKSAxMDAlIDVweCBuby1yZXBlYXQ7cGFkZGluZy1yaWdodDoyMDVweH1we21hcmdpbjoxMXB4IDAgMjJweDtvdmVyZmxvdzpoaWRkZW59aW5ze2NvbG9yOiM3Nzc7dGV4dC1kZWNvcmF0aW9uOm5vbmV9YSBpbWd7Ym9yZGVyOjB9QG1lZGlhIHNjcmVlbiBhbmQgKG1heC13aWR0aDo3NzJweCl7Ym9keXtiYWNrZ3JvdW5kOm5vbmU7bWFyZ2luLXRvcDowO21heC13aWR0aDpub25lO3BhZGRpbmctcmlnaHQ6MH19I2xvZ297YmFja2dyb3VuZDp1cmwoLy93d3cuZ29vZ2xlLmNvbS9pbWFnZXMvbG9nb3MvZXJyb3JwYWdlL2Vycm9yX2xvZ28tMTUweDU0LnBuZykgbm8tcmVwZWF0O21hcmdpbi1sZWZ0Oi01cHh9QG1lZGlhIG9ubHkgc2NyZWVuIGFuZCAobWluLXJlc29sdXRpb246MTkyZHBpKXsjbG9nb3tiYWNrZ3JvdW5kOnVybCgvL3d3dy5nb29nbGUuY29tL2ltYWdlcy9sb2dvcy9lcnJvcnBhZ2UvZXJyb3JfbG9nby0xNTB4NTQtMngucG5nKSBuby1yZXBlYXQgMCUgMCUvMTAwJSAxMDAlOy1tb3otYm9yZGVyLWltYWdlOnVybCgvL3d3dy5nb29nbGUuY29tL2ltYWdlcy9sb2dvcy9lcnJvcnBhZ2UvZXJyb3JfbG9nby0xNTB4NTQtMngucG5nKSAwfX1AbWVkaWEgb25seSBzY3JlZW4gYW5kICgtd2Via2l0LW1pbi1kZXZpY2UtcGl4ZWwtcmF0aW86Mil7I2xvZ297YmFja2dyb3VuZDp1cmwoLy93d3cuZ29vZ2xlLmNvbS9pbWFnZXMvbG9nb3MvZXJyb3JwYWdlL2Vycm9yX2xvZ28tMTUweDU0LTJ4LnBuZykgbm8tcmVwZWF0Oy13ZWJraXQtYmFja2dyb3VuZC1zaXplOjEwMCUgMTAwJX19I2xvZ297ZGlzcGxheTppbmxpbmUtYmxvY2s7aGVpZ2h0OjU0cHg7d2lkdGg6MTUwcHh9CiAgPC9zdHlsZT4KICA8YSBocmVmPS8vd3d3Lmdvb2dsZS5jb20vPjxzcGFuIGlkPWxvZ28gYXJpYS1sYWJlbD1Hb29nbGU+PC9zcGFuPjwvYT4KICA8cD48Yj40MDQuPC9iPiA8aW5zPlRoYXTigJlzIGFuIGVycm9yLjwvaW5zPgogIDxwPiAgPGlucz5UaGF04oCZcyBhbGwgd2Uga25vdy48L2lucz4K",
              "ok": false,
              "headers": [
                [
                  "content-length",
                  "1449"
                ],
                [
                  "content-type",
                  "text/html; charset=utf-8"
                ]
              ],
              "status": 404,
              "status_text": ""
            },
            "http://localhost:8080/dataset_students/classification/train_labelled/48.png": {
              "data": "CjwhRE9DVFlQRSBodG1sPgo8aHRtbCBsYW5nPWVuPgogIDxtZXRhIGNoYXJzZXQ9dXRmLTg+CiAgPG1ldGEgbmFtZT12aWV3cG9ydCBjb250ZW50PSJpbml0aWFsLXNjYWxlPTEsIG1pbmltdW0tc2NhbGU9MSwgd2lkdGg9ZGV2aWNlLXdpZHRoIj4KICA8dGl0bGU+RXJyb3IgNDA0IChOb3QgRm91bmQpISExPC90aXRsZT4KICA8c3R5bGU+CiAgICAqe21hcmdpbjowO3BhZGRpbmc6MH1odG1sLGNvZGV7Zm9udDoxNXB4LzIycHggYXJpYWwsc2Fucy1zZXJpZn1odG1se2JhY2tncm91bmQ6I2ZmZjtjb2xvcjojMjIyO3BhZGRpbmc6MTVweH1ib2R5e21hcmdpbjo3JSBhdXRvIDA7bWF4LXdpZHRoOjM5MHB4O21pbi1oZWlnaHQ6MTgwcHg7cGFkZGluZzozMHB4IDAgMTVweH0qID4gYm9keXtiYWNrZ3JvdW5kOnVybCgvL3d3dy5nb29nbGUuY29tL2ltYWdlcy9lcnJvcnMvcm9ib3QucG5nKSAxMDAlIDVweCBuby1yZXBlYXQ7cGFkZGluZy1yaWdodDoyMDVweH1we21hcmdpbjoxMXB4IDAgMjJweDtvdmVyZmxvdzpoaWRkZW59aW5ze2NvbG9yOiM3Nzc7dGV4dC1kZWNvcmF0aW9uOm5vbmV9YSBpbWd7Ym9yZGVyOjB9QG1lZGlhIHNjcmVlbiBhbmQgKG1heC13aWR0aDo3NzJweCl7Ym9keXtiYWNrZ3JvdW5kOm5vbmU7bWFyZ2luLXRvcDowO21heC13aWR0aDpub25lO3BhZGRpbmctcmlnaHQ6MH19I2xvZ297YmFja2dyb3VuZDp1cmwoLy93d3cuZ29vZ2xlLmNvbS9pbWFnZXMvbG9nb3MvZXJyb3JwYWdlL2Vycm9yX2xvZ28tMTUweDU0LnBuZykgbm8tcmVwZWF0O21hcmdpbi1sZWZ0Oi01cHh9QG1lZGlhIG9ubHkgc2NyZWVuIGFuZCAobWluLXJlc29sdXRpb246MTkyZHBpKXsjbG9nb3tiYWNrZ3JvdW5kOnVybCgvL3d3dy5nb29nbGUuY29tL2ltYWdlcy9sb2dvcy9lcnJvcnBhZ2UvZXJyb3JfbG9nby0xNTB4NTQtMngucG5nKSBuby1yZXBlYXQgMCUgMCUvMTAwJSAxMDAlOy1tb3otYm9yZGVyLWltYWdlOnVybCgvL3d3dy5nb29nbGUuY29tL2ltYWdlcy9sb2dvcy9lcnJvcnBhZ2UvZXJyb3JfbG9nby0xNTB4NTQtMngucG5nKSAwfX1AbWVkaWEgb25seSBzY3JlZW4gYW5kICgtd2Via2l0LW1pbi1kZXZpY2UtcGl4ZWwtcmF0aW86Mil7I2xvZ297YmFja2dyb3VuZDp1cmwoLy93d3cuZ29vZ2xlLmNvbS9pbWFnZXMvbG9nb3MvZXJyb3JwYWdlL2Vycm9yX2xvZ28tMTUweDU0LTJ4LnBuZykgbm8tcmVwZWF0Oy13ZWJraXQtYmFja2dyb3VuZC1zaXplOjEwMCUgMTAwJX19I2xvZ297ZGlzcGxheTppbmxpbmUtYmxvY2s7aGVpZ2h0OjU0cHg7d2lkdGg6MTUwcHh9CiAgPC9zdHlsZT4KICA8YSBocmVmPS8vd3d3Lmdvb2dsZS5jb20vPjxzcGFuIGlkPWxvZ28gYXJpYS1sYWJlbD1Hb29nbGU+PC9zcGFuPjwvYT4KICA8cD48Yj40MDQuPC9iPiA8aW5zPlRoYXTigJlzIGFuIGVycm9yLjwvaW5zPgogIDxwPiAgPGlucz5UaGF04oCZcyBhbGwgd2Uga25vdy48L2lucz4K",
              "ok": false,
              "headers": [
                [
                  "content-length",
                  "1449"
                ],
                [
                  "content-type",
                  "text/html; charset=utf-8"
                ]
              ],
              "status": 404,
              "status_text": ""
            },
            "http://localhost:8080/dataset_students/classification/train_unlabelled/631.png": {
              "data": "CjwhRE9DVFlQRSBodG1sPgo8aHRtbCBsYW5nPWVuPgogIDxtZXRhIGNoYXJzZXQ9dXRmLTg+CiAgPG1ldGEgbmFtZT12aWV3cG9ydCBjb250ZW50PSJpbml0aWFsLXNjYWxlPTEsIG1pbmltdW0tc2NhbGU9MSwgd2lkdGg9ZGV2aWNlLXdpZHRoIj4KICA8dGl0bGU+RXJyb3IgNDA0IChOb3QgRm91bmQpISExPC90aXRsZT4KICA8c3R5bGU+CiAgICAqe21hcmdpbjowO3BhZGRpbmc6MH1odG1sLGNvZGV7Zm9udDoxNXB4LzIycHggYXJpYWwsc2Fucy1zZXJpZn1odG1se2JhY2tncm91bmQ6I2ZmZjtjb2xvcjojMjIyO3BhZGRpbmc6MTVweH1ib2R5e21hcmdpbjo3JSBhdXRvIDA7bWF4LXdpZHRoOjM5MHB4O21pbi1oZWlnaHQ6MTgwcHg7cGFkZGluZzozMHB4IDAgMTVweH0qID4gYm9keXtiYWNrZ3JvdW5kOnVybCgvL3d3dy5nb29nbGUuY29tL2ltYWdlcy9lcnJvcnMvcm9ib3QucG5nKSAxMDAlIDVweCBuby1yZXBlYXQ7cGFkZGluZy1yaWdodDoyMDVweH1we21hcmdpbjoxMXB4IDAgMjJweDtvdmVyZmxvdzpoaWRkZW59aW5ze2NvbG9yOiM3Nzc7dGV4dC1kZWNvcmF0aW9uOm5vbmV9YSBpbWd7Ym9yZGVyOjB9QG1lZGlhIHNjcmVlbiBhbmQgKG1heC13aWR0aDo3NzJweCl7Ym9keXtiYWNrZ3JvdW5kOm5vbmU7bWFyZ2luLXRvcDowO21heC13aWR0aDpub25lO3BhZGRpbmctcmlnaHQ6MH19I2xvZ297YmFja2dyb3VuZDp1cmwoLy93d3cuZ29vZ2xlLmNvbS9pbWFnZXMvbG9nb3MvZXJyb3JwYWdlL2Vycm9yX2xvZ28tMTUweDU0LnBuZykgbm8tcmVwZWF0O21hcmdpbi1sZWZ0Oi01cHh9QG1lZGlhIG9ubHkgc2NyZWVuIGFuZCAobWluLXJlc29sdXRpb246MTkyZHBpKXsjbG9nb3tiYWNrZ3JvdW5kOnVybCgvL3d3dy5nb29nbGUuY29tL2ltYWdlcy9sb2dvcy9lcnJvcnBhZ2UvZXJyb3JfbG9nby0xNTB4NTQtMngucG5nKSBuby1yZXBlYXQgMCUgMCUvMTAwJSAxMDAlOy1tb3otYm9yZGVyLWltYWdlOnVybCgvL3d3dy5nb29nbGUuY29tL2ltYWdlcy9sb2dvcy9lcnJvcnBhZ2UvZXJyb3JfbG9nby0xNTB4NTQtMngucG5nKSAwfX1AbWVkaWEgb25seSBzY3JlZW4gYW5kICgtd2Via2l0LW1pbi1kZXZpY2UtcGl4ZWwtcmF0aW86Mil7I2xvZ297YmFja2dyb3VuZDp1cmwoLy93d3cuZ29vZ2xlLmNvbS9pbWFnZXMvbG9nb3MvZXJyb3JwYWdlL2Vycm9yX2xvZ28tMTUweDU0LTJ4LnBuZykgbm8tcmVwZWF0Oy13ZWJraXQtYmFja2dyb3VuZC1zaXplOjEwMCUgMTAwJX19I2xvZ297ZGlzcGxheTppbmxpbmUtYmxvY2s7aGVpZ2h0OjU0cHg7d2lkdGg6MTUwcHh9CiAgPC9zdHlsZT4KICA8YSBocmVmPS8vd3d3Lmdvb2dsZS5jb20vPjxzcGFuIGlkPWxvZ28gYXJpYS1sYWJlbD1Hb29nbGU+PC9zcGFuPjwvYT4KICA8cD48Yj40MDQuPC9iPiA8aW5zPlRoYXTigJlzIGFuIGVycm9yLjwvaW5zPgogIDxwPiAgPGlucz5UaGF04oCZcyBhbGwgd2Uga25vdy48L2lucz4K",
              "ok": false,
              "headers": [
                [
                  "content-length",
                  "1449"
                ],
                [
                  "content-type",
                  "text/html; charset=utf-8"
                ]
              ],
              "status": 404,
              "status_text": ""
            },
            "http://localhost:8080/dataset_students/classification/train_labelled/37.png": {
              "data": "CjwhRE9DVFlQRSBodG1sPgo8aHRtbCBsYW5nPWVuPgogIDxtZXRhIGNoYXJzZXQ9dXRmLTg+CiAgPG1ldGEgbmFtZT12aWV3cG9ydCBjb250ZW50PSJpbml0aWFsLXNjYWxlPTEsIG1pbmltdW0tc2NhbGU9MSwgd2lkdGg9ZGV2aWNlLXdpZHRoIj4KICA8dGl0bGU+RXJyb3IgNDA0IChOb3QgRm91bmQpISExPC90aXRsZT4KICA8c3R5bGU+CiAgICAqe21hcmdpbjowO3BhZGRpbmc6MH1odG1sLGNvZGV7Zm9udDoxNXB4LzIycHggYXJpYWwsc2Fucy1zZXJpZn1odG1se2JhY2tncm91bmQ6I2ZmZjtjb2xvcjojMjIyO3BhZGRpbmc6MTVweH1ib2R5e21hcmdpbjo3JSBhdXRvIDA7bWF4LXdpZHRoOjM5MHB4O21pbi1oZWlnaHQ6MTgwcHg7cGFkZGluZzozMHB4IDAgMTVweH0qID4gYm9keXtiYWNrZ3JvdW5kOnVybCgvL3d3dy5nb29nbGUuY29tL2ltYWdlcy9lcnJvcnMvcm9ib3QucG5nKSAxMDAlIDVweCBuby1yZXBlYXQ7cGFkZGluZy1yaWdodDoyMDVweH1we21hcmdpbjoxMXB4IDAgMjJweDtvdmVyZmxvdzpoaWRkZW59aW5ze2NvbG9yOiM3Nzc7dGV4dC1kZWNvcmF0aW9uOm5vbmV9YSBpbWd7Ym9yZGVyOjB9QG1lZGlhIHNjcmVlbiBhbmQgKG1heC13aWR0aDo3NzJweCl7Ym9keXtiYWNrZ3JvdW5kOm5vbmU7bWFyZ2luLXRvcDowO21heC13aWR0aDpub25lO3BhZGRpbmctcmlnaHQ6MH19I2xvZ297YmFja2dyb3VuZDp1cmwoLy93d3cuZ29vZ2xlLmNvbS9pbWFnZXMvbG9nb3MvZXJyb3JwYWdlL2Vycm9yX2xvZ28tMTUweDU0LnBuZykgbm8tcmVwZWF0O21hcmdpbi1sZWZ0Oi01cHh9QG1lZGlhIG9ubHkgc2NyZWVuIGFuZCAobWluLXJlc29sdXRpb246MTkyZHBpKXsjbG9nb3tiYWNrZ3JvdW5kOnVybCgvL3d3dy5nb29nbGUuY29tL2ltYWdlcy9sb2dvcy9lcnJvcnBhZ2UvZXJyb3JfbG9nby0xNTB4NTQtMngucG5nKSBuby1yZXBlYXQgMCUgMCUvMTAwJSAxMDAlOy1tb3otYm9yZGVyLWltYWdlOnVybCgvL3d3dy5nb29nbGUuY29tL2ltYWdlcy9sb2dvcy9lcnJvcnBhZ2UvZXJyb3JfbG9nby0xNTB4NTQtMngucG5nKSAwfX1AbWVkaWEgb25seSBzY3JlZW4gYW5kICgtd2Via2l0LW1pbi1kZXZpY2UtcGl4ZWwtcmF0aW86Mil7I2xvZ297YmFja2dyb3VuZDp1cmwoLy93d3cuZ29vZ2xlLmNvbS9pbWFnZXMvbG9nb3MvZXJyb3JwYWdlL2Vycm9yX2xvZ28tMTUweDU0LTJ4LnBuZykgbm8tcmVwZWF0Oy13ZWJraXQtYmFja2dyb3VuZC1zaXplOjEwMCUgMTAwJX19I2xvZ297ZGlzcGxheTppbmxpbmUtYmxvY2s7aGVpZ2h0OjU0cHg7d2lkdGg6MTUwcHh9CiAgPC9zdHlsZT4KICA8YSBocmVmPS8vd3d3Lmdvb2dsZS5jb20vPjxzcGFuIGlkPWxvZ28gYXJpYS1sYWJlbD1Hb29nbGU+PC9zcGFuPjwvYT4KICA8cD48Yj40MDQuPC9iPiA8aW5zPlRoYXTigJlzIGFuIGVycm9yLjwvaW5zPgogIDxwPiAgPGlucz5UaGF04oCZcyBhbGwgd2Uga25vdy48L2lucz4K",
              "ok": false,
              "headers": [
                [
                  "content-length",
                  "1449"
                ],
                [
                  "content-type",
                  "text/html; charset=utf-8"
                ]
              ],
              "status": 404,
              "status_text": ""
            },
            "http://localhost:8080/dataset_students/classification/train_labelled/19.png": {
              "data": "CjwhRE9DVFlQRSBodG1sPgo8aHRtbCBsYW5nPWVuPgogIDxtZXRhIGNoYXJzZXQ9dXRmLTg+CiAgPG1ldGEgbmFtZT12aWV3cG9ydCBjb250ZW50PSJpbml0aWFsLXNjYWxlPTEsIG1pbmltdW0tc2NhbGU9MSwgd2lkdGg9ZGV2aWNlLXdpZHRoIj4KICA8dGl0bGU+RXJyb3IgNDA0IChOb3QgRm91bmQpISExPC90aXRsZT4KICA8c3R5bGU+CiAgICAqe21hcmdpbjowO3BhZGRpbmc6MH1odG1sLGNvZGV7Zm9udDoxNXB4LzIycHggYXJpYWwsc2Fucy1zZXJpZn1odG1se2JhY2tncm91bmQ6I2ZmZjtjb2xvcjojMjIyO3BhZGRpbmc6MTVweH1ib2R5e21hcmdpbjo3JSBhdXRvIDA7bWF4LXdpZHRoOjM5MHB4O21pbi1oZWlnaHQ6MTgwcHg7cGFkZGluZzozMHB4IDAgMTVweH0qID4gYm9keXtiYWNrZ3JvdW5kOnVybCgvL3d3dy5nb29nbGUuY29tL2ltYWdlcy9lcnJvcnMvcm9ib3QucG5nKSAxMDAlIDVweCBuby1yZXBlYXQ7cGFkZGluZy1yaWdodDoyMDVweH1we21hcmdpbjoxMXB4IDAgMjJweDtvdmVyZmxvdzpoaWRkZW59aW5ze2NvbG9yOiM3Nzc7dGV4dC1kZWNvcmF0aW9uOm5vbmV9YSBpbWd7Ym9yZGVyOjB9QG1lZGlhIHNjcmVlbiBhbmQgKG1heC13aWR0aDo3NzJweCl7Ym9keXtiYWNrZ3JvdW5kOm5vbmU7bWFyZ2luLXRvcDowO21heC13aWR0aDpub25lO3BhZGRpbmctcmlnaHQ6MH19I2xvZ297YmFja2dyb3VuZDp1cmwoLy93d3cuZ29vZ2xlLmNvbS9pbWFnZXMvbG9nb3MvZXJyb3JwYWdlL2Vycm9yX2xvZ28tMTUweDU0LnBuZykgbm8tcmVwZWF0O21hcmdpbi1sZWZ0Oi01cHh9QG1lZGlhIG9ubHkgc2NyZWVuIGFuZCAobWluLXJlc29sdXRpb246MTkyZHBpKXsjbG9nb3tiYWNrZ3JvdW5kOnVybCgvL3d3dy5nb29nbGUuY29tL2ltYWdlcy9sb2dvcy9lcnJvcnBhZ2UvZXJyb3JfbG9nby0xNTB4NTQtMngucG5nKSBuby1yZXBlYXQgMCUgMCUvMTAwJSAxMDAlOy1tb3otYm9yZGVyLWltYWdlOnVybCgvL3d3dy5nb29nbGUuY29tL2ltYWdlcy9sb2dvcy9lcnJvcnBhZ2UvZXJyb3JfbG9nby0xNTB4NTQtMngucG5nKSAwfX1AbWVkaWEgb25seSBzY3JlZW4gYW5kICgtd2Via2l0LW1pbi1kZXZpY2UtcGl4ZWwtcmF0aW86Mil7I2xvZ297YmFja2dyb3VuZDp1cmwoLy93d3cuZ29vZ2xlLmNvbS9pbWFnZXMvbG9nb3MvZXJyb3JwYWdlL2Vycm9yX2xvZ28tMTUweDU0LTJ4LnBuZykgbm8tcmVwZWF0Oy13ZWJraXQtYmFja2dyb3VuZC1zaXplOjEwMCUgMTAwJX19I2xvZ297ZGlzcGxheTppbmxpbmUtYmxvY2s7aGVpZ2h0OjU0cHg7d2lkdGg6MTUwcHh9CiAgPC9zdHlsZT4KICA8YSBocmVmPS8vd3d3Lmdvb2dsZS5jb20vPjxzcGFuIGlkPWxvZ28gYXJpYS1sYWJlbD1Hb29nbGU+PC9zcGFuPjwvYT4KICA8cD48Yj40MDQuPC9iPiA8aW5zPlRoYXTigJlzIGFuIGVycm9yLjwvaW5zPgogIDxwPiAgPGlucz5UaGF04oCZcyBhbGwgd2Uga25vdy48L2lucz4K",
              "ok": false,
              "headers": [
                [
                  "content-length",
                  "1449"
                ],
                [
                  "content-type",
                  "text/html; charset=utf-8"
                ]
              ],
              "status": 404,
              "status_text": ""
            },
            "http://localhost:8080/dataset_students/classification/train_labelled/118.png": {
              "data": "CjwhRE9DVFlQRSBodG1sPgo8aHRtbCBsYW5nPWVuPgogIDxtZXRhIGNoYXJzZXQ9dXRmLTg+CiAgPG1ldGEgbmFtZT12aWV3cG9ydCBjb250ZW50PSJpbml0aWFsLXNjYWxlPTEsIG1pbmltdW0tc2NhbGU9MSwgd2lkdGg9ZGV2aWNlLXdpZHRoIj4KICA8dGl0bGU+RXJyb3IgNDA0IChOb3QgRm91bmQpISExPC90aXRsZT4KICA8c3R5bGU+CiAgICAqe21hcmdpbjowO3BhZGRpbmc6MH1odG1sLGNvZGV7Zm9udDoxNXB4LzIycHggYXJpYWwsc2Fucy1zZXJpZn1odG1se2JhY2tncm91bmQ6I2ZmZjtjb2xvcjojMjIyO3BhZGRpbmc6MTVweH1ib2R5e21hcmdpbjo3JSBhdXRvIDA7bWF4LXdpZHRoOjM5MHB4O21pbi1oZWlnaHQ6MTgwcHg7cGFkZGluZzozMHB4IDAgMTVweH0qID4gYm9keXtiYWNrZ3JvdW5kOnVybCgvL3d3dy5nb29nbGUuY29tL2ltYWdlcy9lcnJvcnMvcm9ib3QucG5nKSAxMDAlIDVweCBuby1yZXBlYXQ7cGFkZGluZy1yaWdodDoyMDVweH1we21hcmdpbjoxMXB4IDAgMjJweDtvdmVyZmxvdzpoaWRkZW59aW5ze2NvbG9yOiM3Nzc7dGV4dC1kZWNvcmF0aW9uOm5vbmV9YSBpbWd7Ym9yZGVyOjB9QG1lZGlhIHNjcmVlbiBhbmQgKG1heC13aWR0aDo3NzJweCl7Ym9keXtiYWNrZ3JvdW5kOm5vbmU7bWFyZ2luLXRvcDowO21heC13aWR0aDpub25lO3BhZGRpbmctcmlnaHQ6MH19I2xvZ297YmFja2dyb3VuZDp1cmwoLy93d3cuZ29vZ2xlLmNvbS9pbWFnZXMvbG9nb3MvZXJyb3JwYWdlL2Vycm9yX2xvZ28tMTUweDU0LnBuZykgbm8tcmVwZWF0O21hcmdpbi1sZWZ0Oi01cHh9QG1lZGlhIG9ubHkgc2NyZWVuIGFuZCAobWluLXJlc29sdXRpb246MTkyZHBpKXsjbG9nb3tiYWNrZ3JvdW5kOnVybCgvL3d3dy5nb29nbGUuY29tL2ltYWdlcy9sb2dvcy9lcnJvcnBhZ2UvZXJyb3JfbG9nby0xNTB4NTQtMngucG5nKSBuby1yZXBlYXQgMCUgMCUvMTAwJSAxMDAlOy1tb3otYm9yZGVyLWltYWdlOnVybCgvL3d3dy5nb29nbGUuY29tL2ltYWdlcy9sb2dvcy9lcnJvcnBhZ2UvZXJyb3JfbG9nby0xNTB4NTQtMngucG5nKSAwfX1AbWVkaWEgb25seSBzY3JlZW4gYW5kICgtd2Via2l0LW1pbi1kZXZpY2UtcGl4ZWwtcmF0aW86Mil7I2xvZ297YmFja2dyb3VuZDp1cmwoLy93d3cuZ29vZ2xlLmNvbS9pbWFnZXMvbG9nb3MvZXJyb3JwYWdlL2Vycm9yX2xvZ28tMTUweDU0LTJ4LnBuZykgbm8tcmVwZWF0Oy13ZWJraXQtYmFja2dyb3VuZC1zaXplOjEwMCUgMTAwJX19I2xvZ297ZGlzcGxheTppbmxpbmUtYmxvY2s7aGVpZ2h0OjU0cHg7d2lkdGg6MTUwcHh9CiAgPC9zdHlsZT4KICA8YSBocmVmPS8vd3d3Lmdvb2dsZS5jb20vPjxzcGFuIGlkPWxvZ28gYXJpYS1sYWJlbD1Hb29nbGU+PC9zcGFuPjwvYT4KICA8cD48Yj40MDQuPC9iPiA8aW5zPlRoYXTigJlzIGFuIGVycm9yLjwvaW5zPgogIDxwPiAgPGlucz5UaGF04oCZcyBhbGwgd2Uga25vdy48L2lucz4K",
              "ok": false,
              "headers": [
                [
                  "content-length",
                  "1449"
                ],
                [
                  "content-type",
                  "text/html; charset=utf-8"
                ]
              ],
              "status": 404,
              "status_text": ""
            },
            "http://localhost:8080/dataset_students/classification/train_unlabelled/1046.png": {
              "data": "CjwhRE9DVFlQRSBodG1sPgo8aHRtbCBsYW5nPWVuPgogIDxtZXRhIGNoYXJzZXQ9dXRmLTg+CiAgPG1ldGEgbmFtZT12aWV3cG9ydCBjb250ZW50PSJpbml0aWFsLXNjYWxlPTEsIG1pbmltdW0tc2NhbGU9MSwgd2lkdGg9ZGV2aWNlLXdpZHRoIj4KICA8dGl0bGU+RXJyb3IgNDA0IChOb3QgRm91bmQpISExPC90aXRsZT4KICA8c3R5bGU+CiAgICAqe21hcmdpbjowO3BhZGRpbmc6MH1odG1sLGNvZGV7Zm9udDoxNXB4LzIycHggYXJpYWwsc2Fucy1zZXJpZn1odG1se2JhY2tncm91bmQ6I2ZmZjtjb2xvcjojMjIyO3BhZGRpbmc6MTVweH1ib2R5e21hcmdpbjo3JSBhdXRvIDA7bWF4LXdpZHRoOjM5MHB4O21pbi1oZWlnaHQ6MTgwcHg7cGFkZGluZzozMHB4IDAgMTVweH0qID4gYm9keXtiYWNrZ3JvdW5kOnVybCgvL3d3dy5nb29nbGUuY29tL2ltYWdlcy9lcnJvcnMvcm9ib3QucG5nKSAxMDAlIDVweCBuby1yZXBlYXQ7cGFkZGluZy1yaWdodDoyMDVweH1we21hcmdpbjoxMXB4IDAgMjJweDtvdmVyZmxvdzpoaWRkZW59aW5ze2NvbG9yOiM3Nzc7dGV4dC1kZWNvcmF0aW9uOm5vbmV9YSBpbWd7Ym9yZGVyOjB9QG1lZGlhIHNjcmVlbiBhbmQgKG1heC13aWR0aDo3NzJweCl7Ym9keXtiYWNrZ3JvdW5kOm5vbmU7bWFyZ2luLXRvcDowO21heC13aWR0aDpub25lO3BhZGRpbmctcmlnaHQ6MH19I2xvZ297YmFja2dyb3VuZDp1cmwoLy93d3cuZ29vZ2xlLmNvbS9pbWFnZXMvbG9nb3MvZXJyb3JwYWdlL2Vycm9yX2xvZ28tMTUweDU0LnBuZykgbm8tcmVwZWF0O21hcmdpbi1sZWZ0Oi01cHh9QG1lZGlhIG9ubHkgc2NyZWVuIGFuZCAobWluLXJlc29sdXRpb246MTkyZHBpKXsjbG9nb3tiYWNrZ3JvdW5kOnVybCgvL3d3dy5nb29nbGUuY29tL2ltYWdlcy9sb2dvcy9lcnJvcnBhZ2UvZXJyb3JfbG9nby0xNTB4NTQtMngucG5nKSBuby1yZXBlYXQgMCUgMCUvMTAwJSAxMDAlOy1tb3otYm9yZGVyLWltYWdlOnVybCgvL3d3dy5nb29nbGUuY29tL2ltYWdlcy9sb2dvcy9lcnJvcnBhZ2UvZXJyb3JfbG9nby0xNTB4NTQtMngucG5nKSAwfX1AbWVkaWEgb25seSBzY3JlZW4gYW5kICgtd2Via2l0LW1pbi1kZXZpY2UtcGl4ZWwtcmF0aW86Mil7I2xvZ297YmFja2dyb3VuZDp1cmwoLy93d3cuZ29vZ2xlLmNvbS9pbWFnZXMvbG9nb3MvZXJyb3JwYWdlL2Vycm9yX2xvZ28tMTUweDU0LTJ4LnBuZykgbm8tcmVwZWF0Oy13ZWJraXQtYmFja2dyb3VuZC1zaXplOjEwMCUgMTAwJX19I2xvZ297ZGlzcGxheTppbmxpbmUtYmxvY2s7aGVpZ2h0OjU0cHg7d2lkdGg6MTUwcHh9CiAgPC9zdHlsZT4KICA8YSBocmVmPS8vd3d3Lmdvb2dsZS5jb20vPjxzcGFuIGlkPWxvZ28gYXJpYS1sYWJlbD1Hb29nbGU+PC9zcGFuPjwvYT4KICA8cD48Yj40MDQuPC9iPiA8aW5zPlRoYXTigJlzIGFuIGVycm9yLjwvaW5zPgogIDxwPiAgPGlucz5UaGF04oCZcyBhbGwgd2Uga25vdy48L2lucz4K",
              "ok": false,
              "headers": [
                [
                  "content-length",
                  "1449"
                ],
                [
                  "content-type",
                  "text/html; charset=utf-8"
                ]
              ],
              "status": 404,
              "status_text": ""
            },
            "http://localhost:8080/dataset_students/classification/train_unlabelled/540.png": {
              "data": "CjwhRE9DVFlQRSBodG1sPgo8aHRtbCBsYW5nPWVuPgogIDxtZXRhIGNoYXJzZXQ9dXRmLTg+CiAgPG1ldGEgbmFtZT12aWV3cG9ydCBjb250ZW50PSJpbml0aWFsLXNjYWxlPTEsIG1pbmltdW0tc2NhbGU9MSwgd2lkdGg9ZGV2aWNlLXdpZHRoIj4KICA8dGl0bGU+RXJyb3IgNDA0IChOb3QgRm91bmQpISExPC90aXRsZT4KICA8c3R5bGU+CiAgICAqe21hcmdpbjowO3BhZGRpbmc6MH1odG1sLGNvZGV7Zm9udDoxNXB4LzIycHggYXJpYWwsc2Fucy1zZXJpZn1odG1se2JhY2tncm91bmQ6I2ZmZjtjb2xvcjojMjIyO3BhZGRpbmc6MTVweH1ib2R5e21hcmdpbjo3JSBhdXRvIDA7bWF4LXdpZHRoOjM5MHB4O21pbi1oZWlnaHQ6MTgwcHg7cGFkZGluZzozMHB4IDAgMTVweH0qID4gYm9keXtiYWNrZ3JvdW5kOnVybCgvL3d3dy5nb29nbGUuY29tL2ltYWdlcy9lcnJvcnMvcm9ib3QucG5nKSAxMDAlIDVweCBuby1yZXBlYXQ7cGFkZGluZy1yaWdodDoyMDVweH1we21hcmdpbjoxMXB4IDAgMjJweDtvdmVyZmxvdzpoaWRkZW59aW5ze2NvbG9yOiM3Nzc7dGV4dC1kZWNvcmF0aW9uOm5vbmV9YSBpbWd7Ym9yZGVyOjB9QG1lZGlhIHNjcmVlbiBhbmQgKG1heC13aWR0aDo3NzJweCl7Ym9keXtiYWNrZ3JvdW5kOm5vbmU7bWFyZ2luLXRvcDowO21heC13aWR0aDpub25lO3BhZGRpbmctcmlnaHQ6MH19I2xvZ297YmFja2dyb3VuZDp1cmwoLy93d3cuZ29vZ2xlLmNvbS9pbWFnZXMvbG9nb3MvZXJyb3JwYWdlL2Vycm9yX2xvZ28tMTUweDU0LnBuZykgbm8tcmVwZWF0O21hcmdpbi1sZWZ0Oi01cHh9QG1lZGlhIG9ubHkgc2NyZWVuIGFuZCAobWluLXJlc29sdXRpb246MTkyZHBpKXsjbG9nb3tiYWNrZ3JvdW5kOnVybCgvL3d3dy5nb29nbGUuY29tL2ltYWdlcy9sb2dvcy9lcnJvcnBhZ2UvZXJyb3JfbG9nby0xNTB4NTQtMngucG5nKSBuby1yZXBlYXQgMCUgMCUvMTAwJSAxMDAlOy1tb3otYm9yZGVyLWltYWdlOnVybCgvL3d3dy5nb29nbGUuY29tL2ltYWdlcy9sb2dvcy9lcnJvcnBhZ2UvZXJyb3JfbG9nby0xNTB4NTQtMngucG5nKSAwfX1AbWVkaWEgb25seSBzY3JlZW4gYW5kICgtd2Via2l0LW1pbi1kZXZpY2UtcGl4ZWwtcmF0aW86Mil7I2xvZ297YmFja2dyb3VuZDp1cmwoLy93d3cuZ29vZ2xlLmNvbS9pbWFnZXMvbG9nb3MvZXJyb3JwYWdlL2Vycm9yX2xvZ28tMTUweDU0LTJ4LnBuZykgbm8tcmVwZWF0Oy13ZWJraXQtYmFja2dyb3VuZC1zaXplOjEwMCUgMTAwJX19I2xvZ297ZGlzcGxheTppbmxpbmUtYmxvY2s7aGVpZ2h0OjU0cHg7d2lkdGg6MTUwcHh9CiAgPC9zdHlsZT4KICA8YSBocmVmPS8vd3d3Lmdvb2dsZS5jb20vPjxzcGFuIGlkPWxvZ28gYXJpYS1sYWJlbD1Hb29nbGU+PC9zcGFuPjwvYT4KICA8cD48Yj40MDQuPC9iPiA8aW5zPlRoYXTigJlzIGFuIGVycm9yLjwvaW5zPgogIDxwPiAgPGlucz5UaGF04oCZcyBhbGwgd2Uga25vdy48L2lucz4K",
              "ok": false,
              "headers": [
                [
                  "content-length",
                  "1449"
                ],
                [
                  "content-type",
                  "text/html; charset=utf-8"
                ]
              ],
              "status": 404,
              "status_text": ""
            },
            "http://localhost:8080/dataset_students/classification/train_labelled/127.png": {
              "data": "CjwhRE9DVFlQRSBodG1sPgo8aHRtbCBsYW5nPWVuPgogIDxtZXRhIGNoYXJzZXQ9dXRmLTg+CiAgPG1ldGEgbmFtZT12aWV3cG9ydCBjb250ZW50PSJpbml0aWFsLXNjYWxlPTEsIG1pbmltdW0tc2NhbGU9MSwgd2lkdGg9ZGV2aWNlLXdpZHRoIj4KICA8dGl0bGU+RXJyb3IgNDA0IChOb3QgRm91bmQpISExPC90aXRsZT4KICA8c3R5bGU+CiAgICAqe21hcmdpbjowO3BhZGRpbmc6MH1odG1sLGNvZGV7Zm9udDoxNXB4LzIycHggYXJpYWwsc2Fucy1zZXJpZn1odG1se2JhY2tncm91bmQ6I2ZmZjtjb2xvcjojMjIyO3BhZGRpbmc6MTVweH1ib2R5e21hcmdpbjo3JSBhdXRvIDA7bWF4LXdpZHRoOjM5MHB4O21pbi1oZWlnaHQ6MTgwcHg7cGFkZGluZzozMHB4IDAgMTVweH0qID4gYm9keXtiYWNrZ3JvdW5kOnVybCgvL3d3dy5nb29nbGUuY29tL2ltYWdlcy9lcnJvcnMvcm9ib3QucG5nKSAxMDAlIDVweCBuby1yZXBlYXQ7cGFkZGluZy1yaWdodDoyMDVweH1we21hcmdpbjoxMXB4IDAgMjJweDtvdmVyZmxvdzpoaWRkZW59aW5ze2NvbG9yOiM3Nzc7dGV4dC1kZWNvcmF0aW9uOm5vbmV9YSBpbWd7Ym9yZGVyOjB9QG1lZGlhIHNjcmVlbiBhbmQgKG1heC13aWR0aDo3NzJweCl7Ym9keXtiYWNrZ3JvdW5kOm5vbmU7bWFyZ2luLXRvcDowO21heC13aWR0aDpub25lO3BhZGRpbmctcmlnaHQ6MH19I2xvZ297YmFja2dyb3VuZDp1cmwoLy93d3cuZ29vZ2xlLmNvbS9pbWFnZXMvbG9nb3MvZXJyb3JwYWdlL2Vycm9yX2xvZ28tMTUweDU0LnBuZykgbm8tcmVwZWF0O21hcmdpbi1sZWZ0Oi01cHh9QG1lZGlhIG9ubHkgc2NyZWVuIGFuZCAobWluLXJlc29sdXRpb246MTkyZHBpKXsjbG9nb3tiYWNrZ3JvdW5kOnVybCgvL3d3dy5nb29nbGUuY29tL2ltYWdlcy9sb2dvcy9lcnJvcnBhZ2UvZXJyb3JfbG9nby0xNTB4NTQtMngucG5nKSBuby1yZXBlYXQgMCUgMCUvMTAwJSAxMDAlOy1tb3otYm9yZGVyLWltYWdlOnVybCgvL3d3dy5nb29nbGUuY29tL2ltYWdlcy9sb2dvcy9lcnJvcnBhZ2UvZXJyb3JfbG9nby0xNTB4NTQtMngucG5nKSAwfX1AbWVkaWEgb25seSBzY3JlZW4gYW5kICgtd2Via2l0LW1pbi1kZXZpY2UtcGl4ZWwtcmF0aW86Mil7I2xvZ297YmFja2dyb3VuZDp1cmwoLy93d3cuZ29vZ2xlLmNvbS9pbWFnZXMvbG9nb3MvZXJyb3JwYWdlL2Vycm9yX2xvZ28tMTUweDU0LTJ4LnBuZykgbm8tcmVwZWF0Oy13ZWJraXQtYmFja2dyb3VuZC1zaXplOjEwMCUgMTAwJX19I2xvZ297ZGlzcGxheTppbmxpbmUtYmxvY2s7aGVpZ2h0OjU0cHg7d2lkdGg6MTUwcHh9CiAgPC9zdHlsZT4KICA8YSBocmVmPS8vd3d3Lmdvb2dsZS5jb20vPjxzcGFuIGlkPWxvZ28gYXJpYS1sYWJlbD1Hb29nbGU+PC9zcGFuPjwvYT4KICA8cD48Yj40MDQuPC9iPiA8aW5zPlRoYXTigJlzIGFuIGVycm9yLjwvaW5zPgogIDxwPiAgPGlucz5UaGF04oCZcyBhbGwgd2Uga25vdy48L2lucz4K",
              "ok": false,
              "headers": [
                [
                  "content-length",
                  "1449"
                ],
                [
                  "content-type",
                  "text/html; charset=utf-8"
                ]
              ],
              "status": 404,
              "status_text": ""
            },
            "http://localhost:8080/dataset_students/classification/train_unlabelled/1366.png": {
              "data": "CjwhRE9DVFlQRSBodG1sPgo8aHRtbCBsYW5nPWVuPgogIDxtZXRhIGNoYXJzZXQ9dXRmLTg+CiAgPG1ldGEgbmFtZT12aWV3cG9ydCBjb250ZW50PSJpbml0aWFsLXNjYWxlPTEsIG1pbmltdW0tc2NhbGU9MSwgd2lkdGg9ZGV2aWNlLXdpZHRoIj4KICA8dGl0bGU+RXJyb3IgNDA0IChOb3QgRm91bmQpISExPC90aXRsZT4KICA8c3R5bGU+CiAgICAqe21hcmdpbjowO3BhZGRpbmc6MH1odG1sLGNvZGV7Zm9udDoxNXB4LzIycHggYXJpYWwsc2Fucy1zZXJpZn1odG1se2JhY2tncm91bmQ6I2ZmZjtjb2xvcjojMjIyO3BhZGRpbmc6MTVweH1ib2R5e21hcmdpbjo3JSBhdXRvIDA7bWF4LXdpZHRoOjM5MHB4O21pbi1oZWlnaHQ6MTgwcHg7cGFkZGluZzozMHB4IDAgMTVweH0qID4gYm9keXtiYWNrZ3JvdW5kOnVybCgvL3d3dy5nb29nbGUuY29tL2ltYWdlcy9lcnJvcnMvcm9ib3QucG5nKSAxMDAlIDVweCBuby1yZXBlYXQ7cGFkZGluZy1yaWdodDoyMDVweH1we21hcmdpbjoxMXB4IDAgMjJweDtvdmVyZmxvdzpoaWRkZW59aW5ze2NvbG9yOiM3Nzc7dGV4dC1kZWNvcmF0aW9uOm5vbmV9YSBpbWd7Ym9yZGVyOjB9QG1lZGlhIHNjcmVlbiBhbmQgKG1heC13aWR0aDo3NzJweCl7Ym9keXtiYWNrZ3JvdW5kOm5vbmU7bWFyZ2luLXRvcDowO21heC13aWR0aDpub25lO3BhZGRpbmctcmlnaHQ6MH19I2xvZ297YmFja2dyb3VuZDp1cmwoLy93d3cuZ29vZ2xlLmNvbS9pbWFnZXMvbG9nb3MvZXJyb3JwYWdlL2Vycm9yX2xvZ28tMTUweDU0LnBuZykgbm8tcmVwZWF0O21hcmdpbi1sZWZ0Oi01cHh9QG1lZGlhIG9ubHkgc2NyZWVuIGFuZCAobWluLXJlc29sdXRpb246MTkyZHBpKXsjbG9nb3tiYWNrZ3JvdW5kOnVybCgvL3d3dy5nb29nbGUuY29tL2ltYWdlcy9sb2dvcy9lcnJvcnBhZ2UvZXJyb3JfbG9nby0xNTB4NTQtMngucG5nKSBuby1yZXBlYXQgMCUgMCUvMTAwJSAxMDAlOy1tb3otYm9yZGVyLWltYWdlOnVybCgvL3d3dy5nb29nbGUuY29tL2ltYWdlcy9sb2dvcy9lcnJvcnBhZ2UvZXJyb3JfbG9nby0xNTB4NTQtMngucG5nKSAwfX1AbWVkaWEgb25seSBzY3JlZW4gYW5kICgtd2Via2l0LW1pbi1kZXZpY2UtcGl4ZWwtcmF0aW86Mil7I2xvZ297YmFja2dyb3VuZDp1cmwoLy93d3cuZ29vZ2xlLmNvbS9pbWFnZXMvbG9nb3MvZXJyb3JwYWdlL2Vycm9yX2xvZ28tMTUweDU0LTJ4LnBuZykgbm8tcmVwZWF0Oy13ZWJraXQtYmFja2dyb3VuZC1zaXplOjEwMCUgMTAwJX19I2xvZ297ZGlzcGxheTppbmxpbmUtYmxvY2s7aGVpZ2h0OjU0cHg7d2lkdGg6MTUwcHh9CiAgPC9zdHlsZT4KICA8YSBocmVmPS8vd3d3Lmdvb2dsZS5jb20vPjxzcGFuIGlkPWxvZ28gYXJpYS1sYWJlbD1Hb29nbGU+PC9zcGFuPjwvYT4KICA8cD48Yj40MDQuPC9iPiA8aW5zPlRoYXTigJlzIGFuIGVycm9yLjwvaW5zPgogIDxwPiAgPGlucz5UaGF04oCZcyBhbGwgd2Uga25vdy48L2lucz4K",
              "ok": false,
              "headers": [
                [
                  "content-length",
                  "1449"
                ],
                [
                  "content-type",
                  "text/html; charset=utf-8"
                ]
              ],
              "status": 404,
              "status_text": ""
            },
            "http://localhost:8080/dataset_students/classification/train_unlabelled/552.png": {
              "data": "CjwhRE9DVFlQRSBodG1sPgo8aHRtbCBsYW5nPWVuPgogIDxtZXRhIGNoYXJzZXQ9dXRmLTg+CiAgPG1ldGEgbmFtZT12aWV3cG9ydCBjb250ZW50PSJpbml0aWFsLXNjYWxlPTEsIG1pbmltdW0tc2NhbGU9MSwgd2lkdGg9ZGV2aWNlLXdpZHRoIj4KICA8dGl0bGU+RXJyb3IgNDA0IChOb3QgRm91bmQpISExPC90aXRsZT4KICA8c3R5bGU+CiAgICAqe21hcmdpbjowO3BhZGRpbmc6MH1odG1sLGNvZGV7Zm9udDoxNXB4LzIycHggYXJpYWwsc2Fucy1zZXJpZn1odG1se2JhY2tncm91bmQ6I2ZmZjtjb2xvcjojMjIyO3BhZGRpbmc6MTVweH1ib2R5e21hcmdpbjo3JSBhdXRvIDA7bWF4LXdpZHRoOjM5MHB4O21pbi1oZWlnaHQ6MTgwcHg7cGFkZGluZzozMHB4IDAgMTVweH0qID4gYm9keXtiYWNrZ3JvdW5kOnVybCgvL3d3dy5nb29nbGUuY29tL2ltYWdlcy9lcnJvcnMvcm9ib3QucG5nKSAxMDAlIDVweCBuby1yZXBlYXQ7cGFkZGluZy1yaWdodDoyMDVweH1we21hcmdpbjoxMXB4IDAgMjJweDtvdmVyZmxvdzpoaWRkZW59aW5ze2NvbG9yOiM3Nzc7dGV4dC1kZWNvcmF0aW9uOm5vbmV9YSBpbWd7Ym9yZGVyOjB9QG1lZGlhIHNjcmVlbiBhbmQgKG1heC13aWR0aDo3NzJweCl7Ym9keXtiYWNrZ3JvdW5kOm5vbmU7bWFyZ2luLXRvcDowO21heC13aWR0aDpub25lO3BhZGRpbmctcmlnaHQ6MH19I2xvZ297YmFja2dyb3VuZDp1cmwoLy93d3cuZ29vZ2xlLmNvbS9pbWFnZXMvbG9nb3MvZXJyb3JwYWdlL2Vycm9yX2xvZ28tMTUweDU0LnBuZykgbm8tcmVwZWF0O21hcmdpbi1sZWZ0Oi01cHh9QG1lZGlhIG9ubHkgc2NyZWVuIGFuZCAobWluLXJlc29sdXRpb246MTkyZHBpKXsjbG9nb3tiYWNrZ3JvdW5kOnVybCgvL3d3dy5nb29nbGUuY29tL2ltYWdlcy9sb2dvcy9lcnJvcnBhZ2UvZXJyb3JfbG9nby0xNTB4NTQtMngucG5nKSBuby1yZXBlYXQgMCUgMCUvMTAwJSAxMDAlOy1tb3otYm9yZGVyLWltYWdlOnVybCgvL3d3dy5nb29nbGUuY29tL2ltYWdlcy9sb2dvcy9lcnJvcnBhZ2UvZXJyb3JfbG9nby0xNTB4NTQtMngucG5nKSAwfX1AbWVkaWEgb25seSBzY3JlZW4gYW5kICgtd2Via2l0LW1pbi1kZXZpY2UtcGl4ZWwtcmF0aW86Mil7I2xvZ297YmFja2dyb3VuZDp1cmwoLy93d3cuZ29vZ2xlLmNvbS9pbWFnZXMvbG9nb3MvZXJyb3JwYWdlL2Vycm9yX2xvZ28tMTUweDU0LTJ4LnBuZykgbm8tcmVwZWF0Oy13ZWJraXQtYmFja2dyb3VuZC1zaXplOjEwMCUgMTAwJX19I2xvZ297ZGlzcGxheTppbmxpbmUtYmxvY2s7aGVpZ2h0OjU0cHg7d2lkdGg6MTUwcHh9CiAgPC9zdHlsZT4KICA8YSBocmVmPS8vd3d3Lmdvb2dsZS5jb20vPjxzcGFuIGlkPWxvZ28gYXJpYS1sYWJlbD1Hb29nbGU+PC9zcGFuPjwvYT4KICA8cD48Yj40MDQuPC9iPiA8aW5zPlRoYXTigJlzIGFuIGVycm9yLjwvaW5zPgogIDxwPiAgPGlucz5UaGF04oCZcyBhbGwgd2Uga25vdy48L2lucz4K",
              "ok": false,
              "headers": [
                [
                  "content-length",
                  "1449"
                ],
                [
                  "content-type",
                  "text/html; charset=utf-8"
                ]
              ],
              "status": 404,
              "status_text": ""
            },
            "http://localhost:8080/dataset_students/classification/train_labelled/22.png": {
              "data": "CjwhRE9DVFlQRSBodG1sPgo8aHRtbCBsYW5nPWVuPgogIDxtZXRhIGNoYXJzZXQ9dXRmLTg+CiAgPG1ldGEgbmFtZT12aWV3cG9ydCBjb250ZW50PSJpbml0aWFsLXNjYWxlPTEsIG1pbmltdW0tc2NhbGU9MSwgd2lkdGg9ZGV2aWNlLXdpZHRoIj4KICA8dGl0bGU+RXJyb3IgNDA0IChOb3QgRm91bmQpISExPC90aXRsZT4KICA8c3R5bGU+CiAgICAqe21hcmdpbjowO3BhZGRpbmc6MH1odG1sLGNvZGV7Zm9udDoxNXB4LzIycHggYXJpYWwsc2Fucy1zZXJpZn1odG1se2JhY2tncm91bmQ6I2ZmZjtjb2xvcjojMjIyO3BhZGRpbmc6MTVweH1ib2R5e21hcmdpbjo3JSBhdXRvIDA7bWF4LXdpZHRoOjM5MHB4O21pbi1oZWlnaHQ6MTgwcHg7cGFkZGluZzozMHB4IDAgMTVweH0qID4gYm9keXtiYWNrZ3JvdW5kOnVybCgvL3d3dy5nb29nbGUuY29tL2ltYWdlcy9lcnJvcnMvcm9ib3QucG5nKSAxMDAlIDVweCBuby1yZXBlYXQ7cGFkZGluZy1yaWdodDoyMDVweH1we21hcmdpbjoxMXB4IDAgMjJweDtvdmVyZmxvdzpoaWRkZW59aW5ze2NvbG9yOiM3Nzc7dGV4dC1kZWNvcmF0aW9uOm5vbmV9YSBpbWd7Ym9yZGVyOjB9QG1lZGlhIHNjcmVlbiBhbmQgKG1heC13aWR0aDo3NzJweCl7Ym9keXtiYWNrZ3JvdW5kOm5vbmU7bWFyZ2luLXRvcDowO21heC13aWR0aDpub25lO3BhZGRpbmctcmlnaHQ6MH19I2xvZ297YmFja2dyb3VuZDp1cmwoLy93d3cuZ29vZ2xlLmNvbS9pbWFnZXMvbG9nb3MvZXJyb3JwYWdlL2Vycm9yX2xvZ28tMTUweDU0LnBuZykgbm8tcmVwZWF0O21hcmdpbi1sZWZ0Oi01cHh9QG1lZGlhIG9ubHkgc2NyZWVuIGFuZCAobWluLXJlc29sdXRpb246MTkyZHBpKXsjbG9nb3tiYWNrZ3JvdW5kOnVybCgvL3d3dy5nb29nbGUuY29tL2ltYWdlcy9sb2dvcy9lcnJvcnBhZ2UvZXJyb3JfbG9nby0xNTB4NTQtMngucG5nKSBuby1yZXBlYXQgMCUgMCUvMTAwJSAxMDAlOy1tb3otYm9yZGVyLWltYWdlOnVybCgvL3d3dy5nb29nbGUuY29tL2ltYWdlcy9sb2dvcy9lcnJvcnBhZ2UvZXJyb3JfbG9nby0xNTB4NTQtMngucG5nKSAwfX1AbWVkaWEgb25seSBzY3JlZW4gYW5kICgtd2Via2l0LW1pbi1kZXZpY2UtcGl4ZWwtcmF0aW86Mil7I2xvZ297YmFja2dyb3VuZDp1cmwoLy93d3cuZ29vZ2xlLmNvbS9pbWFnZXMvbG9nb3MvZXJyb3JwYWdlL2Vycm9yX2xvZ28tMTUweDU0LTJ4LnBuZykgbm8tcmVwZWF0Oy13ZWJraXQtYmFja2dyb3VuZC1zaXplOjEwMCUgMTAwJX19I2xvZ297ZGlzcGxheTppbmxpbmUtYmxvY2s7aGVpZ2h0OjU0cHg7d2lkdGg6MTUwcHh9CiAgPC9zdHlsZT4KICA8YSBocmVmPS8vd3d3Lmdvb2dsZS5jb20vPjxzcGFuIGlkPWxvZ28gYXJpYS1sYWJlbD1Hb29nbGU+PC9zcGFuPjwvYT4KICA8cD48Yj40MDQuPC9iPiA8aW5zPlRoYXTigJlzIGFuIGVycm9yLjwvaW5zPgogIDxwPiAgPGlucz5UaGF04oCZcyBhbGwgd2Uga25vdy48L2lucz4K",
              "ok": false,
              "headers": [
                [
                  "content-length",
                  "1449"
                ],
                [
                  "content-type",
                  "text/html; charset=utf-8"
                ]
              ],
              "status": 404,
              "status_text": ""
            },
            "http://localhost:8080/dataset_students/classification/train_labelled/128.png": {
              "data": "CjwhRE9DVFlQRSBodG1sPgo8aHRtbCBsYW5nPWVuPgogIDxtZXRhIGNoYXJzZXQ9dXRmLTg+CiAgPG1ldGEgbmFtZT12aWV3cG9ydCBjb250ZW50PSJpbml0aWFsLXNjYWxlPTEsIG1pbmltdW0tc2NhbGU9MSwgd2lkdGg9ZGV2aWNlLXdpZHRoIj4KICA8dGl0bGU+RXJyb3IgNDA0IChOb3QgRm91bmQpISExPC90aXRsZT4KICA8c3R5bGU+CiAgICAqe21hcmdpbjowO3BhZGRpbmc6MH1odG1sLGNvZGV7Zm9udDoxNXB4LzIycHggYXJpYWwsc2Fucy1zZXJpZn1odG1se2JhY2tncm91bmQ6I2ZmZjtjb2xvcjojMjIyO3BhZGRpbmc6MTVweH1ib2R5e21hcmdpbjo3JSBhdXRvIDA7bWF4LXdpZHRoOjM5MHB4O21pbi1oZWlnaHQ6MTgwcHg7cGFkZGluZzozMHB4IDAgMTVweH0qID4gYm9keXtiYWNrZ3JvdW5kOnVybCgvL3d3dy5nb29nbGUuY29tL2ltYWdlcy9lcnJvcnMvcm9ib3QucG5nKSAxMDAlIDVweCBuby1yZXBlYXQ7cGFkZGluZy1yaWdodDoyMDVweH1we21hcmdpbjoxMXB4IDAgMjJweDtvdmVyZmxvdzpoaWRkZW59aW5ze2NvbG9yOiM3Nzc7dGV4dC1kZWNvcmF0aW9uOm5vbmV9YSBpbWd7Ym9yZGVyOjB9QG1lZGlhIHNjcmVlbiBhbmQgKG1heC13aWR0aDo3NzJweCl7Ym9keXtiYWNrZ3JvdW5kOm5vbmU7bWFyZ2luLXRvcDowO21heC13aWR0aDpub25lO3BhZGRpbmctcmlnaHQ6MH19I2xvZ297YmFja2dyb3VuZDp1cmwoLy93d3cuZ29vZ2xlLmNvbS9pbWFnZXMvbG9nb3MvZXJyb3JwYWdlL2Vycm9yX2xvZ28tMTUweDU0LnBuZykgbm8tcmVwZWF0O21hcmdpbi1sZWZ0Oi01cHh9QG1lZGlhIG9ubHkgc2NyZWVuIGFuZCAobWluLXJlc29sdXRpb246MTkyZHBpKXsjbG9nb3tiYWNrZ3JvdW5kOnVybCgvL3d3dy5nb29nbGUuY29tL2ltYWdlcy9sb2dvcy9lcnJvcnBhZ2UvZXJyb3JfbG9nby0xNTB4NTQtMngucG5nKSBuby1yZXBlYXQgMCUgMCUvMTAwJSAxMDAlOy1tb3otYm9yZGVyLWltYWdlOnVybCgvL3d3dy5nb29nbGUuY29tL2ltYWdlcy9sb2dvcy9lcnJvcnBhZ2UvZXJyb3JfbG9nby0xNTB4NTQtMngucG5nKSAwfX1AbWVkaWEgb25seSBzY3JlZW4gYW5kICgtd2Via2l0LW1pbi1kZXZpY2UtcGl4ZWwtcmF0aW86Mil7I2xvZ297YmFja2dyb3VuZDp1cmwoLy93d3cuZ29vZ2xlLmNvbS9pbWFnZXMvbG9nb3MvZXJyb3JwYWdlL2Vycm9yX2xvZ28tMTUweDU0LTJ4LnBuZykgbm8tcmVwZWF0Oy13ZWJraXQtYmFja2dyb3VuZC1zaXplOjEwMCUgMTAwJX19I2xvZ297ZGlzcGxheTppbmxpbmUtYmxvY2s7aGVpZ2h0OjU0cHg7d2lkdGg6MTUwcHh9CiAgPC9zdHlsZT4KICA8YSBocmVmPS8vd3d3Lmdvb2dsZS5jb20vPjxzcGFuIGlkPWxvZ28gYXJpYS1sYWJlbD1Hb29nbGU+PC9zcGFuPjwvYT4KICA8cD48Yj40MDQuPC9iPiA8aW5zPlRoYXTigJlzIGFuIGVycm9yLjwvaW5zPgogIDxwPiAgPGlucz5UaGF04oCZcyBhbGwgd2Uga25vdy48L2lucz4K",
              "ok": false,
              "headers": [
                [
                  "content-length",
                  "1449"
                ],
                [
                  "content-type",
                  "text/html; charset=utf-8"
                ]
              ],
              "status": 404,
              "status_text": ""
            },
            "http://localhost:8080/dataset_students/classification/train_labelled/26.png": {
              "data": "CjwhRE9DVFlQRSBodG1sPgo8aHRtbCBsYW5nPWVuPgogIDxtZXRhIGNoYXJzZXQ9dXRmLTg+CiAgPG1ldGEgbmFtZT12aWV3cG9ydCBjb250ZW50PSJpbml0aWFsLXNjYWxlPTEsIG1pbmltdW0tc2NhbGU9MSwgd2lkdGg9ZGV2aWNlLXdpZHRoIj4KICA8dGl0bGU+RXJyb3IgNDA0IChOb3QgRm91bmQpISExPC90aXRsZT4KICA8c3R5bGU+CiAgICAqe21hcmdpbjowO3BhZGRpbmc6MH1odG1sLGNvZGV7Zm9udDoxNXB4LzIycHggYXJpYWwsc2Fucy1zZXJpZn1odG1se2JhY2tncm91bmQ6I2ZmZjtjb2xvcjojMjIyO3BhZGRpbmc6MTVweH1ib2R5e21hcmdpbjo3JSBhdXRvIDA7bWF4LXdpZHRoOjM5MHB4O21pbi1oZWlnaHQ6MTgwcHg7cGFkZGluZzozMHB4IDAgMTVweH0qID4gYm9keXtiYWNrZ3JvdW5kOnVybCgvL3d3dy5nb29nbGUuY29tL2ltYWdlcy9lcnJvcnMvcm9ib3QucG5nKSAxMDAlIDVweCBuby1yZXBlYXQ7cGFkZGluZy1yaWdodDoyMDVweH1we21hcmdpbjoxMXB4IDAgMjJweDtvdmVyZmxvdzpoaWRkZW59aW5ze2NvbG9yOiM3Nzc7dGV4dC1kZWNvcmF0aW9uOm5vbmV9YSBpbWd7Ym9yZGVyOjB9QG1lZGlhIHNjcmVlbiBhbmQgKG1heC13aWR0aDo3NzJweCl7Ym9keXtiYWNrZ3JvdW5kOm5vbmU7bWFyZ2luLXRvcDowO21heC13aWR0aDpub25lO3BhZGRpbmctcmlnaHQ6MH19I2xvZ297YmFja2dyb3VuZDp1cmwoLy93d3cuZ29vZ2xlLmNvbS9pbWFnZXMvbG9nb3MvZXJyb3JwYWdlL2Vycm9yX2xvZ28tMTUweDU0LnBuZykgbm8tcmVwZWF0O21hcmdpbi1sZWZ0Oi01cHh9QG1lZGlhIG9ubHkgc2NyZWVuIGFuZCAobWluLXJlc29sdXRpb246MTkyZHBpKXsjbG9nb3tiYWNrZ3JvdW5kOnVybCgvL3d3dy5nb29nbGUuY29tL2ltYWdlcy9sb2dvcy9lcnJvcnBhZ2UvZXJyb3JfbG9nby0xNTB4NTQtMngucG5nKSBuby1yZXBlYXQgMCUgMCUvMTAwJSAxMDAlOy1tb3otYm9yZGVyLWltYWdlOnVybCgvL3d3dy5nb29nbGUuY29tL2ltYWdlcy9sb2dvcy9lcnJvcnBhZ2UvZXJyb3JfbG9nby0xNTB4NTQtMngucG5nKSAwfX1AbWVkaWEgb25seSBzY3JlZW4gYW5kICgtd2Via2l0LW1pbi1kZXZpY2UtcGl4ZWwtcmF0aW86Mil7I2xvZ297YmFja2dyb3VuZDp1cmwoLy93d3cuZ29vZ2xlLmNvbS9pbWFnZXMvbG9nb3MvZXJyb3JwYWdlL2Vycm9yX2xvZ28tMTUweDU0LTJ4LnBuZykgbm8tcmVwZWF0Oy13ZWJraXQtYmFja2dyb3VuZC1zaXplOjEwMCUgMTAwJX19I2xvZ297ZGlzcGxheTppbmxpbmUtYmxvY2s7aGVpZ2h0OjU0cHg7d2lkdGg6MTUwcHh9CiAgPC9zdHlsZT4KICA8YSBocmVmPS8vd3d3Lmdvb2dsZS5jb20vPjxzcGFuIGlkPWxvZ28gYXJpYS1sYWJlbD1Hb29nbGU+PC9zcGFuPjwvYT4KICA8cD48Yj40MDQuPC9iPiA8aW5zPlRoYXTigJlzIGFuIGVycm9yLjwvaW5zPgogIDxwPiAgPGlucz5UaGF04oCZcyBhbGwgd2Uga25vdy48L2lucz4K",
              "ok": false,
              "headers": [
                [
                  "content-length",
                  "1449"
                ],
                [
                  "content-type",
                  "text/html; charset=utf-8"
                ]
              ],
              "status": 404,
              "status_text": ""
            },
            "http://localhost:8080/dataset_students/classification/train_unlabelled/1614.png": {
              "data": "CjwhRE9DVFlQRSBodG1sPgo8aHRtbCBsYW5nPWVuPgogIDxtZXRhIGNoYXJzZXQ9dXRmLTg+CiAgPG1ldGEgbmFtZT12aWV3cG9ydCBjb250ZW50PSJpbml0aWFsLXNjYWxlPTEsIG1pbmltdW0tc2NhbGU9MSwgd2lkdGg9ZGV2aWNlLXdpZHRoIj4KICA8dGl0bGU+RXJyb3IgNDA0IChOb3QgRm91bmQpISExPC90aXRsZT4KICA8c3R5bGU+CiAgICAqe21hcmdpbjowO3BhZGRpbmc6MH1odG1sLGNvZGV7Zm9udDoxNXB4LzIycHggYXJpYWwsc2Fucy1zZXJpZn1odG1se2JhY2tncm91bmQ6I2ZmZjtjb2xvcjojMjIyO3BhZGRpbmc6MTVweH1ib2R5e21hcmdpbjo3JSBhdXRvIDA7bWF4LXdpZHRoOjM5MHB4O21pbi1oZWlnaHQ6MTgwcHg7cGFkZGluZzozMHB4IDAgMTVweH0qID4gYm9keXtiYWNrZ3JvdW5kOnVybCgvL3d3dy5nb29nbGUuY29tL2ltYWdlcy9lcnJvcnMvcm9ib3QucG5nKSAxMDAlIDVweCBuby1yZXBlYXQ7cGFkZGluZy1yaWdodDoyMDVweH1we21hcmdpbjoxMXB4IDAgMjJweDtvdmVyZmxvdzpoaWRkZW59aW5ze2NvbG9yOiM3Nzc7dGV4dC1kZWNvcmF0aW9uOm5vbmV9YSBpbWd7Ym9yZGVyOjB9QG1lZGlhIHNjcmVlbiBhbmQgKG1heC13aWR0aDo3NzJweCl7Ym9keXtiYWNrZ3JvdW5kOm5vbmU7bWFyZ2luLXRvcDowO21heC13aWR0aDpub25lO3BhZGRpbmctcmlnaHQ6MH19I2xvZ297YmFja2dyb3VuZDp1cmwoLy93d3cuZ29vZ2xlLmNvbS9pbWFnZXMvbG9nb3MvZXJyb3JwYWdlL2Vycm9yX2xvZ28tMTUweDU0LnBuZykgbm8tcmVwZWF0O21hcmdpbi1sZWZ0Oi01cHh9QG1lZGlhIG9ubHkgc2NyZWVuIGFuZCAobWluLXJlc29sdXRpb246MTkyZHBpKXsjbG9nb3tiYWNrZ3JvdW5kOnVybCgvL3d3dy5nb29nbGUuY29tL2ltYWdlcy9sb2dvcy9lcnJvcnBhZ2UvZXJyb3JfbG9nby0xNTB4NTQtMngucG5nKSBuby1yZXBlYXQgMCUgMCUvMTAwJSAxMDAlOy1tb3otYm9yZGVyLWltYWdlOnVybCgvL3d3dy5nb29nbGUuY29tL2ltYWdlcy9sb2dvcy9lcnJvcnBhZ2UvZXJyb3JfbG9nby0xNTB4NTQtMngucG5nKSAwfX1AbWVkaWEgb25seSBzY3JlZW4gYW5kICgtd2Via2l0LW1pbi1kZXZpY2UtcGl4ZWwtcmF0aW86Mil7I2xvZ297YmFja2dyb3VuZDp1cmwoLy93d3cuZ29vZ2xlLmNvbS9pbWFnZXMvbG9nb3MvZXJyb3JwYWdlL2Vycm9yX2xvZ28tMTUweDU0LTJ4LnBuZykgbm8tcmVwZWF0Oy13ZWJraXQtYmFja2dyb3VuZC1zaXplOjEwMCUgMTAwJX19I2xvZ297ZGlzcGxheTppbmxpbmUtYmxvY2s7aGVpZ2h0OjU0cHg7d2lkdGg6MTUwcHh9CiAgPC9zdHlsZT4KICA8YSBocmVmPS8vd3d3Lmdvb2dsZS5jb20vPjxzcGFuIGlkPWxvZ28gYXJpYS1sYWJlbD1Hb29nbGU+PC9zcGFuPjwvYT4KICA8cD48Yj40MDQuPC9iPiA8aW5zPlRoYXTigJlzIGFuIGVycm9yLjwvaW5zPgogIDxwPiAgPGlucz5UaGF04oCZcyBhbGwgd2Uga25vdy48L2lucz4K",
              "ok": false,
              "headers": [
                [
                  "content-length",
                  "1449"
                ],
                [
                  "content-type",
                  "text/html; charset=utf-8"
                ]
              ],
              "status": 404,
              "status_text": ""
            },
            "http://localhost:8080/dataset_students/classification/train_unlabelled/1095.png": {
              "data": "CjwhRE9DVFlQRSBodG1sPgo8aHRtbCBsYW5nPWVuPgogIDxtZXRhIGNoYXJzZXQ9dXRmLTg+CiAgPG1ldGEgbmFtZT12aWV3cG9ydCBjb250ZW50PSJpbml0aWFsLXNjYWxlPTEsIG1pbmltdW0tc2NhbGU9MSwgd2lkdGg9ZGV2aWNlLXdpZHRoIj4KICA8dGl0bGU+RXJyb3IgNDA0IChOb3QgRm91bmQpISExPC90aXRsZT4KICA8c3R5bGU+CiAgICAqe21hcmdpbjowO3BhZGRpbmc6MH1odG1sLGNvZGV7Zm9udDoxNXB4LzIycHggYXJpYWwsc2Fucy1zZXJpZn1odG1se2JhY2tncm91bmQ6I2ZmZjtjb2xvcjojMjIyO3BhZGRpbmc6MTVweH1ib2R5e21hcmdpbjo3JSBhdXRvIDA7bWF4LXdpZHRoOjM5MHB4O21pbi1oZWlnaHQ6MTgwcHg7cGFkZGluZzozMHB4IDAgMTVweH0qID4gYm9keXtiYWNrZ3JvdW5kOnVybCgvL3d3dy5nb29nbGUuY29tL2ltYWdlcy9lcnJvcnMvcm9ib3QucG5nKSAxMDAlIDVweCBuby1yZXBlYXQ7cGFkZGluZy1yaWdodDoyMDVweH1we21hcmdpbjoxMXB4IDAgMjJweDtvdmVyZmxvdzpoaWRkZW59aW5ze2NvbG9yOiM3Nzc7dGV4dC1kZWNvcmF0aW9uOm5vbmV9YSBpbWd7Ym9yZGVyOjB9QG1lZGlhIHNjcmVlbiBhbmQgKG1heC13aWR0aDo3NzJweCl7Ym9keXtiYWNrZ3JvdW5kOm5vbmU7bWFyZ2luLXRvcDowO21heC13aWR0aDpub25lO3BhZGRpbmctcmlnaHQ6MH19I2xvZ297YmFja2dyb3VuZDp1cmwoLy93d3cuZ29vZ2xlLmNvbS9pbWFnZXMvbG9nb3MvZXJyb3JwYWdlL2Vycm9yX2xvZ28tMTUweDU0LnBuZykgbm8tcmVwZWF0O21hcmdpbi1sZWZ0Oi01cHh9QG1lZGlhIG9ubHkgc2NyZWVuIGFuZCAobWluLXJlc29sdXRpb246MTkyZHBpKXsjbG9nb3tiYWNrZ3JvdW5kOnVybCgvL3d3dy5nb29nbGUuY29tL2ltYWdlcy9sb2dvcy9lcnJvcnBhZ2UvZXJyb3JfbG9nby0xNTB4NTQtMngucG5nKSBuby1yZXBlYXQgMCUgMCUvMTAwJSAxMDAlOy1tb3otYm9yZGVyLWltYWdlOnVybCgvL3d3dy5nb29nbGUuY29tL2ltYWdlcy9sb2dvcy9lcnJvcnBhZ2UvZXJyb3JfbG9nby0xNTB4NTQtMngucG5nKSAwfX1AbWVkaWEgb25seSBzY3JlZW4gYW5kICgtd2Via2l0LW1pbi1kZXZpY2UtcGl4ZWwtcmF0aW86Mil7I2xvZ297YmFja2dyb3VuZDp1cmwoLy93d3cuZ29vZ2xlLmNvbS9pbWFnZXMvbG9nb3MvZXJyb3JwYWdlL2Vycm9yX2xvZ28tMTUweDU0LTJ4LnBuZykgbm8tcmVwZWF0Oy13ZWJraXQtYmFja2dyb3VuZC1zaXplOjEwMCUgMTAwJX19I2xvZ297ZGlzcGxheTppbmxpbmUtYmxvY2s7aGVpZ2h0OjU0cHg7d2lkdGg6MTUwcHh9CiAgPC9zdHlsZT4KICA8YSBocmVmPS8vd3d3Lmdvb2dsZS5jb20vPjxzcGFuIGlkPWxvZ28gYXJpYS1sYWJlbD1Hb29nbGU+PC9zcGFuPjwvYT4KICA8cD48Yj40MDQuPC9iPiA8aW5zPlRoYXTigJlzIGFuIGVycm9yLjwvaW5zPgogIDxwPiAgPGlucz5UaGF04oCZcyBhbGwgd2Uga25vdy48L2lucz4K",
              "ok": false,
              "headers": [
                [
                  "content-length",
                  "1449"
                ],
                [
                  "content-type",
                  "text/html; charset=utf-8"
                ]
              ],
              "status": 404,
              "status_text": ""
            },
            "http://localhost:8080/dataset_students/classification/train_labelled/44.png": {
              "data": "CjwhRE9DVFlQRSBodG1sPgo8aHRtbCBsYW5nPWVuPgogIDxtZXRhIGNoYXJzZXQ9dXRmLTg+CiAgPG1ldGEgbmFtZT12aWV3cG9ydCBjb250ZW50PSJpbml0aWFsLXNjYWxlPTEsIG1pbmltdW0tc2NhbGU9MSwgd2lkdGg9ZGV2aWNlLXdpZHRoIj4KICA8dGl0bGU+RXJyb3IgNDA0IChOb3QgRm91bmQpISExPC90aXRsZT4KICA8c3R5bGU+CiAgICAqe21hcmdpbjowO3BhZGRpbmc6MH1odG1sLGNvZGV7Zm9udDoxNXB4LzIycHggYXJpYWwsc2Fucy1zZXJpZn1odG1se2JhY2tncm91bmQ6I2ZmZjtjb2xvcjojMjIyO3BhZGRpbmc6MTVweH1ib2R5e21hcmdpbjo3JSBhdXRvIDA7bWF4LXdpZHRoOjM5MHB4O21pbi1oZWlnaHQ6MTgwcHg7cGFkZGluZzozMHB4IDAgMTVweH0qID4gYm9keXtiYWNrZ3JvdW5kOnVybCgvL3d3dy5nb29nbGUuY29tL2ltYWdlcy9lcnJvcnMvcm9ib3QucG5nKSAxMDAlIDVweCBuby1yZXBlYXQ7cGFkZGluZy1yaWdodDoyMDVweH1we21hcmdpbjoxMXB4IDAgMjJweDtvdmVyZmxvdzpoaWRkZW59aW5ze2NvbG9yOiM3Nzc7dGV4dC1kZWNvcmF0aW9uOm5vbmV9YSBpbWd7Ym9yZGVyOjB9QG1lZGlhIHNjcmVlbiBhbmQgKG1heC13aWR0aDo3NzJweCl7Ym9keXtiYWNrZ3JvdW5kOm5vbmU7bWFyZ2luLXRvcDowO21heC13aWR0aDpub25lO3BhZGRpbmctcmlnaHQ6MH19I2xvZ297YmFja2dyb3VuZDp1cmwoLy93d3cuZ29vZ2xlLmNvbS9pbWFnZXMvbG9nb3MvZXJyb3JwYWdlL2Vycm9yX2xvZ28tMTUweDU0LnBuZykgbm8tcmVwZWF0O21hcmdpbi1sZWZ0Oi01cHh9QG1lZGlhIG9ubHkgc2NyZWVuIGFuZCAobWluLXJlc29sdXRpb246MTkyZHBpKXsjbG9nb3tiYWNrZ3JvdW5kOnVybCgvL3d3dy5nb29nbGUuY29tL2ltYWdlcy9sb2dvcy9lcnJvcnBhZ2UvZXJyb3JfbG9nby0xNTB4NTQtMngucG5nKSBuby1yZXBlYXQgMCUgMCUvMTAwJSAxMDAlOy1tb3otYm9yZGVyLWltYWdlOnVybCgvL3d3dy5nb29nbGUuY29tL2ltYWdlcy9sb2dvcy9lcnJvcnBhZ2UvZXJyb3JfbG9nby0xNTB4NTQtMngucG5nKSAwfX1AbWVkaWEgb25seSBzY3JlZW4gYW5kICgtd2Via2l0LW1pbi1kZXZpY2UtcGl4ZWwtcmF0aW86Mil7I2xvZ297YmFja2dyb3VuZDp1cmwoLy93d3cuZ29vZ2xlLmNvbS9pbWFnZXMvbG9nb3MvZXJyb3JwYWdlL2Vycm9yX2xvZ28tMTUweDU0LTJ4LnBuZykgbm8tcmVwZWF0Oy13ZWJraXQtYmFja2dyb3VuZC1zaXplOjEwMCUgMTAwJX19I2xvZ297ZGlzcGxheTppbmxpbmUtYmxvY2s7aGVpZ2h0OjU0cHg7d2lkdGg6MTUwcHh9CiAgPC9zdHlsZT4KICA8YSBocmVmPS8vd3d3Lmdvb2dsZS5jb20vPjxzcGFuIGlkPWxvZ28gYXJpYS1sYWJlbD1Hb29nbGU+PC9zcGFuPjwvYT4KICA8cD48Yj40MDQuPC9iPiA8aW5zPlRoYXTigJlzIGFuIGVycm9yLjwvaW5zPgogIDxwPiAgPGlucz5UaGF04oCZcyBhbGwgd2Uga25vdy48L2lucz4K",
              "ok": false,
              "headers": [
                [
                  "content-length",
                  "1449"
                ],
                [
                  "content-type",
                  "text/html; charset=utf-8"
                ]
              ],
              "status": 404,
              "status_text": ""
            },
            "http://localhost:8080/dataset_students/classification/train_unlabelled/512.png": {
              "data": "CjwhRE9DVFlQRSBodG1sPgo8aHRtbCBsYW5nPWVuPgogIDxtZXRhIGNoYXJzZXQ9dXRmLTg+CiAgPG1ldGEgbmFtZT12aWV3cG9ydCBjb250ZW50PSJpbml0aWFsLXNjYWxlPTEsIG1pbmltdW0tc2NhbGU9MSwgd2lkdGg9ZGV2aWNlLXdpZHRoIj4KICA8dGl0bGU+RXJyb3IgNDA0IChOb3QgRm91bmQpISExPC90aXRsZT4KICA8c3R5bGU+CiAgICAqe21hcmdpbjowO3BhZGRpbmc6MH1odG1sLGNvZGV7Zm9udDoxNXB4LzIycHggYXJpYWwsc2Fucy1zZXJpZn1odG1se2JhY2tncm91bmQ6I2ZmZjtjb2xvcjojMjIyO3BhZGRpbmc6MTVweH1ib2R5e21hcmdpbjo3JSBhdXRvIDA7bWF4LXdpZHRoOjM5MHB4O21pbi1oZWlnaHQ6MTgwcHg7cGFkZGluZzozMHB4IDAgMTVweH0qID4gYm9keXtiYWNrZ3JvdW5kOnVybCgvL3d3dy5nb29nbGUuY29tL2ltYWdlcy9lcnJvcnMvcm9ib3QucG5nKSAxMDAlIDVweCBuby1yZXBlYXQ7cGFkZGluZy1yaWdodDoyMDVweH1we21hcmdpbjoxMXB4IDAgMjJweDtvdmVyZmxvdzpoaWRkZW59aW5ze2NvbG9yOiM3Nzc7dGV4dC1kZWNvcmF0aW9uOm5vbmV9YSBpbWd7Ym9yZGVyOjB9QG1lZGlhIHNjcmVlbiBhbmQgKG1heC13aWR0aDo3NzJweCl7Ym9keXtiYWNrZ3JvdW5kOm5vbmU7bWFyZ2luLXRvcDowO21heC13aWR0aDpub25lO3BhZGRpbmctcmlnaHQ6MH19I2xvZ297YmFja2dyb3VuZDp1cmwoLy93d3cuZ29vZ2xlLmNvbS9pbWFnZXMvbG9nb3MvZXJyb3JwYWdlL2Vycm9yX2xvZ28tMTUweDU0LnBuZykgbm8tcmVwZWF0O21hcmdpbi1sZWZ0Oi01cHh9QG1lZGlhIG9ubHkgc2NyZWVuIGFuZCAobWluLXJlc29sdXRpb246MTkyZHBpKXsjbG9nb3tiYWNrZ3JvdW5kOnVybCgvL3d3dy5nb29nbGUuY29tL2ltYWdlcy9sb2dvcy9lcnJvcnBhZ2UvZXJyb3JfbG9nby0xNTB4NTQtMngucG5nKSBuby1yZXBlYXQgMCUgMCUvMTAwJSAxMDAlOy1tb3otYm9yZGVyLWltYWdlOnVybCgvL3d3dy5nb29nbGUuY29tL2ltYWdlcy9sb2dvcy9lcnJvcnBhZ2UvZXJyb3JfbG9nby0xNTB4NTQtMngucG5nKSAwfX1AbWVkaWEgb25seSBzY3JlZW4gYW5kICgtd2Via2l0LW1pbi1kZXZpY2UtcGl4ZWwtcmF0aW86Mil7I2xvZ297YmFja2dyb3VuZDp1cmwoLy93d3cuZ29vZ2xlLmNvbS9pbWFnZXMvbG9nb3MvZXJyb3JwYWdlL2Vycm9yX2xvZ28tMTUweDU0LTJ4LnBuZykgbm8tcmVwZWF0Oy13ZWJraXQtYmFja2dyb3VuZC1zaXplOjEwMCUgMTAwJX19I2xvZ297ZGlzcGxheTppbmxpbmUtYmxvY2s7aGVpZ2h0OjU0cHg7d2lkdGg6MTUwcHh9CiAgPC9zdHlsZT4KICA8YSBocmVmPS8vd3d3Lmdvb2dsZS5jb20vPjxzcGFuIGlkPWxvZ28gYXJpYS1sYWJlbD1Hb29nbGU+PC9zcGFuPjwvYT4KICA8cD48Yj40MDQuPC9iPiA8aW5zPlRoYXTigJlzIGFuIGVycm9yLjwvaW5zPgogIDxwPiAgPGlucz5UaGF04oCZcyBhbGwgd2Uga25vdy48L2lucz4K",
              "ok": false,
              "headers": [
                [
                  "content-length",
                  "1449"
                ],
                [
                  "content-type",
                  "text/html; charset=utf-8"
                ]
              ],
              "status": 404,
              "status_text": ""
            },
            "http://localhost:8080/dataset_students/classification/train_labelled/30.png": {
              "data": "CjwhRE9DVFlQRSBodG1sPgo8aHRtbCBsYW5nPWVuPgogIDxtZXRhIGNoYXJzZXQ9dXRmLTg+CiAgPG1ldGEgbmFtZT12aWV3cG9ydCBjb250ZW50PSJpbml0aWFsLXNjYWxlPTEsIG1pbmltdW0tc2NhbGU9MSwgd2lkdGg9ZGV2aWNlLXdpZHRoIj4KICA8dGl0bGU+RXJyb3IgNDA0IChOb3QgRm91bmQpISExPC90aXRsZT4KICA8c3R5bGU+CiAgICAqe21hcmdpbjowO3BhZGRpbmc6MH1odG1sLGNvZGV7Zm9udDoxNXB4LzIycHggYXJpYWwsc2Fucy1zZXJpZn1odG1se2JhY2tncm91bmQ6I2ZmZjtjb2xvcjojMjIyO3BhZGRpbmc6MTVweH1ib2R5e21hcmdpbjo3JSBhdXRvIDA7bWF4LXdpZHRoOjM5MHB4O21pbi1oZWlnaHQ6MTgwcHg7cGFkZGluZzozMHB4IDAgMTVweH0qID4gYm9keXtiYWNrZ3JvdW5kOnVybCgvL3d3dy5nb29nbGUuY29tL2ltYWdlcy9lcnJvcnMvcm9ib3QucG5nKSAxMDAlIDVweCBuby1yZXBlYXQ7cGFkZGluZy1yaWdodDoyMDVweH1we21hcmdpbjoxMXB4IDAgMjJweDtvdmVyZmxvdzpoaWRkZW59aW5ze2NvbG9yOiM3Nzc7dGV4dC1kZWNvcmF0aW9uOm5vbmV9YSBpbWd7Ym9yZGVyOjB9QG1lZGlhIHNjcmVlbiBhbmQgKG1heC13aWR0aDo3NzJweCl7Ym9keXtiYWNrZ3JvdW5kOm5vbmU7bWFyZ2luLXRvcDowO21heC13aWR0aDpub25lO3BhZGRpbmctcmlnaHQ6MH19I2xvZ297YmFja2dyb3VuZDp1cmwoLy93d3cuZ29vZ2xlLmNvbS9pbWFnZXMvbG9nb3MvZXJyb3JwYWdlL2Vycm9yX2xvZ28tMTUweDU0LnBuZykgbm8tcmVwZWF0O21hcmdpbi1sZWZ0Oi01cHh9QG1lZGlhIG9ubHkgc2NyZWVuIGFuZCAobWluLXJlc29sdXRpb246MTkyZHBpKXsjbG9nb3tiYWNrZ3JvdW5kOnVybCgvL3d3dy5nb29nbGUuY29tL2ltYWdlcy9sb2dvcy9lcnJvcnBhZ2UvZXJyb3JfbG9nby0xNTB4NTQtMngucG5nKSBuby1yZXBlYXQgMCUgMCUvMTAwJSAxMDAlOy1tb3otYm9yZGVyLWltYWdlOnVybCgvL3d3dy5nb29nbGUuY29tL2ltYWdlcy9sb2dvcy9lcnJvcnBhZ2UvZXJyb3JfbG9nby0xNTB4NTQtMngucG5nKSAwfX1AbWVkaWEgb25seSBzY3JlZW4gYW5kICgtd2Via2l0LW1pbi1kZXZpY2UtcGl4ZWwtcmF0aW86Mil7I2xvZ297YmFja2dyb3VuZDp1cmwoLy93d3cuZ29vZ2xlLmNvbS9pbWFnZXMvbG9nb3MvZXJyb3JwYWdlL2Vycm9yX2xvZ28tMTUweDU0LTJ4LnBuZykgbm8tcmVwZWF0Oy13ZWJraXQtYmFja2dyb3VuZC1zaXplOjEwMCUgMTAwJX19I2xvZ297ZGlzcGxheTppbmxpbmUtYmxvY2s7aGVpZ2h0OjU0cHg7d2lkdGg6MTUwcHh9CiAgPC9zdHlsZT4KICA8YSBocmVmPS8vd3d3Lmdvb2dsZS5jb20vPjxzcGFuIGlkPWxvZ28gYXJpYS1sYWJlbD1Hb29nbGU+PC9zcGFuPjwvYT4KICA8cD48Yj40MDQuPC9iPiA8aW5zPlRoYXTigJlzIGFuIGVycm9yLjwvaW5zPgogIDxwPiAgPGlucz5UaGF04oCZcyBhbGwgd2Uga25vdy48L2lucz4K",
              "ok": false,
              "headers": [
                [
                  "content-length",
                  "1449"
                ],
                [
                  "content-type",
                  "text/html; charset=utf-8"
                ]
              ],
              "status": 404,
              "status_text": ""
            },
            "http://localhost:8080/dataset_students/classification/train_labelled/49.png": {
              "data": "CjwhRE9DVFlQRSBodG1sPgo8aHRtbCBsYW5nPWVuPgogIDxtZXRhIGNoYXJzZXQ9dXRmLTg+CiAgPG1ldGEgbmFtZT12aWV3cG9ydCBjb250ZW50PSJpbml0aWFsLXNjYWxlPTEsIG1pbmltdW0tc2NhbGU9MSwgd2lkdGg9ZGV2aWNlLXdpZHRoIj4KICA8dGl0bGU+RXJyb3IgNDA0IChOb3QgRm91bmQpISExPC90aXRsZT4KICA8c3R5bGU+CiAgICAqe21hcmdpbjowO3BhZGRpbmc6MH1odG1sLGNvZGV7Zm9udDoxNXB4LzIycHggYXJpYWwsc2Fucy1zZXJpZn1odG1se2JhY2tncm91bmQ6I2ZmZjtjb2xvcjojMjIyO3BhZGRpbmc6MTVweH1ib2R5e21hcmdpbjo3JSBhdXRvIDA7bWF4LXdpZHRoOjM5MHB4O21pbi1oZWlnaHQ6MTgwcHg7cGFkZGluZzozMHB4IDAgMTVweH0qID4gYm9keXtiYWNrZ3JvdW5kOnVybCgvL3d3dy5nb29nbGUuY29tL2ltYWdlcy9lcnJvcnMvcm9ib3QucG5nKSAxMDAlIDVweCBuby1yZXBlYXQ7cGFkZGluZy1yaWdodDoyMDVweH1we21hcmdpbjoxMXB4IDAgMjJweDtvdmVyZmxvdzpoaWRkZW59aW5ze2NvbG9yOiM3Nzc7dGV4dC1kZWNvcmF0aW9uOm5vbmV9YSBpbWd7Ym9yZGVyOjB9QG1lZGlhIHNjcmVlbiBhbmQgKG1heC13aWR0aDo3NzJweCl7Ym9keXtiYWNrZ3JvdW5kOm5vbmU7bWFyZ2luLXRvcDowO21heC13aWR0aDpub25lO3BhZGRpbmctcmlnaHQ6MH19I2xvZ297YmFja2dyb3VuZDp1cmwoLy93d3cuZ29vZ2xlLmNvbS9pbWFnZXMvbG9nb3MvZXJyb3JwYWdlL2Vycm9yX2xvZ28tMTUweDU0LnBuZykgbm8tcmVwZWF0O21hcmdpbi1sZWZ0Oi01cHh9QG1lZGlhIG9ubHkgc2NyZWVuIGFuZCAobWluLXJlc29sdXRpb246MTkyZHBpKXsjbG9nb3tiYWNrZ3JvdW5kOnVybCgvL3d3dy5nb29nbGUuY29tL2ltYWdlcy9sb2dvcy9lcnJvcnBhZ2UvZXJyb3JfbG9nby0xNTB4NTQtMngucG5nKSBuby1yZXBlYXQgMCUgMCUvMTAwJSAxMDAlOy1tb3otYm9yZGVyLWltYWdlOnVybCgvL3d3dy5nb29nbGUuY29tL2ltYWdlcy9sb2dvcy9lcnJvcnBhZ2UvZXJyb3JfbG9nby0xNTB4NTQtMngucG5nKSAwfX1AbWVkaWEgb25seSBzY3JlZW4gYW5kICgtd2Via2l0LW1pbi1kZXZpY2UtcGl4ZWwtcmF0aW86Mil7I2xvZ297YmFja2dyb3VuZDp1cmwoLy93d3cuZ29vZ2xlLmNvbS9pbWFnZXMvbG9nb3MvZXJyb3JwYWdlL2Vycm9yX2xvZ28tMTUweDU0LTJ4LnBuZykgbm8tcmVwZWF0Oy13ZWJraXQtYmFja2dyb3VuZC1zaXplOjEwMCUgMTAwJX19I2xvZ297ZGlzcGxheTppbmxpbmUtYmxvY2s7aGVpZ2h0OjU0cHg7d2lkdGg6MTUwcHh9CiAgPC9zdHlsZT4KICA8YSBocmVmPS8vd3d3Lmdvb2dsZS5jb20vPjxzcGFuIGlkPWxvZ28gYXJpYS1sYWJlbD1Hb29nbGU+PC9zcGFuPjwvYT4KICA8cD48Yj40MDQuPC9iPiA8aW5zPlRoYXTigJlzIGFuIGVycm9yLjwvaW5zPgogIDxwPiAgPGlucz5UaGF04oCZcyBhbGwgd2Uga25vdy48L2lucz4K",
              "ok": false,
              "headers": [
                [
                  "content-length",
                  "1449"
                ],
                [
                  "content-type",
                  "text/html; charset=utf-8"
                ]
              ],
              "status": 404,
              "status_text": ""
            },
            "http://localhost:8080/dataset_students/classification/train_unlabelled/877.png": {
              "data": "CjwhRE9DVFlQRSBodG1sPgo8aHRtbCBsYW5nPWVuPgogIDxtZXRhIGNoYXJzZXQ9dXRmLTg+CiAgPG1ldGEgbmFtZT12aWV3cG9ydCBjb250ZW50PSJpbml0aWFsLXNjYWxlPTEsIG1pbmltdW0tc2NhbGU9MSwgd2lkdGg9ZGV2aWNlLXdpZHRoIj4KICA8dGl0bGU+RXJyb3IgNDA0IChOb3QgRm91bmQpISExPC90aXRsZT4KICA8c3R5bGU+CiAgICAqe21hcmdpbjowO3BhZGRpbmc6MH1odG1sLGNvZGV7Zm9udDoxNXB4LzIycHggYXJpYWwsc2Fucy1zZXJpZn1odG1se2JhY2tncm91bmQ6I2ZmZjtjb2xvcjojMjIyO3BhZGRpbmc6MTVweH1ib2R5e21hcmdpbjo3JSBhdXRvIDA7bWF4LXdpZHRoOjM5MHB4O21pbi1oZWlnaHQ6MTgwcHg7cGFkZGluZzozMHB4IDAgMTVweH0qID4gYm9keXtiYWNrZ3JvdW5kOnVybCgvL3d3dy5nb29nbGUuY29tL2ltYWdlcy9lcnJvcnMvcm9ib3QucG5nKSAxMDAlIDVweCBuby1yZXBlYXQ7cGFkZGluZy1yaWdodDoyMDVweH1we21hcmdpbjoxMXB4IDAgMjJweDtvdmVyZmxvdzpoaWRkZW59aW5ze2NvbG9yOiM3Nzc7dGV4dC1kZWNvcmF0aW9uOm5vbmV9YSBpbWd7Ym9yZGVyOjB9QG1lZGlhIHNjcmVlbiBhbmQgKG1heC13aWR0aDo3NzJweCl7Ym9keXtiYWNrZ3JvdW5kOm5vbmU7bWFyZ2luLXRvcDowO21heC13aWR0aDpub25lO3BhZGRpbmctcmlnaHQ6MH19I2xvZ297YmFja2dyb3VuZDp1cmwoLy93d3cuZ29vZ2xlLmNvbS9pbWFnZXMvbG9nb3MvZXJyb3JwYWdlL2Vycm9yX2xvZ28tMTUweDU0LnBuZykgbm8tcmVwZWF0O21hcmdpbi1sZWZ0Oi01cHh9QG1lZGlhIG9ubHkgc2NyZWVuIGFuZCAobWluLXJlc29sdXRpb246MTkyZHBpKXsjbG9nb3tiYWNrZ3JvdW5kOnVybCgvL3d3dy5nb29nbGUuY29tL2ltYWdlcy9sb2dvcy9lcnJvcnBhZ2UvZXJyb3JfbG9nby0xNTB4NTQtMngucG5nKSBuby1yZXBlYXQgMCUgMCUvMTAwJSAxMDAlOy1tb3otYm9yZGVyLWltYWdlOnVybCgvL3d3dy5nb29nbGUuY29tL2ltYWdlcy9sb2dvcy9lcnJvcnBhZ2UvZXJyb3JfbG9nby0xNTB4NTQtMngucG5nKSAwfX1AbWVkaWEgb25seSBzY3JlZW4gYW5kICgtd2Via2l0LW1pbi1kZXZpY2UtcGl4ZWwtcmF0aW86Mil7I2xvZ297YmFja2dyb3VuZDp1cmwoLy93d3cuZ29vZ2xlLmNvbS9pbWFnZXMvbG9nb3MvZXJyb3JwYWdlL2Vycm9yX2xvZ28tMTUweDU0LTJ4LnBuZykgbm8tcmVwZWF0Oy13ZWJraXQtYmFja2dyb3VuZC1zaXplOjEwMCUgMTAwJX19I2xvZ297ZGlzcGxheTppbmxpbmUtYmxvY2s7aGVpZ2h0OjU0cHg7d2lkdGg6MTUwcHh9CiAgPC9zdHlsZT4KICA8YSBocmVmPS8vd3d3Lmdvb2dsZS5jb20vPjxzcGFuIGlkPWxvZ28gYXJpYS1sYWJlbD1Hb29nbGU+PC9zcGFuPjwvYT4KICA8cD48Yj40MDQuPC9iPiA8aW5zPlRoYXTigJlzIGFuIGVycm9yLjwvaW5zPgogIDxwPiAgPGlucz5UaGF04oCZcyBhbGwgd2Uga25vdy48L2lucz4K",
              "ok": false,
              "headers": [
                [
                  "content-length",
                  "1449"
                ],
                [
                  "content-type",
                  "text/html; charset=utf-8"
                ]
              ],
              "status": 404,
              "status_text": ""
            },
            "http://localhost:8080/dataset_students/classification/train_unlabelled/1658.png": {
              "data": "CjwhRE9DVFlQRSBodG1sPgo8aHRtbCBsYW5nPWVuPgogIDxtZXRhIGNoYXJzZXQ9dXRmLTg+CiAgPG1ldGEgbmFtZT12aWV3cG9ydCBjb250ZW50PSJpbml0aWFsLXNjYWxlPTEsIG1pbmltdW0tc2NhbGU9MSwgd2lkdGg9ZGV2aWNlLXdpZHRoIj4KICA8dGl0bGU+RXJyb3IgNDA0IChOb3QgRm91bmQpISExPC90aXRsZT4KICA8c3R5bGU+CiAgICAqe21hcmdpbjowO3BhZGRpbmc6MH1odG1sLGNvZGV7Zm9udDoxNXB4LzIycHggYXJpYWwsc2Fucy1zZXJpZn1odG1se2JhY2tncm91bmQ6I2ZmZjtjb2xvcjojMjIyO3BhZGRpbmc6MTVweH1ib2R5e21hcmdpbjo3JSBhdXRvIDA7bWF4LXdpZHRoOjM5MHB4O21pbi1oZWlnaHQ6MTgwcHg7cGFkZGluZzozMHB4IDAgMTVweH0qID4gYm9keXtiYWNrZ3JvdW5kOnVybCgvL3d3dy5nb29nbGUuY29tL2ltYWdlcy9lcnJvcnMvcm9ib3QucG5nKSAxMDAlIDVweCBuby1yZXBlYXQ7cGFkZGluZy1yaWdodDoyMDVweH1we21hcmdpbjoxMXB4IDAgMjJweDtvdmVyZmxvdzpoaWRkZW59aW5ze2NvbG9yOiM3Nzc7dGV4dC1kZWNvcmF0aW9uOm5vbmV9YSBpbWd7Ym9yZGVyOjB9QG1lZGlhIHNjcmVlbiBhbmQgKG1heC13aWR0aDo3NzJweCl7Ym9keXtiYWNrZ3JvdW5kOm5vbmU7bWFyZ2luLXRvcDowO21heC13aWR0aDpub25lO3BhZGRpbmctcmlnaHQ6MH19I2xvZ297YmFja2dyb3VuZDp1cmwoLy93d3cuZ29vZ2xlLmNvbS9pbWFnZXMvbG9nb3MvZXJyb3JwYWdlL2Vycm9yX2xvZ28tMTUweDU0LnBuZykgbm8tcmVwZWF0O21hcmdpbi1sZWZ0Oi01cHh9QG1lZGlhIG9ubHkgc2NyZWVuIGFuZCAobWluLXJlc29sdXRpb246MTkyZHBpKXsjbG9nb3tiYWNrZ3JvdW5kOnVybCgvL3d3dy5nb29nbGUuY29tL2ltYWdlcy9sb2dvcy9lcnJvcnBhZ2UvZXJyb3JfbG9nby0xNTB4NTQtMngucG5nKSBuby1yZXBlYXQgMCUgMCUvMTAwJSAxMDAlOy1tb3otYm9yZGVyLWltYWdlOnVybCgvL3d3dy5nb29nbGUuY29tL2ltYWdlcy9sb2dvcy9lcnJvcnBhZ2UvZXJyb3JfbG9nby0xNTB4NTQtMngucG5nKSAwfX1AbWVkaWEgb25seSBzY3JlZW4gYW5kICgtd2Via2l0LW1pbi1kZXZpY2UtcGl4ZWwtcmF0aW86Mil7I2xvZ297YmFja2dyb3VuZDp1cmwoLy93d3cuZ29vZ2xlLmNvbS9pbWFnZXMvbG9nb3MvZXJyb3JwYWdlL2Vycm9yX2xvZ28tMTUweDU0LTJ4LnBuZykgbm8tcmVwZWF0Oy13ZWJraXQtYmFja2dyb3VuZC1zaXplOjEwMCUgMTAwJX19I2xvZ297ZGlzcGxheTppbmxpbmUtYmxvY2s7aGVpZ2h0OjU0cHg7d2lkdGg6MTUwcHh9CiAgPC9zdHlsZT4KICA8YSBocmVmPS8vd3d3Lmdvb2dsZS5jb20vPjxzcGFuIGlkPWxvZ28gYXJpYS1sYWJlbD1Hb29nbGU+PC9zcGFuPjwvYT4KICA8cD48Yj40MDQuPC9iPiA8aW5zPlRoYXTigJlzIGFuIGVycm9yLjwvaW5zPgogIDxwPiAgPGlucz5UaGF04oCZcyBhbGwgd2Uga25vdy48L2lucz4K",
              "ok": false,
              "headers": [
                [
                  "content-length",
                  "1449"
                ],
                [
                  "content-type",
                  "text/html; charset=utf-8"
                ]
              ],
              "status": 404,
              "status_text": ""
            },
            "http://localhost:8080/dataset_students/classification/train_unlabelled/1631.png": {
              "data": "CjwhRE9DVFlQRSBodG1sPgo8aHRtbCBsYW5nPWVuPgogIDxtZXRhIGNoYXJzZXQ9dXRmLTg+CiAgPG1ldGEgbmFtZT12aWV3cG9ydCBjb250ZW50PSJpbml0aWFsLXNjYWxlPTEsIG1pbmltdW0tc2NhbGU9MSwgd2lkdGg9ZGV2aWNlLXdpZHRoIj4KICA8dGl0bGU+RXJyb3IgNDA0IChOb3QgRm91bmQpISExPC90aXRsZT4KICA8c3R5bGU+CiAgICAqe21hcmdpbjowO3BhZGRpbmc6MH1odG1sLGNvZGV7Zm9udDoxNXB4LzIycHggYXJpYWwsc2Fucy1zZXJpZn1odG1se2JhY2tncm91bmQ6I2ZmZjtjb2xvcjojMjIyO3BhZGRpbmc6MTVweH1ib2R5e21hcmdpbjo3JSBhdXRvIDA7bWF4LXdpZHRoOjM5MHB4O21pbi1oZWlnaHQ6MTgwcHg7cGFkZGluZzozMHB4IDAgMTVweH0qID4gYm9keXtiYWNrZ3JvdW5kOnVybCgvL3d3dy5nb29nbGUuY29tL2ltYWdlcy9lcnJvcnMvcm9ib3QucG5nKSAxMDAlIDVweCBuby1yZXBlYXQ7cGFkZGluZy1yaWdodDoyMDVweH1we21hcmdpbjoxMXB4IDAgMjJweDtvdmVyZmxvdzpoaWRkZW59aW5ze2NvbG9yOiM3Nzc7dGV4dC1kZWNvcmF0aW9uOm5vbmV9YSBpbWd7Ym9yZGVyOjB9QG1lZGlhIHNjcmVlbiBhbmQgKG1heC13aWR0aDo3NzJweCl7Ym9keXtiYWNrZ3JvdW5kOm5vbmU7bWFyZ2luLXRvcDowO21heC13aWR0aDpub25lO3BhZGRpbmctcmlnaHQ6MH19I2xvZ297YmFja2dyb3VuZDp1cmwoLy93d3cuZ29vZ2xlLmNvbS9pbWFnZXMvbG9nb3MvZXJyb3JwYWdlL2Vycm9yX2xvZ28tMTUweDU0LnBuZykgbm8tcmVwZWF0O21hcmdpbi1sZWZ0Oi01cHh9QG1lZGlhIG9ubHkgc2NyZWVuIGFuZCAobWluLXJlc29sdXRpb246MTkyZHBpKXsjbG9nb3tiYWNrZ3JvdW5kOnVybCgvL3d3dy5nb29nbGUuY29tL2ltYWdlcy9sb2dvcy9lcnJvcnBhZ2UvZXJyb3JfbG9nby0xNTB4NTQtMngucG5nKSBuby1yZXBlYXQgMCUgMCUvMTAwJSAxMDAlOy1tb3otYm9yZGVyLWltYWdlOnVybCgvL3d3dy5nb29nbGUuY29tL2ltYWdlcy9sb2dvcy9lcnJvcnBhZ2UvZXJyb3JfbG9nby0xNTB4NTQtMngucG5nKSAwfX1AbWVkaWEgb25seSBzY3JlZW4gYW5kICgtd2Via2l0LW1pbi1kZXZpY2UtcGl4ZWwtcmF0aW86Mil7I2xvZ297YmFja2dyb3VuZDp1cmwoLy93d3cuZ29vZ2xlLmNvbS9pbWFnZXMvbG9nb3MvZXJyb3JwYWdlL2Vycm9yX2xvZ28tMTUweDU0LTJ4LnBuZykgbm8tcmVwZWF0Oy13ZWJraXQtYmFja2dyb3VuZC1zaXplOjEwMCUgMTAwJX19I2xvZ297ZGlzcGxheTppbmxpbmUtYmxvY2s7aGVpZ2h0OjU0cHg7d2lkdGg6MTUwcHh9CiAgPC9zdHlsZT4KICA8YSBocmVmPS8vd3d3Lmdvb2dsZS5jb20vPjxzcGFuIGlkPWxvZ28gYXJpYS1sYWJlbD1Hb29nbGU+PC9zcGFuPjwvYT4KICA8cD48Yj40MDQuPC9iPiA8aW5zPlRoYXTigJlzIGFuIGVycm9yLjwvaW5zPgogIDxwPiAgPGlucz5UaGF04oCZcyBhbGwgd2Uga25vdy48L2lucz4K",
              "ok": false,
              "headers": [
                [
                  "content-length",
                  "1449"
                ],
                [
                  "content-type",
                  "text/html; charset=utf-8"
                ]
              ],
              "status": 404,
              "status_text": ""
            },
            "http://localhost:8080/dataset_students/classification/train_labelled/46.png": {
              "data": "CjwhRE9DVFlQRSBodG1sPgo8aHRtbCBsYW5nPWVuPgogIDxtZXRhIGNoYXJzZXQ9dXRmLTg+CiAgPG1ldGEgbmFtZT12aWV3cG9ydCBjb250ZW50PSJpbml0aWFsLXNjYWxlPTEsIG1pbmltdW0tc2NhbGU9MSwgd2lkdGg9ZGV2aWNlLXdpZHRoIj4KICA8dGl0bGU+RXJyb3IgNDA0IChOb3QgRm91bmQpISExPC90aXRsZT4KICA8c3R5bGU+CiAgICAqe21hcmdpbjowO3BhZGRpbmc6MH1odG1sLGNvZGV7Zm9udDoxNXB4LzIycHggYXJpYWwsc2Fucy1zZXJpZn1odG1se2JhY2tncm91bmQ6I2ZmZjtjb2xvcjojMjIyO3BhZGRpbmc6MTVweH1ib2R5e21hcmdpbjo3JSBhdXRvIDA7bWF4LXdpZHRoOjM5MHB4O21pbi1oZWlnaHQ6MTgwcHg7cGFkZGluZzozMHB4IDAgMTVweH0qID4gYm9keXtiYWNrZ3JvdW5kOnVybCgvL3d3dy5nb29nbGUuY29tL2ltYWdlcy9lcnJvcnMvcm9ib3QucG5nKSAxMDAlIDVweCBuby1yZXBlYXQ7cGFkZGluZy1yaWdodDoyMDVweH1we21hcmdpbjoxMXB4IDAgMjJweDtvdmVyZmxvdzpoaWRkZW59aW5ze2NvbG9yOiM3Nzc7dGV4dC1kZWNvcmF0aW9uOm5vbmV9YSBpbWd7Ym9yZGVyOjB9QG1lZGlhIHNjcmVlbiBhbmQgKG1heC13aWR0aDo3NzJweCl7Ym9keXtiYWNrZ3JvdW5kOm5vbmU7bWFyZ2luLXRvcDowO21heC13aWR0aDpub25lO3BhZGRpbmctcmlnaHQ6MH19I2xvZ297YmFja2dyb3VuZDp1cmwoLy93d3cuZ29vZ2xlLmNvbS9pbWFnZXMvbG9nb3MvZXJyb3JwYWdlL2Vycm9yX2xvZ28tMTUweDU0LnBuZykgbm8tcmVwZWF0O21hcmdpbi1sZWZ0Oi01cHh9QG1lZGlhIG9ubHkgc2NyZWVuIGFuZCAobWluLXJlc29sdXRpb246MTkyZHBpKXsjbG9nb3tiYWNrZ3JvdW5kOnVybCgvL3d3dy5nb29nbGUuY29tL2ltYWdlcy9sb2dvcy9lcnJvcnBhZ2UvZXJyb3JfbG9nby0xNTB4NTQtMngucG5nKSBuby1yZXBlYXQgMCUgMCUvMTAwJSAxMDAlOy1tb3otYm9yZGVyLWltYWdlOnVybCgvL3d3dy5nb29nbGUuY29tL2ltYWdlcy9sb2dvcy9lcnJvcnBhZ2UvZXJyb3JfbG9nby0xNTB4NTQtMngucG5nKSAwfX1AbWVkaWEgb25seSBzY3JlZW4gYW5kICgtd2Via2l0LW1pbi1kZXZpY2UtcGl4ZWwtcmF0aW86Mil7I2xvZ297YmFja2dyb3VuZDp1cmwoLy93d3cuZ29vZ2xlLmNvbS9pbWFnZXMvbG9nb3MvZXJyb3JwYWdlL2Vycm9yX2xvZ28tMTUweDU0LTJ4LnBuZykgbm8tcmVwZWF0Oy13ZWJraXQtYmFja2dyb3VuZC1zaXplOjEwMCUgMTAwJX19I2xvZ297ZGlzcGxheTppbmxpbmUtYmxvY2s7aGVpZ2h0OjU0cHg7d2lkdGg6MTUwcHh9CiAgPC9zdHlsZT4KICA8YSBocmVmPS8vd3d3Lmdvb2dsZS5jb20vPjxzcGFuIGlkPWxvZ28gYXJpYS1sYWJlbD1Hb29nbGU+PC9zcGFuPjwvYT4KICA8cD48Yj40MDQuPC9iPiA8aW5zPlRoYXTigJlzIGFuIGVycm9yLjwvaW5zPgogIDxwPiAgPGlucz5UaGF04oCZcyBhbGwgd2Uga25vdy48L2lucz4K",
              "ok": false,
              "headers": [
                [
                  "content-length",
                  "1449"
                ],
                [
                  "content-type",
                  "text/html; charset=utf-8"
                ]
              ],
              "status": 404,
              "status_text": ""
            },
            "http://localhost:8080/dataset_students/classification/train_unlabelled/1283.png": {
              "data": "CjwhRE9DVFlQRSBodG1sPgo8aHRtbCBsYW5nPWVuPgogIDxtZXRhIGNoYXJzZXQ9dXRmLTg+CiAgPG1ldGEgbmFtZT12aWV3cG9ydCBjb250ZW50PSJpbml0aWFsLXNjYWxlPTEsIG1pbmltdW0tc2NhbGU9MSwgd2lkdGg9ZGV2aWNlLXdpZHRoIj4KICA8dGl0bGU+RXJyb3IgNDA0IChOb3QgRm91bmQpISExPC90aXRsZT4KICA8c3R5bGU+CiAgICAqe21hcmdpbjowO3BhZGRpbmc6MH1odG1sLGNvZGV7Zm9udDoxNXB4LzIycHggYXJpYWwsc2Fucy1zZXJpZn1odG1se2JhY2tncm91bmQ6I2ZmZjtjb2xvcjojMjIyO3BhZGRpbmc6MTVweH1ib2R5e21hcmdpbjo3JSBhdXRvIDA7bWF4LXdpZHRoOjM5MHB4O21pbi1oZWlnaHQ6MTgwcHg7cGFkZGluZzozMHB4IDAgMTVweH0qID4gYm9keXtiYWNrZ3JvdW5kOnVybCgvL3d3dy5nb29nbGUuY29tL2ltYWdlcy9lcnJvcnMvcm9ib3QucG5nKSAxMDAlIDVweCBuby1yZXBlYXQ7cGFkZGluZy1yaWdodDoyMDVweH1we21hcmdpbjoxMXB4IDAgMjJweDtvdmVyZmxvdzpoaWRkZW59aW5ze2NvbG9yOiM3Nzc7dGV4dC1kZWNvcmF0aW9uOm5vbmV9YSBpbWd7Ym9yZGVyOjB9QG1lZGlhIHNjcmVlbiBhbmQgKG1heC13aWR0aDo3NzJweCl7Ym9keXtiYWNrZ3JvdW5kOm5vbmU7bWFyZ2luLXRvcDowO21heC13aWR0aDpub25lO3BhZGRpbmctcmlnaHQ6MH19I2xvZ297YmFja2dyb3VuZDp1cmwoLy93d3cuZ29vZ2xlLmNvbS9pbWFnZXMvbG9nb3MvZXJyb3JwYWdlL2Vycm9yX2xvZ28tMTUweDU0LnBuZykgbm8tcmVwZWF0O21hcmdpbi1sZWZ0Oi01cHh9QG1lZGlhIG9ubHkgc2NyZWVuIGFuZCAobWluLXJlc29sdXRpb246MTkyZHBpKXsjbG9nb3tiYWNrZ3JvdW5kOnVybCgvL3d3dy5nb29nbGUuY29tL2ltYWdlcy9sb2dvcy9lcnJvcnBhZ2UvZXJyb3JfbG9nby0xNTB4NTQtMngucG5nKSBuby1yZXBlYXQgMCUgMCUvMTAwJSAxMDAlOy1tb3otYm9yZGVyLWltYWdlOnVybCgvL3d3dy5nb29nbGUuY29tL2ltYWdlcy9sb2dvcy9lcnJvcnBhZ2UvZXJyb3JfbG9nby0xNTB4NTQtMngucG5nKSAwfX1AbWVkaWEgb25seSBzY3JlZW4gYW5kICgtd2Via2l0LW1pbi1kZXZpY2UtcGl4ZWwtcmF0aW86Mil7I2xvZ297YmFja2dyb3VuZDp1cmwoLy93d3cuZ29vZ2xlLmNvbS9pbWFnZXMvbG9nb3MvZXJyb3JwYWdlL2Vycm9yX2xvZ28tMTUweDU0LTJ4LnBuZykgbm8tcmVwZWF0Oy13ZWJraXQtYmFja2dyb3VuZC1zaXplOjEwMCUgMTAwJX19I2xvZ297ZGlzcGxheTppbmxpbmUtYmxvY2s7aGVpZ2h0OjU0cHg7d2lkdGg6MTUwcHh9CiAgPC9zdHlsZT4KICA8YSBocmVmPS8vd3d3Lmdvb2dsZS5jb20vPjxzcGFuIGlkPWxvZ28gYXJpYS1sYWJlbD1Hb29nbGU+PC9zcGFuPjwvYT4KICA8cD48Yj40MDQuPC9iPiA8aW5zPlRoYXTigJlzIGFuIGVycm9yLjwvaW5zPgogIDxwPiAgPGlucz5UaGF04oCZcyBhbGwgd2Uga25vdy48L2lucz4K",
              "ok": false,
              "headers": [
                [
                  "content-length",
                  "1449"
                ],
                [
                  "content-type",
                  "text/html; charset=utf-8"
                ]
              ],
              "status": 404,
              "status_text": ""
            },
            "http://localhost:8080/dataset_students/classification/train_labelled/25.png": {
              "data": "CjwhRE9DVFlQRSBodG1sPgo8aHRtbCBsYW5nPWVuPgogIDxtZXRhIGNoYXJzZXQ9dXRmLTg+CiAgPG1ldGEgbmFtZT12aWV3cG9ydCBjb250ZW50PSJpbml0aWFsLXNjYWxlPTEsIG1pbmltdW0tc2NhbGU9MSwgd2lkdGg9ZGV2aWNlLXdpZHRoIj4KICA8dGl0bGU+RXJyb3IgNDA0IChOb3QgRm91bmQpISExPC90aXRsZT4KICA8c3R5bGU+CiAgICAqe21hcmdpbjowO3BhZGRpbmc6MH1odG1sLGNvZGV7Zm9udDoxNXB4LzIycHggYXJpYWwsc2Fucy1zZXJpZn1odG1se2JhY2tncm91bmQ6I2ZmZjtjb2xvcjojMjIyO3BhZGRpbmc6MTVweH1ib2R5e21hcmdpbjo3JSBhdXRvIDA7bWF4LXdpZHRoOjM5MHB4O21pbi1oZWlnaHQ6MTgwcHg7cGFkZGluZzozMHB4IDAgMTVweH0qID4gYm9keXtiYWNrZ3JvdW5kOnVybCgvL3d3dy5nb29nbGUuY29tL2ltYWdlcy9lcnJvcnMvcm9ib3QucG5nKSAxMDAlIDVweCBuby1yZXBlYXQ7cGFkZGluZy1yaWdodDoyMDVweH1we21hcmdpbjoxMXB4IDAgMjJweDtvdmVyZmxvdzpoaWRkZW59aW5ze2NvbG9yOiM3Nzc7dGV4dC1kZWNvcmF0aW9uOm5vbmV9YSBpbWd7Ym9yZGVyOjB9QG1lZGlhIHNjcmVlbiBhbmQgKG1heC13aWR0aDo3NzJweCl7Ym9keXtiYWNrZ3JvdW5kOm5vbmU7bWFyZ2luLXRvcDowO21heC13aWR0aDpub25lO3BhZGRpbmctcmlnaHQ6MH19I2xvZ297YmFja2dyb3VuZDp1cmwoLy93d3cuZ29vZ2xlLmNvbS9pbWFnZXMvbG9nb3MvZXJyb3JwYWdlL2Vycm9yX2xvZ28tMTUweDU0LnBuZykgbm8tcmVwZWF0O21hcmdpbi1sZWZ0Oi01cHh9QG1lZGlhIG9ubHkgc2NyZWVuIGFuZCAobWluLXJlc29sdXRpb246MTkyZHBpKXsjbG9nb3tiYWNrZ3JvdW5kOnVybCgvL3d3dy5nb29nbGUuY29tL2ltYWdlcy9sb2dvcy9lcnJvcnBhZ2UvZXJyb3JfbG9nby0xNTB4NTQtMngucG5nKSBuby1yZXBlYXQgMCUgMCUvMTAwJSAxMDAlOy1tb3otYm9yZGVyLWltYWdlOnVybCgvL3d3dy5nb29nbGUuY29tL2ltYWdlcy9sb2dvcy9lcnJvcnBhZ2UvZXJyb3JfbG9nby0xNTB4NTQtMngucG5nKSAwfX1AbWVkaWEgb25seSBzY3JlZW4gYW5kICgtd2Via2l0LW1pbi1kZXZpY2UtcGl4ZWwtcmF0aW86Mil7I2xvZ297YmFja2dyb3VuZDp1cmwoLy93d3cuZ29vZ2xlLmNvbS9pbWFnZXMvbG9nb3MvZXJyb3JwYWdlL2Vycm9yX2xvZ28tMTUweDU0LTJ4LnBuZykgbm8tcmVwZWF0Oy13ZWJraXQtYmFja2dyb3VuZC1zaXplOjEwMCUgMTAwJX19I2xvZ297ZGlzcGxheTppbmxpbmUtYmxvY2s7aGVpZ2h0OjU0cHg7d2lkdGg6MTUwcHh9CiAgPC9zdHlsZT4KICA8YSBocmVmPS8vd3d3Lmdvb2dsZS5jb20vPjxzcGFuIGlkPWxvZ28gYXJpYS1sYWJlbD1Hb29nbGU+PC9zcGFuPjwvYT4KICA8cD48Yj40MDQuPC9iPiA8aW5zPlRoYXTigJlzIGFuIGVycm9yLjwvaW5zPgogIDxwPiAgPGlucz5UaGF04oCZcyBhbGwgd2Uga25vdy48L2lucz4K",
              "ok": false,
              "headers": [
                [
                  "content-length",
                  "1449"
                ],
                [
                  "content-type",
                  "text/html; charset=utf-8"
                ]
              ],
              "status": 404,
              "status_text": ""
            },
            "http://localhost:8080/dataset_students/classification/train_labelled/18.png": {
              "data": "CjwhRE9DVFlQRSBodG1sPgo8aHRtbCBsYW5nPWVuPgogIDxtZXRhIGNoYXJzZXQ9dXRmLTg+CiAgPG1ldGEgbmFtZT12aWV3cG9ydCBjb250ZW50PSJpbml0aWFsLXNjYWxlPTEsIG1pbmltdW0tc2NhbGU9MSwgd2lkdGg9ZGV2aWNlLXdpZHRoIj4KICA8dGl0bGU+RXJyb3IgNDA0IChOb3QgRm91bmQpISExPC90aXRsZT4KICA8c3R5bGU+CiAgICAqe21hcmdpbjowO3BhZGRpbmc6MH1odG1sLGNvZGV7Zm9udDoxNXB4LzIycHggYXJpYWwsc2Fucy1zZXJpZn1odG1se2JhY2tncm91bmQ6I2ZmZjtjb2xvcjojMjIyO3BhZGRpbmc6MTVweH1ib2R5e21hcmdpbjo3JSBhdXRvIDA7bWF4LXdpZHRoOjM5MHB4O21pbi1oZWlnaHQ6MTgwcHg7cGFkZGluZzozMHB4IDAgMTVweH0qID4gYm9keXtiYWNrZ3JvdW5kOnVybCgvL3d3dy5nb29nbGUuY29tL2ltYWdlcy9lcnJvcnMvcm9ib3QucG5nKSAxMDAlIDVweCBuby1yZXBlYXQ7cGFkZGluZy1yaWdodDoyMDVweH1we21hcmdpbjoxMXB4IDAgMjJweDtvdmVyZmxvdzpoaWRkZW59aW5ze2NvbG9yOiM3Nzc7dGV4dC1kZWNvcmF0aW9uOm5vbmV9YSBpbWd7Ym9yZGVyOjB9QG1lZGlhIHNjcmVlbiBhbmQgKG1heC13aWR0aDo3NzJweCl7Ym9keXtiYWNrZ3JvdW5kOm5vbmU7bWFyZ2luLXRvcDowO21heC13aWR0aDpub25lO3BhZGRpbmctcmlnaHQ6MH19I2xvZ297YmFja2dyb3VuZDp1cmwoLy93d3cuZ29vZ2xlLmNvbS9pbWFnZXMvbG9nb3MvZXJyb3JwYWdlL2Vycm9yX2xvZ28tMTUweDU0LnBuZykgbm8tcmVwZWF0O21hcmdpbi1sZWZ0Oi01cHh9QG1lZGlhIG9ubHkgc2NyZWVuIGFuZCAobWluLXJlc29sdXRpb246MTkyZHBpKXsjbG9nb3tiYWNrZ3JvdW5kOnVybCgvL3d3dy5nb29nbGUuY29tL2ltYWdlcy9sb2dvcy9lcnJvcnBhZ2UvZXJyb3JfbG9nby0xNTB4NTQtMngucG5nKSBuby1yZXBlYXQgMCUgMCUvMTAwJSAxMDAlOy1tb3otYm9yZGVyLWltYWdlOnVybCgvL3d3dy5nb29nbGUuY29tL2ltYWdlcy9sb2dvcy9lcnJvcnBhZ2UvZXJyb3JfbG9nby0xNTB4NTQtMngucG5nKSAwfX1AbWVkaWEgb25seSBzY3JlZW4gYW5kICgtd2Via2l0LW1pbi1kZXZpY2UtcGl4ZWwtcmF0aW86Mil7I2xvZ297YmFja2dyb3VuZDp1cmwoLy93d3cuZ29vZ2xlLmNvbS9pbWFnZXMvbG9nb3MvZXJyb3JwYWdlL2Vycm9yX2xvZ28tMTUweDU0LTJ4LnBuZykgbm8tcmVwZWF0Oy13ZWJraXQtYmFja2dyb3VuZC1zaXplOjEwMCUgMTAwJX19I2xvZ297ZGlzcGxheTppbmxpbmUtYmxvY2s7aGVpZ2h0OjU0cHg7d2lkdGg6MTUwcHh9CiAgPC9zdHlsZT4KICA8YSBocmVmPS8vd3d3Lmdvb2dsZS5jb20vPjxzcGFuIGlkPWxvZ28gYXJpYS1sYWJlbD1Hb29nbGU+PC9zcGFuPjwvYT4KICA8cD48Yj40MDQuPC9iPiA8aW5zPlRoYXTigJlzIGFuIGVycm9yLjwvaW5zPgogIDxwPiAgPGlucz5UaGF04oCZcyBhbGwgd2Uga25vdy48L2lucz4K",
              "ok": false,
              "headers": [
                [
                  "content-length",
                  "1449"
                ],
                [
                  "content-type",
                  "text/html; charset=utf-8"
                ]
              ],
              "status": 404,
              "status_text": ""
            },
            "http://localhost:8080/dataset_students/classification/train_labelled/53.png": {
              "data": "CjwhRE9DVFlQRSBodG1sPgo8aHRtbCBsYW5nPWVuPgogIDxtZXRhIGNoYXJzZXQ9dXRmLTg+CiAgPG1ldGEgbmFtZT12aWV3cG9ydCBjb250ZW50PSJpbml0aWFsLXNjYWxlPTEsIG1pbmltdW0tc2NhbGU9MSwgd2lkdGg9ZGV2aWNlLXdpZHRoIj4KICA8dGl0bGU+RXJyb3IgNDA0IChOb3QgRm91bmQpISExPC90aXRsZT4KICA8c3R5bGU+CiAgICAqe21hcmdpbjowO3BhZGRpbmc6MH1odG1sLGNvZGV7Zm9udDoxNXB4LzIycHggYXJpYWwsc2Fucy1zZXJpZn1odG1se2JhY2tncm91bmQ6I2ZmZjtjb2xvcjojMjIyO3BhZGRpbmc6MTVweH1ib2R5e21hcmdpbjo3JSBhdXRvIDA7bWF4LXdpZHRoOjM5MHB4O21pbi1oZWlnaHQ6MTgwcHg7cGFkZGluZzozMHB4IDAgMTVweH0qID4gYm9keXtiYWNrZ3JvdW5kOnVybCgvL3d3dy5nb29nbGUuY29tL2ltYWdlcy9lcnJvcnMvcm9ib3QucG5nKSAxMDAlIDVweCBuby1yZXBlYXQ7cGFkZGluZy1yaWdodDoyMDVweH1we21hcmdpbjoxMXB4IDAgMjJweDtvdmVyZmxvdzpoaWRkZW59aW5ze2NvbG9yOiM3Nzc7dGV4dC1kZWNvcmF0aW9uOm5vbmV9YSBpbWd7Ym9yZGVyOjB9QG1lZGlhIHNjcmVlbiBhbmQgKG1heC13aWR0aDo3NzJweCl7Ym9keXtiYWNrZ3JvdW5kOm5vbmU7bWFyZ2luLXRvcDowO21heC13aWR0aDpub25lO3BhZGRpbmctcmlnaHQ6MH19I2xvZ297YmFja2dyb3VuZDp1cmwoLy93d3cuZ29vZ2xlLmNvbS9pbWFnZXMvbG9nb3MvZXJyb3JwYWdlL2Vycm9yX2xvZ28tMTUweDU0LnBuZykgbm8tcmVwZWF0O21hcmdpbi1sZWZ0Oi01cHh9QG1lZGlhIG9ubHkgc2NyZWVuIGFuZCAobWluLXJlc29sdXRpb246MTkyZHBpKXsjbG9nb3tiYWNrZ3JvdW5kOnVybCgvL3d3dy5nb29nbGUuY29tL2ltYWdlcy9sb2dvcy9lcnJvcnBhZ2UvZXJyb3JfbG9nby0xNTB4NTQtMngucG5nKSBuby1yZXBlYXQgMCUgMCUvMTAwJSAxMDAlOy1tb3otYm9yZGVyLWltYWdlOnVybCgvL3d3dy5nb29nbGUuY29tL2ltYWdlcy9sb2dvcy9lcnJvcnBhZ2UvZXJyb3JfbG9nby0xNTB4NTQtMngucG5nKSAwfX1AbWVkaWEgb25seSBzY3JlZW4gYW5kICgtd2Via2l0LW1pbi1kZXZpY2UtcGl4ZWwtcmF0aW86Mil7I2xvZ297YmFja2dyb3VuZDp1cmwoLy93d3cuZ29vZ2xlLmNvbS9pbWFnZXMvbG9nb3MvZXJyb3JwYWdlL2Vycm9yX2xvZ28tMTUweDU0LTJ4LnBuZykgbm8tcmVwZWF0Oy13ZWJraXQtYmFja2dyb3VuZC1zaXplOjEwMCUgMTAwJX19I2xvZ297ZGlzcGxheTppbmxpbmUtYmxvY2s7aGVpZ2h0OjU0cHg7d2lkdGg6MTUwcHh9CiAgPC9zdHlsZT4KICA8YSBocmVmPS8vd3d3Lmdvb2dsZS5jb20vPjxzcGFuIGlkPWxvZ28gYXJpYS1sYWJlbD1Hb29nbGU+PC9zcGFuPjwvYT4KICA8cD48Yj40MDQuPC9iPiA8aW5zPlRoYXTigJlzIGFuIGVycm9yLjwvaW5zPgogIDxwPiAgPGlucz5UaGF04oCZcyBhbGwgd2Uga25vdy48L2lucz4K",
              "ok": false,
              "headers": [
                [
                  "content-length",
                  "1449"
                ],
                [
                  "content-type",
                  "text/html; charset=utf-8"
                ]
              ],
              "status": 404,
              "status_text": ""
            },
            "http://localhost:8080/dataset_students/classification/train_unlabelled/150.png": {
              "data": "CjwhRE9DVFlQRSBodG1sPgo8aHRtbCBsYW5nPWVuPgogIDxtZXRhIGNoYXJzZXQ9dXRmLTg+CiAgPG1ldGEgbmFtZT12aWV3cG9ydCBjb250ZW50PSJpbml0aWFsLXNjYWxlPTEsIG1pbmltdW0tc2NhbGU9MSwgd2lkdGg9ZGV2aWNlLXdpZHRoIj4KICA8dGl0bGU+RXJyb3IgNDA0IChOb3QgRm91bmQpISExPC90aXRsZT4KICA8c3R5bGU+CiAgICAqe21hcmdpbjowO3BhZGRpbmc6MH1odG1sLGNvZGV7Zm9udDoxNXB4LzIycHggYXJpYWwsc2Fucy1zZXJpZn1odG1se2JhY2tncm91bmQ6I2ZmZjtjb2xvcjojMjIyO3BhZGRpbmc6MTVweH1ib2R5e21hcmdpbjo3JSBhdXRvIDA7bWF4LXdpZHRoOjM5MHB4O21pbi1oZWlnaHQ6MTgwcHg7cGFkZGluZzozMHB4IDAgMTVweH0qID4gYm9keXtiYWNrZ3JvdW5kOnVybCgvL3d3dy5nb29nbGUuY29tL2ltYWdlcy9lcnJvcnMvcm9ib3QucG5nKSAxMDAlIDVweCBuby1yZXBlYXQ7cGFkZGluZy1yaWdodDoyMDVweH1we21hcmdpbjoxMXB4IDAgMjJweDtvdmVyZmxvdzpoaWRkZW59aW5ze2NvbG9yOiM3Nzc7dGV4dC1kZWNvcmF0aW9uOm5vbmV9YSBpbWd7Ym9yZGVyOjB9QG1lZGlhIHNjcmVlbiBhbmQgKG1heC13aWR0aDo3NzJweCl7Ym9keXtiYWNrZ3JvdW5kOm5vbmU7bWFyZ2luLXRvcDowO21heC13aWR0aDpub25lO3BhZGRpbmctcmlnaHQ6MH19I2xvZ297YmFja2dyb3VuZDp1cmwoLy93d3cuZ29vZ2xlLmNvbS9pbWFnZXMvbG9nb3MvZXJyb3JwYWdlL2Vycm9yX2xvZ28tMTUweDU0LnBuZykgbm8tcmVwZWF0O21hcmdpbi1sZWZ0Oi01cHh9QG1lZGlhIG9ubHkgc2NyZWVuIGFuZCAobWluLXJlc29sdXRpb246MTkyZHBpKXsjbG9nb3tiYWNrZ3JvdW5kOnVybCgvL3d3dy5nb29nbGUuY29tL2ltYWdlcy9sb2dvcy9lcnJvcnBhZ2UvZXJyb3JfbG9nby0xNTB4NTQtMngucG5nKSBuby1yZXBlYXQgMCUgMCUvMTAwJSAxMDAlOy1tb3otYm9yZGVyLWltYWdlOnVybCgvL3d3dy5nb29nbGUuY29tL2ltYWdlcy9sb2dvcy9lcnJvcnBhZ2UvZXJyb3JfbG9nby0xNTB4NTQtMngucG5nKSAwfX1AbWVkaWEgb25seSBzY3JlZW4gYW5kICgtd2Via2l0LW1pbi1kZXZpY2UtcGl4ZWwtcmF0aW86Mil7I2xvZ297YmFja2dyb3VuZDp1cmwoLy93d3cuZ29vZ2xlLmNvbS9pbWFnZXMvbG9nb3MvZXJyb3JwYWdlL2Vycm9yX2xvZ28tMTUweDU0LTJ4LnBuZykgbm8tcmVwZWF0Oy13ZWJraXQtYmFja2dyb3VuZC1zaXplOjEwMCUgMTAwJX19I2xvZ297ZGlzcGxheTppbmxpbmUtYmxvY2s7aGVpZ2h0OjU0cHg7d2lkdGg6MTUwcHh9CiAgPC9zdHlsZT4KICA8YSBocmVmPS8vd3d3Lmdvb2dsZS5jb20vPjxzcGFuIGlkPWxvZ28gYXJpYS1sYWJlbD1Hb29nbGU+PC9zcGFuPjwvYT4KICA8cD48Yj40MDQuPC9iPiA8aW5zPlRoYXTigJlzIGFuIGVycm9yLjwvaW5zPgogIDxwPiAgPGlucz5UaGF04oCZcyBhbGwgd2Uga25vdy48L2lucz4K",
              "ok": false,
              "headers": [
                [
                  "content-length",
                  "1449"
                ],
                [
                  "content-type",
                  "text/html; charset=utf-8"
                ]
              ],
              "status": 404,
              "status_text": ""
            },
            "http://localhost:8080/dataset_students/classification/train_unlabelled/1763.png": {
              "data": "CjwhRE9DVFlQRSBodG1sPgo8aHRtbCBsYW5nPWVuPgogIDxtZXRhIGNoYXJzZXQ9dXRmLTg+CiAgPG1ldGEgbmFtZT12aWV3cG9ydCBjb250ZW50PSJpbml0aWFsLXNjYWxlPTEsIG1pbmltdW0tc2NhbGU9MSwgd2lkdGg9ZGV2aWNlLXdpZHRoIj4KICA8dGl0bGU+RXJyb3IgNDA0IChOb3QgRm91bmQpISExPC90aXRsZT4KICA8c3R5bGU+CiAgICAqe21hcmdpbjowO3BhZGRpbmc6MH1odG1sLGNvZGV7Zm9udDoxNXB4LzIycHggYXJpYWwsc2Fucy1zZXJpZn1odG1se2JhY2tncm91bmQ6I2ZmZjtjb2xvcjojMjIyO3BhZGRpbmc6MTVweH1ib2R5e21hcmdpbjo3JSBhdXRvIDA7bWF4LXdpZHRoOjM5MHB4O21pbi1oZWlnaHQ6MTgwcHg7cGFkZGluZzozMHB4IDAgMTVweH0qID4gYm9keXtiYWNrZ3JvdW5kOnVybCgvL3d3dy5nb29nbGUuY29tL2ltYWdlcy9lcnJvcnMvcm9ib3QucG5nKSAxMDAlIDVweCBuby1yZXBlYXQ7cGFkZGluZy1yaWdodDoyMDVweH1we21hcmdpbjoxMXB4IDAgMjJweDtvdmVyZmxvdzpoaWRkZW59aW5ze2NvbG9yOiM3Nzc7dGV4dC1kZWNvcmF0aW9uOm5vbmV9YSBpbWd7Ym9yZGVyOjB9QG1lZGlhIHNjcmVlbiBhbmQgKG1heC13aWR0aDo3NzJweCl7Ym9keXtiYWNrZ3JvdW5kOm5vbmU7bWFyZ2luLXRvcDowO21heC13aWR0aDpub25lO3BhZGRpbmctcmlnaHQ6MH19I2xvZ297YmFja2dyb3VuZDp1cmwoLy93d3cuZ29vZ2xlLmNvbS9pbWFnZXMvbG9nb3MvZXJyb3JwYWdlL2Vycm9yX2xvZ28tMTUweDU0LnBuZykgbm8tcmVwZWF0O21hcmdpbi1sZWZ0Oi01cHh9QG1lZGlhIG9ubHkgc2NyZWVuIGFuZCAobWluLXJlc29sdXRpb246MTkyZHBpKXsjbG9nb3tiYWNrZ3JvdW5kOnVybCgvL3d3dy5nb29nbGUuY29tL2ltYWdlcy9sb2dvcy9lcnJvcnBhZ2UvZXJyb3JfbG9nby0xNTB4NTQtMngucG5nKSBuby1yZXBlYXQgMCUgMCUvMTAwJSAxMDAlOy1tb3otYm9yZGVyLWltYWdlOnVybCgvL3d3dy5nb29nbGUuY29tL2ltYWdlcy9sb2dvcy9lcnJvcnBhZ2UvZXJyb3JfbG9nby0xNTB4NTQtMngucG5nKSAwfX1AbWVkaWEgb25seSBzY3JlZW4gYW5kICgtd2Via2l0LW1pbi1kZXZpY2UtcGl4ZWwtcmF0aW86Mil7I2xvZ297YmFja2dyb3VuZDp1cmwoLy93d3cuZ29vZ2xlLmNvbS9pbWFnZXMvbG9nb3MvZXJyb3JwYWdlL2Vycm9yX2xvZ28tMTUweDU0LTJ4LnBuZykgbm8tcmVwZWF0Oy13ZWJraXQtYmFja2dyb3VuZC1zaXplOjEwMCUgMTAwJX19I2xvZ297ZGlzcGxheTppbmxpbmUtYmxvY2s7aGVpZ2h0OjU0cHg7d2lkdGg6MTUwcHh9CiAgPC9zdHlsZT4KICA8YSBocmVmPS8vd3d3Lmdvb2dsZS5jb20vPjxzcGFuIGlkPWxvZ28gYXJpYS1sYWJlbD1Hb29nbGU+PC9zcGFuPjwvYT4KICA8cD48Yj40MDQuPC9iPiA8aW5zPlRoYXTigJlzIGFuIGVycm9yLjwvaW5zPgogIDxwPiAgPGlucz5UaGF04oCZcyBhbGwgd2Uga25vdy48L2lucz4K",
              "ok": false,
              "headers": [
                [
                  "content-length",
                  "1449"
                ],
                [
                  "content-type",
                  "text/html; charset=utf-8"
                ]
              ],
              "status": 404,
              "status_text": ""
            },
            "http://localhost:8080/dataset_students/classification/train_unlabelled/843.png": {
              "data": "CjwhRE9DVFlQRSBodG1sPgo8aHRtbCBsYW5nPWVuPgogIDxtZXRhIGNoYXJzZXQ9dXRmLTg+CiAgPG1ldGEgbmFtZT12aWV3cG9ydCBjb250ZW50PSJpbml0aWFsLXNjYWxlPTEsIG1pbmltdW0tc2NhbGU9MSwgd2lkdGg9ZGV2aWNlLXdpZHRoIj4KICA8dGl0bGU+RXJyb3IgNDA0IChOb3QgRm91bmQpISExPC90aXRsZT4KICA8c3R5bGU+CiAgICAqe21hcmdpbjowO3BhZGRpbmc6MH1odG1sLGNvZGV7Zm9udDoxNXB4LzIycHggYXJpYWwsc2Fucy1zZXJpZn1odG1se2JhY2tncm91bmQ6I2ZmZjtjb2xvcjojMjIyO3BhZGRpbmc6MTVweH1ib2R5e21hcmdpbjo3JSBhdXRvIDA7bWF4LXdpZHRoOjM5MHB4O21pbi1oZWlnaHQ6MTgwcHg7cGFkZGluZzozMHB4IDAgMTVweH0qID4gYm9keXtiYWNrZ3JvdW5kOnVybCgvL3d3dy5nb29nbGUuY29tL2ltYWdlcy9lcnJvcnMvcm9ib3QucG5nKSAxMDAlIDVweCBuby1yZXBlYXQ7cGFkZGluZy1yaWdodDoyMDVweH1we21hcmdpbjoxMXB4IDAgMjJweDtvdmVyZmxvdzpoaWRkZW59aW5ze2NvbG9yOiM3Nzc7dGV4dC1kZWNvcmF0aW9uOm5vbmV9YSBpbWd7Ym9yZGVyOjB9QG1lZGlhIHNjcmVlbiBhbmQgKG1heC13aWR0aDo3NzJweCl7Ym9keXtiYWNrZ3JvdW5kOm5vbmU7bWFyZ2luLXRvcDowO21heC13aWR0aDpub25lO3BhZGRpbmctcmlnaHQ6MH19I2xvZ297YmFja2dyb3VuZDp1cmwoLy93d3cuZ29vZ2xlLmNvbS9pbWFnZXMvbG9nb3MvZXJyb3JwYWdlL2Vycm9yX2xvZ28tMTUweDU0LnBuZykgbm8tcmVwZWF0O21hcmdpbi1sZWZ0Oi01cHh9QG1lZGlhIG9ubHkgc2NyZWVuIGFuZCAobWluLXJlc29sdXRpb246MTkyZHBpKXsjbG9nb3tiYWNrZ3JvdW5kOnVybCgvL3d3dy5nb29nbGUuY29tL2ltYWdlcy9sb2dvcy9lcnJvcnBhZ2UvZXJyb3JfbG9nby0xNTB4NTQtMngucG5nKSBuby1yZXBlYXQgMCUgMCUvMTAwJSAxMDAlOy1tb3otYm9yZGVyLWltYWdlOnVybCgvL3d3dy5nb29nbGUuY29tL2ltYWdlcy9sb2dvcy9lcnJvcnBhZ2UvZXJyb3JfbG9nby0xNTB4NTQtMngucG5nKSAwfX1AbWVkaWEgb25seSBzY3JlZW4gYW5kICgtd2Via2l0LW1pbi1kZXZpY2UtcGl4ZWwtcmF0aW86Mil7I2xvZ297YmFja2dyb3VuZDp1cmwoLy93d3cuZ29vZ2xlLmNvbS9pbWFnZXMvbG9nb3MvZXJyb3JwYWdlL2Vycm9yX2xvZ28tMTUweDU0LTJ4LnBuZykgbm8tcmVwZWF0Oy13ZWJraXQtYmFja2dyb3VuZC1zaXplOjEwMCUgMTAwJX19I2xvZ297ZGlzcGxheTppbmxpbmUtYmxvY2s7aGVpZ2h0OjU0cHg7d2lkdGg6MTUwcHh9CiAgPC9zdHlsZT4KICA8YSBocmVmPS8vd3d3Lmdvb2dsZS5jb20vPjxzcGFuIGlkPWxvZ28gYXJpYS1sYWJlbD1Hb29nbGU+PC9zcGFuPjwvYT4KICA8cD48Yj40MDQuPC9iPiA8aW5zPlRoYXTigJlzIGFuIGVycm9yLjwvaW5zPgogIDxwPiAgPGlucz5UaGF04oCZcyBhbGwgd2Uga25vdy48L2lucz4K",
              "ok": false,
              "headers": [
                [
                  "content-length",
                  "1449"
                ],
                [
                  "content-type",
                  "text/html; charset=utf-8"
                ]
              ],
              "status": 404,
              "status_text": ""
            },
            "http://localhost:8080/dataset_students/classification/train_unlabelled/1089.png": {
              "data": "CjwhRE9DVFlQRSBodG1sPgo8aHRtbCBsYW5nPWVuPgogIDxtZXRhIGNoYXJzZXQ9dXRmLTg+CiAgPG1ldGEgbmFtZT12aWV3cG9ydCBjb250ZW50PSJpbml0aWFsLXNjYWxlPTEsIG1pbmltdW0tc2NhbGU9MSwgd2lkdGg9ZGV2aWNlLXdpZHRoIj4KICA8dGl0bGU+RXJyb3IgNDA0IChOb3QgRm91bmQpISExPC90aXRsZT4KICA8c3R5bGU+CiAgICAqe21hcmdpbjowO3BhZGRpbmc6MH1odG1sLGNvZGV7Zm9udDoxNXB4LzIycHggYXJpYWwsc2Fucy1zZXJpZn1odG1se2JhY2tncm91bmQ6I2ZmZjtjb2xvcjojMjIyO3BhZGRpbmc6MTVweH1ib2R5e21hcmdpbjo3JSBhdXRvIDA7bWF4LXdpZHRoOjM5MHB4O21pbi1oZWlnaHQ6MTgwcHg7cGFkZGluZzozMHB4IDAgMTVweH0qID4gYm9keXtiYWNrZ3JvdW5kOnVybCgvL3d3dy5nb29nbGUuY29tL2ltYWdlcy9lcnJvcnMvcm9ib3QucG5nKSAxMDAlIDVweCBuby1yZXBlYXQ7cGFkZGluZy1yaWdodDoyMDVweH1we21hcmdpbjoxMXB4IDAgMjJweDtvdmVyZmxvdzpoaWRkZW59aW5ze2NvbG9yOiM3Nzc7dGV4dC1kZWNvcmF0aW9uOm5vbmV9YSBpbWd7Ym9yZGVyOjB9QG1lZGlhIHNjcmVlbiBhbmQgKG1heC13aWR0aDo3NzJweCl7Ym9keXtiYWNrZ3JvdW5kOm5vbmU7bWFyZ2luLXRvcDowO21heC13aWR0aDpub25lO3BhZGRpbmctcmlnaHQ6MH19I2xvZ297YmFja2dyb3VuZDp1cmwoLy93d3cuZ29vZ2xlLmNvbS9pbWFnZXMvbG9nb3MvZXJyb3JwYWdlL2Vycm9yX2xvZ28tMTUweDU0LnBuZykgbm8tcmVwZWF0O21hcmdpbi1sZWZ0Oi01cHh9QG1lZGlhIG9ubHkgc2NyZWVuIGFuZCAobWluLXJlc29sdXRpb246MTkyZHBpKXsjbG9nb3tiYWNrZ3JvdW5kOnVybCgvL3d3dy5nb29nbGUuY29tL2ltYWdlcy9sb2dvcy9lcnJvcnBhZ2UvZXJyb3JfbG9nby0xNTB4NTQtMngucG5nKSBuby1yZXBlYXQgMCUgMCUvMTAwJSAxMDAlOy1tb3otYm9yZGVyLWltYWdlOnVybCgvL3d3dy5nb29nbGUuY29tL2ltYWdlcy9sb2dvcy9lcnJvcnBhZ2UvZXJyb3JfbG9nby0xNTB4NTQtMngucG5nKSAwfX1AbWVkaWEgb25seSBzY3JlZW4gYW5kICgtd2Via2l0LW1pbi1kZXZpY2UtcGl4ZWwtcmF0aW86Mil7I2xvZ297YmFja2dyb3VuZDp1cmwoLy93d3cuZ29vZ2xlLmNvbS9pbWFnZXMvbG9nb3MvZXJyb3JwYWdlL2Vycm9yX2xvZ28tMTUweDU0LTJ4LnBuZykgbm8tcmVwZWF0Oy13ZWJraXQtYmFja2dyb3VuZC1zaXplOjEwMCUgMTAwJX19I2xvZ297ZGlzcGxheTppbmxpbmUtYmxvY2s7aGVpZ2h0OjU0cHg7d2lkdGg6MTUwcHh9CiAgPC9zdHlsZT4KICA8YSBocmVmPS8vd3d3Lmdvb2dsZS5jb20vPjxzcGFuIGlkPWxvZ28gYXJpYS1sYWJlbD1Hb29nbGU+PC9zcGFuPjwvYT4KICA8cD48Yj40MDQuPC9iPiA8aW5zPlRoYXTigJlzIGFuIGVycm9yLjwvaW5zPgogIDxwPiAgPGlucz5UaGF04oCZcyBhbGwgd2Uga25vdy48L2lucz4K",
              "ok": false,
              "headers": [
                [
                  "content-length",
                  "1449"
                ],
                [
                  "content-type",
                  "text/html; charset=utf-8"
                ]
              ],
              "status": 404,
              "status_text": ""
            },
            "http://localhost:8080/dataset_students/classification/train_unlabelled/1196.png": {
              "data": "CjwhRE9DVFlQRSBodG1sPgo8aHRtbCBsYW5nPWVuPgogIDxtZXRhIGNoYXJzZXQ9dXRmLTg+CiAgPG1ldGEgbmFtZT12aWV3cG9ydCBjb250ZW50PSJpbml0aWFsLXNjYWxlPTEsIG1pbmltdW0tc2NhbGU9MSwgd2lkdGg9ZGV2aWNlLXdpZHRoIj4KICA8dGl0bGU+RXJyb3IgNDA0IChOb3QgRm91bmQpISExPC90aXRsZT4KICA8c3R5bGU+CiAgICAqe21hcmdpbjowO3BhZGRpbmc6MH1odG1sLGNvZGV7Zm9udDoxNXB4LzIycHggYXJpYWwsc2Fucy1zZXJpZn1odG1se2JhY2tncm91bmQ6I2ZmZjtjb2xvcjojMjIyO3BhZGRpbmc6MTVweH1ib2R5e21hcmdpbjo3JSBhdXRvIDA7bWF4LXdpZHRoOjM5MHB4O21pbi1oZWlnaHQ6MTgwcHg7cGFkZGluZzozMHB4IDAgMTVweH0qID4gYm9keXtiYWNrZ3JvdW5kOnVybCgvL3d3dy5nb29nbGUuY29tL2ltYWdlcy9lcnJvcnMvcm9ib3QucG5nKSAxMDAlIDVweCBuby1yZXBlYXQ7cGFkZGluZy1yaWdodDoyMDVweH1we21hcmdpbjoxMXB4IDAgMjJweDtvdmVyZmxvdzpoaWRkZW59aW5ze2NvbG9yOiM3Nzc7dGV4dC1kZWNvcmF0aW9uOm5vbmV9YSBpbWd7Ym9yZGVyOjB9QG1lZGlhIHNjcmVlbiBhbmQgKG1heC13aWR0aDo3NzJweCl7Ym9keXtiYWNrZ3JvdW5kOm5vbmU7bWFyZ2luLXRvcDowO21heC13aWR0aDpub25lO3BhZGRpbmctcmlnaHQ6MH19I2xvZ297YmFja2dyb3VuZDp1cmwoLy93d3cuZ29vZ2xlLmNvbS9pbWFnZXMvbG9nb3MvZXJyb3JwYWdlL2Vycm9yX2xvZ28tMTUweDU0LnBuZykgbm8tcmVwZWF0O21hcmdpbi1sZWZ0Oi01cHh9QG1lZGlhIG9ubHkgc2NyZWVuIGFuZCAobWluLXJlc29sdXRpb246MTkyZHBpKXsjbG9nb3tiYWNrZ3JvdW5kOnVybCgvL3d3dy5nb29nbGUuY29tL2ltYWdlcy9sb2dvcy9lcnJvcnBhZ2UvZXJyb3JfbG9nby0xNTB4NTQtMngucG5nKSBuby1yZXBlYXQgMCUgMCUvMTAwJSAxMDAlOy1tb3otYm9yZGVyLWltYWdlOnVybCgvL3d3dy5nb29nbGUuY29tL2ltYWdlcy9sb2dvcy9lcnJvcnBhZ2UvZXJyb3JfbG9nby0xNTB4NTQtMngucG5nKSAwfX1AbWVkaWEgb25seSBzY3JlZW4gYW5kICgtd2Via2l0LW1pbi1kZXZpY2UtcGl4ZWwtcmF0aW86Mil7I2xvZ297YmFja2dyb3VuZDp1cmwoLy93d3cuZ29vZ2xlLmNvbS9pbWFnZXMvbG9nb3MvZXJyb3JwYWdlL2Vycm9yX2xvZ28tMTUweDU0LTJ4LnBuZykgbm8tcmVwZWF0Oy13ZWJraXQtYmFja2dyb3VuZC1zaXplOjEwMCUgMTAwJX19I2xvZ297ZGlzcGxheTppbmxpbmUtYmxvY2s7aGVpZ2h0OjU0cHg7d2lkdGg6MTUwcHh9CiAgPC9zdHlsZT4KICA8YSBocmVmPS8vd3d3Lmdvb2dsZS5jb20vPjxzcGFuIGlkPWxvZ28gYXJpYS1sYWJlbD1Hb29nbGU+PC9zcGFuPjwvYT4KICA8cD48Yj40MDQuPC9iPiA8aW5zPlRoYXTigJlzIGFuIGVycm9yLjwvaW5zPgogIDxwPiAgPGlucz5UaGF04oCZcyBhbGwgd2Uga25vdy48L2lucz4K",
              "ok": false,
              "headers": [
                [
                  "content-length",
                  "1449"
                ],
                [
                  "content-type",
                  "text/html; charset=utf-8"
                ]
              ],
              "status": 404,
              "status_text": ""
            },
            "http://localhost:8080/dataset_students/classification/train_unlabelled/665.png": {
              "data": "CjwhRE9DVFlQRSBodG1sPgo8aHRtbCBsYW5nPWVuPgogIDxtZXRhIGNoYXJzZXQ9dXRmLTg+CiAgPG1ldGEgbmFtZT12aWV3cG9ydCBjb250ZW50PSJpbml0aWFsLXNjYWxlPTEsIG1pbmltdW0tc2NhbGU9MSwgd2lkdGg9ZGV2aWNlLXdpZHRoIj4KICA8dGl0bGU+RXJyb3IgNDA0IChOb3QgRm91bmQpISExPC90aXRsZT4KICA8c3R5bGU+CiAgICAqe21hcmdpbjowO3BhZGRpbmc6MH1odG1sLGNvZGV7Zm9udDoxNXB4LzIycHggYXJpYWwsc2Fucy1zZXJpZn1odG1se2JhY2tncm91bmQ6I2ZmZjtjb2xvcjojMjIyO3BhZGRpbmc6MTVweH1ib2R5e21hcmdpbjo3JSBhdXRvIDA7bWF4LXdpZHRoOjM5MHB4O21pbi1oZWlnaHQ6MTgwcHg7cGFkZGluZzozMHB4IDAgMTVweH0qID4gYm9keXtiYWNrZ3JvdW5kOnVybCgvL3d3dy5nb29nbGUuY29tL2ltYWdlcy9lcnJvcnMvcm9ib3QucG5nKSAxMDAlIDVweCBuby1yZXBlYXQ7cGFkZGluZy1yaWdodDoyMDVweH1we21hcmdpbjoxMXB4IDAgMjJweDtvdmVyZmxvdzpoaWRkZW59aW5ze2NvbG9yOiM3Nzc7dGV4dC1kZWNvcmF0aW9uOm5vbmV9YSBpbWd7Ym9yZGVyOjB9QG1lZGlhIHNjcmVlbiBhbmQgKG1heC13aWR0aDo3NzJweCl7Ym9keXtiYWNrZ3JvdW5kOm5vbmU7bWFyZ2luLXRvcDowO21heC13aWR0aDpub25lO3BhZGRpbmctcmlnaHQ6MH19I2xvZ297YmFja2dyb3VuZDp1cmwoLy93d3cuZ29vZ2xlLmNvbS9pbWFnZXMvbG9nb3MvZXJyb3JwYWdlL2Vycm9yX2xvZ28tMTUweDU0LnBuZykgbm8tcmVwZWF0O21hcmdpbi1sZWZ0Oi01cHh9QG1lZGlhIG9ubHkgc2NyZWVuIGFuZCAobWluLXJlc29sdXRpb246MTkyZHBpKXsjbG9nb3tiYWNrZ3JvdW5kOnVybCgvL3d3dy5nb29nbGUuY29tL2ltYWdlcy9sb2dvcy9lcnJvcnBhZ2UvZXJyb3JfbG9nby0xNTB4NTQtMngucG5nKSBuby1yZXBlYXQgMCUgMCUvMTAwJSAxMDAlOy1tb3otYm9yZGVyLWltYWdlOnVybCgvL3d3dy5nb29nbGUuY29tL2ltYWdlcy9sb2dvcy9lcnJvcnBhZ2UvZXJyb3JfbG9nby0xNTB4NTQtMngucG5nKSAwfX1AbWVkaWEgb25seSBzY3JlZW4gYW5kICgtd2Via2l0LW1pbi1kZXZpY2UtcGl4ZWwtcmF0aW86Mil7I2xvZ297YmFja2dyb3VuZDp1cmwoLy93d3cuZ29vZ2xlLmNvbS9pbWFnZXMvbG9nb3MvZXJyb3JwYWdlL2Vycm9yX2xvZ28tMTUweDU0LTJ4LnBuZykgbm8tcmVwZWF0Oy13ZWJraXQtYmFja2dyb3VuZC1zaXplOjEwMCUgMTAwJX19I2xvZ297ZGlzcGxheTppbmxpbmUtYmxvY2s7aGVpZ2h0OjU0cHg7d2lkdGg6MTUwcHh9CiAgPC9zdHlsZT4KICA8YSBocmVmPS8vd3d3Lmdvb2dsZS5jb20vPjxzcGFuIGlkPWxvZ28gYXJpYS1sYWJlbD1Hb29nbGU+PC9zcGFuPjwvYT4KICA8cD48Yj40MDQuPC9iPiA8aW5zPlRoYXTigJlzIGFuIGVycm9yLjwvaW5zPgogIDxwPiAgPGlucz5UaGF04oCZcyBhbGwgd2Uga25vdy48L2lucz4K",
              "ok": false,
              "headers": [
                [
                  "content-length",
                  "1449"
                ],
                [
                  "content-type",
                  "text/html; charset=utf-8"
                ]
              ],
              "status": 404,
              "status_text": ""
            },
            "http://localhost:8080/dataset_students/classification/train_unlabelled/890.png": {
              "data": "CjwhRE9DVFlQRSBodG1sPgo8aHRtbCBsYW5nPWVuPgogIDxtZXRhIGNoYXJzZXQ9dXRmLTg+CiAgPG1ldGEgbmFtZT12aWV3cG9ydCBjb250ZW50PSJpbml0aWFsLXNjYWxlPTEsIG1pbmltdW0tc2NhbGU9MSwgd2lkdGg9ZGV2aWNlLXdpZHRoIj4KICA8dGl0bGU+RXJyb3IgNDA0IChOb3QgRm91bmQpISExPC90aXRsZT4KICA8c3R5bGU+CiAgICAqe21hcmdpbjowO3BhZGRpbmc6MH1odG1sLGNvZGV7Zm9udDoxNXB4LzIycHggYXJpYWwsc2Fucy1zZXJpZn1odG1se2JhY2tncm91bmQ6I2ZmZjtjb2xvcjojMjIyO3BhZGRpbmc6MTVweH1ib2R5e21hcmdpbjo3JSBhdXRvIDA7bWF4LXdpZHRoOjM5MHB4O21pbi1oZWlnaHQ6MTgwcHg7cGFkZGluZzozMHB4IDAgMTVweH0qID4gYm9keXtiYWNrZ3JvdW5kOnVybCgvL3d3dy5nb29nbGUuY29tL2ltYWdlcy9lcnJvcnMvcm9ib3QucG5nKSAxMDAlIDVweCBuby1yZXBlYXQ7cGFkZGluZy1yaWdodDoyMDVweH1we21hcmdpbjoxMXB4IDAgMjJweDtvdmVyZmxvdzpoaWRkZW59aW5ze2NvbG9yOiM3Nzc7dGV4dC1kZWNvcmF0aW9uOm5vbmV9YSBpbWd7Ym9yZGVyOjB9QG1lZGlhIHNjcmVlbiBhbmQgKG1heC13aWR0aDo3NzJweCl7Ym9keXtiYWNrZ3JvdW5kOm5vbmU7bWFyZ2luLXRvcDowO21heC13aWR0aDpub25lO3BhZGRpbmctcmlnaHQ6MH19I2xvZ297YmFja2dyb3VuZDp1cmwoLy93d3cuZ29vZ2xlLmNvbS9pbWFnZXMvbG9nb3MvZXJyb3JwYWdlL2Vycm9yX2xvZ28tMTUweDU0LnBuZykgbm8tcmVwZWF0O21hcmdpbi1sZWZ0Oi01cHh9QG1lZGlhIG9ubHkgc2NyZWVuIGFuZCAobWluLXJlc29sdXRpb246MTkyZHBpKXsjbG9nb3tiYWNrZ3JvdW5kOnVybCgvL3d3dy5nb29nbGUuY29tL2ltYWdlcy9sb2dvcy9lcnJvcnBhZ2UvZXJyb3JfbG9nby0xNTB4NTQtMngucG5nKSBuby1yZXBlYXQgMCUgMCUvMTAwJSAxMDAlOy1tb3otYm9yZGVyLWltYWdlOnVybCgvL3d3dy5nb29nbGUuY29tL2ltYWdlcy9sb2dvcy9lcnJvcnBhZ2UvZXJyb3JfbG9nby0xNTB4NTQtMngucG5nKSAwfX1AbWVkaWEgb25seSBzY3JlZW4gYW5kICgtd2Via2l0LW1pbi1kZXZpY2UtcGl4ZWwtcmF0aW86Mil7I2xvZ297YmFja2dyb3VuZDp1cmwoLy93d3cuZ29vZ2xlLmNvbS9pbWFnZXMvbG9nb3MvZXJyb3JwYWdlL2Vycm9yX2xvZ28tMTUweDU0LTJ4LnBuZykgbm8tcmVwZWF0Oy13ZWJraXQtYmFja2dyb3VuZC1zaXplOjEwMCUgMTAwJX19I2xvZ297ZGlzcGxheTppbmxpbmUtYmxvY2s7aGVpZ2h0OjU0cHg7d2lkdGg6MTUwcHh9CiAgPC9zdHlsZT4KICA8YSBocmVmPS8vd3d3Lmdvb2dsZS5jb20vPjxzcGFuIGlkPWxvZ28gYXJpYS1sYWJlbD1Hb29nbGU+PC9zcGFuPjwvYT4KICA8cD48Yj40MDQuPC9iPiA8aW5zPlRoYXTigJlzIGFuIGVycm9yLjwvaW5zPgogIDxwPiAgPGlucz5UaGF04oCZcyBhbGwgd2Uga25vdy48L2lucz4K",
              "ok": false,
              "headers": [
                [
                  "content-length",
                  "1449"
                ],
                [
                  "content-type",
                  "text/html; charset=utf-8"
                ]
              ],
              "status": 404,
              "status_text": ""
            },
            "http://localhost:8080/dataset_students/classification/train_unlabelled/880.png": {
              "data": "CjwhRE9DVFlQRSBodG1sPgo8aHRtbCBsYW5nPWVuPgogIDxtZXRhIGNoYXJzZXQ9dXRmLTg+CiAgPG1ldGEgbmFtZT12aWV3cG9ydCBjb250ZW50PSJpbml0aWFsLXNjYWxlPTEsIG1pbmltdW0tc2NhbGU9MSwgd2lkdGg9ZGV2aWNlLXdpZHRoIj4KICA8dGl0bGU+RXJyb3IgNDA0IChOb3QgRm91bmQpISExPC90aXRsZT4KICA8c3R5bGU+CiAgICAqe21hcmdpbjowO3BhZGRpbmc6MH1odG1sLGNvZGV7Zm9udDoxNXB4LzIycHggYXJpYWwsc2Fucy1zZXJpZn1odG1se2JhY2tncm91bmQ6I2ZmZjtjb2xvcjojMjIyO3BhZGRpbmc6MTVweH1ib2R5e21hcmdpbjo3JSBhdXRvIDA7bWF4LXdpZHRoOjM5MHB4O21pbi1oZWlnaHQ6MTgwcHg7cGFkZGluZzozMHB4IDAgMTVweH0qID4gYm9keXtiYWNrZ3JvdW5kOnVybCgvL3d3dy5nb29nbGUuY29tL2ltYWdlcy9lcnJvcnMvcm9ib3QucG5nKSAxMDAlIDVweCBuby1yZXBlYXQ7cGFkZGluZy1yaWdodDoyMDVweH1we21hcmdpbjoxMXB4IDAgMjJweDtvdmVyZmxvdzpoaWRkZW59aW5ze2NvbG9yOiM3Nzc7dGV4dC1kZWNvcmF0aW9uOm5vbmV9YSBpbWd7Ym9yZGVyOjB9QG1lZGlhIHNjcmVlbiBhbmQgKG1heC13aWR0aDo3NzJweCl7Ym9keXtiYWNrZ3JvdW5kOm5vbmU7bWFyZ2luLXRvcDowO21heC13aWR0aDpub25lO3BhZGRpbmctcmlnaHQ6MH19I2xvZ297YmFja2dyb3VuZDp1cmwoLy93d3cuZ29vZ2xlLmNvbS9pbWFnZXMvbG9nb3MvZXJyb3JwYWdlL2Vycm9yX2xvZ28tMTUweDU0LnBuZykgbm8tcmVwZWF0O21hcmdpbi1sZWZ0Oi01cHh9QG1lZGlhIG9ubHkgc2NyZWVuIGFuZCAobWluLXJlc29sdXRpb246MTkyZHBpKXsjbG9nb3tiYWNrZ3JvdW5kOnVybCgvL3d3dy5nb29nbGUuY29tL2ltYWdlcy9sb2dvcy9lcnJvcnBhZ2UvZXJyb3JfbG9nby0xNTB4NTQtMngucG5nKSBuby1yZXBlYXQgMCUgMCUvMTAwJSAxMDAlOy1tb3otYm9yZGVyLWltYWdlOnVybCgvL3d3dy5nb29nbGUuY29tL2ltYWdlcy9sb2dvcy9lcnJvcnBhZ2UvZXJyb3JfbG9nby0xNTB4NTQtMngucG5nKSAwfX1AbWVkaWEgb25seSBzY3JlZW4gYW5kICgtd2Via2l0LW1pbi1kZXZpY2UtcGl4ZWwtcmF0aW86Mil7I2xvZ297YmFja2dyb3VuZDp1cmwoLy93d3cuZ29vZ2xlLmNvbS9pbWFnZXMvbG9nb3MvZXJyb3JwYWdlL2Vycm9yX2xvZ28tMTUweDU0LTJ4LnBuZykgbm8tcmVwZWF0Oy13ZWJraXQtYmFja2dyb3VuZC1zaXplOjEwMCUgMTAwJX19I2xvZ297ZGlzcGxheTppbmxpbmUtYmxvY2s7aGVpZ2h0OjU0cHg7d2lkdGg6MTUwcHh9CiAgPC9zdHlsZT4KICA8YSBocmVmPS8vd3d3Lmdvb2dsZS5jb20vPjxzcGFuIGlkPWxvZ28gYXJpYS1sYWJlbD1Hb29nbGU+PC9zcGFuPjwvYT4KICA8cD48Yj40MDQuPC9iPiA8aW5zPlRoYXTigJlzIGFuIGVycm9yLjwvaW5zPgogIDxwPiAgPGlucz5UaGF04oCZcyBhbGwgd2Uga25vdy48L2lucz4K",
              "ok": false,
              "headers": [
                [
                  "content-length",
                  "1449"
                ],
                [
                  "content-type",
                  "text/html; charset=utf-8"
                ]
              ],
              "status": 404,
              "status_text": ""
            },
            "http://localhost:8080/dataset_students/classification/train_unlabelled/1215.png": {
              "data": "CjwhRE9DVFlQRSBodG1sPgo8aHRtbCBsYW5nPWVuPgogIDxtZXRhIGNoYXJzZXQ9dXRmLTg+CiAgPG1ldGEgbmFtZT12aWV3cG9ydCBjb250ZW50PSJpbml0aWFsLXNjYWxlPTEsIG1pbmltdW0tc2NhbGU9MSwgd2lkdGg9ZGV2aWNlLXdpZHRoIj4KICA8dGl0bGU+RXJyb3IgNDA0IChOb3QgRm91bmQpISExPC90aXRsZT4KICA8c3R5bGU+CiAgICAqe21hcmdpbjowO3BhZGRpbmc6MH1odG1sLGNvZGV7Zm9udDoxNXB4LzIycHggYXJpYWwsc2Fucy1zZXJpZn1odG1se2JhY2tncm91bmQ6I2ZmZjtjb2xvcjojMjIyO3BhZGRpbmc6MTVweH1ib2R5e21hcmdpbjo3JSBhdXRvIDA7bWF4LXdpZHRoOjM5MHB4O21pbi1oZWlnaHQ6MTgwcHg7cGFkZGluZzozMHB4IDAgMTVweH0qID4gYm9keXtiYWNrZ3JvdW5kOnVybCgvL3d3dy5nb29nbGUuY29tL2ltYWdlcy9lcnJvcnMvcm9ib3QucG5nKSAxMDAlIDVweCBuby1yZXBlYXQ7cGFkZGluZy1yaWdodDoyMDVweH1we21hcmdpbjoxMXB4IDAgMjJweDtvdmVyZmxvdzpoaWRkZW59aW5ze2NvbG9yOiM3Nzc7dGV4dC1kZWNvcmF0aW9uOm5vbmV9YSBpbWd7Ym9yZGVyOjB9QG1lZGlhIHNjcmVlbiBhbmQgKG1heC13aWR0aDo3NzJweCl7Ym9keXtiYWNrZ3JvdW5kOm5vbmU7bWFyZ2luLXRvcDowO21heC13aWR0aDpub25lO3BhZGRpbmctcmlnaHQ6MH19I2xvZ297YmFja2dyb3VuZDp1cmwoLy93d3cuZ29vZ2xlLmNvbS9pbWFnZXMvbG9nb3MvZXJyb3JwYWdlL2Vycm9yX2xvZ28tMTUweDU0LnBuZykgbm8tcmVwZWF0O21hcmdpbi1sZWZ0Oi01cHh9QG1lZGlhIG9ubHkgc2NyZWVuIGFuZCAobWluLXJlc29sdXRpb246MTkyZHBpKXsjbG9nb3tiYWNrZ3JvdW5kOnVybCgvL3d3dy5nb29nbGUuY29tL2ltYWdlcy9sb2dvcy9lcnJvcnBhZ2UvZXJyb3JfbG9nby0xNTB4NTQtMngucG5nKSBuby1yZXBlYXQgMCUgMCUvMTAwJSAxMDAlOy1tb3otYm9yZGVyLWltYWdlOnVybCgvL3d3dy5nb29nbGUuY29tL2ltYWdlcy9sb2dvcy9lcnJvcnBhZ2UvZXJyb3JfbG9nby0xNTB4NTQtMngucG5nKSAwfX1AbWVkaWEgb25seSBzY3JlZW4gYW5kICgtd2Via2l0LW1pbi1kZXZpY2UtcGl4ZWwtcmF0aW86Mil7I2xvZ297YmFja2dyb3VuZDp1cmwoLy93d3cuZ29vZ2xlLmNvbS9pbWFnZXMvbG9nb3MvZXJyb3JwYWdlL2Vycm9yX2xvZ28tMTUweDU0LTJ4LnBuZykgbm8tcmVwZWF0Oy13ZWJraXQtYmFja2dyb3VuZC1zaXplOjEwMCUgMTAwJX19I2xvZ297ZGlzcGxheTppbmxpbmUtYmxvY2s7aGVpZ2h0OjU0cHg7d2lkdGg6MTUwcHh9CiAgPC9zdHlsZT4KICA8YSBocmVmPS8vd3d3Lmdvb2dsZS5jb20vPjxzcGFuIGlkPWxvZ28gYXJpYS1sYWJlbD1Hb29nbGU+PC9zcGFuPjwvYT4KICA8cD48Yj40MDQuPC9iPiA8aW5zPlRoYXTigJlzIGFuIGVycm9yLjwvaW5zPgogIDxwPiAgPGlucz5UaGF04oCZcyBhbGwgd2Uga25vdy48L2lucz4K",
              "ok": false,
              "headers": [
                [
                  "content-length",
                  "1449"
                ],
                [
                  "content-type",
                  "text/html; charset=utf-8"
                ]
              ],
              "status": 404,
              "status_text": ""
            },
            "http://localhost:8080/dataset_students/classification/train_unlabelled/585.png": {
              "data": "CjwhRE9DVFlQRSBodG1sPgo8aHRtbCBsYW5nPWVuPgogIDxtZXRhIGNoYXJzZXQ9dXRmLTg+CiAgPG1ldGEgbmFtZT12aWV3cG9ydCBjb250ZW50PSJpbml0aWFsLXNjYWxlPTEsIG1pbmltdW0tc2NhbGU9MSwgd2lkdGg9ZGV2aWNlLXdpZHRoIj4KICA8dGl0bGU+RXJyb3IgNDA0IChOb3QgRm91bmQpISExPC90aXRsZT4KICA8c3R5bGU+CiAgICAqe21hcmdpbjowO3BhZGRpbmc6MH1odG1sLGNvZGV7Zm9udDoxNXB4LzIycHggYXJpYWwsc2Fucy1zZXJpZn1odG1se2JhY2tncm91bmQ6I2ZmZjtjb2xvcjojMjIyO3BhZGRpbmc6MTVweH1ib2R5e21hcmdpbjo3JSBhdXRvIDA7bWF4LXdpZHRoOjM5MHB4O21pbi1oZWlnaHQ6MTgwcHg7cGFkZGluZzozMHB4IDAgMTVweH0qID4gYm9keXtiYWNrZ3JvdW5kOnVybCgvL3d3dy5nb29nbGUuY29tL2ltYWdlcy9lcnJvcnMvcm9ib3QucG5nKSAxMDAlIDVweCBuby1yZXBlYXQ7cGFkZGluZy1yaWdodDoyMDVweH1we21hcmdpbjoxMXB4IDAgMjJweDtvdmVyZmxvdzpoaWRkZW59aW5ze2NvbG9yOiM3Nzc7dGV4dC1kZWNvcmF0aW9uOm5vbmV9YSBpbWd7Ym9yZGVyOjB9QG1lZGlhIHNjcmVlbiBhbmQgKG1heC13aWR0aDo3NzJweCl7Ym9keXtiYWNrZ3JvdW5kOm5vbmU7bWFyZ2luLXRvcDowO21heC13aWR0aDpub25lO3BhZGRpbmctcmlnaHQ6MH19I2xvZ297YmFja2dyb3VuZDp1cmwoLy93d3cuZ29vZ2xlLmNvbS9pbWFnZXMvbG9nb3MvZXJyb3JwYWdlL2Vycm9yX2xvZ28tMTUweDU0LnBuZykgbm8tcmVwZWF0O21hcmdpbi1sZWZ0Oi01cHh9QG1lZGlhIG9ubHkgc2NyZWVuIGFuZCAobWluLXJlc29sdXRpb246MTkyZHBpKXsjbG9nb3tiYWNrZ3JvdW5kOnVybCgvL3d3dy5nb29nbGUuY29tL2ltYWdlcy9sb2dvcy9lcnJvcnBhZ2UvZXJyb3JfbG9nby0xNTB4NTQtMngucG5nKSBuby1yZXBlYXQgMCUgMCUvMTAwJSAxMDAlOy1tb3otYm9yZGVyLWltYWdlOnVybCgvL3d3dy5nb29nbGUuY29tL2ltYWdlcy9sb2dvcy9lcnJvcnBhZ2UvZXJyb3JfbG9nby0xNTB4NTQtMngucG5nKSAwfX1AbWVkaWEgb25seSBzY3JlZW4gYW5kICgtd2Via2l0LW1pbi1kZXZpY2UtcGl4ZWwtcmF0aW86Mil7I2xvZ297YmFja2dyb3VuZDp1cmwoLy93d3cuZ29vZ2xlLmNvbS9pbWFnZXMvbG9nb3MvZXJyb3JwYWdlL2Vycm9yX2xvZ28tMTUweDU0LTJ4LnBuZykgbm8tcmVwZWF0Oy13ZWJraXQtYmFja2dyb3VuZC1zaXplOjEwMCUgMTAwJX19I2xvZ297ZGlzcGxheTppbmxpbmUtYmxvY2s7aGVpZ2h0OjU0cHg7d2lkdGg6MTUwcHh9CiAgPC9zdHlsZT4KICA8YSBocmVmPS8vd3d3Lmdvb2dsZS5jb20vPjxzcGFuIGlkPWxvZ28gYXJpYS1sYWJlbD1Hb29nbGU+PC9zcGFuPjwvYT4KICA8cD48Yj40MDQuPC9iPiA8aW5zPlRoYXTigJlzIGFuIGVycm9yLjwvaW5zPgogIDxwPiAgPGlucz5UaGF04oCZcyBhbGwgd2Uga25vdy48L2lucz4K",
              "ok": false,
              "headers": [
                [
                  "content-length",
                  "1449"
                ],
                [
                  "content-type",
                  "text/html; charset=utf-8"
                ]
              ],
              "status": 404,
              "status_text": ""
            },
            "http://localhost:8080/dataset_students/classification/train_unlabelled/364.png": {
              "data": "CjwhRE9DVFlQRSBodG1sPgo8aHRtbCBsYW5nPWVuPgogIDxtZXRhIGNoYXJzZXQ9dXRmLTg+CiAgPG1ldGEgbmFtZT12aWV3cG9ydCBjb250ZW50PSJpbml0aWFsLXNjYWxlPTEsIG1pbmltdW0tc2NhbGU9MSwgd2lkdGg9ZGV2aWNlLXdpZHRoIj4KICA8dGl0bGU+RXJyb3IgNDA0IChOb3QgRm91bmQpISExPC90aXRsZT4KICA8c3R5bGU+CiAgICAqe21hcmdpbjowO3BhZGRpbmc6MH1odG1sLGNvZGV7Zm9udDoxNXB4LzIycHggYXJpYWwsc2Fucy1zZXJpZn1odG1se2JhY2tncm91bmQ6I2ZmZjtjb2xvcjojMjIyO3BhZGRpbmc6MTVweH1ib2R5e21hcmdpbjo3JSBhdXRvIDA7bWF4LXdpZHRoOjM5MHB4O21pbi1oZWlnaHQ6MTgwcHg7cGFkZGluZzozMHB4IDAgMTVweH0qID4gYm9keXtiYWNrZ3JvdW5kOnVybCgvL3d3dy5nb29nbGUuY29tL2ltYWdlcy9lcnJvcnMvcm9ib3QucG5nKSAxMDAlIDVweCBuby1yZXBlYXQ7cGFkZGluZy1yaWdodDoyMDVweH1we21hcmdpbjoxMXB4IDAgMjJweDtvdmVyZmxvdzpoaWRkZW59aW5ze2NvbG9yOiM3Nzc7dGV4dC1kZWNvcmF0aW9uOm5vbmV9YSBpbWd7Ym9yZGVyOjB9QG1lZGlhIHNjcmVlbiBhbmQgKG1heC13aWR0aDo3NzJweCl7Ym9keXtiYWNrZ3JvdW5kOm5vbmU7bWFyZ2luLXRvcDowO21heC13aWR0aDpub25lO3BhZGRpbmctcmlnaHQ6MH19I2xvZ297YmFja2dyb3VuZDp1cmwoLy93d3cuZ29vZ2xlLmNvbS9pbWFnZXMvbG9nb3MvZXJyb3JwYWdlL2Vycm9yX2xvZ28tMTUweDU0LnBuZykgbm8tcmVwZWF0O21hcmdpbi1sZWZ0Oi01cHh9QG1lZGlhIG9ubHkgc2NyZWVuIGFuZCAobWluLXJlc29sdXRpb246MTkyZHBpKXsjbG9nb3tiYWNrZ3JvdW5kOnVybCgvL3d3dy5nb29nbGUuY29tL2ltYWdlcy9sb2dvcy9lcnJvcnBhZ2UvZXJyb3JfbG9nby0xNTB4NTQtMngucG5nKSBuby1yZXBlYXQgMCUgMCUvMTAwJSAxMDAlOy1tb3otYm9yZGVyLWltYWdlOnVybCgvL3d3dy5nb29nbGUuY29tL2ltYWdlcy9sb2dvcy9lcnJvcnBhZ2UvZXJyb3JfbG9nby0xNTB4NTQtMngucG5nKSAwfX1AbWVkaWEgb25seSBzY3JlZW4gYW5kICgtd2Via2l0LW1pbi1kZXZpY2UtcGl4ZWwtcmF0aW86Mil7I2xvZ297YmFja2dyb3VuZDp1cmwoLy93d3cuZ29vZ2xlLmNvbS9pbWFnZXMvbG9nb3MvZXJyb3JwYWdlL2Vycm9yX2xvZ28tMTUweDU0LTJ4LnBuZykgbm8tcmVwZWF0Oy13ZWJraXQtYmFja2dyb3VuZC1zaXplOjEwMCUgMTAwJX19I2xvZ297ZGlzcGxheTppbmxpbmUtYmxvY2s7aGVpZ2h0OjU0cHg7d2lkdGg6MTUwcHh9CiAgPC9zdHlsZT4KICA8YSBocmVmPS8vd3d3Lmdvb2dsZS5jb20vPjxzcGFuIGlkPWxvZ28gYXJpYS1sYWJlbD1Hb29nbGU+PC9zcGFuPjwvYT4KICA8cD48Yj40MDQuPC9iPiA8aW5zPlRoYXTigJlzIGFuIGVycm9yLjwvaW5zPgogIDxwPiAgPGlucz5UaGF04oCZcyBhbGwgd2Uga25vdy48L2lucz4K",
              "ok": false,
              "headers": [
                [
                  "content-length",
                  "1449"
                ],
                [
                  "content-type",
                  "text/html; charset=utf-8"
                ]
              ],
              "status": 404,
              "status_text": ""
            },
            "http://localhost:8080/dataset_students/classification/train_unlabelled/1369.png": {
              "data": "CjwhRE9DVFlQRSBodG1sPgo8aHRtbCBsYW5nPWVuPgogIDxtZXRhIGNoYXJzZXQ9dXRmLTg+CiAgPG1ldGEgbmFtZT12aWV3cG9ydCBjb250ZW50PSJpbml0aWFsLXNjYWxlPTEsIG1pbmltdW0tc2NhbGU9MSwgd2lkdGg9ZGV2aWNlLXdpZHRoIj4KICA8dGl0bGU+RXJyb3IgNDA0IChOb3QgRm91bmQpISExPC90aXRsZT4KICA8c3R5bGU+CiAgICAqe21hcmdpbjowO3BhZGRpbmc6MH1odG1sLGNvZGV7Zm9udDoxNXB4LzIycHggYXJpYWwsc2Fucy1zZXJpZn1odG1se2JhY2tncm91bmQ6I2ZmZjtjb2xvcjojMjIyO3BhZGRpbmc6MTVweH1ib2R5e21hcmdpbjo3JSBhdXRvIDA7bWF4LXdpZHRoOjM5MHB4O21pbi1oZWlnaHQ6MTgwcHg7cGFkZGluZzozMHB4IDAgMTVweH0qID4gYm9keXtiYWNrZ3JvdW5kOnVybCgvL3d3dy5nb29nbGUuY29tL2ltYWdlcy9lcnJvcnMvcm9ib3QucG5nKSAxMDAlIDVweCBuby1yZXBlYXQ7cGFkZGluZy1yaWdodDoyMDVweH1we21hcmdpbjoxMXB4IDAgMjJweDtvdmVyZmxvdzpoaWRkZW59aW5ze2NvbG9yOiM3Nzc7dGV4dC1kZWNvcmF0aW9uOm5vbmV9YSBpbWd7Ym9yZGVyOjB9QG1lZGlhIHNjcmVlbiBhbmQgKG1heC13aWR0aDo3NzJweCl7Ym9keXtiYWNrZ3JvdW5kOm5vbmU7bWFyZ2luLXRvcDowO21heC13aWR0aDpub25lO3BhZGRpbmctcmlnaHQ6MH19I2xvZ297YmFja2dyb3VuZDp1cmwoLy93d3cuZ29vZ2xlLmNvbS9pbWFnZXMvbG9nb3MvZXJyb3JwYWdlL2Vycm9yX2xvZ28tMTUweDU0LnBuZykgbm8tcmVwZWF0O21hcmdpbi1sZWZ0Oi01cHh9QG1lZGlhIG9ubHkgc2NyZWVuIGFuZCAobWluLXJlc29sdXRpb246MTkyZHBpKXsjbG9nb3tiYWNrZ3JvdW5kOnVybCgvL3d3dy5nb29nbGUuY29tL2ltYWdlcy9sb2dvcy9lcnJvcnBhZ2UvZXJyb3JfbG9nby0xNTB4NTQtMngucG5nKSBuby1yZXBlYXQgMCUgMCUvMTAwJSAxMDAlOy1tb3otYm9yZGVyLWltYWdlOnVybCgvL3d3dy5nb29nbGUuY29tL2ltYWdlcy9sb2dvcy9lcnJvcnBhZ2UvZXJyb3JfbG9nby0xNTB4NTQtMngucG5nKSAwfX1AbWVkaWEgb25seSBzY3JlZW4gYW5kICgtd2Via2l0LW1pbi1kZXZpY2UtcGl4ZWwtcmF0aW86Mil7I2xvZ297YmFja2dyb3VuZDp1cmwoLy93d3cuZ29vZ2xlLmNvbS9pbWFnZXMvbG9nb3MvZXJyb3JwYWdlL2Vycm9yX2xvZ28tMTUweDU0LTJ4LnBuZykgbm8tcmVwZWF0Oy13ZWJraXQtYmFja2dyb3VuZC1zaXplOjEwMCUgMTAwJX19I2xvZ297ZGlzcGxheTppbmxpbmUtYmxvY2s7aGVpZ2h0OjU0cHg7d2lkdGg6MTUwcHh9CiAgPC9zdHlsZT4KICA8YSBocmVmPS8vd3d3Lmdvb2dsZS5jb20vPjxzcGFuIGlkPWxvZ28gYXJpYS1sYWJlbD1Hb29nbGU+PC9zcGFuPjwvYT4KICA8cD48Yj40MDQuPC9iPiA8aW5zPlRoYXTigJlzIGFuIGVycm9yLjwvaW5zPgogIDxwPiAgPGlucz5UaGF04oCZcyBhbGwgd2Uga25vdy48L2lucz4K",
              "ok": false,
              "headers": [
                [
                  "content-length",
                  "1449"
                ],
                [
                  "content-type",
                  "text/html; charset=utf-8"
                ]
              ],
              "status": 404,
              "status_text": ""
            },
            "http://localhost:8080/dataset_students/classification/train_labelled/55.png": {
              "data": "CjwhRE9DVFlQRSBodG1sPgo8aHRtbCBsYW5nPWVuPgogIDxtZXRhIGNoYXJzZXQ9dXRmLTg+CiAgPG1ldGEgbmFtZT12aWV3cG9ydCBjb250ZW50PSJpbml0aWFsLXNjYWxlPTEsIG1pbmltdW0tc2NhbGU9MSwgd2lkdGg9ZGV2aWNlLXdpZHRoIj4KICA8dGl0bGU+RXJyb3IgNDA0IChOb3QgRm91bmQpISExPC90aXRsZT4KICA8c3R5bGU+CiAgICAqe21hcmdpbjowO3BhZGRpbmc6MH1odG1sLGNvZGV7Zm9udDoxNXB4LzIycHggYXJpYWwsc2Fucy1zZXJpZn1odG1se2JhY2tncm91bmQ6I2ZmZjtjb2xvcjojMjIyO3BhZGRpbmc6MTVweH1ib2R5e21hcmdpbjo3JSBhdXRvIDA7bWF4LXdpZHRoOjM5MHB4O21pbi1oZWlnaHQ6MTgwcHg7cGFkZGluZzozMHB4IDAgMTVweH0qID4gYm9keXtiYWNrZ3JvdW5kOnVybCgvL3d3dy5nb29nbGUuY29tL2ltYWdlcy9lcnJvcnMvcm9ib3QucG5nKSAxMDAlIDVweCBuby1yZXBlYXQ7cGFkZGluZy1yaWdodDoyMDVweH1we21hcmdpbjoxMXB4IDAgMjJweDtvdmVyZmxvdzpoaWRkZW59aW5ze2NvbG9yOiM3Nzc7dGV4dC1kZWNvcmF0aW9uOm5vbmV9YSBpbWd7Ym9yZGVyOjB9QG1lZGlhIHNjcmVlbiBhbmQgKG1heC13aWR0aDo3NzJweCl7Ym9keXtiYWNrZ3JvdW5kOm5vbmU7bWFyZ2luLXRvcDowO21heC13aWR0aDpub25lO3BhZGRpbmctcmlnaHQ6MH19I2xvZ297YmFja2dyb3VuZDp1cmwoLy93d3cuZ29vZ2xlLmNvbS9pbWFnZXMvbG9nb3MvZXJyb3JwYWdlL2Vycm9yX2xvZ28tMTUweDU0LnBuZykgbm8tcmVwZWF0O21hcmdpbi1sZWZ0Oi01cHh9QG1lZGlhIG9ubHkgc2NyZWVuIGFuZCAobWluLXJlc29sdXRpb246MTkyZHBpKXsjbG9nb3tiYWNrZ3JvdW5kOnVybCgvL3d3dy5nb29nbGUuY29tL2ltYWdlcy9sb2dvcy9lcnJvcnBhZ2UvZXJyb3JfbG9nby0xNTB4NTQtMngucG5nKSBuby1yZXBlYXQgMCUgMCUvMTAwJSAxMDAlOy1tb3otYm9yZGVyLWltYWdlOnVybCgvL3d3dy5nb29nbGUuY29tL2ltYWdlcy9sb2dvcy9lcnJvcnBhZ2UvZXJyb3JfbG9nby0xNTB4NTQtMngucG5nKSAwfX1AbWVkaWEgb25seSBzY3JlZW4gYW5kICgtd2Via2l0LW1pbi1kZXZpY2UtcGl4ZWwtcmF0aW86Mil7I2xvZ297YmFja2dyb3VuZDp1cmwoLy93d3cuZ29vZ2xlLmNvbS9pbWFnZXMvbG9nb3MvZXJyb3JwYWdlL2Vycm9yX2xvZ28tMTUweDU0LTJ4LnBuZykgbm8tcmVwZWF0Oy13ZWJraXQtYmFja2dyb3VuZC1zaXplOjEwMCUgMTAwJX19I2xvZ297ZGlzcGxheTppbmxpbmUtYmxvY2s7aGVpZ2h0OjU0cHg7d2lkdGg6MTUwcHh9CiAgPC9zdHlsZT4KICA8YSBocmVmPS8vd3d3Lmdvb2dsZS5jb20vPjxzcGFuIGlkPWxvZ28gYXJpYS1sYWJlbD1Hb29nbGU+PC9zcGFuPjwvYT4KICA8cD48Yj40MDQuPC9iPiA8aW5zPlRoYXTigJlzIGFuIGVycm9yLjwvaW5zPgogIDxwPiAgPGlucz5UaGF04oCZcyBhbGwgd2Uga25vdy48L2lucz4K",
              "ok": false,
              "headers": [
                [
                  "content-length",
                  "1449"
                ],
                [
                  "content-type",
                  "text/html; charset=utf-8"
                ]
              ],
              "status": 404,
              "status_text": ""
            },
            "http://localhost:8080/dataset_students/classification/train_labelled/29.png": {
              "data": "CjwhRE9DVFlQRSBodG1sPgo8aHRtbCBsYW5nPWVuPgogIDxtZXRhIGNoYXJzZXQ9dXRmLTg+CiAgPG1ldGEgbmFtZT12aWV3cG9ydCBjb250ZW50PSJpbml0aWFsLXNjYWxlPTEsIG1pbmltdW0tc2NhbGU9MSwgd2lkdGg9ZGV2aWNlLXdpZHRoIj4KICA8dGl0bGU+RXJyb3IgNDA0IChOb3QgRm91bmQpISExPC90aXRsZT4KICA8c3R5bGU+CiAgICAqe21hcmdpbjowO3BhZGRpbmc6MH1odG1sLGNvZGV7Zm9udDoxNXB4LzIycHggYXJpYWwsc2Fucy1zZXJpZn1odG1se2JhY2tncm91bmQ6I2ZmZjtjb2xvcjojMjIyO3BhZGRpbmc6MTVweH1ib2R5e21hcmdpbjo3JSBhdXRvIDA7bWF4LXdpZHRoOjM5MHB4O21pbi1oZWlnaHQ6MTgwcHg7cGFkZGluZzozMHB4IDAgMTVweH0qID4gYm9keXtiYWNrZ3JvdW5kOnVybCgvL3d3dy5nb29nbGUuY29tL2ltYWdlcy9lcnJvcnMvcm9ib3QucG5nKSAxMDAlIDVweCBuby1yZXBlYXQ7cGFkZGluZy1yaWdodDoyMDVweH1we21hcmdpbjoxMXB4IDAgMjJweDtvdmVyZmxvdzpoaWRkZW59aW5ze2NvbG9yOiM3Nzc7dGV4dC1kZWNvcmF0aW9uOm5vbmV9YSBpbWd7Ym9yZGVyOjB9QG1lZGlhIHNjcmVlbiBhbmQgKG1heC13aWR0aDo3NzJweCl7Ym9keXtiYWNrZ3JvdW5kOm5vbmU7bWFyZ2luLXRvcDowO21heC13aWR0aDpub25lO3BhZGRpbmctcmlnaHQ6MH19I2xvZ297YmFja2dyb3VuZDp1cmwoLy93d3cuZ29vZ2xlLmNvbS9pbWFnZXMvbG9nb3MvZXJyb3JwYWdlL2Vycm9yX2xvZ28tMTUweDU0LnBuZykgbm8tcmVwZWF0O21hcmdpbi1sZWZ0Oi01cHh9QG1lZGlhIG9ubHkgc2NyZWVuIGFuZCAobWluLXJlc29sdXRpb246MTkyZHBpKXsjbG9nb3tiYWNrZ3JvdW5kOnVybCgvL3d3dy5nb29nbGUuY29tL2ltYWdlcy9sb2dvcy9lcnJvcnBhZ2UvZXJyb3JfbG9nby0xNTB4NTQtMngucG5nKSBuby1yZXBlYXQgMCUgMCUvMTAwJSAxMDAlOy1tb3otYm9yZGVyLWltYWdlOnVybCgvL3d3dy5nb29nbGUuY29tL2ltYWdlcy9sb2dvcy9lcnJvcnBhZ2UvZXJyb3JfbG9nby0xNTB4NTQtMngucG5nKSAwfX1AbWVkaWEgb25seSBzY3JlZW4gYW5kICgtd2Via2l0LW1pbi1kZXZpY2UtcGl4ZWwtcmF0aW86Mil7I2xvZ297YmFja2dyb3VuZDp1cmwoLy93d3cuZ29vZ2xlLmNvbS9pbWFnZXMvbG9nb3MvZXJyb3JwYWdlL2Vycm9yX2xvZ28tMTUweDU0LTJ4LnBuZykgbm8tcmVwZWF0Oy13ZWJraXQtYmFja2dyb3VuZC1zaXplOjEwMCUgMTAwJX19I2xvZ297ZGlzcGxheTppbmxpbmUtYmxvY2s7aGVpZ2h0OjU0cHg7d2lkdGg6MTUwcHh9CiAgPC9zdHlsZT4KICA8YSBocmVmPS8vd3d3Lmdvb2dsZS5jb20vPjxzcGFuIGlkPWxvZ28gYXJpYS1sYWJlbD1Hb29nbGU+PC9zcGFuPjwvYT4KICA8cD48Yj40MDQuPC9iPiA8aW5zPlRoYXTigJlzIGFuIGVycm9yLjwvaW5zPgogIDxwPiAgPGlucz5UaGF04oCZcyBhbGwgd2Uga25vdy48L2lucz4K",
              "ok": false,
              "headers": [
                [
                  "content-length",
                  "1449"
                ],
                [
                  "content-type",
                  "text/html; charset=utf-8"
                ]
              ],
              "status": 404,
              "status_text": ""
            },
            "http://localhost:8080/dataset_students/classification/train_unlabelled/1539.png": {
              "data": "CjwhRE9DVFlQRSBodG1sPgo8aHRtbCBsYW5nPWVuPgogIDxtZXRhIGNoYXJzZXQ9dXRmLTg+CiAgPG1ldGEgbmFtZT12aWV3cG9ydCBjb250ZW50PSJpbml0aWFsLXNjYWxlPTEsIG1pbmltdW0tc2NhbGU9MSwgd2lkdGg9ZGV2aWNlLXdpZHRoIj4KICA8dGl0bGU+RXJyb3IgNDA0IChOb3QgRm91bmQpISExPC90aXRsZT4KICA8c3R5bGU+CiAgICAqe21hcmdpbjowO3BhZGRpbmc6MH1odG1sLGNvZGV7Zm9udDoxNXB4LzIycHggYXJpYWwsc2Fucy1zZXJpZn1odG1se2JhY2tncm91bmQ6I2ZmZjtjb2xvcjojMjIyO3BhZGRpbmc6MTVweH1ib2R5e21hcmdpbjo3JSBhdXRvIDA7bWF4LXdpZHRoOjM5MHB4O21pbi1oZWlnaHQ6MTgwcHg7cGFkZGluZzozMHB4IDAgMTVweH0qID4gYm9keXtiYWNrZ3JvdW5kOnVybCgvL3d3dy5nb29nbGUuY29tL2ltYWdlcy9lcnJvcnMvcm9ib3QucG5nKSAxMDAlIDVweCBuby1yZXBlYXQ7cGFkZGluZy1yaWdodDoyMDVweH1we21hcmdpbjoxMXB4IDAgMjJweDtvdmVyZmxvdzpoaWRkZW59aW5ze2NvbG9yOiM3Nzc7dGV4dC1kZWNvcmF0aW9uOm5vbmV9YSBpbWd7Ym9yZGVyOjB9QG1lZGlhIHNjcmVlbiBhbmQgKG1heC13aWR0aDo3NzJweCl7Ym9keXtiYWNrZ3JvdW5kOm5vbmU7bWFyZ2luLXRvcDowO21heC13aWR0aDpub25lO3BhZGRpbmctcmlnaHQ6MH19I2xvZ297YmFja2dyb3VuZDp1cmwoLy93d3cuZ29vZ2xlLmNvbS9pbWFnZXMvbG9nb3MvZXJyb3JwYWdlL2Vycm9yX2xvZ28tMTUweDU0LnBuZykgbm8tcmVwZWF0O21hcmdpbi1sZWZ0Oi01cHh9QG1lZGlhIG9ubHkgc2NyZWVuIGFuZCAobWluLXJlc29sdXRpb246MTkyZHBpKXsjbG9nb3tiYWNrZ3JvdW5kOnVybCgvL3d3dy5nb29nbGUuY29tL2ltYWdlcy9sb2dvcy9lcnJvcnBhZ2UvZXJyb3JfbG9nby0xNTB4NTQtMngucG5nKSBuby1yZXBlYXQgMCUgMCUvMTAwJSAxMDAlOy1tb3otYm9yZGVyLWltYWdlOnVybCgvL3d3dy5nb29nbGUuY29tL2ltYWdlcy9sb2dvcy9lcnJvcnBhZ2UvZXJyb3JfbG9nby0xNTB4NTQtMngucG5nKSAwfX1AbWVkaWEgb25seSBzY3JlZW4gYW5kICgtd2Via2l0LW1pbi1kZXZpY2UtcGl4ZWwtcmF0aW86Mil7I2xvZ297YmFja2dyb3VuZDp1cmwoLy93d3cuZ29vZ2xlLmNvbS9pbWFnZXMvbG9nb3MvZXJyb3JwYWdlL2Vycm9yX2xvZ28tMTUweDU0LTJ4LnBuZykgbm8tcmVwZWF0Oy13ZWJraXQtYmFja2dyb3VuZC1zaXplOjEwMCUgMTAwJX19I2xvZ297ZGlzcGxheTppbmxpbmUtYmxvY2s7aGVpZ2h0OjU0cHg7d2lkdGg6MTUwcHh9CiAgPC9zdHlsZT4KICA8YSBocmVmPS8vd3d3Lmdvb2dsZS5jb20vPjxzcGFuIGlkPWxvZ28gYXJpYS1sYWJlbD1Hb29nbGU+PC9zcGFuPjwvYT4KICA8cD48Yj40MDQuPC9iPiA8aW5zPlRoYXTigJlzIGFuIGVycm9yLjwvaW5zPgogIDxwPiAgPGlucz5UaGF04oCZcyBhbGwgd2Uga25vdy48L2lucz4K",
              "ok": false,
              "headers": [
                [
                  "content-length",
                  "1449"
                ],
                [
                  "content-type",
                  "text/html; charset=utf-8"
                ]
              ],
              "status": 404,
              "status_text": ""
            },
            "http://localhost:8080/dataset_students/classification/train_labelled/188.png": {
              "data": "CjwhRE9DVFlQRSBodG1sPgo8aHRtbCBsYW5nPWVuPgogIDxtZXRhIGNoYXJzZXQ9dXRmLTg+CiAgPG1ldGEgbmFtZT12aWV3cG9ydCBjb250ZW50PSJpbml0aWFsLXNjYWxlPTEsIG1pbmltdW0tc2NhbGU9MSwgd2lkdGg9ZGV2aWNlLXdpZHRoIj4KICA8dGl0bGU+RXJyb3IgNDA0IChOb3QgRm91bmQpISExPC90aXRsZT4KICA8c3R5bGU+CiAgICAqe21hcmdpbjowO3BhZGRpbmc6MH1odG1sLGNvZGV7Zm9udDoxNXB4LzIycHggYXJpYWwsc2Fucy1zZXJpZn1odG1se2JhY2tncm91bmQ6I2ZmZjtjb2xvcjojMjIyO3BhZGRpbmc6MTVweH1ib2R5e21hcmdpbjo3JSBhdXRvIDA7bWF4LXdpZHRoOjM5MHB4O21pbi1oZWlnaHQ6MTgwcHg7cGFkZGluZzozMHB4IDAgMTVweH0qID4gYm9keXtiYWNrZ3JvdW5kOnVybCgvL3d3dy5nb29nbGUuY29tL2ltYWdlcy9lcnJvcnMvcm9ib3QucG5nKSAxMDAlIDVweCBuby1yZXBlYXQ7cGFkZGluZy1yaWdodDoyMDVweH1we21hcmdpbjoxMXB4IDAgMjJweDtvdmVyZmxvdzpoaWRkZW59aW5ze2NvbG9yOiM3Nzc7dGV4dC1kZWNvcmF0aW9uOm5vbmV9YSBpbWd7Ym9yZGVyOjB9QG1lZGlhIHNjcmVlbiBhbmQgKG1heC13aWR0aDo3NzJweCl7Ym9keXtiYWNrZ3JvdW5kOm5vbmU7bWFyZ2luLXRvcDowO21heC13aWR0aDpub25lO3BhZGRpbmctcmlnaHQ6MH19I2xvZ297YmFja2dyb3VuZDp1cmwoLy93d3cuZ29vZ2xlLmNvbS9pbWFnZXMvbG9nb3MvZXJyb3JwYWdlL2Vycm9yX2xvZ28tMTUweDU0LnBuZykgbm8tcmVwZWF0O21hcmdpbi1sZWZ0Oi01cHh9QG1lZGlhIG9ubHkgc2NyZWVuIGFuZCAobWluLXJlc29sdXRpb246MTkyZHBpKXsjbG9nb3tiYWNrZ3JvdW5kOnVybCgvL3d3dy5nb29nbGUuY29tL2ltYWdlcy9sb2dvcy9lcnJvcnBhZ2UvZXJyb3JfbG9nby0xNTB4NTQtMngucG5nKSBuby1yZXBlYXQgMCUgMCUvMTAwJSAxMDAlOy1tb3otYm9yZGVyLWltYWdlOnVybCgvL3d3dy5nb29nbGUuY29tL2ltYWdlcy9sb2dvcy9lcnJvcnBhZ2UvZXJyb3JfbG9nby0xNTB4NTQtMngucG5nKSAwfX1AbWVkaWEgb25seSBzY3JlZW4gYW5kICgtd2Via2l0LW1pbi1kZXZpY2UtcGl4ZWwtcmF0aW86Mil7I2xvZ297YmFja2dyb3VuZDp1cmwoLy93d3cuZ29vZ2xlLmNvbS9pbWFnZXMvbG9nb3MvZXJyb3JwYWdlL2Vycm9yX2xvZ28tMTUweDU0LTJ4LnBuZykgbm8tcmVwZWF0Oy13ZWJraXQtYmFja2dyb3VuZC1zaXplOjEwMCUgMTAwJX19I2xvZ297ZGlzcGxheTppbmxpbmUtYmxvY2s7aGVpZ2h0OjU0cHg7d2lkdGg6MTUwcHh9CiAgPC9zdHlsZT4KICA8YSBocmVmPS8vd3d3Lmdvb2dsZS5jb20vPjxzcGFuIGlkPWxvZ28gYXJpYS1sYWJlbD1Hb29nbGU+PC9zcGFuPjwvYT4KICA8cD48Yj40MDQuPC9iPiA8aW5zPlRoYXTigJlzIGFuIGVycm9yLjwvaW5zPgogIDxwPiAgPGlucz5UaGF04oCZcyBhbGwgd2Uga25vdy48L2lucz4K",
              "ok": false,
              "headers": [
                [
                  "content-length",
                  "1449"
                ],
                [
                  "content-type",
                  "text/html; charset=utf-8"
                ]
              ],
              "status": 404,
              "status_text": ""
            },
            "http://localhost:8080/dataset_students/classification/train_labelled/50.png": {
              "data": "CjwhRE9DVFlQRSBodG1sPgo8aHRtbCBsYW5nPWVuPgogIDxtZXRhIGNoYXJzZXQ9dXRmLTg+CiAgPG1ldGEgbmFtZT12aWV3cG9ydCBjb250ZW50PSJpbml0aWFsLXNjYWxlPTEsIG1pbmltdW0tc2NhbGU9MSwgd2lkdGg9ZGV2aWNlLXdpZHRoIj4KICA8dGl0bGU+RXJyb3IgNDA0IChOb3QgRm91bmQpISExPC90aXRsZT4KICA8c3R5bGU+CiAgICAqe21hcmdpbjowO3BhZGRpbmc6MH1odG1sLGNvZGV7Zm9udDoxNXB4LzIycHggYXJpYWwsc2Fucy1zZXJpZn1odG1se2JhY2tncm91bmQ6I2ZmZjtjb2xvcjojMjIyO3BhZGRpbmc6MTVweH1ib2R5e21hcmdpbjo3JSBhdXRvIDA7bWF4LXdpZHRoOjM5MHB4O21pbi1oZWlnaHQ6MTgwcHg7cGFkZGluZzozMHB4IDAgMTVweH0qID4gYm9keXtiYWNrZ3JvdW5kOnVybCgvL3d3dy5nb29nbGUuY29tL2ltYWdlcy9lcnJvcnMvcm9ib3QucG5nKSAxMDAlIDVweCBuby1yZXBlYXQ7cGFkZGluZy1yaWdodDoyMDVweH1we21hcmdpbjoxMXB4IDAgMjJweDtvdmVyZmxvdzpoaWRkZW59aW5ze2NvbG9yOiM3Nzc7dGV4dC1kZWNvcmF0aW9uOm5vbmV9YSBpbWd7Ym9yZGVyOjB9QG1lZGlhIHNjcmVlbiBhbmQgKG1heC13aWR0aDo3NzJweCl7Ym9keXtiYWNrZ3JvdW5kOm5vbmU7bWFyZ2luLXRvcDowO21heC13aWR0aDpub25lO3BhZGRpbmctcmlnaHQ6MH19I2xvZ297YmFja2dyb3VuZDp1cmwoLy93d3cuZ29vZ2xlLmNvbS9pbWFnZXMvbG9nb3MvZXJyb3JwYWdlL2Vycm9yX2xvZ28tMTUweDU0LnBuZykgbm8tcmVwZWF0O21hcmdpbi1sZWZ0Oi01cHh9QG1lZGlhIG9ubHkgc2NyZWVuIGFuZCAobWluLXJlc29sdXRpb246MTkyZHBpKXsjbG9nb3tiYWNrZ3JvdW5kOnVybCgvL3d3dy5nb29nbGUuY29tL2ltYWdlcy9sb2dvcy9lcnJvcnBhZ2UvZXJyb3JfbG9nby0xNTB4NTQtMngucG5nKSBuby1yZXBlYXQgMCUgMCUvMTAwJSAxMDAlOy1tb3otYm9yZGVyLWltYWdlOnVybCgvL3d3dy5nb29nbGUuY29tL2ltYWdlcy9sb2dvcy9lcnJvcnBhZ2UvZXJyb3JfbG9nby0xNTB4NTQtMngucG5nKSAwfX1AbWVkaWEgb25seSBzY3JlZW4gYW5kICgtd2Via2l0LW1pbi1kZXZpY2UtcGl4ZWwtcmF0aW86Mil7I2xvZ297YmFja2dyb3VuZDp1cmwoLy93d3cuZ29vZ2xlLmNvbS9pbWFnZXMvbG9nb3MvZXJyb3JwYWdlL2Vycm9yX2xvZ28tMTUweDU0LTJ4LnBuZykgbm8tcmVwZWF0Oy13ZWJraXQtYmFja2dyb3VuZC1zaXplOjEwMCUgMTAwJX19I2xvZ297ZGlzcGxheTppbmxpbmUtYmxvY2s7aGVpZ2h0OjU0cHg7d2lkdGg6MTUwcHh9CiAgPC9zdHlsZT4KICA8YSBocmVmPS8vd3d3Lmdvb2dsZS5jb20vPjxzcGFuIGlkPWxvZ28gYXJpYS1sYWJlbD1Hb29nbGU+PC9zcGFuPjwvYT4KICA8cD48Yj40MDQuPC9iPiA8aW5zPlRoYXTigJlzIGFuIGVycm9yLjwvaW5zPgogIDxwPiAgPGlucz5UaGF04oCZcyBhbGwgd2Uga25vdy48L2lucz4K",
              "ok": false,
              "headers": [
                [
                  "content-length",
                  "1449"
                ],
                [
                  "content-type",
                  "text/html; charset=utf-8"
                ]
              ],
              "status": 404,
              "status_text": ""
            },
            "http://localhost:8080/dataset_students/classification/train_unlabelled/675.png": {
              "data": "CjwhRE9DVFlQRSBodG1sPgo8aHRtbCBsYW5nPWVuPgogIDxtZXRhIGNoYXJzZXQ9dXRmLTg+CiAgPG1ldGEgbmFtZT12aWV3cG9ydCBjb250ZW50PSJpbml0aWFsLXNjYWxlPTEsIG1pbmltdW0tc2NhbGU9MSwgd2lkdGg9ZGV2aWNlLXdpZHRoIj4KICA8dGl0bGU+RXJyb3IgNDA0IChOb3QgRm91bmQpISExPC90aXRsZT4KICA8c3R5bGU+CiAgICAqe21hcmdpbjowO3BhZGRpbmc6MH1odG1sLGNvZGV7Zm9udDoxNXB4LzIycHggYXJpYWwsc2Fucy1zZXJpZn1odG1se2JhY2tncm91bmQ6I2ZmZjtjb2xvcjojMjIyO3BhZGRpbmc6MTVweH1ib2R5e21hcmdpbjo3JSBhdXRvIDA7bWF4LXdpZHRoOjM5MHB4O21pbi1oZWlnaHQ6MTgwcHg7cGFkZGluZzozMHB4IDAgMTVweH0qID4gYm9keXtiYWNrZ3JvdW5kOnVybCgvL3d3dy5nb29nbGUuY29tL2ltYWdlcy9lcnJvcnMvcm9ib3QucG5nKSAxMDAlIDVweCBuby1yZXBlYXQ7cGFkZGluZy1yaWdodDoyMDVweH1we21hcmdpbjoxMXB4IDAgMjJweDtvdmVyZmxvdzpoaWRkZW59aW5ze2NvbG9yOiM3Nzc7dGV4dC1kZWNvcmF0aW9uOm5vbmV9YSBpbWd7Ym9yZGVyOjB9QG1lZGlhIHNjcmVlbiBhbmQgKG1heC13aWR0aDo3NzJweCl7Ym9keXtiYWNrZ3JvdW5kOm5vbmU7bWFyZ2luLXRvcDowO21heC13aWR0aDpub25lO3BhZGRpbmctcmlnaHQ6MH19I2xvZ297YmFja2dyb3VuZDp1cmwoLy93d3cuZ29vZ2xlLmNvbS9pbWFnZXMvbG9nb3MvZXJyb3JwYWdlL2Vycm9yX2xvZ28tMTUweDU0LnBuZykgbm8tcmVwZWF0O21hcmdpbi1sZWZ0Oi01cHh9QG1lZGlhIG9ubHkgc2NyZWVuIGFuZCAobWluLXJlc29sdXRpb246MTkyZHBpKXsjbG9nb3tiYWNrZ3JvdW5kOnVybCgvL3d3dy5nb29nbGUuY29tL2ltYWdlcy9sb2dvcy9lcnJvcnBhZ2UvZXJyb3JfbG9nby0xNTB4NTQtMngucG5nKSBuby1yZXBlYXQgMCUgMCUvMTAwJSAxMDAlOy1tb3otYm9yZGVyLWltYWdlOnVybCgvL3d3dy5nb29nbGUuY29tL2ltYWdlcy9sb2dvcy9lcnJvcnBhZ2UvZXJyb3JfbG9nby0xNTB4NTQtMngucG5nKSAwfX1AbWVkaWEgb25seSBzY3JlZW4gYW5kICgtd2Via2l0LW1pbi1kZXZpY2UtcGl4ZWwtcmF0aW86Mil7I2xvZ297YmFja2dyb3VuZDp1cmwoLy93d3cuZ29vZ2xlLmNvbS9pbWFnZXMvbG9nb3MvZXJyb3JwYWdlL2Vycm9yX2xvZ28tMTUweDU0LTJ4LnBuZykgbm8tcmVwZWF0Oy13ZWJraXQtYmFja2dyb3VuZC1zaXplOjEwMCUgMTAwJX19I2xvZ297ZGlzcGxheTppbmxpbmUtYmxvY2s7aGVpZ2h0OjU0cHg7d2lkdGg6MTUwcHh9CiAgPC9zdHlsZT4KICA8YSBocmVmPS8vd3d3Lmdvb2dsZS5jb20vPjxzcGFuIGlkPWxvZ28gYXJpYS1sYWJlbD1Hb29nbGU+PC9zcGFuPjwvYT4KICA8cD48Yj40MDQuPC9iPiA8aW5zPlRoYXTigJlzIGFuIGVycm9yLjwvaW5zPgogIDxwPiAgPGlucz5UaGF04oCZcyBhbGwgd2Uga25vdy48L2lucz4K",
              "ok": false,
              "headers": [
                [
                  "content-length",
                  "1449"
                ],
                [
                  "content-type",
                  "text/html; charset=utf-8"
                ]
              ],
              "status": 404,
              "status_text": ""
            },
            "http://localhost:8080/dataset_students/classification/train_labelled/51.png": {
              "data": "CjwhRE9DVFlQRSBodG1sPgo8aHRtbCBsYW5nPWVuPgogIDxtZXRhIGNoYXJzZXQ9dXRmLTg+CiAgPG1ldGEgbmFtZT12aWV3cG9ydCBjb250ZW50PSJpbml0aWFsLXNjYWxlPTEsIG1pbmltdW0tc2NhbGU9MSwgd2lkdGg9ZGV2aWNlLXdpZHRoIj4KICA8dGl0bGU+RXJyb3IgNDA0IChOb3QgRm91bmQpISExPC90aXRsZT4KICA8c3R5bGU+CiAgICAqe21hcmdpbjowO3BhZGRpbmc6MH1odG1sLGNvZGV7Zm9udDoxNXB4LzIycHggYXJpYWwsc2Fucy1zZXJpZn1odG1se2JhY2tncm91bmQ6I2ZmZjtjb2xvcjojMjIyO3BhZGRpbmc6MTVweH1ib2R5e21hcmdpbjo3JSBhdXRvIDA7bWF4LXdpZHRoOjM5MHB4O21pbi1oZWlnaHQ6MTgwcHg7cGFkZGluZzozMHB4IDAgMTVweH0qID4gYm9keXtiYWNrZ3JvdW5kOnVybCgvL3d3dy5nb29nbGUuY29tL2ltYWdlcy9lcnJvcnMvcm9ib3QucG5nKSAxMDAlIDVweCBuby1yZXBlYXQ7cGFkZGluZy1yaWdodDoyMDVweH1we21hcmdpbjoxMXB4IDAgMjJweDtvdmVyZmxvdzpoaWRkZW59aW5ze2NvbG9yOiM3Nzc7dGV4dC1kZWNvcmF0aW9uOm5vbmV9YSBpbWd7Ym9yZGVyOjB9QG1lZGlhIHNjcmVlbiBhbmQgKG1heC13aWR0aDo3NzJweCl7Ym9keXtiYWNrZ3JvdW5kOm5vbmU7bWFyZ2luLXRvcDowO21heC13aWR0aDpub25lO3BhZGRpbmctcmlnaHQ6MH19I2xvZ297YmFja2dyb3VuZDp1cmwoLy93d3cuZ29vZ2xlLmNvbS9pbWFnZXMvbG9nb3MvZXJyb3JwYWdlL2Vycm9yX2xvZ28tMTUweDU0LnBuZykgbm8tcmVwZWF0O21hcmdpbi1sZWZ0Oi01cHh9QG1lZGlhIG9ubHkgc2NyZWVuIGFuZCAobWluLXJlc29sdXRpb246MTkyZHBpKXsjbG9nb3tiYWNrZ3JvdW5kOnVybCgvL3d3dy5nb29nbGUuY29tL2ltYWdlcy9sb2dvcy9lcnJvcnBhZ2UvZXJyb3JfbG9nby0xNTB4NTQtMngucG5nKSBuby1yZXBlYXQgMCUgMCUvMTAwJSAxMDAlOy1tb3otYm9yZGVyLWltYWdlOnVybCgvL3d3dy5nb29nbGUuY29tL2ltYWdlcy9sb2dvcy9lcnJvcnBhZ2UvZXJyb3JfbG9nby0xNTB4NTQtMngucG5nKSAwfX1AbWVkaWEgb25seSBzY3JlZW4gYW5kICgtd2Via2l0LW1pbi1kZXZpY2UtcGl4ZWwtcmF0aW86Mil7I2xvZ297YmFja2dyb3VuZDp1cmwoLy93d3cuZ29vZ2xlLmNvbS9pbWFnZXMvbG9nb3MvZXJyb3JwYWdlL2Vycm9yX2xvZ28tMTUweDU0LTJ4LnBuZykgbm8tcmVwZWF0Oy13ZWJraXQtYmFja2dyb3VuZC1zaXplOjEwMCUgMTAwJX19I2xvZ297ZGlzcGxheTppbmxpbmUtYmxvY2s7aGVpZ2h0OjU0cHg7d2lkdGg6MTUwcHh9CiAgPC9zdHlsZT4KICA8YSBocmVmPS8vd3d3Lmdvb2dsZS5jb20vPjxzcGFuIGlkPWxvZ28gYXJpYS1sYWJlbD1Hb29nbGU+PC9zcGFuPjwvYT4KICA8cD48Yj40MDQuPC9iPiA8aW5zPlRoYXTigJlzIGFuIGVycm9yLjwvaW5zPgogIDxwPiAgPGlucz5UaGF04oCZcyBhbGwgd2Uga25vdy48L2lucz4K",
              "ok": false,
              "headers": [
                [
                  "content-length",
                  "1449"
                ],
                [
                  "content-type",
                  "text/html; charset=utf-8"
                ]
              ],
              "status": 404,
              "status_text": ""
            },
            "http://localhost:8080/dataset_students/classification/train_unlabelled/1183.png": {
              "data": "CjwhRE9DVFlQRSBodG1sPgo8aHRtbCBsYW5nPWVuPgogIDxtZXRhIGNoYXJzZXQ9dXRmLTg+CiAgPG1ldGEgbmFtZT12aWV3cG9ydCBjb250ZW50PSJpbml0aWFsLXNjYWxlPTEsIG1pbmltdW0tc2NhbGU9MSwgd2lkdGg9ZGV2aWNlLXdpZHRoIj4KICA8dGl0bGU+RXJyb3IgNDA0IChOb3QgRm91bmQpISExPC90aXRsZT4KICA8c3R5bGU+CiAgICAqe21hcmdpbjowO3BhZGRpbmc6MH1odG1sLGNvZGV7Zm9udDoxNXB4LzIycHggYXJpYWwsc2Fucy1zZXJpZn1odG1se2JhY2tncm91bmQ6I2ZmZjtjb2xvcjojMjIyO3BhZGRpbmc6MTVweH1ib2R5e21hcmdpbjo3JSBhdXRvIDA7bWF4LXdpZHRoOjM5MHB4O21pbi1oZWlnaHQ6MTgwcHg7cGFkZGluZzozMHB4IDAgMTVweH0qID4gYm9keXtiYWNrZ3JvdW5kOnVybCgvL3d3dy5nb29nbGUuY29tL2ltYWdlcy9lcnJvcnMvcm9ib3QucG5nKSAxMDAlIDVweCBuby1yZXBlYXQ7cGFkZGluZy1yaWdodDoyMDVweH1we21hcmdpbjoxMXB4IDAgMjJweDtvdmVyZmxvdzpoaWRkZW59aW5ze2NvbG9yOiM3Nzc7dGV4dC1kZWNvcmF0aW9uOm5vbmV9YSBpbWd7Ym9yZGVyOjB9QG1lZGlhIHNjcmVlbiBhbmQgKG1heC13aWR0aDo3NzJweCl7Ym9keXtiYWNrZ3JvdW5kOm5vbmU7bWFyZ2luLXRvcDowO21heC13aWR0aDpub25lO3BhZGRpbmctcmlnaHQ6MH19I2xvZ297YmFja2dyb3VuZDp1cmwoLy93d3cuZ29vZ2xlLmNvbS9pbWFnZXMvbG9nb3MvZXJyb3JwYWdlL2Vycm9yX2xvZ28tMTUweDU0LnBuZykgbm8tcmVwZWF0O21hcmdpbi1sZWZ0Oi01cHh9QG1lZGlhIG9ubHkgc2NyZWVuIGFuZCAobWluLXJlc29sdXRpb246MTkyZHBpKXsjbG9nb3tiYWNrZ3JvdW5kOnVybCgvL3d3dy5nb29nbGUuY29tL2ltYWdlcy9sb2dvcy9lcnJvcnBhZ2UvZXJyb3JfbG9nby0xNTB4NTQtMngucG5nKSBuby1yZXBlYXQgMCUgMCUvMTAwJSAxMDAlOy1tb3otYm9yZGVyLWltYWdlOnVybCgvL3d3dy5nb29nbGUuY29tL2ltYWdlcy9sb2dvcy9lcnJvcnBhZ2UvZXJyb3JfbG9nby0xNTB4NTQtMngucG5nKSAwfX1AbWVkaWEgb25seSBzY3JlZW4gYW5kICgtd2Via2l0LW1pbi1kZXZpY2UtcGl4ZWwtcmF0aW86Mil7I2xvZ297YmFja2dyb3VuZDp1cmwoLy93d3cuZ29vZ2xlLmNvbS9pbWFnZXMvbG9nb3MvZXJyb3JwYWdlL2Vycm9yX2xvZ28tMTUweDU0LTJ4LnBuZykgbm8tcmVwZWF0Oy13ZWJraXQtYmFja2dyb3VuZC1zaXplOjEwMCUgMTAwJX19I2xvZ297ZGlzcGxheTppbmxpbmUtYmxvY2s7aGVpZ2h0OjU0cHg7d2lkdGg6MTUwcHh9CiAgPC9zdHlsZT4KICA8YSBocmVmPS8vd3d3Lmdvb2dsZS5jb20vPjxzcGFuIGlkPWxvZ28gYXJpYS1sYWJlbD1Hb29nbGU+PC9zcGFuPjwvYT4KICA8cD48Yj40MDQuPC9iPiA8aW5zPlRoYXTigJlzIGFuIGVycm9yLjwvaW5zPgogIDxwPiAgPGlucz5UaGF04oCZcyBhbGwgd2Uga25vdy48L2lucz4K",
              "ok": false,
              "headers": [
                [
                  "content-length",
                  "1449"
                ],
                [
                  "content-type",
                  "text/html; charset=utf-8"
                ]
              ],
              "status": 404,
              "status_text": ""
            },
            "http://localhost:8080/dataset_students/classification/train_labelled/45.png": {
              "data": "CjwhRE9DVFlQRSBodG1sPgo8aHRtbCBsYW5nPWVuPgogIDxtZXRhIGNoYXJzZXQ9dXRmLTg+CiAgPG1ldGEgbmFtZT12aWV3cG9ydCBjb250ZW50PSJpbml0aWFsLXNjYWxlPTEsIG1pbmltdW0tc2NhbGU9MSwgd2lkdGg9ZGV2aWNlLXdpZHRoIj4KICA8dGl0bGU+RXJyb3IgNDA0IChOb3QgRm91bmQpISExPC90aXRsZT4KICA8c3R5bGU+CiAgICAqe21hcmdpbjowO3BhZGRpbmc6MH1odG1sLGNvZGV7Zm9udDoxNXB4LzIycHggYXJpYWwsc2Fucy1zZXJpZn1odG1se2JhY2tncm91bmQ6I2ZmZjtjb2xvcjojMjIyO3BhZGRpbmc6MTVweH1ib2R5e21hcmdpbjo3JSBhdXRvIDA7bWF4LXdpZHRoOjM5MHB4O21pbi1oZWlnaHQ6MTgwcHg7cGFkZGluZzozMHB4IDAgMTVweH0qID4gYm9keXtiYWNrZ3JvdW5kOnVybCgvL3d3dy5nb29nbGUuY29tL2ltYWdlcy9lcnJvcnMvcm9ib3QucG5nKSAxMDAlIDVweCBuby1yZXBlYXQ7cGFkZGluZy1yaWdodDoyMDVweH1we21hcmdpbjoxMXB4IDAgMjJweDtvdmVyZmxvdzpoaWRkZW59aW5ze2NvbG9yOiM3Nzc7dGV4dC1kZWNvcmF0aW9uOm5vbmV9YSBpbWd7Ym9yZGVyOjB9QG1lZGlhIHNjcmVlbiBhbmQgKG1heC13aWR0aDo3NzJweCl7Ym9keXtiYWNrZ3JvdW5kOm5vbmU7bWFyZ2luLXRvcDowO21heC13aWR0aDpub25lO3BhZGRpbmctcmlnaHQ6MH19I2xvZ297YmFja2dyb3VuZDp1cmwoLy93d3cuZ29vZ2xlLmNvbS9pbWFnZXMvbG9nb3MvZXJyb3JwYWdlL2Vycm9yX2xvZ28tMTUweDU0LnBuZykgbm8tcmVwZWF0O21hcmdpbi1sZWZ0Oi01cHh9QG1lZGlhIG9ubHkgc2NyZWVuIGFuZCAobWluLXJlc29sdXRpb246MTkyZHBpKXsjbG9nb3tiYWNrZ3JvdW5kOnVybCgvL3d3dy5nb29nbGUuY29tL2ltYWdlcy9sb2dvcy9lcnJvcnBhZ2UvZXJyb3JfbG9nby0xNTB4NTQtMngucG5nKSBuby1yZXBlYXQgMCUgMCUvMTAwJSAxMDAlOy1tb3otYm9yZGVyLWltYWdlOnVybCgvL3d3dy5nb29nbGUuY29tL2ltYWdlcy9sb2dvcy9lcnJvcnBhZ2UvZXJyb3JfbG9nby0xNTB4NTQtMngucG5nKSAwfX1AbWVkaWEgb25seSBzY3JlZW4gYW5kICgtd2Via2l0LW1pbi1kZXZpY2UtcGl4ZWwtcmF0aW86Mil7I2xvZ297YmFja2dyb3VuZDp1cmwoLy93d3cuZ29vZ2xlLmNvbS9pbWFnZXMvbG9nb3MvZXJyb3JwYWdlL2Vycm9yX2xvZ28tMTUweDU0LTJ4LnBuZykgbm8tcmVwZWF0Oy13ZWJraXQtYmFja2dyb3VuZC1zaXplOjEwMCUgMTAwJX19I2xvZ297ZGlzcGxheTppbmxpbmUtYmxvY2s7aGVpZ2h0OjU0cHg7d2lkdGg6MTUwcHh9CiAgPC9zdHlsZT4KICA8YSBocmVmPS8vd3d3Lmdvb2dsZS5jb20vPjxzcGFuIGlkPWxvZ28gYXJpYS1sYWJlbD1Hb29nbGU+PC9zcGFuPjwvYT4KICA8cD48Yj40MDQuPC9iPiA8aW5zPlRoYXTigJlzIGFuIGVycm9yLjwvaW5zPgogIDxwPiAgPGlucz5UaGF04oCZcyBhbGwgd2Uga25vdy48L2lucz4K",
              "ok": false,
              "headers": [
                [
                  "content-length",
                  "1449"
                ],
                [
                  "content-type",
                  "text/html; charset=utf-8"
                ]
              ],
              "status": 404,
              "status_text": ""
            },
            "http://localhost:8080/dataset_students/classification/train_unlabelled/760.png": {
              "data": "CjwhRE9DVFlQRSBodG1sPgo8aHRtbCBsYW5nPWVuPgogIDxtZXRhIGNoYXJzZXQ9dXRmLTg+CiAgPG1ldGEgbmFtZT12aWV3cG9ydCBjb250ZW50PSJpbml0aWFsLXNjYWxlPTEsIG1pbmltdW0tc2NhbGU9MSwgd2lkdGg9ZGV2aWNlLXdpZHRoIj4KICA8dGl0bGU+RXJyb3IgNDA0IChOb3QgRm91bmQpISExPC90aXRsZT4KICA8c3R5bGU+CiAgICAqe21hcmdpbjowO3BhZGRpbmc6MH1odG1sLGNvZGV7Zm9udDoxNXB4LzIycHggYXJpYWwsc2Fucy1zZXJpZn1odG1se2JhY2tncm91bmQ6I2ZmZjtjb2xvcjojMjIyO3BhZGRpbmc6MTVweH1ib2R5e21hcmdpbjo3JSBhdXRvIDA7bWF4LXdpZHRoOjM5MHB4O21pbi1oZWlnaHQ6MTgwcHg7cGFkZGluZzozMHB4IDAgMTVweH0qID4gYm9keXtiYWNrZ3JvdW5kOnVybCgvL3d3dy5nb29nbGUuY29tL2ltYWdlcy9lcnJvcnMvcm9ib3QucG5nKSAxMDAlIDVweCBuby1yZXBlYXQ7cGFkZGluZy1yaWdodDoyMDVweH1we21hcmdpbjoxMXB4IDAgMjJweDtvdmVyZmxvdzpoaWRkZW59aW5ze2NvbG9yOiM3Nzc7dGV4dC1kZWNvcmF0aW9uOm5vbmV9YSBpbWd7Ym9yZGVyOjB9QG1lZGlhIHNjcmVlbiBhbmQgKG1heC13aWR0aDo3NzJweCl7Ym9keXtiYWNrZ3JvdW5kOm5vbmU7bWFyZ2luLXRvcDowO21heC13aWR0aDpub25lO3BhZGRpbmctcmlnaHQ6MH19I2xvZ297YmFja2dyb3VuZDp1cmwoLy93d3cuZ29vZ2xlLmNvbS9pbWFnZXMvbG9nb3MvZXJyb3JwYWdlL2Vycm9yX2xvZ28tMTUweDU0LnBuZykgbm8tcmVwZWF0O21hcmdpbi1sZWZ0Oi01cHh9QG1lZGlhIG9ubHkgc2NyZWVuIGFuZCAobWluLXJlc29sdXRpb246MTkyZHBpKXsjbG9nb3tiYWNrZ3JvdW5kOnVybCgvL3d3dy5nb29nbGUuY29tL2ltYWdlcy9sb2dvcy9lcnJvcnBhZ2UvZXJyb3JfbG9nby0xNTB4NTQtMngucG5nKSBuby1yZXBlYXQgMCUgMCUvMTAwJSAxMDAlOy1tb3otYm9yZGVyLWltYWdlOnVybCgvL3d3dy5nb29nbGUuY29tL2ltYWdlcy9sb2dvcy9lcnJvcnBhZ2UvZXJyb3JfbG9nby0xNTB4NTQtMngucG5nKSAwfX1AbWVkaWEgb25seSBzY3JlZW4gYW5kICgtd2Via2l0LW1pbi1kZXZpY2UtcGl4ZWwtcmF0aW86Mil7I2xvZ297YmFja2dyb3VuZDp1cmwoLy93d3cuZ29vZ2xlLmNvbS9pbWFnZXMvbG9nb3MvZXJyb3JwYWdlL2Vycm9yX2xvZ28tMTUweDU0LTJ4LnBuZykgbm8tcmVwZWF0Oy13ZWJraXQtYmFja2dyb3VuZC1zaXplOjEwMCUgMTAwJX19I2xvZ297ZGlzcGxheTppbmxpbmUtYmxvY2s7aGVpZ2h0OjU0cHg7d2lkdGg6MTUwcHh9CiAgPC9zdHlsZT4KICA8YSBocmVmPS8vd3d3Lmdvb2dsZS5jb20vPjxzcGFuIGlkPWxvZ28gYXJpYS1sYWJlbD1Hb29nbGU+PC9zcGFuPjwvYT4KICA8cD48Yj40MDQuPC9iPiA8aW5zPlRoYXTigJlzIGFuIGVycm9yLjwvaW5zPgogIDxwPiAgPGlucz5UaGF04oCZcyBhbGwgd2Uga25vdy48L2lucz4K",
              "ok": false,
              "headers": [
                [
                  "content-length",
                  "1449"
                ],
                [
                  "content-type",
                  "text/html; charset=utf-8"
                ]
              ],
              "status": 404,
              "status_text": ""
            },
            "http://localhost:8080/dataset_students/classification/train_labelled/21.png": {
              "data": "CjwhRE9DVFlQRSBodG1sPgo8aHRtbCBsYW5nPWVuPgogIDxtZXRhIGNoYXJzZXQ9dXRmLTg+CiAgPG1ldGEgbmFtZT12aWV3cG9ydCBjb250ZW50PSJpbml0aWFsLXNjYWxlPTEsIG1pbmltdW0tc2NhbGU9MSwgd2lkdGg9ZGV2aWNlLXdpZHRoIj4KICA8dGl0bGU+RXJyb3IgNDA0IChOb3QgRm91bmQpISExPC90aXRsZT4KICA8c3R5bGU+CiAgICAqe21hcmdpbjowO3BhZGRpbmc6MH1odG1sLGNvZGV7Zm9udDoxNXB4LzIycHggYXJpYWwsc2Fucy1zZXJpZn1odG1se2JhY2tncm91bmQ6I2ZmZjtjb2xvcjojMjIyO3BhZGRpbmc6MTVweH1ib2R5e21hcmdpbjo3JSBhdXRvIDA7bWF4LXdpZHRoOjM5MHB4O21pbi1oZWlnaHQ6MTgwcHg7cGFkZGluZzozMHB4IDAgMTVweH0qID4gYm9keXtiYWNrZ3JvdW5kOnVybCgvL3d3dy5nb29nbGUuY29tL2ltYWdlcy9lcnJvcnMvcm9ib3QucG5nKSAxMDAlIDVweCBuby1yZXBlYXQ7cGFkZGluZy1yaWdodDoyMDVweH1we21hcmdpbjoxMXB4IDAgMjJweDtvdmVyZmxvdzpoaWRkZW59aW5ze2NvbG9yOiM3Nzc7dGV4dC1kZWNvcmF0aW9uOm5vbmV9YSBpbWd7Ym9yZGVyOjB9QG1lZGlhIHNjcmVlbiBhbmQgKG1heC13aWR0aDo3NzJweCl7Ym9keXtiYWNrZ3JvdW5kOm5vbmU7bWFyZ2luLXRvcDowO21heC13aWR0aDpub25lO3BhZGRpbmctcmlnaHQ6MH19I2xvZ297YmFja2dyb3VuZDp1cmwoLy93d3cuZ29vZ2xlLmNvbS9pbWFnZXMvbG9nb3MvZXJyb3JwYWdlL2Vycm9yX2xvZ28tMTUweDU0LnBuZykgbm8tcmVwZWF0O21hcmdpbi1sZWZ0Oi01cHh9QG1lZGlhIG9ubHkgc2NyZWVuIGFuZCAobWluLXJlc29sdXRpb246MTkyZHBpKXsjbG9nb3tiYWNrZ3JvdW5kOnVybCgvL3d3dy5nb29nbGUuY29tL2ltYWdlcy9sb2dvcy9lcnJvcnBhZ2UvZXJyb3JfbG9nby0xNTB4NTQtMngucG5nKSBuby1yZXBlYXQgMCUgMCUvMTAwJSAxMDAlOy1tb3otYm9yZGVyLWltYWdlOnVybCgvL3d3dy5nb29nbGUuY29tL2ltYWdlcy9sb2dvcy9lcnJvcnBhZ2UvZXJyb3JfbG9nby0xNTB4NTQtMngucG5nKSAwfX1AbWVkaWEgb25seSBzY3JlZW4gYW5kICgtd2Via2l0LW1pbi1kZXZpY2UtcGl4ZWwtcmF0aW86Mil7I2xvZ297YmFja2dyb3VuZDp1cmwoLy93d3cuZ29vZ2xlLmNvbS9pbWFnZXMvbG9nb3MvZXJyb3JwYWdlL2Vycm9yX2xvZ28tMTUweDU0LTJ4LnBuZykgbm8tcmVwZWF0Oy13ZWJraXQtYmFja2dyb3VuZC1zaXplOjEwMCUgMTAwJX19I2xvZ297ZGlzcGxheTppbmxpbmUtYmxvY2s7aGVpZ2h0OjU0cHg7d2lkdGg6MTUwcHh9CiAgPC9zdHlsZT4KICA8YSBocmVmPS8vd3d3Lmdvb2dsZS5jb20vPjxzcGFuIGlkPWxvZ28gYXJpYS1sYWJlbD1Hb29nbGU+PC9zcGFuPjwvYT4KICA8cD48Yj40MDQuPC9iPiA8aW5zPlRoYXTigJlzIGFuIGVycm9yLjwvaW5zPgogIDxwPiAgPGlucz5UaGF04oCZcyBhbGwgd2Uga25vdy48L2lucz4K",
              "ok": false,
              "headers": [
                [
                  "content-length",
                  "1449"
                ],
                [
                  "content-type",
                  "text/html; charset=utf-8"
                ]
              ],
              "status": 404,
              "status_text": ""
            }
          },
          "base_uri": "https://localhost:8080/",
          "height": 473
        }
      },
      "outputs": [
        {
          "output_type": "display_data",
          "data": {
            "text/plain": [
              "<IPython.core.display.HTML object>"
            ],
            "text/html": [
              "\n",
              "    <style>\n",
              "        #ipyplot-html-viewer-toggle-RJfDmBWk4gXuQyJLcaKBdL {\n",
              "            position: absolute;\n",
              "            top: -9999px;\n",
              "            left: -9999px;\n",
              "            visibility: hidden;\n",
              "        }\n",
              "\n",
              "        #ipyplot-html-viewer-label-RJfDmBWk4gXuQyJLcaKBdL { \n",
              "            position: relative;\n",
              "            display: inline-block;\n",
              "            cursor: pointer;\n",
              "            color: blue;\n",
              "            text-decoration: underline;\n",
              "        }\n",
              "\n",
              "        #ipyplot-html-viewer-textarea-RJfDmBWk4gXuQyJLcaKBdL {\n",
              "            background: lightgrey;\n",
              "            width: 100%;\n",
              "            height: 0px;\n",
              "            display: none;\n",
              "        }\n",
              "\n",
              "        #ipyplot-html-viewer-toggle-RJfDmBWk4gXuQyJLcaKBdL:checked ~ #ipyplot-html-viewer-textarea-RJfDmBWk4gXuQyJLcaKBdL {\n",
              "            height: 200px;\n",
              "            display: block;\n",
              "        }\n",
              "\n",
              "        #ipyplot-html-viewer-toggle-RJfDmBWk4gXuQyJLcaKBdL:checked + #ipyplot-html-viewer-label-RJfDmBWk4gXuQyJLcaKBdL:after {\n",
              "            content: \"hide html\";\n",
              "            position: absolute;\n",
              "            top: 0;\n",
              "            left: 0;\n",
              "            right: 0;\n",
              "            bottom: 0;\n",
              "            background: white;\n",
              "            cursor: pointer;\n",
              "            color: blue;\n",
              "            text-decoration: underline;\n",
              "        }\n",
              "    </style>\n",
              "    <div>\n",
              "        <input type=\"checkbox\" id=\"ipyplot-html-viewer-toggle-RJfDmBWk4gXuQyJLcaKBdL\">\n",
              "        <label id=\"ipyplot-html-viewer-label-RJfDmBWk4gXuQyJLcaKBdL\" for=\"ipyplot-html-viewer-toggle-RJfDmBWk4gXuQyJLcaKBdL\">show html</label>\n",
              "        <textarea id=\"ipyplot-html-viewer-textarea-RJfDmBWk4gXuQyJLcaKBdL\" readonly>\n",
              "            <div>\n",
              "        <style>\n",
              "            input.ipyplot-tab-53oztfAF99u6XpnmHVy4Gc {\n",
              "                display: none;\n",
              "            }\n",
              "            input.ipyplot-tab-53oztfAF99u6XpnmHVy4Gc + label.ipyplot-tab-label-53oztfAF99u6XpnmHVy4Gc {\n",
              "                border: 1px solid #999;\n",
              "                background: #EEE;\n",
              "                padding: 4px 12px;\n",
              "                border-radius: 4px 4px 0 0;\n",
              "                position: relative;\n",
              "                top: 1px;\n",
              "            }\n",
              "            input.ipyplot-tab-53oztfAF99u6XpnmHVy4Gc:checked + label.ipyplot-tab-label-53oztfAF99u6XpnmHVy4Gc {\n",
              "                background: #FFF;\n",
              "                border-bottom: 1px solid transparent;\n",
              "            }\n",
              "            input.ipyplot-tab-53oztfAF99u6XpnmHVy4Gc ~ .tab {\n",
              "                border-top: 1px solid #999;\n",
              "                padding: 12px;\n",
              "            }\n",
              "\n",
              "            input.ipyplot-tab-53oztfAF99u6XpnmHVy4Gc ~ .tab {\n",
              "                display: none\n",
              "            }\n",
              "    #tabAZBn4eXJn8E236Zqum9JvX:checked ~ .tab.contentAZBn4eXJn8E236Zqum9JvX,#tabPDUKT9HDnbL5fhQ6ut2XTP:checked ~ .tab.contentPDUKT9HDnbL5fhQ6ut2XTP,#tab94SvHq4FH9a92BgpKf2pAm:checked ~ .tab.content94SvHq4FH9a92BgpKf2pAm{ display: block; }</style><input class=\"ipyplot-tab-53oztfAF99u6XpnmHVy4Gc\" type=\"radio\" name=\"tabs-53oztfAF99u6XpnmHVy4Gc\" id=\"tabAZBn4eXJn8E236Zqum9JvX\" checked /><label class=\"ipyplot-tab-label-53oztfAF99u6XpnmHVy4Gc\" for=\"tabAZBn4eXJn8E236Zqum9JvX\">0</label><input class=\"ipyplot-tab-53oztfAF99u6XpnmHVy4Gc\" type=\"radio\" name=\"tabs-53oztfAF99u6XpnmHVy4Gc\" id=\"tabPDUKT9HDnbL5fhQ6ut2XTP\"/><label class=\"ipyplot-tab-label-53oztfAF99u6XpnmHVy4Gc\" for=\"tabPDUKT9HDnbL5fhQ6ut2XTP\">1</label><input class=\"ipyplot-tab-53oztfAF99u6XpnmHVy4Gc\" type=\"radio\" name=\"tabs-53oztfAF99u6XpnmHVy4Gc\" id=\"tab94SvHq4FH9a92BgpKf2pAm\"/><label class=\"ipyplot-tab-label-53oztfAF99u6XpnmHVy4Gc\" for=\"tab94SvHq4FH9a92BgpKf2pAm\">2</label><div class=\"tab contentAZBn4eXJn8E236Zqum9JvX\">\n",
              "        <style>\n",
              "        #ipyplot-imgs-container-div-QNgyoNvqGexibESMdSxdj2 {\n",
              "            width: 100%;\n",
              "            height: 100%;\n",
              "            margin: 0%;\n",
              "            overflow: auto;\n",
              "            position: relative;\n",
              "            overflow-y: scroll;\n",
              "        }\n",
              "\n",
              "        div.ipyplot-placeholder-div-QNgyoNvqGexibESMdSxdj2 {\n",
              "            width: 150px;\n",
              "            display: inline-block;\n",
              "            margin: 3px;\n",
              "            position: relative;\n",
              "        }\n",
              "\n",
              "        div.ipyplot-content-div-QNgyoNvqGexibESMdSxdj2 {\n",
              "            width: 150px;\n",
              "            background: white;\n",
              "            display: inline-block;\n",
              "            vertical-align: top;\n",
              "            text-align: center;\n",
              "            position: relative;\n",
              "            border: 2px solid #ddd;\n",
              "            top: 0;\n",
              "            left: 0;\n",
              "        }\n",
              "\n",
              "        div.ipyplot-content-div-QNgyoNvqGexibESMdSxdj2 span.ipyplot-img-close {\n",
              "            display: none;\n",
              "        }\n",
              "\n",
              "        div.ipyplot-content-div-QNgyoNvqGexibESMdSxdj2 span {\n",
              "            width: 100%;\n",
              "            height: 100%;\n",
              "            position: absolute;\n",
              "            top: 0;\n",
              "            left: 0;\n",
              "        }\n",
              "\n",
              "        div.ipyplot-content-div-QNgyoNvqGexibESMdSxdj2 img {\n",
              "            width: 150px;\n",
              "        }\n",
              "\n",
              "        div.ipyplot-content-div-QNgyoNvqGexibESMdSxdj2 span.ipyplot-img-close:hover {\n",
              "            cursor: zoom-out;\n",
              "        }\n",
              "        div.ipyplot-content-div-QNgyoNvqGexibESMdSxdj2 span.ipyplot-img-expand:hover {\n",
              "            cursor: zoom-in;\n",
              "        }\n",
              "\n",
              "        div[id^=ipyplot-content-div-QNgyoNvqGexibESMdSxdj2]:target {\n",
              "            transform: scale(2.5);\n",
              "            transform-origin: left top;\n",
              "            z-index: 5000;\n",
              "            top: 0;\n",
              "            left: 0;\n",
              "            position: absolute;\n",
              "        }\n",
              "\n",
              "        div[id^=ipyplot-content-div-QNgyoNvqGexibESMdSxdj2]:target span.ipyplot-img-close {\n",
              "            display: block;\n",
              "        }\n",
              "\n",
              "        div[id^=ipyplot-content-div-QNgyoNvqGexibESMdSxdj2]:target span.ipyplot-img-expand {\n",
              "            display: none;\n",
              "        }\n",
              "        </style>\n",
              "    <div id=\"ipyplot-imgs-container-div-QNgyoNvqGexibESMdSxdj2\">\n",
              "    <div class=\"ipyplot-placeholder-div-QNgyoNvqGexibESMdSxdj2\">\n",
              "        <div id=\"ipyplot-content-div-QNgyoNvqGexibESMdSxdj2-WNnThW3hz8MqBTrmEw8WcD\" class=\"ipyplot-content-div-QNgyoNvqGexibESMdSxdj2\">\n",
              "            <h4 style=\"font-size: 12px; word-wrap: break-word;\">0</h4>\n",
              "            <h4 style=\"font-size: 9px; padding-left: 10px; padding-right: 10px; width: 95%; word-wrap: break-word; white-space: normal;\">dataset_students/classification/train_labelled/0.png</h4><img src=\"dataset_students/classification/train_labelled/0.png\"/>\n",
              "            <a href=\"#!\">\n",
              "                <span class=\"ipyplot-img-close\"/>\n",
              "            </a>\n",
              "            <a href=\"#ipyplot-content-div-QNgyoNvqGexibESMdSxdj2-WNnThW3hz8MqBTrmEw8WcD\">\n",
              "                <span class=\"ipyplot-img-expand\"/>\n",
              "            </a>\n",
              "        </div>\n",
              "    </div>\n",
              "    \n",
              "    <div class=\"ipyplot-placeholder-div-QNgyoNvqGexibESMdSxdj2\">\n",
              "        <div id=\"ipyplot-content-div-QNgyoNvqGexibESMdSxdj2-SgHiwVL3SmNgKmsoER4cuw\" class=\"ipyplot-content-div-QNgyoNvqGexibESMdSxdj2\">\n",
              "            <h4 style=\"font-size: 12px; word-wrap: break-word;\">1</h4>\n",
              "            <h4 style=\"font-size: 9px; padding-left: 10px; padding-right: 10px; width: 95%; word-wrap: break-word; white-space: normal;\">dataset_students/classification/train_labelled/5.png</h4><img src=\"dataset_students/classification/train_labelled/5.png\"/>\n",
              "            <a href=\"#!\">\n",
              "                <span class=\"ipyplot-img-close\"/>\n",
              "            </a>\n",
              "            <a href=\"#ipyplot-content-div-QNgyoNvqGexibESMdSxdj2-SgHiwVL3SmNgKmsoER4cuw\">\n",
              "                <span class=\"ipyplot-img-expand\"/>\n",
              "            </a>\n",
              "        </div>\n",
              "    </div>\n",
              "    \n",
              "    <div class=\"ipyplot-placeholder-div-QNgyoNvqGexibESMdSxdj2\">\n",
              "        <div id=\"ipyplot-content-div-QNgyoNvqGexibESMdSxdj2-8AMe2sEZQgWncvBWz8AMxs\" class=\"ipyplot-content-div-QNgyoNvqGexibESMdSxdj2\">\n",
              "            <h4 style=\"font-size: 12px; word-wrap: break-word;\">2</h4>\n",
              "            <h4 style=\"font-size: 9px; padding-left: 10px; padding-right: 10px; width: 95%; word-wrap: break-word; white-space: normal;\">dataset_students/classification/train_labelled/7.png</h4><img src=\"dataset_students/classification/train_labelled/7.png\"/>\n",
              "            <a href=\"#!\">\n",
              "                <span class=\"ipyplot-img-close\"/>\n",
              "            </a>\n",
              "            <a href=\"#ipyplot-content-div-QNgyoNvqGexibESMdSxdj2-8AMe2sEZQgWncvBWz8AMxs\">\n",
              "                <span class=\"ipyplot-img-expand\"/>\n",
              "            </a>\n",
              "        </div>\n",
              "    </div>\n",
              "    \n",
              "    <div class=\"ipyplot-placeholder-div-QNgyoNvqGexibESMdSxdj2\">\n",
              "        <div id=\"ipyplot-content-div-QNgyoNvqGexibESMdSxdj2-PU4VevCpjQrJcNhBt2e75h\" class=\"ipyplot-content-div-QNgyoNvqGexibESMdSxdj2\">\n",
              "            <h4 style=\"font-size: 12px; word-wrap: break-word;\">3</h4>\n",
              "            <h4 style=\"font-size: 9px; padding-left: 10px; padding-right: 10px; width: 95%; word-wrap: break-word; white-space: normal;\">dataset_students/classification/train_labelled/8.png</h4><img src=\"dataset_students/classification/train_labelled/8.png\"/>\n",
              "            <a href=\"#!\">\n",
              "                <span class=\"ipyplot-img-close\"/>\n",
              "            </a>\n",
              "            <a href=\"#ipyplot-content-div-QNgyoNvqGexibESMdSxdj2-PU4VevCpjQrJcNhBt2e75h\">\n",
              "                <span class=\"ipyplot-img-expand\"/>\n",
              "            </a>\n",
              "        </div>\n",
              "    </div>\n",
              "    \n",
              "    <div class=\"ipyplot-placeholder-div-QNgyoNvqGexibESMdSxdj2\">\n",
              "        <div id=\"ipyplot-content-div-QNgyoNvqGexibESMdSxdj2-5aYxXEjEmMhSUa3CPdQ7sV\" class=\"ipyplot-content-div-QNgyoNvqGexibESMdSxdj2\">\n",
              "            <h4 style=\"font-size: 12px; word-wrap: break-word;\">4</h4>\n",
              "            <h4 style=\"font-size: 9px; padding-left: 10px; padding-right: 10px; width: 95%; word-wrap: break-word; white-space: normal;\">dataset_students/classification/train_labelled/11.png</h4><img src=\"dataset_students/classification/train_labelled/11.png\"/>\n",
              "            <a href=\"#!\">\n",
              "                <span class=\"ipyplot-img-close\"/>\n",
              "            </a>\n",
              "            <a href=\"#ipyplot-content-div-QNgyoNvqGexibESMdSxdj2-5aYxXEjEmMhSUa3CPdQ7sV\">\n",
              "                <span class=\"ipyplot-img-expand\"/>\n",
              "            </a>\n",
              "        </div>\n",
              "    </div>\n",
              "    \n",
              "    <div class=\"ipyplot-placeholder-div-QNgyoNvqGexibESMdSxdj2\">\n",
              "        <div id=\"ipyplot-content-div-QNgyoNvqGexibESMdSxdj2-FCAnJg69RiEH5CYX697irm\" class=\"ipyplot-content-div-QNgyoNvqGexibESMdSxdj2\">\n",
              "            <h4 style=\"font-size: 12px; word-wrap: break-word;\">5</h4>\n",
              "            <h4 style=\"font-size: 9px; padding-left: 10px; padding-right: 10px; width: 95%; word-wrap: break-word; white-space: normal;\">dataset_students/classification/train_labelled/13.png</h4><img src=\"dataset_students/classification/train_labelled/13.png\"/>\n",
              "            <a href=\"#!\">\n",
              "                <span class=\"ipyplot-img-close\"/>\n",
              "            </a>\n",
              "            <a href=\"#ipyplot-content-div-QNgyoNvqGexibESMdSxdj2-FCAnJg69RiEH5CYX697irm\">\n",
              "                <span class=\"ipyplot-img-expand\"/>\n",
              "            </a>\n",
              "        </div>\n",
              "    </div>\n",
              "    \n",
              "    <div class=\"ipyplot-placeholder-div-QNgyoNvqGexibESMdSxdj2\">\n",
              "        <div id=\"ipyplot-content-div-QNgyoNvqGexibESMdSxdj2-MuAQn6hFV27PGyWW4otMVa\" class=\"ipyplot-content-div-QNgyoNvqGexibESMdSxdj2\">\n",
              "            <h4 style=\"font-size: 12px; word-wrap: break-word;\">6</h4>\n",
              "            <h4 style=\"font-size: 9px; padding-left: 10px; padding-right: 10px; width: 95%; word-wrap: break-word; white-space: normal;\">dataset_students/classification/train_labelled/14.png</h4><img src=\"dataset_students/classification/train_labelled/14.png\"/>\n",
              "            <a href=\"#!\">\n",
              "                <span class=\"ipyplot-img-close\"/>\n",
              "            </a>\n",
              "            <a href=\"#ipyplot-content-div-QNgyoNvqGexibESMdSxdj2-MuAQn6hFV27PGyWW4otMVa\">\n",
              "                <span class=\"ipyplot-img-expand\"/>\n",
              "            </a>\n",
              "        </div>\n",
              "    </div>\n",
              "    \n",
              "    <div class=\"ipyplot-placeholder-div-QNgyoNvqGexibESMdSxdj2\">\n",
              "        <div id=\"ipyplot-content-div-QNgyoNvqGexibESMdSxdj2-AkLAkhCGv67YZuosHpvfCg\" class=\"ipyplot-content-div-QNgyoNvqGexibESMdSxdj2\">\n",
              "            <h4 style=\"font-size: 12px; word-wrap: break-word;\">7</h4>\n",
              "            <h4 style=\"font-size: 9px; padding-left: 10px; padding-right: 10px; width: 95%; word-wrap: break-word; white-space: normal;\">dataset_students/classification/train_labelled/16.png</h4><img src=\"dataset_students/classification/train_labelled/16.png\"/>\n",
              "            <a href=\"#!\">\n",
              "                <span class=\"ipyplot-img-close\"/>\n",
              "            </a>\n",
              "            <a href=\"#ipyplot-content-div-QNgyoNvqGexibESMdSxdj2-AkLAkhCGv67YZuosHpvfCg\">\n",
              "                <span class=\"ipyplot-img-expand\"/>\n",
              "            </a>\n",
              "        </div>\n",
              "    </div>\n",
              "    \n",
              "    <div class=\"ipyplot-placeholder-div-QNgyoNvqGexibESMdSxdj2\">\n",
              "        <div id=\"ipyplot-content-div-QNgyoNvqGexibESMdSxdj2-Gvi5ijQrauTJCxcNLg8yrr\" class=\"ipyplot-content-div-QNgyoNvqGexibESMdSxdj2\">\n",
              "            <h4 style=\"font-size: 12px; word-wrap: break-word;\">8</h4>\n",
              "            <h4 style=\"font-size: 9px; padding-left: 10px; padding-right: 10px; width: 95%; word-wrap: break-word; white-space: normal;\">dataset_students/classification/train_labelled/17.png</h4><img src=\"dataset_students/classification/train_labelled/17.png\"/>\n",
              "            <a href=\"#!\">\n",
              "                <span class=\"ipyplot-img-close\"/>\n",
              "            </a>\n",
              "            <a href=\"#ipyplot-content-div-QNgyoNvqGexibESMdSxdj2-Gvi5ijQrauTJCxcNLg8yrr\">\n",
              "                <span class=\"ipyplot-img-expand\"/>\n",
              "            </a>\n",
              "        </div>\n",
              "    </div>\n",
              "    \n",
              "    <div class=\"ipyplot-placeholder-div-QNgyoNvqGexibESMdSxdj2\">\n",
              "        <div id=\"ipyplot-content-div-QNgyoNvqGexibESMdSxdj2-6u9BXK98a2yFMSTCxwGuAq\" class=\"ipyplot-content-div-QNgyoNvqGexibESMdSxdj2\">\n",
              "            <h4 style=\"font-size: 12px; word-wrap: break-word;\">9</h4>\n",
              "            <h4 style=\"font-size: 9px; padding-left: 10px; padding-right: 10px; width: 95%; word-wrap: break-word; white-space: normal;\">dataset_students/classification/train_labelled/18.png</h4><img src=\"dataset_students/classification/train_labelled/18.png\"/>\n",
              "            <a href=\"#!\">\n",
              "                <span class=\"ipyplot-img-close\"/>\n",
              "            </a>\n",
              "            <a href=\"#ipyplot-content-div-QNgyoNvqGexibESMdSxdj2-6u9BXK98a2yFMSTCxwGuAq\">\n",
              "                <span class=\"ipyplot-img-expand\"/>\n",
              "            </a>\n",
              "        </div>\n",
              "    </div>\n",
              "    \n",
              "    <div class=\"ipyplot-placeholder-div-QNgyoNvqGexibESMdSxdj2\">\n",
              "        <div id=\"ipyplot-content-div-QNgyoNvqGexibESMdSxdj2-X9TnRZcA63p9Gc6A34bYSq\" class=\"ipyplot-content-div-QNgyoNvqGexibESMdSxdj2\">\n",
              "            <h4 style=\"font-size: 12px; word-wrap: break-word;\">10</h4>\n",
              "            <h4 style=\"font-size: 9px; padding-left: 10px; padding-right: 10px; width: 95%; word-wrap: break-word; white-space: normal;\">dataset_students/classification/train_labelled/19.png</h4><img src=\"dataset_students/classification/train_labelled/19.png\"/>\n",
              "            <a href=\"#!\">\n",
              "                <span class=\"ipyplot-img-close\"/>\n",
              "            </a>\n",
              "            <a href=\"#ipyplot-content-div-QNgyoNvqGexibESMdSxdj2-X9TnRZcA63p9Gc6A34bYSq\">\n",
              "                <span class=\"ipyplot-img-expand\"/>\n",
              "            </a>\n",
              "        </div>\n",
              "    </div>\n",
              "    \n",
              "    <div class=\"ipyplot-placeholder-div-QNgyoNvqGexibESMdSxdj2\">\n",
              "        <div id=\"ipyplot-content-div-QNgyoNvqGexibESMdSxdj2-Mtk7YGahYXW9NB7ZygCKUQ\" class=\"ipyplot-content-div-QNgyoNvqGexibESMdSxdj2\">\n",
              "            <h4 style=\"font-size: 12px; word-wrap: break-word;\">11</h4>\n",
              "            <h4 style=\"font-size: 9px; padding-left: 10px; padding-right: 10px; width: 95%; word-wrap: break-word; white-space: normal;\">dataset_students/classification/train_labelled/21.png</h4><img src=\"dataset_students/classification/train_labelled/21.png\"/>\n",
              "            <a href=\"#!\">\n",
              "                <span class=\"ipyplot-img-close\"/>\n",
              "            </a>\n",
              "            <a href=\"#ipyplot-content-div-QNgyoNvqGexibESMdSxdj2-Mtk7YGahYXW9NB7ZygCKUQ\">\n",
              "                <span class=\"ipyplot-img-expand\"/>\n",
              "            </a>\n",
              "        </div>\n",
              "    </div>\n",
              "    \n",
              "    <div class=\"ipyplot-placeholder-div-QNgyoNvqGexibESMdSxdj2\">\n",
              "        <div id=\"ipyplot-content-div-QNgyoNvqGexibESMdSxdj2-BizCXxVbLovZuKbohAMtYS\" class=\"ipyplot-content-div-QNgyoNvqGexibESMdSxdj2\">\n",
              "            <h4 style=\"font-size: 12px; word-wrap: break-word;\">12</h4>\n",
              "            <h4 style=\"font-size: 9px; padding-left: 10px; padding-right: 10px; width: 95%; word-wrap: break-word; white-space: normal;\">dataset_students/classification/train_labelled/22.png</h4><img src=\"dataset_students/classification/train_labelled/22.png\"/>\n",
              "            <a href=\"#!\">\n",
              "                <span class=\"ipyplot-img-close\"/>\n",
              "            </a>\n",
              "            <a href=\"#ipyplot-content-div-QNgyoNvqGexibESMdSxdj2-BizCXxVbLovZuKbohAMtYS\">\n",
              "                <span class=\"ipyplot-img-expand\"/>\n",
              "            </a>\n",
              "        </div>\n",
              "    </div>\n",
              "    \n",
              "    <div class=\"ipyplot-placeholder-div-QNgyoNvqGexibESMdSxdj2\">\n",
              "        <div id=\"ipyplot-content-div-QNgyoNvqGexibESMdSxdj2-bF9D8ExEx29rBcCwf6Urj2\" class=\"ipyplot-content-div-QNgyoNvqGexibESMdSxdj2\">\n",
              "            <h4 style=\"font-size: 12px; word-wrap: break-word;\">13</h4>\n",
              "            <h4 style=\"font-size: 9px; padding-left: 10px; padding-right: 10px; width: 95%; word-wrap: break-word; white-space: normal;\">dataset_students/classification/train_labelled/25.png</h4><img src=\"dataset_students/classification/train_labelled/25.png\"/>\n",
              "            <a href=\"#!\">\n",
              "                <span class=\"ipyplot-img-close\"/>\n",
              "            </a>\n",
              "            <a href=\"#ipyplot-content-div-QNgyoNvqGexibESMdSxdj2-bF9D8ExEx29rBcCwf6Urj2\">\n",
              "                <span class=\"ipyplot-img-expand\"/>\n",
              "            </a>\n",
              "        </div>\n",
              "    </div>\n",
              "    \n",
              "    <div class=\"ipyplot-placeholder-div-QNgyoNvqGexibESMdSxdj2\">\n",
              "        <div id=\"ipyplot-content-div-QNgyoNvqGexibESMdSxdj2-iSQWpM25eynZiiaaZFR3WH\" class=\"ipyplot-content-div-QNgyoNvqGexibESMdSxdj2\">\n",
              "            <h4 style=\"font-size: 12px; word-wrap: break-word;\">14</h4>\n",
              "            <h4 style=\"font-size: 9px; padding-left: 10px; padding-right: 10px; width: 95%; word-wrap: break-word; white-space: normal;\">dataset_students/classification/train_labelled/26.png</h4><img src=\"dataset_students/classification/train_labelled/26.png\"/>\n",
              "            <a href=\"#!\">\n",
              "                <span class=\"ipyplot-img-close\"/>\n",
              "            </a>\n",
              "            <a href=\"#ipyplot-content-div-QNgyoNvqGexibESMdSxdj2-iSQWpM25eynZiiaaZFR3WH\">\n",
              "                <span class=\"ipyplot-img-expand\"/>\n",
              "            </a>\n",
              "        </div>\n",
              "    </div>\n",
              "    \n",
              "    <div class=\"ipyplot-placeholder-div-QNgyoNvqGexibESMdSxdj2\">\n",
              "        <div id=\"ipyplot-content-div-QNgyoNvqGexibESMdSxdj2-Mfxx26fUxGBGqnHsrS7pmU\" class=\"ipyplot-content-div-QNgyoNvqGexibESMdSxdj2\">\n",
              "            <h4 style=\"font-size: 12px; word-wrap: break-word;\">15</h4>\n",
              "            <h4 style=\"font-size: 9px; padding-left: 10px; padding-right: 10px; width: 95%; word-wrap: break-word; white-space: normal;\">dataset_students/classification/train_labelled/27.png</h4><img src=\"dataset_students/classification/train_labelled/27.png\"/>\n",
              "            <a href=\"#!\">\n",
              "                <span class=\"ipyplot-img-close\"/>\n",
              "            </a>\n",
              "            <a href=\"#ipyplot-content-div-QNgyoNvqGexibESMdSxdj2-Mfxx26fUxGBGqnHsrS7pmU\">\n",
              "                <span class=\"ipyplot-img-expand\"/>\n",
              "            </a>\n",
              "        </div>\n",
              "    </div>\n",
              "    \n",
              "    <div class=\"ipyplot-placeholder-div-QNgyoNvqGexibESMdSxdj2\">\n",
              "        <div id=\"ipyplot-content-div-QNgyoNvqGexibESMdSxdj2-K5Km2yHLnqWoxPQcM2Fo2j\" class=\"ipyplot-content-div-QNgyoNvqGexibESMdSxdj2\">\n",
              "            <h4 style=\"font-size: 12px; word-wrap: break-word;\">16</h4>\n",
              "            <h4 style=\"font-size: 9px; padding-left: 10px; padding-right: 10px; width: 95%; word-wrap: break-word; white-space: normal;\">dataset_students/classification/train_labelled/29.png</h4><img src=\"dataset_students/classification/train_labelled/29.png\"/>\n",
              "            <a href=\"#!\">\n",
              "                <span class=\"ipyplot-img-close\"/>\n",
              "            </a>\n",
              "            <a href=\"#ipyplot-content-div-QNgyoNvqGexibESMdSxdj2-K5Km2yHLnqWoxPQcM2Fo2j\">\n",
              "                <span class=\"ipyplot-img-expand\"/>\n",
              "            </a>\n",
              "        </div>\n",
              "    </div>\n",
              "    \n",
              "    <div class=\"ipyplot-placeholder-div-QNgyoNvqGexibESMdSxdj2\">\n",
              "        <div id=\"ipyplot-content-div-QNgyoNvqGexibESMdSxdj2-ThUowyMmeMcRaZDNMW897L\" class=\"ipyplot-content-div-QNgyoNvqGexibESMdSxdj2\">\n",
              "            <h4 style=\"font-size: 12px; word-wrap: break-word;\">17</h4>\n",
              "            <h4 style=\"font-size: 9px; padding-left: 10px; padding-right: 10px; width: 95%; word-wrap: break-word; white-space: normal;\">dataset_students/classification/train_labelled/30.png</h4><img src=\"dataset_students/classification/train_labelled/30.png\"/>\n",
              "            <a href=\"#!\">\n",
              "                <span class=\"ipyplot-img-close\"/>\n",
              "            </a>\n",
              "            <a href=\"#ipyplot-content-div-QNgyoNvqGexibESMdSxdj2-ThUowyMmeMcRaZDNMW897L\">\n",
              "                <span class=\"ipyplot-img-expand\"/>\n",
              "            </a>\n",
              "        </div>\n",
              "    </div>\n",
              "    \n",
              "    <div class=\"ipyplot-placeholder-div-QNgyoNvqGexibESMdSxdj2\">\n",
              "        <div id=\"ipyplot-content-div-QNgyoNvqGexibESMdSxdj2-keyDdMqbjSEZVqjmK9B48n\" class=\"ipyplot-content-div-QNgyoNvqGexibESMdSxdj2\">\n",
              "            <h4 style=\"font-size: 12px; word-wrap: break-word;\">18</h4>\n",
              "            <h4 style=\"font-size: 9px; padding-left: 10px; padding-right: 10px; width: 95%; word-wrap: break-word; white-space: normal;\">dataset_students/classification/train_labelled/36.png</h4><img src=\"dataset_students/classification/train_labelled/36.png\"/>\n",
              "            <a href=\"#!\">\n",
              "                <span class=\"ipyplot-img-close\"/>\n",
              "            </a>\n",
              "            <a href=\"#ipyplot-content-div-QNgyoNvqGexibESMdSxdj2-keyDdMqbjSEZVqjmK9B48n\">\n",
              "                <span class=\"ipyplot-img-expand\"/>\n",
              "            </a>\n",
              "        </div>\n",
              "    </div>\n",
              "    \n",
              "    <div class=\"ipyplot-placeholder-div-QNgyoNvqGexibESMdSxdj2\">\n",
              "        <div id=\"ipyplot-content-div-QNgyoNvqGexibESMdSxdj2-j2faZNK3vurmTnExd2w2jj\" class=\"ipyplot-content-div-QNgyoNvqGexibESMdSxdj2\">\n",
              "            <h4 style=\"font-size: 12px; word-wrap: break-word;\">19</h4>\n",
              "            <h4 style=\"font-size: 9px; padding-left: 10px; padding-right: 10px; width: 95%; word-wrap: break-word; white-space: normal;\">dataset_students/classification/train_labelled/37.png</h4><img src=\"dataset_students/classification/train_labelled/37.png\"/>\n",
              "            <a href=\"#!\">\n",
              "                <span class=\"ipyplot-img-close\"/>\n",
              "            </a>\n",
              "            <a href=\"#ipyplot-content-div-QNgyoNvqGexibESMdSxdj2-j2faZNK3vurmTnExd2w2jj\">\n",
              "                <span class=\"ipyplot-img-expand\"/>\n",
              "            </a>\n",
              "        </div>\n",
              "    </div>\n",
              "    \n",
              "    <div class=\"ipyplot-placeholder-div-QNgyoNvqGexibESMdSxdj2\">\n",
              "        <div id=\"ipyplot-content-div-QNgyoNvqGexibESMdSxdj2-ZrYYq7zEtw3FW3zigVAA2E\" class=\"ipyplot-content-div-QNgyoNvqGexibESMdSxdj2\">\n",
              "            <h4 style=\"font-size: 12px; word-wrap: break-word;\">20</h4>\n",
              "            <h4 style=\"font-size: 9px; padding-left: 10px; padding-right: 10px; width: 95%; word-wrap: break-word; white-space: normal;\">dataset_students/classification/train_labelled/41.png</h4><img src=\"dataset_students/classification/train_labelled/41.png\"/>\n",
              "            <a href=\"#!\">\n",
              "                <span class=\"ipyplot-img-close\"/>\n",
              "            </a>\n",
              "            <a href=\"#ipyplot-content-div-QNgyoNvqGexibESMdSxdj2-ZrYYq7zEtw3FW3zigVAA2E\">\n",
              "                <span class=\"ipyplot-img-expand\"/>\n",
              "            </a>\n",
              "        </div>\n",
              "    </div>\n",
              "    \n",
              "    <div class=\"ipyplot-placeholder-div-QNgyoNvqGexibESMdSxdj2\">\n",
              "        <div id=\"ipyplot-content-div-QNgyoNvqGexibESMdSxdj2-A34A5FBFCCh5NheQt89uzt\" class=\"ipyplot-content-div-QNgyoNvqGexibESMdSxdj2\">\n",
              "            <h4 style=\"font-size: 12px; word-wrap: break-word;\">21</h4>\n",
              "            <h4 style=\"font-size: 9px; padding-left: 10px; padding-right: 10px; width: 95%; word-wrap: break-word; white-space: normal;\">dataset_students/classification/train_labelled/44.png</h4><img src=\"dataset_students/classification/train_labelled/44.png\"/>\n",
              "            <a href=\"#!\">\n",
              "                <span class=\"ipyplot-img-close\"/>\n",
              "            </a>\n",
              "            <a href=\"#ipyplot-content-div-QNgyoNvqGexibESMdSxdj2-A34A5FBFCCh5NheQt89uzt\">\n",
              "                <span class=\"ipyplot-img-expand\"/>\n",
              "            </a>\n",
              "        </div>\n",
              "    </div>\n",
              "    \n",
              "    <div class=\"ipyplot-placeholder-div-QNgyoNvqGexibESMdSxdj2\">\n",
              "        <div id=\"ipyplot-content-div-QNgyoNvqGexibESMdSxdj2-B7vEDN43QusYx2MayeYj4z\" class=\"ipyplot-content-div-QNgyoNvqGexibESMdSxdj2\">\n",
              "            <h4 style=\"font-size: 12px; word-wrap: break-word;\">22</h4>\n",
              "            <h4 style=\"font-size: 9px; padding-left: 10px; padding-right: 10px; width: 95%; word-wrap: break-word; white-space: normal;\">dataset_students/classification/train_labelled/45.png</h4><img src=\"dataset_students/classification/train_labelled/45.png\"/>\n",
              "            <a href=\"#!\">\n",
              "                <span class=\"ipyplot-img-close\"/>\n",
              "            </a>\n",
              "            <a href=\"#ipyplot-content-div-QNgyoNvqGexibESMdSxdj2-B7vEDN43QusYx2MayeYj4z\">\n",
              "                <span class=\"ipyplot-img-expand\"/>\n",
              "            </a>\n",
              "        </div>\n",
              "    </div>\n",
              "    \n",
              "    <div class=\"ipyplot-placeholder-div-QNgyoNvqGexibESMdSxdj2\">\n",
              "        <div id=\"ipyplot-content-div-QNgyoNvqGexibESMdSxdj2-2qWv24Ey2u27q4bzcEbhos\" class=\"ipyplot-content-div-QNgyoNvqGexibESMdSxdj2\">\n",
              "            <h4 style=\"font-size: 12px; word-wrap: break-word;\">23</h4>\n",
              "            <h4 style=\"font-size: 9px; padding-left: 10px; padding-right: 10px; width: 95%; word-wrap: break-word; white-space: normal;\">dataset_students/classification/train_labelled/46.png</h4><img src=\"dataset_students/classification/train_labelled/46.png\"/>\n",
              "            <a href=\"#!\">\n",
              "                <span class=\"ipyplot-img-close\"/>\n",
              "            </a>\n",
              "            <a href=\"#ipyplot-content-div-QNgyoNvqGexibESMdSxdj2-2qWv24Ey2u27q4bzcEbhos\">\n",
              "                <span class=\"ipyplot-img-expand\"/>\n",
              "            </a>\n",
              "        </div>\n",
              "    </div>\n",
              "    \n",
              "    <div class=\"ipyplot-placeholder-div-QNgyoNvqGexibESMdSxdj2\">\n",
              "        <div id=\"ipyplot-content-div-QNgyoNvqGexibESMdSxdj2-A2sxCMCJzf2jD7Awf7P66J\" class=\"ipyplot-content-div-QNgyoNvqGexibESMdSxdj2\">\n",
              "            <h4 style=\"font-size: 12px; word-wrap: break-word;\">24</h4>\n",
              "            <h4 style=\"font-size: 9px; padding-left: 10px; padding-right: 10px; width: 95%; word-wrap: break-word; white-space: normal;\">dataset_students/classification/train_labelled/48.png</h4><img src=\"dataset_students/classification/train_labelled/48.png\"/>\n",
              "            <a href=\"#!\">\n",
              "                <span class=\"ipyplot-img-close\"/>\n",
              "            </a>\n",
              "            <a href=\"#ipyplot-content-div-QNgyoNvqGexibESMdSxdj2-A2sxCMCJzf2jD7Awf7P66J\">\n",
              "                <span class=\"ipyplot-img-expand\"/>\n",
              "            </a>\n",
              "        </div>\n",
              "    </div>\n",
              "    \n",
              "    <div class=\"ipyplot-placeholder-div-QNgyoNvqGexibESMdSxdj2\">\n",
              "        <div id=\"ipyplot-content-div-QNgyoNvqGexibESMdSxdj2-fxrB3dZJap8zWTnBdE5eKK\" class=\"ipyplot-content-div-QNgyoNvqGexibESMdSxdj2\">\n",
              "            <h4 style=\"font-size: 12px; word-wrap: break-word;\">25</h4>\n",
              "            <h4 style=\"font-size: 9px; padding-left: 10px; padding-right: 10px; width: 95%; word-wrap: break-word; white-space: normal;\">dataset_students/classification/train_labelled/49.png</h4><img src=\"dataset_students/classification/train_labelled/49.png\"/>\n",
              "            <a href=\"#!\">\n",
              "                <span class=\"ipyplot-img-close\"/>\n",
              "            </a>\n",
              "            <a href=\"#ipyplot-content-div-QNgyoNvqGexibESMdSxdj2-fxrB3dZJap8zWTnBdE5eKK\">\n",
              "                <span class=\"ipyplot-img-expand\"/>\n",
              "            </a>\n",
              "        </div>\n",
              "    </div>\n",
              "    \n",
              "    <div class=\"ipyplot-placeholder-div-QNgyoNvqGexibESMdSxdj2\">\n",
              "        <div id=\"ipyplot-content-div-QNgyoNvqGexibESMdSxdj2-2NAMXbtq4ftmQCYuhy4Y2S\" class=\"ipyplot-content-div-QNgyoNvqGexibESMdSxdj2\">\n",
              "            <h4 style=\"font-size: 12px; word-wrap: break-word;\">26</h4>\n",
              "            <h4 style=\"font-size: 9px; padding-left: 10px; padding-right: 10px; width: 95%; word-wrap: break-word; white-space: normal;\">dataset_students/classification/train_labelled/50.png</h4><img src=\"dataset_students/classification/train_labelled/50.png\"/>\n",
              "            <a href=\"#!\">\n",
              "                <span class=\"ipyplot-img-close\"/>\n",
              "            </a>\n",
              "            <a href=\"#ipyplot-content-div-QNgyoNvqGexibESMdSxdj2-2NAMXbtq4ftmQCYuhy4Y2S\">\n",
              "                <span class=\"ipyplot-img-expand\"/>\n",
              "            </a>\n",
              "        </div>\n",
              "    </div>\n",
              "    \n",
              "    <div class=\"ipyplot-placeholder-div-QNgyoNvqGexibESMdSxdj2\">\n",
              "        <div id=\"ipyplot-content-div-QNgyoNvqGexibESMdSxdj2-8jGJSXGTNo2B8uyd8SpzDt\" class=\"ipyplot-content-div-QNgyoNvqGexibESMdSxdj2\">\n",
              "            <h4 style=\"font-size: 12px; word-wrap: break-word;\">27</h4>\n",
              "            <h4 style=\"font-size: 9px; padding-left: 10px; padding-right: 10px; width: 95%; word-wrap: break-word; white-space: normal;\">dataset_students/classification/train_labelled/51.png</h4><img src=\"dataset_students/classification/train_labelled/51.png\"/>\n",
              "            <a href=\"#!\">\n",
              "                <span class=\"ipyplot-img-close\"/>\n",
              "            </a>\n",
              "            <a href=\"#ipyplot-content-div-QNgyoNvqGexibESMdSxdj2-8jGJSXGTNo2B8uyd8SpzDt\">\n",
              "                <span class=\"ipyplot-img-expand\"/>\n",
              "            </a>\n",
              "        </div>\n",
              "    </div>\n",
              "    \n",
              "    <div class=\"ipyplot-placeholder-div-QNgyoNvqGexibESMdSxdj2\">\n",
              "        <div id=\"ipyplot-content-div-QNgyoNvqGexibESMdSxdj2-Y6gNAP9mNfFwYwXJhY6cgr\" class=\"ipyplot-content-div-QNgyoNvqGexibESMdSxdj2\">\n",
              "            <h4 style=\"font-size: 12px; word-wrap: break-word;\">28</h4>\n",
              "            <h4 style=\"font-size: 9px; padding-left: 10px; padding-right: 10px; width: 95%; word-wrap: break-word; white-space: normal;\">dataset_students/classification/train_labelled/52.png</h4><img src=\"dataset_students/classification/train_labelled/52.png\"/>\n",
              "            <a href=\"#!\">\n",
              "                <span class=\"ipyplot-img-close\"/>\n",
              "            </a>\n",
              "            <a href=\"#ipyplot-content-div-QNgyoNvqGexibESMdSxdj2-Y6gNAP9mNfFwYwXJhY6cgr\">\n",
              "                <span class=\"ipyplot-img-expand\"/>\n",
              "            </a>\n",
              "        </div>\n",
              "    </div>\n",
              "    \n",
              "    <div class=\"ipyplot-placeholder-div-QNgyoNvqGexibESMdSxdj2\">\n",
              "        <div id=\"ipyplot-content-div-QNgyoNvqGexibESMdSxdj2-EAEKVrtDzBBQXeMydXsMqg\" class=\"ipyplot-content-div-QNgyoNvqGexibESMdSxdj2\">\n",
              "            <h4 style=\"font-size: 12px; word-wrap: break-word;\">29</h4>\n",
              "            <h4 style=\"font-size: 9px; padding-left: 10px; padding-right: 10px; width: 95%; word-wrap: break-word; white-space: normal;\">dataset_students/classification/train_labelled/53.png</h4><img src=\"dataset_students/classification/train_labelled/53.png\"/>\n",
              "            <a href=\"#!\">\n",
              "                <span class=\"ipyplot-img-close\"/>\n",
              "            </a>\n",
              "            <a href=\"#ipyplot-content-div-QNgyoNvqGexibESMdSxdj2-EAEKVrtDzBBQXeMydXsMqg\">\n",
              "                <span class=\"ipyplot-img-expand\"/>\n",
              "            </a>\n",
              "        </div>\n",
              "    </div>\n",
              "    </div></div><div class=\"tab contentPDUKT9HDnbL5fhQ6ut2XTP\">\n",
              "        <style>\n",
              "        #ipyplot-imgs-container-div-cMBVj825B33Eq66zpuhBU8 {\n",
              "            width: 100%;\n",
              "            height: 100%;\n",
              "            margin: 0%;\n",
              "            overflow: auto;\n",
              "            position: relative;\n",
              "            overflow-y: scroll;\n",
              "        }\n",
              "\n",
              "        div.ipyplot-placeholder-div-cMBVj825B33Eq66zpuhBU8 {\n",
              "            width: 150px;\n",
              "            display: inline-block;\n",
              "            margin: 3px;\n",
              "            position: relative;\n",
              "        }\n",
              "\n",
              "        div.ipyplot-content-div-cMBVj825B33Eq66zpuhBU8 {\n",
              "            width: 150px;\n",
              "            background: white;\n",
              "            display: inline-block;\n",
              "            vertical-align: top;\n",
              "            text-align: center;\n",
              "            position: relative;\n",
              "            border: 2px solid #ddd;\n",
              "            top: 0;\n",
              "            left: 0;\n",
              "        }\n",
              "\n",
              "        div.ipyplot-content-div-cMBVj825B33Eq66zpuhBU8 span.ipyplot-img-close {\n",
              "            display: none;\n",
              "        }\n",
              "\n",
              "        div.ipyplot-content-div-cMBVj825B33Eq66zpuhBU8 span {\n",
              "            width: 100%;\n",
              "            height: 100%;\n",
              "            position: absolute;\n",
              "            top: 0;\n",
              "            left: 0;\n",
              "        }\n",
              "\n",
              "        div.ipyplot-content-div-cMBVj825B33Eq66zpuhBU8 img {\n",
              "            width: 150px;\n",
              "        }\n",
              "\n",
              "        div.ipyplot-content-div-cMBVj825B33Eq66zpuhBU8 span.ipyplot-img-close:hover {\n",
              "            cursor: zoom-out;\n",
              "        }\n",
              "        div.ipyplot-content-div-cMBVj825B33Eq66zpuhBU8 span.ipyplot-img-expand:hover {\n",
              "            cursor: zoom-in;\n",
              "        }\n",
              "\n",
              "        div[id^=ipyplot-content-div-cMBVj825B33Eq66zpuhBU8]:target {\n",
              "            transform: scale(2.5);\n",
              "            transform-origin: left top;\n",
              "            z-index: 5000;\n",
              "            top: 0;\n",
              "            left: 0;\n",
              "            position: absolute;\n",
              "        }\n",
              "\n",
              "        div[id^=ipyplot-content-div-cMBVj825B33Eq66zpuhBU8]:target span.ipyplot-img-close {\n",
              "            display: block;\n",
              "        }\n",
              "\n",
              "        div[id^=ipyplot-content-div-cMBVj825B33Eq66zpuhBU8]:target span.ipyplot-img-expand {\n",
              "            display: none;\n",
              "        }\n",
              "        </style>\n",
              "    <div id=\"ipyplot-imgs-container-div-cMBVj825B33Eq66zpuhBU8\">\n",
              "    <div class=\"ipyplot-placeholder-div-cMBVj825B33Eq66zpuhBU8\">\n",
              "        <div id=\"ipyplot-content-div-cMBVj825B33Eq66zpuhBU8-TDmaqcicnwcqyV9YnMJTCG\" class=\"ipyplot-content-div-cMBVj825B33Eq66zpuhBU8\">\n",
              "            <h4 style=\"font-size: 12px; word-wrap: break-word;\">0</h4>\n",
              "            <h4 style=\"font-size: 9px; padding-left: 10px; padding-right: 10px; width: 95%; word-wrap: break-word; white-space: normal;\">dataset_students/classification/train_labelled/20.png</h4><img src=\"dataset_students/classification/train_labelled/20.png\"/>\n",
              "            <a href=\"#!\">\n",
              "                <span class=\"ipyplot-img-close\"/>\n",
              "            </a>\n",
              "            <a href=\"#ipyplot-content-div-cMBVj825B33Eq66zpuhBU8-TDmaqcicnwcqyV9YnMJTCG\">\n",
              "                <span class=\"ipyplot-img-expand\"/>\n",
              "            </a>\n",
              "        </div>\n",
              "    </div>\n",
              "    \n",
              "    <div class=\"ipyplot-placeholder-div-cMBVj825B33Eq66zpuhBU8\">\n",
              "        <div id=\"ipyplot-content-div-cMBVj825B33Eq66zpuhBU8-DnPvwvXmtLxughC7S4Tozp\" class=\"ipyplot-content-div-cMBVj825B33Eq66zpuhBU8\">\n",
              "            <h4 style=\"font-size: 12px; word-wrap: break-word;\">1</h4>\n",
              "            <h4 style=\"font-size: 9px; padding-left: 10px; padding-right: 10px; width: 95%; word-wrap: break-word; white-space: normal;\">dataset_students/classification/train_labelled/34.png</h4><img src=\"dataset_students/classification/train_labelled/34.png\"/>\n",
              "            <a href=\"#!\">\n",
              "                <span class=\"ipyplot-img-close\"/>\n",
              "            </a>\n",
              "            <a href=\"#ipyplot-content-div-cMBVj825B33Eq66zpuhBU8-DnPvwvXmtLxughC7S4Tozp\">\n",
              "                <span class=\"ipyplot-img-expand\"/>\n",
              "            </a>\n",
              "        </div>\n",
              "    </div>\n",
              "    \n",
              "    <div class=\"ipyplot-placeholder-div-cMBVj825B33Eq66zpuhBU8\">\n",
              "        <div id=\"ipyplot-content-div-cMBVj825B33Eq66zpuhBU8-ar2AKo8twhiXkjww3ZJ4Cf\" class=\"ipyplot-content-div-cMBVj825B33Eq66zpuhBU8\">\n",
              "            <h4 style=\"font-size: 12px; word-wrap: break-word;\">2</h4>\n",
              "            <h4 style=\"font-size: 9px; padding-left: 10px; padding-right: 10px; width: 95%; word-wrap: break-word; white-space: normal;\">dataset_students/classification/train_labelled/55.png</h4><img src=\"dataset_students/classification/train_labelled/55.png\"/>\n",
              "            <a href=\"#!\">\n",
              "                <span class=\"ipyplot-img-close\"/>\n",
              "            </a>\n",
              "            <a href=\"#ipyplot-content-div-cMBVj825B33Eq66zpuhBU8-ar2AKo8twhiXkjww3ZJ4Cf\">\n",
              "                <span class=\"ipyplot-img-expand\"/>\n",
              "            </a>\n",
              "        </div>\n",
              "    </div>\n",
              "    \n",
              "    <div class=\"ipyplot-placeholder-div-cMBVj825B33Eq66zpuhBU8\">\n",
              "        <div id=\"ipyplot-content-div-cMBVj825B33Eq66zpuhBU8-etdpWwyujHY7dZzbauWjxi\" class=\"ipyplot-content-div-cMBVj825B33Eq66zpuhBU8\">\n",
              "            <h4 style=\"font-size: 12px; word-wrap: break-word;\">3</h4>\n",
              "            <h4 style=\"font-size: 9px; padding-left: 10px; padding-right: 10px; width: 95%; word-wrap: break-word; white-space: normal;\">dataset_students/classification/train_labelled/85.png</h4><img src=\"dataset_students/classification/train_labelled/85.png\"/>\n",
              "            <a href=\"#!\">\n",
              "                <span class=\"ipyplot-img-close\"/>\n",
              "            </a>\n",
              "            <a href=\"#ipyplot-content-div-cMBVj825B33Eq66zpuhBU8-etdpWwyujHY7dZzbauWjxi\">\n",
              "                <span class=\"ipyplot-img-expand\"/>\n",
              "            </a>\n",
              "        </div>\n",
              "    </div>\n",
              "    \n",
              "    <div class=\"ipyplot-placeholder-div-cMBVj825B33Eq66zpuhBU8\">\n",
              "        <div id=\"ipyplot-content-div-cMBVj825B33Eq66zpuhBU8-Ke9xnNuRiFS2oJr7KdyF5J\" class=\"ipyplot-content-div-cMBVj825B33Eq66zpuhBU8\">\n",
              "            <h4 style=\"font-size: 12px; word-wrap: break-word;\">4</h4>\n",
              "            <h4 style=\"font-size: 9px; padding-left: 10px; padding-right: 10px; width: 95%; word-wrap: break-word; white-space: normal;\">dataset_students/classification/train_labelled/94.png</h4><img src=\"dataset_students/classification/train_labelled/94.png\"/>\n",
              "            <a href=\"#!\">\n",
              "                <span class=\"ipyplot-img-close\"/>\n",
              "            </a>\n",
              "            <a href=\"#ipyplot-content-div-cMBVj825B33Eq66zpuhBU8-Ke9xnNuRiFS2oJr7KdyF5J\">\n",
              "                <span class=\"ipyplot-img-expand\"/>\n",
              "            </a>\n",
              "        </div>\n",
              "    </div>\n",
              "    \n",
              "    <div class=\"ipyplot-placeholder-div-cMBVj825B33Eq66zpuhBU8\">\n",
              "        <div id=\"ipyplot-content-div-cMBVj825B33Eq66zpuhBU8-WDromYBjqYQGWHkzkhn9JR\" class=\"ipyplot-content-div-cMBVj825B33Eq66zpuhBU8\">\n",
              "            <h4 style=\"font-size: 12px; word-wrap: break-word;\">5</h4>\n",
              "            <h4 style=\"font-size: 9px; padding-left: 10px; padding-right: 10px; width: 95%; word-wrap: break-word; white-space: normal;\">dataset_students/classification/train_labelled/118.png</h4><img src=\"dataset_students/classification/train_labelled/118.png\"/>\n",
              "            <a href=\"#!\">\n",
              "                <span class=\"ipyplot-img-close\"/>\n",
              "            </a>\n",
              "            <a href=\"#ipyplot-content-div-cMBVj825B33Eq66zpuhBU8-WDromYBjqYQGWHkzkhn9JR\">\n",
              "                <span class=\"ipyplot-img-expand\"/>\n",
              "            </a>\n",
              "        </div>\n",
              "    </div>\n",
              "    \n",
              "    <div class=\"ipyplot-placeholder-div-cMBVj825B33Eq66zpuhBU8\">\n",
              "        <div id=\"ipyplot-content-div-cMBVj825B33Eq66zpuhBU8-SZVkeQpHTWavTZbtLaMKu6\" class=\"ipyplot-content-div-cMBVj825B33Eq66zpuhBU8\">\n",
              "            <h4 style=\"font-size: 12px; word-wrap: break-word;\">6</h4>\n",
              "            <h4 style=\"font-size: 9px; padding-left: 10px; padding-right: 10px; width: 95%; word-wrap: break-word; white-space: normal;\">dataset_students/classification/train_labelled/126.png</h4><img src=\"dataset_students/classification/train_labelled/126.png\"/>\n",
              "            <a href=\"#!\">\n",
              "                <span class=\"ipyplot-img-close\"/>\n",
              "            </a>\n",
              "            <a href=\"#ipyplot-content-div-cMBVj825B33Eq66zpuhBU8-SZVkeQpHTWavTZbtLaMKu6\">\n",
              "                <span class=\"ipyplot-img-expand\"/>\n",
              "            </a>\n",
              "        </div>\n",
              "    </div>\n",
              "    \n",
              "    <div class=\"ipyplot-placeholder-div-cMBVj825B33Eq66zpuhBU8\">\n",
              "        <div id=\"ipyplot-content-div-cMBVj825B33Eq66zpuhBU8-SSXUJb4ynt5TUHjL4SMMep\" class=\"ipyplot-content-div-cMBVj825B33Eq66zpuhBU8\">\n",
              "            <h4 style=\"font-size: 12px; word-wrap: break-word;\">7</h4>\n",
              "            <h4 style=\"font-size: 9px; padding-left: 10px; padding-right: 10px; width: 95%; word-wrap: break-word; white-space: normal;\">dataset_students/classification/train_labelled/127.png</h4><img src=\"dataset_students/classification/train_labelled/127.png\"/>\n",
              "            <a href=\"#!\">\n",
              "                <span class=\"ipyplot-img-close\"/>\n",
              "            </a>\n",
              "            <a href=\"#ipyplot-content-div-cMBVj825B33Eq66zpuhBU8-SSXUJb4ynt5TUHjL4SMMep\">\n",
              "                <span class=\"ipyplot-img-expand\"/>\n",
              "            </a>\n",
              "        </div>\n",
              "    </div>\n",
              "    \n",
              "    <div class=\"ipyplot-placeholder-div-cMBVj825B33Eq66zpuhBU8\">\n",
              "        <div id=\"ipyplot-content-div-cMBVj825B33Eq66zpuhBU8-n7U6j2pJ9v8nDaFiuQiUzv\" class=\"ipyplot-content-div-cMBVj825B33Eq66zpuhBU8\">\n",
              "            <h4 style=\"font-size: 12px; word-wrap: break-word;\">8</h4>\n",
              "            <h4 style=\"font-size: 9px; padding-left: 10px; padding-right: 10px; width: 95%; word-wrap: break-word; white-space: normal;\">dataset_students/classification/train_labelled/128.png</h4><img src=\"dataset_students/classification/train_labelled/128.png\"/>\n",
              "            <a href=\"#!\">\n",
              "                <span class=\"ipyplot-img-close\"/>\n",
              "            </a>\n",
              "            <a href=\"#ipyplot-content-div-cMBVj825B33Eq66zpuhBU8-n7U6j2pJ9v8nDaFiuQiUzv\">\n",
              "                <span class=\"ipyplot-img-expand\"/>\n",
              "            </a>\n",
              "        </div>\n",
              "    </div>\n",
              "    \n",
              "    <div class=\"ipyplot-placeholder-div-cMBVj825B33Eq66zpuhBU8\">\n",
              "        <div id=\"ipyplot-content-div-cMBVj825B33Eq66zpuhBU8-SnV9SLEk96MwNDJHDMXocp\" class=\"ipyplot-content-div-cMBVj825B33Eq66zpuhBU8\">\n",
              "            <h4 style=\"font-size: 12px; word-wrap: break-word;\">9</h4>\n",
              "            <h4 style=\"font-size: 9px; padding-left: 10px; padding-right: 10px; width: 95%; word-wrap: break-word; white-space: normal;\">dataset_students/classification/train_labelled/129.png</h4><img src=\"dataset_students/classification/train_labelled/129.png\"/>\n",
              "            <a href=\"#!\">\n",
              "                <span class=\"ipyplot-img-close\"/>\n",
              "            </a>\n",
              "            <a href=\"#ipyplot-content-div-cMBVj825B33Eq66zpuhBU8-SnV9SLEk96MwNDJHDMXocp\">\n",
              "                <span class=\"ipyplot-img-expand\"/>\n",
              "            </a>\n",
              "        </div>\n",
              "    </div>\n",
              "    \n",
              "    <div class=\"ipyplot-placeholder-div-cMBVj825B33Eq66zpuhBU8\">\n",
              "        <div id=\"ipyplot-content-div-cMBVj825B33Eq66zpuhBU8-PLLAdBd2ubaTRSauGNVUpd\" class=\"ipyplot-content-div-cMBVj825B33Eq66zpuhBU8\">\n",
              "            <h4 style=\"font-size: 12px; word-wrap: break-word;\">10</h4>\n",
              "            <h4 style=\"font-size: 9px; padding-left: 10px; padding-right: 10px; width: 95%; word-wrap: break-word; white-space: normal;\">dataset_students/classification/train_labelled/135.png</h4><img src=\"dataset_students/classification/train_labelled/135.png\"/>\n",
              "            <a href=\"#!\">\n",
              "                <span class=\"ipyplot-img-close\"/>\n",
              "            </a>\n",
              "            <a href=\"#ipyplot-content-div-cMBVj825B33Eq66zpuhBU8-PLLAdBd2ubaTRSauGNVUpd\">\n",
              "                <span class=\"ipyplot-img-expand\"/>\n",
              "            </a>\n",
              "        </div>\n",
              "    </div>\n",
              "    \n",
              "    <div class=\"ipyplot-placeholder-div-cMBVj825B33Eq66zpuhBU8\">\n",
              "        <div id=\"ipyplot-content-div-cMBVj825B33Eq66zpuhBU8-SJvkFtmndAZENWagZo8BDU\" class=\"ipyplot-content-div-cMBVj825B33Eq66zpuhBU8\">\n",
              "            <h4 style=\"font-size: 12px; word-wrap: break-word;\">11</h4>\n",
              "            <h4 style=\"font-size: 9px; padding-left: 10px; padding-right: 10px; width: 95%; word-wrap: break-word; white-space: normal;\">dataset_students/classification/train_labelled/188.png</h4><img src=\"dataset_students/classification/train_labelled/188.png\"/>\n",
              "            <a href=\"#!\">\n",
              "                <span class=\"ipyplot-img-close\"/>\n",
              "            </a>\n",
              "            <a href=\"#ipyplot-content-div-cMBVj825B33Eq66zpuhBU8-SJvkFtmndAZENWagZo8BDU\">\n",
              "                <span class=\"ipyplot-img-expand\"/>\n",
              "            </a>\n",
              "        </div>\n",
              "    </div>\n",
              "    \n",
              "    <div class=\"ipyplot-placeholder-div-cMBVj825B33Eq66zpuhBU8\">\n",
              "        <div id=\"ipyplot-content-div-cMBVj825B33Eq66zpuhBU8-XhMHdc2BpDDjDT4gCcKP4U\" class=\"ipyplot-content-div-cMBVj825B33Eq66zpuhBU8\">\n",
              "            <h4 style=\"font-size: 12px; word-wrap: break-word;\">12</h4>\n",
              "            <h4 style=\"font-size: 9px; padding-left: 10px; padding-right: 10px; width: 95%; word-wrap: break-word; white-space: normal;\">dataset_students/classification/train_labelled/189.png</h4><img src=\"dataset_students/classification/train_labelled/189.png\"/>\n",
              "            <a href=\"#!\">\n",
              "                <span class=\"ipyplot-img-close\"/>\n",
              "            </a>\n",
              "            <a href=\"#ipyplot-content-div-cMBVj825B33Eq66zpuhBU8-XhMHdc2BpDDjDT4gCcKP4U\">\n",
              "                <span class=\"ipyplot-img-expand\"/>\n",
              "            </a>\n",
              "        </div>\n",
              "    </div>\n",
              "    \n",
              "    <div class=\"ipyplot-placeholder-div-cMBVj825B33Eq66zpuhBU8\">\n",
              "        <div id=\"ipyplot-content-div-cMBVj825B33Eq66zpuhBU8-QzSB2Ffx72CwSxvsk3B5GY\" class=\"ipyplot-content-div-cMBVj825B33Eq66zpuhBU8\">\n",
              "            <h4 style=\"font-size: 12px; word-wrap: break-word;\">13</h4>\n",
              "            <h4 style=\"font-size: 9px; padding-left: 10px; padding-right: 10px; width: 95%; word-wrap: break-word; white-space: normal;\">dataset_students/classification/train_labelled/192.png</h4><img src=\"dataset_students/classification/train_labelled/192.png\"/>\n",
              "            <a href=\"#!\">\n",
              "                <span class=\"ipyplot-img-close\"/>\n",
              "            </a>\n",
              "            <a href=\"#ipyplot-content-div-cMBVj825B33Eq66zpuhBU8-QzSB2Ffx72CwSxvsk3B5GY\">\n",
              "                <span class=\"ipyplot-img-expand\"/>\n",
              "            </a>\n",
              "        </div>\n",
              "    </div>\n",
              "    \n",
              "    <div class=\"ipyplot-placeholder-div-cMBVj825B33Eq66zpuhBU8\">\n",
              "        <div id=\"ipyplot-content-div-cMBVj825B33Eq66zpuhBU8-Q2qLQZtwjYv7qbUbLM5tBx\" class=\"ipyplot-content-div-cMBVj825B33Eq66zpuhBU8\">\n",
              "            <h4 style=\"font-size: 12px; word-wrap: break-word;\">14</h4>\n",
              "            <h4 style=\"font-size: 9px; padding-left: 10px; padding-right: 10px; width: 95%; word-wrap: break-word; white-space: normal;\">dataset_students/classification/train_labelled/195.png</h4><img src=\"dataset_students/classification/train_labelled/195.png\"/>\n",
              "            <a href=\"#!\">\n",
              "                <span class=\"ipyplot-img-close\"/>\n",
              "            </a>\n",
              "            <a href=\"#ipyplot-content-div-cMBVj825B33Eq66zpuhBU8-Q2qLQZtwjYv7qbUbLM5tBx\">\n",
              "                <span class=\"ipyplot-img-expand\"/>\n",
              "            </a>\n",
              "        </div>\n",
              "    </div>\n",
              "    \n",
              "    <div class=\"ipyplot-placeholder-div-cMBVj825B33Eq66zpuhBU8\">\n",
              "        <div id=\"ipyplot-content-div-cMBVj825B33Eq66zpuhBU8-B4cKzgdBZfHgduzAFf2xQV\" class=\"ipyplot-content-div-cMBVj825B33Eq66zpuhBU8\">\n",
              "            <h4 style=\"font-size: 12px; word-wrap: break-word;\">15</h4>\n",
              "            <h4 style=\"font-size: 9px; padding-left: 10px; padding-right: 10px; width: 95%; word-wrap: break-word; white-space: normal;\">dataset_students/classification/train_labelled/196.png</h4><img src=\"dataset_students/classification/train_labelled/196.png\"/>\n",
              "            <a href=\"#!\">\n",
              "                <span class=\"ipyplot-img-close\"/>\n",
              "            </a>\n",
              "            <a href=\"#ipyplot-content-div-cMBVj825B33Eq66zpuhBU8-B4cKzgdBZfHgduzAFf2xQV\">\n",
              "                <span class=\"ipyplot-img-expand\"/>\n",
              "            </a>\n",
              "        </div>\n",
              "    </div>\n",
              "    \n",
              "    <div class=\"ipyplot-placeholder-div-cMBVj825B33Eq66zpuhBU8\">\n",
              "        <div id=\"ipyplot-content-div-cMBVj825B33Eq66zpuhBU8-evFhHzGJ7tLEKddFsxcULV\" class=\"ipyplot-content-div-cMBVj825B33Eq66zpuhBU8\">\n",
              "            <h4 style=\"font-size: 12px; word-wrap: break-word;\">16</h4>\n",
              "            <h4 style=\"font-size: 9px; padding-left: 10px; padding-right: 10px; width: 95%; word-wrap: break-word; white-space: normal;\">dataset_students/classification/train_labelled/198.png</h4><img src=\"dataset_students/classification/train_labelled/198.png\"/>\n",
              "            <a href=\"#!\">\n",
              "                <span class=\"ipyplot-img-close\"/>\n",
              "            </a>\n",
              "            <a href=\"#ipyplot-content-div-cMBVj825B33Eq66zpuhBU8-evFhHzGJ7tLEKddFsxcULV\">\n",
              "                <span class=\"ipyplot-img-expand\"/>\n",
              "            </a>\n",
              "        </div>\n",
              "    </div>\n",
              "    \n",
              "    <div class=\"ipyplot-placeholder-div-cMBVj825B33Eq66zpuhBU8\">\n",
              "        <div id=\"ipyplot-content-div-cMBVj825B33Eq66zpuhBU8-f2XvF2ZsbhSzZqsfDHkdQ7\" class=\"ipyplot-content-div-cMBVj825B33Eq66zpuhBU8\">\n",
              "            <h4 style=\"font-size: 12px; word-wrap: break-word;\">17</h4>\n",
              "            <h4 style=\"font-size: 9px; padding-left: 10px; padding-right: 10px; width: 95%; word-wrap: break-word; white-space: normal;\">dataset_students/classification/train_unlabelled/494.png</h4><img src=\"dataset_students/classification/train_unlabelled/494.png\"/>\n",
              "            <a href=\"#!\">\n",
              "                <span class=\"ipyplot-img-close\"/>\n",
              "            </a>\n",
              "            <a href=\"#ipyplot-content-div-cMBVj825B33Eq66zpuhBU8-f2XvF2ZsbhSzZqsfDHkdQ7\">\n",
              "                <span class=\"ipyplot-img-expand\"/>\n",
              "            </a>\n",
              "        </div>\n",
              "    </div>\n",
              "    \n",
              "    <div class=\"ipyplot-placeholder-div-cMBVj825B33Eq66zpuhBU8\">\n",
              "        <div id=\"ipyplot-content-div-cMBVj825B33Eq66zpuhBU8-cdzDisqTA69FPBB6gKFMjZ\" class=\"ipyplot-content-div-cMBVj825B33Eq66zpuhBU8\">\n",
              "            <h4 style=\"font-size: 12px; word-wrap: break-word;\">18</h4>\n",
              "            <h4 style=\"font-size: 9px; padding-left: 10px; padding-right: 10px; width: 95%; word-wrap: break-word; white-space: normal;\">dataset_students/classification/train_unlabelled/1932.png</h4><img src=\"dataset_students/classification/train_unlabelled/1932.png\"/>\n",
              "            <a href=\"#!\">\n",
              "                <span class=\"ipyplot-img-close\"/>\n",
              "            </a>\n",
              "            <a href=\"#ipyplot-content-div-cMBVj825B33Eq66zpuhBU8-cdzDisqTA69FPBB6gKFMjZ\">\n",
              "                <span class=\"ipyplot-img-expand\"/>\n",
              "            </a>\n",
              "        </div>\n",
              "    </div>\n",
              "    \n",
              "    <div class=\"ipyplot-placeholder-div-cMBVj825B33Eq66zpuhBU8\">\n",
              "        <div id=\"ipyplot-content-div-cMBVj825B33Eq66zpuhBU8-a4oC6hFvMVqWxvdgwFF8H3\" class=\"ipyplot-content-div-cMBVj825B33Eq66zpuhBU8\">\n",
              "            <h4 style=\"font-size: 12px; word-wrap: break-word;\">19</h4>\n",
              "            <h4 style=\"font-size: 9px; padding-left: 10px; padding-right: 10px; width: 95%; word-wrap: break-word; white-space: normal;\">dataset_students/classification/train_unlabelled/51.png</h4><img src=\"dataset_students/classification/train_unlabelled/51.png\"/>\n",
              "            <a href=\"#!\">\n",
              "                <span class=\"ipyplot-img-close\"/>\n",
              "            </a>\n",
              "            <a href=\"#ipyplot-content-div-cMBVj825B33Eq66zpuhBU8-a4oC6hFvMVqWxvdgwFF8H3\">\n",
              "                <span class=\"ipyplot-img-expand\"/>\n",
              "            </a>\n",
              "        </div>\n",
              "    </div>\n",
              "    \n",
              "    <div class=\"ipyplot-placeholder-div-cMBVj825B33Eq66zpuhBU8\">\n",
              "        <div id=\"ipyplot-content-div-cMBVj825B33Eq66zpuhBU8-To4aUzWck5twab6jxUceGJ\" class=\"ipyplot-content-div-cMBVj825B33Eq66zpuhBU8\">\n",
              "            <h4 style=\"font-size: 12px; word-wrap: break-word;\">20</h4>\n",
              "            <h4 style=\"font-size: 9px; padding-left: 10px; padding-right: 10px; width: 95%; word-wrap: break-word; white-space: normal;\">dataset_students/classification/train_unlabelled/1215.png</h4><img src=\"dataset_students/classification/train_unlabelled/1215.png\"/>\n",
              "            <a href=\"#!\">\n",
              "                <span class=\"ipyplot-img-close\"/>\n",
              "            </a>\n",
              "            <a href=\"#ipyplot-content-div-cMBVj825B33Eq66zpuhBU8-To4aUzWck5twab6jxUceGJ\">\n",
              "                <span class=\"ipyplot-img-expand\"/>\n",
              "            </a>\n",
              "        </div>\n",
              "    </div>\n",
              "    \n",
              "    <div class=\"ipyplot-placeholder-div-cMBVj825B33Eq66zpuhBU8\">\n",
              "        <div id=\"ipyplot-content-div-cMBVj825B33Eq66zpuhBU8-ZTnQ8bREf9iT8eSQ3rTCeL\" class=\"ipyplot-content-div-cMBVj825B33Eq66zpuhBU8\">\n",
              "            <h4 style=\"font-size: 12px; word-wrap: break-word;\">21</h4>\n",
              "            <h4 style=\"font-size: 9px; padding-left: 10px; padding-right: 10px; width: 95%; word-wrap: break-word; white-space: normal;\">dataset_students/classification/train_unlabelled/1046.png</h4><img src=\"dataset_students/classification/train_unlabelled/1046.png\"/>\n",
              "            <a href=\"#!\">\n",
              "                <span class=\"ipyplot-img-close\"/>\n",
              "            </a>\n",
              "            <a href=\"#ipyplot-content-div-cMBVj825B33Eq66zpuhBU8-ZTnQ8bREf9iT8eSQ3rTCeL\">\n",
              "                <span class=\"ipyplot-img-expand\"/>\n",
              "            </a>\n",
              "        </div>\n",
              "    </div>\n",
              "    \n",
              "    <div class=\"ipyplot-placeholder-div-cMBVj825B33Eq66zpuhBU8\">\n",
              "        <div id=\"ipyplot-content-div-cMBVj825B33Eq66zpuhBU8-PkooBbDCisfRCjcDjmvCZN\" class=\"ipyplot-content-div-cMBVj825B33Eq66zpuhBU8\">\n",
              "            <h4 style=\"font-size: 12px; word-wrap: break-word;\">22</h4>\n",
              "            <h4 style=\"font-size: 9px; padding-left: 10px; padding-right: 10px; width: 95%; word-wrap: break-word; white-space: normal;\">dataset_students/classification/train_unlabelled/1778.png</h4><img src=\"dataset_students/classification/train_unlabelled/1778.png\"/>\n",
              "            <a href=\"#!\">\n",
              "                <span class=\"ipyplot-img-close\"/>\n",
              "            </a>\n",
              "            <a href=\"#ipyplot-content-div-cMBVj825B33Eq66zpuhBU8-PkooBbDCisfRCjcDjmvCZN\">\n",
              "                <span class=\"ipyplot-img-expand\"/>\n",
              "            </a>\n",
              "        </div>\n",
              "    </div>\n",
              "    \n",
              "    <div class=\"ipyplot-placeholder-div-cMBVj825B33Eq66zpuhBU8\">\n",
              "        <div id=\"ipyplot-content-div-cMBVj825B33Eq66zpuhBU8-fm3Bn5YVop5zy8BqPfKHMy\" class=\"ipyplot-content-div-cMBVj825B33Eq66zpuhBU8\">\n",
              "            <h4 style=\"font-size: 12px; word-wrap: break-word;\">23</h4>\n",
              "            <h4 style=\"font-size: 9px; padding-left: 10px; padding-right: 10px; width: 95%; word-wrap: break-word; white-space: normal;\">dataset_students/classification/train_unlabelled/602.png</h4><img src=\"dataset_students/classification/train_unlabelled/602.png\"/>\n",
              "            <a href=\"#!\">\n",
              "                <span class=\"ipyplot-img-close\"/>\n",
              "            </a>\n",
              "            <a href=\"#ipyplot-content-div-cMBVj825B33Eq66zpuhBU8-fm3Bn5YVop5zy8BqPfKHMy\">\n",
              "                <span class=\"ipyplot-img-expand\"/>\n",
              "            </a>\n",
              "        </div>\n",
              "    </div>\n",
              "    \n",
              "    <div class=\"ipyplot-placeholder-div-cMBVj825B33Eq66zpuhBU8\">\n",
              "        <div id=\"ipyplot-content-div-cMBVj825B33Eq66zpuhBU8-22tFB7LNAvE8So2fM34omv\" class=\"ipyplot-content-div-cMBVj825B33Eq66zpuhBU8\">\n",
              "            <h4 style=\"font-size: 12px; word-wrap: break-word;\">24</h4>\n",
              "            <h4 style=\"font-size: 9px; padding-left: 10px; padding-right: 10px; width: 95%; word-wrap: break-word; white-space: normal;\">dataset_students/classification/train_unlabelled/1262.png</h4><img src=\"dataset_students/classification/train_unlabelled/1262.png\"/>\n",
              "            <a href=\"#!\">\n",
              "                <span class=\"ipyplot-img-close\"/>\n",
              "            </a>\n",
              "            <a href=\"#ipyplot-content-div-cMBVj825B33Eq66zpuhBU8-22tFB7LNAvE8So2fM34omv\">\n",
              "                <span class=\"ipyplot-img-expand\"/>\n",
              "            </a>\n",
              "        </div>\n",
              "    </div>\n",
              "    \n",
              "    <div class=\"ipyplot-placeholder-div-cMBVj825B33Eq66zpuhBU8\">\n",
              "        <div id=\"ipyplot-content-div-cMBVj825B33Eq66zpuhBU8-gCxKpGVeBDsEh7VNUoaQKM\" class=\"ipyplot-content-div-cMBVj825B33Eq66zpuhBU8\">\n",
              "            <h4 style=\"font-size: 12px; word-wrap: break-word;\">25</h4>\n",
              "            <h4 style=\"font-size: 9px; padding-left: 10px; padding-right: 10px; width: 95%; word-wrap: break-word; white-space: normal;\">dataset_students/classification/train_unlabelled/82.png</h4><img src=\"dataset_students/classification/train_unlabelled/82.png\"/>\n",
              "            <a href=\"#!\">\n",
              "                <span class=\"ipyplot-img-close\"/>\n",
              "            </a>\n",
              "            <a href=\"#ipyplot-content-div-cMBVj825B33Eq66zpuhBU8-gCxKpGVeBDsEh7VNUoaQKM\">\n",
              "                <span class=\"ipyplot-img-expand\"/>\n",
              "            </a>\n",
              "        </div>\n",
              "    </div>\n",
              "    \n",
              "    <div class=\"ipyplot-placeholder-div-cMBVj825B33Eq66zpuhBU8\">\n",
              "        <div id=\"ipyplot-content-div-cMBVj825B33Eq66zpuhBU8-84Wbxnhnrhuum4onKCk7x3\" class=\"ipyplot-content-div-cMBVj825B33Eq66zpuhBU8\">\n",
              "            <h4 style=\"font-size: 12px; word-wrap: break-word;\">26</h4>\n",
              "            <h4 style=\"font-size: 9px; padding-left: 10px; padding-right: 10px; width: 95%; word-wrap: break-word; white-space: normal;\">dataset_students/classification/train_unlabelled/776.png</h4><img src=\"dataset_students/classification/train_unlabelled/776.png\"/>\n",
              "            <a href=\"#!\">\n",
              "                <span class=\"ipyplot-img-close\"/>\n",
              "            </a>\n",
              "            <a href=\"#ipyplot-content-div-cMBVj825B33Eq66zpuhBU8-84Wbxnhnrhuum4onKCk7x3\">\n",
              "                <span class=\"ipyplot-img-expand\"/>\n",
              "            </a>\n",
              "        </div>\n",
              "    </div>\n",
              "    \n",
              "    <div class=\"ipyplot-placeholder-div-cMBVj825B33Eq66zpuhBU8\">\n",
              "        <div id=\"ipyplot-content-div-cMBVj825B33Eq66zpuhBU8-nSY7RHufbzKkKzpN6QST2V\" class=\"ipyplot-content-div-cMBVj825B33Eq66zpuhBU8\">\n",
              "            <h4 style=\"font-size: 12px; word-wrap: break-word;\">27</h4>\n",
              "            <h4 style=\"font-size: 9px; padding-left: 10px; padding-right: 10px; width: 95%; word-wrap: break-word; white-space: normal;\">dataset_students/classification/train_unlabelled/1643.png</h4><img src=\"dataset_students/classification/train_unlabelled/1643.png\"/>\n",
              "            <a href=\"#!\">\n",
              "                <span class=\"ipyplot-img-close\"/>\n",
              "            </a>\n",
              "            <a href=\"#ipyplot-content-div-cMBVj825B33Eq66zpuhBU8-nSY7RHufbzKkKzpN6QST2V\">\n",
              "                <span class=\"ipyplot-img-expand\"/>\n",
              "            </a>\n",
              "        </div>\n",
              "    </div>\n",
              "    \n",
              "    <div class=\"ipyplot-placeholder-div-cMBVj825B33Eq66zpuhBU8\">\n",
              "        <div id=\"ipyplot-content-div-cMBVj825B33Eq66zpuhBU8-EuX8nd7jnKVFYH2on7pXui\" class=\"ipyplot-content-div-cMBVj825B33Eq66zpuhBU8\">\n",
              "            <h4 style=\"font-size: 12px; word-wrap: break-word;\">28</h4>\n",
              "            <h4 style=\"font-size: 9px; padding-left: 10px; padding-right: 10px; width: 95%; word-wrap: break-word; white-space: normal;\">dataset_students/classification/train_unlabelled/1586.png</h4><img src=\"dataset_students/classification/train_unlabelled/1586.png\"/>\n",
              "            <a href=\"#!\">\n",
              "                <span class=\"ipyplot-img-close\"/>\n",
              "            </a>\n",
              "            <a href=\"#ipyplot-content-div-cMBVj825B33Eq66zpuhBU8-EuX8nd7jnKVFYH2on7pXui\">\n",
              "                <span class=\"ipyplot-img-expand\"/>\n",
              "            </a>\n",
              "        </div>\n",
              "    </div>\n",
              "    \n",
              "    <div class=\"ipyplot-placeholder-div-cMBVj825B33Eq66zpuhBU8\">\n",
              "        <div id=\"ipyplot-content-div-cMBVj825B33Eq66zpuhBU8-WACGwUyyfmASNdB3nznMDz\" class=\"ipyplot-content-div-cMBVj825B33Eq66zpuhBU8\">\n",
              "            <h4 style=\"font-size: 12px; word-wrap: break-word;\">29</h4>\n",
              "            <h4 style=\"font-size: 9px; padding-left: 10px; padding-right: 10px; width: 95%; word-wrap: break-word; white-space: normal;\">dataset_students/classification/train_unlabelled/890.png</h4><img src=\"dataset_students/classification/train_unlabelled/890.png\"/>\n",
              "            <a href=\"#!\">\n",
              "                <span class=\"ipyplot-img-close\"/>\n",
              "            </a>\n",
              "            <a href=\"#ipyplot-content-div-cMBVj825B33Eq66zpuhBU8-WACGwUyyfmASNdB3nznMDz\">\n",
              "                <span class=\"ipyplot-img-expand\"/>\n",
              "            </a>\n",
              "        </div>\n",
              "    </div>\n",
              "    </div></div><div class=\"tab content94SvHq4FH9a92BgpKf2pAm\">\n",
              "        <style>\n",
              "        #ipyplot-imgs-container-div-NoHv2JEebfY2JnGonZz2rN {\n",
              "            width: 100%;\n",
              "            height: 100%;\n",
              "            margin: 0%;\n",
              "            overflow: auto;\n",
              "            position: relative;\n",
              "            overflow-y: scroll;\n",
              "        }\n",
              "\n",
              "        div.ipyplot-placeholder-div-NoHv2JEebfY2JnGonZz2rN {\n",
              "            width: 150px;\n",
              "            display: inline-block;\n",
              "            margin: 3px;\n",
              "            position: relative;\n",
              "        }\n",
              "\n",
              "        div.ipyplot-content-div-NoHv2JEebfY2JnGonZz2rN {\n",
              "            width: 150px;\n",
              "            background: white;\n",
              "            display: inline-block;\n",
              "            vertical-align: top;\n",
              "            text-align: center;\n",
              "            position: relative;\n",
              "            border: 2px solid #ddd;\n",
              "            top: 0;\n",
              "            left: 0;\n",
              "        }\n",
              "\n",
              "        div.ipyplot-content-div-NoHv2JEebfY2JnGonZz2rN span.ipyplot-img-close {\n",
              "            display: none;\n",
              "        }\n",
              "\n",
              "        div.ipyplot-content-div-NoHv2JEebfY2JnGonZz2rN span {\n",
              "            width: 100%;\n",
              "            height: 100%;\n",
              "            position: absolute;\n",
              "            top: 0;\n",
              "            left: 0;\n",
              "        }\n",
              "\n",
              "        div.ipyplot-content-div-NoHv2JEebfY2JnGonZz2rN img {\n",
              "            width: 150px;\n",
              "        }\n",
              "\n",
              "        div.ipyplot-content-div-NoHv2JEebfY2JnGonZz2rN span.ipyplot-img-close:hover {\n",
              "            cursor: zoom-out;\n",
              "        }\n",
              "        div.ipyplot-content-div-NoHv2JEebfY2JnGonZz2rN span.ipyplot-img-expand:hover {\n",
              "            cursor: zoom-in;\n",
              "        }\n",
              "\n",
              "        div[id^=ipyplot-content-div-NoHv2JEebfY2JnGonZz2rN]:target {\n",
              "            transform: scale(2.5);\n",
              "            transform-origin: left top;\n",
              "            z-index: 5000;\n",
              "            top: 0;\n",
              "            left: 0;\n",
              "            position: absolute;\n",
              "        }\n",
              "\n",
              "        div[id^=ipyplot-content-div-NoHv2JEebfY2JnGonZz2rN]:target span.ipyplot-img-close {\n",
              "            display: block;\n",
              "        }\n",
              "\n",
              "        div[id^=ipyplot-content-div-NoHv2JEebfY2JnGonZz2rN]:target span.ipyplot-img-expand {\n",
              "            display: none;\n",
              "        }\n",
              "        </style>\n",
              "    <div id=\"ipyplot-imgs-container-div-NoHv2JEebfY2JnGonZz2rN\">\n",
              "    <div class=\"ipyplot-placeholder-div-NoHv2JEebfY2JnGonZz2rN\">\n",
              "        <div id=\"ipyplot-content-div-NoHv2JEebfY2JnGonZz2rN-YpZFYtGfj4HYEaJamenbqE\" class=\"ipyplot-content-div-NoHv2JEebfY2JnGonZz2rN\">\n",
              "            <h4 style=\"font-size: 12px; word-wrap: break-word;\">0</h4>\n",
              "            <h4 style=\"font-size: 9px; padding-left: 10px; padding-right: 10px; width: 95%; word-wrap: break-word; white-space: normal;\">dataset_students/classification/train_labelled/136.png</h4><img src=\"dataset_students/classification/train_labelled/136.png\"/>\n",
              "            <a href=\"#!\">\n",
              "                <span class=\"ipyplot-img-close\"/>\n",
              "            </a>\n",
              "            <a href=\"#ipyplot-content-div-NoHv2JEebfY2JnGonZz2rN-YpZFYtGfj4HYEaJamenbqE\">\n",
              "                <span class=\"ipyplot-img-expand\"/>\n",
              "            </a>\n",
              "        </div>\n",
              "    </div>\n",
              "    \n",
              "    <div class=\"ipyplot-placeholder-div-NoHv2JEebfY2JnGonZz2rN\">\n",
              "        <div id=\"ipyplot-content-div-NoHv2JEebfY2JnGonZz2rN-dCU9jWGAQXKa3aGR9UZTk4\" class=\"ipyplot-content-div-NoHv2JEebfY2JnGonZz2rN\">\n",
              "            <h4 style=\"font-size: 12px; word-wrap: break-word;\">1</h4>\n",
              "            <h4 style=\"font-size: 9px; padding-left: 10px; padding-right: 10px; width: 95%; word-wrap: break-word; white-space: normal;\">dataset_students/classification/train_labelled/166.png</h4><img src=\"dataset_students/classification/train_labelled/166.png\"/>\n",
              "            <a href=\"#!\">\n",
              "                <span class=\"ipyplot-img-close\"/>\n",
              "            </a>\n",
              "            <a href=\"#ipyplot-content-div-NoHv2JEebfY2JnGonZz2rN-dCU9jWGAQXKa3aGR9UZTk4\">\n",
              "                <span class=\"ipyplot-img-expand\"/>\n",
              "            </a>\n",
              "        </div>\n",
              "    </div>\n",
              "    \n",
              "    <div class=\"ipyplot-placeholder-div-NoHv2JEebfY2JnGonZz2rN\">\n",
              "        <div id=\"ipyplot-content-div-NoHv2JEebfY2JnGonZz2rN-R2V6sviDcJcNQcvrmZAHMo\" class=\"ipyplot-content-div-NoHv2JEebfY2JnGonZz2rN\">\n",
              "            <h4 style=\"font-size: 12px; word-wrap: break-word;\">2</h4>\n",
              "            <h4 style=\"font-size: 9px; padding-left: 10px; padding-right: 10px; width: 95%; word-wrap: break-word; white-space: normal;\">dataset_students/classification/train_labelled/193.png</h4><img src=\"dataset_students/classification/train_labelled/193.png\"/>\n",
              "            <a href=\"#!\">\n",
              "                <span class=\"ipyplot-img-close\"/>\n",
              "            </a>\n",
              "            <a href=\"#ipyplot-content-div-NoHv2JEebfY2JnGonZz2rN-R2V6sviDcJcNQcvrmZAHMo\">\n",
              "                <span class=\"ipyplot-img-expand\"/>\n",
              "            </a>\n",
              "        </div>\n",
              "    </div>\n",
              "    \n",
              "    <div class=\"ipyplot-placeholder-div-NoHv2JEebfY2JnGonZz2rN\">\n",
              "        <div id=\"ipyplot-content-div-NoHv2JEebfY2JnGonZz2rN-ZxaroSj8m2nLPgvFrBdamJ\" class=\"ipyplot-content-div-NoHv2JEebfY2JnGonZz2rN\">\n",
              "            <h4 style=\"font-size: 12px; word-wrap: break-word;\">3</h4>\n",
              "            <h4 style=\"font-size: 9px; padding-left: 10px; padding-right: 10px; width: 95%; word-wrap: break-word; white-space: normal;\">dataset_students/classification/train_unlabelled/1369.png</h4><img src=\"dataset_students/classification/train_unlabelled/1369.png\"/>\n",
              "            <a href=\"#!\">\n",
              "                <span class=\"ipyplot-img-close\"/>\n",
              "            </a>\n",
              "            <a href=\"#ipyplot-content-div-NoHv2JEebfY2JnGonZz2rN-ZxaroSj8m2nLPgvFrBdamJ\">\n",
              "                <span class=\"ipyplot-img-expand\"/>\n",
              "            </a>\n",
              "        </div>\n",
              "    </div>\n",
              "    \n",
              "    <div class=\"ipyplot-placeholder-div-NoHv2JEebfY2JnGonZz2rN\">\n",
              "        <div id=\"ipyplot-content-div-NoHv2JEebfY2JnGonZz2rN-GH5gEZZet6oC5EqFmKEh7M\" class=\"ipyplot-content-div-NoHv2JEebfY2JnGonZz2rN\">\n",
              "            <h4 style=\"font-size: 12px; word-wrap: break-word;\">4</h4>\n",
              "            <h4 style=\"font-size: 9px; padding-left: 10px; padding-right: 10px; width: 95%; word-wrap: break-word; white-space: normal;\">dataset_students/classification/train_unlabelled/1089.png</h4><img src=\"dataset_students/classification/train_unlabelled/1089.png\"/>\n",
              "            <a href=\"#!\">\n",
              "                <span class=\"ipyplot-img-close\"/>\n",
              "            </a>\n",
              "            <a href=\"#ipyplot-content-div-NoHv2JEebfY2JnGonZz2rN-GH5gEZZet6oC5EqFmKEh7M\">\n",
              "                <span class=\"ipyplot-img-expand\"/>\n",
              "            </a>\n",
              "        </div>\n",
              "    </div>\n",
              "    \n",
              "    <div class=\"ipyplot-placeholder-div-NoHv2JEebfY2JnGonZz2rN\">\n",
              "        <div id=\"ipyplot-content-div-NoHv2JEebfY2JnGonZz2rN-cvxNGkZbA7oX7qD2NE3vpD\" class=\"ipyplot-content-div-NoHv2JEebfY2JnGonZz2rN\">\n",
              "            <h4 style=\"font-size: 12px; word-wrap: break-word;\">5</h4>\n",
              "            <h4 style=\"font-size: 9px; padding-left: 10px; padding-right: 10px; width: 95%; word-wrap: break-word; white-space: normal;\">dataset_students/classification/train_unlabelled/585.png</h4><img src=\"dataset_students/classification/train_unlabelled/585.png\"/>\n",
              "            <a href=\"#!\">\n",
              "                <span class=\"ipyplot-img-close\"/>\n",
              "            </a>\n",
              "            <a href=\"#ipyplot-content-div-NoHv2JEebfY2JnGonZz2rN-cvxNGkZbA7oX7qD2NE3vpD\">\n",
              "                <span class=\"ipyplot-img-expand\"/>\n",
              "            </a>\n",
              "        </div>\n",
              "    </div>\n",
              "    \n",
              "    <div class=\"ipyplot-placeholder-div-NoHv2JEebfY2JnGonZz2rN\">\n",
              "        <div id=\"ipyplot-content-div-NoHv2JEebfY2JnGonZz2rN-Qcgdu3CbKsQP9DL4b5hmi5\" class=\"ipyplot-content-div-NoHv2JEebfY2JnGonZz2rN\">\n",
              "            <h4 style=\"font-size: 12px; word-wrap: break-word;\">6</h4>\n",
              "            <h4 style=\"font-size: 9px; padding-left: 10px; padding-right: 10px; width: 95%; word-wrap: break-word; white-space: normal;\">dataset_students/classification/train_unlabelled/1658.png</h4><img src=\"dataset_students/classification/train_unlabelled/1658.png\"/>\n",
              "            <a href=\"#!\">\n",
              "                <span class=\"ipyplot-img-close\"/>\n",
              "            </a>\n",
              "            <a href=\"#ipyplot-content-div-NoHv2JEebfY2JnGonZz2rN-Qcgdu3CbKsQP9DL4b5hmi5\">\n",
              "                <span class=\"ipyplot-img-expand\"/>\n",
              "            </a>\n",
              "        </div>\n",
              "    </div>\n",
              "    \n",
              "    <div class=\"ipyplot-placeholder-div-NoHv2JEebfY2JnGonZz2rN\">\n",
              "        <div id=\"ipyplot-content-div-NoHv2JEebfY2JnGonZz2rN-7nxE9vTLacFtg49T2wENBg\" class=\"ipyplot-content-div-NoHv2JEebfY2JnGonZz2rN\">\n",
              "            <h4 style=\"font-size: 12px; word-wrap: break-word;\">7</h4>\n",
              "            <h4 style=\"font-size: 9px; padding-left: 10px; padding-right: 10px; width: 95%; word-wrap: break-word; white-space: normal;\">dataset_students/classification/train_unlabelled/407.png</h4><img src=\"dataset_students/classification/train_unlabelled/407.png\"/>\n",
              "            <a href=\"#!\">\n",
              "                <span class=\"ipyplot-img-close\"/>\n",
              "            </a>\n",
              "            <a href=\"#ipyplot-content-div-NoHv2JEebfY2JnGonZz2rN-7nxE9vTLacFtg49T2wENBg\">\n",
              "                <span class=\"ipyplot-img-expand\"/>\n",
              "            </a>\n",
              "        </div>\n",
              "    </div>\n",
              "    \n",
              "    <div class=\"ipyplot-placeholder-div-NoHv2JEebfY2JnGonZz2rN\">\n",
              "        <div id=\"ipyplot-content-div-NoHv2JEebfY2JnGonZz2rN-kRpDzzzgUGA5ZTsMC8FLZf\" class=\"ipyplot-content-div-NoHv2JEebfY2JnGonZz2rN\">\n",
              "            <h4 style=\"font-size: 12px; word-wrap: break-word;\">8</h4>\n",
              "            <h4 style=\"font-size: 9px; padding-left: 10px; padding-right: 10px; width: 95%; word-wrap: break-word; white-space: normal;\">dataset_students/classification/train_unlabelled/1183.png</h4><img src=\"dataset_students/classification/train_unlabelled/1183.png\"/>\n",
              "            <a href=\"#!\">\n",
              "                <span class=\"ipyplot-img-close\"/>\n",
              "            </a>\n",
              "            <a href=\"#ipyplot-content-div-NoHv2JEebfY2JnGonZz2rN-kRpDzzzgUGA5ZTsMC8FLZf\">\n",
              "                <span class=\"ipyplot-img-expand\"/>\n",
              "            </a>\n",
              "        </div>\n",
              "    </div>\n",
              "    \n",
              "    <div class=\"ipyplot-placeholder-div-NoHv2JEebfY2JnGonZz2rN\">\n",
              "        <div id=\"ipyplot-content-div-NoHv2JEebfY2JnGonZz2rN-ho6PryJ7mtuUYZXFe5sgqH\" class=\"ipyplot-content-div-NoHv2JEebfY2JnGonZz2rN\">\n",
              "            <h4 style=\"font-size: 12px; word-wrap: break-word;\">9</h4>\n",
              "            <h4 style=\"font-size: 9px; padding-left: 10px; padding-right: 10px; width: 95%; word-wrap: break-word; white-space: normal;\">dataset_students/classification/train_unlabelled/364.png</h4><img src=\"dataset_students/classification/train_unlabelled/364.png\"/>\n",
              "            <a href=\"#!\">\n",
              "                <span class=\"ipyplot-img-close\"/>\n",
              "            </a>\n",
              "            <a href=\"#ipyplot-content-div-NoHv2JEebfY2JnGonZz2rN-ho6PryJ7mtuUYZXFe5sgqH\">\n",
              "                <span class=\"ipyplot-img-expand\"/>\n",
              "            </a>\n",
              "        </div>\n",
              "    </div>\n",
              "    \n",
              "    <div class=\"ipyplot-placeholder-div-NoHv2JEebfY2JnGonZz2rN\">\n",
              "        <div id=\"ipyplot-content-div-NoHv2JEebfY2JnGonZz2rN-JXdzxqpxLDkf3Xe8BMw93F\" class=\"ipyplot-content-div-NoHv2JEebfY2JnGonZz2rN\">\n",
              "            <h4 style=\"font-size: 12px; word-wrap: break-word;\">10</h4>\n",
              "            <h4 style=\"font-size: 9px; padding-left: 10px; padding-right: 10px; width: 95%; word-wrap: break-word; white-space: normal;\">dataset_students/classification/train_unlabelled/877.png</h4><img src=\"dataset_students/classification/train_unlabelled/877.png\"/>\n",
              "            <a href=\"#!\">\n",
              "                <span class=\"ipyplot-img-close\"/>\n",
              "            </a>\n",
              "            <a href=\"#ipyplot-content-div-NoHv2JEebfY2JnGonZz2rN-JXdzxqpxLDkf3Xe8BMw93F\">\n",
              "                <span class=\"ipyplot-img-expand\"/>\n",
              "            </a>\n",
              "        </div>\n",
              "    </div>\n",
              "    \n",
              "    <div class=\"ipyplot-placeholder-div-NoHv2JEebfY2JnGonZz2rN\">\n",
              "        <div id=\"ipyplot-content-div-NoHv2JEebfY2JnGonZz2rN-GBdvFhBbKgtSLYhLqrPnp3\" class=\"ipyplot-content-div-NoHv2JEebfY2JnGonZz2rN\">\n",
              "            <h4 style=\"font-size: 12px; word-wrap: break-word;\">11</h4>\n",
              "            <h4 style=\"font-size: 9px; padding-left: 10px; padding-right: 10px; width: 95%; word-wrap: break-word; white-space: normal;\">dataset_students/classification/train_unlabelled/665.png</h4><img src=\"dataset_students/classification/train_unlabelled/665.png\"/>\n",
              "            <a href=\"#!\">\n",
              "                <span class=\"ipyplot-img-close\"/>\n",
              "            </a>\n",
              "            <a href=\"#ipyplot-content-div-NoHv2JEebfY2JnGonZz2rN-GBdvFhBbKgtSLYhLqrPnp3\">\n",
              "                <span class=\"ipyplot-img-expand\"/>\n",
              "            </a>\n",
              "        </div>\n",
              "    </div>\n",
              "    \n",
              "    <div class=\"ipyplot-placeholder-div-NoHv2JEebfY2JnGonZz2rN\">\n",
              "        <div id=\"ipyplot-content-div-NoHv2JEebfY2JnGonZz2rN-ExMziVAykUVSeGF9eM3CEY\" class=\"ipyplot-content-div-NoHv2JEebfY2JnGonZz2rN\">\n",
              "            <h4 style=\"font-size: 12px; word-wrap: break-word;\">12</h4>\n",
              "            <h4 style=\"font-size: 9px; padding-left: 10px; padding-right: 10px; width: 95%; word-wrap: break-word; white-space: normal;\">dataset_students/classification/train_unlabelled/1539.png</h4><img src=\"dataset_students/classification/train_unlabelled/1539.png\"/>\n",
              "            <a href=\"#!\">\n",
              "                <span class=\"ipyplot-img-close\"/>\n",
              "            </a>\n",
              "            <a href=\"#ipyplot-content-div-NoHv2JEebfY2JnGonZz2rN-ExMziVAykUVSeGF9eM3CEY\">\n",
              "                <span class=\"ipyplot-img-expand\"/>\n",
              "            </a>\n",
              "        </div>\n",
              "    </div>\n",
              "    \n",
              "    <div class=\"ipyplot-placeholder-div-NoHv2JEebfY2JnGonZz2rN\">\n",
              "        <div id=\"ipyplot-content-div-NoHv2JEebfY2JnGonZz2rN-hfnEfVfhLjeBsrUSnBjiNZ\" class=\"ipyplot-content-div-NoHv2JEebfY2JnGonZz2rN\">\n",
              "            <h4 style=\"font-size: 12px; word-wrap: break-word;\">13</h4>\n",
              "            <h4 style=\"font-size: 9px; padding-left: 10px; padding-right: 10px; width: 95%; word-wrap: break-word; white-space: normal;\">dataset_students/classification/train_unlabelled/1196.png</h4><img src=\"dataset_students/classification/train_unlabelled/1196.png\"/>\n",
              "            <a href=\"#!\">\n",
              "                <span class=\"ipyplot-img-close\"/>\n",
              "            </a>\n",
              "            <a href=\"#ipyplot-content-div-NoHv2JEebfY2JnGonZz2rN-hfnEfVfhLjeBsrUSnBjiNZ\">\n",
              "                <span class=\"ipyplot-img-expand\"/>\n",
              "            </a>\n",
              "        </div>\n",
              "    </div>\n",
              "    \n",
              "    <div class=\"ipyplot-placeholder-div-NoHv2JEebfY2JnGonZz2rN\">\n",
              "        <div id=\"ipyplot-content-div-NoHv2JEebfY2JnGonZz2rN-MeMmZqoUZmhZtaZgYQRjAo\" class=\"ipyplot-content-div-NoHv2JEebfY2JnGonZz2rN\">\n",
              "            <h4 style=\"font-size: 12px; word-wrap: break-word;\">14</h4>\n",
              "            <h4 style=\"font-size: 9px; padding-left: 10px; padding-right: 10px; width: 95%; word-wrap: break-word; white-space: normal;\">dataset_students/classification/train_unlabelled/1631.png</h4><img src=\"dataset_students/classification/train_unlabelled/1631.png\"/>\n",
              "            <a href=\"#!\">\n",
              "                <span class=\"ipyplot-img-close\"/>\n",
              "            </a>\n",
              "            <a href=\"#ipyplot-content-div-NoHv2JEebfY2JnGonZz2rN-MeMmZqoUZmhZtaZgYQRjAo\">\n",
              "                <span class=\"ipyplot-img-expand\"/>\n",
              "            </a>\n",
              "        </div>\n",
              "    </div>\n",
              "    \n",
              "    <div class=\"ipyplot-placeholder-div-NoHv2JEebfY2JnGonZz2rN\">\n",
              "        <div id=\"ipyplot-content-div-NoHv2JEebfY2JnGonZz2rN-kBnmesZJb4iJQD77Ge4WNj\" class=\"ipyplot-content-div-NoHv2JEebfY2JnGonZz2rN\">\n",
              "            <h4 style=\"font-size: 12px; word-wrap: break-word;\">15</h4>\n",
              "            <h4 style=\"font-size: 9px; padding-left: 10px; padding-right: 10px; width: 95%; word-wrap: break-word; white-space: normal;\">dataset_students/classification/train_unlabelled/843.png</h4><img src=\"dataset_students/classification/train_unlabelled/843.png\"/>\n",
              "            <a href=\"#!\">\n",
              "                <span class=\"ipyplot-img-close\"/>\n",
              "            </a>\n",
              "            <a href=\"#ipyplot-content-div-NoHv2JEebfY2JnGonZz2rN-kBnmesZJb4iJQD77Ge4WNj\">\n",
              "                <span class=\"ipyplot-img-expand\"/>\n",
              "            </a>\n",
              "        </div>\n",
              "    </div>\n",
              "    \n",
              "    <div class=\"ipyplot-placeholder-div-NoHv2JEebfY2JnGonZz2rN\">\n",
              "        <div id=\"ipyplot-content-div-NoHv2JEebfY2JnGonZz2rN-5pz6iKhJy28o8mS4AovRBT\" class=\"ipyplot-content-div-NoHv2JEebfY2JnGonZz2rN\">\n",
              "            <h4 style=\"font-size: 12px; word-wrap: break-word;\">16</h4>\n",
              "            <h4 style=\"font-size: 9px; padding-left: 10px; padding-right: 10px; width: 95%; word-wrap: break-word; white-space: normal;\">dataset_students/classification/train_unlabelled/552.png</h4><img src=\"dataset_students/classification/train_unlabelled/552.png\"/>\n",
              "            <a href=\"#!\">\n",
              "                <span class=\"ipyplot-img-close\"/>\n",
              "            </a>\n",
              "            <a href=\"#ipyplot-content-div-NoHv2JEebfY2JnGonZz2rN-5pz6iKhJy28o8mS4AovRBT\">\n",
              "                <span class=\"ipyplot-img-expand\"/>\n",
              "            </a>\n",
              "        </div>\n",
              "    </div>\n",
              "    \n",
              "    <div class=\"ipyplot-placeholder-div-NoHv2JEebfY2JnGonZz2rN\">\n",
              "        <div id=\"ipyplot-content-div-NoHv2JEebfY2JnGonZz2rN-gLZ4ECnogBRDQw3bDgRjo2\" class=\"ipyplot-content-div-NoHv2JEebfY2JnGonZz2rN\">\n",
              "            <h4 style=\"font-size: 12px; word-wrap: break-word;\">17</h4>\n",
              "            <h4 style=\"font-size: 9px; padding-left: 10px; padding-right: 10px; width: 95%; word-wrap: break-word; white-space: normal;\">dataset_students/classification/train_unlabelled/1763.png</h4><img src=\"dataset_students/classification/train_unlabelled/1763.png\"/>\n",
              "            <a href=\"#!\">\n",
              "                <span class=\"ipyplot-img-close\"/>\n",
              "            </a>\n",
              "            <a href=\"#ipyplot-content-div-NoHv2JEebfY2JnGonZz2rN-gLZ4ECnogBRDQw3bDgRjo2\">\n",
              "                <span class=\"ipyplot-img-expand\"/>\n",
              "            </a>\n",
              "        </div>\n",
              "    </div>\n",
              "    \n",
              "    <div class=\"ipyplot-placeholder-div-NoHv2JEebfY2JnGonZz2rN\">\n",
              "        <div id=\"ipyplot-content-div-NoHv2JEebfY2JnGonZz2rN-n3ucqWYCixMMJXsnbfc5EH\" class=\"ipyplot-content-div-NoHv2JEebfY2JnGonZz2rN\">\n",
              "            <h4 style=\"font-size: 12px; word-wrap: break-word;\">18</h4>\n",
              "            <h4 style=\"font-size: 9px; padding-left: 10px; padding-right: 10px; width: 95%; word-wrap: break-word; white-space: normal;\">dataset_students/classification/train_unlabelled/631.png</h4><img src=\"dataset_students/classification/train_unlabelled/631.png\"/>\n",
              "            <a href=\"#!\">\n",
              "                <span class=\"ipyplot-img-close\"/>\n",
              "            </a>\n",
              "            <a href=\"#ipyplot-content-div-NoHv2JEebfY2JnGonZz2rN-n3ucqWYCixMMJXsnbfc5EH\">\n",
              "                <span class=\"ipyplot-img-expand\"/>\n",
              "            </a>\n",
              "        </div>\n",
              "    </div>\n",
              "    \n",
              "    <div class=\"ipyplot-placeholder-div-NoHv2JEebfY2JnGonZz2rN\">\n",
              "        <div id=\"ipyplot-content-div-NoHv2JEebfY2JnGonZz2rN-bGLbRccYtjwg4u8vtspvhJ\" class=\"ipyplot-content-div-NoHv2JEebfY2JnGonZz2rN\">\n",
              "            <h4 style=\"font-size: 12px; word-wrap: break-word;\">19</h4>\n",
              "            <h4 style=\"font-size: 9px; padding-left: 10px; padding-right: 10px; width: 95%; word-wrap: break-word; white-space: normal;\">dataset_students/classification/train_unlabelled/540.png</h4><img src=\"dataset_students/classification/train_unlabelled/540.png\"/>\n",
              "            <a href=\"#!\">\n",
              "                <span class=\"ipyplot-img-close\"/>\n",
              "            </a>\n",
              "            <a href=\"#ipyplot-content-div-NoHv2JEebfY2JnGonZz2rN-bGLbRccYtjwg4u8vtspvhJ\">\n",
              "                <span class=\"ipyplot-img-expand\"/>\n",
              "            </a>\n",
              "        </div>\n",
              "    </div>\n",
              "    \n",
              "    <div class=\"ipyplot-placeholder-div-NoHv2JEebfY2JnGonZz2rN\">\n",
              "        <div id=\"ipyplot-content-div-NoHv2JEebfY2JnGonZz2rN-jrbTMHFVwhivdgWgUepmYg\" class=\"ipyplot-content-div-NoHv2JEebfY2JnGonZz2rN\">\n",
              "            <h4 style=\"font-size: 12px; word-wrap: break-word;\">20</h4>\n",
              "            <h4 style=\"font-size: 9px; padding-left: 10px; padding-right: 10px; width: 95%; word-wrap: break-word; white-space: normal;\">dataset_students/classification/train_unlabelled/1095.png</h4><img src=\"dataset_students/classification/train_unlabelled/1095.png\"/>\n",
              "            <a href=\"#!\">\n",
              "                <span class=\"ipyplot-img-close\"/>\n",
              "            </a>\n",
              "            <a href=\"#ipyplot-content-div-NoHv2JEebfY2JnGonZz2rN-jrbTMHFVwhivdgWgUepmYg\">\n",
              "                <span class=\"ipyplot-img-expand\"/>\n",
              "            </a>\n",
              "        </div>\n",
              "    </div>\n",
              "    \n",
              "    <div class=\"ipyplot-placeholder-div-NoHv2JEebfY2JnGonZz2rN\">\n",
              "        <div id=\"ipyplot-content-div-NoHv2JEebfY2JnGonZz2rN-inqXm7nzZcAXh5GxhLdgoq\" class=\"ipyplot-content-div-NoHv2JEebfY2JnGonZz2rN\">\n",
              "            <h4 style=\"font-size: 12px; word-wrap: break-word;\">21</h4>\n",
              "            <h4 style=\"font-size: 9px; padding-left: 10px; padding-right: 10px; width: 95%; word-wrap: break-word; white-space: normal;\">dataset_students/classification/train_unlabelled/150.png</h4><img src=\"dataset_students/classification/train_unlabelled/150.png\"/>\n",
              "            <a href=\"#!\">\n",
              "                <span class=\"ipyplot-img-close\"/>\n",
              "            </a>\n",
              "            <a href=\"#ipyplot-content-div-NoHv2JEebfY2JnGonZz2rN-inqXm7nzZcAXh5GxhLdgoq\">\n",
              "                <span class=\"ipyplot-img-expand\"/>\n",
              "            </a>\n",
              "        </div>\n",
              "    </div>\n",
              "    \n",
              "    <div class=\"ipyplot-placeholder-div-NoHv2JEebfY2JnGonZz2rN\">\n",
              "        <div id=\"ipyplot-content-div-NoHv2JEebfY2JnGonZz2rN-9wCXYKh8FJDBDij9q4EzVf\" class=\"ipyplot-content-div-NoHv2JEebfY2JnGonZz2rN\">\n",
              "            <h4 style=\"font-size: 12px; word-wrap: break-word;\">22</h4>\n",
              "            <h4 style=\"font-size: 9px; padding-left: 10px; padding-right: 10px; width: 95%; word-wrap: break-word; white-space: normal;\">dataset_students/classification/train_unlabelled/512.png</h4><img src=\"dataset_students/classification/train_unlabelled/512.png\"/>\n",
              "            <a href=\"#!\">\n",
              "                <span class=\"ipyplot-img-close\"/>\n",
              "            </a>\n",
              "            <a href=\"#ipyplot-content-div-NoHv2JEebfY2JnGonZz2rN-9wCXYKh8FJDBDij9q4EzVf\">\n",
              "                <span class=\"ipyplot-img-expand\"/>\n",
              "            </a>\n",
              "        </div>\n",
              "    </div>\n",
              "    \n",
              "    <div class=\"ipyplot-placeholder-div-NoHv2JEebfY2JnGonZz2rN\">\n",
              "        <div id=\"ipyplot-content-div-NoHv2JEebfY2JnGonZz2rN-o6dUDn9qqfhCAGdrXQSnk7\" class=\"ipyplot-content-div-NoHv2JEebfY2JnGonZz2rN\">\n",
              "            <h4 style=\"font-size: 12px; word-wrap: break-word;\">23</h4>\n",
              "            <h4 style=\"font-size: 9px; padding-left: 10px; padding-right: 10px; width: 95%; word-wrap: break-word; white-space: normal;\">dataset_students/classification/train_unlabelled/1614.png</h4><img src=\"dataset_students/classification/train_unlabelled/1614.png\"/>\n",
              "            <a href=\"#!\">\n",
              "                <span class=\"ipyplot-img-close\"/>\n",
              "            </a>\n",
              "            <a href=\"#ipyplot-content-div-NoHv2JEebfY2JnGonZz2rN-o6dUDn9qqfhCAGdrXQSnk7\">\n",
              "                <span class=\"ipyplot-img-expand\"/>\n",
              "            </a>\n",
              "        </div>\n",
              "    </div>\n",
              "    \n",
              "    <div class=\"ipyplot-placeholder-div-NoHv2JEebfY2JnGonZz2rN\">\n",
              "        <div id=\"ipyplot-content-div-NoHv2JEebfY2JnGonZz2rN-GiBELnsUW85zmaYJVvqzxV\" class=\"ipyplot-content-div-NoHv2JEebfY2JnGonZz2rN\">\n",
              "            <h4 style=\"font-size: 12px; word-wrap: break-word;\">24</h4>\n",
              "            <h4 style=\"font-size: 9px; padding-left: 10px; padding-right: 10px; width: 95%; word-wrap: break-word; white-space: normal;\">dataset_students/classification/train_unlabelled/1366.png</h4><img src=\"dataset_students/classification/train_unlabelled/1366.png\"/>\n",
              "            <a href=\"#!\">\n",
              "                <span class=\"ipyplot-img-close\"/>\n",
              "            </a>\n",
              "            <a href=\"#ipyplot-content-div-NoHv2JEebfY2JnGonZz2rN-GiBELnsUW85zmaYJVvqzxV\">\n",
              "                <span class=\"ipyplot-img-expand\"/>\n",
              "            </a>\n",
              "        </div>\n",
              "    </div>\n",
              "    \n",
              "    <div class=\"ipyplot-placeholder-div-NoHv2JEebfY2JnGonZz2rN\">\n",
              "        <div id=\"ipyplot-content-div-NoHv2JEebfY2JnGonZz2rN-7F2XQYN9pVbYA8jmapuTfh\" class=\"ipyplot-content-div-NoHv2JEebfY2JnGonZz2rN\">\n",
              "            <h4 style=\"font-size: 12px; word-wrap: break-word;\">25</h4>\n",
              "            <h4 style=\"font-size: 9px; padding-left: 10px; padding-right: 10px; width: 95%; word-wrap: break-word; white-space: normal;\">dataset_students/classification/train_unlabelled/1283.png</h4><img src=\"dataset_students/classification/train_unlabelled/1283.png\"/>\n",
              "            <a href=\"#!\">\n",
              "                <span class=\"ipyplot-img-close\"/>\n",
              "            </a>\n",
              "            <a href=\"#ipyplot-content-div-NoHv2JEebfY2JnGonZz2rN-7F2XQYN9pVbYA8jmapuTfh\">\n",
              "                <span class=\"ipyplot-img-expand\"/>\n",
              "            </a>\n",
              "        </div>\n",
              "    </div>\n",
              "    \n",
              "    <div class=\"ipyplot-placeholder-div-NoHv2JEebfY2JnGonZz2rN\">\n",
              "        <div id=\"ipyplot-content-div-NoHv2JEebfY2JnGonZz2rN-cEeEGHUBbh64ckv5h2v5wx\" class=\"ipyplot-content-div-NoHv2JEebfY2JnGonZz2rN\">\n",
              "            <h4 style=\"font-size: 12px; word-wrap: break-word;\">26</h4>\n",
              "            <h4 style=\"font-size: 9px; padding-left: 10px; padding-right: 10px; width: 95%; word-wrap: break-word; white-space: normal;\">dataset_students/classification/train_unlabelled/880.png</h4><img src=\"dataset_students/classification/train_unlabelled/880.png\"/>\n",
              "            <a href=\"#!\">\n",
              "                <span class=\"ipyplot-img-close\"/>\n",
              "            </a>\n",
              "            <a href=\"#ipyplot-content-div-NoHv2JEebfY2JnGonZz2rN-cEeEGHUBbh64ckv5h2v5wx\">\n",
              "                <span class=\"ipyplot-img-expand\"/>\n",
              "            </a>\n",
              "        </div>\n",
              "    </div>\n",
              "    \n",
              "    <div class=\"ipyplot-placeholder-div-NoHv2JEebfY2JnGonZz2rN\">\n",
              "        <div id=\"ipyplot-content-div-NoHv2JEebfY2JnGonZz2rN-eCxX4yMN3NHEX5pw23bTGQ\" class=\"ipyplot-content-div-NoHv2JEebfY2JnGonZz2rN\">\n",
              "            <h4 style=\"font-size: 12px; word-wrap: break-word;\">27</h4>\n",
              "            <h4 style=\"font-size: 9px; padding-left: 10px; padding-right: 10px; width: 95%; word-wrap: break-word; white-space: normal;\">dataset_students/classification/train_unlabelled/675.png</h4><img src=\"dataset_students/classification/train_unlabelled/675.png\"/>\n",
              "            <a href=\"#!\">\n",
              "                <span class=\"ipyplot-img-close\"/>\n",
              "            </a>\n",
              "            <a href=\"#ipyplot-content-div-NoHv2JEebfY2JnGonZz2rN-eCxX4yMN3NHEX5pw23bTGQ\">\n",
              "                <span class=\"ipyplot-img-expand\"/>\n",
              "            </a>\n",
              "        </div>\n",
              "    </div>\n",
              "    \n",
              "    <div class=\"ipyplot-placeholder-div-NoHv2JEebfY2JnGonZz2rN\">\n",
              "        <div id=\"ipyplot-content-div-NoHv2JEebfY2JnGonZz2rN-DWq4okbh7NKhRuHedqjto7\" class=\"ipyplot-content-div-NoHv2JEebfY2JnGonZz2rN\">\n",
              "            <h4 style=\"font-size: 12px; word-wrap: break-word;\">28</h4>\n",
              "            <h4 style=\"font-size: 9px; padding-left: 10px; padding-right: 10px; width: 95%; word-wrap: break-word; white-space: normal;\">dataset_students/classification/train_unlabelled/760.png</h4><img src=\"dataset_students/classification/train_unlabelled/760.png\"/>\n",
              "            <a href=\"#!\">\n",
              "                <span class=\"ipyplot-img-close\"/>\n",
              "            </a>\n",
              "            <a href=\"#ipyplot-content-div-NoHv2JEebfY2JnGonZz2rN-DWq4okbh7NKhRuHedqjto7\">\n",
              "                <span class=\"ipyplot-img-expand\"/>\n",
              "            </a>\n",
              "        </div>\n",
              "    </div>\n",
              "    \n",
              "    <div class=\"ipyplot-placeholder-div-NoHv2JEebfY2JnGonZz2rN\">\n",
              "        <div id=\"ipyplot-content-div-NoHv2JEebfY2JnGonZz2rN-kyqJ5EygpD9nD5WUEx3DuS\" class=\"ipyplot-content-div-NoHv2JEebfY2JnGonZz2rN\">\n",
              "            <h4 style=\"font-size: 12px; word-wrap: break-word;\">29</h4>\n",
              "            <h4 style=\"font-size: 9px; padding-left: 10px; padding-right: 10px; width: 95%; word-wrap: break-word; white-space: normal;\">dataset_students/classification/train_unlabelled/276.png</h4><img src=\"dataset_students/classification/train_unlabelled/276.png\"/>\n",
              "            <a href=\"#!\">\n",
              "                <span class=\"ipyplot-img-close\"/>\n",
              "            </a>\n",
              "            <a href=\"#ipyplot-content-div-NoHv2JEebfY2JnGonZz2rN-kyqJ5EygpD9nD5WUEx3DuS\">\n",
              "                <span class=\"ipyplot-img-expand\"/>\n",
              "            </a>\n",
              "        </div>\n",
              "    </div>\n",
              "    </div></div></div>\n",
              "        </textarea>\n",
              "    </div>\n",
              "    "
            ]
          },
          "metadata": {}
        },
        {
          "output_type": "display_data",
          "data": {
            "text/plain": [
              "<IPython.core.display.HTML object>"
            ],
            "text/html": [
              "<div>\n",
              "        <style>\n",
              "            input.ipyplot-tab-53oztfAF99u6XpnmHVy4Gc {\n",
              "                display: none;\n",
              "            }\n",
              "            input.ipyplot-tab-53oztfAF99u6XpnmHVy4Gc + label.ipyplot-tab-label-53oztfAF99u6XpnmHVy4Gc {\n",
              "                border: 1px solid #999;\n",
              "                background: #EEE;\n",
              "                padding: 4px 12px;\n",
              "                border-radius: 4px 4px 0 0;\n",
              "                position: relative;\n",
              "                top: 1px;\n",
              "            }\n",
              "            input.ipyplot-tab-53oztfAF99u6XpnmHVy4Gc:checked + label.ipyplot-tab-label-53oztfAF99u6XpnmHVy4Gc {\n",
              "                background: #FFF;\n",
              "                border-bottom: 1px solid transparent;\n",
              "            }\n",
              "            input.ipyplot-tab-53oztfAF99u6XpnmHVy4Gc ~ .tab {\n",
              "                border-top: 1px solid #999;\n",
              "                padding: 12px;\n",
              "            }\n",
              "\n",
              "            input.ipyplot-tab-53oztfAF99u6XpnmHVy4Gc ~ .tab {\n",
              "                display: none\n",
              "            }\n",
              "    #tabAZBn4eXJn8E236Zqum9JvX:checked ~ .tab.contentAZBn4eXJn8E236Zqum9JvX,#tabPDUKT9HDnbL5fhQ6ut2XTP:checked ~ .tab.contentPDUKT9HDnbL5fhQ6ut2XTP,#tab94SvHq4FH9a92BgpKf2pAm:checked ~ .tab.content94SvHq4FH9a92BgpKf2pAm{ display: block; }</style><input class=\"ipyplot-tab-53oztfAF99u6XpnmHVy4Gc\" type=\"radio\" name=\"tabs-53oztfAF99u6XpnmHVy4Gc\" id=\"tabAZBn4eXJn8E236Zqum9JvX\" checked /><label class=\"ipyplot-tab-label-53oztfAF99u6XpnmHVy4Gc\" for=\"tabAZBn4eXJn8E236Zqum9JvX\">0</label><input class=\"ipyplot-tab-53oztfAF99u6XpnmHVy4Gc\" type=\"radio\" name=\"tabs-53oztfAF99u6XpnmHVy4Gc\" id=\"tabPDUKT9HDnbL5fhQ6ut2XTP\"/><label class=\"ipyplot-tab-label-53oztfAF99u6XpnmHVy4Gc\" for=\"tabPDUKT9HDnbL5fhQ6ut2XTP\">1</label><input class=\"ipyplot-tab-53oztfAF99u6XpnmHVy4Gc\" type=\"radio\" name=\"tabs-53oztfAF99u6XpnmHVy4Gc\" id=\"tab94SvHq4FH9a92BgpKf2pAm\"/><label class=\"ipyplot-tab-label-53oztfAF99u6XpnmHVy4Gc\" for=\"tab94SvHq4FH9a92BgpKf2pAm\">2</label><div class=\"tab contentAZBn4eXJn8E236Zqum9JvX\">\n",
              "        <style>\n",
              "        #ipyplot-imgs-container-div-QNgyoNvqGexibESMdSxdj2 {\n",
              "            width: 100%;\n",
              "            height: 100%;\n",
              "            margin: 0%;\n",
              "            overflow: auto;\n",
              "            position: relative;\n",
              "            overflow-y: scroll;\n",
              "        }\n",
              "\n",
              "        div.ipyplot-placeholder-div-QNgyoNvqGexibESMdSxdj2 {\n",
              "            width: 150px;\n",
              "            display: inline-block;\n",
              "            margin: 3px;\n",
              "            position: relative;\n",
              "        }\n",
              "\n",
              "        div.ipyplot-content-div-QNgyoNvqGexibESMdSxdj2 {\n",
              "            width: 150px;\n",
              "            background: white;\n",
              "            display: inline-block;\n",
              "            vertical-align: top;\n",
              "            text-align: center;\n",
              "            position: relative;\n",
              "            border: 2px solid #ddd;\n",
              "            top: 0;\n",
              "            left: 0;\n",
              "        }\n",
              "\n",
              "        div.ipyplot-content-div-QNgyoNvqGexibESMdSxdj2 span.ipyplot-img-close {\n",
              "            display: none;\n",
              "        }\n",
              "\n",
              "        div.ipyplot-content-div-QNgyoNvqGexibESMdSxdj2 span {\n",
              "            width: 100%;\n",
              "            height: 100%;\n",
              "            position: absolute;\n",
              "            top: 0;\n",
              "            left: 0;\n",
              "        }\n",
              "\n",
              "        div.ipyplot-content-div-QNgyoNvqGexibESMdSxdj2 img {\n",
              "            width: 150px;\n",
              "        }\n",
              "\n",
              "        div.ipyplot-content-div-QNgyoNvqGexibESMdSxdj2 span.ipyplot-img-close:hover {\n",
              "            cursor: zoom-out;\n",
              "        }\n",
              "        div.ipyplot-content-div-QNgyoNvqGexibESMdSxdj2 span.ipyplot-img-expand:hover {\n",
              "            cursor: zoom-in;\n",
              "        }\n",
              "\n",
              "        div[id^=ipyplot-content-div-QNgyoNvqGexibESMdSxdj2]:target {\n",
              "            transform: scale(2.5);\n",
              "            transform-origin: left top;\n",
              "            z-index: 5000;\n",
              "            top: 0;\n",
              "            left: 0;\n",
              "            position: absolute;\n",
              "        }\n",
              "\n",
              "        div[id^=ipyplot-content-div-QNgyoNvqGexibESMdSxdj2]:target span.ipyplot-img-close {\n",
              "            display: block;\n",
              "        }\n",
              "\n",
              "        div[id^=ipyplot-content-div-QNgyoNvqGexibESMdSxdj2]:target span.ipyplot-img-expand {\n",
              "            display: none;\n",
              "        }\n",
              "        </style>\n",
              "    <div id=\"ipyplot-imgs-container-div-QNgyoNvqGexibESMdSxdj2\">\n",
              "    <div class=\"ipyplot-placeholder-div-QNgyoNvqGexibESMdSxdj2\">\n",
              "        <div id=\"ipyplot-content-div-QNgyoNvqGexibESMdSxdj2-WNnThW3hz8MqBTrmEw8WcD\" class=\"ipyplot-content-div-QNgyoNvqGexibESMdSxdj2\">\n",
              "            <h4 style=\"font-size: 12px; word-wrap: break-word;\">0</h4>\n",
              "            <h4 style=\"font-size: 9px; padding-left: 10px; padding-right: 10px; width: 95%; word-wrap: break-word; white-space: normal;\">dataset_students/classification/train_labelled/0.png</h4><img src=\"dataset_students/classification/train_labelled/0.png\"/>\n",
              "            <a href=\"#!\">\n",
              "                <span class=\"ipyplot-img-close\"/>\n",
              "            </a>\n",
              "            <a href=\"#ipyplot-content-div-QNgyoNvqGexibESMdSxdj2-WNnThW3hz8MqBTrmEw8WcD\">\n",
              "                <span class=\"ipyplot-img-expand\"/>\n",
              "            </a>\n",
              "        </div>\n",
              "    </div>\n",
              "    \n",
              "    <div class=\"ipyplot-placeholder-div-QNgyoNvqGexibESMdSxdj2\">\n",
              "        <div id=\"ipyplot-content-div-QNgyoNvqGexibESMdSxdj2-SgHiwVL3SmNgKmsoER4cuw\" class=\"ipyplot-content-div-QNgyoNvqGexibESMdSxdj2\">\n",
              "            <h4 style=\"font-size: 12px; word-wrap: break-word;\">1</h4>\n",
              "            <h4 style=\"font-size: 9px; padding-left: 10px; padding-right: 10px; width: 95%; word-wrap: break-word; white-space: normal;\">dataset_students/classification/train_labelled/5.png</h4><img src=\"dataset_students/classification/train_labelled/5.png\"/>\n",
              "            <a href=\"#!\">\n",
              "                <span class=\"ipyplot-img-close\"/>\n",
              "            </a>\n",
              "            <a href=\"#ipyplot-content-div-QNgyoNvqGexibESMdSxdj2-SgHiwVL3SmNgKmsoER4cuw\">\n",
              "                <span class=\"ipyplot-img-expand\"/>\n",
              "            </a>\n",
              "        </div>\n",
              "    </div>\n",
              "    \n",
              "    <div class=\"ipyplot-placeholder-div-QNgyoNvqGexibESMdSxdj2\">\n",
              "        <div id=\"ipyplot-content-div-QNgyoNvqGexibESMdSxdj2-8AMe2sEZQgWncvBWz8AMxs\" class=\"ipyplot-content-div-QNgyoNvqGexibESMdSxdj2\">\n",
              "            <h4 style=\"font-size: 12px; word-wrap: break-word;\">2</h4>\n",
              "            <h4 style=\"font-size: 9px; padding-left: 10px; padding-right: 10px; width: 95%; word-wrap: break-word; white-space: normal;\">dataset_students/classification/train_labelled/7.png</h4><img src=\"dataset_students/classification/train_labelled/7.png\"/>\n",
              "            <a href=\"#!\">\n",
              "                <span class=\"ipyplot-img-close\"/>\n",
              "            </a>\n",
              "            <a href=\"#ipyplot-content-div-QNgyoNvqGexibESMdSxdj2-8AMe2sEZQgWncvBWz8AMxs\">\n",
              "                <span class=\"ipyplot-img-expand\"/>\n",
              "            </a>\n",
              "        </div>\n",
              "    </div>\n",
              "    \n",
              "    <div class=\"ipyplot-placeholder-div-QNgyoNvqGexibESMdSxdj2\">\n",
              "        <div id=\"ipyplot-content-div-QNgyoNvqGexibESMdSxdj2-PU4VevCpjQrJcNhBt2e75h\" class=\"ipyplot-content-div-QNgyoNvqGexibESMdSxdj2\">\n",
              "            <h4 style=\"font-size: 12px; word-wrap: break-word;\">3</h4>\n",
              "            <h4 style=\"font-size: 9px; padding-left: 10px; padding-right: 10px; width: 95%; word-wrap: break-word; white-space: normal;\">dataset_students/classification/train_labelled/8.png</h4><img src=\"dataset_students/classification/train_labelled/8.png\"/>\n",
              "            <a href=\"#!\">\n",
              "                <span class=\"ipyplot-img-close\"/>\n",
              "            </a>\n",
              "            <a href=\"#ipyplot-content-div-QNgyoNvqGexibESMdSxdj2-PU4VevCpjQrJcNhBt2e75h\">\n",
              "                <span class=\"ipyplot-img-expand\"/>\n",
              "            </a>\n",
              "        </div>\n",
              "    </div>\n",
              "    \n",
              "    <div class=\"ipyplot-placeholder-div-QNgyoNvqGexibESMdSxdj2\">\n",
              "        <div id=\"ipyplot-content-div-QNgyoNvqGexibESMdSxdj2-5aYxXEjEmMhSUa3CPdQ7sV\" class=\"ipyplot-content-div-QNgyoNvqGexibESMdSxdj2\">\n",
              "            <h4 style=\"font-size: 12px; word-wrap: break-word;\">4</h4>\n",
              "            <h4 style=\"font-size: 9px; padding-left: 10px; padding-right: 10px; width: 95%; word-wrap: break-word; white-space: normal;\">dataset_students/classification/train_labelled/11.png</h4><img src=\"dataset_students/classification/train_labelled/11.png\"/>\n",
              "            <a href=\"#!\">\n",
              "                <span class=\"ipyplot-img-close\"/>\n",
              "            </a>\n",
              "            <a href=\"#ipyplot-content-div-QNgyoNvqGexibESMdSxdj2-5aYxXEjEmMhSUa3CPdQ7sV\">\n",
              "                <span class=\"ipyplot-img-expand\"/>\n",
              "            </a>\n",
              "        </div>\n",
              "    </div>\n",
              "    \n",
              "    <div class=\"ipyplot-placeholder-div-QNgyoNvqGexibESMdSxdj2\">\n",
              "        <div id=\"ipyplot-content-div-QNgyoNvqGexibESMdSxdj2-FCAnJg69RiEH5CYX697irm\" class=\"ipyplot-content-div-QNgyoNvqGexibESMdSxdj2\">\n",
              "            <h4 style=\"font-size: 12px; word-wrap: break-word;\">5</h4>\n",
              "            <h4 style=\"font-size: 9px; padding-left: 10px; padding-right: 10px; width: 95%; word-wrap: break-word; white-space: normal;\">dataset_students/classification/train_labelled/13.png</h4><img src=\"dataset_students/classification/train_labelled/13.png\"/>\n",
              "            <a href=\"#!\">\n",
              "                <span class=\"ipyplot-img-close\"/>\n",
              "            </a>\n",
              "            <a href=\"#ipyplot-content-div-QNgyoNvqGexibESMdSxdj2-FCAnJg69RiEH5CYX697irm\">\n",
              "                <span class=\"ipyplot-img-expand\"/>\n",
              "            </a>\n",
              "        </div>\n",
              "    </div>\n",
              "    \n",
              "    <div class=\"ipyplot-placeholder-div-QNgyoNvqGexibESMdSxdj2\">\n",
              "        <div id=\"ipyplot-content-div-QNgyoNvqGexibESMdSxdj2-MuAQn6hFV27PGyWW4otMVa\" class=\"ipyplot-content-div-QNgyoNvqGexibESMdSxdj2\">\n",
              "            <h4 style=\"font-size: 12px; word-wrap: break-word;\">6</h4>\n",
              "            <h4 style=\"font-size: 9px; padding-left: 10px; padding-right: 10px; width: 95%; word-wrap: break-word; white-space: normal;\">dataset_students/classification/train_labelled/14.png</h4><img src=\"dataset_students/classification/train_labelled/14.png\"/>\n",
              "            <a href=\"#!\">\n",
              "                <span class=\"ipyplot-img-close\"/>\n",
              "            </a>\n",
              "            <a href=\"#ipyplot-content-div-QNgyoNvqGexibESMdSxdj2-MuAQn6hFV27PGyWW4otMVa\">\n",
              "                <span class=\"ipyplot-img-expand\"/>\n",
              "            </a>\n",
              "        </div>\n",
              "    </div>\n",
              "    \n",
              "    <div class=\"ipyplot-placeholder-div-QNgyoNvqGexibESMdSxdj2\">\n",
              "        <div id=\"ipyplot-content-div-QNgyoNvqGexibESMdSxdj2-AkLAkhCGv67YZuosHpvfCg\" class=\"ipyplot-content-div-QNgyoNvqGexibESMdSxdj2\">\n",
              "            <h4 style=\"font-size: 12px; word-wrap: break-word;\">7</h4>\n",
              "            <h4 style=\"font-size: 9px; padding-left: 10px; padding-right: 10px; width: 95%; word-wrap: break-word; white-space: normal;\">dataset_students/classification/train_labelled/16.png</h4><img src=\"dataset_students/classification/train_labelled/16.png\"/>\n",
              "            <a href=\"#!\">\n",
              "                <span class=\"ipyplot-img-close\"/>\n",
              "            </a>\n",
              "            <a href=\"#ipyplot-content-div-QNgyoNvqGexibESMdSxdj2-AkLAkhCGv67YZuosHpvfCg\">\n",
              "                <span class=\"ipyplot-img-expand\"/>\n",
              "            </a>\n",
              "        </div>\n",
              "    </div>\n",
              "    \n",
              "    <div class=\"ipyplot-placeholder-div-QNgyoNvqGexibESMdSxdj2\">\n",
              "        <div id=\"ipyplot-content-div-QNgyoNvqGexibESMdSxdj2-Gvi5ijQrauTJCxcNLg8yrr\" class=\"ipyplot-content-div-QNgyoNvqGexibESMdSxdj2\">\n",
              "            <h4 style=\"font-size: 12px; word-wrap: break-word;\">8</h4>\n",
              "            <h4 style=\"font-size: 9px; padding-left: 10px; padding-right: 10px; width: 95%; word-wrap: break-word; white-space: normal;\">dataset_students/classification/train_labelled/17.png</h4><img src=\"dataset_students/classification/train_labelled/17.png\"/>\n",
              "            <a href=\"#!\">\n",
              "                <span class=\"ipyplot-img-close\"/>\n",
              "            </a>\n",
              "            <a href=\"#ipyplot-content-div-QNgyoNvqGexibESMdSxdj2-Gvi5ijQrauTJCxcNLg8yrr\">\n",
              "                <span class=\"ipyplot-img-expand\"/>\n",
              "            </a>\n",
              "        </div>\n",
              "    </div>\n",
              "    \n",
              "    <div class=\"ipyplot-placeholder-div-QNgyoNvqGexibESMdSxdj2\">\n",
              "        <div id=\"ipyplot-content-div-QNgyoNvqGexibESMdSxdj2-6u9BXK98a2yFMSTCxwGuAq\" class=\"ipyplot-content-div-QNgyoNvqGexibESMdSxdj2\">\n",
              "            <h4 style=\"font-size: 12px; word-wrap: break-word;\">9</h4>\n",
              "            <h4 style=\"font-size: 9px; padding-left: 10px; padding-right: 10px; width: 95%; word-wrap: break-word; white-space: normal;\">dataset_students/classification/train_labelled/18.png</h4><img src=\"dataset_students/classification/train_labelled/18.png\"/>\n",
              "            <a href=\"#!\">\n",
              "                <span class=\"ipyplot-img-close\"/>\n",
              "            </a>\n",
              "            <a href=\"#ipyplot-content-div-QNgyoNvqGexibESMdSxdj2-6u9BXK98a2yFMSTCxwGuAq\">\n",
              "                <span class=\"ipyplot-img-expand\"/>\n",
              "            </a>\n",
              "        </div>\n",
              "    </div>\n",
              "    \n",
              "    <div class=\"ipyplot-placeholder-div-QNgyoNvqGexibESMdSxdj2\">\n",
              "        <div id=\"ipyplot-content-div-QNgyoNvqGexibESMdSxdj2-X9TnRZcA63p9Gc6A34bYSq\" class=\"ipyplot-content-div-QNgyoNvqGexibESMdSxdj2\">\n",
              "            <h4 style=\"font-size: 12px; word-wrap: break-word;\">10</h4>\n",
              "            <h4 style=\"font-size: 9px; padding-left: 10px; padding-right: 10px; width: 95%; word-wrap: break-word; white-space: normal;\">dataset_students/classification/train_labelled/19.png</h4><img src=\"dataset_students/classification/train_labelled/19.png\"/>\n",
              "            <a href=\"#!\">\n",
              "                <span class=\"ipyplot-img-close\"/>\n",
              "            </a>\n",
              "            <a href=\"#ipyplot-content-div-QNgyoNvqGexibESMdSxdj2-X9TnRZcA63p9Gc6A34bYSq\">\n",
              "                <span class=\"ipyplot-img-expand\"/>\n",
              "            </a>\n",
              "        </div>\n",
              "    </div>\n",
              "    \n",
              "    <div class=\"ipyplot-placeholder-div-QNgyoNvqGexibESMdSxdj2\">\n",
              "        <div id=\"ipyplot-content-div-QNgyoNvqGexibESMdSxdj2-Mtk7YGahYXW9NB7ZygCKUQ\" class=\"ipyplot-content-div-QNgyoNvqGexibESMdSxdj2\">\n",
              "            <h4 style=\"font-size: 12px; word-wrap: break-word;\">11</h4>\n",
              "            <h4 style=\"font-size: 9px; padding-left: 10px; padding-right: 10px; width: 95%; word-wrap: break-word; white-space: normal;\">dataset_students/classification/train_labelled/21.png</h4><img src=\"dataset_students/classification/train_labelled/21.png\"/>\n",
              "            <a href=\"#!\">\n",
              "                <span class=\"ipyplot-img-close\"/>\n",
              "            </a>\n",
              "            <a href=\"#ipyplot-content-div-QNgyoNvqGexibESMdSxdj2-Mtk7YGahYXW9NB7ZygCKUQ\">\n",
              "                <span class=\"ipyplot-img-expand\"/>\n",
              "            </a>\n",
              "        </div>\n",
              "    </div>\n",
              "    \n",
              "    <div class=\"ipyplot-placeholder-div-QNgyoNvqGexibESMdSxdj2\">\n",
              "        <div id=\"ipyplot-content-div-QNgyoNvqGexibESMdSxdj2-BizCXxVbLovZuKbohAMtYS\" class=\"ipyplot-content-div-QNgyoNvqGexibESMdSxdj2\">\n",
              "            <h4 style=\"font-size: 12px; word-wrap: break-word;\">12</h4>\n",
              "            <h4 style=\"font-size: 9px; padding-left: 10px; padding-right: 10px; width: 95%; word-wrap: break-word; white-space: normal;\">dataset_students/classification/train_labelled/22.png</h4><img src=\"dataset_students/classification/train_labelled/22.png\"/>\n",
              "            <a href=\"#!\">\n",
              "                <span class=\"ipyplot-img-close\"/>\n",
              "            </a>\n",
              "            <a href=\"#ipyplot-content-div-QNgyoNvqGexibESMdSxdj2-BizCXxVbLovZuKbohAMtYS\">\n",
              "                <span class=\"ipyplot-img-expand\"/>\n",
              "            </a>\n",
              "        </div>\n",
              "    </div>\n",
              "    \n",
              "    <div class=\"ipyplot-placeholder-div-QNgyoNvqGexibESMdSxdj2\">\n",
              "        <div id=\"ipyplot-content-div-QNgyoNvqGexibESMdSxdj2-bF9D8ExEx29rBcCwf6Urj2\" class=\"ipyplot-content-div-QNgyoNvqGexibESMdSxdj2\">\n",
              "            <h4 style=\"font-size: 12px; word-wrap: break-word;\">13</h4>\n",
              "            <h4 style=\"font-size: 9px; padding-left: 10px; padding-right: 10px; width: 95%; word-wrap: break-word; white-space: normal;\">dataset_students/classification/train_labelled/25.png</h4><img src=\"dataset_students/classification/train_labelled/25.png\"/>\n",
              "            <a href=\"#!\">\n",
              "                <span class=\"ipyplot-img-close\"/>\n",
              "            </a>\n",
              "            <a href=\"#ipyplot-content-div-QNgyoNvqGexibESMdSxdj2-bF9D8ExEx29rBcCwf6Urj2\">\n",
              "                <span class=\"ipyplot-img-expand\"/>\n",
              "            </a>\n",
              "        </div>\n",
              "    </div>\n",
              "    \n",
              "    <div class=\"ipyplot-placeholder-div-QNgyoNvqGexibESMdSxdj2\">\n",
              "        <div id=\"ipyplot-content-div-QNgyoNvqGexibESMdSxdj2-iSQWpM25eynZiiaaZFR3WH\" class=\"ipyplot-content-div-QNgyoNvqGexibESMdSxdj2\">\n",
              "            <h4 style=\"font-size: 12px; word-wrap: break-word;\">14</h4>\n",
              "            <h4 style=\"font-size: 9px; padding-left: 10px; padding-right: 10px; width: 95%; word-wrap: break-word; white-space: normal;\">dataset_students/classification/train_labelled/26.png</h4><img src=\"dataset_students/classification/train_labelled/26.png\"/>\n",
              "            <a href=\"#!\">\n",
              "                <span class=\"ipyplot-img-close\"/>\n",
              "            </a>\n",
              "            <a href=\"#ipyplot-content-div-QNgyoNvqGexibESMdSxdj2-iSQWpM25eynZiiaaZFR3WH\">\n",
              "                <span class=\"ipyplot-img-expand\"/>\n",
              "            </a>\n",
              "        </div>\n",
              "    </div>\n",
              "    \n",
              "    <div class=\"ipyplot-placeholder-div-QNgyoNvqGexibESMdSxdj2\">\n",
              "        <div id=\"ipyplot-content-div-QNgyoNvqGexibESMdSxdj2-Mfxx26fUxGBGqnHsrS7pmU\" class=\"ipyplot-content-div-QNgyoNvqGexibESMdSxdj2\">\n",
              "            <h4 style=\"font-size: 12px; word-wrap: break-word;\">15</h4>\n",
              "            <h4 style=\"font-size: 9px; padding-left: 10px; padding-right: 10px; width: 95%; word-wrap: break-word; white-space: normal;\">dataset_students/classification/train_labelled/27.png</h4><img src=\"dataset_students/classification/train_labelled/27.png\"/>\n",
              "            <a href=\"#!\">\n",
              "                <span class=\"ipyplot-img-close\"/>\n",
              "            </a>\n",
              "            <a href=\"#ipyplot-content-div-QNgyoNvqGexibESMdSxdj2-Mfxx26fUxGBGqnHsrS7pmU\">\n",
              "                <span class=\"ipyplot-img-expand\"/>\n",
              "            </a>\n",
              "        </div>\n",
              "    </div>\n",
              "    \n",
              "    <div class=\"ipyplot-placeholder-div-QNgyoNvqGexibESMdSxdj2\">\n",
              "        <div id=\"ipyplot-content-div-QNgyoNvqGexibESMdSxdj2-K5Km2yHLnqWoxPQcM2Fo2j\" class=\"ipyplot-content-div-QNgyoNvqGexibESMdSxdj2\">\n",
              "            <h4 style=\"font-size: 12px; word-wrap: break-word;\">16</h4>\n",
              "            <h4 style=\"font-size: 9px; padding-left: 10px; padding-right: 10px; width: 95%; word-wrap: break-word; white-space: normal;\">dataset_students/classification/train_labelled/29.png</h4><img src=\"dataset_students/classification/train_labelled/29.png\"/>\n",
              "            <a href=\"#!\">\n",
              "                <span class=\"ipyplot-img-close\"/>\n",
              "            </a>\n",
              "            <a href=\"#ipyplot-content-div-QNgyoNvqGexibESMdSxdj2-K5Km2yHLnqWoxPQcM2Fo2j\">\n",
              "                <span class=\"ipyplot-img-expand\"/>\n",
              "            </a>\n",
              "        </div>\n",
              "    </div>\n",
              "    \n",
              "    <div class=\"ipyplot-placeholder-div-QNgyoNvqGexibESMdSxdj2\">\n",
              "        <div id=\"ipyplot-content-div-QNgyoNvqGexibESMdSxdj2-ThUowyMmeMcRaZDNMW897L\" class=\"ipyplot-content-div-QNgyoNvqGexibESMdSxdj2\">\n",
              "            <h4 style=\"font-size: 12px; word-wrap: break-word;\">17</h4>\n",
              "            <h4 style=\"font-size: 9px; padding-left: 10px; padding-right: 10px; width: 95%; word-wrap: break-word; white-space: normal;\">dataset_students/classification/train_labelled/30.png</h4><img src=\"dataset_students/classification/train_labelled/30.png\"/>\n",
              "            <a href=\"#!\">\n",
              "                <span class=\"ipyplot-img-close\"/>\n",
              "            </a>\n",
              "            <a href=\"#ipyplot-content-div-QNgyoNvqGexibESMdSxdj2-ThUowyMmeMcRaZDNMW897L\">\n",
              "                <span class=\"ipyplot-img-expand\"/>\n",
              "            </a>\n",
              "        </div>\n",
              "    </div>\n",
              "    \n",
              "    <div class=\"ipyplot-placeholder-div-QNgyoNvqGexibESMdSxdj2\">\n",
              "        <div id=\"ipyplot-content-div-QNgyoNvqGexibESMdSxdj2-keyDdMqbjSEZVqjmK9B48n\" class=\"ipyplot-content-div-QNgyoNvqGexibESMdSxdj2\">\n",
              "            <h4 style=\"font-size: 12px; word-wrap: break-word;\">18</h4>\n",
              "            <h4 style=\"font-size: 9px; padding-left: 10px; padding-right: 10px; width: 95%; word-wrap: break-word; white-space: normal;\">dataset_students/classification/train_labelled/36.png</h4><img src=\"dataset_students/classification/train_labelled/36.png\"/>\n",
              "            <a href=\"#!\">\n",
              "                <span class=\"ipyplot-img-close\"/>\n",
              "            </a>\n",
              "            <a href=\"#ipyplot-content-div-QNgyoNvqGexibESMdSxdj2-keyDdMqbjSEZVqjmK9B48n\">\n",
              "                <span class=\"ipyplot-img-expand\"/>\n",
              "            </a>\n",
              "        </div>\n",
              "    </div>\n",
              "    \n",
              "    <div class=\"ipyplot-placeholder-div-QNgyoNvqGexibESMdSxdj2\">\n",
              "        <div id=\"ipyplot-content-div-QNgyoNvqGexibESMdSxdj2-j2faZNK3vurmTnExd2w2jj\" class=\"ipyplot-content-div-QNgyoNvqGexibESMdSxdj2\">\n",
              "            <h4 style=\"font-size: 12px; word-wrap: break-word;\">19</h4>\n",
              "            <h4 style=\"font-size: 9px; padding-left: 10px; padding-right: 10px; width: 95%; word-wrap: break-word; white-space: normal;\">dataset_students/classification/train_labelled/37.png</h4><img src=\"dataset_students/classification/train_labelled/37.png\"/>\n",
              "            <a href=\"#!\">\n",
              "                <span class=\"ipyplot-img-close\"/>\n",
              "            </a>\n",
              "            <a href=\"#ipyplot-content-div-QNgyoNvqGexibESMdSxdj2-j2faZNK3vurmTnExd2w2jj\">\n",
              "                <span class=\"ipyplot-img-expand\"/>\n",
              "            </a>\n",
              "        </div>\n",
              "    </div>\n",
              "    \n",
              "    <div class=\"ipyplot-placeholder-div-QNgyoNvqGexibESMdSxdj2\">\n",
              "        <div id=\"ipyplot-content-div-QNgyoNvqGexibESMdSxdj2-ZrYYq7zEtw3FW3zigVAA2E\" class=\"ipyplot-content-div-QNgyoNvqGexibESMdSxdj2\">\n",
              "            <h4 style=\"font-size: 12px; word-wrap: break-word;\">20</h4>\n",
              "            <h4 style=\"font-size: 9px; padding-left: 10px; padding-right: 10px; width: 95%; word-wrap: break-word; white-space: normal;\">dataset_students/classification/train_labelled/41.png</h4><img src=\"dataset_students/classification/train_labelled/41.png\"/>\n",
              "            <a href=\"#!\">\n",
              "                <span class=\"ipyplot-img-close\"/>\n",
              "            </a>\n",
              "            <a href=\"#ipyplot-content-div-QNgyoNvqGexibESMdSxdj2-ZrYYq7zEtw3FW3zigVAA2E\">\n",
              "                <span class=\"ipyplot-img-expand\"/>\n",
              "            </a>\n",
              "        </div>\n",
              "    </div>\n",
              "    \n",
              "    <div class=\"ipyplot-placeholder-div-QNgyoNvqGexibESMdSxdj2\">\n",
              "        <div id=\"ipyplot-content-div-QNgyoNvqGexibESMdSxdj2-A34A5FBFCCh5NheQt89uzt\" class=\"ipyplot-content-div-QNgyoNvqGexibESMdSxdj2\">\n",
              "            <h4 style=\"font-size: 12px; word-wrap: break-word;\">21</h4>\n",
              "            <h4 style=\"font-size: 9px; padding-left: 10px; padding-right: 10px; width: 95%; word-wrap: break-word; white-space: normal;\">dataset_students/classification/train_labelled/44.png</h4><img src=\"dataset_students/classification/train_labelled/44.png\"/>\n",
              "            <a href=\"#!\">\n",
              "                <span class=\"ipyplot-img-close\"/>\n",
              "            </a>\n",
              "            <a href=\"#ipyplot-content-div-QNgyoNvqGexibESMdSxdj2-A34A5FBFCCh5NheQt89uzt\">\n",
              "                <span class=\"ipyplot-img-expand\"/>\n",
              "            </a>\n",
              "        </div>\n",
              "    </div>\n",
              "    \n",
              "    <div class=\"ipyplot-placeholder-div-QNgyoNvqGexibESMdSxdj2\">\n",
              "        <div id=\"ipyplot-content-div-QNgyoNvqGexibESMdSxdj2-B7vEDN43QusYx2MayeYj4z\" class=\"ipyplot-content-div-QNgyoNvqGexibESMdSxdj2\">\n",
              "            <h4 style=\"font-size: 12px; word-wrap: break-word;\">22</h4>\n",
              "            <h4 style=\"font-size: 9px; padding-left: 10px; padding-right: 10px; width: 95%; word-wrap: break-word; white-space: normal;\">dataset_students/classification/train_labelled/45.png</h4><img src=\"dataset_students/classification/train_labelled/45.png\"/>\n",
              "            <a href=\"#!\">\n",
              "                <span class=\"ipyplot-img-close\"/>\n",
              "            </a>\n",
              "            <a href=\"#ipyplot-content-div-QNgyoNvqGexibESMdSxdj2-B7vEDN43QusYx2MayeYj4z\">\n",
              "                <span class=\"ipyplot-img-expand\"/>\n",
              "            </a>\n",
              "        </div>\n",
              "    </div>\n",
              "    \n",
              "    <div class=\"ipyplot-placeholder-div-QNgyoNvqGexibESMdSxdj2\">\n",
              "        <div id=\"ipyplot-content-div-QNgyoNvqGexibESMdSxdj2-2qWv24Ey2u27q4bzcEbhos\" class=\"ipyplot-content-div-QNgyoNvqGexibESMdSxdj2\">\n",
              "            <h4 style=\"font-size: 12px; word-wrap: break-word;\">23</h4>\n",
              "            <h4 style=\"font-size: 9px; padding-left: 10px; padding-right: 10px; width: 95%; word-wrap: break-word; white-space: normal;\">dataset_students/classification/train_labelled/46.png</h4><img src=\"dataset_students/classification/train_labelled/46.png\"/>\n",
              "            <a href=\"#!\">\n",
              "                <span class=\"ipyplot-img-close\"/>\n",
              "            </a>\n",
              "            <a href=\"#ipyplot-content-div-QNgyoNvqGexibESMdSxdj2-2qWv24Ey2u27q4bzcEbhos\">\n",
              "                <span class=\"ipyplot-img-expand\"/>\n",
              "            </a>\n",
              "        </div>\n",
              "    </div>\n",
              "    \n",
              "    <div class=\"ipyplot-placeholder-div-QNgyoNvqGexibESMdSxdj2\">\n",
              "        <div id=\"ipyplot-content-div-QNgyoNvqGexibESMdSxdj2-A2sxCMCJzf2jD7Awf7P66J\" class=\"ipyplot-content-div-QNgyoNvqGexibESMdSxdj2\">\n",
              "            <h4 style=\"font-size: 12px; word-wrap: break-word;\">24</h4>\n",
              "            <h4 style=\"font-size: 9px; padding-left: 10px; padding-right: 10px; width: 95%; word-wrap: break-word; white-space: normal;\">dataset_students/classification/train_labelled/48.png</h4><img src=\"dataset_students/classification/train_labelled/48.png\"/>\n",
              "            <a href=\"#!\">\n",
              "                <span class=\"ipyplot-img-close\"/>\n",
              "            </a>\n",
              "            <a href=\"#ipyplot-content-div-QNgyoNvqGexibESMdSxdj2-A2sxCMCJzf2jD7Awf7P66J\">\n",
              "                <span class=\"ipyplot-img-expand\"/>\n",
              "            </a>\n",
              "        </div>\n",
              "    </div>\n",
              "    \n",
              "    <div class=\"ipyplot-placeholder-div-QNgyoNvqGexibESMdSxdj2\">\n",
              "        <div id=\"ipyplot-content-div-QNgyoNvqGexibESMdSxdj2-fxrB3dZJap8zWTnBdE5eKK\" class=\"ipyplot-content-div-QNgyoNvqGexibESMdSxdj2\">\n",
              "            <h4 style=\"font-size: 12px; word-wrap: break-word;\">25</h4>\n",
              "            <h4 style=\"font-size: 9px; padding-left: 10px; padding-right: 10px; width: 95%; word-wrap: break-word; white-space: normal;\">dataset_students/classification/train_labelled/49.png</h4><img src=\"dataset_students/classification/train_labelled/49.png\"/>\n",
              "            <a href=\"#!\">\n",
              "                <span class=\"ipyplot-img-close\"/>\n",
              "            </a>\n",
              "            <a href=\"#ipyplot-content-div-QNgyoNvqGexibESMdSxdj2-fxrB3dZJap8zWTnBdE5eKK\">\n",
              "                <span class=\"ipyplot-img-expand\"/>\n",
              "            </a>\n",
              "        </div>\n",
              "    </div>\n",
              "    \n",
              "    <div class=\"ipyplot-placeholder-div-QNgyoNvqGexibESMdSxdj2\">\n",
              "        <div id=\"ipyplot-content-div-QNgyoNvqGexibESMdSxdj2-2NAMXbtq4ftmQCYuhy4Y2S\" class=\"ipyplot-content-div-QNgyoNvqGexibESMdSxdj2\">\n",
              "            <h4 style=\"font-size: 12px; word-wrap: break-word;\">26</h4>\n",
              "            <h4 style=\"font-size: 9px; padding-left: 10px; padding-right: 10px; width: 95%; word-wrap: break-word; white-space: normal;\">dataset_students/classification/train_labelled/50.png</h4><img src=\"dataset_students/classification/train_labelled/50.png\"/>\n",
              "            <a href=\"#!\">\n",
              "                <span class=\"ipyplot-img-close\"/>\n",
              "            </a>\n",
              "            <a href=\"#ipyplot-content-div-QNgyoNvqGexibESMdSxdj2-2NAMXbtq4ftmQCYuhy4Y2S\">\n",
              "                <span class=\"ipyplot-img-expand\"/>\n",
              "            </a>\n",
              "        </div>\n",
              "    </div>\n",
              "    \n",
              "    <div class=\"ipyplot-placeholder-div-QNgyoNvqGexibESMdSxdj2\">\n",
              "        <div id=\"ipyplot-content-div-QNgyoNvqGexibESMdSxdj2-8jGJSXGTNo2B8uyd8SpzDt\" class=\"ipyplot-content-div-QNgyoNvqGexibESMdSxdj2\">\n",
              "            <h4 style=\"font-size: 12px; word-wrap: break-word;\">27</h4>\n",
              "            <h4 style=\"font-size: 9px; padding-left: 10px; padding-right: 10px; width: 95%; word-wrap: break-word; white-space: normal;\">dataset_students/classification/train_labelled/51.png</h4><img src=\"dataset_students/classification/train_labelled/51.png\"/>\n",
              "            <a href=\"#!\">\n",
              "                <span class=\"ipyplot-img-close\"/>\n",
              "            </a>\n",
              "            <a href=\"#ipyplot-content-div-QNgyoNvqGexibESMdSxdj2-8jGJSXGTNo2B8uyd8SpzDt\">\n",
              "                <span class=\"ipyplot-img-expand\"/>\n",
              "            </a>\n",
              "        </div>\n",
              "    </div>\n",
              "    \n",
              "    <div class=\"ipyplot-placeholder-div-QNgyoNvqGexibESMdSxdj2\">\n",
              "        <div id=\"ipyplot-content-div-QNgyoNvqGexibESMdSxdj2-Y6gNAP9mNfFwYwXJhY6cgr\" class=\"ipyplot-content-div-QNgyoNvqGexibESMdSxdj2\">\n",
              "            <h4 style=\"font-size: 12px; word-wrap: break-word;\">28</h4>\n",
              "            <h4 style=\"font-size: 9px; padding-left: 10px; padding-right: 10px; width: 95%; word-wrap: break-word; white-space: normal;\">dataset_students/classification/train_labelled/52.png</h4><img src=\"dataset_students/classification/train_labelled/52.png\"/>\n",
              "            <a href=\"#!\">\n",
              "                <span class=\"ipyplot-img-close\"/>\n",
              "            </a>\n",
              "            <a href=\"#ipyplot-content-div-QNgyoNvqGexibESMdSxdj2-Y6gNAP9mNfFwYwXJhY6cgr\">\n",
              "                <span class=\"ipyplot-img-expand\"/>\n",
              "            </a>\n",
              "        </div>\n",
              "    </div>\n",
              "    \n",
              "    <div class=\"ipyplot-placeholder-div-QNgyoNvqGexibESMdSxdj2\">\n",
              "        <div id=\"ipyplot-content-div-QNgyoNvqGexibESMdSxdj2-EAEKVrtDzBBQXeMydXsMqg\" class=\"ipyplot-content-div-QNgyoNvqGexibESMdSxdj2\">\n",
              "            <h4 style=\"font-size: 12px; word-wrap: break-word;\">29</h4>\n",
              "            <h4 style=\"font-size: 9px; padding-left: 10px; padding-right: 10px; width: 95%; word-wrap: break-word; white-space: normal;\">dataset_students/classification/train_labelled/53.png</h4><img src=\"dataset_students/classification/train_labelled/53.png\"/>\n",
              "            <a href=\"#!\">\n",
              "                <span class=\"ipyplot-img-close\"/>\n",
              "            </a>\n",
              "            <a href=\"#ipyplot-content-div-QNgyoNvqGexibESMdSxdj2-EAEKVrtDzBBQXeMydXsMqg\">\n",
              "                <span class=\"ipyplot-img-expand\"/>\n",
              "            </a>\n",
              "        </div>\n",
              "    </div>\n",
              "    </div></div><div class=\"tab contentPDUKT9HDnbL5fhQ6ut2XTP\">\n",
              "        <style>\n",
              "        #ipyplot-imgs-container-div-cMBVj825B33Eq66zpuhBU8 {\n",
              "            width: 100%;\n",
              "            height: 100%;\n",
              "            margin: 0%;\n",
              "            overflow: auto;\n",
              "            position: relative;\n",
              "            overflow-y: scroll;\n",
              "        }\n",
              "\n",
              "        div.ipyplot-placeholder-div-cMBVj825B33Eq66zpuhBU8 {\n",
              "            width: 150px;\n",
              "            display: inline-block;\n",
              "            margin: 3px;\n",
              "            position: relative;\n",
              "        }\n",
              "\n",
              "        div.ipyplot-content-div-cMBVj825B33Eq66zpuhBU8 {\n",
              "            width: 150px;\n",
              "            background: white;\n",
              "            display: inline-block;\n",
              "            vertical-align: top;\n",
              "            text-align: center;\n",
              "            position: relative;\n",
              "            border: 2px solid #ddd;\n",
              "            top: 0;\n",
              "            left: 0;\n",
              "        }\n",
              "\n",
              "        div.ipyplot-content-div-cMBVj825B33Eq66zpuhBU8 span.ipyplot-img-close {\n",
              "            display: none;\n",
              "        }\n",
              "\n",
              "        div.ipyplot-content-div-cMBVj825B33Eq66zpuhBU8 span {\n",
              "            width: 100%;\n",
              "            height: 100%;\n",
              "            position: absolute;\n",
              "            top: 0;\n",
              "            left: 0;\n",
              "        }\n",
              "\n",
              "        div.ipyplot-content-div-cMBVj825B33Eq66zpuhBU8 img {\n",
              "            width: 150px;\n",
              "        }\n",
              "\n",
              "        div.ipyplot-content-div-cMBVj825B33Eq66zpuhBU8 span.ipyplot-img-close:hover {\n",
              "            cursor: zoom-out;\n",
              "        }\n",
              "        div.ipyplot-content-div-cMBVj825B33Eq66zpuhBU8 span.ipyplot-img-expand:hover {\n",
              "            cursor: zoom-in;\n",
              "        }\n",
              "\n",
              "        div[id^=ipyplot-content-div-cMBVj825B33Eq66zpuhBU8]:target {\n",
              "            transform: scale(2.5);\n",
              "            transform-origin: left top;\n",
              "            z-index: 5000;\n",
              "            top: 0;\n",
              "            left: 0;\n",
              "            position: absolute;\n",
              "        }\n",
              "\n",
              "        div[id^=ipyplot-content-div-cMBVj825B33Eq66zpuhBU8]:target span.ipyplot-img-close {\n",
              "            display: block;\n",
              "        }\n",
              "\n",
              "        div[id^=ipyplot-content-div-cMBVj825B33Eq66zpuhBU8]:target span.ipyplot-img-expand {\n",
              "            display: none;\n",
              "        }\n",
              "        </style>\n",
              "    <div id=\"ipyplot-imgs-container-div-cMBVj825B33Eq66zpuhBU8\">\n",
              "    <div class=\"ipyplot-placeholder-div-cMBVj825B33Eq66zpuhBU8\">\n",
              "        <div id=\"ipyplot-content-div-cMBVj825B33Eq66zpuhBU8-TDmaqcicnwcqyV9YnMJTCG\" class=\"ipyplot-content-div-cMBVj825B33Eq66zpuhBU8\">\n",
              "            <h4 style=\"font-size: 12px; word-wrap: break-word;\">0</h4>\n",
              "            <h4 style=\"font-size: 9px; padding-left: 10px; padding-right: 10px; width: 95%; word-wrap: break-word; white-space: normal;\">dataset_students/classification/train_labelled/20.png</h4><img src=\"dataset_students/classification/train_labelled/20.png\"/>\n",
              "            <a href=\"#!\">\n",
              "                <span class=\"ipyplot-img-close\"/>\n",
              "            </a>\n",
              "            <a href=\"#ipyplot-content-div-cMBVj825B33Eq66zpuhBU8-TDmaqcicnwcqyV9YnMJTCG\">\n",
              "                <span class=\"ipyplot-img-expand\"/>\n",
              "            </a>\n",
              "        </div>\n",
              "    </div>\n",
              "    \n",
              "    <div class=\"ipyplot-placeholder-div-cMBVj825B33Eq66zpuhBU8\">\n",
              "        <div id=\"ipyplot-content-div-cMBVj825B33Eq66zpuhBU8-DnPvwvXmtLxughC7S4Tozp\" class=\"ipyplot-content-div-cMBVj825B33Eq66zpuhBU8\">\n",
              "            <h4 style=\"font-size: 12px; word-wrap: break-word;\">1</h4>\n",
              "            <h4 style=\"font-size: 9px; padding-left: 10px; padding-right: 10px; width: 95%; word-wrap: break-word; white-space: normal;\">dataset_students/classification/train_labelled/34.png</h4><img src=\"dataset_students/classification/train_labelled/34.png\"/>\n",
              "            <a href=\"#!\">\n",
              "                <span class=\"ipyplot-img-close\"/>\n",
              "            </a>\n",
              "            <a href=\"#ipyplot-content-div-cMBVj825B33Eq66zpuhBU8-DnPvwvXmtLxughC7S4Tozp\">\n",
              "                <span class=\"ipyplot-img-expand\"/>\n",
              "            </a>\n",
              "        </div>\n",
              "    </div>\n",
              "    \n",
              "    <div class=\"ipyplot-placeholder-div-cMBVj825B33Eq66zpuhBU8\">\n",
              "        <div id=\"ipyplot-content-div-cMBVj825B33Eq66zpuhBU8-ar2AKo8twhiXkjww3ZJ4Cf\" class=\"ipyplot-content-div-cMBVj825B33Eq66zpuhBU8\">\n",
              "            <h4 style=\"font-size: 12px; word-wrap: break-word;\">2</h4>\n",
              "            <h4 style=\"font-size: 9px; padding-left: 10px; padding-right: 10px; width: 95%; word-wrap: break-word; white-space: normal;\">dataset_students/classification/train_labelled/55.png</h4><img src=\"dataset_students/classification/train_labelled/55.png\"/>\n",
              "            <a href=\"#!\">\n",
              "                <span class=\"ipyplot-img-close\"/>\n",
              "            </a>\n",
              "            <a href=\"#ipyplot-content-div-cMBVj825B33Eq66zpuhBU8-ar2AKo8twhiXkjww3ZJ4Cf\">\n",
              "                <span class=\"ipyplot-img-expand\"/>\n",
              "            </a>\n",
              "        </div>\n",
              "    </div>\n",
              "    \n",
              "    <div class=\"ipyplot-placeholder-div-cMBVj825B33Eq66zpuhBU8\">\n",
              "        <div id=\"ipyplot-content-div-cMBVj825B33Eq66zpuhBU8-etdpWwyujHY7dZzbauWjxi\" class=\"ipyplot-content-div-cMBVj825B33Eq66zpuhBU8\">\n",
              "            <h4 style=\"font-size: 12px; word-wrap: break-word;\">3</h4>\n",
              "            <h4 style=\"font-size: 9px; padding-left: 10px; padding-right: 10px; width: 95%; word-wrap: break-word; white-space: normal;\">dataset_students/classification/train_labelled/85.png</h4><img src=\"dataset_students/classification/train_labelled/85.png\"/>\n",
              "            <a href=\"#!\">\n",
              "                <span class=\"ipyplot-img-close\"/>\n",
              "            </a>\n",
              "            <a href=\"#ipyplot-content-div-cMBVj825B33Eq66zpuhBU8-etdpWwyujHY7dZzbauWjxi\">\n",
              "                <span class=\"ipyplot-img-expand\"/>\n",
              "            </a>\n",
              "        </div>\n",
              "    </div>\n",
              "    \n",
              "    <div class=\"ipyplot-placeholder-div-cMBVj825B33Eq66zpuhBU8\">\n",
              "        <div id=\"ipyplot-content-div-cMBVj825B33Eq66zpuhBU8-Ke9xnNuRiFS2oJr7KdyF5J\" class=\"ipyplot-content-div-cMBVj825B33Eq66zpuhBU8\">\n",
              "            <h4 style=\"font-size: 12px; word-wrap: break-word;\">4</h4>\n",
              "            <h4 style=\"font-size: 9px; padding-left: 10px; padding-right: 10px; width: 95%; word-wrap: break-word; white-space: normal;\">dataset_students/classification/train_labelled/94.png</h4><img src=\"dataset_students/classification/train_labelled/94.png\"/>\n",
              "            <a href=\"#!\">\n",
              "                <span class=\"ipyplot-img-close\"/>\n",
              "            </a>\n",
              "            <a href=\"#ipyplot-content-div-cMBVj825B33Eq66zpuhBU8-Ke9xnNuRiFS2oJr7KdyF5J\">\n",
              "                <span class=\"ipyplot-img-expand\"/>\n",
              "            </a>\n",
              "        </div>\n",
              "    </div>\n",
              "    \n",
              "    <div class=\"ipyplot-placeholder-div-cMBVj825B33Eq66zpuhBU8\">\n",
              "        <div id=\"ipyplot-content-div-cMBVj825B33Eq66zpuhBU8-WDromYBjqYQGWHkzkhn9JR\" class=\"ipyplot-content-div-cMBVj825B33Eq66zpuhBU8\">\n",
              "            <h4 style=\"font-size: 12px; word-wrap: break-word;\">5</h4>\n",
              "            <h4 style=\"font-size: 9px; padding-left: 10px; padding-right: 10px; width: 95%; word-wrap: break-word; white-space: normal;\">dataset_students/classification/train_labelled/118.png</h4><img src=\"dataset_students/classification/train_labelled/118.png\"/>\n",
              "            <a href=\"#!\">\n",
              "                <span class=\"ipyplot-img-close\"/>\n",
              "            </a>\n",
              "            <a href=\"#ipyplot-content-div-cMBVj825B33Eq66zpuhBU8-WDromYBjqYQGWHkzkhn9JR\">\n",
              "                <span class=\"ipyplot-img-expand\"/>\n",
              "            </a>\n",
              "        </div>\n",
              "    </div>\n",
              "    \n",
              "    <div class=\"ipyplot-placeholder-div-cMBVj825B33Eq66zpuhBU8\">\n",
              "        <div id=\"ipyplot-content-div-cMBVj825B33Eq66zpuhBU8-SZVkeQpHTWavTZbtLaMKu6\" class=\"ipyplot-content-div-cMBVj825B33Eq66zpuhBU8\">\n",
              "            <h4 style=\"font-size: 12px; word-wrap: break-word;\">6</h4>\n",
              "            <h4 style=\"font-size: 9px; padding-left: 10px; padding-right: 10px; width: 95%; word-wrap: break-word; white-space: normal;\">dataset_students/classification/train_labelled/126.png</h4><img src=\"dataset_students/classification/train_labelled/126.png\"/>\n",
              "            <a href=\"#!\">\n",
              "                <span class=\"ipyplot-img-close\"/>\n",
              "            </a>\n",
              "            <a href=\"#ipyplot-content-div-cMBVj825B33Eq66zpuhBU8-SZVkeQpHTWavTZbtLaMKu6\">\n",
              "                <span class=\"ipyplot-img-expand\"/>\n",
              "            </a>\n",
              "        </div>\n",
              "    </div>\n",
              "    \n",
              "    <div class=\"ipyplot-placeholder-div-cMBVj825B33Eq66zpuhBU8\">\n",
              "        <div id=\"ipyplot-content-div-cMBVj825B33Eq66zpuhBU8-SSXUJb4ynt5TUHjL4SMMep\" class=\"ipyplot-content-div-cMBVj825B33Eq66zpuhBU8\">\n",
              "            <h4 style=\"font-size: 12px; word-wrap: break-word;\">7</h4>\n",
              "            <h4 style=\"font-size: 9px; padding-left: 10px; padding-right: 10px; width: 95%; word-wrap: break-word; white-space: normal;\">dataset_students/classification/train_labelled/127.png</h4><img src=\"dataset_students/classification/train_labelled/127.png\"/>\n",
              "            <a href=\"#!\">\n",
              "                <span class=\"ipyplot-img-close\"/>\n",
              "            </a>\n",
              "            <a href=\"#ipyplot-content-div-cMBVj825B33Eq66zpuhBU8-SSXUJb4ynt5TUHjL4SMMep\">\n",
              "                <span class=\"ipyplot-img-expand\"/>\n",
              "            </a>\n",
              "        </div>\n",
              "    </div>\n",
              "    \n",
              "    <div class=\"ipyplot-placeholder-div-cMBVj825B33Eq66zpuhBU8\">\n",
              "        <div id=\"ipyplot-content-div-cMBVj825B33Eq66zpuhBU8-n7U6j2pJ9v8nDaFiuQiUzv\" class=\"ipyplot-content-div-cMBVj825B33Eq66zpuhBU8\">\n",
              "            <h4 style=\"font-size: 12px; word-wrap: break-word;\">8</h4>\n",
              "            <h4 style=\"font-size: 9px; padding-left: 10px; padding-right: 10px; width: 95%; word-wrap: break-word; white-space: normal;\">dataset_students/classification/train_labelled/128.png</h4><img src=\"dataset_students/classification/train_labelled/128.png\"/>\n",
              "            <a href=\"#!\">\n",
              "                <span class=\"ipyplot-img-close\"/>\n",
              "            </a>\n",
              "            <a href=\"#ipyplot-content-div-cMBVj825B33Eq66zpuhBU8-n7U6j2pJ9v8nDaFiuQiUzv\">\n",
              "                <span class=\"ipyplot-img-expand\"/>\n",
              "            </a>\n",
              "        </div>\n",
              "    </div>\n",
              "    \n",
              "    <div class=\"ipyplot-placeholder-div-cMBVj825B33Eq66zpuhBU8\">\n",
              "        <div id=\"ipyplot-content-div-cMBVj825B33Eq66zpuhBU8-SnV9SLEk96MwNDJHDMXocp\" class=\"ipyplot-content-div-cMBVj825B33Eq66zpuhBU8\">\n",
              "            <h4 style=\"font-size: 12px; word-wrap: break-word;\">9</h4>\n",
              "            <h4 style=\"font-size: 9px; padding-left: 10px; padding-right: 10px; width: 95%; word-wrap: break-word; white-space: normal;\">dataset_students/classification/train_labelled/129.png</h4><img src=\"dataset_students/classification/train_labelled/129.png\"/>\n",
              "            <a href=\"#!\">\n",
              "                <span class=\"ipyplot-img-close\"/>\n",
              "            </a>\n",
              "            <a href=\"#ipyplot-content-div-cMBVj825B33Eq66zpuhBU8-SnV9SLEk96MwNDJHDMXocp\">\n",
              "                <span class=\"ipyplot-img-expand\"/>\n",
              "            </a>\n",
              "        </div>\n",
              "    </div>\n",
              "    \n",
              "    <div class=\"ipyplot-placeholder-div-cMBVj825B33Eq66zpuhBU8\">\n",
              "        <div id=\"ipyplot-content-div-cMBVj825B33Eq66zpuhBU8-PLLAdBd2ubaTRSauGNVUpd\" class=\"ipyplot-content-div-cMBVj825B33Eq66zpuhBU8\">\n",
              "            <h4 style=\"font-size: 12px; word-wrap: break-word;\">10</h4>\n",
              "            <h4 style=\"font-size: 9px; padding-left: 10px; padding-right: 10px; width: 95%; word-wrap: break-word; white-space: normal;\">dataset_students/classification/train_labelled/135.png</h4><img src=\"dataset_students/classification/train_labelled/135.png\"/>\n",
              "            <a href=\"#!\">\n",
              "                <span class=\"ipyplot-img-close\"/>\n",
              "            </a>\n",
              "            <a href=\"#ipyplot-content-div-cMBVj825B33Eq66zpuhBU8-PLLAdBd2ubaTRSauGNVUpd\">\n",
              "                <span class=\"ipyplot-img-expand\"/>\n",
              "            </a>\n",
              "        </div>\n",
              "    </div>\n",
              "    \n",
              "    <div class=\"ipyplot-placeholder-div-cMBVj825B33Eq66zpuhBU8\">\n",
              "        <div id=\"ipyplot-content-div-cMBVj825B33Eq66zpuhBU8-SJvkFtmndAZENWagZo8BDU\" class=\"ipyplot-content-div-cMBVj825B33Eq66zpuhBU8\">\n",
              "            <h4 style=\"font-size: 12px; word-wrap: break-word;\">11</h4>\n",
              "            <h4 style=\"font-size: 9px; padding-left: 10px; padding-right: 10px; width: 95%; word-wrap: break-word; white-space: normal;\">dataset_students/classification/train_labelled/188.png</h4><img src=\"dataset_students/classification/train_labelled/188.png\"/>\n",
              "            <a href=\"#!\">\n",
              "                <span class=\"ipyplot-img-close\"/>\n",
              "            </a>\n",
              "            <a href=\"#ipyplot-content-div-cMBVj825B33Eq66zpuhBU8-SJvkFtmndAZENWagZo8BDU\">\n",
              "                <span class=\"ipyplot-img-expand\"/>\n",
              "            </a>\n",
              "        </div>\n",
              "    </div>\n",
              "    \n",
              "    <div class=\"ipyplot-placeholder-div-cMBVj825B33Eq66zpuhBU8\">\n",
              "        <div id=\"ipyplot-content-div-cMBVj825B33Eq66zpuhBU8-XhMHdc2BpDDjDT4gCcKP4U\" class=\"ipyplot-content-div-cMBVj825B33Eq66zpuhBU8\">\n",
              "            <h4 style=\"font-size: 12px; word-wrap: break-word;\">12</h4>\n",
              "            <h4 style=\"font-size: 9px; padding-left: 10px; padding-right: 10px; width: 95%; word-wrap: break-word; white-space: normal;\">dataset_students/classification/train_labelled/189.png</h4><img src=\"dataset_students/classification/train_labelled/189.png\"/>\n",
              "            <a href=\"#!\">\n",
              "                <span class=\"ipyplot-img-close\"/>\n",
              "            </a>\n",
              "            <a href=\"#ipyplot-content-div-cMBVj825B33Eq66zpuhBU8-XhMHdc2BpDDjDT4gCcKP4U\">\n",
              "                <span class=\"ipyplot-img-expand\"/>\n",
              "            </a>\n",
              "        </div>\n",
              "    </div>\n",
              "    \n",
              "    <div class=\"ipyplot-placeholder-div-cMBVj825B33Eq66zpuhBU8\">\n",
              "        <div id=\"ipyplot-content-div-cMBVj825B33Eq66zpuhBU8-QzSB2Ffx72CwSxvsk3B5GY\" class=\"ipyplot-content-div-cMBVj825B33Eq66zpuhBU8\">\n",
              "            <h4 style=\"font-size: 12px; word-wrap: break-word;\">13</h4>\n",
              "            <h4 style=\"font-size: 9px; padding-left: 10px; padding-right: 10px; width: 95%; word-wrap: break-word; white-space: normal;\">dataset_students/classification/train_labelled/192.png</h4><img src=\"dataset_students/classification/train_labelled/192.png\"/>\n",
              "            <a href=\"#!\">\n",
              "                <span class=\"ipyplot-img-close\"/>\n",
              "            </a>\n",
              "            <a href=\"#ipyplot-content-div-cMBVj825B33Eq66zpuhBU8-QzSB2Ffx72CwSxvsk3B5GY\">\n",
              "                <span class=\"ipyplot-img-expand\"/>\n",
              "            </a>\n",
              "        </div>\n",
              "    </div>\n",
              "    \n",
              "    <div class=\"ipyplot-placeholder-div-cMBVj825B33Eq66zpuhBU8\">\n",
              "        <div id=\"ipyplot-content-div-cMBVj825B33Eq66zpuhBU8-Q2qLQZtwjYv7qbUbLM5tBx\" class=\"ipyplot-content-div-cMBVj825B33Eq66zpuhBU8\">\n",
              "            <h4 style=\"font-size: 12px; word-wrap: break-word;\">14</h4>\n",
              "            <h4 style=\"font-size: 9px; padding-left: 10px; padding-right: 10px; width: 95%; word-wrap: break-word; white-space: normal;\">dataset_students/classification/train_labelled/195.png</h4><img src=\"dataset_students/classification/train_labelled/195.png\"/>\n",
              "            <a href=\"#!\">\n",
              "                <span class=\"ipyplot-img-close\"/>\n",
              "            </a>\n",
              "            <a href=\"#ipyplot-content-div-cMBVj825B33Eq66zpuhBU8-Q2qLQZtwjYv7qbUbLM5tBx\">\n",
              "                <span class=\"ipyplot-img-expand\"/>\n",
              "            </a>\n",
              "        </div>\n",
              "    </div>\n",
              "    \n",
              "    <div class=\"ipyplot-placeholder-div-cMBVj825B33Eq66zpuhBU8\">\n",
              "        <div id=\"ipyplot-content-div-cMBVj825B33Eq66zpuhBU8-B4cKzgdBZfHgduzAFf2xQV\" class=\"ipyplot-content-div-cMBVj825B33Eq66zpuhBU8\">\n",
              "            <h4 style=\"font-size: 12px; word-wrap: break-word;\">15</h4>\n",
              "            <h4 style=\"font-size: 9px; padding-left: 10px; padding-right: 10px; width: 95%; word-wrap: break-word; white-space: normal;\">dataset_students/classification/train_labelled/196.png</h4><img src=\"dataset_students/classification/train_labelled/196.png\"/>\n",
              "            <a href=\"#!\">\n",
              "                <span class=\"ipyplot-img-close\"/>\n",
              "            </a>\n",
              "            <a href=\"#ipyplot-content-div-cMBVj825B33Eq66zpuhBU8-B4cKzgdBZfHgduzAFf2xQV\">\n",
              "                <span class=\"ipyplot-img-expand\"/>\n",
              "            </a>\n",
              "        </div>\n",
              "    </div>\n",
              "    \n",
              "    <div class=\"ipyplot-placeholder-div-cMBVj825B33Eq66zpuhBU8\">\n",
              "        <div id=\"ipyplot-content-div-cMBVj825B33Eq66zpuhBU8-evFhHzGJ7tLEKddFsxcULV\" class=\"ipyplot-content-div-cMBVj825B33Eq66zpuhBU8\">\n",
              "            <h4 style=\"font-size: 12px; word-wrap: break-word;\">16</h4>\n",
              "            <h4 style=\"font-size: 9px; padding-left: 10px; padding-right: 10px; width: 95%; word-wrap: break-word; white-space: normal;\">dataset_students/classification/train_labelled/198.png</h4><img src=\"dataset_students/classification/train_labelled/198.png\"/>\n",
              "            <a href=\"#!\">\n",
              "                <span class=\"ipyplot-img-close\"/>\n",
              "            </a>\n",
              "            <a href=\"#ipyplot-content-div-cMBVj825B33Eq66zpuhBU8-evFhHzGJ7tLEKddFsxcULV\">\n",
              "                <span class=\"ipyplot-img-expand\"/>\n",
              "            </a>\n",
              "        </div>\n",
              "    </div>\n",
              "    \n",
              "    <div class=\"ipyplot-placeholder-div-cMBVj825B33Eq66zpuhBU8\">\n",
              "        <div id=\"ipyplot-content-div-cMBVj825B33Eq66zpuhBU8-f2XvF2ZsbhSzZqsfDHkdQ7\" class=\"ipyplot-content-div-cMBVj825B33Eq66zpuhBU8\">\n",
              "            <h4 style=\"font-size: 12px; word-wrap: break-word;\">17</h4>\n",
              "            <h4 style=\"font-size: 9px; padding-left: 10px; padding-right: 10px; width: 95%; word-wrap: break-word; white-space: normal;\">dataset_students/classification/train_unlabelled/494.png</h4><img src=\"dataset_students/classification/train_unlabelled/494.png\"/>\n",
              "            <a href=\"#!\">\n",
              "                <span class=\"ipyplot-img-close\"/>\n",
              "            </a>\n",
              "            <a href=\"#ipyplot-content-div-cMBVj825B33Eq66zpuhBU8-f2XvF2ZsbhSzZqsfDHkdQ7\">\n",
              "                <span class=\"ipyplot-img-expand\"/>\n",
              "            </a>\n",
              "        </div>\n",
              "    </div>\n",
              "    \n",
              "    <div class=\"ipyplot-placeholder-div-cMBVj825B33Eq66zpuhBU8\">\n",
              "        <div id=\"ipyplot-content-div-cMBVj825B33Eq66zpuhBU8-cdzDisqTA69FPBB6gKFMjZ\" class=\"ipyplot-content-div-cMBVj825B33Eq66zpuhBU8\">\n",
              "            <h4 style=\"font-size: 12px; word-wrap: break-word;\">18</h4>\n",
              "            <h4 style=\"font-size: 9px; padding-left: 10px; padding-right: 10px; width: 95%; word-wrap: break-word; white-space: normal;\">dataset_students/classification/train_unlabelled/1932.png</h4><img src=\"dataset_students/classification/train_unlabelled/1932.png\"/>\n",
              "            <a href=\"#!\">\n",
              "                <span class=\"ipyplot-img-close\"/>\n",
              "            </a>\n",
              "            <a href=\"#ipyplot-content-div-cMBVj825B33Eq66zpuhBU8-cdzDisqTA69FPBB6gKFMjZ\">\n",
              "                <span class=\"ipyplot-img-expand\"/>\n",
              "            </a>\n",
              "        </div>\n",
              "    </div>\n",
              "    \n",
              "    <div class=\"ipyplot-placeholder-div-cMBVj825B33Eq66zpuhBU8\">\n",
              "        <div id=\"ipyplot-content-div-cMBVj825B33Eq66zpuhBU8-a4oC6hFvMVqWxvdgwFF8H3\" class=\"ipyplot-content-div-cMBVj825B33Eq66zpuhBU8\">\n",
              "            <h4 style=\"font-size: 12px; word-wrap: break-word;\">19</h4>\n",
              "            <h4 style=\"font-size: 9px; padding-left: 10px; padding-right: 10px; width: 95%; word-wrap: break-word; white-space: normal;\">dataset_students/classification/train_unlabelled/51.png</h4><img src=\"dataset_students/classification/train_unlabelled/51.png\"/>\n",
              "            <a href=\"#!\">\n",
              "                <span class=\"ipyplot-img-close\"/>\n",
              "            </a>\n",
              "            <a href=\"#ipyplot-content-div-cMBVj825B33Eq66zpuhBU8-a4oC6hFvMVqWxvdgwFF8H3\">\n",
              "                <span class=\"ipyplot-img-expand\"/>\n",
              "            </a>\n",
              "        </div>\n",
              "    </div>\n",
              "    \n",
              "    <div class=\"ipyplot-placeholder-div-cMBVj825B33Eq66zpuhBU8\">\n",
              "        <div id=\"ipyplot-content-div-cMBVj825B33Eq66zpuhBU8-To4aUzWck5twab6jxUceGJ\" class=\"ipyplot-content-div-cMBVj825B33Eq66zpuhBU8\">\n",
              "            <h4 style=\"font-size: 12px; word-wrap: break-word;\">20</h4>\n",
              "            <h4 style=\"font-size: 9px; padding-left: 10px; padding-right: 10px; width: 95%; word-wrap: break-word; white-space: normal;\">dataset_students/classification/train_unlabelled/1215.png</h4><img src=\"dataset_students/classification/train_unlabelled/1215.png\"/>\n",
              "            <a href=\"#!\">\n",
              "                <span class=\"ipyplot-img-close\"/>\n",
              "            </a>\n",
              "            <a href=\"#ipyplot-content-div-cMBVj825B33Eq66zpuhBU8-To4aUzWck5twab6jxUceGJ\">\n",
              "                <span class=\"ipyplot-img-expand\"/>\n",
              "            </a>\n",
              "        </div>\n",
              "    </div>\n",
              "    \n",
              "    <div class=\"ipyplot-placeholder-div-cMBVj825B33Eq66zpuhBU8\">\n",
              "        <div id=\"ipyplot-content-div-cMBVj825B33Eq66zpuhBU8-ZTnQ8bREf9iT8eSQ3rTCeL\" class=\"ipyplot-content-div-cMBVj825B33Eq66zpuhBU8\">\n",
              "            <h4 style=\"font-size: 12px; word-wrap: break-word;\">21</h4>\n",
              "            <h4 style=\"font-size: 9px; padding-left: 10px; padding-right: 10px; width: 95%; word-wrap: break-word; white-space: normal;\">dataset_students/classification/train_unlabelled/1046.png</h4><img src=\"dataset_students/classification/train_unlabelled/1046.png\"/>\n",
              "            <a href=\"#!\">\n",
              "                <span class=\"ipyplot-img-close\"/>\n",
              "            </a>\n",
              "            <a href=\"#ipyplot-content-div-cMBVj825B33Eq66zpuhBU8-ZTnQ8bREf9iT8eSQ3rTCeL\">\n",
              "                <span class=\"ipyplot-img-expand\"/>\n",
              "            </a>\n",
              "        </div>\n",
              "    </div>\n",
              "    \n",
              "    <div class=\"ipyplot-placeholder-div-cMBVj825B33Eq66zpuhBU8\">\n",
              "        <div id=\"ipyplot-content-div-cMBVj825B33Eq66zpuhBU8-PkooBbDCisfRCjcDjmvCZN\" class=\"ipyplot-content-div-cMBVj825B33Eq66zpuhBU8\">\n",
              "            <h4 style=\"font-size: 12px; word-wrap: break-word;\">22</h4>\n",
              "            <h4 style=\"font-size: 9px; padding-left: 10px; padding-right: 10px; width: 95%; word-wrap: break-word; white-space: normal;\">dataset_students/classification/train_unlabelled/1778.png</h4><img src=\"dataset_students/classification/train_unlabelled/1778.png\"/>\n",
              "            <a href=\"#!\">\n",
              "                <span class=\"ipyplot-img-close\"/>\n",
              "            </a>\n",
              "            <a href=\"#ipyplot-content-div-cMBVj825B33Eq66zpuhBU8-PkooBbDCisfRCjcDjmvCZN\">\n",
              "                <span class=\"ipyplot-img-expand\"/>\n",
              "            </a>\n",
              "        </div>\n",
              "    </div>\n",
              "    \n",
              "    <div class=\"ipyplot-placeholder-div-cMBVj825B33Eq66zpuhBU8\">\n",
              "        <div id=\"ipyplot-content-div-cMBVj825B33Eq66zpuhBU8-fm3Bn5YVop5zy8BqPfKHMy\" class=\"ipyplot-content-div-cMBVj825B33Eq66zpuhBU8\">\n",
              "            <h4 style=\"font-size: 12px; word-wrap: break-word;\">23</h4>\n",
              "            <h4 style=\"font-size: 9px; padding-left: 10px; padding-right: 10px; width: 95%; word-wrap: break-word; white-space: normal;\">dataset_students/classification/train_unlabelled/602.png</h4><img src=\"dataset_students/classification/train_unlabelled/602.png\"/>\n",
              "            <a href=\"#!\">\n",
              "                <span class=\"ipyplot-img-close\"/>\n",
              "            </a>\n",
              "            <a href=\"#ipyplot-content-div-cMBVj825B33Eq66zpuhBU8-fm3Bn5YVop5zy8BqPfKHMy\">\n",
              "                <span class=\"ipyplot-img-expand\"/>\n",
              "            </a>\n",
              "        </div>\n",
              "    </div>\n",
              "    \n",
              "    <div class=\"ipyplot-placeholder-div-cMBVj825B33Eq66zpuhBU8\">\n",
              "        <div id=\"ipyplot-content-div-cMBVj825B33Eq66zpuhBU8-22tFB7LNAvE8So2fM34omv\" class=\"ipyplot-content-div-cMBVj825B33Eq66zpuhBU8\">\n",
              "            <h4 style=\"font-size: 12px; word-wrap: break-word;\">24</h4>\n",
              "            <h4 style=\"font-size: 9px; padding-left: 10px; padding-right: 10px; width: 95%; word-wrap: break-word; white-space: normal;\">dataset_students/classification/train_unlabelled/1262.png</h4><img src=\"dataset_students/classification/train_unlabelled/1262.png\"/>\n",
              "            <a href=\"#!\">\n",
              "                <span class=\"ipyplot-img-close\"/>\n",
              "            </a>\n",
              "            <a href=\"#ipyplot-content-div-cMBVj825B33Eq66zpuhBU8-22tFB7LNAvE8So2fM34omv\">\n",
              "                <span class=\"ipyplot-img-expand\"/>\n",
              "            </a>\n",
              "        </div>\n",
              "    </div>\n",
              "    \n",
              "    <div class=\"ipyplot-placeholder-div-cMBVj825B33Eq66zpuhBU8\">\n",
              "        <div id=\"ipyplot-content-div-cMBVj825B33Eq66zpuhBU8-gCxKpGVeBDsEh7VNUoaQKM\" class=\"ipyplot-content-div-cMBVj825B33Eq66zpuhBU8\">\n",
              "            <h4 style=\"font-size: 12px; word-wrap: break-word;\">25</h4>\n",
              "            <h4 style=\"font-size: 9px; padding-left: 10px; padding-right: 10px; width: 95%; word-wrap: break-word; white-space: normal;\">dataset_students/classification/train_unlabelled/82.png</h4><img src=\"dataset_students/classification/train_unlabelled/82.png\"/>\n",
              "            <a href=\"#!\">\n",
              "                <span class=\"ipyplot-img-close\"/>\n",
              "            </a>\n",
              "            <a href=\"#ipyplot-content-div-cMBVj825B33Eq66zpuhBU8-gCxKpGVeBDsEh7VNUoaQKM\">\n",
              "                <span class=\"ipyplot-img-expand\"/>\n",
              "            </a>\n",
              "        </div>\n",
              "    </div>\n",
              "    \n",
              "    <div class=\"ipyplot-placeholder-div-cMBVj825B33Eq66zpuhBU8\">\n",
              "        <div id=\"ipyplot-content-div-cMBVj825B33Eq66zpuhBU8-84Wbxnhnrhuum4onKCk7x3\" class=\"ipyplot-content-div-cMBVj825B33Eq66zpuhBU8\">\n",
              "            <h4 style=\"font-size: 12px; word-wrap: break-word;\">26</h4>\n",
              "            <h4 style=\"font-size: 9px; padding-left: 10px; padding-right: 10px; width: 95%; word-wrap: break-word; white-space: normal;\">dataset_students/classification/train_unlabelled/776.png</h4><img src=\"dataset_students/classification/train_unlabelled/776.png\"/>\n",
              "            <a href=\"#!\">\n",
              "                <span class=\"ipyplot-img-close\"/>\n",
              "            </a>\n",
              "            <a href=\"#ipyplot-content-div-cMBVj825B33Eq66zpuhBU8-84Wbxnhnrhuum4onKCk7x3\">\n",
              "                <span class=\"ipyplot-img-expand\"/>\n",
              "            </a>\n",
              "        </div>\n",
              "    </div>\n",
              "    \n",
              "    <div class=\"ipyplot-placeholder-div-cMBVj825B33Eq66zpuhBU8\">\n",
              "        <div id=\"ipyplot-content-div-cMBVj825B33Eq66zpuhBU8-nSY7RHufbzKkKzpN6QST2V\" class=\"ipyplot-content-div-cMBVj825B33Eq66zpuhBU8\">\n",
              "            <h4 style=\"font-size: 12px; word-wrap: break-word;\">27</h4>\n",
              "            <h4 style=\"font-size: 9px; padding-left: 10px; padding-right: 10px; width: 95%; word-wrap: break-word; white-space: normal;\">dataset_students/classification/train_unlabelled/1643.png</h4><img src=\"dataset_students/classification/train_unlabelled/1643.png\"/>\n",
              "            <a href=\"#!\">\n",
              "                <span class=\"ipyplot-img-close\"/>\n",
              "            </a>\n",
              "            <a href=\"#ipyplot-content-div-cMBVj825B33Eq66zpuhBU8-nSY7RHufbzKkKzpN6QST2V\">\n",
              "                <span class=\"ipyplot-img-expand\"/>\n",
              "            </a>\n",
              "        </div>\n",
              "    </div>\n",
              "    \n",
              "    <div class=\"ipyplot-placeholder-div-cMBVj825B33Eq66zpuhBU8\">\n",
              "        <div id=\"ipyplot-content-div-cMBVj825B33Eq66zpuhBU8-EuX8nd7jnKVFYH2on7pXui\" class=\"ipyplot-content-div-cMBVj825B33Eq66zpuhBU8\">\n",
              "            <h4 style=\"font-size: 12px; word-wrap: break-word;\">28</h4>\n",
              "            <h4 style=\"font-size: 9px; padding-left: 10px; padding-right: 10px; width: 95%; word-wrap: break-word; white-space: normal;\">dataset_students/classification/train_unlabelled/1586.png</h4><img src=\"dataset_students/classification/train_unlabelled/1586.png\"/>\n",
              "            <a href=\"#!\">\n",
              "                <span class=\"ipyplot-img-close\"/>\n",
              "            </a>\n",
              "            <a href=\"#ipyplot-content-div-cMBVj825B33Eq66zpuhBU8-EuX8nd7jnKVFYH2on7pXui\">\n",
              "                <span class=\"ipyplot-img-expand\"/>\n",
              "            </a>\n",
              "        </div>\n",
              "    </div>\n",
              "    \n",
              "    <div class=\"ipyplot-placeholder-div-cMBVj825B33Eq66zpuhBU8\">\n",
              "        <div id=\"ipyplot-content-div-cMBVj825B33Eq66zpuhBU8-WACGwUyyfmASNdB3nznMDz\" class=\"ipyplot-content-div-cMBVj825B33Eq66zpuhBU8\">\n",
              "            <h4 style=\"font-size: 12px; word-wrap: break-word;\">29</h4>\n",
              "            <h4 style=\"font-size: 9px; padding-left: 10px; padding-right: 10px; width: 95%; word-wrap: break-word; white-space: normal;\">dataset_students/classification/train_unlabelled/890.png</h4><img src=\"dataset_students/classification/train_unlabelled/890.png\"/>\n",
              "            <a href=\"#!\">\n",
              "                <span class=\"ipyplot-img-close\"/>\n",
              "            </a>\n",
              "            <a href=\"#ipyplot-content-div-cMBVj825B33Eq66zpuhBU8-WACGwUyyfmASNdB3nznMDz\">\n",
              "                <span class=\"ipyplot-img-expand\"/>\n",
              "            </a>\n",
              "        </div>\n",
              "    </div>\n",
              "    </div></div><div class=\"tab content94SvHq4FH9a92BgpKf2pAm\">\n",
              "        <style>\n",
              "        #ipyplot-imgs-container-div-NoHv2JEebfY2JnGonZz2rN {\n",
              "            width: 100%;\n",
              "            height: 100%;\n",
              "            margin: 0%;\n",
              "            overflow: auto;\n",
              "            position: relative;\n",
              "            overflow-y: scroll;\n",
              "        }\n",
              "\n",
              "        div.ipyplot-placeholder-div-NoHv2JEebfY2JnGonZz2rN {\n",
              "            width: 150px;\n",
              "            display: inline-block;\n",
              "            margin: 3px;\n",
              "            position: relative;\n",
              "        }\n",
              "\n",
              "        div.ipyplot-content-div-NoHv2JEebfY2JnGonZz2rN {\n",
              "            width: 150px;\n",
              "            background: white;\n",
              "            display: inline-block;\n",
              "            vertical-align: top;\n",
              "            text-align: center;\n",
              "            position: relative;\n",
              "            border: 2px solid #ddd;\n",
              "            top: 0;\n",
              "            left: 0;\n",
              "        }\n",
              "\n",
              "        div.ipyplot-content-div-NoHv2JEebfY2JnGonZz2rN span.ipyplot-img-close {\n",
              "            display: none;\n",
              "        }\n",
              "\n",
              "        div.ipyplot-content-div-NoHv2JEebfY2JnGonZz2rN span {\n",
              "            width: 100%;\n",
              "            height: 100%;\n",
              "            position: absolute;\n",
              "            top: 0;\n",
              "            left: 0;\n",
              "        }\n",
              "\n",
              "        div.ipyplot-content-div-NoHv2JEebfY2JnGonZz2rN img {\n",
              "            width: 150px;\n",
              "        }\n",
              "\n",
              "        div.ipyplot-content-div-NoHv2JEebfY2JnGonZz2rN span.ipyplot-img-close:hover {\n",
              "            cursor: zoom-out;\n",
              "        }\n",
              "        div.ipyplot-content-div-NoHv2JEebfY2JnGonZz2rN span.ipyplot-img-expand:hover {\n",
              "            cursor: zoom-in;\n",
              "        }\n",
              "\n",
              "        div[id^=ipyplot-content-div-NoHv2JEebfY2JnGonZz2rN]:target {\n",
              "            transform: scale(2.5);\n",
              "            transform-origin: left top;\n",
              "            z-index: 5000;\n",
              "            top: 0;\n",
              "            left: 0;\n",
              "            position: absolute;\n",
              "        }\n",
              "\n",
              "        div[id^=ipyplot-content-div-NoHv2JEebfY2JnGonZz2rN]:target span.ipyplot-img-close {\n",
              "            display: block;\n",
              "        }\n",
              "\n",
              "        div[id^=ipyplot-content-div-NoHv2JEebfY2JnGonZz2rN]:target span.ipyplot-img-expand {\n",
              "            display: none;\n",
              "        }\n",
              "        </style>\n",
              "    <div id=\"ipyplot-imgs-container-div-NoHv2JEebfY2JnGonZz2rN\">\n",
              "    <div class=\"ipyplot-placeholder-div-NoHv2JEebfY2JnGonZz2rN\">\n",
              "        <div id=\"ipyplot-content-div-NoHv2JEebfY2JnGonZz2rN-YpZFYtGfj4HYEaJamenbqE\" class=\"ipyplot-content-div-NoHv2JEebfY2JnGonZz2rN\">\n",
              "            <h4 style=\"font-size: 12px; word-wrap: break-word;\">0</h4>\n",
              "            <h4 style=\"font-size: 9px; padding-left: 10px; padding-right: 10px; width: 95%; word-wrap: break-word; white-space: normal;\">dataset_students/classification/train_labelled/136.png</h4><img src=\"dataset_students/classification/train_labelled/136.png\"/>\n",
              "            <a href=\"#!\">\n",
              "                <span class=\"ipyplot-img-close\"/>\n",
              "            </a>\n",
              "            <a href=\"#ipyplot-content-div-NoHv2JEebfY2JnGonZz2rN-YpZFYtGfj4HYEaJamenbqE\">\n",
              "                <span class=\"ipyplot-img-expand\"/>\n",
              "            </a>\n",
              "        </div>\n",
              "    </div>\n",
              "    \n",
              "    <div class=\"ipyplot-placeholder-div-NoHv2JEebfY2JnGonZz2rN\">\n",
              "        <div id=\"ipyplot-content-div-NoHv2JEebfY2JnGonZz2rN-dCU9jWGAQXKa3aGR9UZTk4\" class=\"ipyplot-content-div-NoHv2JEebfY2JnGonZz2rN\">\n",
              "            <h4 style=\"font-size: 12px; word-wrap: break-word;\">1</h4>\n",
              "            <h4 style=\"font-size: 9px; padding-left: 10px; padding-right: 10px; width: 95%; word-wrap: break-word; white-space: normal;\">dataset_students/classification/train_labelled/166.png</h4><img src=\"dataset_students/classification/train_labelled/166.png\"/>\n",
              "            <a href=\"#!\">\n",
              "                <span class=\"ipyplot-img-close\"/>\n",
              "            </a>\n",
              "            <a href=\"#ipyplot-content-div-NoHv2JEebfY2JnGonZz2rN-dCU9jWGAQXKa3aGR9UZTk4\">\n",
              "                <span class=\"ipyplot-img-expand\"/>\n",
              "            </a>\n",
              "        </div>\n",
              "    </div>\n",
              "    \n",
              "    <div class=\"ipyplot-placeholder-div-NoHv2JEebfY2JnGonZz2rN\">\n",
              "        <div id=\"ipyplot-content-div-NoHv2JEebfY2JnGonZz2rN-R2V6sviDcJcNQcvrmZAHMo\" class=\"ipyplot-content-div-NoHv2JEebfY2JnGonZz2rN\">\n",
              "            <h4 style=\"font-size: 12px; word-wrap: break-word;\">2</h4>\n",
              "            <h4 style=\"font-size: 9px; padding-left: 10px; padding-right: 10px; width: 95%; word-wrap: break-word; white-space: normal;\">dataset_students/classification/train_labelled/193.png</h4><img src=\"dataset_students/classification/train_labelled/193.png\"/>\n",
              "            <a href=\"#!\">\n",
              "                <span class=\"ipyplot-img-close\"/>\n",
              "            </a>\n",
              "            <a href=\"#ipyplot-content-div-NoHv2JEebfY2JnGonZz2rN-R2V6sviDcJcNQcvrmZAHMo\">\n",
              "                <span class=\"ipyplot-img-expand\"/>\n",
              "            </a>\n",
              "        </div>\n",
              "    </div>\n",
              "    \n",
              "    <div class=\"ipyplot-placeholder-div-NoHv2JEebfY2JnGonZz2rN\">\n",
              "        <div id=\"ipyplot-content-div-NoHv2JEebfY2JnGonZz2rN-ZxaroSj8m2nLPgvFrBdamJ\" class=\"ipyplot-content-div-NoHv2JEebfY2JnGonZz2rN\">\n",
              "            <h4 style=\"font-size: 12px; word-wrap: break-word;\">3</h4>\n",
              "            <h4 style=\"font-size: 9px; padding-left: 10px; padding-right: 10px; width: 95%; word-wrap: break-word; white-space: normal;\">dataset_students/classification/train_unlabelled/1369.png</h4><img src=\"dataset_students/classification/train_unlabelled/1369.png\"/>\n",
              "            <a href=\"#!\">\n",
              "                <span class=\"ipyplot-img-close\"/>\n",
              "            </a>\n",
              "            <a href=\"#ipyplot-content-div-NoHv2JEebfY2JnGonZz2rN-ZxaroSj8m2nLPgvFrBdamJ\">\n",
              "                <span class=\"ipyplot-img-expand\"/>\n",
              "            </a>\n",
              "        </div>\n",
              "    </div>\n",
              "    \n",
              "    <div class=\"ipyplot-placeholder-div-NoHv2JEebfY2JnGonZz2rN\">\n",
              "        <div id=\"ipyplot-content-div-NoHv2JEebfY2JnGonZz2rN-GH5gEZZet6oC5EqFmKEh7M\" class=\"ipyplot-content-div-NoHv2JEebfY2JnGonZz2rN\">\n",
              "            <h4 style=\"font-size: 12px; word-wrap: break-word;\">4</h4>\n",
              "            <h4 style=\"font-size: 9px; padding-left: 10px; padding-right: 10px; width: 95%; word-wrap: break-word; white-space: normal;\">dataset_students/classification/train_unlabelled/1089.png</h4><img src=\"dataset_students/classification/train_unlabelled/1089.png\"/>\n",
              "            <a href=\"#!\">\n",
              "                <span class=\"ipyplot-img-close\"/>\n",
              "            </a>\n",
              "            <a href=\"#ipyplot-content-div-NoHv2JEebfY2JnGonZz2rN-GH5gEZZet6oC5EqFmKEh7M\">\n",
              "                <span class=\"ipyplot-img-expand\"/>\n",
              "            </a>\n",
              "        </div>\n",
              "    </div>\n",
              "    \n",
              "    <div class=\"ipyplot-placeholder-div-NoHv2JEebfY2JnGonZz2rN\">\n",
              "        <div id=\"ipyplot-content-div-NoHv2JEebfY2JnGonZz2rN-cvxNGkZbA7oX7qD2NE3vpD\" class=\"ipyplot-content-div-NoHv2JEebfY2JnGonZz2rN\">\n",
              "            <h4 style=\"font-size: 12px; word-wrap: break-word;\">5</h4>\n",
              "            <h4 style=\"font-size: 9px; padding-left: 10px; padding-right: 10px; width: 95%; word-wrap: break-word; white-space: normal;\">dataset_students/classification/train_unlabelled/585.png</h4><img src=\"dataset_students/classification/train_unlabelled/585.png\"/>\n",
              "            <a href=\"#!\">\n",
              "                <span class=\"ipyplot-img-close\"/>\n",
              "            </a>\n",
              "            <a href=\"#ipyplot-content-div-NoHv2JEebfY2JnGonZz2rN-cvxNGkZbA7oX7qD2NE3vpD\">\n",
              "                <span class=\"ipyplot-img-expand\"/>\n",
              "            </a>\n",
              "        </div>\n",
              "    </div>\n",
              "    \n",
              "    <div class=\"ipyplot-placeholder-div-NoHv2JEebfY2JnGonZz2rN\">\n",
              "        <div id=\"ipyplot-content-div-NoHv2JEebfY2JnGonZz2rN-Qcgdu3CbKsQP9DL4b5hmi5\" class=\"ipyplot-content-div-NoHv2JEebfY2JnGonZz2rN\">\n",
              "            <h4 style=\"font-size: 12px; word-wrap: break-word;\">6</h4>\n",
              "            <h4 style=\"font-size: 9px; padding-left: 10px; padding-right: 10px; width: 95%; word-wrap: break-word; white-space: normal;\">dataset_students/classification/train_unlabelled/1658.png</h4><img src=\"dataset_students/classification/train_unlabelled/1658.png\"/>\n",
              "            <a href=\"#!\">\n",
              "                <span class=\"ipyplot-img-close\"/>\n",
              "            </a>\n",
              "            <a href=\"#ipyplot-content-div-NoHv2JEebfY2JnGonZz2rN-Qcgdu3CbKsQP9DL4b5hmi5\">\n",
              "                <span class=\"ipyplot-img-expand\"/>\n",
              "            </a>\n",
              "        </div>\n",
              "    </div>\n",
              "    \n",
              "    <div class=\"ipyplot-placeholder-div-NoHv2JEebfY2JnGonZz2rN\">\n",
              "        <div id=\"ipyplot-content-div-NoHv2JEebfY2JnGonZz2rN-7nxE9vTLacFtg49T2wENBg\" class=\"ipyplot-content-div-NoHv2JEebfY2JnGonZz2rN\">\n",
              "            <h4 style=\"font-size: 12px; word-wrap: break-word;\">7</h4>\n",
              "            <h4 style=\"font-size: 9px; padding-left: 10px; padding-right: 10px; width: 95%; word-wrap: break-word; white-space: normal;\">dataset_students/classification/train_unlabelled/407.png</h4><img src=\"dataset_students/classification/train_unlabelled/407.png\"/>\n",
              "            <a href=\"#!\">\n",
              "                <span class=\"ipyplot-img-close\"/>\n",
              "            </a>\n",
              "            <a href=\"#ipyplot-content-div-NoHv2JEebfY2JnGonZz2rN-7nxE9vTLacFtg49T2wENBg\">\n",
              "                <span class=\"ipyplot-img-expand\"/>\n",
              "            </a>\n",
              "        </div>\n",
              "    </div>\n",
              "    \n",
              "    <div class=\"ipyplot-placeholder-div-NoHv2JEebfY2JnGonZz2rN\">\n",
              "        <div id=\"ipyplot-content-div-NoHv2JEebfY2JnGonZz2rN-kRpDzzzgUGA5ZTsMC8FLZf\" class=\"ipyplot-content-div-NoHv2JEebfY2JnGonZz2rN\">\n",
              "            <h4 style=\"font-size: 12px; word-wrap: break-word;\">8</h4>\n",
              "            <h4 style=\"font-size: 9px; padding-left: 10px; padding-right: 10px; width: 95%; word-wrap: break-word; white-space: normal;\">dataset_students/classification/train_unlabelled/1183.png</h4><img src=\"dataset_students/classification/train_unlabelled/1183.png\"/>\n",
              "            <a href=\"#!\">\n",
              "                <span class=\"ipyplot-img-close\"/>\n",
              "            </a>\n",
              "            <a href=\"#ipyplot-content-div-NoHv2JEebfY2JnGonZz2rN-kRpDzzzgUGA5ZTsMC8FLZf\">\n",
              "                <span class=\"ipyplot-img-expand\"/>\n",
              "            </a>\n",
              "        </div>\n",
              "    </div>\n",
              "    \n",
              "    <div class=\"ipyplot-placeholder-div-NoHv2JEebfY2JnGonZz2rN\">\n",
              "        <div id=\"ipyplot-content-div-NoHv2JEebfY2JnGonZz2rN-ho6PryJ7mtuUYZXFe5sgqH\" class=\"ipyplot-content-div-NoHv2JEebfY2JnGonZz2rN\">\n",
              "            <h4 style=\"font-size: 12px; word-wrap: break-word;\">9</h4>\n",
              "            <h4 style=\"font-size: 9px; padding-left: 10px; padding-right: 10px; width: 95%; word-wrap: break-word; white-space: normal;\">dataset_students/classification/train_unlabelled/364.png</h4><img src=\"dataset_students/classification/train_unlabelled/364.png\"/>\n",
              "            <a href=\"#!\">\n",
              "                <span class=\"ipyplot-img-close\"/>\n",
              "            </a>\n",
              "            <a href=\"#ipyplot-content-div-NoHv2JEebfY2JnGonZz2rN-ho6PryJ7mtuUYZXFe5sgqH\">\n",
              "                <span class=\"ipyplot-img-expand\"/>\n",
              "            </a>\n",
              "        </div>\n",
              "    </div>\n",
              "    \n",
              "    <div class=\"ipyplot-placeholder-div-NoHv2JEebfY2JnGonZz2rN\">\n",
              "        <div id=\"ipyplot-content-div-NoHv2JEebfY2JnGonZz2rN-JXdzxqpxLDkf3Xe8BMw93F\" class=\"ipyplot-content-div-NoHv2JEebfY2JnGonZz2rN\">\n",
              "            <h4 style=\"font-size: 12px; word-wrap: break-word;\">10</h4>\n",
              "            <h4 style=\"font-size: 9px; padding-left: 10px; padding-right: 10px; width: 95%; word-wrap: break-word; white-space: normal;\">dataset_students/classification/train_unlabelled/877.png</h4><img src=\"dataset_students/classification/train_unlabelled/877.png\"/>\n",
              "            <a href=\"#!\">\n",
              "                <span class=\"ipyplot-img-close\"/>\n",
              "            </a>\n",
              "            <a href=\"#ipyplot-content-div-NoHv2JEebfY2JnGonZz2rN-JXdzxqpxLDkf3Xe8BMw93F\">\n",
              "                <span class=\"ipyplot-img-expand\"/>\n",
              "            </a>\n",
              "        </div>\n",
              "    </div>\n",
              "    \n",
              "    <div class=\"ipyplot-placeholder-div-NoHv2JEebfY2JnGonZz2rN\">\n",
              "        <div id=\"ipyplot-content-div-NoHv2JEebfY2JnGonZz2rN-GBdvFhBbKgtSLYhLqrPnp3\" class=\"ipyplot-content-div-NoHv2JEebfY2JnGonZz2rN\">\n",
              "            <h4 style=\"font-size: 12px; word-wrap: break-word;\">11</h4>\n",
              "            <h4 style=\"font-size: 9px; padding-left: 10px; padding-right: 10px; width: 95%; word-wrap: break-word; white-space: normal;\">dataset_students/classification/train_unlabelled/665.png</h4><img src=\"dataset_students/classification/train_unlabelled/665.png\"/>\n",
              "            <a href=\"#!\">\n",
              "                <span class=\"ipyplot-img-close\"/>\n",
              "            </a>\n",
              "            <a href=\"#ipyplot-content-div-NoHv2JEebfY2JnGonZz2rN-GBdvFhBbKgtSLYhLqrPnp3\">\n",
              "                <span class=\"ipyplot-img-expand\"/>\n",
              "            </a>\n",
              "        </div>\n",
              "    </div>\n",
              "    \n",
              "    <div class=\"ipyplot-placeholder-div-NoHv2JEebfY2JnGonZz2rN\">\n",
              "        <div id=\"ipyplot-content-div-NoHv2JEebfY2JnGonZz2rN-ExMziVAykUVSeGF9eM3CEY\" class=\"ipyplot-content-div-NoHv2JEebfY2JnGonZz2rN\">\n",
              "            <h4 style=\"font-size: 12px; word-wrap: break-word;\">12</h4>\n",
              "            <h4 style=\"font-size: 9px; padding-left: 10px; padding-right: 10px; width: 95%; word-wrap: break-word; white-space: normal;\">dataset_students/classification/train_unlabelled/1539.png</h4><img src=\"dataset_students/classification/train_unlabelled/1539.png\"/>\n",
              "            <a href=\"#!\">\n",
              "                <span class=\"ipyplot-img-close\"/>\n",
              "            </a>\n",
              "            <a href=\"#ipyplot-content-div-NoHv2JEebfY2JnGonZz2rN-ExMziVAykUVSeGF9eM3CEY\">\n",
              "                <span class=\"ipyplot-img-expand\"/>\n",
              "            </a>\n",
              "        </div>\n",
              "    </div>\n",
              "    \n",
              "    <div class=\"ipyplot-placeholder-div-NoHv2JEebfY2JnGonZz2rN\">\n",
              "        <div id=\"ipyplot-content-div-NoHv2JEebfY2JnGonZz2rN-hfnEfVfhLjeBsrUSnBjiNZ\" class=\"ipyplot-content-div-NoHv2JEebfY2JnGonZz2rN\">\n",
              "            <h4 style=\"font-size: 12px; word-wrap: break-word;\">13</h4>\n",
              "            <h4 style=\"font-size: 9px; padding-left: 10px; padding-right: 10px; width: 95%; word-wrap: break-word; white-space: normal;\">dataset_students/classification/train_unlabelled/1196.png</h4><img src=\"dataset_students/classification/train_unlabelled/1196.png\"/>\n",
              "            <a href=\"#!\">\n",
              "                <span class=\"ipyplot-img-close\"/>\n",
              "            </a>\n",
              "            <a href=\"#ipyplot-content-div-NoHv2JEebfY2JnGonZz2rN-hfnEfVfhLjeBsrUSnBjiNZ\">\n",
              "                <span class=\"ipyplot-img-expand\"/>\n",
              "            </a>\n",
              "        </div>\n",
              "    </div>\n",
              "    \n",
              "    <div class=\"ipyplot-placeholder-div-NoHv2JEebfY2JnGonZz2rN\">\n",
              "        <div id=\"ipyplot-content-div-NoHv2JEebfY2JnGonZz2rN-MeMmZqoUZmhZtaZgYQRjAo\" class=\"ipyplot-content-div-NoHv2JEebfY2JnGonZz2rN\">\n",
              "            <h4 style=\"font-size: 12px; word-wrap: break-word;\">14</h4>\n",
              "            <h4 style=\"font-size: 9px; padding-left: 10px; padding-right: 10px; width: 95%; word-wrap: break-word; white-space: normal;\">dataset_students/classification/train_unlabelled/1631.png</h4><img src=\"dataset_students/classification/train_unlabelled/1631.png\"/>\n",
              "            <a href=\"#!\">\n",
              "                <span class=\"ipyplot-img-close\"/>\n",
              "            </a>\n",
              "            <a href=\"#ipyplot-content-div-NoHv2JEebfY2JnGonZz2rN-MeMmZqoUZmhZtaZgYQRjAo\">\n",
              "                <span class=\"ipyplot-img-expand\"/>\n",
              "            </a>\n",
              "        </div>\n",
              "    </div>\n",
              "    \n",
              "    <div class=\"ipyplot-placeholder-div-NoHv2JEebfY2JnGonZz2rN\">\n",
              "        <div id=\"ipyplot-content-div-NoHv2JEebfY2JnGonZz2rN-kBnmesZJb4iJQD77Ge4WNj\" class=\"ipyplot-content-div-NoHv2JEebfY2JnGonZz2rN\">\n",
              "            <h4 style=\"font-size: 12px; word-wrap: break-word;\">15</h4>\n",
              "            <h4 style=\"font-size: 9px; padding-left: 10px; padding-right: 10px; width: 95%; word-wrap: break-word; white-space: normal;\">dataset_students/classification/train_unlabelled/843.png</h4><img src=\"dataset_students/classification/train_unlabelled/843.png\"/>\n",
              "            <a href=\"#!\">\n",
              "                <span class=\"ipyplot-img-close\"/>\n",
              "            </a>\n",
              "            <a href=\"#ipyplot-content-div-NoHv2JEebfY2JnGonZz2rN-kBnmesZJb4iJQD77Ge4WNj\">\n",
              "                <span class=\"ipyplot-img-expand\"/>\n",
              "            </a>\n",
              "        </div>\n",
              "    </div>\n",
              "    \n",
              "    <div class=\"ipyplot-placeholder-div-NoHv2JEebfY2JnGonZz2rN\">\n",
              "        <div id=\"ipyplot-content-div-NoHv2JEebfY2JnGonZz2rN-5pz6iKhJy28o8mS4AovRBT\" class=\"ipyplot-content-div-NoHv2JEebfY2JnGonZz2rN\">\n",
              "            <h4 style=\"font-size: 12px; word-wrap: break-word;\">16</h4>\n",
              "            <h4 style=\"font-size: 9px; padding-left: 10px; padding-right: 10px; width: 95%; word-wrap: break-word; white-space: normal;\">dataset_students/classification/train_unlabelled/552.png</h4><img src=\"dataset_students/classification/train_unlabelled/552.png\"/>\n",
              "            <a href=\"#!\">\n",
              "                <span class=\"ipyplot-img-close\"/>\n",
              "            </a>\n",
              "            <a href=\"#ipyplot-content-div-NoHv2JEebfY2JnGonZz2rN-5pz6iKhJy28o8mS4AovRBT\">\n",
              "                <span class=\"ipyplot-img-expand\"/>\n",
              "            </a>\n",
              "        </div>\n",
              "    </div>\n",
              "    \n",
              "    <div class=\"ipyplot-placeholder-div-NoHv2JEebfY2JnGonZz2rN\">\n",
              "        <div id=\"ipyplot-content-div-NoHv2JEebfY2JnGonZz2rN-gLZ4ECnogBRDQw3bDgRjo2\" class=\"ipyplot-content-div-NoHv2JEebfY2JnGonZz2rN\">\n",
              "            <h4 style=\"font-size: 12px; word-wrap: break-word;\">17</h4>\n",
              "            <h4 style=\"font-size: 9px; padding-left: 10px; padding-right: 10px; width: 95%; word-wrap: break-word; white-space: normal;\">dataset_students/classification/train_unlabelled/1763.png</h4><img src=\"dataset_students/classification/train_unlabelled/1763.png\"/>\n",
              "            <a href=\"#!\">\n",
              "                <span class=\"ipyplot-img-close\"/>\n",
              "            </a>\n",
              "            <a href=\"#ipyplot-content-div-NoHv2JEebfY2JnGonZz2rN-gLZ4ECnogBRDQw3bDgRjo2\">\n",
              "                <span class=\"ipyplot-img-expand\"/>\n",
              "            </a>\n",
              "        </div>\n",
              "    </div>\n",
              "    \n",
              "    <div class=\"ipyplot-placeholder-div-NoHv2JEebfY2JnGonZz2rN\">\n",
              "        <div id=\"ipyplot-content-div-NoHv2JEebfY2JnGonZz2rN-n3ucqWYCixMMJXsnbfc5EH\" class=\"ipyplot-content-div-NoHv2JEebfY2JnGonZz2rN\">\n",
              "            <h4 style=\"font-size: 12px; word-wrap: break-word;\">18</h4>\n",
              "            <h4 style=\"font-size: 9px; padding-left: 10px; padding-right: 10px; width: 95%; word-wrap: break-word; white-space: normal;\">dataset_students/classification/train_unlabelled/631.png</h4><img src=\"dataset_students/classification/train_unlabelled/631.png\"/>\n",
              "            <a href=\"#!\">\n",
              "                <span class=\"ipyplot-img-close\"/>\n",
              "            </a>\n",
              "            <a href=\"#ipyplot-content-div-NoHv2JEebfY2JnGonZz2rN-n3ucqWYCixMMJXsnbfc5EH\">\n",
              "                <span class=\"ipyplot-img-expand\"/>\n",
              "            </a>\n",
              "        </div>\n",
              "    </div>\n",
              "    \n",
              "    <div class=\"ipyplot-placeholder-div-NoHv2JEebfY2JnGonZz2rN\">\n",
              "        <div id=\"ipyplot-content-div-NoHv2JEebfY2JnGonZz2rN-bGLbRccYtjwg4u8vtspvhJ\" class=\"ipyplot-content-div-NoHv2JEebfY2JnGonZz2rN\">\n",
              "            <h4 style=\"font-size: 12px; word-wrap: break-word;\">19</h4>\n",
              "            <h4 style=\"font-size: 9px; padding-left: 10px; padding-right: 10px; width: 95%; word-wrap: break-word; white-space: normal;\">dataset_students/classification/train_unlabelled/540.png</h4><img src=\"dataset_students/classification/train_unlabelled/540.png\"/>\n",
              "            <a href=\"#!\">\n",
              "                <span class=\"ipyplot-img-close\"/>\n",
              "            </a>\n",
              "            <a href=\"#ipyplot-content-div-NoHv2JEebfY2JnGonZz2rN-bGLbRccYtjwg4u8vtspvhJ\">\n",
              "                <span class=\"ipyplot-img-expand\"/>\n",
              "            </a>\n",
              "        </div>\n",
              "    </div>\n",
              "    \n",
              "    <div class=\"ipyplot-placeholder-div-NoHv2JEebfY2JnGonZz2rN\">\n",
              "        <div id=\"ipyplot-content-div-NoHv2JEebfY2JnGonZz2rN-jrbTMHFVwhivdgWgUepmYg\" class=\"ipyplot-content-div-NoHv2JEebfY2JnGonZz2rN\">\n",
              "            <h4 style=\"font-size: 12px; word-wrap: break-word;\">20</h4>\n",
              "            <h4 style=\"font-size: 9px; padding-left: 10px; padding-right: 10px; width: 95%; word-wrap: break-word; white-space: normal;\">dataset_students/classification/train_unlabelled/1095.png</h4><img src=\"dataset_students/classification/train_unlabelled/1095.png\"/>\n",
              "            <a href=\"#!\">\n",
              "                <span class=\"ipyplot-img-close\"/>\n",
              "            </a>\n",
              "            <a href=\"#ipyplot-content-div-NoHv2JEebfY2JnGonZz2rN-jrbTMHFVwhivdgWgUepmYg\">\n",
              "                <span class=\"ipyplot-img-expand\"/>\n",
              "            </a>\n",
              "        </div>\n",
              "    </div>\n",
              "    \n",
              "    <div class=\"ipyplot-placeholder-div-NoHv2JEebfY2JnGonZz2rN\">\n",
              "        <div id=\"ipyplot-content-div-NoHv2JEebfY2JnGonZz2rN-inqXm7nzZcAXh5GxhLdgoq\" class=\"ipyplot-content-div-NoHv2JEebfY2JnGonZz2rN\">\n",
              "            <h4 style=\"font-size: 12px; word-wrap: break-word;\">21</h4>\n",
              "            <h4 style=\"font-size: 9px; padding-left: 10px; padding-right: 10px; width: 95%; word-wrap: break-word; white-space: normal;\">dataset_students/classification/train_unlabelled/150.png</h4><img src=\"dataset_students/classification/train_unlabelled/150.png\"/>\n",
              "            <a href=\"#!\">\n",
              "                <span class=\"ipyplot-img-close\"/>\n",
              "            </a>\n",
              "            <a href=\"#ipyplot-content-div-NoHv2JEebfY2JnGonZz2rN-inqXm7nzZcAXh5GxhLdgoq\">\n",
              "                <span class=\"ipyplot-img-expand\"/>\n",
              "            </a>\n",
              "        </div>\n",
              "    </div>\n",
              "    \n",
              "    <div class=\"ipyplot-placeholder-div-NoHv2JEebfY2JnGonZz2rN\">\n",
              "        <div id=\"ipyplot-content-div-NoHv2JEebfY2JnGonZz2rN-9wCXYKh8FJDBDij9q4EzVf\" class=\"ipyplot-content-div-NoHv2JEebfY2JnGonZz2rN\">\n",
              "            <h4 style=\"font-size: 12px; word-wrap: break-word;\">22</h4>\n",
              "            <h4 style=\"font-size: 9px; padding-left: 10px; padding-right: 10px; width: 95%; word-wrap: break-word; white-space: normal;\">dataset_students/classification/train_unlabelled/512.png</h4><img src=\"dataset_students/classification/train_unlabelled/512.png\"/>\n",
              "            <a href=\"#!\">\n",
              "                <span class=\"ipyplot-img-close\"/>\n",
              "            </a>\n",
              "            <a href=\"#ipyplot-content-div-NoHv2JEebfY2JnGonZz2rN-9wCXYKh8FJDBDij9q4EzVf\">\n",
              "                <span class=\"ipyplot-img-expand\"/>\n",
              "            </a>\n",
              "        </div>\n",
              "    </div>\n",
              "    \n",
              "    <div class=\"ipyplot-placeholder-div-NoHv2JEebfY2JnGonZz2rN\">\n",
              "        <div id=\"ipyplot-content-div-NoHv2JEebfY2JnGonZz2rN-o6dUDn9qqfhCAGdrXQSnk7\" class=\"ipyplot-content-div-NoHv2JEebfY2JnGonZz2rN\">\n",
              "            <h4 style=\"font-size: 12px; word-wrap: break-word;\">23</h4>\n",
              "            <h4 style=\"font-size: 9px; padding-left: 10px; padding-right: 10px; width: 95%; word-wrap: break-word; white-space: normal;\">dataset_students/classification/train_unlabelled/1614.png</h4><img src=\"dataset_students/classification/train_unlabelled/1614.png\"/>\n",
              "            <a href=\"#!\">\n",
              "                <span class=\"ipyplot-img-close\"/>\n",
              "            </a>\n",
              "            <a href=\"#ipyplot-content-div-NoHv2JEebfY2JnGonZz2rN-o6dUDn9qqfhCAGdrXQSnk7\">\n",
              "                <span class=\"ipyplot-img-expand\"/>\n",
              "            </a>\n",
              "        </div>\n",
              "    </div>\n",
              "    \n",
              "    <div class=\"ipyplot-placeholder-div-NoHv2JEebfY2JnGonZz2rN\">\n",
              "        <div id=\"ipyplot-content-div-NoHv2JEebfY2JnGonZz2rN-GiBELnsUW85zmaYJVvqzxV\" class=\"ipyplot-content-div-NoHv2JEebfY2JnGonZz2rN\">\n",
              "            <h4 style=\"font-size: 12px; word-wrap: break-word;\">24</h4>\n",
              "            <h4 style=\"font-size: 9px; padding-left: 10px; padding-right: 10px; width: 95%; word-wrap: break-word; white-space: normal;\">dataset_students/classification/train_unlabelled/1366.png</h4><img src=\"dataset_students/classification/train_unlabelled/1366.png\"/>\n",
              "            <a href=\"#!\">\n",
              "                <span class=\"ipyplot-img-close\"/>\n",
              "            </a>\n",
              "            <a href=\"#ipyplot-content-div-NoHv2JEebfY2JnGonZz2rN-GiBELnsUW85zmaYJVvqzxV\">\n",
              "                <span class=\"ipyplot-img-expand\"/>\n",
              "            </a>\n",
              "        </div>\n",
              "    </div>\n",
              "    \n",
              "    <div class=\"ipyplot-placeholder-div-NoHv2JEebfY2JnGonZz2rN\">\n",
              "        <div id=\"ipyplot-content-div-NoHv2JEebfY2JnGonZz2rN-7F2XQYN9pVbYA8jmapuTfh\" class=\"ipyplot-content-div-NoHv2JEebfY2JnGonZz2rN\">\n",
              "            <h4 style=\"font-size: 12px; word-wrap: break-word;\">25</h4>\n",
              "            <h4 style=\"font-size: 9px; padding-left: 10px; padding-right: 10px; width: 95%; word-wrap: break-word; white-space: normal;\">dataset_students/classification/train_unlabelled/1283.png</h4><img src=\"dataset_students/classification/train_unlabelled/1283.png\"/>\n",
              "            <a href=\"#!\">\n",
              "                <span class=\"ipyplot-img-close\"/>\n",
              "            </a>\n",
              "            <a href=\"#ipyplot-content-div-NoHv2JEebfY2JnGonZz2rN-7F2XQYN9pVbYA8jmapuTfh\">\n",
              "                <span class=\"ipyplot-img-expand\"/>\n",
              "            </a>\n",
              "        </div>\n",
              "    </div>\n",
              "    \n",
              "    <div class=\"ipyplot-placeholder-div-NoHv2JEebfY2JnGonZz2rN\">\n",
              "        <div id=\"ipyplot-content-div-NoHv2JEebfY2JnGonZz2rN-cEeEGHUBbh64ckv5h2v5wx\" class=\"ipyplot-content-div-NoHv2JEebfY2JnGonZz2rN\">\n",
              "            <h4 style=\"font-size: 12px; word-wrap: break-word;\">26</h4>\n",
              "            <h4 style=\"font-size: 9px; padding-left: 10px; padding-right: 10px; width: 95%; word-wrap: break-word; white-space: normal;\">dataset_students/classification/train_unlabelled/880.png</h4><img src=\"dataset_students/classification/train_unlabelled/880.png\"/>\n",
              "            <a href=\"#!\">\n",
              "                <span class=\"ipyplot-img-close\"/>\n",
              "            </a>\n",
              "            <a href=\"#ipyplot-content-div-NoHv2JEebfY2JnGonZz2rN-cEeEGHUBbh64ckv5h2v5wx\">\n",
              "                <span class=\"ipyplot-img-expand\"/>\n",
              "            </a>\n",
              "        </div>\n",
              "    </div>\n",
              "    \n",
              "    <div class=\"ipyplot-placeholder-div-NoHv2JEebfY2JnGonZz2rN\">\n",
              "        <div id=\"ipyplot-content-div-NoHv2JEebfY2JnGonZz2rN-eCxX4yMN3NHEX5pw23bTGQ\" class=\"ipyplot-content-div-NoHv2JEebfY2JnGonZz2rN\">\n",
              "            <h4 style=\"font-size: 12px; word-wrap: break-word;\">27</h4>\n",
              "            <h4 style=\"font-size: 9px; padding-left: 10px; padding-right: 10px; width: 95%; word-wrap: break-word; white-space: normal;\">dataset_students/classification/train_unlabelled/675.png</h4><img src=\"dataset_students/classification/train_unlabelled/675.png\"/>\n",
              "            <a href=\"#!\">\n",
              "                <span class=\"ipyplot-img-close\"/>\n",
              "            </a>\n",
              "            <a href=\"#ipyplot-content-div-NoHv2JEebfY2JnGonZz2rN-eCxX4yMN3NHEX5pw23bTGQ\">\n",
              "                <span class=\"ipyplot-img-expand\"/>\n",
              "            </a>\n",
              "        </div>\n",
              "    </div>\n",
              "    \n",
              "    <div class=\"ipyplot-placeholder-div-NoHv2JEebfY2JnGonZz2rN\">\n",
              "        <div id=\"ipyplot-content-div-NoHv2JEebfY2JnGonZz2rN-DWq4okbh7NKhRuHedqjto7\" class=\"ipyplot-content-div-NoHv2JEebfY2JnGonZz2rN\">\n",
              "            <h4 style=\"font-size: 12px; word-wrap: break-word;\">28</h4>\n",
              "            <h4 style=\"font-size: 9px; padding-left: 10px; padding-right: 10px; width: 95%; word-wrap: break-word; white-space: normal;\">dataset_students/classification/train_unlabelled/760.png</h4><img src=\"dataset_students/classification/train_unlabelled/760.png\"/>\n",
              "            <a href=\"#!\">\n",
              "                <span class=\"ipyplot-img-close\"/>\n",
              "            </a>\n",
              "            <a href=\"#ipyplot-content-div-NoHv2JEebfY2JnGonZz2rN-DWq4okbh7NKhRuHedqjto7\">\n",
              "                <span class=\"ipyplot-img-expand\"/>\n",
              "            </a>\n",
              "        </div>\n",
              "    </div>\n",
              "    \n",
              "    <div class=\"ipyplot-placeholder-div-NoHv2JEebfY2JnGonZz2rN\">\n",
              "        <div id=\"ipyplot-content-div-NoHv2JEebfY2JnGonZz2rN-kyqJ5EygpD9nD5WUEx3DuS\" class=\"ipyplot-content-div-NoHv2JEebfY2JnGonZz2rN\">\n",
              "            <h4 style=\"font-size: 12px; word-wrap: break-word;\">29</h4>\n",
              "            <h4 style=\"font-size: 9px; padding-left: 10px; padding-right: 10px; width: 95%; word-wrap: break-word; white-space: normal;\">dataset_students/classification/train_unlabelled/276.png</h4><img src=\"dataset_students/classification/train_unlabelled/276.png\"/>\n",
              "            <a href=\"#!\">\n",
              "                <span class=\"ipyplot-img-close\"/>\n",
              "            </a>\n",
              "            <a href=\"#ipyplot-content-div-NoHv2JEebfY2JnGonZz2rN-kyqJ5EygpD9nD5WUEx3DuS\">\n",
              "                <span class=\"ipyplot-img-expand\"/>\n",
              "            </a>\n",
              "        </div>\n",
              "    </div>\n",
              "    </div></div></div>"
            ]
          },
          "metadata": {}
        }
      ],
      "source": [
        "ipyplot.plot_class_tabs(train_image_paths[idxs], predictions,)"
      ]
    },
    {
      "cell_type": "code",
      "execution_count": 40,
      "id": "8aa869c2-3499-4663-8a20-95ecc248d2f1",
      "metadata": {
        "execution": {
          "iopub.execute_input": "2022-10-08T05:16:08.625518Z",
          "iopub.status.busy": "2022-10-08T05:16:08.625233Z",
          "iopub.status.idle": "2022-10-08T05:16:08.671197Z",
          "shell.execute_reply": "2022-10-08T05:16:08.670374Z",
          "shell.execute_reply.started": "2022-10-08T05:16:08.625484Z"
        },
        "tags": [],
        "id": "8aa869c2-3499-4663-8a20-95ecc248d2f1"
      },
      "outputs": [],
      "source": [
        "predictions = [0 if x == 2 else x for x in predictions ]\n",
        "labels = [0 if x == 2 else x for x in labels ]"
      ]
    },
    {
      "cell_type": "code",
      "execution_count": 41,
      "id": "c923902f",
      "metadata": {
        "execution": {
          "iopub.execute_input": "2022-10-08T05:16:08.672769Z",
          "iopub.status.busy": "2022-10-08T05:16:08.672467Z",
          "iopub.status.idle": "2022-10-08T05:16:08.726165Z",
          "shell.execute_reply": "2022-10-08T05:16:08.725381Z",
          "shell.execute_reply.started": "2022-10-08T05:16:08.672685Z"
        },
        "tags": [],
        "id": "c923902f",
        "outputId": "82f539a3-fa73-4b60-e713-fac7376f4898",
        "colab": {
          "base_uri": "https://localhost:8080/"
        }
      },
      "outputs": [
        {
          "output_type": "execute_result",
          "data": {
            "text/plain": [
              "0.952076677316294"
            ]
          },
          "metadata": {},
          "execution_count": 41
        }
      ],
      "source": [
        "f1_score(labels, predictions, labels=1, average='binary')"
      ]
    },
    {
      "cell_type": "markdown",
      "id": "f054f9d0-d274-4fca-8760-230b2b00072f",
      "metadata": {
        "id": "f054f9d0-d274-4fca-8760-230b2b00072f"
      },
      "source": [
        "![image.png](attachment:3ad7e37c-019b-471c-96e7-1ccd8cd0d7ef.png)"
      ]
    },
    {
      "cell_type": "markdown",
      "id": "7756e4ac-938f-4795-b404-7e8ae7d6b68e",
      "metadata": {
        "id": "7756e4ac-938f-4795-b404-7e8ae7d6b68e"
      },
      "source": [
        "## Evaluate on val\n"
      ]
    },
    {
      "cell_type": "code",
      "execution_count": 48,
      "id": "fac9bbab-860f-42e5-985f-83ac69371b6c",
      "metadata": {
        "execution": {
          "iopub.execute_input": "2022-10-08T20:43:28.654271Z",
          "iopub.status.busy": "2022-10-08T20:43:28.653198Z",
          "iopub.status.idle": "2022-10-08T20:43:28.866970Z",
          "shell.execute_reply": "2022-10-08T20:43:28.865488Z",
          "shell.execute_reply.started": "2022-10-08T20:43:28.654192Z"
        },
        "tags": [],
        "id": "fac9bbab-860f-42e5-985f-83ac69371b6c",
        "outputId": "51aeeeaa-c3b0-4ce3-e6a5-75c6676296a1",
        "colab": {
          "base_uri": "https://localhost:8080/"
        }
      },
      "outputs": [
        {
          "output_type": "execute_result",
          "data": {
            "text/plain": [
              "2638"
            ]
          },
          "metadata": {},
          "execution_count": 48
        }
      ],
      "source": [
        "import os\n",
        "\n",
        "full_image_paths = []\n",
        "\n",
        "dataset_dir = 'dataset_students/classification/train_unlabelled'\n",
        "\n",
        "for file in os.listdir(dataset_dir):\n",
        "    if file.endswith(\".png\"):\n",
        "        full_image_paths += [os.path.join(dataset_dir, file)]\n",
        "\n",
        "\n",
        "len(full_image_paths)"
      ]
    },
    {
      "cell_type": "code",
      "execution_count": 45,
      "id": "e6b351cb-d22e-4396-a3ca-f748da2cbe7a",
      "metadata": {
        "execution": {
          "iopub.execute_input": "2022-10-08T20:49:50.237092Z",
          "iopub.status.busy": "2022-10-08T20:49:50.236071Z",
          "iopub.status.idle": "2022-10-08T20:49:50.371992Z",
          "shell.execute_reply": "2022-10-08T20:49:50.369685Z",
          "shell.execute_reply.started": "2022-10-08T20:49:50.237024Z"
        },
        "tags": [],
        "id": "e6b351cb-d22e-4396-a3ca-f748da2cbe7a",
        "outputId": "76cd6eb9-0fd6-4d97-f24e-0e3c633331f0",
        "colab": {
          "base_uri": "https://localhost:8080/"
        }
      },
      "outputs": [
        {
          "output_type": "execute_result",
          "data": {
            "text/plain": [
              "2814"
            ]
          },
          "metadata": {},
          "execution_count": 45
        }
      ],
      "source": [
        "import numpy as np\n",
        "other_part_path = np.array(list(set(full_image_paths) - set(train_image_paths)))\n",
        "\n",
        "len(other_part_path)"
      ]
    },
    {
      "cell_type": "code",
      "execution_count": null,
      "id": "8361eadb-3a8b-4165-bdcb-dc5f1566ea09",
      "metadata": {
        "execution": {
          "iopub.execute_input": "2022-10-08T20:45:44.239589Z",
          "iopub.status.busy": "2022-10-08T20:45:44.239191Z",
          "iopub.status.idle": "2022-10-08T20:48:38.508898Z",
          "shell.execute_reply": "2022-10-08T20:48:38.507377Z",
          "shell.execute_reply.started": "2022-10-08T20:45:44.239546Z"
        },
        "tags": [],
        "colab": {
          "referenced_widgets": [
            "0ff3d94d7db04ed1850b2a30b73be9d1"
          ]
        },
        "id": "8361eadb-3a8b-4165-bdcb-dc5f1566ea09",
        "outputId": "e8e45eeb-29bc-4c42-900f-e309b9f56774"
      },
      "outputs": [
        {
          "data": {
            "application/vnd.jupyter.widget-view+json": {
              "model_id": "0ff3d94d7db04ed1850b2a30b73be9d1",
              "version_major": 2,
              "version_minor": 0
            },
            "text/plain": [
              "  0%|          | 0/204 [00:00<?, ?it/s]"
            ]
          },
          "metadata": {},
          "output_type": "display_data"
        }
      ],
      "source": [
        "other_part_dataset = ImagesDataset(other_part_path, transform=transform)\n",
        "\n",
        "labels, predictions, probas, idxs = evaluate_model(model, other_part_dataset)"
      ]
    },
    {
      "cell_type": "code",
      "execution_count": null,
      "id": "7c249fe2-42fd-43df-b764-9671a5ca9f78",
      "metadata": {
        "execution": {
          "iopub.execute_input": "2022-10-08T20:52:47.117184Z",
          "iopub.status.busy": "2022-10-08T20:52:47.116551Z",
          "iopub.status.idle": "2022-10-08T20:52:47.647684Z",
          "shell.execute_reply": "2022-10-08T20:52:47.646672Z",
          "shell.execute_reply.started": "2022-10-08T20:52:47.117111Z"
        },
        "tags": [],
        "id": "7c249fe2-42fd-43df-b764-9671a5ca9f78",
        "outputId": "983db78a-6dee-404a-fd45-d3a524b96ddf"
      },
      "outputs": [
        {
          "data": {
            "text/html": [
              "<div>\n",
              "<style scoped>\n",
              "    .dataframe tbody tr th:only-of-type {\n",
              "        vertical-align: middle;\n",
              "    }\n",
              "\n",
              "    .dataframe tbody tr th {\n",
              "        vertical-align: top;\n",
              "    }\n",
              "\n",
              "    .dataframe thead th {\n",
              "        text-align: right;\n",
              "    }\n",
              "</style>\n",
              "<table border=\"1\" class=\"dataframe\">\n",
              "  <thead>\n",
              "    <tr style=\"text-align: right;\">\n",
              "      <th></th>\n",
              "      <th>idxs</th>\n",
              "      <th>file_path</th>\n",
              "      <th>probas</th>\n",
              "      <th>predictions</th>\n",
              "    </tr>\n",
              "  </thead>\n",
              "  <tbody>\n",
              "    <tr>\n",
              "      <th>0</th>\n",
              "      <td>tensor(0)</td>\n",
              "      <td>dataset_students/classification/train_unlabell...</td>\n",
              "      <td>[tensor(0.0190), tensor(0.9792), tensor(0.0018)]</td>\n",
              "      <td>1</td>\n",
              "    </tr>\n",
              "    <tr>\n",
              "      <th>1</th>\n",
              "      <td>tensor(1)</td>\n",
              "      <td>dataset_students/classification/train_unlabell...</td>\n",
              "      <td>[tensor(0.9997), tensor(0.0003), tensor(2.0569...</td>\n",
              "      <td>0</td>\n",
              "    </tr>\n",
              "    <tr>\n",
              "      <th>2</th>\n",
              "      <td>tensor(2)</td>\n",
              "      <td>dataset_students/classification/train_unlabell...</td>\n",
              "      <td>[tensor(1.0000), tensor(1.9524e-06), tensor(9....</td>\n",
              "      <td>0</td>\n",
              "    </tr>\n",
              "    <tr>\n",
              "      <th>3</th>\n",
              "      <td>tensor(3)</td>\n",
              "      <td>dataset_students/classification/train_unlabell...</td>\n",
              "      <td>[tensor(0.8721), tensor(2.6210e-06), tensor(0....</td>\n",
              "      <td>0</td>\n",
              "    </tr>\n",
              "    <tr>\n",
              "      <th>4</th>\n",
              "      <td>tensor(4)</td>\n",
              "      <td>dataset_students/classification/train_unlabell...</td>\n",
              "      <td>[tensor(0.0430), tensor(0.9570), tensor(2.2035...</td>\n",
              "      <td>1</td>\n",
              "    </tr>\n",
              "    <tr>\n",
              "      <th>5</th>\n",
              "      <td>tensor(5)</td>\n",
              "      <td>dataset_students/classification/train_unlabell...</td>\n",
              "      <td>[tensor(0.9819), tensor(0.0178), tensor(0.0002)]</td>\n",
              "      <td>0</td>\n",
              "    </tr>\n",
              "    <tr>\n",
              "      <th>6</th>\n",
              "      <td>tensor(6)</td>\n",
              "      <td>dataset_students/classification/train_unlabell...</td>\n",
              "      <td>[tensor(0.9372), tensor(0.0623), tensor(0.0005)]</td>\n",
              "      <td>0</td>\n",
              "    </tr>\n",
              "    <tr>\n",
              "      <th>7</th>\n",
              "      <td>tensor(7)</td>\n",
              "      <td>dataset_students/classification/train_unlabell...</td>\n",
              "      <td>[tensor(0.9995), tensor(0.0005), tensor(7.9354...</td>\n",
              "      <td>0</td>\n",
              "    </tr>\n",
              "    <tr>\n",
              "      <th>8</th>\n",
              "      <td>tensor(8)</td>\n",
              "      <td>dataset_students/classification/train_unlabell...</td>\n",
              "      <td>[tensor(1.0000), tensor(1.1067e-07), tensor(3....</td>\n",
              "      <td>0</td>\n",
              "    </tr>\n",
              "    <tr>\n",
              "      <th>9</th>\n",
              "      <td>tensor(9)</td>\n",
              "      <td>dataset_students/classification/train_unlabell...</td>\n",
              "      <td>[tensor(0.6901), tensor(0.0021), tensor(0.3078)]</td>\n",
              "      <td>0</td>\n",
              "    </tr>\n",
              "  </tbody>\n",
              "</table>\n",
              "</div>"
            ],
            "text/plain": [
              "        idxs                                          file_path  \\\n",
              "0  tensor(0)  dataset_students/classification/train_unlabell...   \n",
              "1  tensor(1)  dataset_students/classification/train_unlabell...   \n",
              "2  tensor(2)  dataset_students/classification/train_unlabell...   \n",
              "3  tensor(3)  dataset_students/classification/train_unlabell...   \n",
              "4  tensor(4)  dataset_students/classification/train_unlabell...   \n",
              "5  tensor(5)  dataset_students/classification/train_unlabell...   \n",
              "6  tensor(6)  dataset_students/classification/train_unlabell...   \n",
              "7  tensor(7)  dataset_students/classification/train_unlabell...   \n",
              "8  tensor(8)  dataset_students/classification/train_unlabell...   \n",
              "9  tensor(9)  dataset_students/classification/train_unlabell...   \n",
              "\n",
              "                                              probas  predictions  \n",
              "0   [tensor(0.0190), tensor(0.9792), tensor(0.0018)]            1  \n",
              "1  [tensor(0.9997), tensor(0.0003), tensor(2.0569...            0  \n",
              "2  [tensor(1.0000), tensor(1.9524e-06), tensor(9....            0  \n",
              "3  [tensor(0.8721), tensor(2.6210e-06), tensor(0....            0  \n",
              "4  [tensor(0.0430), tensor(0.9570), tensor(2.2035...            1  \n",
              "5   [tensor(0.9819), tensor(0.0178), tensor(0.0002)]            0  \n",
              "6   [tensor(0.9372), tensor(0.0623), tensor(0.0005)]            0  \n",
              "7  [tensor(0.9995), tensor(0.0005), tensor(7.9354...            0  \n",
              "8  [tensor(1.0000), tensor(1.1067e-07), tensor(3....            0  \n",
              "9   [tensor(0.6901), tensor(0.0021), tensor(0.3078)]            0  "
            ]
          },
          "execution_count": 80,
          "metadata": {},
          "output_type": "execute_result"
        }
      ],
      "source": [
        "df = pd.DataFrame(dict(idxs=idxs, file_path = other_part_path[idxs], probas=probas, predictions=predictions))\n",
        "\n",
        "df.head(10)"
      ]
    },
    {
      "cell_type": "code",
      "execution_count": null,
      "id": "779dd10c-62a4-4d69-aa09-3e19e32d5047",
      "metadata": {
        "execution": {
          "iopub.execute_input": "2022-10-08T20:56:31.780194Z",
          "iopub.status.busy": "2022-10-08T20:56:31.779317Z",
          "iopub.status.idle": "2022-10-08T20:56:31.913473Z",
          "shell.execute_reply": "2022-10-08T20:56:31.912226Z",
          "shell.execute_reply.started": "2022-10-08T20:56:31.780135Z"
        },
        "tags": [],
        "id": "779dd10c-62a4-4d69-aa09-3e19e32d5047"
      },
      "outputs": [],
      "source": [
        "df['max_prob'] = df.probas.apply(lambda x: x.max())"
      ]
    },
    {
      "cell_type": "code",
      "execution_count": null,
      "id": "3120b648-216a-459a-9836-3f73b82a3eff",
      "metadata": {
        "execution": {
          "iopub.execute_input": "2022-10-08T20:57:39.084347Z",
          "iopub.status.busy": "2022-10-08T20:57:39.083767Z",
          "iopub.status.idle": "2022-10-08T20:57:47.938640Z",
          "shell.execute_reply": "2022-10-08T20:57:47.934215Z",
          "shell.execute_reply.started": "2022-10-08T20:57:39.084286Z"
        },
        "tags": [],
        "id": "3120b648-216a-459a-9836-3f73b82a3eff"
      },
      "outputs": [],
      "source": [
        "df.sort_values(by='max_prob').head(3700).to_csv('most_unconfident.csv') # сортим так, чтобы разметить 3700 объектов в которых мы менее всего уверны"
      ]
    },
    {
      "cell_type": "markdown",
      "source": [
        "# Evaluate on public test"
      ],
      "metadata": {
        "id": "dZeIrUYarhBJ"
      },
      "id": "dZeIrUYarhBJ"
    },
    {
      "cell_type": "code",
      "source": [
        "!wget https://tlk.s3.yandex.net/course/shad_cv_project_22/val.zip\n",
        "!unzip val.zip"
      ],
      "metadata": {
        "id": "U7WbjgaMrjnP"
      },
      "id": "U7WbjgaMrjnP",
      "execution_count": null,
      "outputs": []
    },
    {
      "cell_type": "code",
      "source": [
        "import os\n",
        "\n",
        "val_paths = []\n",
        "\n",
        "dataset_dir = 'val'\n",
        "\n",
        "for file in os.listdir(dataset_dir):\n",
        "    if file.endswith(\".png\"):\n",
        "        val_paths += [os.path.join(dataset_dir, file)]\n",
        "\n",
        "\n",
        "len(val_paths)"
      ],
      "metadata": {
        "colab": {
          "base_uri": "https://localhost:8080/"
        },
        "id": "T6545nxCrnIP",
        "outputId": "ead5d50d-e7c9-4699-b3f0-940231f14b42"
      },
      "id": "T6545nxCrnIP",
      "execution_count": 50,
      "outputs": [
        {
          "output_type": "execute_result",
          "data": {
            "text/plain": [
              "2638"
            ]
          },
          "metadata": {},
          "execution_count": 50
        }
      ]
    },
    {
      "cell_type": "code",
      "source": [
        "val_dataset = ImagesDataset(val_paths, transform=transform)\n",
        "\n",
        "labels, predictions, idxs = evaluate_model(model, val_dataset)"
      ],
      "metadata": {
        "colab": {
          "base_uri": "https://localhost:8080/",
          "height": 104,
          "referenced_widgets": [
            "7514d343d9ed43ee912fd888711f19ad",
            "9f0bf9df27ef4350b8a5b75e43f09934",
            "4a9b08163e83479a8821f872ee07f15a",
            "9b74ad65a87f44bfad3085c25cd757d4",
            "e7972d1efe304c3488f574ec4836781c",
            "095b1df674294b97ba9ba1511cdc69b4",
            "ca5a363a98e5436f8ffe5916f4688385",
            "11a537ef0f334899bf2693da5e3dd1ab",
            "fd4a449b82984c1ba61c46c9d715a0a4",
            "909bff746fc84a7289c423db85728eb7",
            "cdf778e8a4814f849c6746fa8908ceb9"
          ]
        },
        "id": "JOcHbtUwsUby",
        "outputId": "397f4644-9e80-4250-feec-bd1846c8c147"
      },
      "id": "JOcHbtUwsUby",
      "execution_count": 51,
      "outputs": [
        {
          "output_type": "stream",
          "name": "stderr",
          "text": [
            "/usr/local/lib/python3.7/dist-packages/torch/utils/data/dataloader.py:566: UserWarning: This DataLoader will create 4 worker processes in total. Our suggested max number of worker in current system is 2, which is smaller than what this DataLoader is going to create. Please be aware that excessive worker creation might get DataLoader running slow or even freeze, lower the worker number to avoid potential slowness/freeze if necessary.\n",
            "  cpuset_checked))\n"
          ]
        },
        {
          "output_type": "display_data",
          "data": {
            "text/plain": [
              "  0%|          | 0/83 [00:00<?, ?it/s]"
            ],
            "application/vnd.jupyter.widget-view+json": {
              "version_major": 2,
              "version_minor": 0,
              "model_id": "7514d343d9ed43ee912fd888711f19ad"
            }
          },
          "metadata": {}
        }
      ]
    },
    {
      "cell_type": "code",
      "source": [
        "predictions = list(map(lambda x: int(x == 1), predictions))"
      ],
      "metadata": {
        "id": "YaqGNP581tHk"
      },
      "id": "YaqGNP581tHk",
      "execution_count": 67,
      "outputs": []
    },
    {
      "cell_type": "code",
      "source": [
        "public = pd.DataFrame(dict(img_path=[x.split('/')[-1] for x in val_paths], label=predictions))"
      ],
      "metadata": {
        "id": "cg38T5Xw2hCd"
      },
      "id": "cg38T5Xw2hCd",
      "execution_count": 72,
      "outputs": []
    },
    {
      "cell_type": "code",
      "source": [
        "public.to_csv('public.csv', sep=',', index=False)"
      ],
      "metadata": {
        "id": "G0B2EoN73ccS"
      },
      "id": "G0B2EoN73ccS",
      "execution_count": 76,
      "outputs": []
    },
    {
      "cell_type": "markdown",
      "id": "82aadc63",
      "metadata": {
        "id": "82aadc63"
      },
      "source": [
        "# Save model"
      ]
    },
    {
      "cell_type": "code",
      "execution_count": 42,
      "id": "ee5a33bc",
      "metadata": {
        "execution": {
          "iopub.execute_input": "2022-10-08T06:07:37.688364Z",
          "iopub.status.busy": "2022-10-08T06:07:37.688052Z",
          "iopub.status.idle": "2022-10-08T06:07:37.857282Z",
          "shell.execute_reply": "2022-10-08T06:07:37.856528Z",
          "shell.execute_reply.started": "2022-10-08T06:07:37.688321Z"
        },
        "tags": [],
        "id": "ee5a33bc"
      },
      "outputs": [],
      "source": [
        "trainer.save_checkpoint(\"model.ckpt\")"
      ]
    },
    {
      "cell_type": "code",
      "execution_count": null,
      "id": "019e1018-d780-49bb-b270-44e01bd38562",
      "metadata": {
        "id": "019e1018-d780-49bb-b270-44e01bd38562"
      },
      "outputs": [],
      "source": []
    }
  ],
  "metadata": {
    "interpreter": {
      "hash": "aee8b7b246df8f9039afb4144a1f6fd8d2ca17a180786b69acc140d282b71a49"
    },
    "kernelspec": {
      "display_name": "Python 3 (ipykernel)",
      "language": "python",
      "name": "python3"
    },
    "language_info": {
      "codemirror_mode": {
        "name": "ipython",
        "version": 3
      },
      "file_extension": ".py",
      "mimetype": "text/x-python",
      "name": "python",
      "nbconvert_exporter": "python",
      "pygments_lexer": "ipython3",
      "version": "3.9.7"
    },
    "widgets": {
      "application/vnd.jupyter.widget-state+json": {
        "811e55f36f004799ac5af5afae2911ff": {
          "model_module": "@jupyter-widgets/controls",
          "model_name": "HBoxModel",
          "model_module_version": "1.5.0",
          "state": {
            "_dom_classes": [],
            "_model_module": "@jupyter-widgets/controls",
            "_model_module_version": "1.5.0",
            "_model_name": "HBoxModel",
            "_view_count": null,
            "_view_module": "@jupyter-widgets/controls",
            "_view_module_version": "1.5.0",
            "_view_name": "HBoxView",
            "box_style": "",
            "children": [
              "IPY_MODEL_f65a628d964c4b1da31d60ca17697f45",
              "IPY_MODEL_8bb70202026440a79cb49f792a79e100",
              "IPY_MODEL_7f20816302924bbaa5de5811b3d247d4"
            ],
            "layout": "IPY_MODEL_5bc5a4035bc5437d889dc4947e9c3bd4"
          }
        },
        "f65a628d964c4b1da31d60ca17697f45": {
          "model_module": "@jupyter-widgets/controls",
          "model_name": "HTMLModel",
          "model_module_version": "1.5.0",
          "state": {
            "_dom_classes": [],
            "_model_module": "@jupyter-widgets/controls",
            "_model_module_version": "1.5.0",
            "_model_name": "HTMLModel",
            "_view_count": null,
            "_view_module": "@jupyter-widgets/controls",
            "_view_module_version": "1.5.0",
            "_view_name": "HTMLView",
            "description": "",
            "description_tooltip": null,
            "layout": "IPY_MODEL_7c45bacc7a444e0a9fb693ae79840482",
            "placeholder": "​",
            "style": "IPY_MODEL_7c41412b69484b72b7f5a91ac09a0170",
            "value": "Epoch 9: 100%"
          }
        },
        "8bb70202026440a79cb49f792a79e100": {
          "model_module": "@jupyter-widgets/controls",
          "model_name": "FloatProgressModel",
          "model_module_version": "1.5.0",
          "state": {
            "_dom_classes": [],
            "_model_module": "@jupyter-widgets/controls",
            "_model_module_version": "1.5.0",
            "_model_name": "FloatProgressModel",
            "_view_count": null,
            "_view_module": "@jupyter-widgets/controls",
            "_view_module_version": "1.5.0",
            "_view_name": "ProgressView",
            "bar_style": "success",
            "description": "",
            "description_tooltip": null,
            "layout": "IPY_MODEL_0fe0ea6db0234a84afe14651c8f755b0",
            "max": 92,
            "min": 0,
            "orientation": "horizontal",
            "style": "IPY_MODEL_0fd3a677641e42a886989ebca568b07d",
            "value": 92
          }
        },
        "7f20816302924bbaa5de5811b3d247d4": {
          "model_module": "@jupyter-widgets/controls",
          "model_name": "HTMLModel",
          "model_module_version": "1.5.0",
          "state": {
            "_dom_classes": [],
            "_model_module": "@jupyter-widgets/controls",
            "_model_module_version": "1.5.0",
            "_model_name": "HTMLModel",
            "_view_count": null,
            "_view_module": "@jupyter-widgets/controls",
            "_view_module_version": "1.5.0",
            "_view_name": "HTMLView",
            "description": "",
            "description_tooltip": null,
            "layout": "IPY_MODEL_977e9930d94c4cd6926eae2855b6e2a1",
            "placeholder": "​",
            "style": "IPY_MODEL_8f265d1797404eafbac73385458f58a6",
            "value": " 92/92 [00:17&lt;00:00,  5.19it/s, loss=0.00182, v_num=2hfr]"
          }
        },
        "5bc5a4035bc5437d889dc4947e9c3bd4": {
          "model_module": "@jupyter-widgets/base",
          "model_name": "LayoutModel",
          "model_module_version": "1.2.0",
          "state": {
            "_model_module": "@jupyter-widgets/base",
            "_model_module_version": "1.2.0",
            "_model_name": "LayoutModel",
            "_view_count": null,
            "_view_module": "@jupyter-widgets/base",
            "_view_module_version": "1.2.0",
            "_view_name": "LayoutView",
            "align_content": null,
            "align_items": null,
            "align_self": null,
            "border": null,
            "bottom": null,
            "display": "inline-flex",
            "flex": null,
            "flex_flow": "row wrap",
            "grid_area": null,
            "grid_auto_columns": null,
            "grid_auto_flow": null,
            "grid_auto_rows": null,
            "grid_column": null,
            "grid_gap": null,
            "grid_row": null,
            "grid_template_areas": null,
            "grid_template_columns": null,
            "grid_template_rows": null,
            "height": null,
            "justify_content": null,
            "justify_items": null,
            "left": null,
            "margin": null,
            "max_height": null,
            "max_width": null,
            "min_height": null,
            "min_width": null,
            "object_fit": null,
            "object_position": null,
            "order": null,
            "overflow": null,
            "overflow_x": null,
            "overflow_y": null,
            "padding": null,
            "right": null,
            "top": null,
            "visibility": null,
            "width": "100%"
          }
        },
        "7c45bacc7a444e0a9fb693ae79840482": {
          "model_module": "@jupyter-widgets/base",
          "model_name": "LayoutModel",
          "model_module_version": "1.2.0",
          "state": {
            "_model_module": "@jupyter-widgets/base",
            "_model_module_version": "1.2.0",
            "_model_name": "LayoutModel",
            "_view_count": null,
            "_view_module": "@jupyter-widgets/base",
            "_view_module_version": "1.2.0",
            "_view_name": "LayoutView",
            "align_content": null,
            "align_items": null,
            "align_self": null,
            "border": null,
            "bottom": null,
            "display": null,
            "flex": null,
            "flex_flow": null,
            "grid_area": null,
            "grid_auto_columns": null,
            "grid_auto_flow": null,
            "grid_auto_rows": null,
            "grid_column": null,
            "grid_gap": null,
            "grid_row": null,
            "grid_template_areas": null,
            "grid_template_columns": null,
            "grid_template_rows": null,
            "height": null,
            "justify_content": null,
            "justify_items": null,
            "left": null,
            "margin": null,
            "max_height": null,
            "max_width": null,
            "min_height": null,
            "min_width": null,
            "object_fit": null,
            "object_position": null,
            "order": null,
            "overflow": null,
            "overflow_x": null,
            "overflow_y": null,
            "padding": null,
            "right": null,
            "top": null,
            "visibility": null,
            "width": null
          }
        },
        "7c41412b69484b72b7f5a91ac09a0170": {
          "model_module": "@jupyter-widgets/controls",
          "model_name": "DescriptionStyleModel",
          "model_module_version": "1.5.0",
          "state": {
            "_model_module": "@jupyter-widgets/controls",
            "_model_module_version": "1.5.0",
            "_model_name": "DescriptionStyleModel",
            "_view_count": null,
            "_view_module": "@jupyter-widgets/base",
            "_view_module_version": "1.2.0",
            "_view_name": "StyleView",
            "description_width": ""
          }
        },
        "0fe0ea6db0234a84afe14651c8f755b0": {
          "model_module": "@jupyter-widgets/base",
          "model_name": "LayoutModel",
          "model_module_version": "1.2.0",
          "state": {
            "_model_module": "@jupyter-widgets/base",
            "_model_module_version": "1.2.0",
            "_model_name": "LayoutModel",
            "_view_count": null,
            "_view_module": "@jupyter-widgets/base",
            "_view_module_version": "1.2.0",
            "_view_name": "LayoutView",
            "align_content": null,
            "align_items": null,
            "align_self": null,
            "border": null,
            "bottom": null,
            "display": null,
            "flex": "2",
            "flex_flow": null,
            "grid_area": null,
            "grid_auto_columns": null,
            "grid_auto_flow": null,
            "grid_auto_rows": null,
            "grid_column": null,
            "grid_gap": null,
            "grid_row": null,
            "grid_template_areas": null,
            "grid_template_columns": null,
            "grid_template_rows": null,
            "height": null,
            "justify_content": null,
            "justify_items": null,
            "left": null,
            "margin": null,
            "max_height": null,
            "max_width": null,
            "min_height": null,
            "min_width": null,
            "object_fit": null,
            "object_position": null,
            "order": null,
            "overflow": null,
            "overflow_x": null,
            "overflow_y": null,
            "padding": null,
            "right": null,
            "top": null,
            "visibility": null,
            "width": null
          }
        },
        "0fd3a677641e42a886989ebca568b07d": {
          "model_module": "@jupyter-widgets/controls",
          "model_name": "ProgressStyleModel",
          "model_module_version": "1.5.0",
          "state": {
            "_model_module": "@jupyter-widgets/controls",
            "_model_module_version": "1.5.0",
            "_model_name": "ProgressStyleModel",
            "_view_count": null,
            "_view_module": "@jupyter-widgets/base",
            "_view_module_version": "1.2.0",
            "_view_name": "StyleView",
            "bar_color": null,
            "description_width": ""
          }
        },
        "977e9930d94c4cd6926eae2855b6e2a1": {
          "model_module": "@jupyter-widgets/base",
          "model_name": "LayoutModel",
          "model_module_version": "1.2.0",
          "state": {
            "_model_module": "@jupyter-widgets/base",
            "_model_module_version": "1.2.0",
            "_model_name": "LayoutModel",
            "_view_count": null,
            "_view_module": "@jupyter-widgets/base",
            "_view_module_version": "1.2.0",
            "_view_name": "LayoutView",
            "align_content": null,
            "align_items": null,
            "align_self": null,
            "border": null,
            "bottom": null,
            "display": null,
            "flex": null,
            "flex_flow": null,
            "grid_area": null,
            "grid_auto_columns": null,
            "grid_auto_flow": null,
            "grid_auto_rows": null,
            "grid_column": null,
            "grid_gap": null,
            "grid_row": null,
            "grid_template_areas": null,
            "grid_template_columns": null,
            "grid_template_rows": null,
            "height": null,
            "justify_content": null,
            "justify_items": null,
            "left": null,
            "margin": null,
            "max_height": null,
            "max_width": null,
            "min_height": null,
            "min_width": null,
            "object_fit": null,
            "object_position": null,
            "order": null,
            "overflow": null,
            "overflow_x": null,
            "overflow_y": null,
            "padding": null,
            "right": null,
            "top": null,
            "visibility": null,
            "width": null
          }
        },
        "8f265d1797404eafbac73385458f58a6": {
          "model_module": "@jupyter-widgets/controls",
          "model_name": "DescriptionStyleModel",
          "model_module_version": "1.5.0",
          "state": {
            "_model_module": "@jupyter-widgets/controls",
            "_model_module_version": "1.5.0",
            "_model_name": "DescriptionStyleModel",
            "_view_count": null,
            "_view_module": "@jupyter-widgets/base",
            "_view_module_version": "1.2.0",
            "_view_name": "StyleView",
            "description_width": ""
          }
        },
        "cde61c6f592c4a0e9d0d6ff2cc0d74d5": {
          "model_module": "@jupyter-widgets/controls",
          "model_name": "HBoxModel",
          "model_module_version": "1.5.0",
          "state": {
            "_dom_classes": [],
            "_model_module": "@jupyter-widgets/controls",
            "_model_module_version": "1.5.0",
            "_model_name": "HBoxModel",
            "_view_count": null,
            "_view_module": "@jupyter-widgets/controls",
            "_view_module_version": "1.5.0",
            "_view_name": "HBoxView",
            "box_style": "",
            "children": [
              "IPY_MODEL_4008abb827f7478fb7689b6edac501e6",
              "IPY_MODEL_6c20a4ab4fc743feb74cbf7d9c156751",
              "IPY_MODEL_ac88532a91b749678a30a674a923ae74"
            ],
            "layout": "IPY_MODEL_fc24c105ab56418793bf2fd996a8fc3b"
          }
        },
        "4008abb827f7478fb7689b6edac501e6": {
          "model_module": "@jupyter-widgets/controls",
          "model_name": "HTMLModel",
          "model_module_version": "1.5.0",
          "state": {
            "_dom_classes": [],
            "_model_module": "@jupyter-widgets/controls",
            "_model_module_version": "1.5.0",
            "_model_name": "HTMLModel",
            "_view_count": null,
            "_view_module": "@jupyter-widgets/controls",
            "_view_module_version": "1.5.0",
            "_view_name": "HTMLView",
            "description": "",
            "description_tooltip": null,
            "layout": "IPY_MODEL_71c033951c3d41d6ab1794486810d5a0",
            "placeholder": "​",
            "style": "IPY_MODEL_015f9e1ccca54a8896df0c3b4ddbf32e",
            "value": "100%"
          }
        },
        "6c20a4ab4fc743feb74cbf7d9c156751": {
          "model_module": "@jupyter-widgets/controls",
          "model_name": "FloatProgressModel",
          "model_module_version": "1.5.0",
          "state": {
            "_dom_classes": [],
            "_model_module": "@jupyter-widgets/controls",
            "_model_module_version": "1.5.0",
            "_model_name": "FloatProgressModel",
            "_view_count": null,
            "_view_module": "@jupyter-widgets/controls",
            "_view_module_version": "1.5.0",
            "_view_name": "ProgressView",
            "bar_style": "success",
            "description": "",
            "description_tooltip": null,
            "layout": "IPY_MODEL_1f45497076be4e2c86db14dc86e8ef25",
            "max": 184,
            "min": 0,
            "orientation": "horizontal",
            "style": "IPY_MODEL_b1dc4d831634405aab515482c8c6aa02",
            "value": 184
          }
        },
        "ac88532a91b749678a30a674a923ae74": {
          "model_module": "@jupyter-widgets/controls",
          "model_name": "HTMLModel",
          "model_module_version": "1.5.0",
          "state": {
            "_dom_classes": [],
            "_model_module": "@jupyter-widgets/controls",
            "_model_module_version": "1.5.0",
            "_model_name": "HTMLModel",
            "_view_count": null,
            "_view_module": "@jupyter-widgets/controls",
            "_view_module_version": "1.5.0",
            "_view_name": "HTMLView",
            "description": "",
            "description_tooltip": null,
            "layout": "IPY_MODEL_8e5bbf81054c419a89164a0dd4ff7918",
            "placeholder": "​",
            "style": "IPY_MODEL_d6ea86ba492d41f19ec90cc27570724d",
            "value": " 184/184 [00:51&lt;00:00,  4.25it/s]"
          }
        },
        "fc24c105ab56418793bf2fd996a8fc3b": {
          "model_module": "@jupyter-widgets/base",
          "model_name": "LayoutModel",
          "model_module_version": "1.2.0",
          "state": {
            "_model_module": "@jupyter-widgets/base",
            "_model_module_version": "1.2.0",
            "_model_name": "LayoutModel",
            "_view_count": null,
            "_view_module": "@jupyter-widgets/base",
            "_view_module_version": "1.2.0",
            "_view_name": "LayoutView",
            "align_content": null,
            "align_items": null,
            "align_self": null,
            "border": null,
            "bottom": null,
            "display": null,
            "flex": null,
            "flex_flow": null,
            "grid_area": null,
            "grid_auto_columns": null,
            "grid_auto_flow": null,
            "grid_auto_rows": null,
            "grid_column": null,
            "grid_gap": null,
            "grid_row": null,
            "grid_template_areas": null,
            "grid_template_columns": null,
            "grid_template_rows": null,
            "height": null,
            "justify_content": null,
            "justify_items": null,
            "left": null,
            "margin": null,
            "max_height": null,
            "max_width": null,
            "min_height": null,
            "min_width": null,
            "object_fit": null,
            "object_position": null,
            "order": null,
            "overflow": null,
            "overflow_x": null,
            "overflow_y": null,
            "padding": null,
            "right": null,
            "top": null,
            "visibility": null,
            "width": null
          }
        },
        "71c033951c3d41d6ab1794486810d5a0": {
          "model_module": "@jupyter-widgets/base",
          "model_name": "LayoutModel",
          "model_module_version": "1.2.0",
          "state": {
            "_model_module": "@jupyter-widgets/base",
            "_model_module_version": "1.2.0",
            "_model_name": "LayoutModel",
            "_view_count": null,
            "_view_module": "@jupyter-widgets/base",
            "_view_module_version": "1.2.0",
            "_view_name": "LayoutView",
            "align_content": null,
            "align_items": null,
            "align_self": null,
            "border": null,
            "bottom": null,
            "display": null,
            "flex": null,
            "flex_flow": null,
            "grid_area": null,
            "grid_auto_columns": null,
            "grid_auto_flow": null,
            "grid_auto_rows": null,
            "grid_column": null,
            "grid_gap": null,
            "grid_row": null,
            "grid_template_areas": null,
            "grid_template_columns": null,
            "grid_template_rows": null,
            "height": null,
            "justify_content": null,
            "justify_items": null,
            "left": null,
            "margin": null,
            "max_height": null,
            "max_width": null,
            "min_height": null,
            "min_width": null,
            "object_fit": null,
            "object_position": null,
            "order": null,
            "overflow": null,
            "overflow_x": null,
            "overflow_y": null,
            "padding": null,
            "right": null,
            "top": null,
            "visibility": null,
            "width": null
          }
        },
        "015f9e1ccca54a8896df0c3b4ddbf32e": {
          "model_module": "@jupyter-widgets/controls",
          "model_name": "DescriptionStyleModel",
          "model_module_version": "1.5.0",
          "state": {
            "_model_module": "@jupyter-widgets/controls",
            "_model_module_version": "1.5.0",
            "_model_name": "DescriptionStyleModel",
            "_view_count": null,
            "_view_module": "@jupyter-widgets/base",
            "_view_module_version": "1.2.0",
            "_view_name": "StyleView",
            "description_width": ""
          }
        },
        "1f45497076be4e2c86db14dc86e8ef25": {
          "model_module": "@jupyter-widgets/base",
          "model_name": "LayoutModel",
          "model_module_version": "1.2.0",
          "state": {
            "_model_module": "@jupyter-widgets/base",
            "_model_module_version": "1.2.0",
            "_model_name": "LayoutModel",
            "_view_count": null,
            "_view_module": "@jupyter-widgets/base",
            "_view_module_version": "1.2.0",
            "_view_name": "LayoutView",
            "align_content": null,
            "align_items": null,
            "align_self": null,
            "border": null,
            "bottom": null,
            "display": null,
            "flex": null,
            "flex_flow": null,
            "grid_area": null,
            "grid_auto_columns": null,
            "grid_auto_flow": null,
            "grid_auto_rows": null,
            "grid_column": null,
            "grid_gap": null,
            "grid_row": null,
            "grid_template_areas": null,
            "grid_template_columns": null,
            "grid_template_rows": null,
            "height": null,
            "justify_content": null,
            "justify_items": null,
            "left": null,
            "margin": null,
            "max_height": null,
            "max_width": null,
            "min_height": null,
            "min_width": null,
            "object_fit": null,
            "object_position": null,
            "order": null,
            "overflow": null,
            "overflow_x": null,
            "overflow_y": null,
            "padding": null,
            "right": null,
            "top": null,
            "visibility": null,
            "width": null
          }
        },
        "b1dc4d831634405aab515482c8c6aa02": {
          "model_module": "@jupyter-widgets/controls",
          "model_name": "ProgressStyleModel",
          "model_module_version": "1.5.0",
          "state": {
            "_model_module": "@jupyter-widgets/controls",
            "_model_module_version": "1.5.0",
            "_model_name": "ProgressStyleModel",
            "_view_count": null,
            "_view_module": "@jupyter-widgets/base",
            "_view_module_version": "1.2.0",
            "_view_name": "StyleView",
            "bar_color": null,
            "description_width": ""
          }
        },
        "8e5bbf81054c419a89164a0dd4ff7918": {
          "model_module": "@jupyter-widgets/base",
          "model_name": "LayoutModel",
          "model_module_version": "1.2.0",
          "state": {
            "_model_module": "@jupyter-widgets/base",
            "_model_module_version": "1.2.0",
            "_model_name": "LayoutModel",
            "_view_count": null,
            "_view_module": "@jupyter-widgets/base",
            "_view_module_version": "1.2.0",
            "_view_name": "LayoutView",
            "align_content": null,
            "align_items": null,
            "align_self": null,
            "border": null,
            "bottom": null,
            "display": null,
            "flex": null,
            "flex_flow": null,
            "grid_area": null,
            "grid_auto_columns": null,
            "grid_auto_flow": null,
            "grid_auto_rows": null,
            "grid_column": null,
            "grid_gap": null,
            "grid_row": null,
            "grid_template_areas": null,
            "grid_template_columns": null,
            "grid_template_rows": null,
            "height": null,
            "justify_content": null,
            "justify_items": null,
            "left": null,
            "margin": null,
            "max_height": null,
            "max_width": null,
            "min_height": null,
            "min_width": null,
            "object_fit": null,
            "object_position": null,
            "order": null,
            "overflow": null,
            "overflow_x": null,
            "overflow_y": null,
            "padding": null,
            "right": null,
            "top": null,
            "visibility": null,
            "width": null
          }
        },
        "d6ea86ba492d41f19ec90cc27570724d": {
          "model_module": "@jupyter-widgets/controls",
          "model_name": "DescriptionStyleModel",
          "model_module_version": "1.5.0",
          "state": {
            "_model_module": "@jupyter-widgets/controls",
            "_model_module_version": "1.5.0",
            "_model_name": "DescriptionStyleModel",
            "_view_count": null,
            "_view_module": "@jupyter-widgets/base",
            "_view_module_version": "1.2.0",
            "_view_name": "StyleView",
            "description_width": ""
          }
        },
        "7514d343d9ed43ee912fd888711f19ad": {
          "model_module": "@jupyter-widgets/controls",
          "model_name": "HBoxModel",
          "model_module_version": "1.5.0",
          "state": {
            "_dom_classes": [],
            "_model_module": "@jupyter-widgets/controls",
            "_model_module_version": "1.5.0",
            "_model_name": "HBoxModel",
            "_view_count": null,
            "_view_module": "@jupyter-widgets/controls",
            "_view_module_version": "1.5.0",
            "_view_name": "HBoxView",
            "box_style": "",
            "children": [
              "IPY_MODEL_9f0bf9df27ef4350b8a5b75e43f09934",
              "IPY_MODEL_4a9b08163e83479a8821f872ee07f15a",
              "IPY_MODEL_9b74ad65a87f44bfad3085c25cd757d4"
            ],
            "layout": "IPY_MODEL_e7972d1efe304c3488f574ec4836781c"
          }
        },
        "9f0bf9df27ef4350b8a5b75e43f09934": {
          "model_module": "@jupyter-widgets/controls",
          "model_name": "HTMLModel",
          "model_module_version": "1.5.0",
          "state": {
            "_dom_classes": [],
            "_model_module": "@jupyter-widgets/controls",
            "_model_module_version": "1.5.0",
            "_model_name": "HTMLModel",
            "_view_count": null,
            "_view_module": "@jupyter-widgets/controls",
            "_view_module_version": "1.5.0",
            "_view_name": "HTMLView",
            "description": "",
            "description_tooltip": null,
            "layout": "IPY_MODEL_095b1df674294b97ba9ba1511cdc69b4",
            "placeholder": "​",
            "style": "IPY_MODEL_ca5a363a98e5436f8ffe5916f4688385",
            "value": "100%"
          }
        },
        "4a9b08163e83479a8821f872ee07f15a": {
          "model_module": "@jupyter-widgets/controls",
          "model_name": "FloatProgressModel",
          "model_module_version": "1.5.0",
          "state": {
            "_dom_classes": [],
            "_model_module": "@jupyter-widgets/controls",
            "_model_module_version": "1.5.0",
            "_model_name": "FloatProgressModel",
            "_view_count": null,
            "_view_module": "@jupyter-widgets/controls",
            "_view_module_version": "1.5.0",
            "_view_name": "ProgressView",
            "bar_style": "success",
            "description": "",
            "description_tooltip": null,
            "layout": "IPY_MODEL_11a537ef0f334899bf2693da5e3dd1ab",
            "max": 83,
            "min": 0,
            "orientation": "horizontal",
            "style": "IPY_MODEL_fd4a449b82984c1ba61c46c9d715a0a4",
            "value": 83
          }
        },
        "9b74ad65a87f44bfad3085c25cd757d4": {
          "model_module": "@jupyter-widgets/controls",
          "model_name": "HTMLModel",
          "model_module_version": "1.5.0",
          "state": {
            "_dom_classes": [],
            "_model_module": "@jupyter-widgets/controls",
            "_model_module_version": "1.5.0",
            "_model_name": "HTMLModel",
            "_view_count": null,
            "_view_module": "@jupyter-widgets/controls",
            "_view_module_version": "1.5.0",
            "_view_name": "HTMLView",
            "description": "",
            "description_tooltip": null,
            "layout": "IPY_MODEL_909bff746fc84a7289c423db85728eb7",
            "placeholder": "​",
            "style": "IPY_MODEL_cdf778e8a4814f849c6746fa8908ceb9",
            "value": " 83/83 [00:24&lt;00:00,  4.96it/s]"
          }
        },
        "e7972d1efe304c3488f574ec4836781c": {
          "model_module": "@jupyter-widgets/base",
          "model_name": "LayoutModel",
          "model_module_version": "1.2.0",
          "state": {
            "_model_module": "@jupyter-widgets/base",
            "_model_module_version": "1.2.0",
            "_model_name": "LayoutModel",
            "_view_count": null,
            "_view_module": "@jupyter-widgets/base",
            "_view_module_version": "1.2.0",
            "_view_name": "LayoutView",
            "align_content": null,
            "align_items": null,
            "align_self": null,
            "border": null,
            "bottom": null,
            "display": null,
            "flex": null,
            "flex_flow": null,
            "grid_area": null,
            "grid_auto_columns": null,
            "grid_auto_flow": null,
            "grid_auto_rows": null,
            "grid_column": null,
            "grid_gap": null,
            "grid_row": null,
            "grid_template_areas": null,
            "grid_template_columns": null,
            "grid_template_rows": null,
            "height": null,
            "justify_content": null,
            "justify_items": null,
            "left": null,
            "margin": null,
            "max_height": null,
            "max_width": null,
            "min_height": null,
            "min_width": null,
            "object_fit": null,
            "object_position": null,
            "order": null,
            "overflow": null,
            "overflow_x": null,
            "overflow_y": null,
            "padding": null,
            "right": null,
            "top": null,
            "visibility": null,
            "width": null
          }
        },
        "095b1df674294b97ba9ba1511cdc69b4": {
          "model_module": "@jupyter-widgets/base",
          "model_name": "LayoutModel",
          "model_module_version": "1.2.0",
          "state": {
            "_model_module": "@jupyter-widgets/base",
            "_model_module_version": "1.2.0",
            "_model_name": "LayoutModel",
            "_view_count": null,
            "_view_module": "@jupyter-widgets/base",
            "_view_module_version": "1.2.0",
            "_view_name": "LayoutView",
            "align_content": null,
            "align_items": null,
            "align_self": null,
            "border": null,
            "bottom": null,
            "display": null,
            "flex": null,
            "flex_flow": null,
            "grid_area": null,
            "grid_auto_columns": null,
            "grid_auto_flow": null,
            "grid_auto_rows": null,
            "grid_column": null,
            "grid_gap": null,
            "grid_row": null,
            "grid_template_areas": null,
            "grid_template_columns": null,
            "grid_template_rows": null,
            "height": null,
            "justify_content": null,
            "justify_items": null,
            "left": null,
            "margin": null,
            "max_height": null,
            "max_width": null,
            "min_height": null,
            "min_width": null,
            "object_fit": null,
            "object_position": null,
            "order": null,
            "overflow": null,
            "overflow_x": null,
            "overflow_y": null,
            "padding": null,
            "right": null,
            "top": null,
            "visibility": null,
            "width": null
          }
        },
        "ca5a363a98e5436f8ffe5916f4688385": {
          "model_module": "@jupyter-widgets/controls",
          "model_name": "DescriptionStyleModel",
          "model_module_version": "1.5.0",
          "state": {
            "_model_module": "@jupyter-widgets/controls",
            "_model_module_version": "1.5.0",
            "_model_name": "DescriptionStyleModel",
            "_view_count": null,
            "_view_module": "@jupyter-widgets/base",
            "_view_module_version": "1.2.0",
            "_view_name": "StyleView",
            "description_width": ""
          }
        },
        "11a537ef0f334899bf2693da5e3dd1ab": {
          "model_module": "@jupyter-widgets/base",
          "model_name": "LayoutModel",
          "model_module_version": "1.2.0",
          "state": {
            "_model_module": "@jupyter-widgets/base",
            "_model_module_version": "1.2.0",
            "_model_name": "LayoutModel",
            "_view_count": null,
            "_view_module": "@jupyter-widgets/base",
            "_view_module_version": "1.2.0",
            "_view_name": "LayoutView",
            "align_content": null,
            "align_items": null,
            "align_self": null,
            "border": null,
            "bottom": null,
            "display": null,
            "flex": null,
            "flex_flow": null,
            "grid_area": null,
            "grid_auto_columns": null,
            "grid_auto_flow": null,
            "grid_auto_rows": null,
            "grid_column": null,
            "grid_gap": null,
            "grid_row": null,
            "grid_template_areas": null,
            "grid_template_columns": null,
            "grid_template_rows": null,
            "height": null,
            "justify_content": null,
            "justify_items": null,
            "left": null,
            "margin": null,
            "max_height": null,
            "max_width": null,
            "min_height": null,
            "min_width": null,
            "object_fit": null,
            "object_position": null,
            "order": null,
            "overflow": null,
            "overflow_x": null,
            "overflow_y": null,
            "padding": null,
            "right": null,
            "top": null,
            "visibility": null,
            "width": null
          }
        },
        "fd4a449b82984c1ba61c46c9d715a0a4": {
          "model_module": "@jupyter-widgets/controls",
          "model_name": "ProgressStyleModel",
          "model_module_version": "1.5.0",
          "state": {
            "_model_module": "@jupyter-widgets/controls",
            "_model_module_version": "1.5.0",
            "_model_name": "ProgressStyleModel",
            "_view_count": null,
            "_view_module": "@jupyter-widgets/base",
            "_view_module_version": "1.2.0",
            "_view_name": "StyleView",
            "bar_color": null,
            "description_width": ""
          }
        },
        "909bff746fc84a7289c423db85728eb7": {
          "model_module": "@jupyter-widgets/base",
          "model_name": "LayoutModel",
          "model_module_version": "1.2.0",
          "state": {
            "_model_module": "@jupyter-widgets/base",
            "_model_module_version": "1.2.0",
            "_model_name": "LayoutModel",
            "_view_count": null,
            "_view_module": "@jupyter-widgets/base",
            "_view_module_version": "1.2.0",
            "_view_name": "LayoutView",
            "align_content": null,
            "align_items": null,
            "align_self": null,
            "border": null,
            "bottom": null,
            "display": null,
            "flex": null,
            "flex_flow": null,
            "grid_area": null,
            "grid_auto_columns": null,
            "grid_auto_flow": null,
            "grid_auto_rows": null,
            "grid_column": null,
            "grid_gap": null,
            "grid_row": null,
            "grid_template_areas": null,
            "grid_template_columns": null,
            "grid_template_rows": null,
            "height": null,
            "justify_content": null,
            "justify_items": null,
            "left": null,
            "margin": null,
            "max_height": null,
            "max_width": null,
            "min_height": null,
            "min_width": null,
            "object_fit": null,
            "object_position": null,
            "order": null,
            "overflow": null,
            "overflow_x": null,
            "overflow_y": null,
            "padding": null,
            "right": null,
            "top": null,
            "visibility": null,
            "width": null
          }
        },
        "cdf778e8a4814f849c6746fa8908ceb9": {
          "model_module": "@jupyter-widgets/controls",
          "model_name": "DescriptionStyleModel",
          "model_module_version": "1.5.0",
          "state": {
            "_model_module": "@jupyter-widgets/controls",
            "_model_module_version": "1.5.0",
            "_model_name": "DescriptionStyleModel",
            "_view_count": null,
            "_view_module": "@jupyter-widgets/base",
            "_view_module_version": "1.2.0",
            "_view_name": "StyleView",
            "description_width": ""
          }
        }
      }
    },
    "colab": {
      "provenance": [],
      "collapsed_sections": [
        "c2019cc3"
      ]
    },
    "accelerator": "GPU"
  },
  "nbformat": 4,
  "nbformat_minor": 5
}